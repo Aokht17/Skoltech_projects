{
 "cells": [
  {
   "cell_type": "code",
   "execution_count": null,
   "metadata": {
    "id": "i_ZjLivbt3Wl"
   },
   "outputs": [],
   "source": [
    "import pandas as pd\n",
    "import numpy as np\n",
    "from collections import Counter\n",
    "import json\n",
    "from tqdm import tqdm\n",
    "from pathlib import Path\n",
    "from scipy.stats import spearmanr\n",
    "from sklearn.metrics import mean_absolute_error"
   ]
  },
  {
   "cell_type": "code",
   "execution_count": null,
   "metadata": {
    "id": "RZPBh4pauBDg"
   },
   "outputs": [],
   "source": [
    "dataset = pd.read_csv('/content/brenda.csv')"
   ]
  },
  {
   "cell_type": "code",
   "execution_count": null,
   "metadata": {
    "colab": {
     "base_uri": "https://localhost:8080/",
     "height": 505
    },
    "id": "0U-oNDIUuslI",
    "outputId": "3690e5e1-f59d-4c63-ae96-5353d83aeff8"
   },
   "outputs": [
    {
     "data": {
      "text/html": [
       "\n",
       "  <div id=\"df-689cc3dd-df3e-44a8-a242-6ba11fcbc46f\">\n",
       "    <div class=\"colab-df-container\">\n",
       "      <div>\n",
       "<style scoped>\n",
       "    .dataframe tbody tr th:only-of-type {\n",
       "        vertical-align: middle;\n",
       "    }\n",
       "\n",
       "    .dataframe tbody tr th {\n",
       "        vertical-align: top;\n",
       "    }\n",
       "\n",
       "    .dataframe thead th {\n",
       "        text-align: right;\n",
       "    }\n",
       "</style>\n",
       "<table border=\"1\" class=\"dataframe\">\n",
       "  <thead>\n",
       "    <tr style=\"text-align: right;\">\n",
       "      <th></th>\n",
       "      <th>Unnamed: 0</th>\n",
       "      <th>sequence</th>\n",
       "      <th>Unnamed: 0.1</th>\n",
       "      <th>acc</th>\n",
       "      <th>mean_pH</th>\n",
       "      <th>std</th>\n",
       "      <th>split_0</th>\n",
       "      <th>split_1</th>\n",
       "      <th>lower_pH</th>\n",
       "      <th>upper_pH</th>\n",
       "      <th>len</th>\n",
       "      <th>0.2_split</th>\n",
       "      <th>0.4_split</th>\n",
       "      <th>0.6_split</th>\n",
       "      <th>seq_len</th>\n",
       "    </tr>\n",
       "  </thead>\n",
       "  <tbody>\n",
       "    <tr>\n",
       "      <th>0</th>\n",
       "      <td>0</td>\n",
       "      <td>AAGAEGKGTSFXFPQITLWQRPLVTVXIEGQLREALLDTGADDTVF...</td>\n",
       "      <td>104593.5</td>\n",
       "      <td>256230.0</td>\n",
       "      <td>7.700</td>\n",
       "      <td>0.424264</td>\n",
       "      <td>1</td>\n",
       "      <td>0</td>\n",
       "      <td>NaN</td>\n",
       "      <td>NaN</td>\n",
       "      <td>NaN</td>\n",
       "      <td>train</td>\n",
       "      <td>train</td>\n",
       "      <td>train</td>\n",
       "      <td>453</td>\n",
       "    </tr>\n",
       "    <tr>\n",
       "      <th>1</th>\n",
       "      <td>1</td>\n",
       "      <td>AAGQEGQGAISSFSFPQITLWQRPLVTVRIEGQLIEALLDTGADDT...</td>\n",
       "      <td>114869.0</td>\n",
       "      <td>346415.0</td>\n",
       "      <td>7.700</td>\n",
       "      <td>0.424264</td>\n",
       "      <td>1</td>\n",
       "      <td>0</td>\n",
       "      <td>NaN</td>\n",
       "      <td>NaN</td>\n",
       "      <td>NaN</td>\n",
       "      <td>train</td>\n",
       "      <td>train</td>\n",
       "      <td>train</td>\n",
       "      <td>440</td>\n",
       "    </tr>\n",
       "    <tr>\n",
       "      <th>2</th>\n",
       "      <td>2</td>\n",
       "      <td>AAICIYPRFIPIARKTLKEQGTPEIRIATVTNFPHGNDDIEIALAE...</td>\n",
       "      <td>103510.8</td>\n",
       "      <td>289661.8</td>\n",
       "      <td>7.900</td>\n",
       "      <td>0.675463</td>\n",
       "      <td>1</td>\n",
       "      <td>0</td>\n",
       "      <td>NaN</td>\n",
       "      <td>NaN</td>\n",
       "      <td>NaN</td>\n",
       "      <td>test</td>\n",
       "      <td>train</td>\n",
       "      <td>test</td>\n",
       "      <td>216</td>\n",
       "    </tr>\n",
       "    <tr>\n",
       "      <th>3</th>\n",
       "      <td>3</td>\n",
       "      <td>AAICIYPRFIPIARKTLKEQGTPEIRIATVTNFPHGNDDIEIALAE...</td>\n",
       "      <td>103487.8</td>\n",
       "      <td>289638.8</td>\n",
       "      <td>7.900</td>\n",
       "      <td>0.675463</td>\n",
       "      <td>1</td>\n",
       "      <td>0</td>\n",
       "      <td>NaN</td>\n",
       "      <td>NaN</td>\n",
       "      <td>NaN</td>\n",
       "      <td>test</td>\n",
       "      <td>train</td>\n",
       "      <td>test</td>\n",
       "      <td>216</td>\n",
       "    </tr>\n",
       "    <tr>\n",
       "      <th>4</th>\n",
       "      <td>4</td>\n",
       "      <td>AALAGYKWLGRGDKNTADGAAVNAMRIMLNQVNIDGTIVIGEGEID...</td>\n",
       "      <td>144346.5</td>\n",
       "      <td>442634.5</td>\n",
       "      <td>7.650</td>\n",
       "      <td>0.212132</td>\n",
       "      <td>1</td>\n",
       "      <td>0</td>\n",
       "      <td>NaN</td>\n",
       "      <td>NaN</td>\n",
       "      <td>NaN</td>\n",
       "      <td>test</td>\n",
       "      <td>test</td>\n",
       "      <td>test</td>\n",
       "      <td>321</td>\n",
       "    </tr>\n",
       "    <tr>\n",
       "      <th>...</th>\n",
       "      <td>...</td>\n",
       "      <td>...</td>\n",
       "      <td>...</td>\n",
       "      <td>...</td>\n",
       "      <td>...</td>\n",
       "      <td>...</td>\n",
       "      <td>...</td>\n",
       "      <td>...</td>\n",
       "      <td>...</td>\n",
       "      <td>...</td>\n",
       "      <td>...</td>\n",
       "      <td>...</td>\n",
       "      <td>...</td>\n",
       "      <td>...</td>\n",
       "      <td>...</td>\n",
       "    </tr>\n",
       "    <tr>\n",
       "      <th>40920</th>\n",
       "      <td>40920</td>\n",
       "      <td>VIRSENFTNNARTIIVQLKEAVEINCTRPYNNTRRSIHIGPGRAFF...</td>\n",
       "      <td>2839.0</td>\n",
       "      <td>O92261</td>\n",
       "      <td>7.625</td>\n",
       "      <td>0.176777</td>\n",
       "      <td>0</td>\n",
       "      <td>1</td>\n",
       "      <td>6.750000</td>\n",
       "      <td>8.500000</td>\n",
       "      <td>199.0</td>\n",
       "      <td>train</td>\n",
       "      <td>train</td>\n",
       "      <td>train</td>\n",
       "      <td>199</td>\n",
       "    </tr>\n",
       "    <tr>\n",
       "      <th>40921</th>\n",
       "      <td>40921</td>\n",
       "      <td>VSHRVRTCDTVDGGYQCFPQLSHRWGQYSPYFSLANTGLPSEVPEK...</td>\n",
       "      <td>2840.0</td>\n",
       "      <td>D9I0I9</td>\n",
       "      <td>5.250</td>\n",
       "      <td>0.353553</td>\n",
       "      <td>0</td>\n",
       "      <td>1</td>\n",
       "      <td>4.250000</td>\n",
       "      <td>6.250000</td>\n",
       "      <td>447.0</td>\n",
       "      <td>test</td>\n",
       "      <td>test</td>\n",
       "      <td>test</td>\n",
       "      <td>447</td>\n",
       "    </tr>\n",
       "    <tr>\n",
       "      <th>40922</th>\n",
       "      <td>40922</td>\n",
       "      <td>WHQWKRMYNKEYNGADDEHRRNIWEKNVKHIEEHNLRHDRGLVTYK...</td>\n",
       "      <td>2841.0</td>\n",
       "      <td>B3TM67</td>\n",
       "      <td>5.500</td>\n",
       "      <td>0.707107</td>\n",
       "      <td>0</td>\n",
       "      <td>1</td>\n",
       "      <td>5.500000</td>\n",
       "      <td>5.500000</td>\n",
       "      <td>306.0</td>\n",
       "      <td>train</td>\n",
       "      <td>test</td>\n",
       "      <td>test</td>\n",
       "      <td>306</td>\n",
       "    </tr>\n",
       "    <tr>\n",
       "      <th>40923</th>\n",
       "      <td>40923</td>\n",
       "      <td>WLLVLSALVAFAECFHKIPLIKGKTAREALQEKGIWEEYRKEHPYN...</td>\n",
       "      <td>2842.0</td>\n",
       "      <td>Q6HA04</td>\n",
       "      <td>2.250</td>\n",
       "      <td>0.250000</td>\n",
       "      <td>0</td>\n",
       "      <td>1</td>\n",
       "      <td>1.333333</td>\n",
       "      <td>3.166667</td>\n",
       "      <td>373.0</td>\n",
       "      <td>test</td>\n",
       "      <td>test</td>\n",
       "      <td>test</td>\n",
       "      <td>373</td>\n",
       "    </tr>\n",
       "    <tr>\n",
       "      <th>40924</th>\n",
       "      <td>40924</td>\n",
       "      <td>YQLPANLKKIYDSHKSGTCSKKLSSAFSGGAVYCGDLPNAIFLKGK...</td>\n",
       "      <td>2843.0</td>\n",
       "      <td>B0LV85</td>\n",
       "      <td>5.300</td>\n",
       "      <td>0.424264</td>\n",
       "      <td>0</td>\n",
       "      <td>1</td>\n",
       "      <td>4.900000</td>\n",
       "      <td>5.700000</td>\n",
       "      <td>217.0</td>\n",
       "      <td>train</td>\n",
       "      <td>test</td>\n",
       "      <td>test</td>\n",
       "      <td>217</td>\n",
       "    </tr>\n",
       "  </tbody>\n",
       "</table>\n",
       "<p>40925 rows × 15 columns</p>\n",
       "</div>\n",
       "      <button class=\"colab-df-convert\" onclick=\"convertToInteractive('df-689cc3dd-df3e-44a8-a242-6ba11fcbc46f')\"\n",
       "              title=\"Convert this dataframe to an interactive table.\"\n",
       "              style=\"display:none;\">\n",
       "        \n",
       "  <svg xmlns=\"http://www.w3.org/2000/svg\" height=\"24px\"viewBox=\"0 0 24 24\"\n",
       "       width=\"24px\">\n",
       "    <path d=\"M0 0h24v24H0V0z\" fill=\"none\"/>\n",
       "    <path d=\"M18.56 5.44l.94 2.06.94-2.06 2.06-.94-2.06-.94-.94-2.06-.94 2.06-2.06.94zm-11 1L8.5 8.5l.94-2.06 2.06-.94-2.06-.94L8.5 2.5l-.94 2.06-2.06.94zm10 10l.94 2.06.94-2.06 2.06-.94-2.06-.94-.94-2.06-.94 2.06-2.06.94z\"/><path d=\"M17.41 7.96l-1.37-1.37c-.4-.4-.92-.59-1.43-.59-.52 0-1.04.2-1.43.59L10.3 9.45l-7.72 7.72c-.78.78-.78 2.05 0 2.83L4 21.41c.39.39.9.59 1.41.59.51 0 1.02-.2 1.41-.59l7.78-7.78 2.81-2.81c.8-.78.8-2.07 0-2.86zM5.41 20L4 18.59l7.72-7.72 1.47 1.35L5.41 20z\"/>\n",
       "  </svg>\n",
       "      </button>\n",
       "      \n",
       "  <style>\n",
       "    .colab-df-container {\n",
       "      display:flex;\n",
       "      flex-wrap:wrap;\n",
       "      gap: 12px;\n",
       "    }\n",
       "\n",
       "    .colab-df-convert {\n",
       "      background-color: #E8F0FE;\n",
       "      border: none;\n",
       "      border-radius: 50%;\n",
       "      cursor: pointer;\n",
       "      display: none;\n",
       "      fill: #1967D2;\n",
       "      height: 32px;\n",
       "      padding: 0 0 0 0;\n",
       "      width: 32px;\n",
       "    }\n",
       "\n",
       "    .colab-df-convert:hover {\n",
       "      background-color: #E2EBFA;\n",
       "      box-shadow: 0px 1px 2px rgba(60, 64, 67, 0.3), 0px 1px 3px 1px rgba(60, 64, 67, 0.15);\n",
       "      fill: #174EA6;\n",
       "    }\n",
       "\n",
       "    [theme=dark] .colab-df-convert {\n",
       "      background-color: #3B4455;\n",
       "      fill: #D2E3FC;\n",
       "    }\n",
       "\n",
       "    [theme=dark] .colab-df-convert:hover {\n",
       "      background-color: #434B5C;\n",
       "      box-shadow: 0px 1px 3px 1px rgba(0, 0, 0, 0.15);\n",
       "      filter: drop-shadow(0px 1px 2px rgba(0, 0, 0, 0.3));\n",
       "      fill: #FFFFFF;\n",
       "    }\n",
       "  </style>\n",
       "\n",
       "      <script>\n",
       "        const buttonEl =\n",
       "          document.querySelector('#df-689cc3dd-df3e-44a8-a242-6ba11fcbc46f button.colab-df-convert');\n",
       "        buttonEl.style.display =\n",
       "          google.colab.kernel.accessAllowed ? 'block' : 'none';\n",
       "\n",
       "        async function convertToInteractive(key) {\n",
       "          const element = document.querySelector('#df-689cc3dd-df3e-44a8-a242-6ba11fcbc46f');\n",
       "          const dataTable =\n",
       "            await google.colab.kernel.invokeFunction('convertToInteractive',\n",
       "                                                     [key], {});\n",
       "          if (!dataTable) return;\n",
       "\n",
       "          const docLinkHtml = 'Like what you see? Visit the ' +\n",
       "            '<a target=\"_blank\" href=https://colab.research.google.com/notebooks/data_table.ipynb>data table notebook</a>'\n",
       "            + ' to learn more about interactive tables.';\n",
       "          element.innerHTML = '';\n",
       "          dataTable['output_type'] = 'display_data';\n",
       "          await google.colab.output.renderOutput(dataTable, element);\n",
       "          const docLink = document.createElement('div');\n",
       "          docLink.innerHTML = docLinkHtml;\n",
       "          element.appendChild(docLink);\n",
       "        }\n",
       "      </script>\n",
       "    </div>\n",
       "  </div>\n",
       "  "
      ],
      "text/plain": [
       "       Unnamed: 0                                           sequence  \\\n",
       "0               0  AAGAEGKGTSFXFPQITLWQRPLVTVXIEGQLREALLDTGADDTVF...   \n",
       "1               1  AAGQEGQGAISSFSFPQITLWQRPLVTVRIEGQLIEALLDTGADDT...   \n",
       "2               2  AAICIYPRFIPIARKTLKEQGTPEIRIATVTNFPHGNDDIEIALAE...   \n",
       "3               3  AAICIYPRFIPIARKTLKEQGTPEIRIATVTNFPHGNDDIEIALAE...   \n",
       "4               4  AALAGYKWLGRGDKNTADGAAVNAMRIMLNQVNIDGTIVIGEGEID...   \n",
       "...           ...                                                ...   \n",
       "40920       40920  VIRSENFTNNARTIIVQLKEAVEINCTRPYNNTRRSIHIGPGRAFF...   \n",
       "40921       40921  VSHRVRTCDTVDGGYQCFPQLSHRWGQYSPYFSLANTGLPSEVPEK...   \n",
       "40922       40922  WHQWKRMYNKEYNGADDEHRRNIWEKNVKHIEEHNLRHDRGLVTYK...   \n",
       "40923       40923  WLLVLSALVAFAECFHKIPLIKGKTAREALQEKGIWEEYRKEHPYN...   \n",
       "40924       40924  YQLPANLKKIYDSHKSGTCSKKLSSAFSGGAVYCGDLPNAIFLKGK...   \n",
       "\n",
       "       Unnamed: 0.1       acc  mean_pH       std  split_0  split_1  lower_pH  \\\n",
       "0          104593.5  256230.0    7.700  0.424264        1        0       NaN   \n",
       "1          114869.0  346415.0    7.700  0.424264        1        0       NaN   \n",
       "2          103510.8  289661.8    7.900  0.675463        1        0       NaN   \n",
       "3          103487.8  289638.8    7.900  0.675463        1        0       NaN   \n",
       "4          144346.5  442634.5    7.650  0.212132        1        0       NaN   \n",
       "...             ...       ...      ...       ...      ...      ...       ...   \n",
       "40920        2839.0    O92261    7.625  0.176777        0        1  6.750000   \n",
       "40921        2840.0    D9I0I9    5.250  0.353553        0        1  4.250000   \n",
       "40922        2841.0    B3TM67    5.500  0.707107        0        1  5.500000   \n",
       "40923        2842.0    Q6HA04    2.250  0.250000        0        1  1.333333   \n",
       "40924        2843.0    B0LV85    5.300  0.424264        0        1  4.900000   \n",
       "\n",
       "       upper_pH    len 0.2_split 0.4_split 0.6_split  seq_len  \n",
       "0           NaN    NaN     train     train     train      453  \n",
       "1           NaN    NaN     train     train     train      440  \n",
       "2           NaN    NaN      test     train      test      216  \n",
       "3           NaN    NaN      test     train      test      216  \n",
       "4           NaN    NaN      test      test      test      321  \n",
       "...         ...    ...       ...       ...       ...      ...  \n",
       "40920  8.500000  199.0     train     train     train      199  \n",
       "40921  6.250000  447.0      test      test      test      447  \n",
       "40922  5.500000  306.0     train      test      test      306  \n",
       "40923  3.166667  373.0      test      test      test      373  \n",
       "40924  5.700000  217.0     train      test      test      217  \n",
       "\n",
       "[40925 rows x 15 columns]"
      ]
     },
     "execution_count": 9,
     "metadata": {},
     "output_type": "execute_result"
    }
   ],
   "source": [
    "dataset"
   ]
  },
  {
   "cell_type": "code",
   "execution_count": null,
   "metadata": {
    "id": "z08PJFVwuBF0"
   },
   "outputs": [],
   "source": [
    "# Getting k-mers from sequences\n",
    "def get_k_mers(seq, n):\n",
    "  return[seq[i:i+n] for i in range(len(seq)-(n-1))]"
   ]
  },
  {
   "cell_type": "code",
   "execution_count": null,
   "metadata": {
    "id": "FkpqPfjeuBIF"
   },
   "outputs": [],
   "source": [
    "# Making the splits (Homology split)\n",
    "\n",
    "def make_homology_split(df, thr):\n",
    "  df['test']= df['{}_split'.format(thr)].apply(lambda x: 0 if x == 'train' else 1)\n",
    "  \n",
    "def get_k_mer_table(df, k):\n",
    "  bad_aas = {'X','Y','U','B', 'O'}\n",
    "  df['kmers'] = df['sequence'].apply(lambda x: get_k_mers(x,k))\n",
    "  kmers = df[df['test']==0]['kmers'].values\n",
    "  mean_phs = df[df['test']==0]['mean_pH'].values\n",
    "\n",
    "  print('Filling the table of kmers with train examples...')\n",
    "\n",
    "  kmer_dict = {}\n",
    "  for m_ph, kmers_list in tqdm(zip(mean_phs, kmers)):\n",
    "    for kmer in kmers_list:\n",
    "      if bad_aas.intersection(kmer):\n",
    "        continue\n",
    "      if kmer_dict.get(kmer) is None:\n",
    "        kmer_dict[kmer]=(m_ph,1)\n",
    "      else:\n",
    "        previous_vals = np.array(kmer_dict[kmer])\n",
    "        kmer_dict[kmer] = tuple(previous_vals+(m_ph,1))\n",
    "\n",
    "  print('Averaging kmers...')\n",
    "  for kmer in tqdm(kmer_dict):\n",
    "    m_phs, N = kmer_dict[kmer]\n",
    "    m_ph = m_phs/N\n",
    "    kmer_dict[kmer] = m_ph\n",
    "  return kmer_dict"
   ]
  },
  {
   "cell_type": "code",
   "execution_count": null,
   "metadata": {
    "id": "UMdoVC-PvLD4"
   },
   "outputs": [],
   "source": [
    "def scoring_function(kmers, kmer_dict):\n",
    "  mean_ph = -1\n",
    "  count = 0\n",
    "\n",
    "  for kmer in kmers:\n",
    "    values = kmer_dict.get(kmer)\n",
    "    if values is not None:\n",
    "      m_ph = values\n",
    "      mean_ph += m_ph\n",
    "      count +=1\n",
    "\n",
    "  if (mean_ph != -1):\n",
    "    return (mean_ph + 1) / count\n",
    "  else:\n",
    "    return None"
   ]
  },
  {
   "cell_type": "code",
   "execution_count": null,
   "metadata": {
    "id": "CwbkmEnhvLMA"
   },
   "outputs": [],
   "source": [
    "output_dir = Path('/content/output')"
   ]
  },
  {
   "cell_type": "code",
   "execution_count": null,
   "metadata": {
    "id": "LiX6y894vyCv"
   },
   "outputs": [],
   "source": [
    "# Function to run the experiments\n",
    "def experiment(df, k, output_csv):\n",
    "  print('Scoring dataset...')\n",
    "  kmer_dict = get_k_mer_table(df, k)\n",
    "  kmers = df['kmers'].values\n",
    "  predicted_phs = []\n",
    "  for seq_kmers in kmers:\n",
    "    predicted_phs.append(scoring_function(seq_kmers, kmer_dict))\n",
    "  df['predicted_pH'] = predicted_phs\n",
    "  print(df['predicted_pH'])\n",
    "  df.to_csv(output_dir.joinpath(output_csv))"
   ]
  },
  {
   "cell_type": "markdown",
   "metadata": {
    "id": "5mPisl8hz9bz"
   },
   "source": [
    "We will use threshold 0.2 because it was shown previously that it gives the best result"
   ]
  },
  {
   "cell_type": "code",
   "execution_count": null,
   "metadata": {
    "colab": {
     "base_uri": "https://localhost:8080/"
    },
    "id": "SO_FDvxmvyG4",
    "outputId": "b164b763-fdce-4aaf-bef2-9cfe8572284d"
   },
   "outputs": [
    {
     "name": "stdout",
     "output_type": "stream",
     "text": [
      "Filling the table of kmers with train examples...\n"
     ]
    },
    {
     "name": "stderr",
     "output_type": "stream",
     "text": [
      "30693it [01:08, 451.17it/s]\n"
     ]
    },
    {
     "name": "stdout",
     "output_type": "stream",
     "text": [
      "Averaging kmers...\n"
     ]
    },
    {
     "name": "stderr",
     "output_type": "stream",
     "text": [
      "100%|██████████| 20/20 [00:00<00:00, 58867.42it/s]\n"
     ]
    },
    {
     "name": "stdout",
     "output_type": "stream",
     "text": [
      "Scoring dataset...\n",
      "Filling the table of kmers with train examples...\n"
     ]
    },
    {
     "name": "stderr",
     "output_type": "stream",
     "text": [
      "30693it [01:05, 469.94it/s]\n"
     ]
    },
    {
     "name": "stdout",
     "output_type": "stream",
     "text": [
      "Averaging kmers...\n"
     ]
    },
    {
     "name": "stderr",
     "output_type": "stream",
     "text": [
      "100%|██████████| 20/20 [00:00<00:00, 147168.56it/s]\n"
     ]
    },
    {
     "name": "stdout",
     "output_type": "stream",
     "text": [
      "0        7.532508\n",
      "1        7.532863\n",
      "2        7.534696\n",
      "3        7.534604\n",
      "4        7.536107\n",
      "           ...   \n",
      "40920    7.530738\n",
      "40921    7.530720\n",
      "40922    7.531633\n",
      "40923    7.526116\n",
      "40924    7.529921\n",
      "Name: predicted_pH, Length: 40925, dtype: float64\n",
      "Filling the table of kmers with train examples...\n"
     ]
    },
    {
     "name": "stderr",
     "output_type": "stream",
     "text": [
      "30693it [01:06, 462.58it/s]\n"
     ]
    },
    {
     "name": "stdout",
     "output_type": "stream",
     "text": [
      "Averaging kmers...\n"
     ]
    },
    {
     "name": "stderr",
     "output_type": "stream",
     "text": [
      "100%|██████████| 395/395 [00:00<00:00, 672382.34it/s]\n"
     ]
    },
    {
     "name": "stdout",
     "output_type": "stream",
     "text": [
      "Scoring dataset...\n",
      "Filling the table of kmers with train examples...\n"
     ]
    },
    {
     "name": "stderr",
     "output_type": "stream",
     "text": [
      "30693it [01:03, 480.22it/s]\n"
     ]
    },
    {
     "name": "stdout",
     "output_type": "stream",
     "text": [
      "Averaging kmers...\n"
     ]
    },
    {
     "name": "stderr",
     "output_type": "stream",
     "text": [
      "100%|██████████| 395/395 [00:00<00:00, 595310.84it/s]\n"
     ]
    },
    {
     "name": "stdout",
     "output_type": "stream",
     "text": [
      "0        7.537902\n",
      "1        7.538777\n",
      "2        7.536503\n",
      "3        7.536479\n",
      "4        7.538133\n",
      "           ...   \n",
      "40920    7.521380\n",
      "40921    7.527413\n",
      "40922    7.528172\n",
      "40923    7.514112\n",
      "40924    7.521718\n",
      "Name: predicted_pH, Length: 40925, dtype: float64\n",
      "Filling the table of kmers with train examples...\n"
     ]
    },
    {
     "name": "stderr",
     "output_type": "stream",
     "text": [
      "30693it [01:05, 470.22it/s]\n"
     ]
    },
    {
     "name": "stdout",
     "output_type": "stream",
     "text": [
      "Averaging kmers...\n"
     ]
    },
    {
     "name": "stderr",
     "output_type": "stream",
     "text": [
      "100%|██████████| 7033/7033 [00:00<00:00, 644593.67it/s]\n"
     ]
    },
    {
     "name": "stdout",
     "output_type": "stream",
     "text": [
      "Scoring dataset...\n",
      "Filling the table of kmers with train examples...\n"
     ]
    },
    {
     "name": "stderr",
     "output_type": "stream",
     "text": [
      "30693it [01:05, 470.51it/s]\n"
     ]
    },
    {
     "name": "stdout",
     "output_type": "stream",
     "text": [
      "Averaging kmers...\n"
     ]
    },
    {
     "name": "stderr",
     "output_type": "stream",
     "text": [
      "100%|██████████| 7033/7033 [00:00<00:00, 971209.30it/s]\n"
     ]
    },
    {
     "name": "stdout",
     "output_type": "stream",
     "text": [
      "0        7.563004\n",
      "1        7.564940\n",
      "2        7.517680\n",
      "3        7.517369\n",
      "4        7.539637\n",
      "           ...   \n",
      "40920    7.470933\n",
      "40921    7.514887\n",
      "40922    7.484127\n",
      "40923    7.474171\n",
      "40924    7.484151\n",
      "Name: predicted_pH, Length: 40925, dtype: float64\n",
      "Filling the table of kmers with train examples...\n"
     ]
    },
    {
     "name": "stderr",
     "output_type": "stream",
     "text": [
      "30693it [01:48, 283.81it/s]\n"
     ]
    },
    {
     "name": "stdout",
     "output_type": "stream",
     "text": [
      "Averaging kmers...\n"
     ]
    },
    {
     "name": "stderr",
     "output_type": "stream",
     "text": [
      "100%|██████████| 124397/124397 [00:00<00:00, 242164.24it/s]\n"
     ]
    },
    {
     "name": "stdout",
     "output_type": "stream",
     "text": [
      "Scoring dataset...\n",
      "Filling the table of kmers with train examples...\n"
     ]
    },
    {
     "name": "stderr",
     "output_type": "stream",
     "text": [
      "30693it [01:14, 410.99it/s]\n"
     ]
    },
    {
     "name": "stdout",
     "output_type": "stream",
     "text": [
      "Averaging kmers...\n"
     ]
    },
    {
     "name": "stderr",
     "output_type": "stream",
     "text": [
      "100%|██████████| 124397/124397 [00:00<00:00, 708293.63it/s]\n"
     ]
    },
    {
     "name": "stdout",
     "output_type": "stream",
     "text": [
      "0        7.572165\n",
      "1        7.577659\n",
      "2        7.486697\n",
      "3        7.481515\n",
      "4        7.463921\n",
      "           ...   \n",
      "40920    7.363598\n",
      "40921    7.303439\n",
      "40922    7.133943\n",
      "40923    7.290097\n",
      "40924    7.181974\n",
      "Name: predicted_pH, Length: 40925, dtype: float64\n",
      "Filling the table of kmers with train examples...\n"
     ]
    },
    {
     "name": "stderr",
     "output_type": "stream",
     "text": [
      "30693it [01:32, 330.34it/s]\n"
     ]
    },
    {
     "name": "stdout",
     "output_type": "stream",
     "text": [
      "Averaging kmers...\n"
     ]
    },
    {
     "name": "stderr",
     "output_type": "stream",
     "text": [
      "100%|██████████| 910860/910860 [00:01<00:00, 640792.44it/s]\n"
     ]
    },
    {
     "name": "stdout",
     "output_type": "stream",
     "text": [
      "Scoring dataset...\n",
      "Filling the table of kmers with train examples...\n"
     ]
    },
    {
     "name": "stderr",
     "output_type": "stream",
     "text": [
      "30693it [01:04, 477.07it/s]\n"
     ]
    },
    {
     "name": "stdout",
     "output_type": "stream",
     "text": [
      "Averaging kmers...\n"
     ]
    },
    {
     "name": "stderr",
     "output_type": "stream",
     "text": [
      "100%|██████████| 910860/910860 [00:01<00:00, 718803.84it/s]\n"
     ]
    },
    {
     "name": "stdout",
     "output_type": "stream",
     "text": [
      "0        7.569435\n",
      "1        7.584500\n",
      "2        7.682231\n",
      "3        7.678695\n",
      "4        7.521310\n",
      "           ...   \n",
      "40920    7.476763\n",
      "40921    7.089577\n",
      "40922    6.145769\n",
      "40923    7.015242\n",
      "40924    6.188391\n",
      "Name: predicted_pH, Length: 40925, dtype: float64\n",
      "Filling the table of kmers with train examples...\n"
     ]
    },
    {
     "name": "stderr",
     "output_type": "stream",
     "text": [
      "30693it [01:27, 348.83it/s] \n"
     ]
    },
    {
     "name": "stdout",
     "output_type": "stream",
     "text": [
      "Averaging kmers...\n"
     ]
    },
    {
     "name": "stderr",
     "output_type": "stream",
     "text": [
      "100%|██████████| 1502624/1502624 [00:01<00:00, 902675.05it/s]\n"
     ]
    },
    {
     "name": "stdout",
     "output_type": "stream",
     "text": [
      "Scoring dataset...\n",
      "Filling the table of kmers with train examples...\n"
     ]
    },
    {
     "name": "stderr",
     "output_type": "stream",
     "text": [
      "30693it [00:56, 545.19it/s] \n"
     ]
    },
    {
     "name": "stdout",
     "output_type": "stream",
     "text": [
      "Averaging kmers...\n"
     ]
    },
    {
     "name": "stderr",
     "output_type": "stream",
     "text": [
      "100%|██████████| 1502624/1502624 [00:01<00:00, 842915.44it/s]\n"
     ]
    },
    {
     "name": "stdout",
     "output_type": "stream",
     "text": [
      "0        7.571152\n",
      "1        7.588328\n",
      "2        7.881221\n",
      "3        7.880869\n",
      "4        7.635805\n",
      "           ...   \n",
      "40920    7.608205\n",
      "40921    6.337689\n",
      "40922    5.625759\n",
      "40923    6.212293\n",
      "40924    5.451136\n",
      "Name: predicted_pH, Length: 40925, dtype: float64\n",
      "Filling the table of kmers with train examples...\n"
     ]
    },
    {
     "name": "stderr",
     "output_type": "stream",
     "text": [
      "30693it [00:54, 561.05it/s] \n"
     ]
    },
    {
     "name": "stdout",
     "output_type": "stream",
     "text": [
      "Averaging kmers...\n"
     ]
    },
    {
     "name": "stderr",
     "output_type": "stream",
     "text": [
      "100%|██████████| 1581092/1581092 [00:01<00:00, 913508.54it/s]\n"
     ]
    },
    {
     "name": "stdout",
     "output_type": "stream",
     "text": [
      "Scoring dataset...\n",
      "Filling the table of kmers with train examples...\n"
     ]
    },
    {
     "name": "stderr",
     "output_type": "stream",
     "text": [
      "30693it [00:56, 539.14it/s] \n"
     ]
    },
    {
     "name": "stdout",
     "output_type": "stream",
     "text": [
      "Averaging kmers...\n"
     ]
    },
    {
     "name": "stderr",
     "output_type": "stream",
     "text": [
      "100%|██████████| 1581092/1581092 [00:01<00:00, 899106.04it/s]\n"
     ]
    },
    {
     "name": "stdout",
     "output_type": "stream",
     "text": [
      "0        7.571161\n",
      "1        7.590940\n",
      "2        7.897852\n",
      "3        7.897810\n",
      "4        7.652212\n",
      "           ...   \n",
      "40920    7.627611\n",
      "40921    5.475000\n",
      "40922    5.548107\n",
      "40923    4.466964\n",
      "40924    5.330745\n",
      "Name: predicted_pH, Length: 40925, dtype: float64\n",
      "Filling the table of kmers with train examples...\n"
     ]
    },
    {
     "name": "stderr",
     "output_type": "stream",
     "text": [
      "30693it [00:52, 582.61it/s] \n"
     ]
    },
    {
     "name": "stdout",
     "output_type": "stream",
     "text": [
      "Averaging kmers...\n"
     ]
    },
    {
     "name": "stderr",
     "output_type": "stream",
     "text": [
      "100%|██████████| 1586491/1586491 [00:01<00:00, 939534.72it/s]\n"
     ]
    },
    {
     "name": "stdout",
     "output_type": "stream",
     "text": [
      "Scoring dataset...\n",
      "Filling the table of kmers with train examples...\n"
     ]
    },
    {
     "name": "stderr",
     "output_type": "stream",
     "text": [
      "30693it [00:52, 585.24it/s] \n"
     ]
    },
    {
     "name": "stdout",
     "output_type": "stream",
     "text": [
      "Averaging kmers...\n"
     ]
    },
    {
     "name": "stderr",
     "output_type": "stream",
     "text": [
      "100%|██████████| 1586491/1586491 [00:01<00:00, 942515.79it/s]\n"
     ]
    },
    {
     "name": "stdout",
     "output_type": "stream",
     "text": [
      "0        7.570785\n",
      "1        7.593271\n",
      "2        7.900000\n",
      "3        7.900000\n",
      "4        7.650000\n",
      "           ...   \n",
      "40920    7.625000\n",
      "40921    5.250000\n",
      "40922    5.520113\n",
      "40923    3.981771\n",
      "40924    5.324265\n",
      "Name: predicted_pH, Length: 40925, dtype: float64\n",
      "Filling the table of kmers with train examples...\n"
     ]
    },
    {
     "name": "stderr",
     "output_type": "stream",
     "text": [
      "30693it [00:55, 556.29it/s] \n"
     ]
    },
    {
     "name": "stdout",
     "output_type": "stream",
     "text": [
      "Averaging kmers...\n"
     ]
    },
    {
     "name": "stderr",
     "output_type": "stream",
     "text": [
      "100%|██████████| 1583758/1583758 [00:01<00:00, 933353.73it/s]\n"
     ]
    },
    {
     "name": "stdout",
     "output_type": "stream",
     "text": [
      "Scoring dataset...\n",
      "Filling the table of kmers with train examples...\n"
     ]
    },
    {
     "name": "stderr",
     "output_type": "stream",
     "text": [
      "30693it [00:52, 582.54it/s] \n"
     ]
    },
    {
     "name": "stdout",
     "output_type": "stream",
     "text": [
      "Averaging kmers...\n"
     ]
    },
    {
     "name": "stderr",
     "output_type": "stream",
     "text": [
      "100%|██████████| 1583758/1583758 [00:01<00:00, 924031.61it/s]\n"
     ]
    },
    {
     "name": "stdout",
     "output_type": "stream",
     "text": [
      "0        7.570230\n",
      "1        7.595200\n",
      "2        7.900000\n",
      "3        7.900000\n",
      "4        7.650000\n",
      "           ...   \n",
      "40920    7.625000\n",
      "40921    5.250000\n",
      "40922    5.503849\n",
      "40923    3.840000\n",
      "40924    5.317069\n",
      "Name: predicted_pH, Length: 40925, dtype: float64\n",
      "Filling the table of kmers with train examples...\n"
     ]
    },
    {
     "name": "stderr",
     "output_type": "stream",
     "text": [
      "30693it [00:58, 520.77it/s] \n"
     ]
    },
    {
     "name": "stdout",
     "output_type": "stream",
     "text": [
      "Averaging kmers...\n"
     ]
    },
    {
     "name": "stderr",
     "output_type": "stream",
     "text": [
      "100%|██████████| 1579226/1579226 [00:01<00:00, 938002.97it/s]\n"
     ]
    },
    {
     "name": "stdout",
     "output_type": "stream",
     "text": [
      "Scoring dataset...\n",
      "Filling the table of kmers with train examples...\n"
     ]
    },
    {
     "name": "stderr",
     "output_type": "stream",
     "text": [
      "30693it [00:55, 548.91it/s] \n"
     ]
    },
    {
     "name": "stdout",
     "output_type": "stream",
     "text": [
      "Averaging kmers...\n"
     ]
    },
    {
     "name": "stderr",
     "output_type": "stream",
     "text": [
      "100%|██████████| 1579226/1579226 [00:01<00:00, 907441.37it/s]\n"
     ]
    },
    {
     "name": "stdout",
     "output_type": "stream",
     "text": [
      "0        7.570547\n",
      "1        7.597255\n",
      "2        7.900000\n",
      "3        7.900000\n",
      "4        7.650000\n",
      "           ...   \n",
      "40920    7.625000\n",
      "40921         NaN\n",
      "40922    5.499437\n",
      "40923    3.987500\n",
      "40924    5.309033\n",
      "Name: predicted_pH, Length: 40925, dtype: float64\n",
      "Filling the table of kmers with train examples...\n"
     ]
    },
    {
     "name": "stderr",
     "output_type": "stream",
     "text": [
      "30693it [00:57, 535.54it/s] \n"
     ]
    },
    {
     "name": "stdout",
     "output_type": "stream",
     "text": [
      "Averaging kmers...\n"
     ]
    },
    {
     "name": "stderr",
     "output_type": "stream",
     "text": [
      "100%|██████████| 1573591/1573591 [00:01<00:00, 926290.50it/s]\n"
     ]
    },
    {
     "name": "stdout",
     "output_type": "stream",
     "text": [
      "Scoring dataset...\n",
      "Filling the table of kmers with train examples...\n"
     ]
    },
    {
     "name": "stderr",
     "output_type": "stream",
     "text": [
      "30693it [00:50, 611.49it/s] \n"
     ]
    },
    {
     "name": "stdout",
     "output_type": "stream",
     "text": [
      "Averaging kmers...\n"
     ]
    },
    {
     "name": "stderr",
     "output_type": "stream",
     "text": [
      "100%|██████████| 1573591/1573591 [00:01<00:00, 905231.89it/s]\n"
     ]
    },
    {
     "name": "stdout",
     "output_type": "stream",
     "text": [
      "0        7.569133\n",
      "1        7.599412\n",
      "2        7.900000\n",
      "3        7.900000\n",
      "4        7.650000\n",
      "           ...   \n",
      "40920    7.625000\n",
      "40921         NaN\n",
      "40922    5.496362\n",
      "40923    3.987500\n",
      "40924    5.306346\n",
      "Name: predicted_pH, Length: 40925, dtype: float64\n",
      "Filling the table of kmers with train examples...\n"
     ]
    },
    {
     "name": "stderr",
     "output_type": "stream",
     "text": [
      "30693it [00:47, 645.33it/s] \n"
     ]
    },
    {
     "name": "stdout",
     "output_type": "stream",
     "text": [
      "Averaging kmers...\n"
     ]
    },
    {
     "name": "stderr",
     "output_type": "stream",
     "text": [
      "100%|██████████| 1567805/1567805 [00:01<00:00, 893985.02it/s]\n"
     ]
    },
    {
     "name": "stdout",
     "output_type": "stream",
     "text": [
      "Scoring dataset...\n",
      "Filling the table of kmers with train examples...\n"
     ]
    },
    {
     "name": "stderr",
     "output_type": "stream",
     "text": [
      "30693it [00:47, 640.08it/s] \n"
     ]
    },
    {
     "name": "stdout",
     "output_type": "stream",
     "text": [
      "Averaging kmers...\n"
     ]
    },
    {
     "name": "stderr",
     "output_type": "stream",
     "text": [
      "100%|██████████| 1567805/1567805 [00:01<00:00, 905723.53it/s]\n"
     ]
    },
    {
     "name": "stdout",
     "output_type": "stream",
     "text": [
      "0        7.568699\n",
      "1        7.601902\n",
      "2        7.900000\n",
      "3        7.900000\n",
      "4        7.650000\n",
      "           ...   \n",
      "40920    7.625000\n",
      "40921         NaN\n",
      "40922    5.497251\n",
      "40923    3.987500\n",
      "40924    5.303354\n",
      "Name: predicted_pH, Length: 40925, dtype: float64\n",
      "Filling the table of kmers with train examples...\n"
     ]
    },
    {
     "name": "stderr",
     "output_type": "stream",
     "text": [
      "30693it [00:48, 627.36it/s] \n"
     ]
    },
    {
     "name": "stdout",
     "output_type": "stream",
     "text": [
      "Averaging kmers...\n"
     ]
    },
    {
     "name": "stderr",
     "output_type": "stream",
     "text": [
      "100%|██████████| 1561540/1561540 [00:01<00:00, 867928.86it/s]\n"
     ]
    },
    {
     "name": "stdout",
     "output_type": "stream",
     "text": [
      "Scoring dataset...\n",
      "Filling the table of kmers with train examples...\n"
     ]
    },
    {
     "name": "stderr",
     "output_type": "stream",
     "text": [
      "30693it [00:51, 598.63it/s] \n"
     ]
    },
    {
     "name": "stdout",
     "output_type": "stream",
     "text": [
      "Averaging kmers...\n"
     ]
    },
    {
     "name": "stderr",
     "output_type": "stream",
     "text": [
      "100%|██████████| 1561540/1561540 [00:01<00:00, 853284.13it/s]\n"
     ]
    },
    {
     "name": "stdout",
     "output_type": "stream",
     "text": [
      "0        7.568861\n",
      "1        7.604500\n",
      "2        7.900000\n",
      "3        7.900000\n",
      "4        7.650000\n",
      "           ...   \n",
      "40920    7.625000\n",
      "40921         NaN\n",
      "40922    5.500000\n",
      "40923         NaN\n",
      "40924    5.300000\n",
      "Name: predicted_pH, Length: 40925, dtype: float64\n",
      "Filling the table of kmers with train examples...\n"
     ]
    },
    {
     "name": "stderr",
     "output_type": "stream",
     "text": [
      "30693it [00:46, 663.85it/s] \n"
     ]
    },
    {
     "name": "stdout",
     "output_type": "stream",
     "text": [
      "Averaging kmers...\n"
     ]
    },
    {
     "name": "stderr",
     "output_type": "stream",
     "text": [
      "100%|██████████| 1554895/1554895 [00:01<00:00, 859514.99it/s]\n"
     ]
    },
    {
     "name": "stdout",
     "output_type": "stream",
     "text": [
      "Scoring dataset...\n",
      "Filling the table of kmers with train examples...\n"
     ]
    },
    {
     "name": "stderr",
     "output_type": "stream",
     "text": [
      "30693it [00:45, 669.90it/s] \n"
     ]
    },
    {
     "name": "stdout",
     "output_type": "stream",
     "text": [
      "Averaging kmers...\n"
     ]
    },
    {
     "name": "stderr",
     "output_type": "stream",
     "text": [
      "100%|██████████| 1554895/1554895 [00:01<00:00, 911092.78it/s]\n"
     ]
    },
    {
     "name": "stdout",
     "output_type": "stream",
     "text": [
      "0        7.570209\n",
      "1        7.606801\n",
      "2        7.900000\n",
      "3        7.900000\n",
      "4        7.650000\n",
      "           ...   \n",
      "40920    7.625000\n",
      "40921         NaN\n",
      "40922    5.500000\n",
      "40923         NaN\n",
      "40924    5.300000\n",
      "Name: predicted_pH, Length: 40925, dtype: float64\n",
      "Filling the table of kmers with train examples...\n"
     ]
    },
    {
     "name": "stderr",
     "output_type": "stream",
     "text": [
      "30693it [00:45, 677.92it/s] \n"
     ]
    },
    {
     "name": "stdout",
     "output_type": "stream",
     "text": [
      "Averaging kmers...\n"
     ]
    },
    {
     "name": "stderr",
     "output_type": "stream",
     "text": [
      "100%|██████████| 1548290/1548290 [00:01<00:00, 904449.12it/s]\n"
     ]
    },
    {
     "name": "stdout",
     "output_type": "stream",
     "text": [
      "Scoring dataset...\n",
      "Filling the table of kmers with train examples...\n"
     ]
    },
    {
     "name": "stderr",
     "output_type": "stream",
     "text": [
      "30693it [00:44, 687.55it/s] \n"
     ]
    },
    {
     "name": "stdout",
     "output_type": "stream",
     "text": [
      "Averaging kmers...\n"
     ]
    },
    {
     "name": "stderr",
     "output_type": "stream",
     "text": [
      "100%|██████████| 1548290/1548290 [00:01<00:00, 873415.98it/s]\n"
     ]
    },
    {
     "name": "stdout",
     "output_type": "stream",
     "text": [
      "0        7.571944\n",
      "1        7.609356\n",
      "2        7.900000\n",
      "3        7.900000\n",
      "4        7.650000\n",
      "           ...   \n",
      "40920    7.625000\n",
      "40921         NaN\n",
      "40922    5.500000\n",
      "40923         NaN\n",
      "40924    5.300000\n",
      "Name: predicted_pH, Length: 40925, dtype: float64\n"
     ]
    }
   ],
   "source": [
    "# Running the experiment with a homology split\n",
    "for k in range(1,16):\n",
    "  make_homology_split(dataset, 0.2)\n",
    "  name = 'brenda_k_{}_thr_0.2.csv'.format(k)\n",
    "  experiment(dataset, k, name)"
   ]
  },
  {
   "cell_type": "code",
   "execution_count": null,
   "metadata": {
    "id": "bZyA4tyNvyJX"
   },
   "outputs": [],
   "source": [
    "# Defining the function to calculate performance\n",
    "def calculate_metrics(df):\n",
    "  df['error'] = np.abs(df['mean_pH'] - df['predicted_pH'])\n",
    "  y_pred = df[(df['test'] ==1) & (df['predicted_pH'].notna())]['predicted_pH'].values\n",
    "  y_true = df[(df['test'] ==1) & (df['predicted_pH'].notna())]['mean_pH'].values\n",
    "  N= df[df['test']==1].shape[0]\n",
    "\n",
    "  mae = mean_absolute_error(y_true, y_pred)\n",
    "  spr = spearmanr(y_pred, y_true)[0]\n",
    "  perc_of_scored_seqs = 100*len(y_pred)/N\n",
    "\n",
    "  print('Mean absolute error:', round(mae,2))\n",
    "  print('Spearman correlation coefficient:', round(spr,2))\n",
    "  print('Number of scored sequences:', len(y_pred))\n",
    "  print('Percentage of scored sequences:', round(perc_of_scored_seqs, 1))\n",
    "  return round(mae,2), round(spr,2), len(y_pred), round(perc_of_scored_seqs, 1)"
   ]
  },
  {
   "cell_type": "code",
   "execution_count": null,
   "metadata": {
    "id": "q9RpIMqQvyLT"
   },
   "outputs": [],
   "source": [
    "# Printing out the resulting stats\n",
    "\n",
    "%%capture\n",
    "\n",
    "k_1metrics = calculate_metrics(pd.read_csv('/content/output/brenda_k_1_thr_0.2.csv'))\n",
    "k_2metrics = calculate_metrics(pd.read_csv('/content/output/brenda_k_2_thr_0.2.csv'))\n",
    "k_3metrics = calculate_metrics(pd.read_csv('/content/output/brenda_k_3_thr_0.2.csv'))\n",
    "k_4metrics = calculate_metrics(pd.read_csv('/content/output/brenda_k_4_thr_0.2.csv'))\n",
    "k_5metrics = calculate_metrics(pd.read_csv('/content/output/brenda_k_5_thr_0.2.csv'))\n",
    "k_6metrics = calculate_metrics(pd.read_csv('/content/output/brenda_k_6_thr_0.2.csv'))\n",
    "k_7metrics = calculate_metrics(pd.read_csv('/content/output/brenda_k_7_thr_0.2.csv'))\n",
    "k_8metrics = calculate_metrics(pd.read_csv('/content/output/brenda_k_8_thr_0.2.csv'))\n",
    "k_9metrics = calculate_metrics(pd.read_csv('/content/output/brenda_k_9_thr_0.2.csv'))\n",
    "k_10metrics = calculate_metrics(pd.read_csv('/content/output/brenda_k_10_thr_0.2.csv'))\n",
    "k_11metrics = calculate_metrics(pd.read_csv('/content/output/brenda_k_11_thr_0.2.csv'))\n",
    "k_12metrics = calculate_metrics(pd.read_csv('/content/output/brenda_k_12_thr_0.2.csv'))\n",
    "k_13metrics = calculate_metrics(pd.read_csv('/content/output/brenda_k_13_thr_0.2.csv'))\n",
    "k_14metrics = calculate_metrics(pd.read_csv('/content/output/brenda_k_14_thr_0.2.csv'))\n",
    "k_15metrics = calculate_metrics(pd.read_csv('/content/output/brenda_k_15_thr_0.2.csv'))\n",
    "\n",
    "\n",
    "column_list = ['MAE', 'Spearman Correlation Rank', '# of scored sequences', '% of scored sequences']\n",
    "\n",
    "stats = pd.DataFrame(list(zip(k_1metrics, k_2metrics, k_3metrics, k_4metrics, k_5metrics,k_6metrics, k_7metrics,\n",
    "                              k_8metrics, k_9metrics, k_10metrics, k_11metrics, k_12metrics, k_13metrics,\n",
    "                              k_14metrics, k_15metrics))).T\n",
    "stats.columns = column_list\n",
    "parameters = [f'k={i}' for i in range(1,16)]\n",
    "stats.insert(loc=0, column = 'Parameter Set', value = parameters)"
   ]
  },
  {
   "cell_type": "code",
   "execution_count": null,
   "metadata": {
    "colab": {
     "base_uri": "https://localhost:8080/",
     "height": 520
    },
    "id": "3Ihq816-vyNk",
    "outputId": "2f15ea04-b413-458b-9ea6-817304f130ea"
   },
   "outputs": [
    {
     "data": {
      "text/html": [
       "\n",
       "  <div id=\"df-d17206fa-8994-47c2-be5a-84e5cfeaf27a\">\n",
       "    <div class=\"colab-df-container\">\n",
       "      <div>\n",
       "<style scoped>\n",
       "    .dataframe tbody tr th:only-of-type {\n",
       "        vertical-align: middle;\n",
       "    }\n",
       "\n",
       "    .dataframe tbody tr th {\n",
       "        vertical-align: top;\n",
       "    }\n",
       "\n",
       "    .dataframe thead th {\n",
       "        text-align: right;\n",
       "    }\n",
       "</style>\n",
       "<table border=\"1\" class=\"dataframe\">\n",
       "  <thead>\n",
       "    <tr style=\"text-align: right;\">\n",
       "      <th></th>\n",
       "      <th>Parameter Set</th>\n",
       "      <th>MAE</th>\n",
       "      <th>Spearman Correlation Rank</th>\n",
       "      <th># of scored sequences</th>\n",
       "      <th>% of scored sequences</th>\n",
       "    </tr>\n",
       "  </thead>\n",
       "  <tbody>\n",
       "    <tr>\n",
       "      <th>0</th>\n",
       "      <td>k=1</td>\n",
       "      <td>0.62</td>\n",
       "      <td>0.19</td>\n",
       "      <td>10232.0</td>\n",
       "      <td>100.0</td>\n",
       "    </tr>\n",
       "    <tr>\n",
       "      <th>1</th>\n",
       "      <td>k=2</td>\n",
       "      <td>0.62</td>\n",
       "      <td>0.20</td>\n",
       "      <td>10232.0</td>\n",
       "      <td>100.0</td>\n",
       "    </tr>\n",
       "    <tr>\n",
       "      <th>2</th>\n",
       "      <td>k=3</td>\n",
       "      <td>0.62</td>\n",
       "      <td>0.27</td>\n",
       "      <td>10232.0</td>\n",
       "      <td>100.0</td>\n",
       "    </tr>\n",
       "    <tr>\n",
       "      <th>3</th>\n",
       "      <td>k=4</td>\n",
       "      <td>0.60</td>\n",
       "      <td>0.55</td>\n",
       "      <td>10232.0</td>\n",
       "      <td>100.0</td>\n",
       "    </tr>\n",
       "    <tr>\n",
       "      <th>4</th>\n",
       "      <td>k=5</td>\n",
       "      <td>0.45</td>\n",
       "      <td>0.71</td>\n",
       "      <td>10232.0</td>\n",
       "      <td>100.0</td>\n",
       "    </tr>\n",
       "    <tr>\n",
       "      <th>5</th>\n",
       "      <td>k=6</td>\n",
       "      <td>0.26</td>\n",
       "      <td>0.79</td>\n",
       "      <td>10232.0</td>\n",
       "      <td>100.0</td>\n",
       "    </tr>\n",
       "    <tr>\n",
       "      <th>6</th>\n",
       "      <td>k=7</td>\n",
       "      <td>0.21</td>\n",
       "      <td>0.83</td>\n",
       "      <td>10066.0</td>\n",
       "      <td>98.4</td>\n",
       "    </tr>\n",
       "    <tr>\n",
       "      <th>7</th>\n",
       "      <td>k=8</td>\n",
       "      <td>0.17</td>\n",
       "      <td>0.86</td>\n",
       "      <td>9511.0</td>\n",
       "      <td>93.0</td>\n",
       "    </tr>\n",
       "    <tr>\n",
       "      <th>8</th>\n",
       "      <td>k=9</td>\n",
       "      <td>0.14</td>\n",
       "      <td>0.89</td>\n",
       "      <td>9189.0</td>\n",
       "      <td>89.8</td>\n",
       "    </tr>\n",
       "    <tr>\n",
       "      <th>9</th>\n",
       "      <td>k=10</td>\n",
       "      <td>0.13</td>\n",
       "      <td>0.89</td>\n",
       "      <td>8997.0</td>\n",
       "      <td>87.9</td>\n",
       "    </tr>\n",
       "    <tr>\n",
       "      <th>10</th>\n",
       "      <td>k=11</td>\n",
       "      <td>0.12</td>\n",
       "      <td>0.90</td>\n",
       "      <td>8738.0</td>\n",
       "      <td>85.4</td>\n",
       "    </tr>\n",
       "    <tr>\n",
       "      <th>11</th>\n",
       "      <td>k=12</td>\n",
       "      <td>0.12</td>\n",
       "      <td>0.90</td>\n",
       "      <td>8416.0</td>\n",
       "      <td>82.3</td>\n",
       "    </tr>\n",
       "    <tr>\n",
       "      <th>12</th>\n",
       "      <td>k=13</td>\n",
       "      <td>0.11</td>\n",
       "      <td>0.90</td>\n",
       "      <td>8151.0</td>\n",
       "      <td>79.7</td>\n",
       "    </tr>\n",
       "    <tr>\n",
       "      <th>13</th>\n",
       "      <td>k=14</td>\n",
       "      <td>0.10</td>\n",
       "      <td>0.92</td>\n",
       "      <td>7929.0</td>\n",
       "      <td>77.5</td>\n",
       "    </tr>\n",
       "    <tr>\n",
       "      <th>14</th>\n",
       "      <td>k=15</td>\n",
       "      <td>0.09</td>\n",
       "      <td>0.93</td>\n",
       "      <td>7644.0</td>\n",
       "      <td>74.7</td>\n",
       "    </tr>\n",
       "  </tbody>\n",
       "</table>\n",
       "</div>\n",
       "      <button class=\"colab-df-convert\" onclick=\"convertToInteractive('df-d17206fa-8994-47c2-be5a-84e5cfeaf27a')\"\n",
       "              title=\"Convert this dataframe to an interactive table.\"\n",
       "              style=\"display:none;\">\n",
       "        \n",
       "  <svg xmlns=\"http://www.w3.org/2000/svg\" height=\"24px\"viewBox=\"0 0 24 24\"\n",
       "       width=\"24px\">\n",
       "    <path d=\"M0 0h24v24H0V0z\" fill=\"none\"/>\n",
       "    <path d=\"M18.56 5.44l.94 2.06.94-2.06 2.06-.94-2.06-.94-.94-2.06-.94 2.06-2.06.94zm-11 1L8.5 8.5l.94-2.06 2.06-.94-2.06-.94L8.5 2.5l-.94 2.06-2.06.94zm10 10l.94 2.06.94-2.06 2.06-.94-2.06-.94-.94-2.06-.94 2.06-2.06.94z\"/><path d=\"M17.41 7.96l-1.37-1.37c-.4-.4-.92-.59-1.43-.59-.52 0-1.04.2-1.43.59L10.3 9.45l-7.72 7.72c-.78.78-.78 2.05 0 2.83L4 21.41c.39.39.9.59 1.41.59.51 0 1.02-.2 1.41-.59l7.78-7.78 2.81-2.81c.8-.78.8-2.07 0-2.86zM5.41 20L4 18.59l7.72-7.72 1.47 1.35L5.41 20z\"/>\n",
       "  </svg>\n",
       "      </button>\n",
       "      \n",
       "  <style>\n",
       "    .colab-df-container {\n",
       "      display:flex;\n",
       "      flex-wrap:wrap;\n",
       "      gap: 12px;\n",
       "    }\n",
       "\n",
       "    .colab-df-convert {\n",
       "      background-color: #E8F0FE;\n",
       "      border: none;\n",
       "      border-radius: 50%;\n",
       "      cursor: pointer;\n",
       "      display: none;\n",
       "      fill: #1967D2;\n",
       "      height: 32px;\n",
       "      padding: 0 0 0 0;\n",
       "      width: 32px;\n",
       "    }\n",
       "\n",
       "    .colab-df-convert:hover {\n",
       "      background-color: #E2EBFA;\n",
       "      box-shadow: 0px 1px 2px rgba(60, 64, 67, 0.3), 0px 1px 3px 1px rgba(60, 64, 67, 0.15);\n",
       "      fill: #174EA6;\n",
       "    }\n",
       "\n",
       "    [theme=dark] .colab-df-convert {\n",
       "      background-color: #3B4455;\n",
       "      fill: #D2E3FC;\n",
       "    }\n",
       "\n",
       "    [theme=dark] .colab-df-convert:hover {\n",
       "      background-color: #434B5C;\n",
       "      box-shadow: 0px 1px 3px 1px rgba(0, 0, 0, 0.15);\n",
       "      filter: drop-shadow(0px 1px 2px rgba(0, 0, 0, 0.3));\n",
       "      fill: #FFFFFF;\n",
       "    }\n",
       "  </style>\n",
       "\n",
       "      <script>\n",
       "        const buttonEl =\n",
       "          document.querySelector('#df-d17206fa-8994-47c2-be5a-84e5cfeaf27a button.colab-df-convert');\n",
       "        buttonEl.style.display =\n",
       "          google.colab.kernel.accessAllowed ? 'block' : 'none';\n",
       "\n",
       "        async function convertToInteractive(key) {\n",
       "          const element = document.querySelector('#df-d17206fa-8994-47c2-be5a-84e5cfeaf27a');\n",
       "          const dataTable =\n",
       "            await google.colab.kernel.invokeFunction('convertToInteractive',\n",
       "                                                     [key], {});\n",
       "          if (!dataTable) return;\n",
       "\n",
       "          const docLinkHtml = 'Like what you see? Visit the ' +\n",
       "            '<a target=\"_blank\" href=https://colab.research.google.com/notebooks/data_table.ipynb>data table notebook</a>'\n",
       "            + ' to learn more about interactive tables.';\n",
       "          element.innerHTML = '';\n",
       "          dataTable['output_type'] = 'display_data';\n",
       "          await google.colab.output.renderOutput(dataTable, element);\n",
       "          const docLink = document.createElement('div');\n",
       "          docLink.innerHTML = docLinkHtml;\n",
       "          element.appendChild(docLink);\n",
       "        }\n",
       "      </script>\n",
       "    </div>\n",
       "  </div>\n",
       "  "
      ],
      "text/plain": [
       "   Parameter Set   MAE  Spearman Correlation Rank  # of scored sequences  \\\n",
       "0            k=1  0.62                       0.19                10232.0   \n",
       "1            k=2  0.62                       0.20                10232.0   \n",
       "2            k=3  0.62                       0.27                10232.0   \n",
       "3            k=4  0.60                       0.55                10232.0   \n",
       "4            k=5  0.45                       0.71                10232.0   \n",
       "5            k=6  0.26                       0.79                10232.0   \n",
       "6            k=7  0.21                       0.83                10066.0   \n",
       "7            k=8  0.17                       0.86                 9511.0   \n",
       "8            k=9  0.14                       0.89                 9189.0   \n",
       "9           k=10  0.13                       0.89                 8997.0   \n",
       "10          k=11  0.12                       0.90                 8738.0   \n",
       "11          k=12  0.12                       0.90                 8416.0   \n",
       "12          k=13  0.11                       0.90                 8151.0   \n",
       "13          k=14  0.10                       0.92                 7929.0   \n",
       "14          k=15  0.09                       0.93                 7644.0   \n",
       "\n",
       "    % of scored sequences  \n",
       "0                   100.0  \n",
       "1                   100.0  \n",
       "2                   100.0  \n",
       "3                   100.0  \n",
       "4                   100.0  \n",
       "5                   100.0  \n",
       "6                    98.4  \n",
       "7                    93.0  \n",
       "8                    89.8  \n",
       "9                    87.9  \n",
       "10                   85.4  \n",
       "11                   82.3  \n",
       "12                   79.7  \n",
       "13                   77.5  \n",
       "14                   74.7  "
      ]
     },
     "execution_count": 36,
     "metadata": {},
     "output_type": "execute_result"
    }
   ],
   "source": [
    "stats"
   ]
  },
  {
   "cell_type": "code",
   "execution_count": null,
   "metadata": {
    "colab": {
     "base_uri": "https://localhost:8080/",
     "height": 611
    },
    "id": "bX8b2JqgvyPW",
    "outputId": "2d630e81-e748-408b-cf94-ffeb97e0c013"
   },
   "outputs": [
    {
     "data": {
      "image/png": "[encoded data removed]",
      "text/plain": [
       "<Figure size 1080x720 with 1 Axes>"
      ]
     },
     "metadata": {},
     "output_type": "display_data"
    }
   ],
   "source": [
    "import seaborn as sns\n",
    "import matplotlib.pyplot as plt\n",
    "\n",
    "plt.figure(figsize=(15,10))\n",
    "sns.set_theme(style=\"darkgrid\")\n",
    "sns.lineplot(data=stats, x='Parameter Set', y='MAE', color = 'b', linewidth = 5)\n",
    "plt.show()"
   ]
  },
  {
   "cell_type": "code",
   "execution_count": null,
   "metadata": {
    "colab": {
     "base_uri": "https://localhost:8080/",
     "height": 611
    },
    "id": "mJse-Juw88Qm",
    "outputId": "b460aac7-3b1a-409b-c665-4b86b1baaafe"
   },
   "outputs": [
    {
     "data": {
      "image/png": "[encoded data removed]",
      "text/plain": [
       "<Figure size 1080x720 with 1 Axes>"
      ]
     },
     "metadata": {},
     "output_type": "display_data"
    }
   ],
   "source": [
    "plt.figure(figsize=(15,10))\n",
    "sns.set_theme(style=\"darkgrid\")\n",
    "sns.lineplot(data=stats, x='Parameter Set', y='Spearman Correlation Rank', color = 'orange', linewidth = 5);\n",
    "plt.show()"
   ]
  },
  {
   "cell_type": "code",
   "execution_count": null,
   "metadata": {
    "colab": {
     "base_uri": "https://localhost:8080/",
     "height": 611
    },
    "id": "4x2qwizgJ-Zw",
    "outputId": "98c3f0f4-e957-49d3-91fc-edf84d52ee65"
   },
   "outputs": [
    {
     "data": {
      "image/png": "[encoded data removed]",
      "text/plain": [
       "<Figure size 1080x720 with 1 Axes>"
      ]
     },
     "metadata": {},
     "output_type": "display_data"
    }
   ],
   "source": [
    "plt.figure(figsize=(15,10))\n",
    "sns.set_theme(style=\"darkgrid\")\n",
    "sns.lineplot(data=stats, x='Parameter Set', y='# of scored sequences', color = 'g', linewidth = 5);\n",
    "plt.show()"
   ]
  },
  {
   "cell_type": "code",
   "execution_count": null,
   "metadata": {
    "id": "BwuLDc1lNZBU"
   },
   "outputs": [],
   "source": [
    "sum_1 = stats['MAE'].sum()\n",
    "sum_2 = stats['Spearman Correlation Rank'].sum()\n",
    "sum_3 = stats['# of scored sequences'].sum()\n",
    "stats['MAE_percent'] = stats['MAE']/sum_1\n",
    "stats['spear_percent'] = stats['Spearman Correlation Rank']/sum_2\n",
    "stats['seq_percent']= stats['# of scored sequences']/sum_3"
   ]
  },
  {
   "cell_type": "code",
   "execution_count": null,
   "metadata": {
    "colab": {
     "base_uri": "https://localhost:8080/",
     "height": 1000
    },
    "id": "2fr2PDSGOJbO",
    "outputId": "1363c2e3-d38d-4e7d-9985-e4bb6c66a020"
   },
   "outputs": [
    {
     "data": {
      "text/html": [
       "\n",
       "  <div id=\"df-ff13a5a7-4957-4010-866e-173e193c7d5e\">\n",
       "    <div class=\"colab-df-container\">\n",
       "      <div>\n",
       "<style scoped>\n",
       "    .dataframe tbody tr th:only-of-type {\n",
       "        vertical-align: middle;\n",
       "    }\n",
       "\n",
       "    .dataframe tbody tr th {\n",
       "        vertical-align: top;\n",
       "    }\n",
       "\n",
       "    .dataframe thead th {\n",
       "        text-align: right;\n",
       "    }\n",
       "</style>\n",
       "<table border=\"1\" class=\"dataframe\">\n",
       "  <thead>\n",
       "    <tr style=\"text-align: right;\">\n",
       "      <th></th>\n",
       "      <th>Parameter Set</th>\n",
       "      <th>cols</th>\n",
       "      <th>vals</th>\n",
       "    </tr>\n",
       "  </thead>\n",
       "  <tbody>\n",
       "    <tr>\n",
       "      <th>0</th>\n",
       "      <td>k=1</td>\n",
       "      <td>MAE_percent</td>\n",
       "      <td>0.142202</td>\n",
       "    </tr>\n",
       "    <tr>\n",
       "      <th>1</th>\n",
       "      <td>k=2</td>\n",
       "      <td>MAE_percent</td>\n",
       "      <td>0.142202</td>\n",
       "    </tr>\n",
       "    <tr>\n",
       "      <th>2</th>\n",
       "      <td>k=3</td>\n",
       "      <td>MAE_percent</td>\n",
       "      <td>0.142202</td>\n",
       "    </tr>\n",
       "    <tr>\n",
       "      <th>3</th>\n",
       "      <td>k=4</td>\n",
       "      <td>MAE_percent</td>\n",
       "      <td>0.137615</td>\n",
       "    </tr>\n",
       "    <tr>\n",
       "      <th>4</th>\n",
       "      <td>k=5</td>\n",
       "      <td>MAE_percent</td>\n",
       "      <td>0.103211</td>\n",
       "    </tr>\n",
       "    <tr>\n",
       "      <th>5</th>\n",
       "      <td>k=6</td>\n",
       "      <td>MAE_percent</td>\n",
       "      <td>0.059633</td>\n",
       "    </tr>\n",
       "    <tr>\n",
       "      <th>6</th>\n",
       "      <td>k=7</td>\n",
       "      <td>MAE_percent</td>\n",
       "      <td>0.048165</td>\n",
       "    </tr>\n",
       "    <tr>\n",
       "      <th>7</th>\n",
       "      <td>k=8</td>\n",
       "      <td>MAE_percent</td>\n",
       "      <td>0.038991</td>\n",
       "    </tr>\n",
       "    <tr>\n",
       "      <th>8</th>\n",
       "      <td>k=9</td>\n",
       "      <td>MAE_percent</td>\n",
       "      <td>0.032110</td>\n",
       "    </tr>\n",
       "    <tr>\n",
       "      <th>9</th>\n",
       "      <td>k=10</td>\n",
       "      <td>MAE_percent</td>\n",
       "      <td>0.029817</td>\n",
       "    </tr>\n",
       "    <tr>\n",
       "      <th>10</th>\n",
       "      <td>k=11</td>\n",
       "      <td>MAE_percent</td>\n",
       "      <td>0.027523</td>\n",
       "    </tr>\n",
       "    <tr>\n",
       "      <th>11</th>\n",
       "      <td>k=12</td>\n",
       "      <td>MAE_percent</td>\n",
       "      <td>0.027523</td>\n",
       "    </tr>\n",
       "    <tr>\n",
       "      <th>12</th>\n",
       "      <td>k=13</td>\n",
       "      <td>MAE_percent</td>\n",
       "      <td>0.025229</td>\n",
       "    </tr>\n",
       "    <tr>\n",
       "      <th>13</th>\n",
       "      <td>k=14</td>\n",
       "      <td>MAE_percent</td>\n",
       "      <td>0.022936</td>\n",
       "    </tr>\n",
       "    <tr>\n",
       "      <th>14</th>\n",
       "      <td>k=15</td>\n",
       "      <td>MAE_percent</td>\n",
       "      <td>0.020642</td>\n",
       "    </tr>\n",
       "    <tr>\n",
       "      <th>15</th>\n",
       "      <td>k=1</td>\n",
       "      <td>spear_percent</td>\n",
       "      <td>0.017707</td>\n",
       "    </tr>\n",
       "    <tr>\n",
       "      <th>16</th>\n",
       "      <td>k=2</td>\n",
       "      <td>spear_percent</td>\n",
       "      <td>0.018639</td>\n",
       "    </tr>\n",
       "    <tr>\n",
       "      <th>17</th>\n",
       "      <td>k=3</td>\n",
       "      <td>spear_percent</td>\n",
       "      <td>0.025163</td>\n",
       "    </tr>\n",
       "    <tr>\n",
       "      <th>18</th>\n",
       "      <td>k=4</td>\n",
       "      <td>spear_percent</td>\n",
       "      <td>0.051258</td>\n",
       "    </tr>\n",
       "    <tr>\n",
       "      <th>19</th>\n",
       "      <td>k=5</td>\n",
       "      <td>spear_percent</td>\n",
       "      <td>0.066170</td>\n",
       "    </tr>\n",
       "    <tr>\n",
       "      <th>20</th>\n",
       "      <td>k=6</td>\n",
       "      <td>spear_percent</td>\n",
       "      <td>0.073625</td>\n",
       "    </tr>\n",
       "    <tr>\n",
       "      <th>21</th>\n",
       "      <td>k=7</td>\n",
       "      <td>spear_percent</td>\n",
       "      <td>0.077353</td>\n",
       "    </tr>\n",
       "    <tr>\n",
       "      <th>22</th>\n",
       "      <td>k=8</td>\n",
       "      <td>spear_percent</td>\n",
       "      <td>0.080149</td>\n",
       "    </tr>\n",
       "    <tr>\n",
       "      <th>23</th>\n",
       "      <td>k=9</td>\n",
       "      <td>spear_percent</td>\n",
       "      <td>0.082945</td>\n",
       "    </tr>\n",
       "    <tr>\n",
       "      <th>24</th>\n",
       "      <td>k=10</td>\n",
       "      <td>spear_percent</td>\n",
       "      <td>0.082945</td>\n",
       "    </tr>\n",
       "    <tr>\n",
       "      <th>25</th>\n",
       "      <td>k=11</td>\n",
       "      <td>spear_percent</td>\n",
       "      <td>0.083877</td>\n",
       "    </tr>\n",
       "    <tr>\n",
       "      <th>26</th>\n",
       "      <td>k=12</td>\n",
       "      <td>spear_percent</td>\n",
       "      <td>0.083877</td>\n",
       "    </tr>\n",
       "    <tr>\n",
       "      <th>27</th>\n",
       "      <td>k=13</td>\n",
       "      <td>spear_percent</td>\n",
       "      <td>0.083877</td>\n",
       "    </tr>\n",
       "    <tr>\n",
       "      <th>28</th>\n",
       "      <td>k=14</td>\n",
       "      <td>spear_percent</td>\n",
       "      <td>0.085741</td>\n",
       "    </tr>\n",
       "    <tr>\n",
       "      <th>29</th>\n",
       "      <td>k=15</td>\n",
       "      <td>spear_percent</td>\n",
       "      <td>0.086673</td>\n",
       "    </tr>\n",
       "    <tr>\n",
       "      <th>30</th>\n",
       "      <td>k=1</td>\n",
       "      <td>seq_percent</td>\n",
       "      <td>0.073068</td>\n",
       "    </tr>\n",
       "    <tr>\n",
       "      <th>31</th>\n",
       "      <td>k=2</td>\n",
       "      <td>seq_percent</td>\n",
       "      <td>0.073068</td>\n",
       "    </tr>\n",
       "    <tr>\n",
       "      <th>32</th>\n",
       "      <td>k=3</td>\n",
       "      <td>seq_percent</td>\n",
       "      <td>0.073068</td>\n",
       "    </tr>\n",
       "    <tr>\n",
       "      <th>33</th>\n",
       "      <td>k=4</td>\n",
       "      <td>seq_percent</td>\n",
       "      <td>0.073068</td>\n",
       "    </tr>\n",
       "    <tr>\n",
       "      <th>34</th>\n",
       "      <td>k=5</td>\n",
       "      <td>seq_percent</td>\n",
       "      <td>0.073068</td>\n",
       "    </tr>\n",
       "    <tr>\n",
       "      <th>35</th>\n",
       "      <td>k=6</td>\n",
       "      <td>seq_percent</td>\n",
       "      <td>0.073068</td>\n",
       "    </tr>\n",
       "    <tr>\n",
       "      <th>36</th>\n",
       "      <td>k=7</td>\n",
       "      <td>seq_percent</td>\n",
       "      <td>0.071883</td>\n",
       "    </tr>\n",
       "    <tr>\n",
       "      <th>37</th>\n",
       "      <td>k=8</td>\n",
       "      <td>seq_percent</td>\n",
       "      <td>0.067920</td>\n",
       "    </tr>\n",
       "    <tr>\n",
       "      <th>38</th>\n",
       "      <td>k=9</td>\n",
       "      <td>seq_percent</td>\n",
       "      <td>0.065620</td>\n",
       "    </tr>\n",
       "    <tr>\n",
       "      <th>39</th>\n",
       "      <td>k=10</td>\n",
       "      <td>seq_percent</td>\n",
       "      <td>0.064249</td>\n",
       "    </tr>\n",
       "    <tr>\n",
       "      <th>40</th>\n",
       "      <td>k=11</td>\n",
       "      <td>seq_percent</td>\n",
       "      <td>0.062400</td>\n",
       "    </tr>\n",
       "    <tr>\n",
       "      <th>41</th>\n",
       "      <td>k=12</td>\n",
       "      <td>seq_percent</td>\n",
       "      <td>0.060100</td>\n",
       "    </tr>\n",
       "    <tr>\n",
       "      <th>42</th>\n",
       "      <td>k=13</td>\n",
       "      <td>seq_percent</td>\n",
       "      <td>0.058208</td>\n",
       "    </tr>\n",
       "    <tr>\n",
       "      <th>43</th>\n",
       "      <td>k=14</td>\n",
       "      <td>seq_percent</td>\n",
       "      <td>0.056622</td>\n",
       "    </tr>\n",
       "    <tr>\n",
       "      <th>44</th>\n",
       "      <td>k=15</td>\n",
       "      <td>seq_percent</td>\n",
       "      <td>0.054587</td>\n",
       "    </tr>\n",
       "  </tbody>\n",
       "</table>\n",
       "</div>\n",
       "      <button class=\"colab-df-convert\" onclick=\"convertToInteractive('df-ff13a5a7-4957-4010-866e-173e193c7d5e')\"\n",
       "              title=\"Convert this dataframe to an interactive table.\"\n",
       "              style=\"display:none;\">\n",
       "        \n",
       "  <svg xmlns=\"http://www.w3.org/2000/svg\" height=\"24px\"viewBox=\"0 0 24 24\"\n",
       "       width=\"24px\">\n",
       "    <path d=\"M0 0h24v24H0V0z\" fill=\"none\"/>\n",
       "    <path d=\"M18.56 5.44l.94 2.06.94-2.06 2.06-.94-2.06-.94-.94-2.06-.94 2.06-2.06.94zm-11 1L8.5 8.5l.94-2.06 2.06-.94-2.06-.94L8.5 2.5l-.94 2.06-2.06.94zm10 10l.94 2.06.94-2.06 2.06-.94-2.06-.94-.94-2.06-.94 2.06-2.06.94z\"/><path d=\"M17.41 7.96l-1.37-1.37c-.4-.4-.92-.59-1.43-.59-.52 0-1.04.2-1.43.59L10.3 9.45l-7.72 7.72c-.78.78-.78 2.05 0 2.83L4 21.41c.39.39.9.59 1.41.59.51 0 1.02-.2 1.41-.59l7.78-7.78 2.81-2.81c.8-.78.8-2.07 0-2.86zM5.41 20L4 18.59l7.72-7.72 1.47 1.35L5.41 20z\"/>\n",
       "  </svg>\n",
       "      </button>\n",
       "      \n",
       "  <style>\n",
       "    .colab-df-container {\n",
       "      display:flex;\n",
       "      flex-wrap:wrap;\n",
       "      gap: 12px;\n",
       "    }\n",
       "\n",
       "    .colab-df-convert {\n",
       "      background-color: #E8F0FE;\n",
       "      border: none;\n",
       "      border-radius: 50%;\n",
       "      cursor: pointer;\n",
       "      display: none;\n",
       "      fill: #1967D2;\n",
       "      height: 32px;\n",
       "      padding: 0 0 0 0;\n",
       "      width: 32px;\n",
       "    }\n",
       "\n",
       "    .colab-df-convert:hover {\n",
       "      background-color: #E2EBFA;\n",
       "      box-shadow: 0px 1px 2px rgba(60, 64, 67, 0.3), 0px 1px 3px 1px rgba(60, 64, 67, 0.15);\n",
       "      fill: #174EA6;\n",
       "    }\n",
       "\n",
       "    [theme=dark] .colab-df-convert {\n",
       "      background-color: #3B4455;\n",
       "      fill: #D2E3FC;\n",
       "    }\n",
       "\n",
       "    [theme=dark] .colab-df-convert:hover {\n",
       "      background-color: #434B5C;\n",
       "      box-shadow: 0px 1px 3px 1px rgba(0, 0, 0, 0.15);\n",
       "      filter: drop-shadow(0px 1px 2px rgba(0, 0, 0, 0.3));\n",
       "      fill: #FFFFFF;\n",
       "    }\n",
       "  </style>\n",
       "\n",
       "      <script>\n",
       "        const buttonEl =\n",
       "          document.querySelector('#df-ff13a5a7-4957-4010-866e-173e193c7d5e button.colab-df-convert');\n",
       "        buttonEl.style.display =\n",
       "          google.colab.kernel.accessAllowed ? 'block' : 'none';\n",
       "\n",
       "        async function convertToInteractive(key) {\n",
       "          const element = document.querySelector('#df-ff13a5a7-4957-4010-866e-173e193c7d5e');\n",
       "          const dataTable =\n",
       "            await google.colab.kernel.invokeFunction('convertToInteractive',\n",
       "                                                     [key], {});\n",
       "          if (!dataTable) return;\n",
       "\n",
       "          const docLinkHtml = 'Like what you see? Visit the ' +\n",
       "            '<a target=\"_blank\" href=https://colab.research.google.com/notebooks/data_table.ipynb>data table notebook</a>'\n",
       "            + ' to learn more about interactive tables.';\n",
       "          element.innerHTML = '';\n",
       "          dataTable['output_type'] = 'display_data';\n",
       "          await google.colab.output.renderOutput(dataTable, element);\n",
       "          const docLink = document.createElement('div');\n",
       "          docLink.innerHTML = docLinkHtml;\n",
       "          element.appendChild(docLink);\n",
       "        }\n",
       "      </script>\n",
       "    </div>\n",
       "  </div>\n",
       "  "
      ],
      "text/plain": [
       "   Parameter Set           cols      vals\n",
       "0            k=1    MAE_percent  0.142202\n",
       "1            k=2    MAE_percent  0.142202\n",
       "2            k=3    MAE_percent  0.142202\n",
       "3            k=4    MAE_percent  0.137615\n",
       "4            k=5    MAE_percent  0.103211\n",
       "5            k=6    MAE_percent  0.059633\n",
       "6            k=7    MAE_percent  0.048165\n",
       "7            k=8    MAE_percent  0.038991\n",
       "8            k=9    MAE_percent  0.032110\n",
       "9           k=10    MAE_percent  0.029817\n",
       "10          k=11    MAE_percent  0.027523\n",
       "11          k=12    MAE_percent  0.027523\n",
       "12          k=13    MAE_percent  0.025229\n",
       "13          k=14    MAE_percent  0.022936\n",
       "14          k=15    MAE_percent  0.020642\n",
       "15           k=1  spear_percent  0.017707\n",
       "16           k=2  spear_percent  0.018639\n",
       "17           k=3  spear_percent  0.025163\n",
       "18           k=4  spear_percent  0.051258\n",
       "19           k=5  spear_percent  0.066170\n",
       "20           k=6  spear_percent  0.073625\n",
       "21           k=7  spear_percent  0.077353\n",
       "22           k=8  spear_percent  0.080149\n",
       "23           k=9  spear_percent  0.082945\n",
       "24          k=10  spear_percent  0.082945\n",
       "25          k=11  spear_percent  0.083877\n",
       "26          k=12  spear_percent  0.083877\n",
       "27          k=13  spear_percent  0.083877\n",
       "28          k=14  spear_percent  0.085741\n",
       "29          k=15  spear_percent  0.086673\n",
       "30           k=1    seq_percent  0.073068\n",
       "31           k=2    seq_percent  0.073068\n",
       "32           k=3    seq_percent  0.073068\n",
       "33           k=4    seq_percent  0.073068\n",
       "34           k=5    seq_percent  0.073068\n",
       "35           k=6    seq_percent  0.073068\n",
       "36           k=7    seq_percent  0.071883\n",
       "37           k=8    seq_percent  0.067920\n",
       "38           k=9    seq_percent  0.065620\n",
       "39          k=10    seq_percent  0.064249\n",
       "40          k=11    seq_percent  0.062400\n",
       "41          k=12    seq_percent  0.060100\n",
       "42          k=13    seq_percent  0.058208\n",
       "43          k=14    seq_percent  0.056622\n",
       "44          k=15    seq_percent  0.054587"
      ]
     },
     "execution_count": 57,
     "metadata": {},
     "output_type": "execute_result"
    }
   ],
   "source": [
    "df = stats.drop(['MAE','Spearman Correlation Rank','# of scored sequences', '% of scored sequences'], axis=1)\n",
    "df = df.melt('Parameter Set', var_name='cols', value_name='vals')\n",
    "df"
   ]
  },
  {
   "cell_type": "code",
   "execution_count": null,
   "metadata": {
    "colab": {
     "base_uri": "https://localhost:8080/",
     "height": 611
    },
    "id": "4uBsKUL4PK6p",
    "outputId": "a8f6b613-13c2-4292-89f1-72b2b08cb171"
   },
   "outputs": [
    {
     "data": {
      "image/png": "[encoded data removed]",
      "text/plain": [
       "<Figure size 1080x720 with 1 Axes>"
      ]
     },
     "metadata": {},
     "output_type": "display_data"
    }
   ],
   "source": [
    "plt.figure(figsize=(15,10))\n",
    "sns.pointplot(x=\"Parameter Set\", y=\"vals\", hue='cols', data=df);"
   ]
  },
  {
   "cell_type": "markdown",
   "metadata": {
    "id": "ViF7VEWAKzia"
   },
   "source": [
    "Based on these plots, the optimal k value is about 6-7-8"
   ]
  }
 ],
 "metadata": {
  "colab": {
   "collapsed_sections": [],
   "name": "HW_2.ipynb",
   "provenance": []
  },
  "kernelspec": {
   "display_name": "Python 3 (ipykernel)",
   "language": "python",
   "name": "python3"
  },
  "language_info": {
   "codemirror_mode": {
    "name": "ipython",
    "version": 3
   },
   "file_extension": ".py",
   "mimetype": "text/x-python",
   "name": "python",
   "nbconvert_exporter": "python",
   "pygments_lexer": "ipython3",
   "version": "3.9.12"
  }
 },
 "nbformat": 4,
 "nbformat_minor": 1
}
