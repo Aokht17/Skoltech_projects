{
 "cells": [
  {
   "cell_type": "markdown",
   "metadata": {
    "id": "t7uj4zBSfRD1"
   },
   "source": [
    "Adapted from https://github.com/deepchem/moleculenet/tree/master/examples\n",
    "\n",
    "and https://github.com/XinhaoLi74/MolPMoFiT\n"
   ]
  },
  {
   "cell_type": "markdown",
   "metadata": {
    "id": "eqa8qizDRVDV"
   },
   "source": [
    "Best performing is:\n",
    "\n",
    "Best val roc_auc: 0.9713 +- 0.0013\n",
    "\n",
    "Test roc_auc: 0.7194 +- 0.0068\n",
    "\n",
    "(*according to https://github.com/deepchem/moleculenet board)"
   ]
  },
  {
   "cell_type": "code",
   "execution_count": null,
   "metadata": {
    "colab": {
     "base_uri": "https://localhost:8080/"
    },
    "id": "9sd_-Uk1hBPz",
    "outputId": "20f08625-683d-46ba-8a28-5316bfee783c"
   },
   "outputs": [
    {
     "name": "stdout",
     "output_type": "stream",
     "text": [
      "Requirement already satisfied: deepchem in /usr/local/lib/python3.7/dist-packages (2.6.1)\n",
      "Requirement already satisfied: scikit-learn in /usr/local/lib/python3.7/dist-packages (from deepchem) (1.0.2)\n",
      "Requirement already satisfied: rdkit-pypi in /usr/local/lib/python3.7/dist-packages (from deepchem) (2022.3.2.1)\n",
      "Requirement already satisfied: numpy>=1.21 in /usr/local/lib/python3.7/dist-packages (from deepchem) (1.21.6)\n",
      "Requirement already satisfied: scipy in /usr/local/lib/python3.7/dist-packages (from deepchem) (1.7.3)\n",
      "Requirement already satisfied: pandas in /usr/local/lib/python3.7/dist-packages (from deepchem) (1.3.5)\n",
      "Requirement already satisfied: joblib in /usr/local/lib/python3.7/dist-packages (from deepchem) (1.1.0)\n",
      "Requirement already satisfied: pytz>=2017.3 in /usr/local/lib/python3.7/dist-packages (from pandas->deepchem) (2022.1)\n",
      "Requirement already satisfied: python-dateutil>=2.7.3 in /usr/local/lib/python3.7/dist-packages (from pandas->deepchem) (2.8.2)\n",
      "Requirement already satisfied: six>=1.5 in /usr/local/lib/python3.7/dist-packages (from python-dateutil>=2.7.3->pandas->deepchem) (1.15.0)\n",
      "Requirement already satisfied: Pillow in /usr/local/lib/python3.7/dist-packages (from rdkit-pypi->deepchem) (7.1.2)\n",
      "Requirement already satisfied: threadpoolctl>=2.0.0 in /usr/local/lib/python3.7/dist-packages (from scikit-learn->deepchem) (3.1.0)\n"
     ]
    }
   ],
   "source": [
    "!pip install deepchem"
   ]
  },
  {
   "cell_type": "code",
   "execution_count": null,
   "metadata": {
    "id": "ppo1gJxTdGhw"
   },
   "outputs": [],
   "source": [
    "import deepchem as dc\n",
    "from rdkit import Chem\n",
    "import json\n",
    "import numpy as np\n",
    "\n",
    "from copy import deepcopy\n",
    "from functools import partial\n",
    "from hyperopt import hp, fmin, tpe\n",
    "from shutil import copyfile\n",
    "from sklearn.ensemble import RandomForestClassifier"
   ]
  },
  {
   "cell_type": "code",
   "execution_count": null,
   "metadata": {
    "id": "zqi1pfesQCHP"
   },
   "outputs": [],
   "source": [
    "import pandas as pd\n",
    "import errno\n",
    "import os\n",
    "import torch\n",
    "import tensorflow as tf"
   ]
  },
  {
   "cell_type": "code",
   "execution_count": null,
   "metadata": {
    "id": "b7iVW4_yGs3H"
   },
   "outputs": [],
   "source": [
    "from sklearn.metrics import roc_auc_score\n",
    "import threading"
   ]
  },
  {
   "cell_type": "code",
   "execution_count": null,
   "metadata": {
    "colab": {
     "base_uri": "https://localhost:8080/",
     "height": 424
    },
    "id": "uy8vdBXWFsFT",
    "outputId": "2445a015-34e0-44fb-960f-debb563dcc18"
   },
   "outputs": [
    {
     "data": {
      "text/html": [
       "\n",
       "  <div id=\"df-3529e779-8b87-4074-882f-fe5fca278bc8\">\n",
       "    <div class=\"colab-df-container\">\n",
       "      <div>\n",
       "<style scoped>\n",
       "    .dataframe tbody tr th:only-of-type {\n",
       "        vertical-align: middle;\n",
       "    }\n",
       "\n",
       "    .dataframe tbody tr th {\n",
       "        vertical-align: top;\n",
       "    }\n",
       "\n",
       "    .dataframe thead th {\n",
       "        text-align: right;\n",
       "    }\n",
       "</style>\n",
       "<table border=\"1\" class=\"dataframe\">\n",
       "  <thead>\n",
       "    <tr style=\"text-align: right;\">\n",
       "      <th></th>\n",
       "      <th>smiles</th>\n",
       "      <th>p_np</th>\n",
       "    </tr>\n",
       "  </thead>\n",
       "  <tbody>\n",
       "    <tr>\n",
       "      <th>0</th>\n",
       "      <td>[Cl].CC(C)NCC(O)COc1cccc2ccccc12</td>\n",
       "      <td>1</td>\n",
       "    </tr>\n",
       "    <tr>\n",
       "      <th>1</th>\n",
       "      <td>C(=O)(OC(C)(C)C)CCCc1ccc(cc1)N(CCCl)CCCl</td>\n",
       "      <td>1</td>\n",
       "    </tr>\n",
       "    <tr>\n",
       "      <th>2</th>\n",
       "      <td>c12c3c(N4CCN(C)CC4)c(F)cc1c(c(C(O)=O)cn2C(C)CO...</td>\n",
       "      <td>1</td>\n",
       "    </tr>\n",
       "    <tr>\n",
       "      <th>3</th>\n",
       "      <td>C1CCN(CC1)Cc1cccc(c1)OCCCNC(=O)C</td>\n",
       "      <td>1</td>\n",
       "    </tr>\n",
       "    <tr>\n",
       "      <th>4</th>\n",
       "      <td>Cc1onc(c2ccccc2Cl)c1C(=O)N[C@H]3[C@H]4SC(C)(C)...</td>\n",
       "      <td>1</td>\n",
       "    </tr>\n",
       "    <tr>\n",
       "      <th>...</th>\n",
       "      <td>...</td>\n",
       "      <td>...</td>\n",
       "    </tr>\n",
       "    <tr>\n",
       "      <th>2045</th>\n",
       "      <td>C1=C(Cl)C(=C(C2=C1NC(=O)C(N2)=O)[N+](=O)[O-])Cl</td>\n",
       "      <td>1</td>\n",
       "    </tr>\n",
       "    <tr>\n",
       "      <th>2046</th>\n",
       "      <td>[C@H]3([N]2C1=C(C(=NC=N1)N)N=C2)[C@@H]([C@@H](...</td>\n",
       "      <td>1</td>\n",
       "    </tr>\n",
       "    <tr>\n",
       "      <th>2047</th>\n",
       "      <td>[O+]1=N[N](C=C1[N-]C(NC2=CC=CC=C2)=O)C(CC3=CC=...</td>\n",
       "      <td>1</td>\n",
       "    </tr>\n",
       "    <tr>\n",
       "      <th>2048</th>\n",
       "      <td>C1=C(OC)C(=CC2=C1C(=[N+](C(=C2CC)C)[NH-])C3=CC...</td>\n",
       "      <td>1</td>\n",
       "    </tr>\n",
       "    <tr>\n",
       "      <th>2049</th>\n",
       "      <td>[N+](=NCC(=O)N[C@@H]([C@H](O)C1=CC=C([N+]([O-]...</td>\n",
       "      <td>1</td>\n",
       "    </tr>\n",
       "  </tbody>\n",
       "</table>\n",
       "<p>2050 rows × 2 columns</p>\n",
       "</div>\n",
       "      <button class=\"colab-df-convert\" onclick=\"convertToInteractive('df-3529e779-8b87-4074-882f-fe5fca278bc8')\"\n",
       "              title=\"Convert this dataframe to an interactive table.\"\n",
       "              style=\"display:none;\">\n",
       "        \n",
       "  <svg xmlns=\"http://www.w3.org/2000/svg\" height=\"24px\"viewBox=\"0 0 24 24\"\n",
       "       width=\"24px\">\n",
       "    <path d=\"M0 0h24v24H0V0z\" fill=\"none\"/>\n",
       "    <path d=\"M18.56 5.44l.94 2.06.94-2.06 2.06-.94-2.06-.94-.94-2.06-.94 2.06-2.06.94zm-11 1L8.5 8.5l.94-2.06 2.06-.94-2.06-.94L8.5 2.5l-.94 2.06-2.06.94zm10 10l.94 2.06.94-2.06 2.06-.94-2.06-.94-.94-2.06-.94 2.06-2.06.94z\"/><path d=\"M17.41 7.96l-1.37-1.37c-.4-.4-.92-.59-1.43-.59-.52 0-1.04.2-1.43.59L10.3 9.45l-7.72 7.72c-.78.78-.78 2.05 0 2.83L4 21.41c.39.39.9.59 1.41.59.51 0 1.02-.2 1.41-.59l7.78-7.78 2.81-2.81c.8-.78.8-2.07 0-2.86zM5.41 20L4 18.59l7.72-7.72 1.47 1.35L5.41 20z\"/>\n",
       "  </svg>\n",
       "      </button>\n",
       "      \n",
       "  <style>\n",
       "    .colab-df-container {\n",
       "      display:flex;\n",
       "      flex-wrap:wrap;\n",
       "      gap: 12px;\n",
       "    }\n",
       "\n",
       "    .colab-df-convert {\n",
       "      background-color: #E8F0FE;\n",
       "      border: none;\n",
       "      border-radius: 50%;\n",
       "      cursor: pointer;\n",
       "      display: none;\n",
       "      fill: #1967D2;\n",
       "      height: 32px;\n",
       "      padding: 0 0 0 0;\n",
       "      width: 32px;\n",
       "    }\n",
       "\n",
       "    .colab-df-convert:hover {\n",
       "      background-color: #E2EBFA;\n",
       "      box-shadow: 0px 1px 2px rgba(60, 64, 67, 0.3), 0px 1px 3px 1px rgba(60, 64, 67, 0.15);\n",
       "      fill: #174EA6;\n",
       "    }\n",
       "\n",
       "    [theme=dark] .colab-df-convert {\n",
       "      background-color: #3B4455;\n",
       "      fill: #D2E3FC;\n",
       "    }\n",
       "\n",
       "    [theme=dark] .colab-df-convert:hover {\n",
       "      background-color: #434B5C;\n",
       "      box-shadow: 0px 1px 3px 1px rgba(0, 0, 0, 0.15);\n",
       "      filter: drop-shadow(0px 1px 2px rgba(0, 0, 0, 0.3));\n",
       "      fill: #FFFFFF;\n",
       "    }\n",
       "  </style>\n",
       "\n",
       "      <script>\n",
       "        const buttonEl =\n",
       "          document.querySelector('#df-3529e779-8b87-4074-882f-fe5fca278bc8 button.colab-df-convert');\n",
       "        buttonEl.style.display =\n",
       "          google.colab.kernel.accessAllowed ? 'block' : 'none';\n",
       "\n",
       "        async function convertToInteractive(key) {\n",
       "          const element = document.querySelector('#df-3529e779-8b87-4074-882f-fe5fca278bc8');\n",
       "          const dataTable =\n",
       "            await google.colab.kernel.invokeFunction('convertToInteractive',\n",
       "                                                     [key], {});\n",
       "          if (!dataTable) return;\n",
       "\n",
       "          const docLinkHtml = 'Like what you see? Visit the ' +\n",
       "            '<a target=\"_blank\" href=https://colab.research.google.com/notebooks/data_table.ipynb>data table notebook</a>'\n",
       "            + ' to learn more about interactive tables.';\n",
       "          element.innerHTML = '';\n",
       "          dataTable['output_type'] = 'display_data';\n",
       "          await google.colab.output.renderOutput(dataTable, element);\n",
       "          const docLink = document.createElement('div');\n",
       "          docLink.innerHTML = docLinkHtml;\n",
       "          element.appendChild(docLink);\n",
       "        }\n",
       "      </script>\n",
       "    </div>\n",
       "  </div>\n",
       "  "
      ],
      "text/plain": [
       "                                                 smiles  p_np\n",
       "0                      [Cl].CC(C)NCC(O)COc1cccc2ccccc12     1\n",
       "1              C(=O)(OC(C)(C)C)CCCc1ccc(cc1)N(CCCl)CCCl     1\n",
       "2     c12c3c(N4CCN(C)CC4)c(F)cc1c(c(C(O)=O)cn2C(C)CO...     1\n",
       "3                      C1CCN(CC1)Cc1cccc(c1)OCCCNC(=O)C     1\n",
       "4     Cc1onc(c2ccccc2Cl)c1C(=O)N[C@H]3[C@H]4SC(C)(C)...     1\n",
       "...                                                 ...   ...\n",
       "2045    C1=C(Cl)C(=C(C2=C1NC(=O)C(N2)=O)[N+](=O)[O-])Cl     1\n",
       "2046  [C@H]3([N]2C1=C(C(=NC=N1)N)N=C2)[C@@H]([C@@H](...     1\n",
       "2047  [O+]1=N[N](C=C1[N-]C(NC2=CC=CC=C2)=O)C(CC3=CC=...     1\n",
       "2048  C1=C(OC)C(=CC2=C1C(=[N+](C(=C2CC)C)[NH-])C3=CC...     1\n",
       "2049  [N+](=NCC(=O)N[C@@H]([C@H](O)C1=CC=C([N+]([O-]...     1\n",
       "\n",
       "[2050 rows x 2 columns]"
      ]
     },
     "execution_count": 7,
     "metadata": {},
     "output_type": "execute_result"
    }
   ],
   "source": [
    "data = pd.read_csv('BBBP.csv')[['smiles', 'p_np']]\n",
    "data"
   ]
  },
  {
   "cell_type": "code",
   "execution_count": null,
   "metadata": {
    "colab": {
     "base_uri": "https://localhost:8080/"
    },
    "id": "DhmDv0FxF0Gr",
    "outputId": "27d8a3f3-64e3-40a7-ad13-47a186f26e2f"
   },
   "outputs": [
    {
     "data": {
      "text/plain": [
       "1    1567\n",
       "0     483\n",
       "Name: p_np, dtype: int64"
      ]
     },
     "execution_count": 8,
     "metadata": {},
     "output_type": "execute_result"
    }
   ],
   "source": [
    "data.p_np.value_counts()"
   ]
  },
  {
   "cell_type": "markdown",
   "metadata": {
    "id": "AhJqwqmEof3Z"
   },
   "source": [
    "The data is unbalanced"
   ]
  },
  {
   "cell_type": "code",
   "execution_count": null,
   "metadata": {
    "id": "gNz5ghX5Yr91"
   },
   "outputs": [],
   "source": [
    "\"\"\"\n",
    "Blood-Brain Barrier Penetration dataset loader.\n",
    "\"\"\"\n",
    "from deepchem.molnet.load_function.molnet_loader import TransformerGenerator, _MolnetLoader\n",
    "from deepchem.data import Dataset\n",
    "from typing import List, Optional, Tuple, Union\n",
    "\n",
    "BBBP_URL = \"https://deepchemdata.s3-us-west-1.amazonaws.com/datasets/BBBP.csv\"\n",
    "BBBP_TASKS = [\"p_np\"]\n",
    "\n",
    "\n",
    "class _BBBPLoader(_MolnetLoader):\n",
    "\n",
    "  def create_dataset(self) -> Dataset:\n",
    "    dataset_file = os.path.join(self.data_dir, \"BBBP.csv\")\n",
    "    if not os.path.exists(dataset_file):\n",
    "      dc.utils.data_utils.download_url(url=BBBP_URL, dest_dir=self.data_dir)\n",
    "    loader = dc.data.CSVLoader(\n",
    "        tasks=self.tasks, feature_field=\"smiles\", featurizer=self.featurizer)\n",
    "    return loader.create_dataset(dataset_file, shard_size=8192)\n",
    "\n",
    "\n",
    "def load_bbbp(\n",
    "    featurizer: Union[dc.feat.Featurizer, str] = 'ECFP',\n",
    "    splitter: Union[dc.splits.Splitter, str, None] = 'scaffold',\n",
    "    transformers: List[Union[TransformerGenerator, str]] = ['balancing'],\n",
    "    reload: bool = True,\n",
    "    data_dir: Optional[str] = None,\n",
    "    save_dir: Optional[str] = None,\n",
    "    **kwargs\n",
    ") -> Tuple[List[str], Tuple[Dataset, ...], List[dc.trans.Transformer]]:\n",
    "  loader = _BBBPLoader(featurizer, splitter, transformers, BBBP_TASKS, data_dir,\n",
    "                       save_dir, **kwargs)\n",
    "  return loader.load_dataset('bbbp', reload)"
   ]
  },
  {
   "cell_type": "code",
   "execution_count": null,
   "metadata": {
    "colab": {
     "base_uri": "https://localhost:8080/"
    },
    "id": "Pz_8IAn3x7bh",
    "outputId": "56c4046c-044b-43ba-8a01-1de48618845d"
   },
   "outputs": [
    {
     "name": "stderr",
     "output_type": "stream",
     "text": [
      "Failed to featurize datapoint 59, None. Appending empty array\n",
      "Exception message: Python argument types in\n",
      "    rdkit.Chem.rdmolfiles.CanonicalRankAtoms(NoneType)\n",
      "did not match C++ signature:\n",
      "    CanonicalRankAtoms(RDKit::ROMol mol, bool breakTies=True, bool includeChirality=True, bool includeIsotopes=True)\n",
      "Failed to featurize datapoint 61, None. Appending empty array\n",
      "Exception message: Python argument types in\n",
      "    rdkit.Chem.rdmolfiles.CanonicalRankAtoms(NoneType)\n",
      "did not match C++ signature:\n",
      "    CanonicalRankAtoms(RDKit::ROMol mol, bool breakTies=True, bool includeChirality=True, bool includeIsotopes=True)\n",
      "Failed to featurize datapoint 391, None. Appending empty array\n",
      "Exception message: Python argument types in\n",
      "    rdkit.Chem.rdmolfiles.CanonicalRankAtoms(NoneType)\n",
      "did not match C++ signature:\n",
      "    CanonicalRankAtoms(RDKit::ROMol mol, bool breakTies=True, bool includeChirality=True, bool includeIsotopes=True)\n",
      "Failed to featurize datapoint 614, None. Appending empty array\n",
      "Exception message: Python argument types in\n",
      "    rdkit.Chem.rdmolfiles.CanonicalRankAtoms(NoneType)\n",
      "did not match C++ signature:\n",
      "    CanonicalRankAtoms(RDKit::ROMol mol, bool breakTies=True, bool includeChirality=True, bool includeIsotopes=True)\n",
      "Failed to featurize datapoint 642, None. Appending empty array\n",
      "Exception message: Python argument types in\n",
      "    rdkit.Chem.rdmolfiles.CanonicalRankAtoms(NoneType)\n",
      "did not match C++ signature:\n",
      "    CanonicalRankAtoms(RDKit::ROMol mol, bool breakTies=True, bool includeChirality=True, bool includeIsotopes=True)\n",
      "Failed to featurize datapoint 645, None. Appending empty array\n",
      "Exception message: Python argument types in\n",
      "    rdkit.Chem.rdmolfiles.CanonicalRankAtoms(NoneType)\n",
      "did not match C++ signature:\n",
      "    CanonicalRankAtoms(RDKit::ROMol mol, bool breakTies=True, bool includeChirality=True, bool includeIsotopes=True)\n",
      "Failed to featurize datapoint 646, None. Appending empty array\n",
      "Exception message: Python argument types in\n",
      "    rdkit.Chem.rdmolfiles.CanonicalRankAtoms(NoneType)\n",
      "did not match C++ signature:\n",
      "    CanonicalRankAtoms(RDKit::ROMol mol, bool breakTies=True, bool includeChirality=True, bool includeIsotopes=True)\n",
      "Failed to featurize datapoint 647, None. Appending empty array\n",
      "Exception message: Python argument types in\n",
      "    rdkit.Chem.rdmolfiles.CanonicalRankAtoms(NoneType)\n",
      "did not match C++ signature:\n",
      "    CanonicalRankAtoms(RDKit::ROMol mol, bool breakTies=True, bool includeChirality=True, bool includeIsotopes=True)\n",
      "Failed to featurize datapoint 648, None. Appending empty array\n",
      "Exception message: Python argument types in\n",
      "    rdkit.Chem.rdmolfiles.CanonicalRankAtoms(NoneType)\n",
      "did not match C++ signature:\n",
      "    CanonicalRankAtoms(RDKit::ROMol mol, bool breakTies=True, bool includeChirality=True, bool includeIsotopes=True)\n",
      "Failed to featurize datapoint 649, None. Appending empty array\n",
      "Exception message: Python argument types in\n",
      "    rdkit.Chem.rdmolfiles.CanonicalRankAtoms(NoneType)\n",
      "did not match C++ signature:\n",
      "    CanonicalRankAtoms(RDKit::ROMol mol, bool breakTies=True, bool includeChirality=True, bool includeIsotopes=True)\n",
      "Failed to featurize datapoint 685, None. Appending empty array\n",
      "Exception message: Python argument types in\n",
      "    rdkit.Chem.rdmolfiles.CanonicalRankAtoms(NoneType)\n",
      "did not match C++ signature:\n",
      "    CanonicalRankAtoms(RDKit::ROMol mol, bool breakTies=True, bool includeChirality=True, bool includeIsotopes=True)\n",
      "/usr/local/lib/python3.7/dist-packages/deepchem/feat/base_classes.py:305: VisibleDeprecationWarning: Creating an ndarray from ragged nested sequences (which is a list-or-tuple of lists-or-tuples-or ndarrays with different lengths or shapes) is deprecated. If you meant to do this, you must specify 'dtype=object' when creating the ndarray.\n",
      "  return np.asarray(features)\n"
     ]
    }
   ],
   "source": [
    "tasks, all_dataset, transformers = load_bbbp(featurizer='ECFP', splitter='scaffold', reload=False)"
   ]
  },
  {
   "cell_type": "markdown",
   "metadata": {
    "id": "aBhBr-MZa4MT"
   },
   "source": [
    "## In this case we use:\n",
    "\n",
    "- Scaffold splitting (in order to prevent leakage)\n",
    "- ECFP fingerprints"
   ]
  },
  {
   "cell_type": "code",
   "execution_count": null,
   "metadata": {
    "colab": {
     "base_uri": "https://localhost:8080/"
    },
    "id": "6HRro79MyFcR",
    "outputId": "4d2deb47-2392-415a-ecb4-d6f4b41fc9e2"
   },
   "outputs": [
    {
     "data": {
      "text/plain": [
       "(<DiskDataset X.shape: (1631, 1024), y.shape: (1631, 1), w.shape: (1631, 1), task_names: ['p_np']>,\n",
       " <DiskDataset X.shape: (204, 1024), y.shape: (204, 1), w.shape: (204, 1), ids: ['[H+].C2=C1C(OC(=NC1=CC=C2Cl)NCC)(C3=CC=CC=C3)C.[Cl-]'\n",
       "  'C1=CC=CC2=C1C(C3=C(N(C)C2=O)C=CC=C3)OCC'\n",
       "  'C1=C(Cl)C=CC3=C1C(C2=CC=CC=C2)SC(=N3)NCC' ...\n",
       "  'CC1(C)S[C@@H]2[C@H](NC(=O)C34C[C@H]5C[C@H](CC(N)(C5)C3)C4)C(=O)N2[C@H]1C(O)=O'\n",
       "  'COc1cccc2C(=O)c3c(O)c4CC(O)(CC(O)c4c(O)c3C(=O)c12)C(=O)CO'\n",
       "  'CC[C@@]1(O)C[C@H](OC2CC(C(OC3CC(O)C(OC4CCC(=O)C(C)O4)C(C)O3)C(C)O2)N(C)C)c5c(O)c6C(=O)c7c(O)cccc7C(=O)c6cc5[C@H]1C(=O)OC'], task_names: ['p_np']>,\n",
       " <DiskDataset X.shape: (204, 1024), y.shape: (204, 1), w.shape: (204, 1), ids: ['CCOC(=O)[C@H](CCc1ccccc1)N[C@@H](C)C(=O)N2CCC[C@H]2C(O)=O'\n",
       "  'FC(F)(F)[C@]1(OC(=O)Nc2ccc(Cl)cc12)C#CC3CC3'\n",
       "  'CN1C[C@@H](C[C@H]2[C@H]1Cc3c[nH]c4cccc2c34)C(=O)N[C@]5(C)O[C@@]6(O)[C@@H]7CCCN7C(=O)[C@H](Cc8ccccc8)N6C5=O'\n",
       "  ... 'Cn1c2CCC(Cn3ccnc3C)C(=O)c2c4ccccc14'\n",
       "  'CN(C)[C@H]1[C@@H]2C[C@H]3C(=C(O)c4c(O)cccc4[C@@]3(C)O)C(=O)[C@]2(O)C(=O)\\\\C(=C(/O)NCN5CCCC5)C1=O'\n",
       "  'CCN1CCN(C(=O)N[C@@H](C(=O)N[C@H]2[C@H]3SCC(=C(N3C2=O)C(O)=O)CSc4nnnn4C)c5ccc(O)cc5)C(=O)C1=O'], task_names: ['p_np']>)"
      ]
     },
     "execution_count": 93,
     "metadata": {},
     "output_type": "execute_result"
    }
   ],
   "source": [
    "all_dataset"
   ]
  },
  {
   "cell_type": "code",
   "execution_count": null,
   "metadata": {
    "id": "Ru320O52yPNU"
   },
   "outputs": [],
   "source": [
    "train_df = pd.DataFrame({'smiles': all_dataset[0].ids, 'p_np': [item for sublist in all_dataset[0].y.tolist() for item in sublist]} , columns=[\"smiles\", 'p_np'])\n",
    "valid_df = pd.DataFrame({'smiles': all_dataset[1].ids, 'p_np': [item for sublist in all_dataset[1].y.tolist() for item in sublist]} , columns=[\"smiles\", 'p_np'])\n",
    "test_df = pd.DataFrame({'smiles': all_dataset[2].ids, 'p_np': [item for sublist in all_dataset[2].y.tolist() for item in sublist]} , columns=[\"smiles\", 'p_np'])\n",
    "train_df.to_csv(\"train.csv\")\n",
    "valid_df.to_csv(\"valid.csv\")\n",
    "test_df.to_csv(\"test.csv\")"
   ]
  },
  {
   "cell_type": "markdown",
   "metadata": {
    "id": "IgYuKsZUgXsS"
   },
   "source": [
    "# Add data augmentation"
   ]
  },
  {
   "cell_type": "code",
   "execution_count": null,
   "metadata": {
    "id": "xuNnakV-ga0X"
   },
   "outputs": [],
   "source": [
    "def augmentation(df, n_rounds):\n",
    "    dist_aug = {col_name: [] for col_name in df}\n",
    "\n",
    "    for i in range(df.shape[0]):\n",
    "        if df.iloc[i].p_np == 1:\n",
    "            for j in range(n_rounds[0]):\n",
    "              try:\n",
    "                dist_aug['smiles'].append(randomize_smiles(df.iloc[i].smiles))\n",
    "                dist_aug['p_np'].append(df.iloc[i]['p_np'])\n",
    "              except:\n",
    "                print(df.iloc[i].smiles)\n",
    "\n",
    "        if df.iloc[i].p_np == 0:\n",
    "            for j in range(n_rounds[1]):\n",
    "              try:\n",
    "                dist_aug['smiles'].append(randomize_smiles(df.iloc[i].smiles))\n",
    "                dist_aug['p_np'].append(df.iloc[i]['p_np'])\n",
    "              except:\n",
    "                print(df.iloc[i].smiles)\n",
    "        \n",
    "    df_aug = pd.DataFrame.from_dict(dist_aug)\n",
    "    df_aug = df_aug.append(df, ignore_index=True)\n",
    "    return df_aug.drop_duplicates('smiles')"
   ]
  },
  {
   "cell_type": "code",
   "execution_count": null,
   "metadata": {
    "colab": {
     "base_uri": "https://localhost:8080/"
    },
    "id": "OH3ZpcC941hw",
    "outputId": "77c1caf6-1e0b-482b-f1e0-0d1e8584342e"
   },
   "outputs": [
    {
     "name": "stdout",
     "output_type": "stream",
     "text": [
      "1.0    1341\n",
      "0.0     290\n",
      "Name: p_np, dtype: int64\n",
      "1.0    112\n",
      "0.0     92\n",
      "Name: p_np, dtype: int64\n"
     ]
    }
   ],
   "source": [
    "print(train_df.p_np.value_counts())\n",
    "print(valid_df.p_np.value_counts())"
   ]
  },
  {
   "cell_type": "code",
   "execution_count": null,
   "metadata": {
    "id": "zhdeUuvp6R0B"
   },
   "outputs": [],
   "source": [
    "def randomize_smiles(smiles):\n",
    "    m = Chem.MolFromSmiles(smiles)\n",
    "    ans = list(range(m.GetNumAtoms()))\n",
    "    np.random.shuffle(ans)\n",
    "    nm = Chem.RenumberAtoms(m,ans)\n",
    "    return Chem.MolToSmiles(nm, canonical=False, isomericSmiles=True, kekuleSmiles=False)\n"
   ]
  },
  {
   "cell_type": "code",
   "execution_count": null,
   "metadata": {
    "colab": {
     "base_uri": "https://localhost:8080/"
    },
    "id": "x3JFPU-5a3Fo",
    "outputId": "3d99cfb3-75c1-49ac-b721-40be30a44d18"
   },
   "outputs": [
    {
     "name": "stdout",
     "output_type": "stream",
     "text": [
      "Train_aug Samples: 27057\n",
      "Positive:Negative 1.0348198841844025\n"
     ]
    }
   ],
   "source": [
    "train_aug = augmentation(train_df, [10,50])\n",
    "\n",
    "print('Train_aug Samples:', train_aug.shape[0])\n",
    "print('Positive:Negative',np.sum(train_aug.p_np == 1)/ np.sum(train_aug.p_np == 0))"
   ]
  },
  {
   "cell_type": "markdown",
   "metadata": {
    "id": "HVtUnk-6t8jk"
   },
   "source": [
    "This tries to solve class imbalance problem"
   ]
  },
  {
   "cell_type": "code",
   "execution_count": null,
   "metadata": {
    "id": "5etqUIRIMrMj"
   },
   "outputs": [],
   "source": [
    "train_aug.to_csv('aug.csv', index=False)"
   ]
  },
  {
   "cell_type": "markdown",
   "metadata": {
    "id": "xFkDCJPiR-G4"
   },
   "source": [
    "# Random Forest model with bayesian hyperparameters search"
   ]
  },
  {
   "cell_type": "code",
   "execution_count": null,
   "metadata": {
    "id": "dWXhS6cML5UT"
   },
   "outputs": [],
   "source": [
    "dataset_file = os.path.join('/content/', 'aug.csv')\n",
    "loader = dc.data.CSVLoader(tasks=['p_np'], feature_field=\"smiles\", featurizer= dc.feat.CircularFingerprint(size=1024))\n",
    "dt = loader.create_dataset(dataset_file, shard_size=8192)"
   ]
  },
  {
   "cell_type": "code",
   "execution_count": null,
   "metadata": {
    "colab": {
     "base_uri": "https://localhost:8080/"
    },
    "id": "-IbxPSoXPQc1",
    "outputId": "f2ea7560-f531-4ab0-a454-a9e2e0df6e93"
   },
   "outputs": [
    {
     "data": {
      "text/plain": [
       "<DiskDataset X.shape: (27057, 1024), y.shape: (27057, 1), w.shape: (27057, 1), task_names: ['p_np']>"
      ]
     },
     "execution_count": 100,
     "metadata": {},
     "output_type": "execute_result"
    }
   ],
   "source": [
    "dt"
   ]
  },
  {
   "cell_type": "code",
   "execution_count": null,
   "metadata": {
    "id": "QI7rwAfFdHAG"
   },
   "outputs": [],
   "source": [
    "def rf_model_builder(model_dir, hyperparams, mode):\n",
    "  if mode == 'classification':\n",
    "    sklearn_model = RandomForestClassifier(\n",
    "        n_estimators=hyperparams['n_estimators'],\n",
    "        criterion=hyperparams['criterion'],\n",
    "        min_samples_split=hyperparams['min_samples_split'],\n",
    "        bootstrap=hyperparams['bootstrap'])\n",
    "  return dc.models.SklearnModel(sklearn_model, model_dir)\n",
    "\n",
    "\n",
    "def load_model(args, tasks, hyperparams):\n",
    "  \n",
    "  mode = 'classification'\n",
    "\n",
    "  model = dc.models.SingletaskToMultitask(tasks, partial(rf_model_builder, hyperparams=hyperparams, mode=mode))\n",
    "\n",
    "  return model\n",
    "\n",
    "\n",
    "def main(train_set, val_set, test_set, save_path, args, hyperparams):\n",
    "  # Dataset\n",
    "  #args, tasks, all_dataset, transformers = load_dataset(args)\n",
    "  #train_set, val_set, test_set = all_dataset\n",
    "\n",
    "\n",
    "  # Metric\n",
    "  if args['metric'] == 'roc_auc':\n",
    "    metric = dc.metrics.Metric(dc.metrics.roc_auc_score, np.mean)\n",
    "  \n",
    "  all_run_val_metrics = []\n",
    "  all_run_test_metrics = []\n",
    "\n",
    "  for _ in range(args['num_runs']):\n",
    "    # Model\n",
    "    model = load_model(args, tasks, hyperparams)\n",
    "    model.fit(train_set)\n",
    "\n",
    "    val_metric = model.evaluate(val_set, [metric], transformers)\n",
    "    test_metric = model.evaluate(test_set, [metric], transformers)\n",
    "\n",
    "    if args['metric'] == 'roc_auc':\n",
    "      val_metric = val_metric['mean-roc_auc_score']\n",
    "      test_metric = test_metric['mean-roc_auc_score']\n",
    "\n",
    "    all_run_val_metrics.append(val_metric)\n",
    "    all_run_test_metrics.append(test_metric)\n",
    "\n",
    "  with open(save_path + '/eval.txt', 'w') as f:\n",
    "    f.write('Best val {}: {:.4f} +- {:.4f}\\n'.format(\n",
    "        args['metric'], np.mean(all_run_val_metrics),\n",
    "        np.std(all_run_val_metrics)))\n",
    "    f.write('Test {}: {:.4f} +- {:.4f}\\n'.format(args['metric'],\n",
    "                                                 np.mean(all_run_test_metrics),\n",
    "                                                 np.std(all_run_test_metrics)))\n",
    "\n",
    "  with open(save_path + '/configure.json', 'w') as f:\n",
    "    json.dump(hyperparams, f, indent=2)\n",
    "\n",
    "  return all_run_val_metrics, all_run_test_metrics\n",
    "\n",
    "\n",
    "def init_hyper_search_space(args):\n",
    "  # Model-based search space\n",
    "  if args['model'] == 'RF':\n",
    "    search_space = {\n",
    "        'n_estimators': hp.choice('n_estimators', [10, 30, 100]),\n",
    "        'min_samples_split': hp.choice('min_samples_split', [2, 4, 8, 16, 32]),\n",
    "        'bootstrap': hp.choice('bootstrap', [True, False]),\n",
    "    }\n",
    "    search_space['criterion'] = hp.choice('criterion', [\"gini\", \"entropy\"])\n",
    "\n",
    "\n",
    "  return search_space\n",
    "\n",
    "\n",
    "def bayesian_optimization(args, train_set, val_set, test_set):\n",
    "  results = []\n",
    "  candidate_hypers = init_hyper_search_space(args)\n",
    "\n",
    "  def objective(hyperparams):\n",
    "    configure = deepcopy(args)\n",
    "    save_path = init_trial_path(args)\n",
    "    val_metrics, test_metrics = main(train_set, val_set, test_set, save_path, configure, hyperparams)\n",
    "\n",
    "    if args['metric'] in ['roc_auc']:\n",
    "      # To maximize a non-negative value is equivalent to minimize its opposite number\n",
    "      val_metric_to_minimize = -1 * np.mean(val_metrics)\n",
    "    else:\n",
    "      val_metric_to_minimize = np.mean(val_metrics)\n",
    "\n",
    "    results.append((save_path, val_metric_to_minimize, val_metrics,\n",
    "                    test_metrics))\n",
    "\n",
    "    return val_metric_to_minimize\n",
    "\n",
    "  fmin(\n",
    "      objective,\n",
    "      candidate_hypers,\n",
    "      algo=tpe.suggest,\n",
    "      max_evals=args['num_trials'])\n",
    "  results.sort(key=lambda tup: tup[1])\n",
    "  best_trial_path, _, best_val_metrics, best_test_metrics = results[0]\n",
    "\n",
    "  copyfile(best_trial_path + '/configure.json',\n",
    "           args['result_path'] + '/configure.json')\n",
    "  copyfile(best_trial_path + '/eval.txt', args['result_path'] + '/eval.txt')\n",
    "\n",
    "  return best_val_metrics, best_test_metrics"
   ]
  },
  {
   "cell_type": "code",
   "execution_count": null,
   "metadata": {
    "id": "_ZOKLpxk0njq"
   },
   "outputs": [],
   "source": [
    "def mkdir_p(path):\n",
    "  \"\"\"Create a folder for the given path.\n",
    "  Parameters\n",
    "  ----------\n",
    "  path: str\n",
    "    Folder to create.\n",
    "  \"\"\"\n",
    "  try:\n",
    "    os.makedirs(path)\n",
    "    print('Created directory {}'.format(path))\n",
    "  except OSError as exc:\n",
    "    if exc.errno == errno.EEXIST and os.path.isdir(path):\n",
    "      print('Directory {} already exists.'.format(path))\n",
    "    else:\n",
    "      raise\n",
    "\n",
    "\n",
    "def init_trial_path(args):\n",
    "  \"\"\"Initialize the path for a hyperparameter setting\n",
    "  Parameters\n",
    "  ----------\n",
    "  args : dict\n",
    "    Settings\n",
    "  Returns\n",
    "  -------\n",
    "  args : dict\n",
    "    Settings with the trial path updated\n",
    "  \"\"\"\n",
    "  trial_id = 0\n",
    "  path_exists = True\n",
    "  while path_exists:\n",
    "    trial_id += 1\n",
    "    path_to_results = args['result_path'] + '/{:d}'.format(trial_id)\n",
    "    path_exists = os.path.exists(path_to_results)\n",
    "  mkdir_p(path_to_results)\n",
    "\n",
    "  return path_to_results\n",
    "\n",
    "\n",
    "class EarlyStopper():\n",
    "\n",
    "  def __init__(self, save_path, metric, patience):\n",
    "    if metric in ['roc_auc', 'r2']:\n",
    "      self.best_score = 0\n",
    "      self.mode = 'higher'\n",
    "    elif metric in ['rmse']:\n",
    "      self.best_score = float('inf')\n",
    "      self.mode = 'lower'\n",
    "    else:\n",
    "      raise ValueError('Unexpected metric: {}'.format(metric))\n",
    "\n",
    "    self.save_path = save_path\n",
    "    self.max_patience = patience\n",
    "    self.patience_count = 0\n",
    "\n",
    "  def __call__(self, model, current_score):\n",
    "    from deepchem.models import TorchModel\n",
    "    if self.mode == 'higher' and current_score > self.best_score:\n",
    "      self.best_score = current_score\n",
    "      self.patience_count = 0\n",
    "      if type(model).__bases__[0] == TorchModel:\n",
    "        torch.save(model.model.state_dict(), self.save_path + '/early_stop.pt')\n",
    "      else:  # KerasModel\n",
    "        model.model.save(self.save_path + '/early_stop')\n",
    "    elif self.mode == 'lower' and current_score < self.best_score:\n",
    "      self.best_score = current_score\n",
    "      self.patience_count = 0\n",
    "      if type(model).__bases__[0] == TorchModel:\n",
    "        torch.save(model.model.state_dict(), self.save_path + '/early_stop.pt')\n",
    "      else:  # KerasModel\n",
    "        model.model.save(self.save_path + '/early_stop')\n",
    "    else:\n",
    "      self.patience_count += 1\n",
    "\n",
    "    return self.patience_count == self.max_patience\n",
    "\n",
    "  def load_state_dict(self, model):\n",
    "    model.model.load_state_dict(torch.load(self.save_path + '/early_stop.pt'))\n",
    "\n",
    "  def load_keras_model(self, model):\n",
    "    model.restore(model_dir=self.save_path)"
   ]
  },
  {
   "cell_type": "code",
   "execution_count": null,
   "metadata": {
    "colab": {
     "base_uri": "https://localhost:8080/"
    },
    "id": "6ZBz6CE-EIPJ",
    "outputId": "0897adc8-75fc-4382-bf2e-c6ab61e06224"
   },
   "outputs": [
    {
     "name": "stdout",
     "output_type": "stream",
     "text": [
      "Directory results already exists.\n",
      "Start hyperparameter search with Bayesian optimization for 16 trials\n",
      "Created directory results/6\n",
      "Created directory results/7\n",
      "Created directory results/8\n",
      "Created directory results/9\n",
      "Created directory results/10\n",
      "Created directory results/11\n",
      "Created directory results/12\n",
      "Created directory results/13\n",
      "Created directory results/14\n",
      "Created directory results/15\n",
      "Created directory results/16\n",
      "Created directory results/17\n",
      "Created directory results/18\n",
      "Created directory results/19\n",
      "Created directory results/20\n",
      "Created directory results/21\n",
      "100%|██████████| 16/16 [06:11<00:00, 23.20s/it, best loss: -0.9697204968944099]\n"
     ]
    }
   ],
   "source": [
    "args= {'dataset' : 'BBBP',\n",
    "  'model' : 'RF',\n",
    "  'featurizer' : 'ECFP',\n",
    "  'result_path' : 'results',\n",
    "  'num_runs' : 3,\n",
    "  'hyper_search' : True,\n",
    "  'num_trials' : 16}\n",
    "\n",
    "  # Decide the metric to use based on the dataset\n",
    "args['metric'] = 'roc_auc'\n",
    "\n",
    "mkdir_p(args['result_path'])\n",
    "train_set = dt \n",
    "val_set = all_dataset[1] \n",
    "test_set = all_dataset[2] \n",
    "if args['hyper_search']:\n",
    "  print('Start hyperparameter search with Bayesian '\n",
    "        'optimization for {:d} trials'.format(args['num_trials']))\n",
    "  val_metrics, test_metrics = bayesian_optimization(args, train_set, val_set, test_set)\n",
    "else:\n",
    "  print('Use the manually specified hyperparameters')\n",
    "  with open('configures/{}_{}/{}.json'.format(\n",
    "      args['model'], args['featurizer'], args['dataset'])) as f:\n",
    "    default_hyperparams = json.load(f)\n",
    "  val_metrics, test_metrics = main(train_set, val_set, test_set, args['result_path'], args,\n",
    "                                    default_hyperparams)\n",
    "\n",
    "  print('Val metric for 3 runs: {:.4f} +- {:.4f}'.format(\n",
    "      np.mean(val_metrics), np.std(val_metrics)))\n",
    "  print('Test metric for 3 runs: {:.4f} +- {:.4f}'.format(\n",
    "      np.mean(test_metrics), np.std(test_metrics)))"
   ]
  },
  {
   "cell_type": "markdown",
   "metadata": {
    "id": "NYOIEcH4XK-A"
   },
   "source": [
    "Here we got \n",
    "\n",
    "Best val roc_auc: 0.9708 +- 0.0018\n",
    "\n",
    "Test roc_auc: 0.7277 +- 0.0122"
   ]
  },
  {
   "cell_type": "markdown",
   "metadata": {
    "id": "qQA_rhObY6uf"
   },
   "source": [
    "{\n",
    "  \"bootstrap\": false,\n",
    "  \"criterion\": \"entropy\",\n",
    "  \"min_samples_split\": 4,\n",
    "  \"n_estimators\": 100\n",
    "}"
   ]
  },
  {
   "cell_type": "markdown",
   "metadata": {
    "id": "cIpdfoKi0qPk"
   },
   "source": [
    "The ROC-AUC metric\n",
    "is suitable for the BBBP prediction from the point of view of the brain–drug discovery,\n",
    "because the metric is probabilistic and sensitive to the prediction quality for both the\n",
    "positive and negative penetration"
   ]
  },
  {
   "cell_type": "code",
   "execution_count": null,
   "metadata": {
    "id": "VtqnqtyFaVly"
   },
   "outputs": [],
   "source": [
    "from sklearn import metrics\n",
    "import matplotlib.pyplot as plt"
   ]
  },
  {
   "cell_type": "code",
   "execution_count": null,
   "metadata": {
    "id": "NHr548DxgalO"
   },
   "outputs": [],
   "source": [
    "model = RandomForestClassifier(n_estimators=100,\n",
    "      criterion=\"entropy\",\n",
    "      min_samples_split = 4,\n",
    "      bootstrap=False)"
   ]
  },
  {
   "cell_type": "code",
   "execution_count": null,
   "metadata": {
    "colab": {
     "base_uri": "https://localhost:8080/"
    },
    "id": "J2dz_KzmpN6a",
    "outputId": "6fda23ba-4091-4a1b-a91b-de563e921440"
   },
   "outputs": [
    {
     "name": "stderr",
     "output_type": "stream",
     "text": [
      "/usr/local/lib/python3.7/dist-packages/ipykernel_launcher.py:1: DataConversionWarning: A column-vector y was passed when a 1d array was expected. Please change the shape of y to (n_samples,), for example using ravel().\n",
      "  \"\"\"Entry point for launching an IPython kernel.\n"
     ]
    },
    {
     "data": {
      "text/plain": [
       "RandomForestClassifier(criterion='entropy', min_samples_split=32)"
      ]
     },
     "execution_count": 123,
     "metadata": {},
     "output_type": "execute_result"
    }
   ],
   "source": [
    "model.fit(train_set.X, train_set.y)"
   ]
  },
  {
   "cell_type": "code",
   "execution_count": null,
   "metadata": {
    "colab": {
     "base_uri": "https://localhost:8080/",
     "height": 279
    },
    "id": "L5Qj6YmpZ9Nh",
    "outputId": "b9451061-03a0-451d-9f80-f350ca44741f"
   },
   "outputs": [
    {
     "data": {
      "image/png": "[encoded data removed]",
      "text/plain": [
       "<Figure size 432x288 with 1 Axes>"
      ]
     },
     "metadata": {
      "needs_background": "light"
     },
     "output_type": "display_data"
    }
   ],
   "source": [
    "y_pred_proba = model.predict_proba(test_set.X)[::,1]\n",
    "fpr, tpr, _ = metrics.roc_curve(test_set.y,  y_pred_proba)\n",
    "\n",
    "#create ROC curve\n",
    "plt.plot(fpr,tpr)\n",
    "plt.ylabel('True Positive Rate')\n",
    "plt.xlabel('False Positive Rate')\n",
    "plt.show()"
   ]
  },
  {
   "cell_type": "markdown",
   "metadata": {
    "id": "OcBBVkt03cYD"
   },
   "source": [
    "MoleculeNet recommends to use ROC-AUC and the\n",
    "fixed scaffold split. The procedure of this split is as follows: (1) the molecular compounds\n",
    "are grouped into scaffold sets on the basis of the skeletal ring structures termed scaffolds ; (2) the compounds are sorted in reverse order (descending sort), and the scaffold\n",
    "sets are sorted from the largest to the smallest; (3) the dataset are split into training, validation, and test data in an 8:1:1 ratio from the top. "
   ]
  },
  {
   "cell_type": "code",
   "execution_count": null,
   "metadata": {
    "id": "MUVpapuYZ9Ye"
   },
   "outputs": [],
   "source": [
    "predictions = model.predict(test_set.X)"
   ]
  },
  {
   "cell_type": "code",
   "execution_count": null,
   "metadata": {
    "colab": {
     "base_uri": "https://localhost:8080/",
     "height": 286
    },
    "id": "5h2peqgxZ9a0",
    "outputId": "55ac945a-edcb-4a2a-c6bf-559631e347b8"
   },
   "outputs": [
    {
     "data": {
      "text/plain": [
       "<matplotlib.axes._subplots.AxesSubplot at 0x7fa2333f2c10>"
      ]
     },
     "execution_count": 120,
     "metadata": {},
     "output_type": "execute_result"
    },
    {
     "data": {
      "image/png": "[encoded data removed]",
      "text/plain": [
       "<Figure size 432x288 with 2 Axes>"
      ]
     },
     "metadata": {
      "needs_background": "light"
     },
     "output_type": "display_data"
    }
   ],
   "source": [
    "from sklearn.metrics import confusion_matrix\n",
    "import seaborn as sns\n",
    "\n",
    "sns.heatmap(confusion_matrix(test_set.y, predictions), annot=True, cmap=\"Blues\")"
   ]
  },
  {
   "cell_type": "markdown",
   "metadata": {
    "id": "phbZoOD8rt3k"
   },
   "source": [
    "Despite rather good ROC AUC score the confusion matrix shows high FP rate. Interestigly, FN rate is really low.\n",
    "\n",
    "Looking at validation and test scores we can assume that the model tends to overfit. However, this is not really surprising in respect that scaffold split is unbalanced."
   ]
  },
  {
   "cell_type": "markdown",
   "metadata": {
    "id": "AyNzv5gKuFlS"
   },
   "source": [
    "## However, ECFP fingerprints are not explainable features. Let's try Lipinski features in order to try to undertable fetures importance\n",
    "\n"
   ]
  },
  {
   "cell_type": "code",
   "execution_count": null,
   "metadata": {
    "id": "r9Rr4sgTHLw1"
   },
   "outputs": [],
   "source": [
    "import rdkit.Chem.Lipinski\n",
    "import rdkit.Chem.Fragments\n",
    "import rdkit.Chem.QED"
   ]
  },
  {
   "cell_type": "markdown",
   "metadata": {
    "id": "OvaII8rIKYMh"
   },
   "source": [
    "The idea about descriptors is taken from a recent article with minor changes\n",
    "\n",
    "Sakiyama H, Fukuda M, Okuno T. Prediction of Blood-Brain Barrier Penetration (BBBP) Based on Molecular Descriptors of the Free-Form and In-Blood-Form Datasets. Molecules. 2021;26(24):7428. Published 2021 Dec 7. doi:10.3390/molecules26247428\n",
    "\n",
    "a group of authors performed a complex analysis and comparison of diffrent approaches of handling BBBP data"
   ]
  },
  {
   "cell_type": "code",
   "execution_count": null,
   "metadata": {
    "id": "3Mw1pQIb-Iv_"
   },
   "outputs": [],
   "source": [
    "ms = [Chem.MolFromSmiles(i) for i in test_df['smiles'].to_list()]\n",
    "nh = [Chem.Lipinski.NHOHCount(x) for x in ms] \n",
    "het = [Chem.Lipinski.NumHeteroatoms(x) for x in ms] \n",
    "don = [Chem.Lipinski.NumHDonors(x) for x in ms]\n",
    "nhoh = [Chem.Lipinski.NHOHCount(x) for x in ms]\n",
    "acc = [Chem.Lipinski.NumHAcceptors(x) for x in ms]\n",
    "sat_het = [Chem.Lipinski.NumSaturatedHeterocycles(x) for x in ms]\n",
    "ter = [Chem.Fragments.fr_Al_OH_noTert(x) for x in ms]\n",
    "alip = [Chem.Lipinski.NumAliphaticHeterocycles(x) for x in ms]\n",
    "no = [Chem.Lipinski.NOCount(x) for x in ms]\n",
    "qed = [Chem.QED.qed(x) for x in ms]\n",
    "rot = [Chem.Lipinski.NumRotatableBonds(x) for x in ms]\n",
    "ring = [Chem.Lipinski.RingCount(x) for x in ms]"
   ]
  },
  {
   "cell_type": "code",
   "execution_count": null,
   "metadata": {
    "id": "tR4rfAzM-Iyc"
   },
   "outputs": [],
   "source": [
    "test = pd.DataFrame(list(zip(test_df['smiles'].to_list(), nh, het, don, nhoh, acc, sat_het, ter, alip, no, qed, rot, ring, test_df['p_np'].to_list())),\n",
    "                  columns =['smiles', 'nh', 'het', 'don', 'nhoh', 'acc', 'sat_het', 'ter', 'alip', 'no', 'qed', 'rot', 'ring', 'p_np'])"
   ]
  },
  {
   "cell_type": "code",
   "execution_count": null,
   "metadata": {
    "colab": {
     "base_uri": "https://localhost:8080/",
     "height": 424
    },
    "id": "sNUwmE4CIt8f",
    "outputId": "f469bbdd-a1b4-4c69-959c-2367731eff29"
   },
   "outputs": [
    {
     "data": {
      "text/html": [
       "\n",
       "  <div id=\"df-aa62754a-183f-47a2-be16-2647534f18cf\">\n",
       "    <div class=\"colab-df-container\">\n",
       "      <div>\n",
       "<style scoped>\n",
       "    .dataframe tbody tr th:only-of-type {\n",
       "        vertical-align: middle;\n",
       "    }\n",
       "\n",
       "    .dataframe tbody tr th {\n",
       "        vertical-align: top;\n",
       "    }\n",
       "\n",
       "    .dataframe thead th {\n",
       "        text-align: right;\n",
       "    }\n",
       "</style>\n",
       "<table border=\"1\" class=\"dataframe\">\n",
       "  <thead>\n",
       "    <tr style=\"text-align: right;\">\n",
       "      <th></th>\n",
       "      <th>smiles</th>\n",
       "      <th>nh</th>\n",
       "      <th>het</th>\n",
       "      <th>don</th>\n",
       "      <th>nhoh</th>\n",
       "      <th>acc</th>\n",
       "      <th>sat_het</th>\n",
       "      <th>ter</th>\n",
       "      <th>alip</th>\n",
       "      <th>no</th>\n",
       "      <th>qed</th>\n",
       "      <th>rot</th>\n",
       "      <th>ring</th>\n",
       "      <th>p_np</th>\n",
       "    </tr>\n",
       "  </thead>\n",
       "  <tbody>\n",
       "    <tr>\n",
       "      <th>0</th>\n",
       "      <td>CCOC(=O)[C@H](CCc1ccccc1)N[C@@H](C)C(=O)N2CCC[...</td>\n",
       "      <td>2</td>\n",
       "      <td>7</td>\n",
       "      <td>2</td>\n",
       "      <td>2</td>\n",
       "      <td>5</td>\n",
       "      <td>1</td>\n",
       "      <td>0</td>\n",
       "      <td>1</td>\n",
       "      <td>7</td>\n",
       "      <td>0.635835</td>\n",
       "      <td>9</td>\n",
       "      <td>2</td>\n",
       "      <td>0.0</td>\n",
       "    </tr>\n",
       "    <tr>\n",
       "      <th>1</th>\n",
       "      <td>FC(F)(F)[C@]1(OC(=O)Nc2ccc(Cl)cc12)C#CC3CC3</td>\n",
       "      <td>1</td>\n",
       "      <td>7</td>\n",
       "      <td>1</td>\n",
       "      <td>1</td>\n",
       "      <td>2</td>\n",
       "      <td>0</td>\n",
       "      <td>0</td>\n",
       "      <td>1</td>\n",
       "      <td>3</td>\n",
       "      <td>0.732809</td>\n",
       "      <td>0</td>\n",
       "      <td>3</td>\n",
       "      <td>0.0</td>\n",
       "    </tr>\n",
       "    <tr>\n",
       "      <th>2</th>\n",
       "      <td>CN1C[C@@H](C[C@H]2[C@H]1Cc3c[nH]c4cccc2c34)C(=...</td>\n",
       "      <td>3</td>\n",
       "      <td>10</td>\n",
       "      <td>3</td>\n",
       "      <td>3</td>\n",
       "      <td>6</td>\n",
       "      <td>4</td>\n",
       "      <td>0</td>\n",
       "      <td>4</td>\n",
       "      <td>10</td>\n",
       "      <td>0.433136</td>\n",
       "      <td>4</td>\n",
       "      <td>8</td>\n",
       "      <td>0.0</td>\n",
       "    </tr>\n",
       "    <tr>\n",
       "      <th>3</th>\n",
       "      <td>CN1CCC[C@H]1c2cccnc2</td>\n",
       "      <td>0</td>\n",
       "      <td>2</td>\n",
       "      <td>0</td>\n",
       "      <td>0</td>\n",
       "      <td>2</td>\n",
       "      <td>1</td>\n",
       "      <td>0</td>\n",
       "      <td>1</td>\n",
       "      <td>2</td>\n",
       "      <td>0.626152</td>\n",
       "      <td>1</td>\n",
       "      <td>2</td>\n",
       "      <td>1.0</td>\n",
       "    </tr>\n",
       "    <tr>\n",
       "      <th>4</th>\n",
       "      <td>CN1CCC(=CC1)c2ccccc2</td>\n",
       "      <td>0</td>\n",
       "      <td>1</td>\n",
       "      <td>0</td>\n",
       "      <td>0</td>\n",
       "      <td>1</td>\n",
       "      <td>0</td>\n",
       "      <td>0</td>\n",
       "      <td>1</td>\n",
       "      <td>1</td>\n",
       "      <td>0.630053</td>\n",
       "      <td>1</td>\n",
       "      <td>2</td>\n",
       "      <td>1.0</td>\n",
       "    </tr>\n",
       "    <tr>\n",
       "      <th>...</th>\n",
       "      <td>...</td>\n",
       "      <td>...</td>\n",
       "      <td>...</td>\n",
       "      <td>...</td>\n",
       "      <td>...</td>\n",
       "      <td>...</td>\n",
       "      <td>...</td>\n",
       "      <td>...</td>\n",
       "      <td>...</td>\n",
       "      <td>...</td>\n",
       "      <td>...</td>\n",
       "      <td>...</td>\n",
       "      <td>...</td>\n",
       "      <td>...</td>\n",
       "    </tr>\n",
       "    <tr>\n",
       "      <th>199</th>\n",
       "      <td>Nc1nnc(c(N)n1)c2cccc(Cl)c2Cl</td>\n",
       "      <td>4</td>\n",
       "      <td>7</td>\n",
       "      <td>2</td>\n",
       "      <td>4</td>\n",
       "      <td>5</td>\n",
       "      <td>0</td>\n",
       "      <td>0</td>\n",
       "      <td>0</td>\n",
       "      <td>5</td>\n",
       "      <td>0.813810</td>\n",
       "      <td>1</td>\n",
       "      <td>2</td>\n",
       "      <td>1.0</td>\n",
       "    </tr>\n",
       "    <tr>\n",
       "      <th>200</th>\n",
       "      <td>COc1ccc(Cl)cc1C(=O)NCCc2ccc(cc2)[S](=O)(=O)NC(...</td>\n",
       "      <td>3</td>\n",
       "      <td>10</td>\n",
       "      <td>3</td>\n",
       "      <td>3</td>\n",
       "      <td>5</td>\n",
       "      <td>0</td>\n",
       "      <td>0</td>\n",
       "      <td>0</td>\n",
       "      <td>8</td>\n",
       "      <td>0.519180</td>\n",
       "      <td>8</td>\n",
       "      <td>3</td>\n",
       "      <td>1.0</td>\n",
       "    </tr>\n",
       "    <tr>\n",
       "      <th>201</th>\n",
       "      <td>Cn1c2CCC(Cn3ccnc3C)C(=O)c2c4ccccc14</td>\n",
       "      <td>0</td>\n",
       "      <td>4</td>\n",
       "      <td>0</td>\n",
       "      <td>0</td>\n",
       "      <td>4</td>\n",
       "      <td>0</td>\n",
       "      <td>0</td>\n",
       "      <td>0</td>\n",
       "      <td>4</td>\n",
       "      <td>0.728009</td>\n",
       "      <td>2</td>\n",
       "      <td>4</td>\n",
       "      <td>1.0</td>\n",
       "    </tr>\n",
       "    <tr>\n",
       "      <th>202</th>\n",
       "      <td>CN(C)[C@H]1[C@@H]2C[C@H]3C(=C(O)c4c(O)cccc4[C@...</td>\n",
       "      <td>6</td>\n",
       "      <td>11</td>\n",
       "      <td>6</td>\n",
       "      <td>6</td>\n",
       "      <td>11</td>\n",
       "      <td>1</td>\n",
       "      <td>2</td>\n",
       "      <td>1</td>\n",
       "      <td>11</td>\n",
       "      <td>0.137829</td>\n",
       "      <td>4</td>\n",
       "      <td>5</td>\n",
       "      <td>1.0</td>\n",
       "    </tr>\n",
       "    <tr>\n",
       "      <th>203</th>\n",
       "      <td>CCN1CCN(C(=O)N[C@@H](C(=O)N[C@H]2[C@H]3SCC(=C(...</td>\n",
       "      <td>4</td>\n",
       "      <td>19</td>\n",
       "      <td>4</td>\n",
       "      <td>4</td>\n",
       "      <td>13</td>\n",
       "      <td>2</td>\n",
       "      <td>0</td>\n",
       "      <td>3</td>\n",
       "      <td>17</td>\n",
       "      <td>0.144538</td>\n",
       "      <td>9</td>\n",
       "      <td>5</td>\n",
       "      <td>1.0</td>\n",
       "    </tr>\n",
       "  </tbody>\n",
       "</table>\n",
       "<p>204 rows × 14 columns</p>\n",
       "</div>\n",
       "      <button class=\"colab-df-convert\" onclick=\"convertToInteractive('df-aa62754a-183f-47a2-be16-2647534f18cf')\"\n",
       "              title=\"Convert this dataframe to an interactive table.\"\n",
       "              style=\"display:none;\">\n",
       "        \n",
       "  <svg xmlns=\"http://www.w3.org/2000/svg\" height=\"24px\"viewBox=\"0 0 24 24\"\n",
       "       width=\"24px\">\n",
       "    <path d=\"M0 0h24v24H0V0z\" fill=\"none\"/>\n",
       "    <path d=\"M18.56 5.44l.94 2.06.94-2.06 2.06-.94-2.06-.94-.94-2.06-.94 2.06-2.06.94zm-11 1L8.5 8.5l.94-2.06 2.06-.94-2.06-.94L8.5 2.5l-.94 2.06-2.06.94zm10 10l.94 2.06.94-2.06 2.06-.94-2.06-.94-.94-2.06-.94 2.06-2.06.94z\"/><path d=\"M17.41 7.96l-1.37-1.37c-.4-.4-.92-.59-1.43-.59-.52 0-1.04.2-1.43.59L10.3 9.45l-7.72 7.72c-.78.78-.78 2.05 0 2.83L4 21.41c.39.39.9.59 1.41.59.51 0 1.02-.2 1.41-.59l7.78-7.78 2.81-2.81c.8-.78.8-2.07 0-2.86zM5.41 20L4 18.59l7.72-7.72 1.47 1.35L5.41 20z\"/>\n",
       "  </svg>\n",
       "      </button>\n",
       "      \n",
       "  <style>\n",
       "    .colab-df-container {\n",
       "      display:flex;\n",
       "      flex-wrap:wrap;\n",
       "      gap: 12px;\n",
       "    }\n",
       "\n",
       "    .colab-df-convert {\n",
       "      background-color: #E8F0FE;\n",
       "      border: none;\n",
       "      border-radius: 50%;\n",
       "      cursor: pointer;\n",
       "      display: none;\n",
       "      fill: #1967D2;\n",
       "      height: 32px;\n",
       "      padding: 0 0 0 0;\n",
       "      width: 32px;\n",
       "    }\n",
       "\n",
       "    .colab-df-convert:hover {\n",
       "      background-color: #E2EBFA;\n",
       "      box-shadow: 0px 1px 2px rgba(60, 64, 67, 0.3), 0px 1px 3px 1px rgba(60, 64, 67, 0.15);\n",
       "      fill: #174EA6;\n",
       "    }\n",
       "\n",
       "    [theme=dark] .colab-df-convert {\n",
       "      background-color: #3B4455;\n",
       "      fill: #D2E3FC;\n",
       "    }\n",
       "\n",
       "    [theme=dark] .colab-df-convert:hover {\n",
       "      background-color: #434B5C;\n",
       "      box-shadow: 0px 1px 3px 1px rgba(0, 0, 0, 0.15);\n",
       "      filter: drop-shadow(0px 1px 2px rgba(0, 0, 0, 0.3));\n",
       "      fill: #FFFFFF;\n",
       "    }\n",
       "  </style>\n",
       "\n",
       "      <script>\n",
       "        const buttonEl =\n",
       "          document.querySelector('#df-aa62754a-183f-47a2-be16-2647534f18cf button.colab-df-convert');\n",
       "        buttonEl.style.display =\n",
       "          google.colab.kernel.accessAllowed ? 'block' : 'none';\n",
       "\n",
       "        async function convertToInteractive(key) {\n",
       "          const element = document.querySelector('#df-aa62754a-183f-47a2-be16-2647534f18cf');\n",
       "          const dataTable =\n",
       "            await google.colab.kernel.invokeFunction('convertToInteractive',\n",
       "                                                     [key], {});\n",
       "          if (!dataTable) return;\n",
       "\n",
       "          const docLinkHtml = 'Like what you see? Visit the ' +\n",
       "            '<a target=\"_blank\" href=https://colab.research.google.com/notebooks/data_table.ipynb>data table notebook</a>'\n",
       "            + ' to learn more about interactive tables.';\n",
       "          element.innerHTML = '';\n",
       "          dataTable['output_type'] = 'display_data';\n",
       "          await google.colab.output.renderOutput(dataTable, element);\n",
       "          const docLink = document.createElement('div');\n",
       "          docLink.innerHTML = docLinkHtml;\n",
       "          element.appendChild(docLink);\n",
       "        }\n",
       "      </script>\n",
       "    </div>\n",
       "  </div>\n",
       "  "
      ],
      "text/plain": [
       "                                                smiles  nh  het  don  nhoh  \\\n",
       "0    CCOC(=O)[C@H](CCc1ccccc1)N[C@@H](C)C(=O)N2CCC[...   2    7    2     2   \n",
       "1          FC(F)(F)[C@]1(OC(=O)Nc2ccc(Cl)cc12)C#CC3CC3   1    7    1     1   \n",
       "2    CN1C[C@@H](C[C@H]2[C@H]1Cc3c[nH]c4cccc2c34)C(=...   3   10    3     3   \n",
       "3                                 CN1CCC[C@H]1c2cccnc2   0    2    0     0   \n",
       "4                                 CN1CCC(=CC1)c2ccccc2   0    1    0     0   \n",
       "..                                                 ...  ..  ...  ...   ...   \n",
       "199                       Nc1nnc(c(N)n1)c2cccc(Cl)c2Cl   4    7    2     4   \n",
       "200  COc1ccc(Cl)cc1C(=O)NCCc2ccc(cc2)[S](=O)(=O)NC(...   3   10    3     3   \n",
       "201                Cn1c2CCC(Cn3ccnc3C)C(=O)c2c4ccccc14   0    4    0     0   \n",
       "202  CN(C)[C@H]1[C@@H]2C[C@H]3C(=C(O)c4c(O)cccc4[C@...   6   11    6     6   \n",
       "203  CCN1CCN(C(=O)N[C@@H](C(=O)N[C@H]2[C@H]3SCC(=C(...   4   19    4     4   \n",
       "\n",
       "     acc  sat_het  ter  alip  no       qed  rot  ring  p_np  \n",
       "0      5        1    0     1   7  0.635835    9     2   0.0  \n",
       "1      2        0    0     1   3  0.732809    0     3   0.0  \n",
       "2      6        4    0     4  10  0.433136    4     8   0.0  \n",
       "3      2        1    0     1   2  0.626152    1     2   1.0  \n",
       "4      1        0    0     1   1  0.630053    1     2   1.0  \n",
       "..   ...      ...  ...   ...  ..       ...  ...   ...   ...  \n",
       "199    5        0    0     0   5  0.813810    1     2   1.0  \n",
       "200    5        0    0     0   8  0.519180    8     3   1.0  \n",
       "201    4        0    0     0   4  0.728009    2     4   1.0  \n",
       "202   11        1    2     1  11  0.137829    4     5   1.0  \n",
       "203   13        2    0     3  17  0.144538    9     5   1.0  \n",
       "\n",
       "[204 rows x 14 columns]"
      ]
     },
     "execution_count": 138,
     "metadata": {},
     "output_type": "execute_result"
    }
   ],
   "source": [
    "test"
   ]
  },
  {
   "cell_type": "markdown",
   "metadata": {
    "id": "wJslXkmdSk6K"
   },
   "source": [
    "We do not need valid dataset here (we will use our previous hyperparameters), so we can concat it with train\n",
    "\n",
    "No augmentation is used"
   ]
  },
  {
   "cell_type": "code",
   "execution_count": null,
   "metadata": {
    "colab": {
     "base_uri": "https://localhost:8080/",
     "height": 424
    },
    "id": "1bzh6cjqSOZD",
    "outputId": "a6944105-5404-441d-d28f-69a7c4dc17ed"
   },
   "outputs": [
    {
     "data": {
      "text/html": [
       "\n",
       "  <div id=\"df-2b4d03ca-b8e6-4b55-85d8-50d7a24fcb78\">\n",
       "    <div class=\"colab-df-container\">\n",
       "      <div>\n",
       "<style scoped>\n",
       "    .dataframe tbody tr th:only-of-type {\n",
       "        vertical-align: middle;\n",
       "    }\n",
       "\n",
       "    .dataframe tbody tr th {\n",
       "        vertical-align: top;\n",
       "    }\n",
       "\n",
       "    .dataframe thead th {\n",
       "        text-align: right;\n",
       "    }\n",
       "</style>\n",
       "<table border=\"1\" class=\"dataframe\">\n",
       "  <thead>\n",
       "    <tr style=\"text-align: right;\">\n",
       "      <th></th>\n",
       "      <th>smiles</th>\n",
       "      <th>p_np</th>\n",
       "    </tr>\n",
       "  </thead>\n",
       "  <tbody>\n",
       "    <tr>\n",
       "      <th>0</th>\n",
       "      <td>C(=O)(OC(C)(C)C)CCCc1ccc(cc1)N(CCCl)CCCl</td>\n",
       "      <td>1.0</td>\n",
       "    </tr>\n",
       "    <tr>\n",
       "      <th>1</th>\n",
       "      <td>C[C@H](N)Cc1ccccc1</td>\n",
       "      <td>1.0</td>\n",
       "    </tr>\n",
       "    <tr>\n",
       "      <th>2</th>\n",
       "      <td>C[S](=O)(=O)c1ccc(cc1)[C@@H](O)[C@@H](CO)NC(=O...</td>\n",
       "      <td>1.0</td>\n",
       "    </tr>\n",
       "    <tr>\n",
       "      <th>3</th>\n",
       "      <td>CC(N)COc1c(C)cccc1C</td>\n",
       "      <td>1.0</td>\n",
       "    </tr>\n",
       "    <tr>\n",
       "      <th>4</th>\n",
       "      <td>c1(ccccc1)CC</td>\n",
       "      <td>1.0</td>\n",
       "    </tr>\n",
       "    <tr>\n",
       "      <th>...</th>\n",
       "      <td>...</td>\n",
       "      <td>...</td>\n",
       "    </tr>\n",
       "    <tr>\n",
       "      <th>199</th>\n",
       "      <td>CN[C@H]1[C@@H](O)[C@H]2O[C@@H](O[C@@H]3[C@@H](...</td>\n",
       "      <td>0.0</td>\n",
       "    </tr>\n",
       "    <tr>\n",
       "      <th>200</th>\n",
       "      <td>CC1(C)S[C@@H]2C(NC(=O)[C@H](NC(=O)C3=CNc4cccnc...</td>\n",
       "      <td>0.0</td>\n",
       "    </tr>\n",
       "    <tr>\n",
       "      <th>201</th>\n",
       "      <td>CC1(C)S[C@@H]2[C@H](NC(=O)C34C[C@H]5C[C@H](CC(...</td>\n",
       "      <td>0.0</td>\n",
       "    </tr>\n",
       "    <tr>\n",
       "      <th>202</th>\n",
       "      <td>COc1cccc2C(=O)c3c(O)c4CC(O)(CC(O)c4c(O)c3C(=O)...</td>\n",
       "      <td>0.0</td>\n",
       "    </tr>\n",
       "    <tr>\n",
       "      <th>203</th>\n",
       "      <td>CC[C@@]1(O)C[C@H](OC2CC(C(OC3CC(O)C(OC4CCC(=O)...</td>\n",
       "      <td>0.0</td>\n",
       "    </tr>\n",
       "  </tbody>\n",
       "</table>\n",
       "<p>1835 rows × 2 columns</p>\n",
       "</div>\n",
       "      <button class=\"colab-df-convert\" onclick=\"convertToInteractive('df-2b4d03ca-b8e6-4b55-85d8-50d7a24fcb78')\"\n",
       "              title=\"Convert this dataframe to an interactive table.\"\n",
       "              style=\"display:none;\">\n",
       "        \n",
       "  <svg xmlns=\"http://www.w3.org/2000/svg\" height=\"24px\"viewBox=\"0 0 24 24\"\n",
       "       width=\"24px\">\n",
       "    <path d=\"M0 0h24v24H0V0z\" fill=\"none\"/>\n",
       "    <path d=\"M18.56 5.44l.94 2.06.94-2.06 2.06-.94-2.06-.94-.94-2.06-.94 2.06-2.06.94zm-11 1L8.5 8.5l.94-2.06 2.06-.94-2.06-.94L8.5 2.5l-.94 2.06-2.06.94zm10 10l.94 2.06.94-2.06 2.06-.94-2.06-.94-.94-2.06-.94 2.06-2.06.94z\"/><path d=\"M17.41 7.96l-1.37-1.37c-.4-.4-.92-.59-1.43-.59-.52 0-1.04.2-1.43.59L10.3 9.45l-7.72 7.72c-.78.78-.78 2.05 0 2.83L4 21.41c.39.39.9.59 1.41.59.51 0 1.02-.2 1.41-.59l7.78-7.78 2.81-2.81c.8-.78.8-2.07 0-2.86zM5.41 20L4 18.59l7.72-7.72 1.47 1.35L5.41 20z\"/>\n",
       "  </svg>\n",
       "      </button>\n",
       "      \n",
       "  <style>\n",
       "    .colab-df-container {\n",
       "      display:flex;\n",
       "      flex-wrap:wrap;\n",
       "      gap: 12px;\n",
       "    }\n",
       "\n",
       "    .colab-df-convert {\n",
       "      background-color: #E8F0FE;\n",
       "      border: none;\n",
       "      border-radius: 50%;\n",
       "      cursor: pointer;\n",
       "      display: none;\n",
       "      fill: #1967D2;\n",
       "      height: 32px;\n",
       "      padding: 0 0 0 0;\n",
       "      width: 32px;\n",
       "    }\n",
       "\n",
       "    .colab-df-convert:hover {\n",
       "      background-color: #E2EBFA;\n",
       "      box-shadow: 0px 1px 2px rgba(60, 64, 67, 0.3), 0px 1px 3px 1px rgba(60, 64, 67, 0.15);\n",
       "      fill: #174EA6;\n",
       "    }\n",
       "\n",
       "    [theme=dark] .colab-df-convert {\n",
       "      background-color: #3B4455;\n",
       "      fill: #D2E3FC;\n",
       "    }\n",
       "\n",
       "    [theme=dark] .colab-df-convert:hover {\n",
       "      background-color: #434B5C;\n",
       "      box-shadow: 0px 1px 3px 1px rgba(0, 0, 0, 0.15);\n",
       "      filter: drop-shadow(0px 1px 2px rgba(0, 0, 0, 0.3));\n",
       "      fill: #FFFFFF;\n",
       "    }\n",
       "  </style>\n",
       "\n",
       "      <script>\n",
       "        const buttonEl =\n",
       "          document.querySelector('#df-2b4d03ca-b8e6-4b55-85d8-50d7a24fcb78 button.colab-df-convert');\n",
       "        buttonEl.style.display =\n",
       "          google.colab.kernel.accessAllowed ? 'block' : 'none';\n",
       "\n",
       "        async function convertToInteractive(key) {\n",
       "          const element = document.querySelector('#df-2b4d03ca-b8e6-4b55-85d8-50d7a24fcb78');\n",
       "          const dataTable =\n",
       "            await google.colab.kernel.invokeFunction('convertToInteractive',\n",
       "                                                     [key], {});\n",
       "          if (!dataTable) return;\n",
       "\n",
       "          const docLinkHtml = 'Like what you see? Visit the ' +\n",
       "            '<a target=\"_blank\" href=https://colab.research.google.com/notebooks/data_table.ipynb>data table notebook</a>'\n",
       "            + ' to learn more about interactive tables.';\n",
       "          element.innerHTML = '';\n",
       "          dataTable['output_type'] = 'display_data';\n",
       "          await google.colab.output.renderOutput(dataTable, element);\n",
       "          const docLink = document.createElement('div');\n",
       "          docLink.innerHTML = docLinkHtml;\n",
       "          element.appendChild(docLink);\n",
       "        }\n",
       "      </script>\n",
       "    </div>\n",
       "  </div>\n",
       "  "
      ],
      "text/plain": [
       "                                                smiles  p_np\n",
       "0             C(=O)(OC(C)(C)C)CCCc1ccc(cc1)N(CCCl)CCCl   1.0\n",
       "1                                   C[C@H](N)Cc1ccccc1   1.0\n",
       "2    C[S](=O)(=O)c1ccc(cc1)[C@@H](O)[C@@H](CO)NC(=O...   1.0\n",
       "3                                  CC(N)COc1c(C)cccc1C   1.0\n",
       "4                                         c1(ccccc1)CC   1.0\n",
       "..                                                 ...   ...\n",
       "199  CN[C@H]1[C@@H](O)[C@H]2O[C@@H](O[C@@H]3[C@@H](...   0.0\n",
       "200  CC1(C)S[C@@H]2C(NC(=O)[C@H](NC(=O)C3=CNc4cccnc...   0.0\n",
       "201  CC1(C)S[C@@H]2[C@H](NC(=O)C34C[C@H]5C[C@H](CC(...   0.0\n",
       "202  COc1cccc2C(=O)c3c(O)c4CC(O)(CC(O)c4c(O)c3C(=O)...   0.0\n",
       "203  CC[C@@]1(O)C[C@H](OC2CC(C(OC3CC(O)C(OC4CCC(=O)...   0.0\n",
       "\n",
       "[1835 rows x 2 columns]"
      ]
     },
     "execution_count": 140,
     "metadata": {},
     "output_type": "execute_result"
    }
   ],
   "source": [
    "train_full = pd.concat([train_df, valid_df], axis=0)\n",
    "train_full"
   ]
  },
  {
   "cell_type": "code",
   "execution_count": null,
   "metadata": {
    "id": "n0JLRlQeVL2E"
   },
   "outputs": [],
   "source": [
    "ms = [Chem.MolFromSmiles(i) for i in train_full['smiles'].to_list()]\n",
    "nh = [Chem.Lipinski.NHOHCount(x) for x in ms] \n",
    "het = [Chem.Lipinski.NumHeteroatoms(x) for x in ms] \n",
    "don = [Chem.Lipinski.NumHDonors(x) for x in ms]\n",
    "nhoh = [Chem.Lipinski.NHOHCount(x) for x in ms]\n",
    "acc = [Chem.Lipinski.NumHAcceptors(x) for x in ms]\n",
    "sat_het = [Chem.Lipinski.NumSaturatedHeterocycles(x) for x in ms]\n",
    "ter = [Chem.Fragments.fr_Al_OH_noTert(x) for x in ms]\n",
    "alip = [Chem.Lipinski.NumAliphaticHeterocycles(x) for x in ms]\n",
    "no = [Chem.Lipinski.NOCount(x) for x in ms]\n",
    "qed = [Chem.QED.qed(x) for x in ms]\n",
    "rot = [Chem.Lipinski.NumRotatableBonds(x) for x in ms]\n",
    "ring = [Chem.Lipinski.RingCount(x) for x in ms]\n",
    "\n",
    "\n",
    "train = pd.DataFrame(list(zip(train_full['smiles'].to_list(), nh, het, don, nhoh, acc, sat_het, ter, alip, no, qed, rot, ring, train_full['p_np'].to_list())),\n",
    "                  columns =['smiles', 'nh', 'het', 'don', 'nhoh', 'acc', 'sat_het', 'ter', 'alip', 'no', 'qed', 'rot', 'ring', 'p_np'])"
   ]
  },
  {
   "cell_type": "code",
   "execution_count": null,
   "metadata": {
    "colab": {
     "base_uri": "https://localhost:8080/",
     "height": 424
    },
    "id": "-BGhGXrKXx-8",
    "outputId": "33ec6f5b-7223-42c3-e3ee-4c634b022c7b"
   },
   "outputs": [
    {
     "data": {
      "text/html": [
       "\n",
       "  <div id=\"df-770398dd-2287-46f0-b39f-13f85788b43b\">\n",
       "    <div class=\"colab-df-container\">\n",
       "      <div>\n",
       "<style scoped>\n",
       "    .dataframe tbody tr th:only-of-type {\n",
       "        vertical-align: middle;\n",
       "    }\n",
       "\n",
       "    .dataframe tbody tr th {\n",
       "        vertical-align: top;\n",
       "    }\n",
       "\n",
       "    .dataframe thead th {\n",
       "        text-align: right;\n",
       "    }\n",
       "</style>\n",
       "<table border=\"1\" class=\"dataframe\">\n",
       "  <thead>\n",
       "    <tr style=\"text-align: right;\">\n",
       "      <th></th>\n",
       "      <th>smiles</th>\n",
       "      <th>nh</th>\n",
       "      <th>het</th>\n",
       "      <th>don</th>\n",
       "      <th>nhoh</th>\n",
       "      <th>acc</th>\n",
       "      <th>sat_het</th>\n",
       "      <th>ter</th>\n",
       "      <th>alip</th>\n",
       "      <th>no</th>\n",
       "      <th>qed</th>\n",
       "      <th>rot</th>\n",
       "      <th>ring</th>\n",
       "      <th>p_np</th>\n",
       "    </tr>\n",
       "  </thead>\n",
       "  <tbody>\n",
       "    <tr>\n",
       "      <th>0</th>\n",
       "      <td>C(=O)(OC(C)(C)C)CCCc1ccc(cc1)N(CCCl)CCCl</td>\n",
       "      <td>0</td>\n",
       "      <td>5</td>\n",
       "      <td>0</td>\n",
       "      <td>0</td>\n",
       "      <td>3</td>\n",
       "      <td>0</td>\n",
       "      <td>0</td>\n",
       "      <td>0</td>\n",
       "      <td>3</td>\n",
       "      <td>0.474821</td>\n",
       "      <td>9</td>\n",
       "      <td>1</td>\n",
       "      <td>1.0</td>\n",
       "    </tr>\n",
       "    <tr>\n",
       "      <th>1</th>\n",
       "      <td>C[C@H](N)Cc1ccccc1</td>\n",
       "      <td>2</td>\n",
       "      <td>1</td>\n",
       "      <td>1</td>\n",
       "      <td>2</td>\n",
       "      <td>1</td>\n",
       "      <td>0</td>\n",
       "      <td>0</td>\n",
       "      <td>0</td>\n",
       "      <td>1</td>\n",
       "      <td>0.654216</td>\n",
       "      <td>2</td>\n",
       "      <td>1</td>\n",
       "      <td>1.0</td>\n",
       "    </tr>\n",
       "    <tr>\n",
       "      <th>2</th>\n",
       "      <td>C[S](=O)(=O)c1ccc(cc1)[C@@H](O)[C@@H](CO)NC(=O...</td>\n",
       "      <td>3</td>\n",
       "      <td>9</td>\n",
       "      <td>3</td>\n",
       "      <td>3</td>\n",
       "      <td>5</td>\n",
       "      <td>0</td>\n",
       "      <td>2</td>\n",
       "      <td>0</td>\n",
       "      <td>6</td>\n",
       "      <td>0.640636</td>\n",
       "      <td>6</td>\n",
       "      <td>1</td>\n",
       "      <td>1.0</td>\n",
       "    </tr>\n",
       "    <tr>\n",
       "      <th>3</th>\n",
       "      <td>CC(N)COc1c(C)cccc1C</td>\n",
       "      <td>2</td>\n",
       "      <td>2</td>\n",
       "      <td>1</td>\n",
       "      <td>2</td>\n",
       "      <td>2</td>\n",
       "      <td>0</td>\n",
       "      <td>0</td>\n",
       "      <td>0</td>\n",
       "      <td>2</td>\n",
       "      <td>0.770174</td>\n",
       "      <td>3</td>\n",
       "      <td>1</td>\n",
       "      <td>1.0</td>\n",
       "    </tr>\n",
       "    <tr>\n",
       "      <th>4</th>\n",
       "      <td>c1(ccccc1)CC</td>\n",
       "      <td>0</td>\n",
       "      <td>0</td>\n",
       "      <td>0</td>\n",
       "      <td>0</td>\n",
       "      <td>0</td>\n",
       "      <td>0</td>\n",
       "      <td>0</td>\n",
       "      <td>0</td>\n",
       "      <td>0</td>\n",
       "      <td>0.514758</td>\n",
       "      <td>1</td>\n",
       "      <td>1</td>\n",
       "      <td>1.0</td>\n",
       "    </tr>\n",
       "    <tr>\n",
       "      <th>...</th>\n",
       "      <td>...</td>\n",
       "      <td>...</td>\n",
       "      <td>...</td>\n",
       "      <td>...</td>\n",
       "      <td>...</td>\n",
       "      <td>...</td>\n",
       "      <td>...</td>\n",
       "      <td>...</td>\n",
       "      <td>...</td>\n",
       "      <td>...</td>\n",
       "      <td>...</td>\n",
       "      <td>...</td>\n",
       "      <td>...</td>\n",
       "      <td>...</td>\n",
       "    </tr>\n",
       "    <tr>\n",
       "      <th>1830</th>\n",
       "      <td>CN[C@H]1[C@@H](O)[C@H]2O[C@@H](O[C@@H]3[C@@H](...</td>\n",
       "      <td>15</td>\n",
       "      <td>16</td>\n",
       "      <td>11</td>\n",
       "      <td>15</td>\n",
       "      <td>16</td>\n",
       "      <td>3</td>\n",
       "      <td>6</td>\n",
       "      <td>3</td>\n",
       "      <td>16</td>\n",
       "      <td>0.149406</td>\n",
       "      <td>6</td>\n",
       "      <td>4</td>\n",
       "      <td>0.0</td>\n",
       "    </tr>\n",
       "    <tr>\n",
       "      <th>1831</th>\n",
       "      <td>CC1(C)S[C@@H]2C(NC(=O)[C@H](NC(=O)C3=CNc4cccnc...</td>\n",
       "      <td>4</td>\n",
       "      <td>12</td>\n",
       "      <td>4</td>\n",
       "      <td>4</td>\n",
       "      <td>7</td>\n",
       "      <td>2</td>\n",
       "      <td>0</td>\n",
       "      <td>2</td>\n",
       "      <td>11</td>\n",
       "      <td>0.349770</td>\n",
       "      <td>6</td>\n",
       "      <td>5</td>\n",
       "      <td>0.0</td>\n",
       "    </tr>\n",
       "    <tr>\n",
       "      <th>1832</th>\n",
       "      <td>CC1(C)S[C@@H]2[C@H](NC(=O)C34C[C@H]5C[C@H](CC(...</td>\n",
       "      <td>4</td>\n",
       "      <td>8</td>\n",
       "      <td>3</td>\n",
       "      <td>4</td>\n",
       "      <td>5</td>\n",
       "      <td>2</td>\n",
       "      <td>0</td>\n",
       "      <td>2</td>\n",
       "      <td>7</td>\n",
       "      <td>0.614693</td>\n",
       "      <td>3</td>\n",
       "      <td>6</td>\n",
       "      <td>0.0</td>\n",
       "    </tr>\n",
       "    <tr>\n",
       "      <th>1833</th>\n",
       "      <td>COc1cccc2C(=O)c3c(O)c4CC(O)(CC(O)c4c(O)c3C(=O)...</td>\n",
       "      <td>5</td>\n",
       "      <td>9</td>\n",
       "      <td>5</td>\n",
       "      <td>5</td>\n",
       "      <td>9</td>\n",
       "      <td>0</td>\n",
       "      <td>2</td>\n",
       "      <td>0</td>\n",
       "      <td>9</td>\n",
       "      <td>0.375739</td>\n",
       "      <td>3</td>\n",
       "      <td>4</td>\n",
       "      <td>0.0</td>\n",
       "    </tr>\n",
       "    <tr>\n",
       "      <th>1834</th>\n",
       "      <td>CC[C@@]1(O)C[C@H](OC2CC(C(OC3CC(O)C(OC4CCC(=O)...</td>\n",
       "      <td>4</td>\n",
       "      <td>16</td>\n",
       "      <td>4</td>\n",
       "      <td>4</td>\n",
       "      <td>16</td>\n",
       "      <td>3</td>\n",
       "      <td>1</td>\n",
       "      <td>3</td>\n",
       "      <td>16</td>\n",
       "      <td>0.228361</td>\n",
       "      <td>9</td>\n",
       "      <td>7</td>\n",
       "      <td>0.0</td>\n",
       "    </tr>\n",
       "  </tbody>\n",
       "</table>\n",
       "<p>1835 rows × 14 columns</p>\n",
       "</div>\n",
       "      <button class=\"colab-df-convert\" onclick=\"convertToInteractive('df-770398dd-2287-46f0-b39f-13f85788b43b')\"\n",
       "              title=\"Convert this dataframe to an interactive table.\"\n",
       "              style=\"display:none;\">\n",
       "        \n",
       "  <svg xmlns=\"http://www.w3.org/2000/svg\" height=\"24px\"viewBox=\"0 0 24 24\"\n",
       "       width=\"24px\">\n",
       "    <path d=\"M0 0h24v24H0V0z\" fill=\"none\"/>\n",
       "    <path d=\"M18.56 5.44l.94 2.06.94-2.06 2.06-.94-2.06-.94-.94-2.06-.94 2.06-2.06.94zm-11 1L8.5 8.5l.94-2.06 2.06-.94-2.06-.94L8.5 2.5l-.94 2.06-2.06.94zm10 10l.94 2.06.94-2.06 2.06-.94-2.06-.94-.94-2.06-.94 2.06-2.06.94z\"/><path d=\"M17.41 7.96l-1.37-1.37c-.4-.4-.92-.59-1.43-.59-.52 0-1.04.2-1.43.59L10.3 9.45l-7.72 7.72c-.78.78-.78 2.05 0 2.83L4 21.41c.39.39.9.59 1.41.59.51 0 1.02-.2 1.41-.59l7.78-7.78 2.81-2.81c.8-.78.8-2.07 0-2.86zM5.41 20L4 18.59l7.72-7.72 1.47 1.35L5.41 20z\"/>\n",
       "  </svg>\n",
       "      </button>\n",
       "      \n",
       "  <style>\n",
       "    .colab-df-container {\n",
       "      display:flex;\n",
       "      flex-wrap:wrap;\n",
       "      gap: 12px;\n",
       "    }\n",
       "\n",
       "    .colab-df-convert {\n",
       "      background-color: #E8F0FE;\n",
       "      border: none;\n",
       "      border-radius: 50%;\n",
       "      cursor: pointer;\n",
       "      display: none;\n",
       "      fill: #1967D2;\n",
       "      height: 32px;\n",
       "      padding: 0 0 0 0;\n",
       "      width: 32px;\n",
       "    }\n",
       "\n",
       "    .colab-df-convert:hover {\n",
       "      background-color: #E2EBFA;\n",
       "      box-shadow: 0px 1px 2px rgba(60, 64, 67, 0.3), 0px 1px 3px 1px rgba(60, 64, 67, 0.15);\n",
       "      fill: #174EA6;\n",
       "    }\n",
       "\n",
       "    [theme=dark] .colab-df-convert {\n",
       "      background-color: #3B4455;\n",
       "      fill: #D2E3FC;\n",
       "    }\n",
       "\n",
       "    [theme=dark] .colab-df-convert:hover {\n",
       "      background-color: #434B5C;\n",
       "      box-shadow: 0px 1px 3px 1px rgba(0, 0, 0, 0.15);\n",
       "      filter: drop-shadow(0px 1px 2px rgba(0, 0, 0, 0.3));\n",
       "      fill: #FFFFFF;\n",
       "    }\n",
       "  </style>\n",
       "\n",
       "      <script>\n",
       "        const buttonEl =\n",
       "          document.querySelector('#df-770398dd-2287-46f0-b39f-13f85788b43b button.colab-df-convert');\n",
       "        buttonEl.style.display =\n",
       "          google.colab.kernel.accessAllowed ? 'block' : 'none';\n",
       "\n",
       "        async function convertToInteractive(key) {\n",
       "          const element = document.querySelector('#df-770398dd-2287-46f0-b39f-13f85788b43b');\n",
       "          const dataTable =\n",
       "            await google.colab.kernel.invokeFunction('convertToInteractive',\n",
       "                                                     [key], {});\n",
       "          if (!dataTable) return;\n",
       "\n",
       "          const docLinkHtml = 'Like what you see? Visit the ' +\n",
       "            '<a target=\"_blank\" href=https://colab.research.google.com/notebooks/data_table.ipynb>data table notebook</a>'\n",
       "            + ' to learn more about interactive tables.';\n",
       "          element.innerHTML = '';\n",
       "          dataTable['output_type'] = 'display_data';\n",
       "          await google.colab.output.renderOutput(dataTable, element);\n",
       "          const docLink = document.createElement('div');\n",
       "          docLink.innerHTML = docLinkHtml;\n",
       "          element.appendChild(docLink);\n",
       "        }\n",
       "      </script>\n",
       "    </div>\n",
       "  </div>\n",
       "  "
      ],
      "text/plain": [
       "                                                 smiles  nh  het  don  nhoh  \\\n",
       "0              C(=O)(OC(C)(C)C)CCCc1ccc(cc1)N(CCCl)CCCl   0    5    0     0   \n",
       "1                                    C[C@H](N)Cc1ccccc1   2    1    1     2   \n",
       "2     C[S](=O)(=O)c1ccc(cc1)[C@@H](O)[C@@H](CO)NC(=O...   3    9    3     3   \n",
       "3                                   CC(N)COc1c(C)cccc1C   2    2    1     2   \n",
       "4                                          c1(ccccc1)CC   0    0    0     0   \n",
       "...                                                 ...  ..  ...  ...   ...   \n",
       "1830  CN[C@H]1[C@@H](O)[C@H]2O[C@@H](O[C@@H]3[C@@H](...  15   16   11    15   \n",
       "1831  CC1(C)S[C@@H]2C(NC(=O)[C@H](NC(=O)C3=CNc4cccnc...   4   12    4     4   \n",
       "1832  CC1(C)S[C@@H]2[C@H](NC(=O)C34C[C@H]5C[C@H](CC(...   4    8    3     4   \n",
       "1833  COc1cccc2C(=O)c3c(O)c4CC(O)(CC(O)c4c(O)c3C(=O)...   5    9    5     5   \n",
       "1834  CC[C@@]1(O)C[C@H](OC2CC(C(OC3CC(O)C(OC4CCC(=O)...   4   16    4     4   \n",
       "\n",
       "      acc  sat_het  ter  alip  no       qed  rot  ring  p_np  \n",
       "0       3        0    0     0   3  0.474821    9     1   1.0  \n",
       "1       1        0    0     0   1  0.654216    2     1   1.0  \n",
       "2       5        0    2     0   6  0.640636    6     1   1.0  \n",
       "3       2        0    0     0   2  0.770174    3     1   1.0  \n",
       "4       0        0    0     0   0  0.514758    1     1   1.0  \n",
       "...   ...      ...  ...   ...  ..       ...  ...   ...   ...  \n",
       "1830   16        3    6     3  16  0.149406    6     4   0.0  \n",
       "1831    7        2    0     2  11  0.349770    6     5   0.0  \n",
       "1832    5        2    0     2   7  0.614693    3     6   0.0  \n",
       "1833    9        0    2     0   9  0.375739    3     4   0.0  \n",
       "1834   16        3    1     3  16  0.228361    9     7   0.0  \n",
       "\n",
       "[1835 rows x 14 columns]"
      ]
     },
     "execution_count": 142,
     "metadata": {},
     "output_type": "execute_result"
    }
   ],
   "source": [
    "train"
   ]
  },
  {
   "cell_type": "code",
   "execution_count": null,
   "metadata": {
    "id": "UszqgOopS51Y"
   },
   "outputs": [],
   "source": [
    "model = RandomForestClassifier(n_estimators=100,\n",
    "      criterion=\"entropy\",\n",
    "      min_samples_split = 4,\n",
    "      bootstrap=False)"
   ]
  },
  {
   "cell_type": "code",
   "execution_count": null,
   "metadata": {
    "id": "WOH6EPBhb71T"
   },
   "outputs": [],
   "source": [
    "X_train = train.iloc[:,1:13]\n",
    "y_train = train['p_np']\n",
    "X_test = test.iloc[:,1:13]\n",
    "y_test = test['p_np']"
   ]
  },
  {
   "cell_type": "code",
   "execution_count": null,
   "metadata": {
    "colab": {
     "base_uri": "https://localhost:8080/"
    },
    "id": "NdznNjKgS54S",
    "outputId": "39c6f1a3-f9e2-46e3-cc78-e57d0f1c6e86"
   },
   "outputs": [
    {
     "data": {
      "text/plain": [
       "RandomForestClassifier(bootstrap=False, criterion='entropy',\n",
       "                       min_samples_split=4)"
      ]
     },
     "execution_count": 146,
     "metadata": {},
     "output_type": "execute_result"
    }
   ],
   "source": [
    "model.fit(X_train, y_train)"
   ]
  },
  {
   "cell_type": "code",
   "execution_count": null,
   "metadata": {
    "colab": {
     "base_uri": "https://localhost:8080/"
    },
    "id": "AHmUnSjOS6EO",
    "outputId": "1d8b2fd9-9827-4e19-d1cf-d1000fdc2765"
   },
   "outputs": [
    {
     "data": {
      "text/plain": [
       "0.6843626553617882"
      ]
     },
     "execution_count": 147,
     "metadata": {},
     "output_type": "execute_result"
    }
   ],
   "source": [
    "roc_auc_score(y_test, model.predict_proba(X_test)[:,1])"
   ]
  },
  {
   "cell_type": "code",
   "execution_count": null,
   "metadata": {
    "colab": {
     "base_uri": "https://localhost:8080/",
     "height": 500
    },
    "id": "cS8tlwWsbxNE",
    "outputId": "769c0c79-0aba-45b8-c268-5c4cfb8cceb7"
   },
   "outputs": [
    {
     "data": {
      "text/plain": [
       "<matplotlib.axes._subplots.AxesSubplot at 0x7fa2319fc910>"
      ]
     },
     "execution_count": 152,
     "metadata": {},
     "output_type": "execute_result"
    },
    {
     "data": {
      "image/png": "[encoded data removed]",
      "text/plain": [
       "<Figure size 864x576 with 1 Axes>"
      ]
     },
     "metadata": {
      "needs_background": "light"
     },
     "output_type": "display_data"
    }
   ],
   "source": [
    "np.random.seed(7)\n",
    "imp = pd.DataFrame(model.feature_importances_, index=X_train.columns, columns=['importance'])\n",
    "imp.sort_values('importance').plot(kind='barh', figsize=(12, 8))"
   ]
  },
  {
   "cell_type": "markdown",
   "metadata": {
    "id": "B7hvwQjMx9P-"
   },
   "source": [
    "The most important features are quantitative estimation of drug-likeness, Number of Heteroatoms and Number of Nitrogens and Oxygens"
   ]
  },
  {
   "cell_type": "markdown",
   "metadata": {
    "id": "-Ubs1pQE_nWp"
   },
   "source": [
    "- nh = NHOHCount\n",
    "- het = NumHeteroatoms\n",
    "- don = NumHDonors\n",
    "- nhoh = NHOHCount\n",
    "- acc = NumHAcceptors\n",
    "- sat_het = NumSaturatedHeterocycles\n",
    "- ter = fr_Al_OH_noTert\n",
    "- alip = NumAliphaticHeterocycles\n",
    "- no = NOCount\n",
    "- qed = QED\n",
    "- rot = NumRotatableBonds\n",
    "- ring = RingCount"
   ]
  },
  {
   "cell_type": "markdown",
   "metadata": {
    "id": "uBNf6dp3rxM7"
   },
   "source": [
    "# GNN model"
   ]
  },
  {
   "cell_type": "markdown",
   "metadata": {
    "id": "xWXUfwYstCRi"
   },
   "source": [
    "Is a definitely more complex model (which actually guaranties nothing)"
   ]
  },
  {
   "cell_type": "code",
   "execution_count": null,
   "metadata": {
    "id": "0qvdaOd8SywS"
   },
   "outputs": [],
   "source": [
    "import torch.nn.functional as F\n",
    "\n",
    "from copy import deepcopy\n",
    "from hyperopt import hp, fmin, tpe\n",
    "from shutil import copyfile"
   ]
  },
  {
   "cell_type": "code",
   "execution_count": null,
   "metadata": {
    "colab": {
     "base_uri": "https://localhost:8080/"
    },
    "id": "QfdMgZPVTiCA",
    "outputId": "ef0f2fd6-61d5-4eac-e644-cb6f0de8e90b"
   },
   "outputs": [
    {
     "name": "stdout",
     "output_type": "stream",
     "text": [
      "Collecting dgl\n",
      "  Downloading dgl-0.6.1-cp37-cp37m-manylinux1_x86_64.whl (4.4 MB)\n",
      "\u001b[K     |████████████████████████████████| 4.4 MB 12.3 MB/s \n",
      "\u001b[?25hRequirement already satisfied: requests>=2.19.0 in /usr/local/lib/python3.7/dist-packages (from dgl) (2.23.0)\n",
      "Requirement already satisfied: networkx>=2.1 in /usr/local/lib/python3.7/dist-packages (from dgl) (2.6.3)\n",
      "Requirement already satisfied: numpy>=1.14.0 in /usr/local/lib/python3.7/dist-packages (from dgl) (1.21.6)\n",
      "Requirement already satisfied: scipy>=1.1.0 in /usr/local/lib/python3.7/dist-packages (from dgl) (1.7.3)\n",
      "Requirement already satisfied: urllib3!=1.25.0,!=1.25.1,<1.26,>=1.21.1 in /usr/local/lib/python3.7/dist-packages (from requests>=2.19.0->dgl) (1.24.3)\n",
      "Requirement already satisfied: idna<3,>=2.5 in /usr/local/lib/python3.7/dist-packages (from requests>=2.19.0->dgl) (2.10)\n",
      "Requirement already satisfied: chardet<4,>=3.0.2 in /usr/local/lib/python3.7/dist-packages (from requests>=2.19.0->dgl) (3.0.4)\n",
      "Requirement already satisfied: certifi>=2017.4.17 in /usr/local/lib/python3.7/dist-packages (from requests>=2.19.0->dgl) (2021.10.8)\n",
      "Installing collected packages: dgl\n",
      "Successfully installed dgl-0.6.1\n"
     ]
    }
   ],
   "source": [
    "!pip install dgl"
   ]
  },
  {
   "cell_type": "code",
   "execution_count": null,
   "metadata": {
    "colab": {
     "base_uri": "https://localhost:8080/"
    },
    "id": "mScDtRUhTu0P",
    "outputId": "51e5c1d9-0f99-48e3-e946-86172682f8bb"
   },
   "outputs": [
    {
     "name": "stdout",
     "output_type": "stream",
     "text": [
      "Collecting dgllife\n",
      "  Downloading dgllife-0.2.9.tar.gz (138 kB)\n",
      "\u001b[?25l\r",
      "\u001b[K     |██▍                             | 10 kB 32.6 MB/s eta 0:00:01\r",
      "\u001b[K     |████▊                           | 20 kB 37.3 MB/s eta 0:00:01\r",
      "\u001b[K     |███████                         | 30 kB 44.4 MB/s eta 0:00:01\r",
      "\u001b[K     |█████████▍                      | 40 kB 11.8 MB/s eta 0:00:01\r",
      "\u001b[K     |███████████▉                    | 51 kB 11.9 MB/s eta 0:00:01\r",
      "\u001b[K     |██████████████▏                 | 61 kB 13.8 MB/s eta 0:00:01\r",
      "\u001b[K     |████████████████▌               | 71 kB 12.4 MB/s eta 0:00:01\r",
      "\u001b[K     |██████████████████▉             | 81 kB 13.3 MB/s eta 0:00:01\r",
      "\u001b[K     |█████████████████████▎          | 92 kB 14.8 MB/s eta 0:00:01\r",
      "\u001b[K     |███████████████████████▋        | 102 kB 13.2 MB/s eta 0:00:01\r",
      "\u001b[K     |██████████████████████████      | 112 kB 13.2 MB/s eta 0:00:01\r",
      "\u001b[K     |████████████████████████████▎   | 122 kB 13.2 MB/s eta 0:00:01\r",
      "\u001b[K     |██████████████████████████████▊ | 133 kB 13.2 MB/s eta 0:00:01\r",
      "\u001b[K     |████████████████████████████████| 138 kB 13.2 MB/s \n",
      "\u001b[?25hRequirement already satisfied: scikit-learn>=0.22.2 in /usr/local/lib/python3.7/dist-packages (from dgllife) (1.0.2)\n",
      "Requirement already satisfied: pandas in /usr/local/lib/python3.7/dist-packages (from dgllife) (1.3.5)\n",
      "Requirement already satisfied: requests>=2.22.0 in /usr/local/lib/python3.7/dist-packages (from dgllife) (2.23.0)\n",
      "Requirement already satisfied: tqdm in /usr/local/lib/python3.7/dist-packages (from dgllife) (4.64.0)\n",
      "Requirement already satisfied: numpy>=1.14.0 in /usr/local/lib/python3.7/dist-packages (from dgllife) (1.21.6)\n",
      "Requirement already satisfied: scipy>=1.1.0 in /usr/local/lib/python3.7/dist-packages (from dgllife) (1.7.3)\n",
      "Requirement already satisfied: networkx>=2.1 in /usr/local/lib/python3.7/dist-packages (from dgllife) (2.6.3)\n",
      "Requirement already satisfied: hyperopt in /usr/local/lib/python3.7/dist-packages (from dgllife) (0.1.2)\n",
      "Requirement already satisfied: joblib in /usr/local/lib/python3.7/dist-packages (from dgllife) (1.1.0)\n",
      "Requirement already satisfied: chardet<4,>=3.0.2 in /usr/local/lib/python3.7/dist-packages (from requests>=2.22.0->dgllife) (3.0.4)\n",
      "Requirement already satisfied: idna<3,>=2.5 in /usr/local/lib/python3.7/dist-packages (from requests>=2.22.0->dgllife) (2.10)\n",
      "Requirement already satisfied: certifi>=2017.4.17 in /usr/local/lib/python3.7/dist-packages (from requests>=2.22.0->dgllife) (2021.10.8)\n",
      "Requirement already satisfied: urllib3!=1.25.0,!=1.25.1,<1.26,>=1.21.1 in /usr/local/lib/python3.7/dist-packages (from requests>=2.22.0->dgllife) (1.24.3)\n",
      "Requirement already satisfied: threadpoolctl>=2.0.0 in /usr/local/lib/python3.7/dist-packages (from scikit-learn>=0.22.2->dgllife) (3.1.0)\n",
      "Requirement already satisfied: pymongo in /usr/local/lib/python3.7/dist-packages (from hyperopt->dgllife) (4.1.1)\n",
      "Requirement already satisfied: future in /usr/local/lib/python3.7/dist-packages (from hyperopt->dgllife) (0.16.0)\n",
      "Requirement already satisfied: six in /usr/local/lib/python3.7/dist-packages (from hyperopt->dgllife) (1.15.0)\n",
      "Requirement already satisfied: pytz>=2017.3 in /usr/local/lib/python3.7/dist-packages (from pandas->dgllife) (2022.1)\n",
      "Requirement already satisfied: python-dateutil>=2.7.3 in /usr/local/lib/python3.7/dist-packages (from pandas->dgllife) (2.8.2)\n",
      "Building wheels for collected packages: dgllife\n",
      "  Building wheel for dgllife (setup.py) ... \u001b[?25l\u001b[?25hdone\n",
      "  Created wheel for dgllife: filename=dgllife-0.2.9-py3-none-any.whl size=219056 sha256=a70f9aecbc584d2d32e4d1b55196c191987b7dd0f9b7f5e3936e8f7e20ce0837\n",
      "  Stored in directory: /root/.cache/pip/wheels/34/83/11/9772c74b559d9182c9083362e8ba8b0201c4963e41e03859fe\n",
      "Successfully built dgllife\n",
      "Installing collected packages: dgllife\n",
      "Successfully installed dgllife-0.2.9\n"
     ]
    }
   ],
   "source": [
    "!pip install dgllife"
   ]
  },
  {
   "cell_type": "markdown",
   "metadata": {
    "id": "Zy3QL9p9sxoE"
   },
   "source": [
    "Here we use:\n",
    "- scaffold split (again)\n",
    "- GraphConv featurization"
   ]
  },
  {
   "cell_type": "markdown",
   "metadata": {
    "id": "uaKvgTZ3c07u"
   },
   "source": [
    "Default config + dataset w/o augmentation:\n",
    "\n",
    "Best val roc_auc: 0.9716 +- 0.0010\n",
    "\n",
    "Test roc_auc: 0.6645 +- 0.0245"
   ]
  },
  {
   "cell_type": "code",
   "execution_count": null,
   "metadata": {
    "colab": {
     "base_uri": "https://localhost:8080/"
    },
    "id": "r000Go--b5PS",
    "outputId": "9349a32b-086f-404f-c505-6c914a983986"
   },
   "outputs": [
    {
     "name": "stderr",
     "output_type": "stream",
     "text": [
      "Failed to featurize datapoint 59, None. Appending empty array\n",
      "Exception message: Python argument types in\n",
      "    rdkit.Chem.rdmolfiles.CanonicalRankAtoms(NoneType)\n",
      "did not match C++ signature:\n",
      "    CanonicalRankAtoms(RDKit::ROMol mol, bool breakTies=True, bool includeChirality=True, bool includeIsotopes=True)\n",
      "Failed to featurize datapoint 61, None. Appending empty array\n",
      "Exception message: Python argument types in\n",
      "    rdkit.Chem.rdmolfiles.CanonicalRankAtoms(NoneType)\n",
      "did not match C++ signature:\n",
      "    CanonicalRankAtoms(RDKit::ROMol mol, bool breakTies=True, bool includeChirality=True, bool includeIsotopes=True)\n",
      "Failed to featurize datapoint 391, None. Appending empty array\n",
      "Exception message: Python argument types in\n",
      "    rdkit.Chem.rdmolfiles.CanonicalRankAtoms(NoneType)\n",
      "did not match C++ signature:\n",
      "    CanonicalRankAtoms(RDKit::ROMol mol, bool breakTies=True, bool includeChirality=True, bool includeIsotopes=True)\n",
      "Failed to featurize datapoint 614, None. Appending empty array\n",
      "Exception message: Python argument types in\n",
      "    rdkit.Chem.rdmolfiles.CanonicalRankAtoms(NoneType)\n",
      "did not match C++ signature:\n",
      "    CanonicalRankAtoms(RDKit::ROMol mol, bool breakTies=True, bool includeChirality=True, bool includeIsotopes=True)\n",
      "Failed to featurize datapoint 642, None. Appending empty array\n",
      "Exception message: Python argument types in\n",
      "    rdkit.Chem.rdmolfiles.CanonicalRankAtoms(NoneType)\n",
      "did not match C++ signature:\n",
      "    CanonicalRankAtoms(RDKit::ROMol mol, bool breakTies=True, bool includeChirality=True, bool includeIsotopes=True)\n",
      "Failed to featurize datapoint 645, None. Appending empty array\n",
      "Exception message: Python argument types in\n",
      "    rdkit.Chem.rdmolfiles.CanonicalRankAtoms(NoneType)\n",
      "did not match C++ signature:\n",
      "    CanonicalRankAtoms(RDKit::ROMol mol, bool breakTies=True, bool includeChirality=True, bool includeIsotopes=True)\n",
      "Failed to featurize datapoint 646, None. Appending empty array\n",
      "Exception message: Python argument types in\n",
      "    rdkit.Chem.rdmolfiles.CanonicalRankAtoms(NoneType)\n",
      "did not match C++ signature:\n",
      "    CanonicalRankAtoms(RDKit::ROMol mol, bool breakTies=True, bool includeChirality=True, bool includeIsotopes=True)\n",
      "Failed to featurize datapoint 647, None. Appending empty array\n",
      "Exception message: Python argument types in\n",
      "    rdkit.Chem.rdmolfiles.CanonicalRankAtoms(NoneType)\n",
      "did not match C++ signature:\n",
      "    CanonicalRankAtoms(RDKit::ROMol mol, bool breakTies=True, bool includeChirality=True, bool includeIsotopes=True)\n",
      "Failed to featurize datapoint 648, None. Appending empty array\n",
      "Exception message: Python argument types in\n",
      "    rdkit.Chem.rdmolfiles.CanonicalRankAtoms(NoneType)\n",
      "did not match C++ signature:\n",
      "    CanonicalRankAtoms(RDKit::ROMol mol, bool breakTies=True, bool includeChirality=True, bool includeIsotopes=True)\n",
      "Failed to featurize datapoint 649, None. Appending empty array\n",
      "Exception message: Python argument types in\n",
      "    rdkit.Chem.rdmolfiles.CanonicalRankAtoms(NoneType)\n",
      "did not match C++ signature:\n",
      "    CanonicalRankAtoms(RDKit::ROMol mol, bool breakTies=True, bool includeChirality=True, bool includeIsotopes=True)\n",
      "Failed to featurize datapoint 685, None. Appending empty array\n",
      "Exception message: Python argument types in\n",
      "    rdkit.Chem.rdmolfiles.CanonicalRankAtoms(NoneType)\n",
      "did not match C++ signature:\n",
      "    CanonicalRankAtoms(RDKit::ROMol mol, bool breakTies=True, bool includeChirality=True, bool includeIsotopes=True)\n",
      "/usr/local/lib/python3.7/dist-packages/deepchem/feat/base_classes.py:305: VisibleDeprecationWarning: Creating an ndarray from ragged nested sequences (which is a list-or-tuple of lists-or-tuples-or ndarrays with different lengths or shapes) is deprecated. If you meant to do this, you must specify 'dtype=object' when creating the ndarray.\n",
      "  return np.asarray(features)\n"
     ]
    }
   ],
   "source": [
    "tasks, all_dataset, transformers = load_bbbp(featurizer=dc.feat.MolGraphConvFeaturizer(), splitter='scaffold', reload=False)"
   ]
  },
  {
   "cell_type": "markdown",
   "metadata": {
    "id": "p3_C_OZqQa6V"
   },
   "source": [
    "* not a good thing to re-split the data over and over again, but the previous split was lost"
   ]
  },
  {
   "cell_type": "code",
   "execution_count": null,
   "metadata": {
    "colab": {
     "base_uri": "https://localhost:8080/"
    },
    "id": "6XISe3rKc9oI",
    "outputId": "cce7ccfe-e6d4-412b-b7f9-be1ef6671c61"
   },
   "outputs": [
    {
     "data": {
      "text/plain": [
       "(<DiskDataset X.shape: (1631,), y.shape: (1631, 1), w.shape: (1631, 1), task_names: ['p_np']>,\n",
       " <DiskDataset X.shape: (204,), y.shape: (204, 1), w.shape: (204, 1), ids: ['[H+].C2=C1C(OC(=NC1=CC=C2Cl)NCC)(C3=CC=CC=C3)C.[Cl-]'\n",
       "  'C1=CC=CC2=C1C(C3=C(N(C)C2=O)C=CC=C3)OCC'\n",
       "  'C1=C(Cl)C=CC3=C1C(C2=CC=CC=C2)SC(=N3)NCC' ...\n",
       "  'CC1(C)S[C@@H]2[C@H](NC(=O)C34C[C@H]5C[C@H](CC(N)(C5)C3)C4)C(=O)N2[C@H]1C(O)=O'\n",
       "  'COc1cccc2C(=O)c3c(O)c4CC(O)(CC(O)c4c(O)c3C(=O)c12)C(=O)CO'\n",
       "  'CC[C@@]1(O)C[C@H](OC2CC(C(OC3CC(O)C(OC4CCC(=O)C(C)O4)C(C)O3)C(C)O2)N(C)C)c5c(O)c6C(=O)c7c(O)cccc7C(=O)c6cc5[C@H]1C(=O)OC'], task_names: ['p_np']>,\n",
       " <DiskDataset X.shape: (204,), y.shape: (204, 1), w.shape: (204, 1), ids: ['CCOC(=O)[C@H](CCc1ccccc1)N[C@@H](C)C(=O)N2CCC[C@H]2C(O)=O'\n",
       "  'FC(F)(F)[C@]1(OC(=O)Nc2ccc(Cl)cc12)C#CC3CC3'\n",
       "  'CN1C[C@@H](C[C@H]2[C@H]1Cc3c[nH]c4cccc2c34)C(=O)N[C@]5(C)O[C@@]6(O)[C@@H]7CCCN7C(=O)[C@H](Cc8ccccc8)N6C5=O'\n",
       "  ... 'Cn1c2CCC(Cn3ccnc3C)C(=O)c2c4ccccc14'\n",
       "  'CN(C)[C@H]1[C@@H]2C[C@H]3C(=C(O)c4c(O)cccc4[C@@]3(C)O)C(=O)[C@]2(O)C(=O)\\\\C(=C(/O)NCN5CCCC5)C1=O'\n",
       "  'CCN1CCN(C(=O)N[C@@H](C(=O)N[C@H]2[C@H]3SCC(=C(N3C2=O)C(O)=O)CSc4nnnn4C)c5ccc(O)cc5)C(=O)C1=O'], task_names: ['p_np']>)"
      ]
     },
     "execution_count": 10,
     "metadata": {},
     "output_type": "execute_result"
    }
   ],
   "source": [
    "all_dataset"
   ]
  },
  {
   "cell_type": "code",
   "execution_count": null,
   "metadata": {
    "colab": {
     "base_uri": "https://localhost:8080/"
    },
    "id": "_-uUiwwQfDbz",
    "outputId": "b4bccec0-8ca8-40d3-ca8e-d2fa62627751"
   },
   "outputs": [
    {
     "data": {
      "text/plain": [
       "array(['C(=O)(OC(C)(C)C)CCCc1ccc(cc1)N(CCCl)CCCl', 'C[C@H](N)Cc1ccccc1',\n",
       "       'C[S](=O)(=O)c1ccc(cc1)[C@@H](O)[C@@H](CO)NC(=O)C(Cl)Cl', ...,\n",
       "       'C1=CC=CC2=C1C3=C(C(=O)N2CCCN(C)C)C=CC=C3',\n",
       "       'C3=C(C2(OC(C1CCCCN1)CO2)CC)C=CC=C3',\n",
       "       'C1=C(C=CC=C1N3CCN(CCCN2C(N(C(=N2)CC)CC)=O)CC3)Cl'], dtype=object)"
      ]
     },
     "execution_count": 11,
     "metadata": {},
     "output_type": "execute_result"
    }
   ],
   "source": [
    "all_dataset[0].ids"
   ]
  },
  {
   "cell_type": "code",
   "execution_count": null,
   "metadata": {
    "id": "7EWw_PcDdjwN"
   },
   "outputs": [],
   "source": [
    "train_df = pd.DataFrame({'smiles': all_dataset[0].ids, 'p_np': [item for sublist in all_dataset[0].y.tolist() for item in sublist]} , columns=[\"smiles\", 'p_np'])\n",
    "train_df.to_csv(\"train_2.csv\")"
   ]
  },
  {
   "cell_type": "code",
   "execution_count": null,
   "metadata": {
    "id": "kxT4vC4fdyCa"
   },
   "outputs": [],
   "source": [
    "train_aug = augmentation(train_df, [10,50])"
   ]
  },
  {
   "cell_type": "code",
   "execution_count": null,
   "metadata": {
    "colab": {
     "base_uri": "https://localhost:8080/"
    },
    "id": "CwpstZdBfmhc",
    "outputId": "d2a34eb1-f254-4a29-efc9-22c36928bac7"
   },
   "outputs": [
    {
     "data": {
      "text/plain": [
       "(27071, 2)"
      ]
     },
     "execution_count": 32,
     "metadata": {},
     "output_type": "execute_result"
    }
   ],
   "source": [
    "train_aug.shape"
   ]
  },
  {
   "cell_type": "code",
   "execution_count": null,
   "metadata": {
    "colab": {
     "base_uri": "https://localhost:8080/"
    },
    "id": "YRhzEd_uuOUX",
    "outputId": "be8af64e-2074-4fcb-8712-eceaf5099d13"
   },
   "outputs": [
    {
     "name": "stdout",
     "output_type": "stream",
     "text": [
      "Train_aug Samples: 27071\n",
      "Positive:Negative 1.0317472230561393\n"
     ]
    }
   ],
   "source": [
    "print('Train_aug Samples:', train_aug.shape[0])\n",
    "print('Positive:Negative',np.sum(train_aug.p_np == 1)/ np.sum(train_aug.p_np == 0))"
   ]
  },
  {
   "cell_type": "markdown",
   "metadata": {
    "id": "k4f6m0zRuw6g"
   },
   "source": [
    "Now classes are equal"
   ]
  },
  {
   "cell_type": "code",
   "execution_count": null,
   "metadata": {
    "id": "f1vfqLrLdy25"
   },
   "outputs": [],
   "source": [
    "train_aug.to_csv('aug_2.csv', index=False)"
   ]
  },
  {
   "cell_type": "code",
   "execution_count": null,
   "metadata": {
    "id": "BHnvsVs8dzAs"
   },
   "outputs": [],
   "source": [
    "dataset_file = os.path.join('/content/', 'aug_2.csv')\n",
    "loader = dc.data.CSVLoader(tasks=['p_np'], feature_field=\"smiles\", featurizer= dc.feat.MolGraphConvFeaturizer())\n",
    "train_set = loader.create_dataset(dataset_file)"
   ]
  },
  {
   "cell_type": "code",
   "execution_count": null,
   "metadata": {
    "id": "RFqIHrjk_Q0N"
   },
   "outputs": [],
   "source": [
    "def load_model(save_pth, args, tasks, hyperparams):\n",
    "  mode = 'classification'\n",
    "  # binary classification\n",
    "  n_classes = 2\n",
    "  if args['featurizer'] == 'GC':\n",
    "    number_atom_features = 30\n",
    "\n",
    "  if args['model'] == 'GCN':\n",
    "    model = dc.models.GCNModel(\n",
    "        n_tasks=len(tasks),\n",
    "        graph_conv_layers=[hyperparams['hidden_feats']] *\n",
    "        hyperparams['num_gnn_layers'],\n",
    "        activation=F.relu,\n",
    "        residual=hyperparams['residual'],\n",
    "        batchnorm=hyperparams['batchnorm'],\n",
    "        dropout=hyperparams['dropout'],\n",
    "        predictor_hidden_feats=hyperparams['hidden_feats'],\n",
    "        predictor_dropout=hyperparams['dropout'],\n",
    "        mode=mode,\n",
    "        number_atom_features=number_atom_features,\n",
    "        n_classes=n_classes,\n",
    "        learning_rate=hyperparams['lr'],\n",
    "        model_dir=save_pth)\n",
    "  else:\n",
    "    raise ValueError('Unexpected model: {}'.format(args['model']))\n",
    "\n",
    "  return model\n",
    "\n",
    "\n",
    "def main(train_set, val_set, test_set, save_path, args, hyperparams):\n",
    "  # Dataset\n",
    "  #args, tasks, all_dataset, transformers = load_dataset(args)\n",
    "  #train_set, val_set, test_set = all_dataset\n",
    "\n",
    "  # Metric\n",
    "\n",
    "  metric = dc.metrics.Metric(dc.metrics.roc_auc_score, np.mean)\n",
    "\n",
    "  all_run_val_metrics = []\n",
    "  all_run_test_metrics = []\n",
    "\n",
    "  for _ in range(args['num_runs']):\n",
    "    # Model\n",
    "    model = load_model(save_path, args, tasks, hyperparams)\n",
    "    # Object for early stop tracking\n",
    "    stopper = EarlyStopper(save_path, args['metric'], args['patience'])\n",
    "\n",
    "    # 1000 for maximum number of epochs\n",
    "    for epoch in range(100):\n",
    "      model.fit(\n",
    "          train_set,\n",
    "          nb_epoch=1,\n",
    "          max_checkpoints_to_keep=1,\n",
    "          deterministic=False,\n",
    "          restore=epoch > 0)\n",
    "\n",
    "      val_metric = model.evaluate(val_set, [metric], transformers)\n",
    "      if args['metric'] == 'roc_auc':\n",
    "        val_metric = val_metric['mean-roc_auc_score']\n",
    "      if args['metric'] == 'rmse':\n",
    "        val_metric = val_metric['mean-rms_score']\n",
    "\n",
    "      # Early stop\n",
    "      to_stop = stopper(model, val_metric)\n",
    "      if to_stop:\n",
    "        break\n",
    "\n",
    "    stopper.load_state_dict(model)\n",
    "    val_metric = model.evaluate(val_set, [metric], transformers)\n",
    "    test_metric = model.evaluate(test_set, [metric], transformers)\n",
    "\n",
    "    if args['metric'] == 'roc_auc':\n",
    "      val_metric = val_metric['mean-roc_auc_score']\n",
    "      test_metric = test_metric['mean-roc_auc_score']\n",
    "    elif args['metric'] == 'rmse':\n",
    "      val_metric = val_metric['mean-rms_score']\n",
    "      test_metric = test_metric['mean-rms_score']\n",
    "\n",
    "    all_run_val_metrics.append(val_metric)\n",
    "    all_run_test_metrics.append(test_metric)\n",
    "\n",
    "  with open(save_path + '/eval.txt', 'w') as f:\n",
    "    f.write('Best val {}: {:.4f} +- {:.4f}\\n'.format(\n",
    "        args['metric'], np.mean(all_run_val_metrics),\n",
    "        np.std(all_run_val_metrics)))\n",
    "    f.write('Test {}: {:.4f} +- {:.4f}\\n'.format(args['metric'],\n",
    "                                                 np.mean(all_run_test_metrics),\n",
    "                                                 np.std(all_run_test_metrics)))\n",
    "\n",
    "  with open(save_path + '/configure.json', 'w') as f:\n",
    "    json.dump(hyperparams, f, indent=2)\n",
    "\n",
    "  return all_run_val_metrics, all_run_test_metrics\n",
    "\n",
    "\n",
    "def init_hyper_search_space(args):\n",
    "  # Model-based search space\n",
    "  if args['model'] == 'GCN':\n",
    "    search_space = {\n",
    "        'lr': hp.uniform('lr', low=1e-4, high=3e-1),\n",
    "        'hidden_feats': hp.choice('hidden_feats', [32, 64, 128, 256, 512]),\n",
    "        'num_gnn_layers': hp.choice('num_gnn_layers', [1, 2, 3, 4, 5]),\n",
    "        'residual': hp.choice('residual', [True, False]),\n",
    "        'batchnorm': hp.choice('batchnorm', [True, False]),\n",
    "        'dropout': hp.uniform('dropout', low=0., high=0.6)\n",
    "    }\n",
    "  else:\n",
    "    raise ValueError('Unexpected model: {}'.format(args['model']))\n",
    "\n",
    "  return search_space\n",
    "\n",
    "\n",
    "def bayesian_optimization(args, train_set, val_set, test_set):\n",
    "  results = []\n",
    "  candidate_hypers = init_hyper_search_space(args)\n",
    "\n",
    "  def objective(hyperparams):\n",
    "    configure = deepcopy(args)\n",
    "    save_path = init_trial_path(args)\n",
    "    val_metrics, test_metrics = main(train_set, val_set, test_set, save_path, configure, hyperparams)\n",
    "\n",
    "    if args['metric'] in ['roc_auc']:\n",
    "      # To maximize a non-negative value is equivalent to minimize its opposite number\n",
    "      val_metric_to_minimize = -1 * np.mean(val_metrics)\n",
    "    else:\n",
    "      val_metric_to_minimize = np.mean(val_metrics)\n",
    "\n",
    "    results.append((save_path, val_metric_to_minimize, val_metrics,\n",
    "                    test_metrics))\n",
    "\n",
    "    return val_metric_to_minimize\n",
    "\n",
    "  fmin(\n",
    "      objective,\n",
    "      candidate_hypers,\n",
    "      algo=tpe.suggest,\n",
    "      max_evals=args['num_trials'])\n",
    "  results.sort(key=lambda tup: tup[1])\n",
    "  best_trial_path, _, best_val_metrics, best_test_metrics = results[0]\n",
    "\n",
    "  copyfile(best_trial_path + '/configure.json',\n",
    "           args['result_path'] + '/configure.json')\n",
    "  copyfile(best_trial_path + '/eval.txt', args['result_path'] + '/eval.txt')\n",
    "\n",
    "  return best_val_metrics, best_test_metrics"
   ]
  },
  {
   "cell_type": "code",
   "execution_count": null,
   "metadata": {
    "id": "MxAsiFWo_Q2w"
   },
   "outputs": [],
   "source": [
    "args= {'dataset' : 'BBBP',\n",
    "  'model' : 'GCN',\n",
    "  'featurizer' : 'GC',\n",
    "  'result_path' : 'resultsnew',\n",
    "  'num_runs' : 3,\n",
    "  'patience' : 30,\n",
    "  'hyper_search' : False,  # hyper search on augmented data is too long, so I did it on initial data and saved config\n",
    "  'num_trials' : 16}"
   ]
  },
  {
   "cell_type": "code",
   "execution_count": null,
   "metadata": {
    "colab": {
     "base_uri": "https://localhost:8080/"
    },
    "id": "hlFN3oEdM41b",
    "outputId": "f41a633c-25e2-46f8-9d25-a2dc022ebe41"
   },
   "outputs": [
    {
     "name": "stdout",
     "output_type": "stream",
     "text": [
      "Created directory resultsnew\n",
      "Use the manually specified hyperparameters\n"
     ]
    },
    {
     "name": "stderr",
     "output_type": "stream",
     "text": [
      "/usr/local/lib/python3.7/dist-packages/torch/autocast_mode.py:162: UserWarning: User provided device_type of 'cuda', but CUDA is not available. Disabling\n",
      "  warnings.warn('User provided device_type of \\'cuda\\', but CUDA is not available. Disabling')\n",
      "/usr/local/lib/python3.7/dist-packages/torch/autocast_mode.py:162: UserWarning: User provided device_type of 'cuda', but CUDA is not available. Disabling\n",
      "  warnings.warn('User provided device_type of \\'cuda\\', but CUDA is not available. Disabling')\n",
      "/usr/local/lib/python3.7/dist-packages/torch/autocast_mode.py:162: UserWarning: User provided device_type of 'cuda', but CUDA is not available. Disabling\n",
      "  warnings.warn('User provided device_type of \\'cuda\\', but CUDA is not available. Disabling')\n",
      "/usr/local/lib/python3.7/dist-packages/torch/autocast_mode.py:162: UserWarning: User provided device_type of 'cuda', but CUDA is not available. Disabling\n",
      "  warnings.warn('User provided device_type of \\'cuda\\', but CUDA is not available. Disabling')\n",
      "/usr/local/lib/python3.7/dist-packages/torch/autocast_mode.py:162: UserWarning: User provided device_type of 'cuda', but CUDA is not available. Disabling\n",
      "  warnings.warn('User provided device_type of \\'cuda\\', but CUDA is not available. Disabling')\n",
      "/usr/local/lib/python3.7/dist-packages/torch/autocast_mode.py:162: UserWarning: User provided device_type of 'cuda', but CUDA is not available. Disabling\n",
      "  warnings.warn('User provided device_type of \\'cuda\\', but CUDA is not available. Disabling')\n",
      "/usr/local/lib/python3.7/dist-packages/torch/autocast_mode.py:162: UserWarning: User provided device_type of 'cuda', but CUDA is not available. Disabling\n",
      "  warnings.warn('User provided device_type of \\'cuda\\', but CUDA is not available. Disabling')\n",
      "/usr/local/lib/python3.7/dist-packages/torch/autocast_mode.py:162: UserWarning: User provided device_type of 'cuda', but CUDA is not available. Disabling\n",
      "  warnings.warn('User provided device_type of \\'cuda\\', but CUDA is not available. Disabling')\n",
      "/usr/local/lib/python3.7/dist-packages/torch/autocast_mode.py:162: UserWarning: User provided device_type of 'cuda', but CUDA is not available. Disabling\n",
      "  warnings.warn('User provided device_type of \\'cuda\\', but CUDA is not available. Disabling')\n",
      "/usr/local/lib/python3.7/dist-packages/torch/autocast_mode.py:162: UserWarning: User provided device_type of 'cuda', but CUDA is not available. Disabling\n",
      "  warnings.warn('User provided device_type of \\'cuda\\', but CUDA is not available. Disabling')\n",
      "/usr/local/lib/python3.7/dist-packages/torch/autocast_mode.py:162: UserWarning: User provided device_type of 'cuda', but CUDA is not available. Disabling\n",
      "  warnings.warn('User provided device_type of \\'cuda\\', but CUDA is not available. Disabling')\n",
      "/usr/local/lib/python3.7/dist-packages/torch/autocast_mode.py:162: UserWarning: User provided device_type of 'cuda', but CUDA is not available. Disabling\n",
      "  warnings.warn('User provided device_type of \\'cuda\\', but CUDA is not available. Disabling')\n",
      "/usr/local/lib/python3.7/dist-packages/torch/autocast_mode.py:162: UserWarning: User provided device_type of 'cuda', but CUDA is not available. Disabling\n",
      "  warnings.warn('User provided device_type of \\'cuda\\', but CUDA is not available. Disabling')\n",
      "/usr/local/lib/python3.7/dist-packages/torch/autocast_mode.py:162: UserWarning: User provided device_type of 'cuda', but CUDA is not available. Disabling\n",
      "  warnings.warn('User provided device_type of \\'cuda\\', but CUDA is not available. Disabling')\n",
      "/usr/local/lib/python3.7/dist-packages/torch/autocast_mode.py:162: UserWarning: User provided device_type of 'cuda', but CUDA is not available. Disabling\n",
      "  warnings.warn('User provided device_type of \\'cuda\\', but CUDA is not available. Disabling')\n",
      "/usr/local/lib/python3.7/dist-packages/torch/autocast_mode.py:162: UserWarning: User provided device_type of 'cuda', but CUDA is not available. Disabling\n",
      "  warnings.warn('User provided device_type of \\'cuda\\', but CUDA is not available. Disabling')\n",
      "/usr/local/lib/python3.7/dist-packages/torch/autocast_mode.py:162: UserWarning: User provided device_type of 'cuda', but CUDA is not available. Disabling\n",
      "  warnings.warn('User provided device_type of \\'cuda\\', but CUDA is not available. Disabling')\n",
      "/usr/local/lib/python3.7/dist-packages/torch/autocast_mode.py:162: UserWarning: User provided device_type of 'cuda', but CUDA is not available. Disabling\n",
      "  warnings.warn('User provided device_type of \\'cuda\\', but CUDA is not available. Disabling')\n",
      "/usr/local/lib/python3.7/dist-packages/torch/autocast_mode.py:162: UserWarning: User provided device_type of 'cuda', but CUDA is not available. Disabling\n",
      "  warnings.warn('User provided device_type of \\'cuda\\', but CUDA is not available. Disabling')\n",
      "/usr/local/lib/python3.7/dist-packages/torch/autocast_mode.py:162: UserWarning: User provided device_type of 'cuda', but CUDA is not available. Disabling\n",
      "  warnings.warn('User provided device_type of \\'cuda\\', but CUDA is not available. Disabling')\n",
      "/usr/local/lib/python3.7/dist-packages/torch/autocast_mode.py:162: UserWarning: User provided device_type of 'cuda', but CUDA is not available. Disabling\n",
      "  warnings.warn('User provided device_type of \\'cuda\\', but CUDA is not available. Disabling')\n",
      "/usr/local/lib/python3.7/dist-packages/torch/autocast_mode.py:162: UserWarning: User provided device_type of 'cuda', but CUDA is not available. Disabling\n",
      "  warnings.warn('User provided device_type of \\'cuda\\', but CUDA is not available. Disabling')\n",
      "/usr/local/lib/python3.7/dist-packages/torch/autocast_mode.py:162: UserWarning: User provided device_type of 'cuda', but CUDA is not available. Disabling\n",
      "  warnings.warn('User provided device_type of \\'cuda\\', but CUDA is not available. Disabling')\n",
      "/usr/local/lib/python3.7/dist-packages/torch/autocast_mode.py:162: UserWarning: User provided device_type of 'cuda', but CUDA is not available. Disabling\n",
      "  warnings.warn('User provided device_type of \\'cuda\\', but CUDA is not available. Disabling')\n",
      "/usr/local/lib/python3.7/dist-packages/torch/autocast_mode.py:162: UserWarning: User provided device_type of 'cuda', but CUDA is not available. Disabling\n",
      "  warnings.warn('User provided device_type of \\'cuda\\', but CUDA is not available. Disabling')\n",
      "/usr/local/lib/python3.7/dist-packages/torch/autocast_mode.py:162: UserWarning: User provided device_type of 'cuda', but CUDA is not available. Disabling\n",
      "  warnings.warn('User provided device_type of \\'cuda\\', but CUDA is not available. Disabling')\n",
      "/usr/local/lib/python3.7/dist-packages/torch/autocast_mode.py:162: UserWarning: User provided device_type of 'cuda', but CUDA is not available. Disabling\n",
      "  warnings.warn('User provided device_type of \\'cuda\\', but CUDA is not available. Disabling')\n",
      "/usr/local/lib/python3.7/dist-packages/torch/autocast_mode.py:162: UserWarning: User provided device_type of 'cuda', but CUDA is not available. Disabling\n",
      "  warnings.warn('User provided device_type of \\'cuda\\', but CUDA is not available. Disabling')\n",
      "/usr/local/lib/python3.7/dist-packages/torch/autocast_mode.py:162: UserWarning: User provided device_type of 'cuda', but CUDA is not available. Disabling\n",
      "  warnings.warn('User provided device_type of \\'cuda\\', but CUDA is not available. Disabling')\n",
      "/usr/local/lib/python3.7/dist-packages/torch/autocast_mode.py:162: UserWarning: User provided device_type of 'cuda', but CUDA is not available. Disabling\n",
      "  warnings.warn('User provided device_type of \\'cuda\\', but CUDA is not available. Disabling')\n",
      "/usr/local/lib/python3.7/dist-packages/torch/autocast_mode.py:162: UserWarning: User provided device_type of 'cuda', but CUDA is not available. Disabling\n",
      "  warnings.warn('User provided device_type of \\'cuda\\', but CUDA is not available. Disabling')\n",
      "/usr/local/lib/python3.7/dist-packages/torch/autocast_mode.py:162: UserWarning: User provided device_type of 'cuda', but CUDA is not available. Disabling\n",
      "  warnings.warn('User provided device_type of \\'cuda\\', but CUDA is not available. Disabling')\n",
      "/usr/local/lib/python3.7/dist-packages/torch/autocast_mode.py:162: UserWarning: User provided device_type of 'cuda', but CUDA is not available. Disabling\n",
      "  warnings.warn('User provided device_type of \\'cuda\\', but CUDA is not available. Disabling')\n",
      "/usr/local/lib/python3.7/dist-packages/torch/autocast_mode.py:162: UserWarning: User provided device_type of 'cuda', but CUDA is not available. Disabling\n",
      "  warnings.warn('User provided device_type of \\'cuda\\', but CUDA is not available. Disabling')\n",
      "/usr/local/lib/python3.7/dist-packages/torch/autocast_mode.py:162: UserWarning: User provided device_type of 'cuda', but CUDA is not available. Disabling\n",
      "  warnings.warn('User provided device_type of \\'cuda\\', but CUDA is not available. Disabling')\n",
      "/usr/local/lib/python3.7/dist-packages/torch/autocast_mode.py:162: UserWarning: User provided device_type of 'cuda', but CUDA is not available. Disabling\n",
      "  warnings.warn('User provided device_type of \\'cuda\\', but CUDA is not available. Disabling')\n",
      "/usr/local/lib/python3.7/dist-packages/torch/autocast_mode.py:162: UserWarning: User provided device_type of 'cuda', but CUDA is not available. Disabling\n",
      "  warnings.warn('User provided device_type of \\'cuda\\', but CUDA is not available. Disabling')\n",
      "/usr/local/lib/python3.7/dist-packages/torch/autocast_mode.py:162: UserWarning: User provided device_type of 'cuda', but CUDA is not available. Disabling\n",
      "  warnings.warn('User provided device_type of \\'cuda\\', but CUDA is not available. Disabling')\n",
      "/usr/local/lib/python3.7/dist-packages/torch/autocast_mode.py:162: UserWarning: User provided device_type of 'cuda', but CUDA is not available. Disabling\n",
      "  warnings.warn('User provided device_type of \\'cuda\\', but CUDA is not available. Disabling')\n",
      "/usr/local/lib/python3.7/dist-packages/torch/autocast_mode.py:162: UserWarning: User provided device_type of 'cuda', but CUDA is not available. Disabling\n",
      "  warnings.warn('User provided device_type of \\'cuda\\', but CUDA is not available. Disabling')\n",
      "/usr/local/lib/python3.7/dist-packages/torch/autocast_mode.py:162: UserWarning: User provided device_type of 'cuda', but CUDA is not available. Disabling\n",
      "  warnings.warn('User provided device_type of \\'cuda\\', but CUDA is not available. Disabling')\n",
      "/usr/local/lib/python3.7/dist-packages/torch/autocast_mode.py:162: UserWarning: User provided device_type of 'cuda', but CUDA is not available. Disabling\n",
      "  warnings.warn('User provided device_type of \\'cuda\\', but CUDA is not available. Disabling')\n",
      "/usr/local/lib/python3.7/dist-packages/torch/autocast_mode.py:162: UserWarning: User provided device_type of 'cuda', but CUDA is not available. Disabling\n",
      "  warnings.warn('User provided device_type of \\'cuda\\', but CUDA is not available. Disabling')\n",
      "/usr/local/lib/python3.7/dist-packages/torch/autocast_mode.py:162: UserWarning: User provided device_type of 'cuda', but CUDA is not available. Disabling\n",
      "  warnings.warn('User provided device_type of \\'cuda\\', but CUDA is not available. Disabling')\n",
      "/usr/local/lib/python3.7/dist-packages/torch/autocast_mode.py:162: UserWarning: User provided device_type of 'cuda', but CUDA is not available. Disabling\n",
      "  warnings.warn('User provided device_type of \\'cuda\\', but CUDA is not available. Disabling')\n",
      "/usr/local/lib/python3.7/dist-packages/torch/autocast_mode.py:162: UserWarning: User provided device_type of 'cuda', but CUDA is not available. Disabling\n",
      "  warnings.warn('User provided device_type of \\'cuda\\', but CUDA is not available. Disabling')\n",
      "/usr/local/lib/python3.7/dist-packages/torch/autocast_mode.py:162: UserWarning: User provided device_type of 'cuda', but CUDA is not available. Disabling\n",
      "  warnings.warn('User provided device_type of \\'cuda\\', but CUDA is not available. Disabling')\n",
      "/usr/local/lib/python3.7/dist-packages/torch/autocast_mode.py:162: UserWarning: User provided device_type of 'cuda', but CUDA is not available. Disabling\n",
      "  warnings.warn('User provided device_type of \\'cuda\\', but CUDA is not available. Disabling')\n",
      "/usr/local/lib/python3.7/dist-packages/torch/autocast_mode.py:162: UserWarning: User provided device_type of 'cuda', but CUDA is not available. Disabling\n",
      "  warnings.warn('User provided device_type of \\'cuda\\', but CUDA is not available. Disabling')\n",
      "/usr/local/lib/python3.7/dist-packages/torch/autocast_mode.py:162: UserWarning: User provided device_type of 'cuda', but CUDA is not available. Disabling\n",
      "  warnings.warn('User provided device_type of \\'cuda\\', but CUDA is not available. Disabling')\n",
      "/usr/local/lib/python3.7/dist-packages/torch/autocast_mode.py:162: UserWarning: User provided device_type of 'cuda', but CUDA is not available. Disabling\n",
      "  warnings.warn('User provided device_type of \\'cuda\\', but CUDA is not available. Disabling')\n",
      "/usr/local/lib/python3.7/dist-packages/torch/autocast_mode.py:162: UserWarning: User provided device_type of 'cuda', but CUDA is not available. Disabling\n",
      "  warnings.warn('User provided device_type of \\'cuda\\', but CUDA is not available. Disabling')\n",
      "/usr/local/lib/python3.7/dist-packages/torch/autocast_mode.py:162: UserWarning: User provided device_type of 'cuda', but CUDA is not available. Disabling\n",
      "  warnings.warn('User provided device_type of \\'cuda\\', but CUDA is not available. Disabling')\n",
      "/usr/local/lib/python3.7/dist-packages/torch/autocast_mode.py:162: UserWarning: User provided device_type of 'cuda', but CUDA is not available. Disabling\n",
      "  warnings.warn('User provided device_type of \\'cuda\\', but CUDA is not available. Disabling')\n",
      "/usr/local/lib/python3.7/dist-packages/torch/autocast_mode.py:162: UserWarning: User provided device_type of 'cuda', but CUDA is not available. Disabling\n",
      "  warnings.warn('User provided device_type of \\'cuda\\', but CUDA is not available. Disabling')\n",
      "/usr/local/lib/python3.7/dist-packages/torch/autocast_mode.py:162: UserWarning: User provided device_type of 'cuda', but CUDA is not available. Disabling\n",
      "  warnings.warn('User provided device_type of \\'cuda\\', but CUDA is not available. Disabling')\n",
      "/usr/local/lib/python3.7/dist-packages/torch/autocast_mode.py:162: UserWarning: User provided device_type of 'cuda', but CUDA is not available. Disabling\n",
      "  warnings.warn('User provided device_type of \\'cuda\\', but CUDA is not available. Disabling')\n",
      "/usr/local/lib/python3.7/dist-packages/torch/autocast_mode.py:162: UserWarning: User provided device_type of 'cuda', but CUDA is not available. Disabling\n",
      "  warnings.warn('User provided device_type of \\'cuda\\', but CUDA is not available. Disabling')\n",
      "/usr/local/lib/python3.7/dist-packages/torch/autocast_mode.py:162: UserWarning: User provided device_type of 'cuda', but CUDA is not available. Disabling\n",
      "  warnings.warn('User provided device_type of \\'cuda\\', but CUDA is not available. Disabling')\n",
      "/usr/local/lib/python3.7/dist-packages/torch/autocast_mode.py:162: UserWarning: User provided device_type of 'cuda', but CUDA is not available. Disabling\n",
      "  warnings.warn('User provided device_type of \\'cuda\\', but CUDA is not available. Disabling')\n",
      "/usr/local/lib/python3.7/dist-packages/torch/autocast_mode.py:162: UserWarning: User provided device_type of 'cuda', but CUDA is not available. Disabling\n",
      "  warnings.warn('User provided device_type of \\'cuda\\', but CUDA is not available. Disabling')\n",
      "/usr/local/lib/python3.7/dist-packages/torch/autocast_mode.py:162: UserWarning: User provided device_type of 'cuda', but CUDA is not available. Disabling\n",
      "  warnings.warn('User provided device_type of \\'cuda\\', but CUDA is not available. Disabling')\n",
      "/usr/local/lib/python3.7/dist-packages/torch/autocast_mode.py:162: UserWarning: User provided device_type of 'cuda', but CUDA is not available. Disabling\n",
      "  warnings.warn('User provided device_type of \\'cuda\\', but CUDA is not available. Disabling')\n",
      "/usr/local/lib/python3.7/dist-packages/torch/autocast_mode.py:162: UserWarning: User provided device_type of 'cuda', but CUDA is not available. Disabling\n",
      "  warnings.warn('User provided device_type of \\'cuda\\', but CUDA is not available. Disabling')\n",
      "/usr/local/lib/python3.7/dist-packages/torch/autocast_mode.py:162: UserWarning: User provided device_type of 'cuda', but CUDA is not available. Disabling\n",
      "  warnings.warn('User provided device_type of \\'cuda\\', but CUDA is not available. Disabling')\n",
      "/usr/local/lib/python3.7/dist-packages/torch/autocast_mode.py:162: UserWarning: User provided device_type of 'cuda', but CUDA is not available. Disabling\n",
      "  warnings.warn('User provided device_type of \\'cuda\\', but CUDA is not available. Disabling')\n",
      "/usr/local/lib/python3.7/dist-packages/torch/autocast_mode.py:162: UserWarning: User provided device_type of 'cuda', but CUDA is not available. Disabling\n",
      "  warnings.warn('User provided device_type of \\'cuda\\', but CUDA is not available. Disabling')\n",
      "/usr/local/lib/python3.7/dist-packages/torch/autocast_mode.py:162: UserWarning: User provided device_type of 'cuda', but CUDA is not available. Disabling\n",
      "  warnings.warn('User provided device_type of \\'cuda\\', but CUDA is not available. Disabling')\n",
      "/usr/local/lib/python3.7/dist-packages/torch/autocast_mode.py:162: UserWarning: User provided device_type of 'cuda', but CUDA is not available. Disabling\n",
      "  warnings.warn('User provided device_type of \\'cuda\\', but CUDA is not available. Disabling')\n",
      "/usr/local/lib/python3.7/dist-packages/torch/autocast_mode.py:162: UserWarning: User provided device_type of 'cuda', but CUDA is not available. Disabling\n",
      "  warnings.warn('User provided device_type of \\'cuda\\', but CUDA is not available. Disabling')\n",
      "/usr/local/lib/python3.7/dist-packages/torch/autocast_mode.py:162: UserWarning: User provided device_type of 'cuda', but CUDA is not available. Disabling\n",
      "  warnings.warn('User provided device_type of \\'cuda\\', but CUDA is not available. Disabling')\n",
      "/usr/local/lib/python3.7/dist-packages/torch/autocast_mode.py:162: UserWarning: User provided device_type of 'cuda', but CUDA is not available. Disabling\n",
      "  warnings.warn('User provided device_type of \\'cuda\\', but CUDA is not available. Disabling')\n",
      "/usr/local/lib/python3.7/dist-packages/torch/autocast_mode.py:162: UserWarning: User provided device_type of 'cuda', but CUDA is not available. Disabling\n",
      "  warnings.warn('User provided device_type of \\'cuda\\', but CUDA is not available. Disabling')\n",
      "/usr/local/lib/python3.7/dist-packages/torch/autocast_mode.py:162: UserWarning: User provided device_type of 'cuda', but CUDA is not available. Disabling\n",
      "  warnings.warn('User provided device_type of \\'cuda\\', but CUDA is not available. Disabling')\n",
      "/usr/local/lib/python3.7/dist-packages/torch/autocast_mode.py:162: UserWarning: User provided device_type of 'cuda', but CUDA is not available. Disabling\n",
      "  warnings.warn('User provided device_type of \\'cuda\\', but CUDA is not available. Disabling')\n",
      "/usr/local/lib/python3.7/dist-packages/torch/autocast_mode.py:162: UserWarning: User provided device_type of 'cuda', but CUDA is not available. Disabling\n",
      "  warnings.warn('User provided device_type of \\'cuda\\', but CUDA is not available. Disabling')\n",
      "/usr/local/lib/python3.7/dist-packages/torch/autocast_mode.py:162: UserWarning: User provided device_type of 'cuda', but CUDA is not available. Disabling\n",
      "  warnings.warn('User provided device_type of \\'cuda\\', but CUDA is not available. Disabling')\n",
      "/usr/local/lib/python3.7/dist-packages/torch/autocast_mode.py:162: UserWarning: User provided device_type of 'cuda', but CUDA is not available. Disabling\n",
      "  warnings.warn('User provided device_type of \\'cuda\\', but CUDA is not available. Disabling')\n",
      "/usr/local/lib/python3.7/dist-packages/torch/autocast_mode.py:162: UserWarning: User provided device_type of 'cuda', but CUDA is not available. Disabling\n",
      "  warnings.warn('User provided device_type of \\'cuda\\', but CUDA is not available. Disabling')\n",
      "/usr/local/lib/python3.7/dist-packages/torch/autocast_mode.py:162: UserWarning: User provided device_type of 'cuda', but CUDA is not available. Disabling\n",
      "  warnings.warn('User provided device_type of \\'cuda\\', but CUDA is not available. Disabling')\n",
      "/usr/local/lib/python3.7/dist-packages/torch/autocast_mode.py:162: UserWarning: User provided device_type of 'cuda', but CUDA is not available. Disabling\n",
      "  warnings.warn('User provided device_type of \\'cuda\\', but CUDA is not available. Disabling')\n",
      "/usr/local/lib/python3.7/dist-packages/torch/autocast_mode.py:162: UserWarning: User provided device_type of 'cuda', but CUDA is not available. Disabling\n",
      "  warnings.warn('User provided device_type of \\'cuda\\', but CUDA is not available. Disabling')\n",
      "/usr/local/lib/python3.7/dist-packages/torch/autocast_mode.py:162: UserWarning: User provided device_type of 'cuda', but CUDA is not available. Disabling\n",
      "  warnings.warn('User provided device_type of \\'cuda\\', but CUDA is not available. Disabling')\n",
      "/usr/local/lib/python3.7/dist-packages/torch/autocast_mode.py:162: UserWarning: User provided device_type of 'cuda', but CUDA is not available. Disabling\n",
      "  warnings.warn('User provided device_type of \\'cuda\\', but CUDA is not available. Disabling')\n",
      "/usr/local/lib/python3.7/dist-packages/torch/autocast_mode.py:162: UserWarning: User provided device_type of 'cuda', but CUDA is not available. Disabling\n",
      "  warnings.warn('User provided device_type of \\'cuda\\', but CUDA is not available. Disabling')\n",
      "/usr/local/lib/python3.7/dist-packages/torch/autocast_mode.py:162: UserWarning: User provided device_type of 'cuda', but CUDA is not available. Disabling\n",
      "  warnings.warn('User provided device_type of \\'cuda\\', but CUDA is not available. Disabling')\n",
      "/usr/local/lib/python3.7/dist-packages/torch/autocast_mode.py:162: UserWarning: User provided device_type of 'cuda', but CUDA is not available. Disabling\n",
      "  warnings.warn('User provided device_type of \\'cuda\\', but CUDA is not available. Disabling')\n",
      "/usr/local/lib/python3.7/dist-packages/torch/autocast_mode.py:162: UserWarning: User provided device_type of 'cuda', but CUDA is not available. Disabling\n",
      "  warnings.warn('User provided device_type of \\'cuda\\', but CUDA is not available. Disabling')\n",
      "/usr/local/lib/python3.7/dist-packages/torch/autocast_mode.py:162: UserWarning: User provided device_type of 'cuda', but CUDA is not available. Disabling\n",
      "  warnings.warn('User provided device_type of \\'cuda\\', but CUDA is not available. Disabling')\n",
      "/usr/local/lib/python3.7/dist-packages/torch/autocast_mode.py:162: UserWarning: User provided device_type of 'cuda', but CUDA is not available. Disabling\n",
      "  warnings.warn('User provided device_type of \\'cuda\\', but CUDA is not available. Disabling')\n",
      "/usr/local/lib/python3.7/dist-packages/torch/autocast_mode.py:162: UserWarning: User provided device_type of 'cuda', but CUDA is not available. Disabling\n",
      "  warnings.warn('User provided device_type of \\'cuda\\', but CUDA is not available. Disabling')\n",
      "/usr/local/lib/python3.7/dist-packages/torch/autocast_mode.py:162: UserWarning: User provided device_type of 'cuda', but CUDA is not available. Disabling\n",
      "  warnings.warn('User provided device_type of \\'cuda\\', but CUDA is not available. Disabling')\n",
      "/usr/local/lib/python3.7/dist-packages/torch/autocast_mode.py:162: UserWarning: User provided device_type of 'cuda', but CUDA is not available. Disabling\n",
      "  warnings.warn('User provided device_type of \\'cuda\\', but CUDA is not available. Disabling')\n",
      "/usr/local/lib/python3.7/dist-packages/torch/autocast_mode.py:162: UserWarning: User provided device_type of 'cuda', but CUDA is not available. Disabling\n",
      "  warnings.warn('User provided device_type of \\'cuda\\', but CUDA is not available. Disabling')\n",
      "/usr/local/lib/python3.7/dist-packages/torch/autocast_mode.py:162: UserWarning: User provided device_type of 'cuda', but CUDA is not available. Disabling\n",
      "  warnings.warn('User provided device_type of \\'cuda\\', but CUDA is not available. Disabling')\n",
      "/usr/local/lib/python3.7/dist-packages/torch/autocast_mode.py:162: UserWarning: User provided device_type of 'cuda', but CUDA is not available. Disabling\n",
      "  warnings.warn('User provided device_type of \\'cuda\\', but CUDA is not available. Disabling')\n",
      "/usr/local/lib/python3.7/dist-packages/torch/autocast_mode.py:162: UserWarning: User provided device_type of 'cuda', but CUDA is not available. Disabling\n",
      "  warnings.warn('User provided device_type of \\'cuda\\', but CUDA is not available. Disabling')\n",
      "/usr/local/lib/python3.7/dist-packages/torch/autocast_mode.py:162: UserWarning: User provided device_type of 'cuda', but CUDA is not available. Disabling\n",
      "  warnings.warn('User provided device_type of \\'cuda\\', but CUDA is not available. Disabling')\n",
      "/usr/local/lib/python3.7/dist-packages/torch/autocast_mode.py:162: UserWarning: User provided device_type of 'cuda', but CUDA is not available. Disabling\n",
      "  warnings.warn('User provided device_type of \\'cuda\\', but CUDA is not available. Disabling')\n",
      "/usr/local/lib/python3.7/dist-packages/torch/autocast_mode.py:162: UserWarning: User provided device_type of 'cuda', but CUDA is not available. Disabling\n",
      "  warnings.warn('User provided device_type of \\'cuda\\', but CUDA is not available. Disabling')\n",
      "/usr/local/lib/python3.7/dist-packages/torch/autocast_mode.py:162: UserWarning: User provided device_type of 'cuda', but CUDA is not available. Disabling\n",
      "  warnings.warn('User provided device_type of \\'cuda\\', but CUDA is not available. Disabling')\n",
      "/usr/local/lib/python3.7/dist-packages/torch/autocast_mode.py:162: UserWarning: User provided device_type of 'cuda', but CUDA is not available. Disabling\n",
      "  warnings.warn('User provided device_type of \\'cuda\\', but CUDA is not available. Disabling')\n",
      "/usr/local/lib/python3.7/dist-packages/torch/autocast_mode.py:162: UserWarning: User provided device_type of 'cuda', but CUDA is not available. Disabling\n",
      "  warnings.warn('User provided device_type of \\'cuda\\', but CUDA is not available. Disabling')\n",
      "/usr/local/lib/python3.7/dist-packages/torch/autocast_mode.py:162: UserWarning: User provided device_type of 'cuda', but CUDA is not available. Disabling\n",
      "  warnings.warn('User provided device_type of \\'cuda\\', but CUDA is not available. Disabling')\n",
      "/usr/local/lib/python3.7/dist-packages/torch/autocast_mode.py:162: UserWarning: User provided device_type of 'cuda', but CUDA is not available. Disabling\n",
      "  warnings.warn('User provided device_type of \\'cuda\\', but CUDA is not available. Disabling')\n",
      "/usr/local/lib/python3.7/dist-packages/torch/autocast_mode.py:162: UserWarning: User provided device_type of 'cuda', but CUDA is not available. Disabling\n",
      "  warnings.warn('User provided device_type of \\'cuda\\', but CUDA is not available. Disabling')\n",
      "/usr/local/lib/python3.7/dist-packages/torch/autocast_mode.py:162: UserWarning: User provided device_type of 'cuda', but CUDA is not available. Disabling\n",
      "  warnings.warn('User provided device_type of \\'cuda\\', but CUDA is not available. Disabling')\n",
      "/usr/local/lib/python3.7/dist-packages/torch/autocast_mode.py:162: UserWarning: User provided device_type of 'cuda', but CUDA is not available. Disabling\n",
      "  warnings.warn('User provided device_type of \\'cuda\\', but CUDA is not available. Disabling')\n",
      "/usr/local/lib/python3.7/dist-packages/torch/autocast_mode.py:162: UserWarning: User provided device_type of 'cuda', but CUDA is not available. Disabling\n",
      "  warnings.warn('User provided device_type of \\'cuda\\', but CUDA is not available. Disabling')\n",
      "/usr/local/lib/python3.7/dist-packages/torch/autocast_mode.py:162: UserWarning: User provided device_type of 'cuda', but CUDA is not available. Disabling\n",
      "  warnings.warn('User provided device_type of \\'cuda\\', but CUDA is not available. Disabling')\n",
      "/usr/local/lib/python3.7/dist-packages/torch/autocast_mode.py:162: UserWarning: User provided device_type of 'cuda', but CUDA is not available. Disabling\n",
      "  warnings.warn('User provided device_type of \\'cuda\\', but CUDA is not available. Disabling')\n",
      "/usr/local/lib/python3.7/dist-packages/torch/autocast_mode.py:162: UserWarning: User provided device_type of 'cuda', but CUDA is not available. Disabling\n",
      "  warnings.warn('User provided device_type of \\'cuda\\', but CUDA is not available. Disabling')\n",
      "/usr/local/lib/python3.7/dist-packages/torch/autocast_mode.py:162: UserWarning: User provided device_type of 'cuda', but CUDA is not available. Disabling\n",
      "  warnings.warn('User provided device_type of \\'cuda\\', but CUDA is not available. Disabling')\n",
      "/usr/local/lib/python3.7/dist-packages/torch/autocast_mode.py:162: UserWarning: User provided device_type of 'cuda', but CUDA is not available. Disabling\n",
      "  warnings.warn('User provided device_type of \\'cuda\\', but CUDA is not available. Disabling')\n",
      "/usr/local/lib/python3.7/dist-packages/torch/autocast_mode.py:162: UserWarning: User provided device_type of 'cuda', but CUDA is not available. Disabling\n",
      "  warnings.warn('User provided device_type of \\'cuda\\', but CUDA is not available. Disabling')\n",
      "/usr/local/lib/python3.7/dist-packages/torch/autocast_mode.py:162: UserWarning: User provided device_type of 'cuda', but CUDA is not available. Disabling\n",
      "  warnings.warn('User provided device_type of \\'cuda\\', but CUDA is not available. Disabling')\n",
      "/usr/local/lib/python3.7/dist-packages/torch/autocast_mode.py:162: UserWarning: User provided device_type of 'cuda', but CUDA is not available. Disabling\n",
      "  warnings.warn('User provided device_type of \\'cuda\\', but CUDA is not available. Disabling')\n",
      "/usr/local/lib/python3.7/dist-packages/torch/autocast_mode.py:162: UserWarning: User provided device_type of 'cuda', but CUDA is not available. Disabling\n",
      "  warnings.warn('User provided device_type of \\'cuda\\', but CUDA is not available. Disabling')\n",
      "/usr/local/lib/python3.7/dist-packages/torch/autocast_mode.py:162: UserWarning: User provided device_type of 'cuda', but CUDA is not available. Disabling\n",
      "  warnings.warn('User provided device_type of \\'cuda\\', but CUDA is not available. Disabling')\n",
      "/usr/local/lib/python3.7/dist-packages/torch/autocast_mode.py:162: UserWarning: User provided device_type of 'cuda', but CUDA is not available. Disabling\n",
      "  warnings.warn('User provided device_type of \\'cuda\\', but CUDA is not available. Disabling')\n",
      "/usr/local/lib/python3.7/dist-packages/torch/autocast_mode.py:162: UserWarning: User provided device_type of 'cuda', but CUDA is not available. Disabling\n",
      "  warnings.warn('User provided device_type of \\'cuda\\', but CUDA is not available. Disabling')\n",
      "/usr/local/lib/python3.7/dist-packages/torch/autocast_mode.py:162: UserWarning: User provided device_type of 'cuda', but CUDA is not available. Disabling\n",
      "  warnings.warn('User provided device_type of \\'cuda\\', but CUDA is not available. Disabling')\n",
      "/usr/local/lib/python3.7/dist-packages/torch/autocast_mode.py:162: UserWarning: User provided device_type of 'cuda', but CUDA is not available. Disabling\n",
      "  warnings.warn('User provided device_type of \\'cuda\\', but CUDA is not available. Disabling')\n",
      "/usr/local/lib/python3.7/dist-packages/torch/autocast_mode.py:162: UserWarning: User provided device_type of 'cuda', but CUDA is not available. Disabling\n",
      "  warnings.warn('User provided device_type of \\'cuda\\', but CUDA is not available. Disabling')\n",
      "/usr/local/lib/python3.7/dist-packages/torch/autocast_mode.py:162: UserWarning: User provided device_type of 'cuda', but CUDA is not available. Disabling\n",
      "  warnings.warn('User provided device_type of \\'cuda\\', but CUDA is not available. Disabling')\n",
      "/usr/local/lib/python3.7/dist-packages/torch/autocast_mode.py:162: UserWarning: User provided device_type of 'cuda', but CUDA is not available. Disabling\n",
      "  warnings.warn('User provided device_type of \\'cuda\\', but CUDA is not available. Disabling')\n",
      "/usr/local/lib/python3.7/dist-packages/torch/autocast_mode.py:162: UserWarning: User provided device_type of 'cuda', but CUDA is not available. Disabling\n",
      "  warnings.warn('User provided device_type of \\'cuda\\', but CUDA is not available. Disabling')\n",
      "/usr/local/lib/python3.7/dist-packages/torch/autocast_mode.py:162: UserWarning: User provided device_type of 'cuda', but CUDA is not available. Disabling\n",
      "  warnings.warn('User provided device_type of \\'cuda\\', but CUDA is not available. Disabling')\n",
      "/usr/local/lib/python3.7/dist-packages/torch/autocast_mode.py:162: UserWarning: User provided device_type of 'cuda', but CUDA is not available. Disabling\n",
      "  warnings.warn('User provided device_type of \\'cuda\\', but CUDA is not available. Disabling')\n",
      "/usr/local/lib/python3.7/dist-packages/torch/autocast_mode.py:162: UserWarning: User provided device_type of 'cuda', but CUDA is not available. Disabling\n",
      "  warnings.warn('User provided device_type of \\'cuda\\', but CUDA is not available. Disabling')\n",
      "/usr/local/lib/python3.7/dist-packages/torch/autocast_mode.py:162: UserWarning: User provided device_type of 'cuda', but CUDA is not available. Disabling\n",
      "  warnings.warn('User provided device_type of \\'cuda\\', but CUDA is not available. Disabling')\n",
      "/usr/local/lib/python3.7/dist-packages/torch/autocast_mode.py:162: UserWarning: User provided device_type of 'cuda', but CUDA is not available. Disabling\n",
      "  warnings.warn('User provided device_type of \\'cuda\\', but CUDA is not available. Disabling')\n",
      "/usr/local/lib/python3.7/dist-packages/torch/autocast_mode.py:162: UserWarning: User provided device_type of 'cuda', but CUDA is not available. Disabling\n",
      "  warnings.warn('User provided device_type of \\'cuda\\', but CUDA is not available. Disabling')\n",
      "/usr/local/lib/python3.7/dist-packages/torch/autocast_mode.py:162: UserWarning: User provided device_type of 'cuda', but CUDA is not available. Disabling\n",
      "  warnings.warn('User provided device_type of \\'cuda\\', but CUDA is not available. Disabling')\n",
      "/usr/local/lib/python3.7/dist-packages/torch/autocast_mode.py:162: UserWarning: User provided device_type of 'cuda', but CUDA is not available. Disabling\n",
      "  warnings.warn('User provided device_type of \\'cuda\\', but CUDA is not available. Disabling')\n",
      "/usr/local/lib/python3.7/dist-packages/torch/autocast_mode.py:162: UserWarning: User provided device_type of 'cuda', but CUDA is not available. Disabling\n",
      "  warnings.warn('User provided device_type of \\'cuda\\', but CUDA is not available. Disabling')\n",
      "/usr/local/lib/python3.7/dist-packages/torch/autocast_mode.py:162: UserWarning: User provided device_type of 'cuda', but CUDA is not available. Disabling\n",
      "  warnings.warn('User provided device_type of \\'cuda\\', but CUDA is not available. Disabling')\n",
      "/usr/local/lib/python3.7/dist-packages/torch/autocast_mode.py:162: UserWarning: User provided device_type of 'cuda', but CUDA is not available. Disabling\n",
      "  warnings.warn('User provided device_type of \\'cuda\\', but CUDA is not available. Disabling')\n",
      "/usr/local/lib/python3.7/dist-packages/torch/autocast_mode.py:162: UserWarning: User provided device_type of 'cuda', but CUDA is not available. Disabling\n",
      "  warnings.warn('User provided device_type of \\'cuda\\', but CUDA is not available. Disabling')\n",
      "/usr/local/lib/python3.7/dist-packages/torch/autocast_mode.py:162: UserWarning: User provided device_type of 'cuda', but CUDA is not available. Disabling\n",
      "  warnings.warn('User provided device_type of \\'cuda\\', but CUDA is not available. Disabling')\n"
     ]
    },
    {
     "name": "stdout",
     "output_type": "stream",
     "text": [
      "Val metric for 3 runs: 0.9631 +- 0.0083\n",
      "Test metric for 3 runs: 0.6812 +- 0.0226\n"
     ]
    }
   ],
   "source": [
    "args['metric'] = 'roc_auc'\n",
    "val_set= all_dataset[1]\n",
    "test_set = all_dataset[2]\n",
    "mkdir_p(args['result_path'])\n",
    "##########################################\n",
    "if args['hyper_search']:\n",
    "  print('Start hyperparameter search with Bayesian '\n",
    "        'optimization for {:d} trials'.format(args['num_trials']))\n",
    "  val_metrics, test_metrics = bayesian_optimization(args, train_set, val_set, test_set)\n",
    "else:\n",
    "  print('Use the manually specified hyperparameters')\n",
    "  with open('BBB.json') as f:\n",
    "    default_hyperparams = json.load(f)\n",
    "  val_metrics, test_metrics = main(train_set, val_set, test_set, args['result_path'], args,\n",
    "                                    default_hyperparams)\n",
    "  print('Val metric for 3 runs: {:.4f} +- {:.4f}'.format(np.mean(val_metrics), np.std(val_metrics)))\n",
    "  print('Test metric for 3 runs: {:.4f} +- {:.4f}'.format(np.mean(test_metrics), np.std(test_metrics)))"
   ]
  },
  {
   "cell_type": "markdown",
   "metadata": {
    "id": "JDINYbGprbFt"
   },
   "source": [
    "Resulting score is:\n",
    "\n",
    "Best val roc_auc: 0.9631 +- 0.0083\n",
    "\n",
    "Test roc_auc: 0.6812 +- 0.0226\n",
    "\n",
    "(This is a higher score, but still not so good as for RF)"
   ]
  },
  {
   "cell_type": "markdown",
   "metadata": {
    "id": "ZOoN3xYh0snJ"
   },
   "source": [
    "Conclusions:\n",
    "- RF model shows better results than GNN\n",
    "- in our case simplier model performs better\n",
    "- augmentation helps to increase the score for both models\n"
   ]
  }
 ],
 "metadata": {
  "colab": {
   "collapsed_sections": [],
   "name": "BBBP.ipynb",
   "provenance": []
  },
  "kernelspec": {
   "display_name": "Python 3 (ipykernel)",
   "language": "python",
   "name": "python3"
  },
  "language_info": {
   "codemirror_mode": {
    "name": "ipython",
    "version": 3
   },
   "file_extension": ".py",
   "mimetype": "text/x-python",
   "name": "python",
   "nbconvert_exporter": "python",
   "pygments_lexer": "ipython3",
   "version": "3.9.12"
  }
 },
 "nbformat": 4,
 "nbformat_minor": 1
}
