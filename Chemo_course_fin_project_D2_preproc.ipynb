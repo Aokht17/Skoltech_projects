{
  "cells": [
    {
      "cell_type": "code",
      "source": [
        "! pip install -q condacolab\n",
        "import condacolab\n",
        "condacolab.install()\n",
        "!mamba install -c conda-forge rdkit\n",
        "! pip install chembl-webresource-client"
      ],
      "metadata": {
        "colab": {
          "base_uri": "https://localhost:8080/"
        },
        "id": "0-XlAJ4qyucl",
        "outputId": "35d7a1ca-646b-43ac-9249-5f2bdaf5cbf3"
      },
      "execution_count": 1,
      "outputs": [
        {
          "output_type": "stream",
          "name": "stdout",
          "text": [
            "✨🍰✨ Everything looks OK!\n",
            "\n",
            "                  __    __    __    __\n",
            "                 /  \\  /  \\  /  \\  /  \\\n",
            "                /    \\/    \\/    \\/    \\\n",
            "███████████████/  /██/  /██/  /██/  /████████████████████████\n",
            "              /  / \\   / \\   / \\   / \\  \\____\n",
            "             /  /   \\_/   \\_/   \\_/   \\    o \\__,\n",
            "            / _/                       \\_____/  `\n",
            "            |/\n",
            "        ███╗   ███╗ █████╗ ███╗   ███╗██████╗  █████╗\n",
            "        ████╗ ████║██╔══██╗████╗ ████║██╔══██╗██╔══██╗\n",
            "        ██╔████╔██║███████║██╔████╔██║██████╔╝███████║\n",
            "        ██║╚██╔╝██║██╔══██║██║╚██╔╝██║██╔══██╗██╔══██║\n",
            "        ██║ ╚═╝ ██║██║  ██║██║ ╚═╝ ██║██████╔╝██║  ██║\n",
            "        ╚═╝     ╚═╝╚═╝  ╚═╝╚═╝     ╚═╝╚═════╝ ╚═╝  ╚═╝\n",
            "\n",
            "        Supported by @QuantStack\n",
            "\n",
            "        GitHub:  https://github.com/QuantStack/mamba\n",
            "        Twitter: https://twitter.com/QuantStack\n",
            "\n",
            "█████████████████████████████████████████████████████████████\n",
            "\n",
            "Getting  conda-forge linux-64\n",
            "Getting  conda-forge noarch\n",
            "Getting  pkgs/main linux-64\n",
            "Getting  pkgs/main noarch\n",
            "Getting  pkgs/r linux-64\n",
            "Getting  pkgs/r noarch\n",
            "\n",
            "Looking for: ['rdkit', 'python 3.7.10']\n",
            "\n",
            "267513 packages in https://conda.anaconda.org/conda-forge/linux-64\n",
            "93228 packages in https://conda.anaconda.org/conda-forge/noarch\n",
            "25252 packages in https://repo.anaconda.com/pkgs/main/linux-64\n",
            "4674 packages in https://repo.anaconda.com/pkgs/main/noarch\n",
            "6637 packages in https://repo.anaconda.com/pkgs/r/linux-64\n",
            "5025 packages in https://repo.anaconda.com/pkgs/r/noarch\n",
            "\n",
            "# All requested packages already installed.\n",
            "\n",
            "Looking in indexes: https://pypi.org/simple, https://us-python.pkg.dev/colab-wheels/public/simple/\n",
            "Requirement already satisfied: chembl-webresource-client in /usr/local/lib/python3.7/site-packages (0.10.8)\n",
            "Requirement already satisfied: easydict in /usr/local/lib/python3.7/site-packages (from chembl-webresource-client) (1.9)\n",
            "Requirement already satisfied: requests-cache~=0.7.0 in /usr/local/lib/python3.7/site-packages (from chembl-webresource-client) (0.7.5)\n",
            "Requirement already satisfied: urllib3 in /usr/local/lib/python3.7/site-packages (from chembl-webresource-client) (1.26.3)\n",
            "Requirement already satisfied: requests>=2.18.4 in /usr/local/lib/python3.7/site-packages (from chembl-webresource-client) (2.25.1)\n",
            "Requirement already satisfied: chardet<5,>=3.0.2 in /usr/local/lib/python3.7/site-packages (from requests>=2.18.4->chembl-webresource-client) (4.0.0)\n",
            "Requirement already satisfied: certifi>=2017.4.17 in /usr/local/lib/python3.7/site-packages (from requests>=2.18.4->chembl-webresource-client) (2022.5.18.1)\n",
            "Requirement already satisfied: idna<3,>=2.5 in /usr/local/lib/python3.7/site-packages (from requests>=2.18.4->chembl-webresource-client) (2.10)\n",
            "Requirement already satisfied: url-normalize<2.0,>=1.4 in /usr/local/lib/python3.7/site-packages (from requests-cache~=0.7.0->chembl-webresource-client) (1.4.3)\n",
            "Requirement already satisfied: itsdangerous>=2.0.1 in /usr/local/lib/python3.7/site-packages (from requests-cache~=0.7.0->chembl-webresource-client) (2.1.2)\n",
            "Requirement already satisfied: attrs<22.0,>=21.2 in /usr/local/lib/python3.7/site-packages (from requests-cache~=0.7.0->chembl-webresource-client) (21.4.0)\n",
            "Requirement already satisfied: pyyaml>=5.4 in /usr/local/lib/python3.7/site-packages (from requests-cache~=0.7.0->chembl-webresource-client) (6.0)\n",
            "Requirement already satisfied: six in /usr/local/lib/python3.7/site-packages (from url-normalize<2.0,>=1.4->requests-cache~=0.7.0->chembl-webresource-client) (1.15.0)\n"
          ]
        }
      ]
    },
    {
      "cell_type": "markdown",
      "metadata": {
        "id": "zfhjRCsIyqZQ"
      },
      "source": [
        "### Connect to ChEMBL database"
      ]
    },
    {
      "cell_type": "markdown",
      "metadata": {
        "id": "G1oZqWNXyqZQ"
      },
      "source": [
        "First, the ChEMBL webresource client as well as other Python libraries are imported."
      ]
    },
    {
      "cell_type": "code",
      "execution_count": 2,
      "metadata": {
        "id": "1NH4pjMpyqZR"
      },
      "outputs": [],
      "source": [
        "import math\n",
        "from pathlib import Path\n",
        "from zipfile import ZipFile\n",
        "from tempfile import TemporaryDirectory\n",
        "\n",
        "import numpy as np\n",
        "import pandas as pd\n",
        "from rdkit.Chem import PandasTools\n",
        "from chembl_webresource_client.new_client import new_client\n",
        "from tqdm.auto import tqdm"
      ]
    },
    {
      "cell_type": "code",
      "execution_count": 3,
      "metadata": {
        "id": "YU_gq847yqZT"
      },
      "outputs": [],
      "source": [
        "HERE = Path(_dh[-1])\n",
        "DATA = HERE / \"data\""
      ]
    },
    {
      "cell_type": "code",
      "execution_count": 4,
      "metadata": {
        "id": "AIAtmnkhyqZU"
      },
      "outputs": [],
      "source": [
        "targets_api = new_client.target\n",
        "compounds_api = new_client.molecule\n",
        "bioactivities_api = new_client.activity"
      ]
    },
    {
      "cell_type": "code",
      "execution_count": 5,
      "metadata": {
        "colab": {
          "base_uri": "https://localhost:8080/"
        },
        "id": "5ulADlSfyqZV",
        "outputId": "1f6dfb11-1e47-4221-e612-93a8e223c039"
      },
      "outputs": [
        {
          "output_type": "execute_result",
          "data": {
            "text/plain": [
              "chembl_webresource_client.query_set.QuerySet"
            ]
          },
          "metadata": {},
          "execution_count": 5
        }
      ],
      "source": [
        "type(targets_api)"
      ]
    },
    {
      "cell_type": "markdown",
      "source": [
        "# D(2) dopamine receptor DRD2 Homo sapiens (Human)"
      ],
      "metadata": {
        "id": "Kq_B6t-x28Gg"
      }
    },
    {
      "cell_type": "code",
      "execution_count": 6,
      "metadata": {
        "id": "hH96SZ3KyqZW"
      },
      "outputs": [],
      "source": [
        "uniprot_id = \"P14416\""
      ]
    },
    {
      "cell_type": "markdown",
      "metadata": {
        "id": "PZ8S7bJXyqZX"
      },
      "source": [
        "#### Fetch target data from ChEMBL"
      ]
    },
    {
      "cell_type": "code",
      "execution_count": 7,
      "metadata": {
        "colab": {
          "base_uri": "https://localhost:8080/"
        },
        "id": "74OT9fpTyqZX",
        "outputId": "25ff13a9-d1df-4886-8adb-8fbbc16ebd92"
      },
      "outputs": [
        {
          "output_type": "stream",
          "name": "stdout",
          "text": [
            "The type of the targets is \"<class 'chembl_webresource_client.query_set.QuerySet'>\"\n"
          ]
        }
      ],
      "source": [
        "# Get target information from ChEMBL but restrict it to specified values only\n",
        "targets = targets_api.get(target_components__accession=uniprot_id).only(\n",
        "    \"target_chembl_id\", \"organism\", \"pref_name\", \"target_type\"\n",
        ")\n",
        "print(f'The type of the targets is \"{type(targets)}\"')"
      ]
    },
    {
      "cell_type": "code",
      "execution_count": 8,
      "metadata": {
        "colab": {
          "base_uri": "https://localhost:8080/",
          "height": 394
        },
        "id": "KpIQxbkYyqZY",
        "outputId": "5182ac60-2927-4d56-8707-cd150da9eaf1"
      },
      "outputs": [
        {
          "output_type": "execute_result",
          "data": {
            "text/plain": [
              "        organism                                          pref_name  \\\n",
              "0   Homo sapiens                               Dopamine D2 receptor   \n",
              "1   Homo sapiens                               Dopamine D2 receptor   \n",
              "2   Homo sapiens                        Dopamine receptors; D2 & D3   \n",
              "3   Homo sapiens                        Dopamine receptors; D2 & D4   \n",
              "4   Homo sapiens                                  Dopamine receptor   \n",
              "5   Homo sapiens     Dopamine D2 receptor and serotonin 1a receptor   \n",
              "6   Homo sapiens     Dopamine D2 receptor and serotonin 2a receptor   \n",
              "7   Homo sapiens                        Dopamine D1 and D2 receptor   \n",
              "8   Homo sapiens                          D2-like dopamine receptor   \n",
              "9   Homo sapiens    Dopamine receptor D2L/neurotensin receptor NTS1   \n",
              "10  Homo sapiens  D(2) dopamine receptor/Metabotropic glutamate ...   \n",
              "\n",
              "   target_chembl_id        target_type  \n",
              "0         CHEMBL217     SINGLE PROTEIN  \n",
              "1         CHEMBL217     SINGLE PROTEIN  \n",
              "2     CHEMBL2095169  SELECTIVITY GROUP  \n",
              "3     CHEMBL2095396  SELECTIVITY GROUP  \n",
              "4     CHEMBL2096905     PROTEIN FAMILY  \n",
              "5     CHEMBL2111460  SELECTIVITY GROUP  \n",
              "6     CHEMBL2111468  SELECTIVITY GROUP  \n",
              "7     CHEMBL2111341  SELECTIVITY GROUP  \n",
              "8     CHEMBL2331075     PROTEIN FAMILY  \n",
              "9     CHEMBL3038478    PROTEIN COMPLEX  \n",
              "10    CHEMBL4296096    PROTEIN COMPLEX  "
            ],
            "text/html": [
              "\n",
              "  <div id=\"df-e936fd7b-db9c-4479-adfc-8ae6a9b5ef84\">\n",
              "    <div class=\"colab-df-container\">\n",
              "      <div>\n",
              "<style scoped>\n",
              "    .dataframe tbody tr th:only-of-type {\n",
              "        vertical-align: middle;\n",
              "    }\n",
              "\n",
              "    .dataframe tbody tr th {\n",
              "        vertical-align: top;\n",
              "    }\n",
              "\n",
              "    .dataframe thead th {\n",
              "        text-align: right;\n",
              "    }\n",
              "</style>\n",
              "<table border=\"1\" class=\"dataframe\">\n",
              "  <thead>\n",
              "    <tr style=\"text-align: right;\">\n",
              "      <th></th>\n",
              "      <th>organism</th>\n",
              "      <th>pref_name</th>\n",
              "      <th>target_chembl_id</th>\n",
              "      <th>target_type</th>\n",
              "    </tr>\n",
              "  </thead>\n",
              "  <tbody>\n",
              "    <tr>\n",
              "      <th>0</th>\n",
              "      <td>Homo sapiens</td>\n",
              "      <td>Dopamine D2 receptor</td>\n",
              "      <td>CHEMBL217</td>\n",
              "      <td>SINGLE PROTEIN</td>\n",
              "    </tr>\n",
              "    <tr>\n",
              "      <th>1</th>\n",
              "      <td>Homo sapiens</td>\n",
              "      <td>Dopamine D2 receptor</td>\n",
              "      <td>CHEMBL217</td>\n",
              "      <td>SINGLE PROTEIN</td>\n",
              "    </tr>\n",
              "    <tr>\n",
              "      <th>2</th>\n",
              "      <td>Homo sapiens</td>\n",
              "      <td>Dopamine receptors; D2 &amp; D3</td>\n",
              "      <td>CHEMBL2095169</td>\n",
              "      <td>SELECTIVITY GROUP</td>\n",
              "    </tr>\n",
              "    <tr>\n",
              "      <th>3</th>\n",
              "      <td>Homo sapiens</td>\n",
              "      <td>Dopamine receptors; D2 &amp; D4</td>\n",
              "      <td>CHEMBL2095396</td>\n",
              "      <td>SELECTIVITY GROUP</td>\n",
              "    </tr>\n",
              "    <tr>\n",
              "      <th>4</th>\n",
              "      <td>Homo sapiens</td>\n",
              "      <td>Dopamine receptor</td>\n",
              "      <td>CHEMBL2096905</td>\n",
              "      <td>PROTEIN FAMILY</td>\n",
              "    </tr>\n",
              "    <tr>\n",
              "      <th>5</th>\n",
              "      <td>Homo sapiens</td>\n",
              "      <td>Dopamine D2 receptor and serotonin 1a receptor</td>\n",
              "      <td>CHEMBL2111460</td>\n",
              "      <td>SELECTIVITY GROUP</td>\n",
              "    </tr>\n",
              "    <tr>\n",
              "      <th>6</th>\n",
              "      <td>Homo sapiens</td>\n",
              "      <td>Dopamine D2 receptor and serotonin 2a receptor</td>\n",
              "      <td>CHEMBL2111468</td>\n",
              "      <td>SELECTIVITY GROUP</td>\n",
              "    </tr>\n",
              "    <tr>\n",
              "      <th>7</th>\n",
              "      <td>Homo sapiens</td>\n",
              "      <td>Dopamine D1 and D2 receptor</td>\n",
              "      <td>CHEMBL2111341</td>\n",
              "      <td>SELECTIVITY GROUP</td>\n",
              "    </tr>\n",
              "    <tr>\n",
              "      <th>8</th>\n",
              "      <td>Homo sapiens</td>\n",
              "      <td>D2-like dopamine receptor</td>\n",
              "      <td>CHEMBL2331075</td>\n",
              "      <td>PROTEIN FAMILY</td>\n",
              "    </tr>\n",
              "    <tr>\n",
              "      <th>9</th>\n",
              "      <td>Homo sapiens</td>\n",
              "      <td>Dopamine receptor D2L/neurotensin receptor NTS1</td>\n",
              "      <td>CHEMBL3038478</td>\n",
              "      <td>PROTEIN COMPLEX</td>\n",
              "    </tr>\n",
              "    <tr>\n",
              "      <th>10</th>\n",
              "      <td>Homo sapiens</td>\n",
              "      <td>D(2) dopamine receptor/Metabotropic glutamate ...</td>\n",
              "      <td>CHEMBL4296096</td>\n",
              "      <td>PROTEIN COMPLEX</td>\n",
              "    </tr>\n",
              "  </tbody>\n",
              "</table>\n",
              "</div>\n",
              "      <button class=\"colab-df-convert\" onclick=\"convertToInteractive('df-e936fd7b-db9c-4479-adfc-8ae6a9b5ef84')\"\n",
              "              title=\"Convert this dataframe to an interactive table.\"\n",
              "              style=\"display:none;\">\n",
              "        \n",
              "  <svg xmlns=\"http://www.w3.org/2000/svg\" height=\"24px\"viewBox=\"0 0 24 24\"\n",
              "       width=\"24px\">\n",
              "    <path d=\"M0 0h24v24H0V0z\" fill=\"none\"/>\n",
              "    <path d=\"M18.56 5.44l.94 2.06.94-2.06 2.06-.94-2.06-.94-.94-2.06-.94 2.06-2.06.94zm-11 1L8.5 8.5l.94-2.06 2.06-.94-2.06-.94L8.5 2.5l-.94 2.06-2.06.94zm10 10l.94 2.06.94-2.06 2.06-.94-2.06-.94-.94-2.06-.94 2.06-2.06.94z\"/><path d=\"M17.41 7.96l-1.37-1.37c-.4-.4-.92-.59-1.43-.59-.52 0-1.04.2-1.43.59L10.3 9.45l-7.72 7.72c-.78.78-.78 2.05 0 2.83L4 21.41c.39.39.9.59 1.41.59.51 0 1.02-.2 1.41-.59l7.78-7.78 2.81-2.81c.8-.78.8-2.07 0-2.86zM5.41 20L4 18.59l7.72-7.72 1.47 1.35L5.41 20z\"/>\n",
              "  </svg>\n",
              "      </button>\n",
              "      \n",
              "  <style>\n",
              "    .colab-df-container {\n",
              "      display:flex;\n",
              "      flex-wrap:wrap;\n",
              "      gap: 12px;\n",
              "    }\n",
              "\n",
              "    .colab-df-convert {\n",
              "      background-color: #E8F0FE;\n",
              "      border: none;\n",
              "      border-radius: 50%;\n",
              "      cursor: pointer;\n",
              "      display: none;\n",
              "      fill: #1967D2;\n",
              "      height: 32px;\n",
              "      padding: 0 0 0 0;\n",
              "      width: 32px;\n",
              "    }\n",
              "\n",
              "    .colab-df-convert:hover {\n",
              "      background-color: #E2EBFA;\n",
              "      box-shadow: 0px 1px 2px rgba(60, 64, 67, 0.3), 0px 1px 3px 1px rgba(60, 64, 67, 0.15);\n",
              "      fill: #174EA6;\n",
              "    }\n",
              "\n",
              "    [theme=dark] .colab-df-convert {\n",
              "      background-color: #3B4455;\n",
              "      fill: #D2E3FC;\n",
              "    }\n",
              "\n",
              "    [theme=dark] .colab-df-convert:hover {\n",
              "      background-color: #434B5C;\n",
              "      box-shadow: 0px 1px 3px 1px rgba(0, 0, 0, 0.15);\n",
              "      filter: drop-shadow(0px 1px 2px rgba(0, 0, 0, 0.3));\n",
              "      fill: #FFFFFF;\n",
              "    }\n",
              "  </style>\n",
              "\n",
              "      <script>\n",
              "        const buttonEl =\n",
              "          document.querySelector('#df-e936fd7b-db9c-4479-adfc-8ae6a9b5ef84 button.colab-df-convert');\n",
              "        buttonEl.style.display =\n",
              "          google.colab.kernel.accessAllowed ? 'block' : 'none';\n",
              "\n",
              "        async function convertToInteractive(key) {\n",
              "          const element = document.querySelector('#df-e936fd7b-db9c-4479-adfc-8ae6a9b5ef84');\n",
              "          const dataTable =\n",
              "            await google.colab.kernel.invokeFunction('convertToInteractive',\n",
              "                                                     [key], {});\n",
              "          if (!dataTable) return;\n",
              "\n",
              "          const docLinkHtml = 'Like what you see? Visit the ' +\n",
              "            '<a target=\"_blank\" href=https://colab.research.google.com/notebooks/data_table.ipynb>data table notebook</a>'\n",
              "            + ' to learn more about interactive tables.';\n",
              "          element.innerHTML = '';\n",
              "          dataTable['output_type'] = 'display_data';\n",
              "          await google.colab.output.renderOutput(dataTable, element);\n",
              "          const docLink = document.createElement('div');\n",
              "          docLink.innerHTML = docLinkHtml;\n",
              "          element.appendChild(docLink);\n",
              "        }\n",
              "      </script>\n",
              "    </div>\n",
              "  </div>\n",
              "  "
            ]
          },
          "metadata": {},
          "execution_count": 8
        }
      ],
      "source": [
        "targets = pd.DataFrame.from_records(targets)\n",
        "targets"
      ]
    },
    {
      "cell_type": "code",
      "execution_count": 9,
      "metadata": {
        "colab": {
          "base_uri": "https://localhost:8080/"
        },
        "id": "V37v5DUwyqZZ",
        "outputId": "ea605111-190d-48c9-a080-1c56dc83abf6"
      },
      "outputs": [
        {
          "output_type": "execute_result",
          "data": {
            "text/plain": [
              "organism                    Homo sapiens\n",
              "pref_name           Dopamine D2 receptor\n",
              "target_chembl_id               CHEMBL217\n",
              "target_type               SINGLE PROTEIN\n",
              "Name: 0, dtype: object"
            ]
          },
          "metadata": {},
          "execution_count": 9
        }
      ],
      "source": [
        "target = targets.iloc[0]\n",
        "target"
      ]
    },
    {
      "cell_type": "markdown",
      "metadata": {
        "id": "g16P5EhPyqZa"
      },
      "source": [
        "Save selected ChEMBL ID."
      ]
    },
    {
      "cell_type": "code",
      "execution_count": 10,
      "metadata": {
        "colab": {
          "base_uri": "https://localhost:8080/"
        },
        "id": "QK_XofjmyqZa",
        "outputId": "70d41233-569f-49b1-b898-5b172d6a22a7"
      },
      "outputs": [
        {
          "output_type": "stream",
          "name": "stdout",
          "text": [
            "The target ChEMBL ID is CHEMBL217\n"
          ]
        }
      ],
      "source": [
        "chembl_id = target.target_chembl_id\n",
        "print(f\"The target ChEMBL ID is {chembl_id}\")\n",
        "# NBVAL_CHECK_OUTPUT"
      ]
    },
    {
      "cell_type": "markdown",
      "metadata": {
        "id": "7Dsd4oBvyqZb"
      },
      "source": [
        "### Get bioactivity data\n",
        "\n",
        "Now, we want to query bioactivity data for the target of interest."
      ]
    },
    {
      "cell_type": "markdown",
      "metadata": {
        "id": "G06Fzdd2yqZb"
      },
      "source": [
        "#### Fetch bioactivity data for the target from ChEMBL"
      ]
    },
    {
      "cell_type": "markdown",
      "metadata": {
        "id": "jLrOnn5GyqZb"
      },
      "source": [
        "In this step, we fetch the bioactivity data and filter it to only consider\n",
        "\n",
        "* human proteins, \n",
        "* bioactivity type IC50, \n",
        "* exact measurements (relation `'='`), and\n",
        "* binding data (assay type `'B'`)."
      ]
    },
    {
      "cell_type": "code",
      "execution_count": 11,
      "metadata": {
        "id": "lOMlCo1GyqZc"
      },
      "outputs": [],
      "source": [
        "bioactivities = bioactivities_api.filter(\n",
        "    target_chembl_id=chembl_id, type=\"IC50\", relation=\"=\", assay_type=\"B\"\n",
        ").only(\n",
        "    \"activity_id\",\n",
        "    \"assay_chembl_id\",\n",
        "    \"assay_description\",\n",
        "    \"assay_type\",\n",
        "    \"molecule_chembl_id\",\n",
        "    \"type\",\n",
        "    \"standard_units\",\n",
        "    \"relation\",\n",
        "    \"standard_value\",\n",
        "    \"target_chembl_id\",\n",
        "    \"target_organism\",\n",
        ")"
      ]
    },
    {
      "cell_type": "code",
      "source": [
        "print(f\"Length and type of bioactivities object: {len(bioactivities)}, {type(bioactivities)}\")"
      ],
      "metadata": {
        "colab": {
          "base_uri": "https://localhost:8080/"
        },
        "id": "VQNrYSu43-dt",
        "outputId": "1433274b-986b-4707-a1d8-0b73d5c5c1a4"
      },
      "execution_count": 12,
      "outputs": [
        {
          "output_type": "stream",
          "name": "stdout",
          "text": [
            "Length and type of bioactivities object: 331, <class 'chembl_webresource_client.query_set.QuerySet'>\n"
          ]
        }
      ]
    },
    {
      "cell_type": "markdown",
      "metadata": {
        "id": "ycYYPVuZyqZc"
      },
      "source": [
        "Each entry in our bioactivity set holds the following information:"
      ]
    },
    {
      "cell_type": "code",
      "execution_count": 13,
      "metadata": {
        "colab": {
          "base_uri": "https://localhost:8080/"
        },
        "id": "hu061eIRyqZd",
        "outputId": "6d5db57a-9883-42ea-9488-9fadaec080eb"
      },
      "outputs": [
        {
          "output_type": "stream",
          "name": "stdout",
          "text": [
            "Length and type of first element: 13, <class 'dict'>\n"
          ]
        },
        {
          "output_type": "execute_result",
          "data": {
            "text/plain": [
              "{'activity_id': 32111,\n",
              " 'assay_chembl_id': 'CHEMBL671073',\n",
              " 'assay_description': 'Binding affinity to cloned human Dopamine receptor D2 expressed in A9L cells by [3H]spiperone displacement.',\n",
              " 'assay_type': 'B',\n",
              " 'molecule_chembl_id': 'CHEMBL303519',\n",
              " 'relation': '=',\n",
              " 'standard_units': 'nM',\n",
              " 'standard_value': '9800.0',\n",
              " 'target_chembl_id': 'CHEMBL217',\n",
              " 'target_organism': 'Homo sapiens',\n",
              " 'type': 'IC50',\n",
              " 'units': 'nM',\n",
              " 'value': '9800.0'}"
            ]
          },
          "metadata": {},
          "execution_count": 13
        }
      ],
      "source": [
        "print(f\"Length and type of first element: {len(bioactivities[0])}, {type(bioactivities[0])}\")\n",
        "bioactivities[0]"
      ]
    },
    {
      "cell_type": "markdown",
      "metadata": {
        "id": "Q10hW5EdyqZd"
      },
      "source": [
        "#### Download bioactivity data from ChEMBL"
      ]
    },
    {
      "cell_type": "code",
      "execution_count": 14,
      "metadata": {
        "id": "tkKf45mgyqZe"
      },
      "outputs": [],
      "source": [
        "bioactivities_df = pd.DataFrame.from_records(bioactivities)"
      ]
    },
    {
      "cell_type": "code",
      "source": [
        "print(f\"DataFrame shape: {bioactivities_df.shape}\")\n",
        "bioactivities_df.head()"
      ],
      "metadata": {
        "colab": {
          "base_uri": "https://localhost:8080/",
          "height": 461
        },
        "id": "Fm6MRLEI4705",
        "outputId": "be57a5f2-50f3-49e1-d42f-5ba885cbb659"
      },
      "execution_count": 15,
      "outputs": [
        {
          "output_type": "stream",
          "name": "stdout",
          "text": [
            "DataFrame shape: (332, 13)\n"
          ]
        },
        {
          "output_type": "execute_result",
          "data": {
            "text/plain": [
              "   activity_id assay_chembl_id  \\\n",
              "0        32111    CHEMBL671073   \n",
              "1        32111    CHEMBL671073   \n",
              "2        33282    CHEMBL671073   \n",
              "3        38258    CHEMBL671073   \n",
              "4        39387    CHEMBL671073   \n",
              "\n",
              "                                   assay_description assay_type  \\\n",
              "0  Binding affinity to cloned human Dopamine rece...          B   \n",
              "1  Binding affinity to cloned human Dopamine rece...          B   \n",
              "2  Binding affinity to cloned human Dopamine rece...          B   \n",
              "3  Binding affinity to cloned human Dopamine rece...          B   \n",
              "4  Binding affinity to cloned human Dopamine rece...          B   \n",
              "\n",
              "  molecule_chembl_id relation standard_units standard_value target_chembl_id  \\\n",
              "0       CHEMBL303519        =             nM         9800.0        CHEMBL217   \n",
              "1       CHEMBL303519        =             nM         9800.0        CHEMBL217   \n",
              "2       CHEMBL292943        =             nM           50.0        CHEMBL217   \n",
              "3        CHEMBL61682        =             nM           25.0        CHEMBL217   \n",
              "4        CHEMBL64487        =             nM          360.0        CHEMBL217   \n",
              "\n",
              "  target_organism  type units   value  \n",
              "0    Homo sapiens  IC50    nM  9800.0  \n",
              "1    Homo sapiens  IC50    nM  9800.0  \n",
              "2    Homo sapiens  IC50    nM    50.0  \n",
              "3    Homo sapiens  IC50    nM    25.0  \n",
              "4    Homo sapiens  IC50    nM   360.0  "
            ],
            "text/html": [
              "\n",
              "  <div id=\"df-99a210f0-8ebc-4c98-9ae5-d2925419dd37\">\n",
              "    <div class=\"colab-df-container\">\n",
              "      <div>\n",
              "<style scoped>\n",
              "    .dataframe tbody tr th:only-of-type {\n",
              "        vertical-align: middle;\n",
              "    }\n",
              "\n",
              "    .dataframe tbody tr th {\n",
              "        vertical-align: top;\n",
              "    }\n",
              "\n",
              "    .dataframe thead th {\n",
              "        text-align: right;\n",
              "    }\n",
              "</style>\n",
              "<table border=\"1\" class=\"dataframe\">\n",
              "  <thead>\n",
              "    <tr style=\"text-align: right;\">\n",
              "      <th></th>\n",
              "      <th>activity_id</th>\n",
              "      <th>assay_chembl_id</th>\n",
              "      <th>assay_description</th>\n",
              "      <th>assay_type</th>\n",
              "      <th>molecule_chembl_id</th>\n",
              "      <th>relation</th>\n",
              "      <th>standard_units</th>\n",
              "      <th>standard_value</th>\n",
              "      <th>target_chembl_id</th>\n",
              "      <th>target_organism</th>\n",
              "      <th>type</th>\n",
              "      <th>units</th>\n",
              "      <th>value</th>\n",
              "    </tr>\n",
              "  </thead>\n",
              "  <tbody>\n",
              "    <tr>\n",
              "      <th>0</th>\n",
              "      <td>32111</td>\n",
              "      <td>CHEMBL671073</td>\n",
              "      <td>Binding affinity to cloned human Dopamine rece...</td>\n",
              "      <td>B</td>\n",
              "      <td>CHEMBL303519</td>\n",
              "      <td>=</td>\n",
              "      <td>nM</td>\n",
              "      <td>9800.0</td>\n",
              "      <td>CHEMBL217</td>\n",
              "      <td>Homo sapiens</td>\n",
              "      <td>IC50</td>\n",
              "      <td>nM</td>\n",
              "      <td>9800.0</td>\n",
              "    </tr>\n",
              "    <tr>\n",
              "      <th>1</th>\n",
              "      <td>32111</td>\n",
              "      <td>CHEMBL671073</td>\n",
              "      <td>Binding affinity to cloned human Dopamine rece...</td>\n",
              "      <td>B</td>\n",
              "      <td>CHEMBL303519</td>\n",
              "      <td>=</td>\n",
              "      <td>nM</td>\n",
              "      <td>9800.0</td>\n",
              "      <td>CHEMBL217</td>\n",
              "      <td>Homo sapiens</td>\n",
              "      <td>IC50</td>\n",
              "      <td>nM</td>\n",
              "      <td>9800.0</td>\n",
              "    </tr>\n",
              "    <tr>\n",
              "      <th>2</th>\n",
              "      <td>33282</td>\n",
              "      <td>CHEMBL671073</td>\n",
              "      <td>Binding affinity to cloned human Dopamine rece...</td>\n",
              "      <td>B</td>\n",
              "      <td>CHEMBL292943</td>\n",
              "      <td>=</td>\n",
              "      <td>nM</td>\n",
              "      <td>50.0</td>\n",
              "      <td>CHEMBL217</td>\n",
              "      <td>Homo sapiens</td>\n",
              "      <td>IC50</td>\n",
              "      <td>nM</td>\n",
              "      <td>50.0</td>\n",
              "    </tr>\n",
              "    <tr>\n",
              "      <th>3</th>\n",
              "      <td>38258</td>\n",
              "      <td>CHEMBL671073</td>\n",
              "      <td>Binding affinity to cloned human Dopamine rece...</td>\n",
              "      <td>B</td>\n",
              "      <td>CHEMBL61682</td>\n",
              "      <td>=</td>\n",
              "      <td>nM</td>\n",
              "      <td>25.0</td>\n",
              "      <td>CHEMBL217</td>\n",
              "      <td>Homo sapiens</td>\n",
              "      <td>IC50</td>\n",
              "      <td>nM</td>\n",
              "      <td>25.0</td>\n",
              "    </tr>\n",
              "    <tr>\n",
              "      <th>4</th>\n",
              "      <td>39387</td>\n",
              "      <td>CHEMBL671073</td>\n",
              "      <td>Binding affinity to cloned human Dopamine rece...</td>\n",
              "      <td>B</td>\n",
              "      <td>CHEMBL64487</td>\n",
              "      <td>=</td>\n",
              "      <td>nM</td>\n",
              "      <td>360.0</td>\n",
              "      <td>CHEMBL217</td>\n",
              "      <td>Homo sapiens</td>\n",
              "      <td>IC50</td>\n",
              "      <td>nM</td>\n",
              "      <td>360.0</td>\n",
              "    </tr>\n",
              "  </tbody>\n",
              "</table>\n",
              "</div>\n",
              "      <button class=\"colab-df-convert\" onclick=\"convertToInteractive('df-99a210f0-8ebc-4c98-9ae5-d2925419dd37')\"\n",
              "              title=\"Convert this dataframe to an interactive table.\"\n",
              "              style=\"display:none;\">\n",
              "        \n",
              "  <svg xmlns=\"http://www.w3.org/2000/svg\" height=\"24px\"viewBox=\"0 0 24 24\"\n",
              "       width=\"24px\">\n",
              "    <path d=\"M0 0h24v24H0V0z\" fill=\"none\"/>\n",
              "    <path d=\"M18.56 5.44l.94 2.06.94-2.06 2.06-.94-2.06-.94-.94-2.06-.94 2.06-2.06.94zm-11 1L8.5 8.5l.94-2.06 2.06-.94-2.06-.94L8.5 2.5l-.94 2.06-2.06.94zm10 10l.94 2.06.94-2.06 2.06-.94-2.06-.94-.94-2.06-.94 2.06-2.06.94z\"/><path d=\"M17.41 7.96l-1.37-1.37c-.4-.4-.92-.59-1.43-.59-.52 0-1.04.2-1.43.59L10.3 9.45l-7.72 7.72c-.78.78-.78 2.05 0 2.83L4 21.41c.39.39.9.59 1.41.59.51 0 1.02-.2 1.41-.59l7.78-7.78 2.81-2.81c.8-.78.8-2.07 0-2.86zM5.41 20L4 18.59l7.72-7.72 1.47 1.35L5.41 20z\"/>\n",
              "  </svg>\n",
              "      </button>\n",
              "      \n",
              "  <style>\n",
              "    .colab-df-container {\n",
              "      display:flex;\n",
              "      flex-wrap:wrap;\n",
              "      gap: 12px;\n",
              "    }\n",
              "\n",
              "    .colab-df-convert {\n",
              "      background-color: #E8F0FE;\n",
              "      border: none;\n",
              "      border-radius: 50%;\n",
              "      cursor: pointer;\n",
              "      display: none;\n",
              "      fill: #1967D2;\n",
              "      height: 32px;\n",
              "      padding: 0 0 0 0;\n",
              "      width: 32px;\n",
              "    }\n",
              "\n",
              "    .colab-df-convert:hover {\n",
              "      background-color: #E2EBFA;\n",
              "      box-shadow: 0px 1px 2px rgba(60, 64, 67, 0.3), 0px 1px 3px 1px rgba(60, 64, 67, 0.15);\n",
              "      fill: #174EA6;\n",
              "    }\n",
              "\n",
              "    [theme=dark] .colab-df-convert {\n",
              "      background-color: #3B4455;\n",
              "      fill: #D2E3FC;\n",
              "    }\n",
              "\n",
              "    [theme=dark] .colab-df-convert:hover {\n",
              "      background-color: #434B5C;\n",
              "      box-shadow: 0px 1px 3px 1px rgba(0, 0, 0, 0.15);\n",
              "      filter: drop-shadow(0px 1px 2px rgba(0, 0, 0, 0.3));\n",
              "      fill: #FFFFFF;\n",
              "    }\n",
              "  </style>\n",
              "\n",
              "      <script>\n",
              "        const buttonEl =\n",
              "          document.querySelector('#df-99a210f0-8ebc-4c98-9ae5-d2925419dd37 button.colab-df-convert');\n",
              "        buttonEl.style.display =\n",
              "          google.colab.kernel.accessAllowed ? 'block' : 'none';\n",
              "\n",
              "        async function convertToInteractive(key) {\n",
              "          const element = document.querySelector('#df-99a210f0-8ebc-4c98-9ae5-d2925419dd37');\n",
              "          const dataTable =\n",
              "            await google.colab.kernel.invokeFunction('convertToInteractive',\n",
              "                                                     [key], {});\n",
              "          if (!dataTable) return;\n",
              "\n",
              "          const docLinkHtml = 'Like what you see? Visit the ' +\n",
              "            '<a target=\"_blank\" href=https://colab.research.google.com/notebooks/data_table.ipynb>data table notebook</a>'\n",
              "            + ' to learn more about interactive tables.';\n",
              "          element.innerHTML = '';\n",
              "          dataTable['output_type'] = 'display_data';\n",
              "          await google.colab.output.renderOutput(dataTable, element);\n",
              "          const docLink = document.createElement('div');\n",
              "          docLink.innerHTML = docLinkHtml;\n",
              "          element.appendChild(docLink);\n",
              "        }\n",
              "      </script>\n",
              "    </div>\n",
              "  </div>\n",
              "  "
            ]
          },
          "metadata": {},
          "execution_count": 15
        }
      ]
    },
    {
      "cell_type": "markdown",
      "metadata": {
        "id": "_iaNvkpCyqZf"
      },
      "source": [
        "Note that the first two rows describe the same bioactivity entry; we will remove such artifacts later during the deduplication step. Note also that we have columns for `standard_units`/`units` and `standard_values`/`values`; in the following, we will use the standardized columns (standardization by ChEMBL), and thus, we drop the other two columns.\n",
        "\n",
        "If we used the `units` and `values` columns, we would need to convert all values with many different units to nM:"
      ]
    },
    {
      "cell_type": "code",
      "execution_count": 16,
      "metadata": {
        "colab": {
          "base_uri": "https://localhost:8080/"
        },
        "id": "u3Sn68QGyqZg",
        "outputId": "a9f9093d-d700-460f-ab9f-aebf22c604b4"
      },
      "outputs": [
        {
          "output_type": "execute_result",
          "data": {
            "text/plain": [
              "array(['nM', 'uM', 'M', \"10'-9M\", \"10'-4M\"], dtype=object)"
            ]
          },
          "metadata": {},
          "execution_count": 16
        }
      ],
      "source": [
        "bioactivities_df[\"units\"].unique()"
      ]
    },
    {
      "cell_type": "code",
      "execution_count": 17,
      "metadata": {
        "colab": {
          "base_uri": "https://localhost:8080/",
          "height": 337
        },
        "id": "SFye1JdIyqZg",
        "outputId": "4237058b-4f75-425f-c9b5-4cab95c5582f"
      },
      "outputs": [
        {
          "output_type": "execute_result",
          "data": {
            "text/plain": [
              "   activity_id assay_chembl_id  \\\n",
              "0        32111    CHEMBL671073   \n",
              "1        32111    CHEMBL671073   \n",
              "2        33282    CHEMBL671073   \n",
              "3        38258    CHEMBL671073   \n",
              "4        39387    CHEMBL671073   \n",
              "\n",
              "                                   assay_description assay_type  \\\n",
              "0  Binding affinity to cloned human Dopamine rece...          B   \n",
              "1  Binding affinity to cloned human Dopamine rece...          B   \n",
              "2  Binding affinity to cloned human Dopamine rece...          B   \n",
              "3  Binding affinity to cloned human Dopamine rece...          B   \n",
              "4  Binding affinity to cloned human Dopamine rece...          B   \n",
              "\n",
              "  molecule_chembl_id relation standard_units standard_value target_chembl_id  \\\n",
              "0       CHEMBL303519        =             nM         9800.0        CHEMBL217   \n",
              "1       CHEMBL303519        =             nM         9800.0        CHEMBL217   \n",
              "2       CHEMBL292943        =             nM           50.0        CHEMBL217   \n",
              "3        CHEMBL61682        =             nM           25.0        CHEMBL217   \n",
              "4        CHEMBL64487        =             nM          360.0        CHEMBL217   \n",
              "\n",
              "  target_organism  type  \n",
              "0    Homo sapiens  IC50  \n",
              "1    Homo sapiens  IC50  \n",
              "2    Homo sapiens  IC50  \n",
              "3    Homo sapiens  IC50  \n",
              "4    Homo sapiens  IC50  "
            ],
            "text/html": [
              "\n",
              "  <div id=\"df-ec3bd592-589f-40f1-9d2c-2a4d31d4ba25\">\n",
              "    <div class=\"colab-df-container\">\n",
              "      <div>\n",
              "<style scoped>\n",
              "    .dataframe tbody tr th:only-of-type {\n",
              "        vertical-align: middle;\n",
              "    }\n",
              "\n",
              "    .dataframe tbody tr th {\n",
              "        vertical-align: top;\n",
              "    }\n",
              "\n",
              "    .dataframe thead th {\n",
              "        text-align: right;\n",
              "    }\n",
              "</style>\n",
              "<table border=\"1\" class=\"dataframe\">\n",
              "  <thead>\n",
              "    <tr style=\"text-align: right;\">\n",
              "      <th></th>\n",
              "      <th>activity_id</th>\n",
              "      <th>assay_chembl_id</th>\n",
              "      <th>assay_description</th>\n",
              "      <th>assay_type</th>\n",
              "      <th>molecule_chembl_id</th>\n",
              "      <th>relation</th>\n",
              "      <th>standard_units</th>\n",
              "      <th>standard_value</th>\n",
              "      <th>target_chembl_id</th>\n",
              "      <th>target_organism</th>\n",
              "      <th>type</th>\n",
              "    </tr>\n",
              "  </thead>\n",
              "  <tbody>\n",
              "    <tr>\n",
              "      <th>0</th>\n",
              "      <td>32111</td>\n",
              "      <td>CHEMBL671073</td>\n",
              "      <td>Binding affinity to cloned human Dopamine rece...</td>\n",
              "      <td>B</td>\n",
              "      <td>CHEMBL303519</td>\n",
              "      <td>=</td>\n",
              "      <td>nM</td>\n",
              "      <td>9800.0</td>\n",
              "      <td>CHEMBL217</td>\n",
              "      <td>Homo sapiens</td>\n",
              "      <td>IC50</td>\n",
              "    </tr>\n",
              "    <tr>\n",
              "      <th>1</th>\n",
              "      <td>32111</td>\n",
              "      <td>CHEMBL671073</td>\n",
              "      <td>Binding affinity to cloned human Dopamine rece...</td>\n",
              "      <td>B</td>\n",
              "      <td>CHEMBL303519</td>\n",
              "      <td>=</td>\n",
              "      <td>nM</td>\n",
              "      <td>9800.0</td>\n",
              "      <td>CHEMBL217</td>\n",
              "      <td>Homo sapiens</td>\n",
              "      <td>IC50</td>\n",
              "    </tr>\n",
              "    <tr>\n",
              "      <th>2</th>\n",
              "      <td>33282</td>\n",
              "      <td>CHEMBL671073</td>\n",
              "      <td>Binding affinity to cloned human Dopamine rece...</td>\n",
              "      <td>B</td>\n",
              "      <td>CHEMBL292943</td>\n",
              "      <td>=</td>\n",
              "      <td>nM</td>\n",
              "      <td>50.0</td>\n",
              "      <td>CHEMBL217</td>\n",
              "      <td>Homo sapiens</td>\n",
              "      <td>IC50</td>\n",
              "    </tr>\n",
              "    <tr>\n",
              "      <th>3</th>\n",
              "      <td>38258</td>\n",
              "      <td>CHEMBL671073</td>\n",
              "      <td>Binding affinity to cloned human Dopamine rece...</td>\n",
              "      <td>B</td>\n",
              "      <td>CHEMBL61682</td>\n",
              "      <td>=</td>\n",
              "      <td>nM</td>\n",
              "      <td>25.0</td>\n",
              "      <td>CHEMBL217</td>\n",
              "      <td>Homo sapiens</td>\n",
              "      <td>IC50</td>\n",
              "    </tr>\n",
              "    <tr>\n",
              "      <th>4</th>\n",
              "      <td>39387</td>\n",
              "      <td>CHEMBL671073</td>\n",
              "      <td>Binding affinity to cloned human Dopamine rece...</td>\n",
              "      <td>B</td>\n",
              "      <td>CHEMBL64487</td>\n",
              "      <td>=</td>\n",
              "      <td>nM</td>\n",
              "      <td>360.0</td>\n",
              "      <td>CHEMBL217</td>\n",
              "      <td>Homo sapiens</td>\n",
              "      <td>IC50</td>\n",
              "    </tr>\n",
              "  </tbody>\n",
              "</table>\n",
              "</div>\n",
              "      <button class=\"colab-df-convert\" onclick=\"convertToInteractive('df-ec3bd592-589f-40f1-9d2c-2a4d31d4ba25')\"\n",
              "              title=\"Convert this dataframe to an interactive table.\"\n",
              "              style=\"display:none;\">\n",
              "        \n",
              "  <svg xmlns=\"http://www.w3.org/2000/svg\" height=\"24px\"viewBox=\"0 0 24 24\"\n",
              "       width=\"24px\">\n",
              "    <path d=\"M0 0h24v24H0V0z\" fill=\"none\"/>\n",
              "    <path d=\"M18.56 5.44l.94 2.06.94-2.06 2.06-.94-2.06-.94-.94-2.06-.94 2.06-2.06.94zm-11 1L8.5 8.5l.94-2.06 2.06-.94-2.06-.94L8.5 2.5l-.94 2.06-2.06.94zm10 10l.94 2.06.94-2.06 2.06-.94-2.06-.94-.94-2.06-.94 2.06-2.06.94z\"/><path d=\"M17.41 7.96l-1.37-1.37c-.4-.4-.92-.59-1.43-.59-.52 0-1.04.2-1.43.59L10.3 9.45l-7.72 7.72c-.78.78-.78 2.05 0 2.83L4 21.41c.39.39.9.59 1.41.59.51 0 1.02-.2 1.41-.59l7.78-7.78 2.81-2.81c.8-.78.8-2.07 0-2.86zM5.41 20L4 18.59l7.72-7.72 1.47 1.35L5.41 20z\"/>\n",
              "  </svg>\n",
              "      </button>\n",
              "      \n",
              "  <style>\n",
              "    .colab-df-container {\n",
              "      display:flex;\n",
              "      flex-wrap:wrap;\n",
              "      gap: 12px;\n",
              "    }\n",
              "\n",
              "    .colab-df-convert {\n",
              "      background-color: #E8F0FE;\n",
              "      border: none;\n",
              "      border-radius: 50%;\n",
              "      cursor: pointer;\n",
              "      display: none;\n",
              "      fill: #1967D2;\n",
              "      height: 32px;\n",
              "      padding: 0 0 0 0;\n",
              "      width: 32px;\n",
              "    }\n",
              "\n",
              "    .colab-df-convert:hover {\n",
              "      background-color: #E2EBFA;\n",
              "      box-shadow: 0px 1px 2px rgba(60, 64, 67, 0.3), 0px 1px 3px 1px rgba(60, 64, 67, 0.15);\n",
              "      fill: #174EA6;\n",
              "    }\n",
              "\n",
              "    [theme=dark] .colab-df-convert {\n",
              "      background-color: #3B4455;\n",
              "      fill: #D2E3FC;\n",
              "    }\n",
              "\n",
              "    [theme=dark] .colab-df-convert:hover {\n",
              "      background-color: #434B5C;\n",
              "      box-shadow: 0px 1px 3px 1px rgba(0, 0, 0, 0.15);\n",
              "      filter: drop-shadow(0px 1px 2px rgba(0, 0, 0, 0.3));\n",
              "      fill: #FFFFFF;\n",
              "    }\n",
              "  </style>\n",
              "\n",
              "      <script>\n",
              "        const buttonEl =\n",
              "          document.querySelector('#df-ec3bd592-589f-40f1-9d2c-2a4d31d4ba25 button.colab-df-convert');\n",
              "        buttonEl.style.display =\n",
              "          google.colab.kernel.accessAllowed ? 'block' : 'none';\n",
              "\n",
              "        async function convertToInteractive(key) {\n",
              "          const element = document.querySelector('#df-ec3bd592-589f-40f1-9d2c-2a4d31d4ba25');\n",
              "          const dataTable =\n",
              "            await google.colab.kernel.invokeFunction('convertToInteractive',\n",
              "                                                     [key], {});\n",
              "          if (!dataTable) return;\n",
              "\n",
              "          const docLinkHtml = 'Like what you see? Visit the ' +\n",
              "            '<a target=\"_blank\" href=https://colab.research.google.com/notebooks/data_table.ipynb>data table notebook</a>'\n",
              "            + ' to learn more about interactive tables.';\n",
              "          element.innerHTML = '';\n",
              "          dataTable['output_type'] = 'display_data';\n",
              "          await google.colab.output.renderOutput(dataTable, element);\n",
              "          const docLink = document.createElement('div');\n",
              "          docLink.innerHTML = docLinkHtml;\n",
              "          element.appendChild(docLink);\n",
              "        }\n",
              "      </script>\n",
              "    </div>\n",
              "  </div>\n",
              "  "
            ]
          },
          "metadata": {},
          "execution_count": 17
        }
      ],
      "source": [
        "bioactivities_df.drop([\"units\", \"value\"], axis=1, inplace=True)\n",
        "bioactivities_df.head()"
      ]
    },
    {
      "cell_type": "markdown",
      "metadata": {
        "id": "bxMOl8npyqZh"
      },
      "source": [
        "#### Preprocess and filter bioactivity data\n",
        "\n",
        "1. Convert `standard_value`'s datatype from `object` to `float`\n",
        "2. Delete entries with missing values\n",
        "3. Keep only entries with `standard_unit == nM`\n",
        "4. Delete duplicate molecules\n",
        "5. Reset `DataFrame` index\n",
        "6. Rename columns"
      ]
    },
    {
      "cell_type": "markdown",
      "metadata": {
        "id": "07OXT1bEyqZh"
      },
      "source": [
        "**1. Convert datatype of \"standard_value\" from \"object\" to \"float\"**\n",
        "\n",
        "The field `standard_value` holds standardized (here IC50) values. In order to make these values usable in calculations later on, convert values to floats."
      ]
    },
    {
      "cell_type": "code",
      "execution_count": 18,
      "metadata": {
        "colab": {
          "base_uri": "https://localhost:8080/"
        },
        "id": "GGVQfvthyqZi",
        "outputId": "19865d85-6b12-4ce0-86a4-981568c06356"
      },
      "outputs": [
        {
          "output_type": "execute_result",
          "data": {
            "text/plain": [
              "activity_id            int64\n",
              "assay_chembl_id       object\n",
              "assay_description     object\n",
              "assay_type            object\n",
              "molecule_chembl_id    object\n",
              "relation              object\n",
              "standard_units        object\n",
              "standard_value        object\n",
              "target_chembl_id      object\n",
              "target_organism       object\n",
              "type                  object\n",
              "dtype: object"
            ]
          },
          "metadata": {},
          "execution_count": 18
        }
      ],
      "source": [
        "bioactivities_df.dtypes"
      ]
    },
    {
      "cell_type": "code",
      "execution_count": 19,
      "metadata": {
        "colab": {
          "base_uri": "https://localhost:8080/"
        },
        "id": "7Y5fIteTyqZj",
        "outputId": "363f37fb-c456-44dc-a075-f07248e13c4f"
      },
      "outputs": [
        {
          "output_type": "execute_result",
          "data": {
            "text/plain": [
              "activity_id             int64\n",
              "assay_chembl_id        object\n",
              "assay_description      object\n",
              "assay_type             object\n",
              "molecule_chembl_id     object\n",
              "relation               object\n",
              "standard_units         object\n",
              "standard_value        float64\n",
              "target_chembl_id       object\n",
              "target_organism        object\n",
              "type                   object\n",
              "dtype: object"
            ]
          },
          "metadata": {},
          "execution_count": 19
        }
      ],
      "source": [
        "bioactivities_df = bioactivities_df.astype({\"standard_value\": \"float64\"})\n",
        "bioactivities_df.dtypes"
      ]
    },
    {
      "cell_type": "markdown",
      "metadata": {
        "id": "bBf9s6odyqZj"
      },
      "source": [
        "**2. Delete entries with missing values**\n",
        "\n",
        "Use the parameter `inplace=True` to drop values in the current `DataFrame` directly."
      ]
    },
    {
      "cell_type": "code",
      "execution_count": 20,
      "metadata": {
        "colab": {
          "base_uri": "https://localhost:8080/"
        },
        "id": "q-Q5tRxWyqZk",
        "outputId": "0abd7d8b-3b46-41df-9e2f-bf0a9641bd19"
      },
      "outputs": [
        {
          "output_type": "stream",
          "name": "stdout",
          "text": [
            "DataFrame shape: (332, 11)\n"
          ]
        }
      ],
      "source": [
        "bioactivities_df.dropna(axis=0, how=\"any\", inplace=True)\n",
        "print(f\"DataFrame shape: {bioactivities_df.shape}\")"
      ]
    },
    {
      "cell_type": "markdown",
      "metadata": {
        "id": "DuRE5FU4yqZk"
      },
      "source": [
        "**3. Keep only entries with \"standard_unit == nM\"** \n",
        "\n",
        "We only want to keep bioactivity entries in `nM`, thus we remove all entries with other units."
      ]
    },
    {
      "cell_type": "code",
      "execution_count": 21,
      "metadata": {
        "colab": {
          "base_uri": "https://localhost:8080/"
        },
        "id": "CzIKdeWVyqZl",
        "outputId": "a3c9b4db-7829-4a66-e8c7-74cc26f0eb9a"
      },
      "outputs": [
        {
          "output_type": "stream",
          "name": "stdout",
          "text": [
            "Units in downloaded data: ['nM']\n",
            "Number of non-nM entries:    0\n"
          ]
        }
      ],
      "source": [
        "print(f\"Units in downloaded data: {bioactivities_df['standard_units'].unique()}\")\n",
        "print(\n",
        "    f\"Number of non-nM entries:\\\n",
        "    {bioactivities_df[bioactivities_df['standard_units'] != 'nM'].shape[0]}\"\n",
        ")"
      ]
    },
    {
      "cell_type": "code",
      "execution_count": 22,
      "metadata": {
        "colab": {
          "base_uri": "https://localhost:8080/"
        },
        "id": "0MDTgUr_yqZl",
        "outputId": "4f985c13-0f8d-4214-9fe0-1022ec58d3d3"
      },
      "outputs": [
        {
          "output_type": "stream",
          "name": "stdout",
          "text": [
            "Units after filtering: ['nM']\n"
          ]
        }
      ],
      "source": [
        "bioactivities_df = bioactivities_df[bioactivities_df[\"standard_units\"] == \"nM\"]\n",
        "print(f\"Units after filtering: {bioactivities_df['standard_units'].unique()}\")"
      ]
    },
    {
      "cell_type": "code",
      "execution_count": 23,
      "metadata": {
        "colab": {
          "base_uri": "https://localhost:8080/"
        },
        "id": "BAOhLdVZyqZm",
        "outputId": "43d56860-b8f7-425c-e2f1-cab00b8550a6"
      },
      "outputs": [
        {
          "output_type": "stream",
          "name": "stdout",
          "text": [
            "DataFrame shape: (332, 11)\n"
          ]
        }
      ],
      "source": [
        "print(f\"DataFrame shape: {bioactivities_df.shape}\")"
      ]
    },
    {
      "cell_type": "markdown",
      "metadata": {
        "id": "FfMzla0hyqZm"
      },
      "source": [
        "**4. Delete duplicate molecules**\n",
        "\n",
        "Sometimes the same molecule (`molecule_chembl_id`) has been tested more than once, in this case, we only keep the first one.\n",
        "\n",
        "Note other choices could be to keep the one with the best value or a mean value of all assay results for the respective compound."
      ]
    },
    {
      "cell_type": "code",
      "execution_count": 24,
      "metadata": {
        "colab": {
          "base_uri": "https://localhost:8080/"
        },
        "id": "2NvNbROTyqZn",
        "outputId": "571f6874-35e5-4129-fb36-ed44ebde8ff0"
      },
      "outputs": [
        {
          "output_type": "stream",
          "name": "stdout",
          "text": [
            "DataFrame shape: (286, 11)\n"
          ]
        }
      ],
      "source": [
        "bioactivities_df.drop_duplicates(\"molecule_chembl_id\", keep=\"first\", inplace=True)\n",
        "print(f\"DataFrame shape: {bioactivities_df.shape}\")"
      ]
    },
    {
      "cell_type": "markdown",
      "metadata": {
        "id": "_CMvn4cXyqZn"
      },
      "source": [
        "**5. Reset \"DataFrame\" index**\n",
        "\n",
        "Since we deleted some rows, but we want to iterate over the index later, we reset the index to be continuous."
      ]
    },
    {
      "cell_type": "code",
      "execution_count": 25,
      "metadata": {
        "colab": {
          "base_uri": "https://localhost:8080/",
          "height": 337
        },
        "id": "YrEmuLwXyqZn",
        "outputId": "a5926dbd-3498-40ef-8c2e-8b07d196412a"
      },
      "outputs": [
        {
          "output_type": "execute_result",
          "data": {
            "text/plain": [
              "   activity_id assay_chembl_id  \\\n",
              "0        32111    CHEMBL671073   \n",
              "1        33282    CHEMBL671073   \n",
              "2        38258    CHEMBL671073   \n",
              "3        39387    CHEMBL671073   \n",
              "4        39391    CHEMBL671073   \n",
              "\n",
              "                                   assay_description assay_type  \\\n",
              "0  Binding affinity to cloned human Dopamine rece...          B   \n",
              "1  Binding affinity to cloned human Dopamine rece...          B   \n",
              "2  Binding affinity to cloned human Dopamine rece...          B   \n",
              "3  Binding affinity to cloned human Dopamine rece...          B   \n",
              "4  Binding affinity to cloned human Dopamine rece...          B   \n",
              "\n",
              "  molecule_chembl_id relation standard_units  standard_value target_chembl_id  \\\n",
              "0       CHEMBL303519        =             nM          9800.0        CHEMBL217   \n",
              "1       CHEMBL292943        =             nM            50.0        CHEMBL217   \n",
              "2        CHEMBL61682        =             nM            25.0        CHEMBL217   \n",
              "3        CHEMBL64487        =             nM           360.0        CHEMBL217   \n",
              "4        CHEMBL64597        =             nM           300.0        CHEMBL217   \n",
              "\n",
              "  target_organism  type  \n",
              "0    Homo sapiens  IC50  \n",
              "1    Homo sapiens  IC50  \n",
              "2    Homo sapiens  IC50  \n",
              "3    Homo sapiens  IC50  \n",
              "4    Homo sapiens  IC50  "
            ],
            "text/html": [
              "\n",
              "  <div id=\"df-a80e7d37-214c-4e39-a614-28c692c84325\">\n",
              "    <div class=\"colab-df-container\">\n",
              "      <div>\n",
              "<style scoped>\n",
              "    .dataframe tbody tr th:only-of-type {\n",
              "        vertical-align: middle;\n",
              "    }\n",
              "\n",
              "    .dataframe tbody tr th {\n",
              "        vertical-align: top;\n",
              "    }\n",
              "\n",
              "    .dataframe thead th {\n",
              "        text-align: right;\n",
              "    }\n",
              "</style>\n",
              "<table border=\"1\" class=\"dataframe\">\n",
              "  <thead>\n",
              "    <tr style=\"text-align: right;\">\n",
              "      <th></th>\n",
              "      <th>activity_id</th>\n",
              "      <th>assay_chembl_id</th>\n",
              "      <th>assay_description</th>\n",
              "      <th>assay_type</th>\n",
              "      <th>molecule_chembl_id</th>\n",
              "      <th>relation</th>\n",
              "      <th>standard_units</th>\n",
              "      <th>standard_value</th>\n",
              "      <th>target_chembl_id</th>\n",
              "      <th>target_organism</th>\n",
              "      <th>type</th>\n",
              "    </tr>\n",
              "  </thead>\n",
              "  <tbody>\n",
              "    <tr>\n",
              "      <th>0</th>\n",
              "      <td>32111</td>\n",
              "      <td>CHEMBL671073</td>\n",
              "      <td>Binding affinity to cloned human Dopamine rece...</td>\n",
              "      <td>B</td>\n",
              "      <td>CHEMBL303519</td>\n",
              "      <td>=</td>\n",
              "      <td>nM</td>\n",
              "      <td>9800.0</td>\n",
              "      <td>CHEMBL217</td>\n",
              "      <td>Homo sapiens</td>\n",
              "      <td>IC50</td>\n",
              "    </tr>\n",
              "    <tr>\n",
              "      <th>1</th>\n",
              "      <td>33282</td>\n",
              "      <td>CHEMBL671073</td>\n",
              "      <td>Binding affinity to cloned human Dopamine rece...</td>\n",
              "      <td>B</td>\n",
              "      <td>CHEMBL292943</td>\n",
              "      <td>=</td>\n",
              "      <td>nM</td>\n",
              "      <td>50.0</td>\n",
              "      <td>CHEMBL217</td>\n",
              "      <td>Homo sapiens</td>\n",
              "      <td>IC50</td>\n",
              "    </tr>\n",
              "    <tr>\n",
              "      <th>2</th>\n",
              "      <td>38258</td>\n",
              "      <td>CHEMBL671073</td>\n",
              "      <td>Binding affinity to cloned human Dopamine rece...</td>\n",
              "      <td>B</td>\n",
              "      <td>CHEMBL61682</td>\n",
              "      <td>=</td>\n",
              "      <td>nM</td>\n",
              "      <td>25.0</td>\n",
              "      <td>CHEMBL217</td>\n",
              "      <td>Homo sapiens</td>\n",
              "      <td>IC50</td>\n",
              "    </tr>\n",
              "    <tr>\n",
              "      <th>3</th>\n",
              "      <td>39387</td>\n",
              "      <td>CHEMBL671073</td>\n",
              "      <td>Binding affinity to cloned human Dopamine rece...</td>\n",
              "      <td>B</td>\n",
              "      <td>CHEMBL64487</td>\n",
              "      <td>=</td>\n",
              "      <td>nM</td>\n",
              "      <td>360.0</td>\n",
              "      <td>CHEMBL217</td>\n",
              "      <td>Homo sapiens</td>\n",
              "      <td>IC50</td>\n",
              "    </tr>\n",
              "    <tr>\n",
              "      <th>4</th>\n",
              "      <td>39391</td>\n",
              "      <td>CHEMBL671073</td>\n",
              "      <td>Binding affinity to cloned human Dopamine rece...</td>\n",
              "      <td>B</td>\n",
              "      <td>CHEMBL64597</td>\n",
              "      <td>=</td>\n",
              "      <td>nM</td>\n",
              "      <td>300.0</td>\n",
              "      <td>CHEMBL217</td>\n",
              "      <td>Homo sapiens</td>\n",
              "      <td>IC50</td>\n",
              "    </tr>\n",
              "  </tbody>\n",
              "</table>\n",
              "</div>\n",
              "      <button class=\"colab-df-convert\" onclick=\"convertToInteractive('df-a80e7d37-214c-4e39-a614-28c692c84325')\"\n",
              "              title=\"Convert this dataframe to an interactive table.\"\n",
              "              style=\"display:none;\">\n",
              "        \n",
              "  <svg xmlns=\"http://www.w3.org/2000/svg\" height=\"24px\"viewBox=\"0 0 24 24\"\n",
              "       width=\"24px\">\n",
              "    <path d=\"M0 0h24v24H0V0z\" fill=\"none\"/>\n",
              "    <path d=\"M18.56 5.44l.94 2.06.94-2.06 2.06-.94-2.06-.94-.94-2.06-.94 2.06-2.06.94zm-11 1L8.5 8.5l.94-2.06 2.06-.94-2.06-.94L8.5 2.5l-.94 2.06-2.06.94zm10 10l.94 2.06.94-2.06 2.06-.94-2.06-.94-.94-2.06-.94 2.06-2.06.94z\"/><path d=\"M17.41 7.96l-1.37-1.37c-.4-.4-.92-.59-1.43-.59-.52 0-1.04.2-1.43.59L10.3 9.45l-7.72 7.72c-.78.78-.78 2.05 0 2.83L4 21.41c.39.39.9.59 1.41.59.51 0 1.02-.2 1.41-.59l7.78-7.78 2.81-2.81c.8-.78.8-2.07 0-2.86zM5.41 20L4 18.59l7.72-7.72 1.47 1.35L5.41 20z\"/>\n",
              "  </svg>\n",
              "      </button>\n",
              "      \n",
              "  <style>\n",
              "    .colab-df-container {\n",
              "      display:flex;\n",
              "      flex-wrap:wrap;\n",
              "      gap: 12px;\n",
              "    }\n",
              "\n",
              "    .colab-df-convert {\n",
              "      background-color: #E8F0FE;\n",
              "      border: none;\n",
              "      border-radius: 50%;\n",
              "      cursor: pointer;\n",
              "      display: none;\n",
              "      fill: #1967D2;\n",
              "      height: 32px;\n",
              "      padding: 0 0 0 0;\n",
              "      width: 32px;\n",
              "    }\n",
              "\n",
              "    .colab-df-convert:hover {\n",
              "      background-color: #E2EBFA;\n",
              "      box-shadow: 0px 1px 2px rgba(60, 64, 67, 0.3), 0px 1px 3px 1px rgba(60, 64, 67, 0.15);\n",
              "      fill: #174EA6;\n",
              "    }\n",
              "\n",
              "    [theme=dark] .colab-df-convert {\n",
              "      background-color: #3B4455;\n",
              "      fill: #D2E3FC;\n",
              "    }\n",
              "\n",
              "    [theme=dark] .colab-df-convert:hover {\n",
              "      background-color: #434B5C;\n",
              "      box-shadow: 0px 1px 3px 1px rgba(0, 0, 0, 0.15);\n",
              "      filter: drop-shadow(0px 1px 2px rgba(0, 0, 0, 0.3));\n",
              "      fill: #FFFFFF;\n",
              "    }\n",
              "  </style>\n",
              "\n",
              "      <script>\n",
              "        const buttonEl =\n",
              "          document.querySelector('#df-a80e7d37-214c-4e39-a614-28c692c84325 button.colab-df-convert');\n",
              "        buttonEl.style.display =\n",
              "          google.colab.kernel.accessAllowed ? 'block' : 'none';\n",
              "\n",
              "        async function convertToInteractive(key) {\n",
              "          const element = document.querySelector('#df-a80e7d37-214c-4e39-a614-28c692c84325');\n",
              "          const dataTable =\n",
              "            await google.colab.kernel.invokeFunction('convertToInteractive',\n",
              "                                                     [key], {});\n",
              "          if (!dataTable) return;\n",
              "\n",
              "          const docLinkHtml = 'Like what you see? Visit the ' +\n",
              "            '<a target=\"_blank\" href=https://colab.research.google.com/notebooks/data_table.ipynb>data table notebook</a>'\n",
              "            + ' to learn more about interactive tables.';\n",
              "          element.innerHTML = '';\n",
              "          dataTable['output_type'] = 'display_data';\n",
              "          await google.colab.output.renderOutput(dataTable, element);\n",
              "          const docLink = document.createElement('div');\n",
              "          docLink.innerHTML = docLinkHtml;\n",
              "          element.appendChild(docLink);\n",
              "        }\n",
              "      </script>\n",
              "    </div>\n",
              "  </div>\n",
              "  "
            ]
          },
          "metadata": {},
          "execution_count": 25
        }
      ],
      "source": [
        "bioactivities_df.reset_index(drop=True, inplace=True)\n",
        "bioactivities_df.head()"
      ]
    },
    {
      "cell_type": "markdown",
      "metadata": {
        "id": "IhSGUYnayqZo"
      },
      "source": [
        "**6. Rename columns**"
      ]
    },
    {
      "cell_type": "code",
      "execution_count": 26,
      "metadata": {
        "colab": {
          "base_uri": "https://localhost:8080/",
          "height": 250
        },
        "id": "Y6nyMRUsyqZo",
        "outputId": "6d5b809b-1ecd-4d69-e65c-95ea20ab60c0"
      },
      "outputs": [
        {
          "output_type": "execute_result",
          "data": {
            "text/plain": [
              "   activity_id assay_chembl_id  \\\n",
              "0        32111    CHEMBL671073   \n",
              "1        33282    CHEMBL671073   \n",
              "2        38258    CHEMBL671073   \n",
              "3        39387    CHEMBL671073   \n",
              "4        39391    CHEMBL671073   \n",
              "\n",
              "                                   assay_description assay_type  \\\n",
              "0  Binding affinity to cloned human Dopamine rece...          B   \n",
              "1  Binding affinity to cloned human Dopamine rece...          B   \n",
              "2  Binding affinity to cloned human Dopamine rece...          B   \n",
              "3  Binding affinity to cloned human Dopamine rece...          B   \n",
              "4  Binding affinity to cloned human Dopamine rece...          B   \n",
              "\n",
              "  molecule_chembl_id relation units    IC50 target_chembl_id target_organism  \\\n",
              "0       CHEMBL303519        =    nM  9800.0        CHEMBL217    Homo sapiens   \n",
              "1       CHEMBL292943        =    nM    50.0        CHEMBL217    Homo sapiens   \n",
              "2        CHEMBL61682        =    nM    25.0        CHEMBL217    Homo sapiens   \n",
              "3        CHEMBL64487        =    nM   360.0        CHEMBL217    Homo sapiens   \n",
              "4        CHEMBL64597        =    nM   300.0        CHEMBL217    Homo sapiens   \n",
              "\n",
              "   type  \n",
              "0  IC50  \n",
              "1  IC50  \n",
              "2  IC50  \n",
              "3  IC50  \n",
              "4  IC50  "
            ],
            "text/html": [
              "\n",
              "  <div id=\"df-a8110761-f210-4b07-8ad0-12764dbe3e33\">\n",
              "    <div class=\"colab-df-container\">\n",
              "      <div>\n",
              "<style scoped>\n",
              "    .dataframe tbody tr th:only-of-type {\n",
              "        vertical-align: middle;\n",
              "    }\n",
              "\n",
              "    .dataframe tbody tr th {\n",
              "        vertical-align: top;\n",
              "    }\n",
              "\n",
              "    .dataframe thead th {\n",
              "        text-align: right;\n",
              "    }\n",
              "</style>\n",
              "<table border=\"1\" class=\"dataframe\">\n",
              "  <thead>\n",
              "    <tr style=\"text-align: right;\">\n",
              "      <th></th>\n",
              "      <th>activity_id</th>\n",
              "      <th>assay_chembl_id</th>\n",
              "      <th>assay_description</th>\n",
              "      <th>assay_type</th>\n",
              "      <th>molecule_chembl_id</th>\n",
              "      <th>relation</th>\n",
              "      <th>units</th>\n",
              "      <th>IC50</th>\n",
              "      <th>target_chembl_id</th>\n",
              "      <th>target_organism</th>\n",
              "      <th>type</th>\n",
              "    </tr>\n",
              "  </thead>\n",
              "  <tbody>\n",
              "    <tr>\n",
              "      <th>0</th>\n",
              "      <td>32111</td>\n",
              "      <td>CHEMBL671073</td>\n",
              "      <td>Binding affinity to cloned human Dopamine rece...</td>\n",
              "      <td>B</td>\n",
              "      <td>CHEMBL303519</td>\n",
              "      <td>=</td>\n",
              "      <td>nM</td>\n",
              "      <td>9800.0</td>\n",
              "      <td>CHEMBL217</td>\n",
              "      <td>Homo sapiens</td>\n",
              "      <td>IC50</td>\n",
              "    </tr>\n",
              "    <tr>\n",
              "      <th>1</th>\n",
              "      <td>33282</td>\n",
              "      <td>CHEMBL671073</td>\n",
              "      <td>Binding affinity to cloned human Dopamine rece...</td>\n",
              "      <td>B</td>\n",
              "      <td>CHEMBL292943</td>\n",
              "      <td>=</td>\n",
              "      <td>nM</td>\n",
              "      <td>50.0</td>\n",
              "      <td>CHEMBL217</td>\n",
              "      <td>Homo sapiens</td>\n",
              "      <td>IC50</td>\n",
              "    </tr>\n",
              "    <tr>\n",
              "      <th>2</th>\n",
              "      <td>38258</td>\n",
              "      <td>CHEMBL671073</td>\n",
              "      <td>Binding affinity to cloned human Dopamine rece...</td>\n",
              "      <td>B</td>\n",
              "      <td>CHEMBL61682</td>\n",
              "      <td>=</td>\n",
              "      <td>nM</td>\n",
              "      <td>25.0</td>\n",
              "      <td>CHEMBL217</td>\n",
              "      <td>Homo sapiens</td>\n",
              "      <td>IC50</td>\n",
              "    </tr>\n",
              "    <tr>\n",
              "      <th>3</th>\n",
              "      <td>39387</td>\n",
              "      <td>CHEMBL671073</td>\n",
              "      <td>Binding affinity to cloned human Dopamine rece...</td>\n",
              "      <td>B</td>\n",
              "      <td>CHEMBL64487</td>\n",
              "      <td>=</td>\n",
              "      <td>nM</td>\n",
              "      <td>360.0</td>\n",
              "      <td>CHEMBL217</td>\n",
              "      <td>Homo sapiens</td>\n",
              "      <td>IC50</td>\n",
              "    </tr>\n",
              "    <tr>\n",
              "      <th>4</th>\n",
              "      <td>39391</td>\n",
              "      <td>CHEMBL671073</td>\n",
              "      <td>Binding affinity to cloned human Dopamine rece...</td>\n",
              "      <td>B</td>\n",
              "      <td>CHEMBL64597</td>\n",
              "      <td>=</td>\n",
              "      <td>nM</td>\n",
              "      <td>300.0</td>\n",
              "      <td>CHEMBL217</td>\n",
              "      <td>Homo sapiens</td>\n",
              "      <td>IC50</td>\n",
              "    </tr>\n",
              "  </tbody>\n",
              "</table>\n",
              "</div>\n",
              "      <button class=\"colab-df-convert\" onclick=\"convertToInteractive('df-a8110761-f210-4b07-8ad0-12764dbe3e33')\"\n",
              "              title=\"Convert this dataframe to an interactive table.\"\n",
              "              style=\"display:none;\">\n",
              "        \n",
              "  <svg xmlns=\"http://www.w3.org/2000/svg\" height=\"24px\"viewBox=\"0 0 24 24\"\n",
              "       width=\"24px\">\n",
              "    <path d=\"M0 0h24v24H0V0z\" fill=\"none\"/>\n",
              "    <path d=\"M18.56 5.44l.94 2.06.94-2.06 2.06-.94-2.06-.94-.94-2.06-.94 2.06-2.06.94zm-11 1L8.5 8.5l.94-2.06 2.06-.94-2.06-.94L8.5 2.5l-.94 2.06-2.06.94zm10 10l.94 2.06.94-2.06 2.06-.94-2.06-.94-.94-2.06-.94 2.06-2.06.94z\"/><path d=\"M17.41 7.96l-1.37-1.37c-.4-.4-.92-.59-1.43-.59-.52 0-1.04.2-1.43.59L10.3 9.45l-7.72 7.72c-.78.78-.78 2.05 0 2.83L4 21.41c.39.39.9.59 1.41.59.51 0 1.02-.2 1.41-.59l7.78-7.78 2.81-2.81c.8-.78.8-2.07 0-2.86zM5.41 20L4 18.59l7.72-7.72 1.47 1.35L5.41 20z\"/>\n",
              "  </svg>\n",
              "      </button>\n",
              "      \n",
              "  <style>\n",
              "    .colab-df-container {\n",
              "      display:flex;\n",
              "      flex-wrap:wrap;\n",
              "      gap: 12px;\n",
              "    }\n",
              "\n",
              "    .colab-df-convert {\n",
              "      background-color: #E8F0FE;\n",
              "      border: none;\n",
              "      border-radius: 50%;\n",
              "      cursor: pointer;\n",
              "      display: none;\n",
              "      fill: #1967D2;\n",
              "      height: 32px;\n",
              "      padding: 0 0 0 0;\n",
              "      width: 32px;\n",
              "    }\n",
              "\n",
              "    .colab-df-convert:hover {\n",
              "      background-color: #E2EBFA;\n",
              "      box-shadow: 0px 1px 2px rgba(60, 64, 67, 0.3), 0px 1px 3px 1px rgba(60, 64, 67, 0.15);\n",
              "      fill: #174EA6;\n",
              "    }\n",
              "\n",
              "    [theme=dark] .colab-df-convert {\n",
              "      background-color: #3B4455;\n",
              "      fill: #D2E3FC;\n",
              "    }\n",
              "\n",
              "    [theme=dark] .colab-df-convert:hover {\n",
              "      background-color: #434B5C;\n",
              "      box-shadow: 0px 1px 3px 1px rgba(0, 0, 0, 0.15);\n",
              "      filter: drop-shadow(0px 1px 2px rgba(0, 0, 0, 0.3));\n",
              "      fill: #FFFFFF;\n",
              "    }\n",
              "  </style>\n",
              "\n",
              "      <script>\n",
              "        const buttonEl =\n",
              "          document.querySelector('#df-a8110761-f210-4b07-8ad0-12764dbe3e33 button.colab-df-convert');\n",
              "        buttonEl.style.display =\n",
              "          google.colab.kernel.accessAllowed ? 'block' : 'none';\n",
              "\n",
              "        async function convertToInteractive(key) {\n",
              "          const element = document.querySelector('#df-a8110761-f210-4b07-8ad0-12764dbe3e33');\n",
              "          const dataTable =\n",
              "            await google.colab.kernel.invokeFunction('convertToInteractive',\n",
              "                                                     [key], {});\n",
              "          if (!dataTable) return;\n",
              "\n",
              "          const docLinkHtml = 'Like what you see? Visit the ' +\n",
              "            '<a target=\"_blank\" href=https://colab.research.google.com/notebooks/data_table.ipynb>data table notebook</a>'\n",
              "            + ' to learn more about interactive tables.';\n",
              "          element.innerHTML = '';\n",
              "          dataTable['output_type'] = 'display_data';\n",
              "          await google.colab.output.renderOutput(dataTable, element);\n",
              "          const docLink = document.createElement('div');\n",
              "          docLink.innerHTML = docLinkHtml;\n",
              "          element.appendChild(docLink);\n",
              "        }\n",
              "      </script>\n",
              "    </div>\n",
              "  </div>\n",
              "  "
            ]
          },
          "metadata": {},
          "execution_count": 26
        }
      ],
      "source": [
        "bioactivities_df.rename(\n",
        "    columns={\"standard_value\": \"IC50\", \"standard_units\": \"units\"}, inplace=True\n",
        ")\n",
        "bioactivities_df.head()"
      ]
    },
    {
      "cell_type": "code",
      "execution_count": 27,
      "metadata": {
        "colab": {
          "base_uri": "https://localhost:8080/"
        },
        "id": "onF7TlGQyqZp",
        "outputId": "23aca36e-bc5a-4271-fd4f-919242f127f1"
      },
      "outputs": [
        {
          "output_type": "stream",
          "name": "stdout",
          "text": [
            "DataFrame shape: (286, 11)\n"
          ]
        }
      ],
      "source": [
        "print(f\"DataFrame shape: {bioactivities_df.shape}\")"
      ]
    },
    {
      "cell_type": "markdown",
      "metadata": {
        "id": "bURdvCbpyqZq"
      },
      "source": [
        "### Get compound data"
      ]
    },
    {
      "cell_type": "code",
      "execution_count": 28,
      "metadata": {
        "id": "hHCvvaKqyqZq"
      },
      "outputs": [],
      "source": [
        "compounds_provider = compounds_api.filter(\n",
        "    molecule_chembl_id__in=list(bioactivities_df[\"molecule_chembl_id\"])\n",
        ").only(\"molecule_chembl_id\", \"molecule_structures\")"
      ]
    },
    {
      "cell_type": "markdown",
      "metadata": {
        "id": "fxxdyOBNyqZr"
      },
      "source": [
        "#### Download compound data from ChEMBL\n",
        "\n",
        "Again, we want to export the `QuerySet` object into a `pandas.DataFrame`. Given the data volume, **this can take some time.** For that reason, we will first obtain the list of records through `tqdm`, so we get a nice progress bar and some ETAs. We can then pass the list of compounds to the DataFrame."
      ]
    },
    {
      "cell_type": "code",
      "execution_count": 29,
      "metadata": {
        "colab": {
          "base_uri": "https://localhost:8080/",
          "height": 49,
          "referenced_widgets": [
            "c6cb4cdf90e64e15b26f654e790e0b1a",
            "9354d339eb85455ebf742ccdce24868e",
            "a2ae73b3494f436ab95b162646535054",
            "f9353d1e085b4131b0c5b84b485ff9b9",
            "5758f705da344ab3ab95c918c41026cc",
            "bb7d4fea4bfb42409ff48f619e7cb6e6",
            "6ae7ade06b394e609c22833f48d860c6",
            "2096fb33348d4aa599b006798a2deb58",
            "fd8933d6c215445ba3429a6a2589f679",
            "9753d8488cf84934827249398d6862df",
            "20e6d890113e48eab016409a3d30b872"
          ]
        },
        "id": "_n1IRwaMyqZr",
        "outputId": "96d8a245-fbf6-4b0c-e901-b6365316f045"
      },
      "outputs": [
        {
          "output_type": "display_data",
          "data": {
            "text/plain": [
              "  0%|          | 0/286 [00:00<?, ?it/s]"
            ],
            "application/vnd.jupyter.widget-view+json": {
              "version_major": 2,
              "version_minor": 0,
              "model_id": "c6cb4cdf90e64e15b26f654e790e0b1a"
            }
          },
          "metadata": {}
        }
      ],
      "source": [
        "compounds = list(tqdm(compounds_provider))"
      ]
    },
    {
      "cell_type": "code",
      "execution_count": 30,
      "metadata": {
        "colab": {
          "base_uri": "https://localhost:8080/"
        },
        "id": "SKT2v19cyqZs",
        "outputId": "7b048c97-b242-410a-8d21-b9c15d8918a6"
      },
      "outputs": [
        {
          "output_type": "stream",
          "name": "stdout",
          "text": [
            "DataFrame shape: (286, 2)\n"
          ]
        }
      ],
      "source": [
        "compounds_df = pd.DataFrame.from_records(\n",
        "    compounds,\n",
        ")\n",
        "print(f\"DataFrame shape: {compounds_df.shape}\")"
      ]
    },
    {
      "cell_type": "code",
      "execution_count": 31,
      "metadata": {
        "colab": {
          "base_uri": "https://localhost:8080/",
          "height": 206
        },
        "id": "oYgtcJ7LyqZs",
        "outputId": "c1f1e599-3475-4743-a4a5-d30fe76665ba"
      },
      "outputs": [
        {
          "output_type": "execute_result",
          "data": {
            "text/plain": [
              "  molecule_chembl_id                                molecule_structures\n",
              "0           CHEMBL11  {'canonical_smiles': 'CN(C)CCCN1c2ccccc2CCc2cc...\n",
              "1          CHEMBL411  {'canonical_smiles': 'CC/C(=C(/CC)c1ccc(O)cc1)...\n",
              "2          CHEMBL415  {'canonical_smiles': 'CN(C)CCCN1c2ccccc2CCc2cc...\n",
              "3           CHEMBL26  {'canonical_smiles': 'CCN1CCCC1CNC(=O)c1cc(S(N...\n",
              "4          CHEMBL442  {'canonical_smiles': 'CN1C[C@H](C(=O)N[C@]2(C)..."
            ],
            "text/html": [
              "\n",
              "  <div id=\"df-955bcd76-f0eb-4c0c-b468-8eeaff137174\">\n",
              "    <div class=\"colab-df-container\">\n",
              "      <div>\n",
              "<style scoped>\n",
              "    .dataframe tbody tr th:only-of-type {\n",
              "        vertical-align: middle;\n",
              "    }\n",
              "\n",
              "    .dataframe tbody tr th {\n",
              "        vertical-align: top;\n",
              "    }\n",
              "\n",
              "    .dataframe thead th {\n",
              "        text-align: right;\n",
              "    }\n",
              "</style>\n",
              "<table border=\"1\" class=\"dataframe\">\n",
              "  <thead>\n",
              "    <tr style=\"text-align: right;\">\n",
              "      <th></th>\n",
              "      <th>molecule_chembl_id</th>\n",
              "      <th>molecule_structures</th>\n",
              "    </tr>\n",
              "  </thead>\n",
              "  <tbody>\n",
              "    <tr>\n",
              "      <th>0</th>\n",
              "      <td>CHEMBL11</td>\n",
              "      <td>{'canonical_smiles': 'CN(C)CCCN1c2ccccc2CCc2cc...</td>\n",
              "    </tr>\n",
              "    <tr>\n",
              "      <th>1</th>\n",
              "      <td>CHEMBL411</td>\n",
              "      <td>{'canonical_smiles': 'CC/C(=C(/CC)c1ccc(O)cc1)...</td>\n",
              "    </tr>\n",
              "    <tr>\n",
              "      <th>2</th>\n",
              "      <td>CHEMBL415</td>\n",
              "      <td>{'canonical_smiles': 'CN(C)CCCN1c2ccccc2CCc2cc...</td>\n",
              "    </tr>\n",
              "    <tr>\n",
              "      <th>3</th>\n",
              "      <td>CHEMBL26</td>\n",
              "      <td>{'canonical_smiles': 'CCN1CCCC1CNC(=O)c1cc(S(N...</td>\n",
              "    </tr>\n",
              "    <tr>\n",
              "      <th>4</th>\n",
              "      <td>CHEMBL442</td>\n",
              "      <td>{'canonical_smiles': 'CN1C[C@H](C(=O)N[C@]2(C)...</td>\n",
              "    </tr>\n",
              "  </tbody>\n",
              "</table>\n",
              "</div>\n",
              "      <button class=\"colab-df-convert\" onclick=\"convertToInteractive('df-955bcd76-f0eb-4c0c-b468-8eeaff137174')\"\n",
              "              title=\"Convert this dataframe to an interactive table.\"\n",
              "              style=\"display:none;\">\n",
              "        \n",
              "  <svg xmlns=\"http://www.w3.org/2000/svg\" height=\"24px\"viewBox=\"0 0 24 24\"\n",
              "       width=\"24px\">\n",
              "    <path d=\"M0 0h24v24H0V0z\" fill=\"none\"/>\n",
              "    <path d=\"M18.56 5.44l.94 2.06.94-2.06 2.06-.94-2.06-.94-.94-2.06-.94 2.06-2.06.94zm-11 1L8.5 8.5l.94-2.06 2.06-.94-2.06-.94L8.5 2.5l-.94 2.06-2.06.94zm10 10l.94 2.06.94-2.06 2.06-.94-2.06-.94-.94-2.06-.94 2.06-2.06.94z\"/><path d=\"M17.41 7.96l-1.37-1.37c-.4-.4-.92-.59-1.43-.59-.52 0-1.04.2-1.43.59L10.3 9.45l-7.72 7.72c-.78.78-.78 2.05 0 2.83L4 21.41c.39.39.9.59 1.41.59.51 0 1.02-.2 1.41-.59l7.78-7.78 2.81-2.81c.8-.78.8-2.07 0-2.86zM5.41 20L4 18.59l7.72-7.72 1.47 1.35L5.41 20z\"/>\n",
              "  </svg>\n",
              "      </button>\n",
              "      \n",
              "  <style>\n",
              "    .colab-df-container {\n",
              "      display:flex;\n",
              "      flex-wrap:wrap;\n",
              "      gap: 12px;\n",
              "    }\n",
              "\n",
              "    .colab-df-convert {\n",
              "      background-color: #E8F0FE;\n",
              "      border: none;\n",
              "      border-radius: 50%;\n",
              "      cursor: pointer;\n",
              "      display: none;\n",
              "      fill: #1967D2;\n",
              "      height: 32px;\n",
              "      padding: 0 0 0 0;\n",
              "      width: 32px;\n",
              "    }\n",
              "\n",
              "    .colab-df-convert:hover {\n",
              "      background-color: #E2EBFA;\n",
              "      box-shadow: 0px 1px 2px rgba(60, 64, 67, 0.3), 0px 1px 3px 1px rgba(60, 64, 67, 0.15);\n",
              "      fill: #174EA6;\n",
              "    }\n",
              "\n",
              "    [theme=dark] .colab-df-convert {\n",
              "      background-color: #3B4455;\n",
              "      fill: #D2E3FC;\n",
              "    }\n",
              "\n",
              "    [theme=dark] .colab-df-convert:hover {\n",
              "      background-color: #434B5C;\n",
              "      box-shadow: 0px 1px 3px 1px rgba(0, 0, 0, 0.15);\n",
              "      filter: drop-shadow(0px 1px 2px rgba(0, 0, 0, 0.3));\n",
              "      fill: #FFFFFF;\n",
              "    }\n",
              "  </style>\n",
              "\n",
              "      <script>\n",
              "        const buttonEl =\n",
              "          document.querySelector('#df-955bcd76-f0eb-4c0c-b468-8eeaff137174 button.colab-df-convert');\n",
              "        buttonEl.style.display =\n",
              "          google.colab.kernel.accessAllowed ? 'block' : 'none';\n",
              "\n",
              "        async function convertToInteractive(key) {\n",
              "          const element = document.querySelector('#df-955bcd76-f0eb-4c0c-b468-8eeaff137174');\n",
              "          const dataTable =\n",
              "            await google.colab.kernel.invokeFunction('convertToInteractive',\n",
              "                                                     [key], {});\n",
              "          if (!dataTable) return;\n",
              "\n",
              "          const docLinkHtml = 'Like what you see? Visit the ' +\n",
              "            '<a target=\"_blank\" href=https://colab.research.google.com/notebooks/data_table.ipynb>data table notebook</a>'\n",
              "            + ' to learn more about interactive tables.';\n",
              "          element.innerHTML = '';\n",
              "          dataTable['output_type'] = 'display_data';\n",
              "          await google.colab.output.renderOutput(dataTable, element);\n",
              "          const docLink = document.createElement('div');\n",
              "          docLink.innerHTML = docLinkHtml;\n",
              "          element.appendChild(docLink);\n",
              "        }\n",
              "      </script>\n",
              "    </div>\n",
              "  </div>\n",
              "  "
            ]
          },
          "metadata": {},
          "execution_count": 31
        }
      ],
      "source": [
        "compounds_df.head()"
      ]
    },
    {
      "cell_type": "markdown",
      "metadata": {
        "id": "UFYWRrYuyqZt"
      },
      "source": [
        "#### Preprocess and filter compound data\n",
        "\n",
        "1. Remove entries with missing entries\n",
        "2. Delete duplicate molecules (by molecule_chembl_id)\n",
        "3. Get molecules with canonical SMILES"
      ]
    },
    {
      "cell_type": "markdown",
      "metadata": {
        "id": "wZtc52g4yqZt"
      },
      "source": [
        "**1. Remove entries with missing molecule structure entry**"
      ]
    },
    {
      "cell_type": "code",
      "execution_count": 32,
      "metadata": {
        "id": "IslIXHZ7yqZt",
        "outputId": "8c4d1b88-4f87-4930-f177-4dabe85fe948",
        "colab": {
          "base_uri": "https://localhost:8080/"
        }
      },
      "outputs": [
        {
          "output_type": "stream",
          "name": "stdout",
          "text": [
            "DataFrame shape: (286, 2)\n"
          ]
        }
      ],
      "source": [
        "compounds_df.dropna(axis=0, how=\"any\", inplace=True)\n",
        "print(f\"DataFrame shape: {compounds_df.shape}\")"
      ]
    },
    {
      "cell_type": "markdown",
      "metadata": {
        "id": "SWZHoq6nyqZu"
      },
      "source": [
        "**2. Delete duplicate molecules**"
      ]
    },
    {
      "cell_type": "code",
      "execution_count": 33,
      "metadata": {
        "id": "fUZQXzkryqZu",
        "outputId": "cc785d5d-88b4-4dc9-a965-38de3636b952",
        "colab": {
          "base_uri": "https://localhost:8080/"
        }
      },
      "outputs": [
        {
          "output_type": "stream",
          "name": "stdout",
          "text": [
            "DataFrame shape: (286, 2)\n"
          ]
        }
      ],
      "source": [
        "compounds_df.drop_duplicates(\"molecule_chembl_id\", keep=\"first\", inplace=True)\n",
        "print(f\"DataFrame shape: {compounds_df.shape}\")"
      ]
    },
    {
      "cell_type": "markdown",
      "metadata": {
        "id": "L7x6JVwNyqZv"
      },
      "source": [
        "**3. Get molecules with canonical SMILES**\n",
        "\n",
        "So far, we have multiple different molecular structure representations. We only want to keep the canonical SMILES."
      ]
    },
    {
      "cell_type": "code",
      "execution_count": 34,
      "metadata": {
        "id": "asI103qLyqZv",
        "outputId": "ae5c0025-a735-43cf-c107-d319fc248347",
        "colab": {
          "base_uri": "https://localhost:8080/"
        }
      },
      "outputs": [
        {
          "output_type": "execute_result",
          "data": {
            "text/plain": [
              "dict_keys(['canonical_smiles', 'molfile', 'standard_inchi', 'standard_inchi_key'])"
            ]
          },
          "metadata": {},
          "execution_count": 34
        }
      ],
      "source": [
        "compounds_df.iloc[0].molecule_structures.keys()"
      ]
    },
    {
      "cell_type": "code",
      "execution_count": 35,
      "metadata": {
        "id": "OpE2vQHryqZv",
        "outputId": "dc5dda4a-274e-4da7-c7b4-d66d1277b679",
        "colab": {
          "base_uri": "https://localhost:8080/"
        }
      },
      "outputs": [
        {
          "output_type": "stream",
          "name": "stdout",
          "text": [
            "DataFrame shape: (286, 2)\n"
          ]
        }
      ],
      "source": [
        "canonical_smiles = []\n",
        "\n",
        "for i, compounds in compounds_df.iterrows():\n",
        "    try:\n",
        "        canonical_smiles.append(compounds[\"molecule_structures\"][\"canonical_smiles\"])\n",
        "    except KeyError:\n",
        "        canonical_smiles.append(None)\n",
        "\n",
        "compounds_df[\"smiles\"] = canonical_smiles\n",
        "compounds_df.drop(\"molecule_structures\", axis=1, inplace=True)\n",
        "print(f\"DataFrame shape: {compounds_df.shape}\")"
      ]
    },
    {
      "cell_type": "markdown",
      "metadata": {
        "id": "VysXURg5yqZw"
      },
      "source": [
        "Sanity check: Remove all molecules without a canonical SMILES string."
      ]
    },
    {
      "cell_type": "code",
      "execution_count": 36,
      "metadata": {
        "id": "OGgbRrf9yqZw",
        "outputId": "5e9ddddf-26a0-462e-f575-c003e098e345",
        "colab": {
          "base_uri": "https://localhost:8080/"
        }
      },
      "outputs": [
        {
          "output_type": "stream",
          "name": "stdout",
          "text": [
            "DataFrame shape: (286, 2)\n"
          ]
        }
      ],
      "source": [
        "compounds_df.dropna(axis=0, how=\"any\", inplace=True)\n",
        "print(f\"DataFrame shape: {compounds_df.shape}\")"
      ]
    },
    {
      "cell_type": "markdown",
      "metadata": {
        "id": "8NaxvBhfyqZx"
      },
      "source": [
        "### Output (bioactivity-compound) data\n",
        "**Summary of compound and bioactivity data**"
      ]
    },
    {
      "cell_type": "code",
      "execution_count": 37,
      "metadata": {
        "id": "LVh1vbMXyqZx",
        "outputId": "3f69dc8a-8804-4726-a9e4-e7f36ec77689",
        "colab": {
          "base_uri": "https://localhost:8080/"
        }
      },
      "outputs": [
        {
          "output_type": "stream",
          "name": "stdout",
          "text": [
            "Bioactivities filtered: 286\n"
          ]
        },
        {
          "output_type": "execute_result",
          "data": {
            "text/plain": [
              "Index(['activity_id', 'assay_chembl_id', 'assay_description', 'assay_type',\n",
              "       'molecule_chembl_id', 'relation', 'units', 'IC50', 'target_chembl_id',\n",
              "       'target_organism', 'type'],\n",
              "      dtype='object')"
            ]
          },
          "metadata": {},
          "execution_count": 37
        }
      ],
      "source": [
        "print(f\"Bioactivities filtered: {bioactivities_df.shape[0]}\")\n",
        "bioactivities_df.columns"
      ]
    },
    {
      "cell_type": "code",
      "execution_count": 38,
      "metadata": {
        "id": "Fq8HlGOYyqZx",
        "outputId": "18d0252d-f133-49a6-e31d-44197568659c",
        "colab": {
          "base_uri": "https://localhost:8080/"
        }
      },
      "outputs": [
        {
          "output_type": "stream",
          "name": "stdout",
          "text": [
            "Compounds filtered: 286\n"
          ]
        },
        {
          "output_type": "execute_result",
          "data": {
            "text/plain": [
              "Index(['molecule_chembl_id', 'smiles'], dtype='object')"
            ]
          },
          "metadata": {},
          "execution_count": 38
        }
      ],
      "source": [
        "print(f\"Compounds filtered: {compounds_df.shape[0]}\")\n",
        "compounds_df.columns"
      ]
    },
    {
      "cell_type": "markdown",
      "metadata": {
        "id": "b75K8WCiyqZy"
      },
      "source": [
        "#### Merge both datasets\n",
        "\n",
        "Merge values of interest from `bioactivities_df` and `compounds_df` in an `output_df` based on the compounds' ChEMBL IDs (`molecule_chembl_id`), keeping the following columns:\n",
        "\n",
        "* ChEMBL IDs: `molecule_chembl_id`\n",
        "* SMILES: `smiles`\n",
        "* units: `units`\n",
        "* IC50: `IC50`"
      ]
    },
    {
      "cell_type": "code",
      "execution_count": 39,
      "metadata": {
        "id": "j1GGVfkmyqZy",
        "outputId": "48fbd893-d3e7-4b84-9131-808f067e8a71",
        "colab": {
          "base_uri": "https://localhost:8080/"
        }
      },
      "outputs": [
        {
          "output_type": "stream",
          "name": "stdout",
          "text": [
            "Dataset with 286 entries.\n"
          ]
        }
      ],
      "source": [
        "# Merge DataFrames\n",
        "output_df = pd.merge(\n",
        "    bioactivities_df[[\"molecule_chembl_id\", \"IC50\", \"units\"]],\n",
        "    compounds_df,\n",
        "    on=\"molecule_chembl_id\",\n",
        ")\n",
        "\n",
        "# Reset row indices\n",
        "output_df.reset_index(drop=True, inplace=True)\n",
        "\n",
        "print(f\"Dataset with {output_df.shape[0]} entries.\")"
      ]
    },
    {
      "cell_type": "code",
      "execution_count": 40,
      "metadata": {
        "id": "CmlMkKwfyqZz",
        "outputId": "faa5d31b-e12e-4be3-8188-d75d7bdafcb0",
        "colab": {
          "base_uri": "https://localhost:8080/"
        }
      },
      "outputs": [
        {
          "output_type": "execute_result",
          "data": {
            "text/plain": [
              "molecule_chembl_id     object\n",
              "IC50                  float64\n",
              "units                  object\n",
              "smiles                 object\n",
              "dtype: object"
            ]
          },
          "metadata": {},
          "execution_count": 40
        }
      ],
      "source": [
        "output_df.dtypes"
      ]
    },
    {
      "cell_type": "code",
      "execution_count": 41,
      "metadata": {
        "id": "es_elCMdyqZz",
        "outputId": "10215952-ebab-4c31-a97e-fe85ede411e1",
        "colab": {
          "base_uri": "https://localhost:8080/",
          "height": 363
        }
      },
      "outputs": [
        {
          "output_type": "execute_result",
          "data": {
            "text/plain": [
              "  molecule_chembl_id    IC50 units  \\\n",
              "0       CHEMBL303519  9800.0    nM   \n",
              "1       CHEMBL292943    50.0    nM   \n",
              "2        CHEMBL61682    25.0    nM   \n",
              "3        CHEMBL64487   360.0    nM   \n",
              "4        CHEMBL64597   300.0    nM   \n",
              "5       CHEMBL291824    70.0    nM   \n",
              "6        CHEMBL59942    49.0    nM   \n",
              "7        CHEMBL61657    60.0    nM   \n",
              "8       CHEMBL302183   120.0    nM   \n",
              "9       CHEMBL304692  2300.0    nM   \n",
              "\n",
              "                                         smiles  \n",
              "0     c1cnc(N2CCN(Cc3cccc4c3Cc3ccccc3-4)CC2)nc1  \n",
              "1    COc1ccc(-c2cccc(CN3CCN(c4ncccn4)CC3)c2)cc1  \n",
              "2    Fc1ccc(-c2cncc(CN3CCN(c4ccccc4F)CC3)c2)cc1  \n",
              "3      COc1ccccc1-c1cccc(CN2CCN(c3ncccn3)CC2)c1  \n",
              "4       c1cnc(N2CCN(Cc3cccc(-c4ccsc4)c3)CC2)nc1  \n",
              "5  Fc1ccc(-c2cncc(CN3CCN(c4ccc(F)cc4)CC3)c2)cc1  \n",
              "6     Fc1ccc(-c2cccc(CN3CCN(c4ncccn4)CC3)c2)cc1  \n",
              "7     Fc1ccc(-c2cncc(CN3CCN(c4ccccn4)CC3)c2)cc1  \n",
              "8     Fc1ccc(-c2cncc(CN3CCN(c4ncccn4)CC3)c2)cc1  \n",
              "9     c1cnc(N2CCN(Cc3cccc4c3-c3ccccc3C4)CC2)nc1  "
            ],
            "text/html": [
              "\n",
              "  <div id=\"df-9c498d35-edea-4696-abff-d5602ee2d16a\">\n",
              "    <div class=\"colab-df-container\">\n",
              "      <div>\n",
              "<style scoped>\n",
              "    .dataframe tbody tr th:only-of-type {\n",
              "        vertical-align: middle;\n",
              "    }\n",
              "\n",
              "    .dataframe tbody tr th {\n",
              "        vertical-align: top;\n",
              "    }\n",
              "\n",
              "    .dataframe thead th {\n",
              "        text-align: right;\n",
              "    }\n",
              "</style>\n",
              "<table border=\"1\" class=\"dataframe\">\n",
              "  <thead>\n",
              "    <tr style=\"text-align: right;\">\n",
              "      <th></th>\n",
              "      <th>molecule_chembl_id</th>\n",
              "      <th>IC50</th>\n",
              "      <th>units</th>\n",
              "      <th>smiles</th>\n",
              "    </tr>\n",
              "  </thead>\n",
              "  <tbody>\n",
              "    <tr>\n",
              "      <th>0</th>\n",
              "      <td>CHEMBL303519</td>\n",
              "      <td>9800.0</td>\n",
              "      <td>nM</td>\n",
              "      <td>c1cnc(N2CCN(Cc3cccc4c3Cc3ccccc3-4)CC2)nc1</td>\n",
              "    </tr>\n",
              "    <tr>\n",
              "      <th>1</th>\n",
              "      <td>CHEMBL292943</td>\n",
              "      <td>50.0</td>\n",
              "      <td>nM</td>\n",
              "      <td>COc1ccc(-c2cccc(CN3CCN(c4ncccn4)CC3)c2)cc1</td>\n",
              "    </tr>\n",
              "    <tr>\n",
              "      <th>2</th>\n",
              "      <td>CHEMBL61682</td>\n",
              "      <td>25.0</td>\n",
              "      <td>nM</td>\n",
              "      <td>Fc1ccc(-c2cncc(CN3CCN(c4ccccc4F)CC3)c2)cc1</td>\n",
              "    </tr>\n",
              "    <tr>\n",
              "      <th>3</th>\n",
              "      <td>CHEMBL64487</td>\n",
              "      <td>360.0</td>\n",
              "      <td>nM</td>\n",
              "      <td>COc1ccccc1-c1cccc(CN2CCN(c3ncccn3)CC2)c1</td>\n",
              "    </tr>\n",
              "    <tr>\n",
              "      <th>4</th>\n",
              "      <td>CHEMBL64597</td>\n",
              "      <td>300.0</td>\n",
              "      <td>nM</td>\n",
              "      <td>c1cnc(N2CCN(Cc3cccc(-c4ccsc4)c3)CC2)nc1</td>\n",
              "    </tr>\n",
              "    <tr>\n",
              "      <th>5</th>\n",
              "      <td>CHEMBL291824</td>\n",
              "      <td>70.0</td>\n",
              "      <td>nM</td>\n",
              "      <td>Fc1ccc(-c2cncc(CN3CCN(c4ccc(F)cc4)CC3)c2)cc1</td>\n",
              "    </tr>\n",
              "    <tr>\n",
              "      <th>6</th>\n",
              "      <td>CHEMBL59942</td>\n",
              "      <td>49.0</td>\n",
              "      <td>nM</td>\n",
              "      <td>Fc1ccc(-c2cccc(CN3CCN(c4ncccn4)CC3)c2)cc1</td>\n",
              "    </tr>\n",
              "    <tr>\n",
              "      <th>7</th>\n",
              "      <td>CHEMBL61657</td>\n",
              "      <td>60.0</td>\n",
              "      <td>nM</td>\n",
              "      <td>Fc1ccc(-c2cncc(CN3CCN(c4ccccn4)CC3)c2)cc1</td>\n",
              "    </tr>\n",
              "    <tr>\n",
              "      <th>8</th>\n",
              "      <td>CHEMBL302183</td>\n",
              "      <td>120.0</td>\n",
              "      <td>nM</td>\n",
              "      <td>Fc1ccc(-c2cncc(CN3CCN(c4ncccn4)CC3)c2)cc1</td>\n",
              "    </tr>\n",
              "    <tr>\n",
              "      <th>9</th>\n",
              "      <td>CHEMBL304692</td>\n",
              "      <td>2300.0</td>\n",
              "      <td>nM</td>\n",
              "      <td>c1cnc(N2CCN(Cc3cccc4c3-c3ccccc3C4)CC2)nc1</td>\n",
              "    </tr>\n",
              "  </tbody>\n",
              "</table>\n",
              "</div>\n",
              "      <button class=\"colab-df-convert\" onclick=\"convertToInteractive('df-9c498d35-edea-4696-abff-d5602ee2d16a')\"\n",
              "              title=\"Convert this dataframe to an interactive table.\"\n",
              "              style=\"display:none;\">\n",
              "        \n",
              "  <svg xmlns=\"http://www.w3.org/2000/svg\" height=\"24px\"viewBox=\"0 0 24 24\"\n",
              "       width=\"24px\">\n",
              "    <path d=\"M0 0h24v24H0V0z\" fill=\"none\"/>\n",
              "    <path d=\"M18.56 5.44l.94 2.06.94-2.06 2.06-.94-2.06-.94-.94-2.06-.94 2.06-2.06.94zm-11 1L8.5 8.5l.94-2.06 2.06-.94-2.06-.94L8.5 2.5l-.94 2.06-2.06.94zm10 10l.94 2.06.94-2.06 2.06-.94-2.06-.94-.94-2.06-.94 2.06-2.06.94z\"/><path d=\"M17.41 7.96l-1.37-1.37c-.4-.4-.92-.59-1.43-.59-.52 0-1.04.2-1.43.59L10.3 9.45l-7.72 7.72c-.78.78-.78 2.05 0 2.83L4 21.41c.39.39.9.59 1.41.59.51 0 1.02-.2 1.41-.59l7.78-7.78 2.81-2.81c.8-.78.8-2.07 0-2.86zM5.41 20L4 18.59l7.72-7.72 1.47 1.35L5.41 20z\"/>\n",
              "  </svg>\n",
              "      </button>\n",
              "      \n",
              "  <style>\n",
              "    .colab-df-container {\n",
              "      display:flex;\n",
              "      flex-wrap:wrap;\n",
              "      gap: 12px;\n",
              "    }\n",
              "\n",
              "    .colab-df-convert {\n",
              "      background-color: #E8F0FE;\n",
              "      border: none;\n",
              "      border-radius: 50%;\n",
              "      cursor: pointer;\n",
              "      display: none;\n",
              "      fill: #1967D2;\n",
              "      height: 32px;\n",
              "      padding: 0 0 0 0;\n",
              "      width: 32px;\n",
              "    }\n",
              "\n",
              "    .colab-df-convert:hover {\n",
              "      background-color: #E2EBFA;\n",
              "      box-shadow: 0px 1px 2px rgba(60, 64, 67, 0.3), 0px 1px 3px 1px rgba(60, 64, 67, 0.15);\n",
              "      fill: #174EA6;\n",
              "    }\n",
              "\n",
              "    [theme=dark] .colab-df-convert {\n",
              "      background-color: #3B4455;\n",
              "      fill: #D2E3FC;\n",
              "    }\n",
              "\n",
              "    [theme=dark] .colab-df-convert:hover {\n",
              "      background-color: #434B5C;\n",
              "      box-shadow: 0px 1px 3px 1px rgba(0, 0, 0, 0.15);\n",
              "      filter: drop-shadow(0px 1px 2px rgba(0, 0, 0, 0.3));\n",
              "      fill: #FFFFFF;\n",
              "    }\n",
              "  </style>\n",
              "\n",
              "      <script>\n",
              "        const buttonEl =\n",
              "          document.querySelector('#df-9c498d35-edea-4696-abff-d5602ee2d16a button.colab-df-convert');\n",
              "        buttonEl.style.display =\n",
              "          google.colab.kernel.accessAllowed ? 'block' : 'none';\n",
              "\n",
              "        async function convertToInteractive(key) {\n",
              "          const element = document.querySelector('#df-9c498d35-edea-4696-abff-d5602ee2d16a');\n",
              "          const dataTable =\n",
              "            await google.colab.kernel.invokeFunction('convertToInteractive',\n",
              "                                                     [key], {});\n",
              "          if (!dataTable) return;\n",
              "\n",
              "          const docLinkHtml = 'Like what you see? Visit the ' +\n",
              "            '<a target=\"_blank\" href=https://colab.research.google.com/notebooks/data_table.ipynb>data table notebook</a>'\n",
              "            + ' to learn more about interactive tables.';\n",
              "          element.innerHTML = '';\n",
              "          dataTable['output_type'] = 'display_data';\n",
              "          await google.colab.output.renderOutput(dataTable, element);\n",
              "          const docLink = document.createElement('div');\n",
              "          docLink.innerHTML = docLinkHtml;\n",
              "          element.appendChild(docLink);\n",
              "        }\n",
              "      </script>\n",
              "    </div>\n",
              "  </div>\n",
              "  "
            ]
          },
          "metadata": {},
          "execution_count": 41
        }
      ],
      "source": [
        "output_df.head(10)"
      ]
    },
    {
      "cell_type": "markdown",
      "metadata": {
        "id": "wqex7nW3yqZ0"
      },
      "source": [
        "#### Add pIC50 values"
      ]
    },
    {
      "cell_type": "markdown",
      "metadata": {
        "id": "Oipx_cGOyqZ0"
      },
      "source": [
        "As you can see the low IC50 values are difficult to read (values are distributed over multiple scales), which is why we convert the IC50 values to pIC50."
      ]
    },
    {
      "cell_type": "code",
      "execution_count": 42,
      "metadata": {
        "id": "IYP0V676yqZ0"
      },
      "outputs": [],
      "source": [
        "def convert_ic50_to_pic50(IC50_value):\n",
        "    pIC50_value = 9 - math.log10(IC50_value)\n",
        "    return pIC50_value"
      ]
    },
    {
      "cell_type": "code",
      "execution_count": 43,
      "metadata": {
        "id": "0xy1th6FyqZ1"
      },
      "outputs": [],
      "source": [
        "# Apply conversion to each row of the compounds DataFrame\n",
        "output_df[\"pIC50\"] = output_df.apply(lambda x: convert_ic50_to_pic50(x.IC50), axis=1)"
      ]
    },
    {
      "cell_type": "code",
      "execution_count": 44,
      "metadata": {
        "id": "cmp8bTslyqZ1",
        "outputId": "958c5242-8e18-4025-c8ec-9bed070a7ef9",
        "colab": {
          "base_uri": "https://localhost:8080/",
          "height": 206
        }
      },
      "outputs": [
        {
          "output_type": "execute_result",
          "data": {
            "text/plain": [
              "  molecule_chembl_id    IC50 units  \\\n",
              "0       CHEMBL303519  9800.0    nM   \n",
              "1       CHEMBL292943    50.0    nM   \n",
              "2        CHEMBL61682    25.0    nM   \n",
              "3        CHEMBL64487   360.0    nM   \n",
              "4        CHEMBL64597   300.0    nM   \n",
              "\n",
              "                                       smiles     pIC50  \n",
              "0   c1cnc(N2CCN(Cc3cccc4c3Cc3ccccc3-4)CC2)nc1  5.008774  \n",
              "1  COc1ccc(-c2cccc(CN3CCN(c4ncccn4)CC3)c2)cc1  7.301030  \n",
              "2  Fc1ccc(-c2cncc(CN3CCN(c4ccccc4F)CC3)c2)cc1  7.602060  \n",
              "3    COc1ccccc1-c1cccc(CN2CCN(c3ncccn3)CC2)c1  6.443697  \n",
              "4     c1cnc(N2CCN(Cc3cccc(-c4ccsc4)c3)CC2)nc1  6.522879  "
            ],
            "text/html": [
              "\n",
              "  <div id=\"df-0768c513-dcc0-4077-a474-860becb91317\">\n",
              "    <div class=\"colab-df-container\">\n",
              "      <div>\n",
              "<style scoped>\n",
              "    .dataframe tbody tr th:only-of-type {\n",
              "        vertical-align: middle;\n",
              "    }\n",
              "\n",
              "    .dataframe tbody tr th {\n",
              "        vertical-align: top;\n",
              "    }\n",
              "\n",
              "    .dataframe thead th {\n",
              "        text-align: right;\n",
              "    }\n",
              "</style>\n",
              "<table border=\"1\" class=\"dataframe\">\n",
              "  <thead>\n",
              "    <tr style=\"text-align: right;\">\n",
              "      <th></th>\n",
              "      <th>molecule_chembl_id</th>\n",
              "      <th>IC50</th>\n",
              "      <th>units</th>\n",
              "      <th>smiles</th>\n",
              "      <th>pIC50</th>\n",
              "    </tr>\n",
              "  </thead>\n",
              "  <tbody>\n",
              "    <tr>\n",
              "      <th>0</th>\n",
              "      <td>CHEMBL303519</td>\n",
              "      <td>9800.0</td>\n",
              "      <td>nM</td>\n",
              "      <td>c1cnc(N2CCN(Cc3cccc4c3Cc3ccccc3-4)CC2)nc1</td>\n",
              "      <td>5.008774</td>\n",
              "    </tr>\n",
              "    <tr>\n",
              "      <th>1</th>\n",
              "      <td>CHEMBL292943</td>\n",
              "      <td>50.0</td>\n",
              "      <td>nM</td>\n",
              "      <td>COc1ccc(-c2cccc(CN3CCN(c4ncccn4)CC3)c2)cc1</td>\n",
              "      <td>7.301030</td>\n",
              "    </tr>\n",
              "    <tr>\n",
              "      <th>2</th>\n",
              "      <td>CHEMBL61682</td>\n",
              "      <td>25.0</td>\n",
              "      <td>nM</td>\n",
              "      <td>Fc1ccc(-c2cncc(CN3CCN(c4ccccc4F)CC3)c2)cc1</td>\n",
              "      <td>7.602060</td>\n",
              "    </tr>\n",
              "    <tr>\n",
              "      <th>3</th>\n",
              "      <td>CHEMBL64487</td>\n",
              "      <td>360.0</td>\n",
              "      <td>nM</td>\n",
              "      <td>COc1ccccc1-c1cccc(CN2CCN(c3ncccn3)CC2)c1</td>\n",
              "      <td>6.443697</td>\n",
              "    </tr>\n",
              "    <tr>\n",
              "      <th>4</th>\n",
              "      <td>CHEMBL64597</td>\n",
              "      <td>300.0</td>\n",
              "      <td>nM</td>\n",
              "      <td>c1cnc(N2CCN(Cc3cccc(-c4ccsc4)c3)CC2)nc1</td>\n",
              "      <td>6.522879</td>\n",
              "    </tr>\n",
              "  </tbody>\n",
              "</table>\n",
              "</div>\n",
              "      <button class=\"colab-df-convert\" onclick=\"convertToInteractive('df-0768c513-dcc0-4077-a474-860becb91317')\"\n",
              "              title=\"Convert this dataframe to an interactive table.\"\n",
              "              style=\"display:none;\">\n",
              "        \n",
              "  <svg xmlns=\"http://www.w3.org/2000/svg\" height=\"24px\"viewBox=\"0 0 24 24\"\n",
              "       width=\"24px\">\n",
              "    <path d=\"M0 0h24v24H0V0z\" fill=\"none\"/>\n",
              "    <path d=\"M18.56 5.44l.94 2.06.94-2.06 2.06-.94-2.06-.94-.94-2.06-.94 2.06-2.06.94zm-11 1L8.5 8.5l.94-2.06 2.06-.94-2.06-.94L8.5 2.5l-.94 2.06-2.06.94zm10 10l.94 2.06.94-2.06 2.06-.94-2.06-.94-.94-2.06-.94 2.06-2.06.94z\"/><path d=\"M17.41 7.96l-1.37-1.37c-.4-.4-.92-.59-1.43-.59-.52 0-1.04.2-1.43.59L10.3 9.45l-7.72 7.72c-.78.78-.78 2.05 0 2.83L4 21.41c.39.39.9.59 1.41.59.51 0 1.02-.2 1.41-.59l7.78-7.78 2.81-2.81c.8-.78.8-2.07 0-2.86zM5.41 20L4 18.59l7.72-7.72 1.47 1.35L5.41 20z\"/>\n",
              "  </svg>\n",
              "      </button>\n",
              "      \n",
              "  <style>\n",
              "    .colab-df-container {\n",
              "      display:flex;\n",
              "      flex-wrap:wrap;\n",
              "      gap: 12px;\n",
              "    }\n",
              "\n",
              "    .colab-df-convert {\n",
              "      background-color: #E8F0FE;\n",
              "      border: none;\n",
              "      border-radius: 50%;\n",
              "      cursor: pointer;\n",
              "      display: none;\n",
              "      fill: #1967D2;\n",
              "      height: 32px;\n",
              "      padding: 0 0 0 0;\n",
              "      width: 32px;\n",
              "    }\n",
              "\n",
              "    .colab-df-convert:hover {\n",
              "      background-color: #E2EBFA;\n",
              "      box-shadow: 0px 1px 2px rgba(60, 64, 67, 0.3), 0px 1px 3px 1px rgba(60, 64, 67, 0.15);\n",
              "      fill: #174EA6;\n",
              "    }\n",
              "\n",
              "    [theme=dark] .colab-df-convert {\n",
              "      background-color: #3B4455;\n",
              "      fill: #D2E3FC;\n",
              "    }\n",
              "\n",
              "    [theme=dark] .colab-df-convert:hover {\n",
              "      background-color: #434B5C;\n",
              "      box-shadow: 0px 1px 3px 1px rgba(0, 0, 0, 0.15);\n",
              "      filter: drop-shadow(0px 1px 2px rgba(0, 0, 0, 0.3));\n",
              "      fill: #FFFFFF;\n",
              "    }\n",
              "  </style>\n",
              "\n",
              "      <script>\n",
              "        const buttonEl =\n",
              "          document.querySelector('#df-0768c513-dcc0-4077-a474-860becb91317 button.colab-df-convert');\n",
              "        buttonEl.style.display =\n",
              "          google.colab.kernel.accessAllowed ? 'block' : 'none';\n",
              "\n",
              "        async function convertToInteractive(key) {\n",
              "          const element = document.querySelector('#df-0768c513-dcc0-4077-a474-860becb91317');\n",
              "          const dataTable =\n",
              "            await google.colab.kernel.invokeFunction('convertToInteractive',\n",
              "                                                     [key], {});\n",
              "          if (!dataTable) return;\n",
              "\n",
              "          const docLinkHtml = 'Like what you see? Visit the ' +\n",
              "            '<a target=\"_blank\" href=https://colab.research.google.com/notebooks/data_table.ipynb>data table notebook</a>'\n",
              "            + ' to learn more about interactive tables.';\n",
              "          element.innerHTML = '';\n",
              "          dataTable['output_type'] = 'display_data';\n",
              "          await google.colab.output.renderOutput(dataTable, element);\n",
              "          const docLink = document.createElement('div');\n",
              "          docLink.innerHTML = docLinkHtml;\n",
              "          element.appendChild(docLink);\n",
              "        }\n",
              "      </script>\n",
              "    </div>\n",
              "  </div>\n",
              "  "
            ]
          },
          "metadata": {},
          "execution_count": 44
        }
      ],
      "source": [
        "output_df.head()"
      ]
    },
    {
      "cell_type": "code",
      "source": [
        "output_df.to_csv('D2_targets.csv', index=False)"
      ],
      "metadata": {
        "id": "giP2LWmE6h7r"
      },
      "execution_count": 45,
      "outputs": []
    },
    {
      "cell_type": "markdown",
      "metadata": {
        "id": "0ivM6vjgyqZ1"
      },
      "source": [
        "#### Draw compound data\n",
        "\n",
        "Let's have a look at our collected data set.\n",
        "\n",
        "First, we plot the pIC50 value distribution"
      ]
    },
    {
      "cell_type": "code",
      "execution_count": 46,
      "metadata": {
        "tags": [
          "nbsphinx-thumbnail"
        ],
        "id": "aAx6yaKHyqZ2",
        "outputId": "0cb75b02-9c3c-4018-f9c8-46310284fbc3",
        "colab": {
          "base_uri": "https://localhost:8080/",
          "height": 316
        }
      },
      "outputs": [
        {
          "output_type": "execute_result",
          "data": {
            "text/plain": [
              "array([[<matplotlib.axes._subplots.AxesSubplot object at 0x7f14e612b590>]],\n",
              "      dtype=object)"
            ]
          },
          "metadata": {},
          "execution_count": 46
        },
        {
          "output_type": "display_data",
          "data": {
            "text/plain": [
              "<Figure size 432x288 with 1 Axes>"
            ],
            "image/png": "[encoded data removed]"
          },
          "metadata": {
            "needs_background": "light"
          }
        }
      ],
      "source": [
        "output_df.hist(column=\"pIC50\")"
      ]
    },
    {
      "cell_type": "markdown",
      "metadata": {
        "id": "ukT0TRXxyqZ2"
      },
      "source": [
        "In the next steps, we add a column for RDKit molecule objects to our `DataFrame` and look at the structures of the molecules with the highest pIC50 values. "
      ]
    },
    {
      "cell_type": "code",
      "execution_count": 47,
      "metadata": {
        "id": "z1gcGz31yqZ2"
      },
      "outputs": [],
      "source": [
        "# Add molecule column\n",
        "PandasTools.AddMoleculeColumnToFrame(output_df, smilesCol=\"smiles\")"
      ]
    },
    {
      "cell_type": "code",
      "execution_count": 48,
      "metadata": {
        "id": "fYbeYBrLyqZ3"
      },
      "outputs": [],
      "source": [
        "# Sort molecules by pIC50\n",
        "output_df.sort_values(by=\"pIC50\", ascending=False, inplace=True)\n",
        "\n",
        "# Reset index\n",
        "output_df.reset_index(drop=True, inplace=True)"
      ]
    },
    {
      "cell_type": "markdown",
      "metadata": {
        "id": "88TxJ9hzyqZ3"
      },
      "source": [
        "Show the three most active molecules, i.e. molecules with the highest pIC50 values."
      ]
    },
    {
      "cell_type": "code",
      "execution_count": 49,
      "metadata": {
        "id": "BdMTudR2yqZ4",
        "outputId": "8c603994-72c7-408f-d469-f438495cf9fa",
        "colab": {
          "base_uri": "https://localhost:8080/",
          "height": 1000
        }
      },
      "outputs": [
        {
          "output_type": "execute_result",
          "data": {
            "text/plain": [
              "  molecule_chembl_id   IC50 units     pIC50  \\\n",
              "0          CHEMBL567  0.300    nM  9.522879   \n",
              "1      CHEMBL3885419  1.100    nM  8.958607   \n",
              "2         CHEMBL8514  1.100    nM  8.958607   \n",
              "3       CHEMBL267930  1.270    nM  8.896196   \n",
              "4      CHEMBL1255837  1.474    nM  8.831503   \n",
              "\n",
              "                                               ROMol  \n",
              "0  <img data-content=\"rdkit/molecule\" src=\"data:i...  \n",
              "1  <img data-content=\"rdkit/molecule\" src=\"data:i...  \n",
              "2  <img data-content=\"rdkit/molecule\" src=\"data:i...  \n",
              "3  <img data-content=\"rdkit/molecule\" src=\"data:i...  \n",
              "4  <img data-content=\"rdkit/molecule\" src=\"data:i...  "
            ],
            "text/html": [
              "\n",
              "  <div id=\"df-f3166f7f-dff4-4229-8845-8953b4a31e62\">\n",
              "    <div class=\"colab-df-container\">\n",
              "      <div>\n",
              "<style scoped>\n",
              "    .dataframe tbody tr th:only-of-type {\n",
              "        vertical-align: middle;\n",
              "    }\n",
              "\n",
              "    .dataframe tbody tr th {\n",
              "        vertical-align: top;\n",
              "    }\n",
              "\n",
              "    .dataframe thead th {\n",
              "        text-align: right;\n",
              "    }\n",
              "</style>\n",
              "<table border=\"1\" class=\"dataframe\">\n",
              "  <thead>\n",
              "    <tr style=\"text-align: right;\">\n",
              "      <th></th>\n",
              "      <th>molecule_chembl_id</th>\n",
              "      <th>IC50</th>\n",
              "      <th>units</th>\n",
              "      <th>pIC50</th>\n",
              "      <th>ROMol</th>\n",
              "    </tr>\n",
              "  </thead>\n",
              "  <tbody>\n",
              "    <tr>\n",
              "      <th>0</th>\n",
              "      <td>CHEMBL567</td>\n",
              "      <td>0.300</td>\n",
              "      <td>nM</td>\n",
              "      <td>9.522879</td>\n",
              "      <td style=\"text-align: center;\"><img data-content=\"rdkit/molecule\" src=\"data:image/png;base64,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\" alt=\"Mol\"/></td>\n",
              "    </tr>\n",
              "    <tr>\n",
              "      <th>1</th>\n",
              "      <td>CHEMBL3885419</td>\n",
              "      <td>1.100</td>\n",
              "      <td>nM</td>\n",
              "      <td>8.958607</td>\n",
              "      <td style=\"text-align: center;\"><img data-content=\"rdkit/molecule\" src=\"data:image/png;base64,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\" alt=\"Mol\"/></td>\n",
              "    </tr>\n",
              "    <tr>\n",
              "      <th>2</th>\n",
              "      <td>CHEMBL8514</td>\n",
              "      <td>1.100</td>\n",
              "      <td>nM</td>\n",
              "      <td>8.958607</td>\n",
              "      <td style=\"text-align: center;\"><img data-content=\"rdkit/molecule\" src=\"data:image/png;base64,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\" alt=\"Mol\"/></td>\n",
              "    </tr>\n",
              "    <tr>\n",
              "      <th>3</th>\n",
              "      <td>CHEMBL267930</td>\n",
              "      <td>1.270</td>\n",
              "      <td>nM</td>\n",
              "      <td>8.896196</td>\n",
              "      <td style=\"text-align: center;\"><img data-content=\"rdkit/molecule\" src=\"data:image/png;base64,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\" alt=\"Mol\"/></td>\n",
              "    </tr>\n",
              "    <tr>\n",
              "      <th>4</th>\n",
              "      <td>CHEMBL1255837</td>\n",
              "      <td>1.474</td>\n",
              "      <td>nM</td>\n",
              "      <td>8.831503</td>\n",
              "      <td style=\"text-align: center;\"><img data-content=\"rdkit/molecule\" src=\"data:image/png;base64,iVBORw0KGgoAAAANSUhEUgAAAMgAAADICAIAAAAiOjnJAAAABmJLR0QA/wD/AP+gvaeTAAAgAElEQVR4nO2dd1xTVxvHf0kIEJYMyxREnChuRCvaWsUOC05cbXH0VdxRay2OWrStglptWlsVZ9G3tqJ14BYRlbaIREVFEaWiICBDhsiKSc77x8G8FCFkXQJyv3/4weTc5z43+eWcc899nudwCCFgYdE1XH07wPJ6wgqLhRFYYbEwAissFkZghcXCCKywWBiBFRYLI7DCYmEEVlgsjMAKi4URWGGxMAIrLBZGYIXFwgissFgYgRUWCyOwwmJhBFZYLIzACouFEVhhsTACKywWRmCFxcIIrLBYGIEVFgsjsMJiYQRWWCyMwAqLhRFYYbEwAissFkZghcXCCKywWBiBFRYLI7DCYmEEVlgsjMAKi4URWGGxMAIrLBZGaE7CKirCkycA8OABJBLk5+PUKWRm6tut15PmJKzbt3HhAgDs24eUFCxZgjfeQGgo7t7Vs2OvIwb6dqBhiYzEw4eIjYWNDQIC4OmJFi0QGYlOnfTt2etGMxOWnx/Gj8eLFzAzQ1ERABQVwdxc3269hjQnYXG5MDAAlws+H++8g3XrkJSErCyEhOjbs9cQTrPemYIQ/PMPli3D9OkYOlTf3rxWNKce61U4HOzfjwMHcOcOEhNhoPKnce0aIiLA4WD4cLz5JpMuNllIM6eigrRrRwCyeXP9jYuLyc2bhBDy6adELieEkKlTmXWvydKclhtqxcgIoaEA8NVX5Hlhnc0IwZ496NgRo0ahshJ8PjgcADA0bCA/mxrNXlgAxoyRTZ/w+Dvnx4Wram/w55/o0weTJ+PJEzg4ID8ffD4ePUJWVpW8WF6heU/eX1Jefjs5uQcAd/frAoGH4nWJJCMz8wuXScm8P2/A2Rnr1uHNNxEcjOBgnDwJuRxTprCrFbXCCquK9PRZeXlbLSx82rePAiCXl+XkrH/yZJ1cXmaT0d01cSTmzsVPP2H9epSVITAQYWH6drlR07zvCqvh6Ph1QcHvz55Fl5Vd5/Fa3Lv3jkSSDnCsrMY7dl37ouVVfq9eyMgAh4MJE/Dll/r2t7HDCqsKA4M3WrcOMzR05nKNJZJHPF5LExMbZ2cRl2uWlhYgld7pUiJFr14QiTBwoL6dbQKwQ+G/qKxMe/JktbV1gIGBrYFBi6ysFfn5vwByPt+uvWSjoNcEcNnbHZVge6x/YWBgKZUWSKW55uZvPXw49enTcA7H0NZ2voPDlzyehb69a0qwPVYVz56dy85e1bbtUQMDy9zczYaGLiYmPR4/XuTktMbIqL2+vWt6sD0WKiruZGQsePYsCkBOTiiXa1FZec/cfBCPZ25s7M7nt9K3g02SZi0smazwyZO1OTnfEyLh8azs7YPs7BZyOIaEyAgpT00dWVISzeHwHRxW6NvTpkczHQqlUum2bdt69jxoaBjD4Ri0bBno6Pi1gYENgLKyaw8fTjU19bKxmZKSMpDLNe7S5a6hoYu+XW5iNMd7nOjo6J49e86ZM2fJkjRz83fd3a+5uPxMVQWAx7OoqEjJz9/F5RpZWfnL5eWZmcv063CTRK+PwBua9PT0gIAAeuHOzs7h4eG1NsvIWCQW4+7d/pWVD+5Gt64Y503+/ruBXW3qNCNhXblyxcjICIC5uXlISEhFRUVdLaXSosRE28TLxhVXD5OvVhCA9OlDZLKG9Lap04yEJZPJvLy8xo4d++jRo3obl9zcK2/dirRuTfLziYsLAcju3cz7+PrQvCbvFRUVxsbGKjWVy9G3L8RirFqFtm3xySdwcEBqKkxMGPbxNaF5CUs9/voLAwfC2Bh37iA4GOPHY9gwffvUZGiOd4Wq4u2NsWNhZITkZHz7LSoq8OCBvn1qMrDCUopIhHv30LUrVq+Guzs2bUJysr59ahqwQ6EK7N0LNzd4e+PePZw8iQUL9O1QE4DtsVTA0hL5+QCQlwcrK3170zRgeywVkEoRFARLSzx9ijVr2BtDVWCFxcII7FDIwgissFgYgRUWCyOwwmJhBFZYLIzwOgurrKxMJpPp24tmymsorNLS0mPHjk2aNMnOzu7zzz9fsGCBXC7Xt1PNjtdnHSsvL+/IkSOHDh06f/68RCIBwOVyuVyuVCqdMmXK9u3bDVSvq8aiPfoMBtMFGRkZYWFhvr6+fD6fXhGPx/P29haJRI8fPz537py5uTmAoUOHPnv2TN/ONiOaqrDS0tJEIpG3tzfnZYUqhZ6ysrLi4+NXr15NW165cuWNN94A4OXllZubq1+3mw9NT1i5ubndunVT9LgmJiZjxoz59ddfCwsLY2Njg4KC2rVrR9+6fv06PSQ1NZW+6O7urkpcMov2NDFhSaXSoUOHWlpampqa+vr6hoeHP3369PTp04GBgba2tgq1OTs7C4XC1NRUxYHZ2dk9evQA4ODgkJiYqMdLaCY0MWFdv34dgIuLS2VlZUlJSUBAgKWlpUJP7dq1CwoKio+Pl9PKs/+msLDwrbfeAmBpaXnp0qWGd75Z0cSEtXXrVgAff/wx/a+bmxuAzp07BwUFxcbG1nt4RUXFuHHjABgZGR04cIBhZ5s1TUxYU6dOBfDjjz/S/0ZHR9+7d08tC1KpdObMmXSyHxYWxoCPLIQ0OWF17twZQHx8vJZ2QmkJbiAoKEgnjrHUoCktkJaUlFhaWvL5/OLiYprTrA1bt26dM2eOl5fXpUuXFGtgLLqiKT3SuXLlilwu79mzp/aqAjBz5kxPT8/Lly8fPnxYe2ssNWhKwoqPjwfQt29fbYxIJBJfX99Vq1bJ5fIHDx4A6Nevn278Y6lGsxPWjRs3Tpw4ERERkZaWlp+fb29v7+LC1r7SPU1JWAkJCdBaWAp1Xr58WXtrLHXRZIT16NGj7OxsGxubNm3aaGNHISyd9H8sddFkhEV10K9fP452+yLpV1gPHz48cOAA7Xpfb5qYsLTUQUFBQWpqqomJSfv27W/cuMHlcj09PXXkoEqcP39+3Lhx9PnB602TFJZcLr9x44YGRq5cuUII6d27d1JSUmVlZefOnS0s2G0BGKGxC0smk124cEEoFF6/fp3D4dDol0WLFnl5ef3+++/qWtP7BIsuR2s5mjcJGmm0rkwmi4uLO3DgwIEDB7KzswFwOBxCiJ+f36lTpwBIJJKPP/44Ly9v3rx5qptV6IkuirLCYhC9PlCqSXl5eWRkZI1gmDZt2giFwiNHjlQPqBKJRFwuF4BQKKw1SOZV5HK5jY0NgPT09LZt2wK4ceMG01dUg+3btwOYNm1aA5+34WkUwiotLaV6Mq+2W+mrwTCKgCorK6vY2Ng9e/bQZ3yTJk2SSCSqnGXu3Lnvv/9+fn4+h8MxNTV98eIFk5dVC7t3/+7s7DZ//lIlbZ4+fbp+/XpCyNGjR/9usmXA9Sms3Nzcs2fPfvjhh4pnfxwOp2/fvmvXrr1//36th1RUVIwdOxaAkZHRwYMHo6KiqBb9/PxKS0tVPO/x48cBDBo0SHeXoiphYQQggYHK2uTl5X322Wfp6elbtmy5cOFCQ7mmY/Q5xwoICPjzzz9LS0u5XK63t7efn5+/vz8dpOrCyMjot99+s7Gx2bp16/jx4zdv3hwdHf3hhx8eO3Zs8ODBx48fb9mypfKTlpeX79mzB417aTQtLS0mJub27dvu7u769kVT9KvrlJSUOXPmPH78WN0DaUAVh8MJDg6+c+cOfd7Xr1+/uuZbitGWri/4+/vrJTp561YCkBkzlLXJy8tbuXIlISQiIqLp9liNYo6lGTt37qQ5qFSanp6ep0+frtEmPz9/165dvr6+ivLuHA6nT58+x48f14vPW7YQgMycqaxNRUXFwYMHxWLxyZMnMzMzG8o1HdOEhUUIOXz4sEAgADBq1Kjqc6y8vLzw8PDqWax0tA0NDa1r9tYwqCKsQ4cOGRkZWVlZGRsbh4SENJRrOkZvc6znz58TQqrfBmrAyJEjT506NWLEiMOHD/v6+m7atOncuXPHjx+/cOGCVCrFyyzWsWPHjhs3zsHBQUe+aw4N11W+jGVubi4QCAoLC01MTKovuzQx9KXoQ4cOmZmZLVu2THtTiYmJNUQjEAhGjBgRHh5eUFCgvX1dIZWSXbtIQQFJSCBPntTZ7P79+/T31qJFi1cH96aCPmPeX7x4UVJSYm1trb2ptLS0sLCw2NhYFxeX0aNHDxs2zNTUVHuzuqWyEl27YscOpKWha1f06lV7M4lEYmpqKpVKzc3NxWJxhw4d6jJI71TkcnkjjNlXWViXL6OoCIMHw9CQYZdeWyorsXIl8vPRty969apTWAAsLS2Li4sNDAxKSkrq2lXq4sWLCxYs8PLyiomJ2bhxo6+vL1N+a4RqD6FFIjx6BAsLCIUM+/N6cu8e/PwQFQUuF3PnYvt2PHmCgQPx55+1t3d0dARgZmZWq6rS0tLGjh07aNCgxMTE/fv3379/38/Pz8/P7/79+4xehXqoNGAqFl4WLCBlZToZgzMyMnRip5Hz9CkRCgmfTwDi7U1++okQQlauJOPGEYBwOCQggLy6pPDhhx8C6NKlS43Xnz9/HhwcTNVmYmISHBxcXFwsEolatGgBgM/nC4XCoqKiBrmyelBNWNOnV+0vOmMGkUpJSgpZuJBo96Cta9euDVSwqqyM1L2ZKnO8eEHCwsgbbxCAcLkkIIDk5Pz/3dJSEhxMBAICEBMTEhxMysv//+6iRYsAjBgxQvGKXC6PiIig68AcDqfGdp75+flCoZDH4wGwsbERiURSqbQhLrJuVBPW33+ThQvJV1+RHTuIVEq6dCEA8fPTVe/FIGFh5OuvyYoV5L//bcjTnjlzZvjw6QABiI8PuXWr9mYPHpAxYwhtNnr0ycOHD9PXN2/eDGDJkiX0v/Hx8W+++SYdYfr06fPXX3/Vau3atWsDBw6kzXr16qVKMQvmUHO5oaiIRESQK1eqfol9+5K8PGYc0xHTp9f8g2FSUlIU8+iRIyOPHq3/kOho8v77xQYGxgB8fHySkpJOnDgBYMeOHRkZGQEBATR+y8nJKTw8vN4YocjIyNatW9fasdVLTk7OjRs3zp49q/ohdaGOsKRSMmgQ4XDIt9+S5OSqnZLd3Ul6uvZ+6BhFV6qYHSqPKNAFJSUlwcHBNFLDzMwsODhYyX7mNZDJZOHh4bTyoIGBAY3gmD59upmZGZ1OBQUFlZSUqGittLQ0ODiYPpOgU7HylwNtWVnZP//8ExsbGxERIRKJgoKCAgICfHx8OnfuTM8FgMvlTp8+PV27r1XNHmvXLmJgQAAyZw5JTyceHkQg+MrH5/bt2yoauH//fmho6KVLl65evaq2syqSk0O6dCEbNhBCyLffkr17yfbtRCRi6nQvGT58OAAejzd9+vSc6vMplXn69OmcOXOqF+HlcDgfffSRZt9xWlramDFjqJ22bdt26tSp3rU9a2trDw8PJycnABMnTtTgpArUX3k/cqRqzjlqFMnO3hkQQB1SHpKWlJQUGhrq7e1NL8DNzY0GVGnueF3k5REPDwKQHj2q+q2kJJKSovsT/Zu9e/c6OTm5uroq6lNqTHJycrdu3aytrZ2dnbWfJ8XExDg7O9vZ2dFP3tjY2MHBoXfv3mPHjhUKhaGhoeHh4VFRUUlJScXFxcXFxYSQjIwMU1NTDoejTQCIRo90LlwgLVoQIHLatNzcXH9/f9rlHjt2rHoruVweHx8fFBTUvn17xW/C0tLyk08+obfTPB5v27ZtGrteC0VFxNOTAKRjR5KZScaPJw1Vpeinn34CMGfOHJ1YW7t2LYAvvvhCJ9a+/PJLAHPnzi0sLCwvL8/MzBSLxa8OhRYWFiYmJvSQr776it4ByOhqgPpo+qwwMfGcnx+Anj17ZmZmzpgxQyEUmUxWo8gsvQcOCAiIjIysrKykBqoHVGnow7+RFxcTL68qVT1+TCZOJACxsiLqB3tpwKZNm+iXpxNr9MPRVe0uqpJVq1YRQqpXan0Vc3NzGhxQVlZGlzZ++eUXzU6qaXRD9+5tf/yx4717169fHzBgwOnTp11dXZcuXbpjx44vv/wyNzeXtnJ2dh41atTo0aMHDBhAV1kUBAUFmZubz5s3b9WqVYR0DA6eyNUiFa2srGzEyJHb+Pw2rVvj9GmsWoXffoOFBU6fhpOT5nZVhjTi9JvqvrVp08bU1NTR0dHJycnBwaFVq1b29vZ0rHR2dlZMwgQCwZo1a6ZMmfLHH4/GjMHLab2aZ9WYp0+f0vUVOzu78PBwxUDu6uoqFApjY2PrvTc+fPiwh8fEFi3ko0f/a4VQLUpLSwcNGgSgvZtb5cOHZNasqmXHixc1tKg+P/74I4B58+bpxFpISAiqrWNpCR0Kv/nmG7WOksvlI0bcB8jy5ZqcVNuwmZKSknfffRcAfc6wcOFCdXOqzp+XWVhULSRqsBRfWVk5bNgwAE5OTqmpqV8sXnzrrbeIQEDOn1fblhb88MMPAIRCoU6srVmzBsDSpcqSeVRHM2ERQsRiwuUSIyOiQXCktpnQZmZmx44d++KLLyoqKmxtbTdu3Fi9ur8qvPMO96+/4OSEc+fg7Y2sLDWOffHihb+//8mTJ21tbc+ePbtly5Z169f3TUjIPXEC77yj3pVoB2kiQ6Fa9O6Njz9GZSWWLlX7pDpIsTc0NOzevTsAxWMHdfHwwKVLaN8et25h0CCUl6t6YGlpaW5uro2Nzfnz5/ft27dhwwZDQ8Pf9++3bVhVQdfCajzWQkJgZoaDB3HxonoH6iY0WftSCG5uiIuDnx/8/eHvj8OHcfEibG3RvTtycpCTg4wMPHmCzEzk5s5PT0/LysrKysrKycmRy+Xjx4//9ttvf//9dx6Pt3fvXj8/v3pP9+wZDh3ClCm4eBEtWqBHD40dZ4TG0/85OSEoCCtWYP9+vP22Ggc2FmEBsLHBhQswNMSFCxCJ4OqKq1fh5QWJ5F/NnJ2PZWSk0b+5XG7Lli33799vZGTE4/H27dtH9weolxcv8PAhAOTlQSchtI1HCq+ipW+LFsHNDQIBAFy+DELQoQNsbBAdjSFD6jxKB8KqrCQvXggEAoH2taZodGqHDigrw4MHsLCARAJrazg6wskJ9vZwdoar6/qWLQ3s7e1btWplZ2dnYGDQp08fsVgcFBSkoqoosbFYvRq3byMwUEuvgcY0eOncmkCAfv0wfDjc3RETAy4XLVrAxgZHjjAsrBs3ONeuxXTrJrWw0FnOz+LF8PbGpk0oL8crQZRjavx/3rx5kydPPnnyZEhIiOof38CBWL4cBw/qwFud0wj7v08/xcaNoGU6t23DG28gOVlZex1M3i9fBoA+fepU1blz5wA8f/78ypUrqhh0d4eREbZsgZvbq6qqhYkTJ7Zq1erWrVsxMTEq+mxiAlqEu0MH6KRociOUggKd+GZkBH//qt9hYCCWL4fy7H8dCCs+HgCUzK+OHDkCoKioSJUvPicH06bBxQX9+qm6Zs7n8+n2ON9//71KBwA8HqZNQ14eEhNRWKjiQcpoVIOXbq2FhaG8HLa2ePdd9OsHe/uq+Zarq7KjdDB41SusBw8erF69+tmzZ6pkelFrnTvXk9VZg1mzZoWEhJw4ceLu3budOnVS5ZAPP0RoKLp3V+MsSqisrARw+fLl8vJyGgilMTKZTCwWA7h+/bpcLudq86gLIITcuXMHAP1XXUQiLFyI7t0hFgPAzz///61Fi+o7sTbk5xMOh5iaKouAp8/8MzIyQkND6zW4bBkBiAZ5rIGBgQBmz56tvFlZGXnzTZKTQ5YuJdu3k8BAEhdHdu3SPII/Ozt78eLF5ubmNIypVatWqsR51kVMTAytL0fL5vTs2fOiFg+mxGLxgAEDANCnbYMHD75VV5R0bfz2G+FyCYdDdu9W+9TaCisxkbRtS956S1kbWkYsJydnz5499RocMoQARJWI3hrcvXuXy+WamJjk5+crbzljBhEKydKlRCYj3t5k/vyqkIiTJ9U7Y0pKyrRp0/h8PpfLXbZsWVxcnGLB5e2331Z3H9d//vlHEZfn6uq6cOFCRYTxhAkT1I31y8zMnDRpEh3+HBwcAgIC6HDB5/Pnz59fWFhYr4XoaGJkRADy3XdqnbkKrYR1+DC5coUQoixT4ejRo61aterTp4+/v3+9n45MRgO9SFaWJv68//77AGrtF/PyyMtMBZKbS7p1q0q6KioiR46Qtm0VGQ3kwYN6ziKXy8+ePTtgwABDQ0MATk5OYrH4pf8yxcN4LpcbEBCgSijpq0ldZWVlhJCysrLQ0FAaMSwQCFSMTq6srBSJRDRJ39DQUCgU0vC9goICoVBIw1Otra2VZ/Jcu5ZvZkYA8vnn9Z6wdrQS1rJlZNo0IpGQ+fPrbPP111/T342xsXG9IaPJyUV2dpkuLhr6c+bMGfpNv1o58vFjYm39/4epNUaqigoSEkLoR2lsTNatu07DkmpQWVkZERHh7u5Oi2wZGxv7+/u/+mUXFhYGBQVR2VlZWYWGhiqi0Gogl8vDw8Pt7e3xSu7Dr7/++tLzx4p8inrH2cjISMXOHb6+vv/88w99XSqVTpw4MTo6Ojk5+b333qMNevToUes4m5qaamdn99Zbf3zyCdE0zk8LYVVUkGXLSFwc2bhRmbDWrFlDI7GMjY2zs7OV29y9ezeAyZM1z6ihj8AV3wohRJFH8McfRHmSbFYWCQwkZmaljo4ujo6OYWFhivjJ4uLiDRs2WFtbm5iY0AHFzMxs3759SqylpKTQsAsAHTt2PPnKQKs8qSsgIKBGY+Xj7NWrV2mBVjozq1GxbdeuXfStMWPGPHjwoIb+0tLSqn0IWfStDz74QCLRPHVUE2HR7N5OnUhQEKmoIMuXkylTSE4OqfVnuW7dOlqywsHBoV7LNBJ1A82D0IgdO3YA6N27N/3vtm3blqsZT5SQkObl5UU/9P79+584cWLGjBkmJiaKIDhTU1MvLy8VqxBGRUUpyj0quhANkrpI3eNsXl5evdmqEolEJBLRjpaOjzk5OaGhoXTEVIyzxcXFPXv2pEJXPSmoVtQTlkRCRCJiZUUAYmBAvvmGvHhBiorIhg2ke3cyeDApLq55yPfff08zoiZMmFCvfRol8eeff6rlVXVo9A4A2smXl5drkBMsl8t/+eUXWhqJw+Eobvg5HI6Jicnq1avVigSvqKhQfIXGxsZvv/22IjFr5cqVqtfkpRQWFi5YsID+Vq2trUeOHKmYTi1evLj41S+gGllZWYGBgfRyHB0dw8PDHz16NGHCBCpxFxcX+vm3a9dOsyyj6qghrKioqvwXgAwZQm7e/P9bSUnE3p4AxNOT1HBp06ZNxsbGZmZmu3btUm6/tLTUwMCAz+er+1lXJzs728nJycnJydPTs66ZjYo8f/581qxZfD6fTnh5PJ6jo6PGWWuKL7Vbt250OvXw4cO6GickJISFhSlJ+ElJSaEJKXSNw8fH586dOyp6kpCQ0L9/f8UQ/Pfff8fHx9PdQK2tre3t7auPjBqjkrBodm///o8A0r49iYiopc2DB6RDBwIQNzdSfWP5LVu20HGk3u3mL168WH0U04C7d++6urrSORCAzzW+pXkJzQeZOnUq/RroVjzacPny5fv378fFxSlvdvTo0cDAwHqrro0ePRpAoPq5uDKZbPfu3fSmgcvlxsTEyGSyd955B8CKFSvUtVYr9QiL3qPS78nd/b2NG+VKKvU/eUJ69SIAcXAgN25UldLbsWOHkZGRhYWFkrM8evRIJBJ5eHjw+XwPD496F6JqJT4+nmYSe3l5nTlzhs/nczicEydOaGBKweDBgwGcPHmSZkRqaU3nfP755wDWr19fVlZWUFBQrmbWAF3m6NevH50tzJ49G8DPP/+sE9/qFBadKtL5iupLMiUl5L33SN++RywtLc+cOUMICQ8P53A477777quNk5OTV69e3bt3b7yELuJZW1v/9NNPam0bcfv0aXq/5uvrS0fSb775BoCtrW29t6JKoH3V9u3bAwMDHczMDmzfrrEpJqBFab777jvFHxoYUcxBZ82aBWDz5s068a3O51C3b9/+9NNPc3NzhwwZkpiYuGfPHuUpaRQzM0RGol27Q0VFRcOHDz948CCPxyOEfPDBB9Utr1y50tPT093dffny5VevXjUxMfH19Q0PDz979uywYcMKCgrmzp3btWvX06dP13tGAPjll84jRqzq1m3y5MmHDh2iClu2bNngwYNzc3OnTp1KNI3lC+rWLbtv37H5+ZvbtMl6/tw/NVUzO2pBCFm7du3atWtVf6ZOtHjMXCMtT2fUpTiaULV27VoN1CqXy2kvzeFwAgICAIjF4qSkpODg4OoVNa2srAICAiIiImqsRh45coTuT9HCwqLok0/qWQtftYreUEhXrqxx0/748WO6K9MPP/ygwVUQQsiuXQQgkyaRvXsJQLQrZ6AiMpksKCgoKCio3unOZ599BmDDhg0LFy4EsHHjRm3OSyNEtmzZoo0RBXUK6z//+Q8AkRa1NNasWUN/Q1wul9Y+pDg4OMyaNSsqKqrGYHf27Nk//viD/l1RURESErJ56NCqtfDly8mrS+FSKZk5kwCExyN1dOCHDh0CYGRkpGFJhehoApC33yaXLhGA9O+viRE1uX79+t69ewkhP/zwg/IiRAo96URYdBFx69at2hhRUOdQ2KdPH7zcOF4zli5dunv3bh6PJxAIsrKyXFxchEJhVFRUenr65s2bfXx8qpdVAUBTcunfRkZGS5YsmRUejsBASCRYvRodOmDPnn8FqC9diq1bIRDg4EHMmlWrD6NGjZoxY0ZlZeVHH31UVlam9jW0bg0bG5ibo2NHzJ+P//xHbQvqI5PJMjIyUlJSsrKy5HK5KoeQxhdmWGc8Fl19VjHmsy7Mzc1lMpm5uXlMTAxVqhK6du1a8yUHB4SFYepUzJ+PK1cweTLs7ZGRgexseHhg4UJER0MkwssydrUiEoni4uJu3ry5cOHCsLAw9S6gbVvk52PvXoSFwcwMo0apd7imPLsrfqgAAAXwSURBVH78+NatW3QHUCUo9KQTYelWnXX2WB4eHgKBIDU19enTpxpb37hxI4Bly5bVqypl9OuHuDjs3o2PPkJZGSws8OWXSEpCYSHEYuWqAmBsbLxv3z6BQLBt27b9+/erffYnT3D3LlaswIwZEIk0vAQ18fT09Pf3rzf1V7dSaCBh8fn8Hj16EEKuXr2qmemEhIS//vrLyspKscCojKgoDB+O3bvrcJOLKVPw66+4eRO0yFb//rh1S8Uw0y5dutDCQDNnznz06JHKVwAAyMpC69YA4OyMl8VOGKV9+/ZDhw4FMHr0aEU5DOU0paEQgJeXV1xcXEJCAq3OoC7r168HMGPGDDNVipV07Ypp01DfboPo3BliMYYPx9WrqLaEUS9z5849d+5cZGTkyJEjlyxZwuPxFNvUmJub09mesbFxu3btFLtyVtGxI37+GVOnIjpaWc1/3WFhYUGfFisCEOqiMQ+FyoSlzfz94cOHhw8f5vP5c+bMUekAe3sMH15/s9Gj8fPP+OYbuLnBw0N1fzgczs6dO9u2bVtQUDBhwoS6monF4uoLtgBgaorFi/Hdd3B1xbRpqp+xAWjMQ2E9PRZeZjmrCw3emDRpUqtWrTR0rVa4XKizbX11SkpKSktLS0tL/fz8DA0Ni4uL6evPnj2TyWQAysvL6eJqTTp10qQsRgMyfPhwJycnxaNl1cnOzhaLxaoUJVAbJUsRim3f1d1Fori4mHbm165dU+mAixdJly7kvfcYLUErFAoBTJ48mblTNDBz586Fpsu/NILZwsJCIBDQ1TI6Fd65c6dOfKvnITSdXSnWLVVk3bp1AIYMGaLqAaWl5LffyI4dJDa2ap29vFzDuPc6UGhd++KzjYedO3d27drV2dn51KlTah148OBBNzc32rOMGjUqPT09KirKzs6ud+/e6pqqi3qEtXz5cqhZWk4ikdDyla8G49aJUEhOnCCbNpGdOwkt43nvnm57L1rV08fHR4c29Y5MJuv+MjHS399flTiqO3fuKGLe3d3dT506dfPmzSEvazB89NFHuvKtHmHRJObBgwerbvG///0vgI4dO6oaZllaShYurPp7xgwybBjZtIl89ZUOhSWRSOiavq5+jo2HV2OO69qhqPp+OzRLJzc3t0bejloRJcqpR1h08dfExOTSpUvp6emvZr+8Cr2X3LFjh6ouSCSEZpnK5WT6dDJzJikqIteu6VBYe/fuBdCpUyeN80gbOZmZmTVijmtc6cGDBxU7hH322We5ublhYWE0J9bAwCAwMDA3N1e3LtUfQTpixAg6hadYWVl17tzZx8cnMDAwODg4LCwsMjJSLBbT3czOnz8PwNbWVr2gsw0byJo15LPPSEwME0MhTRBQQ+tNk4SEhOppP9XjVG/fvm1gYEA36omKiurSpQtt5uPjo1ZutOqoFJo8efLkvn37Ojo6Ko/dsbKyoj+LlStXqu1IRQWhEWeKAVTjlLZ/o6HWmyY1EhUDAgKevNx9Ojk5ufoGUh06dIioNcZcR6id/lVQUCAWiyMjI8PCwoKDgwMDA+m+Bor96NetW6fzflUbaNLB119/rW9HGg4ac1x9u6js7GxFDq2lpWVoaKjqG0hphi53saebkunQoPbQgg4CgSCvkW9/xwCKTB4ANCnSwMBg9uzZDfNR6FJYjRBagmbmzJn6dkRvnDt3zsPDY/bs2YMHD27In73Ku9g3QfLy8lq3bl1RUXH79m135fXnXmtotKCWdbbURWdVQxshYWFh5eXlvr6+zVlVaHBJUV5nYQmFQlNTU5rjy9LAvM5DIYse0UMnydIcYIXFwgissFgYgRUWCyOwwmJhBFZYLIzACouFEVhhsTACKywWRmCFxcIIrLBYGIEVFgsjsMJiYQRWWCyMwAqLhRFYYbEwAissFkZghcXCCKywWBiBFRYLI7DCYmEEVlgsjMAKi4URWGGxMAIrLBZGYIXFwgissFgYgRUWCyOwwmJhBFZYLIzACouFEVhhsTACKywWRmCFxcIIrLBYGIEVFgsj/A9LKv3Y9pRx7wAAA4t6VFh0cmRraXRQS0wgcmRraXQgMjAyMi4wMy4yAAB4nI2SW2hURxjH58y57NlL9r5J1k2yZze7m7MnbdrEBAUvOyuJksU3Lw+KcNQSji9qSV/0QZS0okbTFHcVKlixbRrwjg+JEnMmiIqoqOAd0a7xwVuILSptLNRzvpNEvJQ6MHy/+c//++YbZkYHD91DxihB1mCM2WTMGcbcyAhINTXWiuzbtZQwI2dDmqljY0M2gROtiAWp0YiY4awMjK0MzAnEMgoEMo2SHwHLYiPT4VD2g53J+E5xsx3J1N/tGmMR5EmXaG0zky1NVHkv2qy7sP9/t0+50/vwn9XHm/dC08KE/DZazTOwRh9Ep/GCDDbyjZIc5niJF2Rs4znGJiLRjuwO5HBq2OlSXSUaLnGrbo/q8apen4Z9ftUXQIEgCoZQqBSFyhBbjsrDKDyFw+EIilSgikpUWYWqoigqSVJMxlIcxas5XJ1AiaSGkyk1VaPhGlmV0xqOK0iplWo/k/HndajuCxHXfWnMelTLojIbUsIoaEfRCEonVL9D9bs1bG/gcHAqx0QaOSYoCqI9GCqzCU5Xidvv4D1uv88rBIJ2h9/Hl7O1SpiviESrKgUproQjUSGZqpHTibLN2PrAMJqSv84arGsLUHMx2FPQT8X8wLOaHuqdJ1cBN7hYun7/Ft3ktbGMnpr/y6DJqSeuzOqOraCPvlIyIzkW/Po/zzKvLv8GnpZNrWT5V9vAs2NFFzmz4ADo6GEfWdTSCfqW032ksD8Jua+bi+TcnUXA7e181hNIAR/p4LOtqe3gv783lK1fs32myX8ctGe1E70Zk1f2FMloax746XdFkr95GM56nugnC06+AJ3v6CLDSgE4yebIvD0vgUubc2THpSXE5J82jGRuOneBXvF9jq5fxkEPzPku2p3rhR4GRnbSc7ungp5fN0AvVA+D3lh5hR5XWkH/5sa/dGZxNjC9xQ313x4Czy7P77Q73wzMvbxOn15psHrr/Jv+lb0D/HVzLz2ate5yP72XThurgd52/6nSa20twPmzYRoY44D7Cuv0Y21xYHlI1kVpI/CP/Q90bfE+4PZT8+mUfT8Arzn8LV2bjcw2+eLdNK0a3gO8deySXjhxFM4tzu3RY4+ukonPEnv0mIzrGe8LlLVUktEW03EP0UcG7KCH5hhvfe0J3HHDz11kaUEBz+2FfbT+dTe8S+kbgRYEI5h14ywAAASKelRYdE1PTCByZGtpdCAyMDIyLjAzLjIAAHicfVdJjhw3ELzPK/iBLuTK5eCDRiNLhqEewJL9B9/9fziSbLGq4ZR7SXSxopKRO/ulxOuPt9///qfsl7y9vJRC//MZY5S/lIhevpb4UV4/ff7tXj5+//D6Y+Xj+5/379+Ka/GBZ/B+xn74/v71xwqXj+VGB3cXonKTQ0mZpdBB83U+K4Hkg+tg50BKV6WRIHUhW5fevNz0qFDOnCAtkHKQtcojnqHazHuC9HIPns1qJYtfKtSHJsgKnXS4k1mfKpupZMBW3rFaa+s6LSfneOS/wA6NfHTcrrq2bi0lOQDUgw1Qn1t35p4BGUEqdpgNj72hUq2mJDkC5GG3d1k6O3mKlAdSpi/lcCBTezgC1A7SURtFfNTYWoqMAHXcp9rr1DlscLq7P5BWbUUykKnOilCOQ52RHnGfG1uqsk2ViHcTQQCUO6du577sgdcrAwiUU82AYwGt+WjT7TA8DZDQcqabI8X5GMxDM5XCK5KuNiz2rq4tS3WYcI/k8GomUyPCkwJ1ZRHshhF6GPc20q3tkZdu0mJruCnn6Mj0W6i00X2meu1CnkGjem6wpwppizgqUqOl0KgfQKugHGZD6FRZs4YgEaCbH72Pbjx7A8ocNxJohOhWDyf1OpsHR/lmjopOV27tGMg07AACo4uNlkFnm0N6kkRSgkDUuqfQiBO0EvEgmT0HHWJkHVF1cUVtcHTao8K9lFmlFr5qRwNDpBbsR7Jqlnjqy1XiXd1WMotn/tdHqEYUPBdBIFB7qUlRSPAkbO7UkFLUzdLc074aspEgQNBJrbWaFaeONThGQ97H7kh7T+vdaCGrD0ZwDAAdnHnJ+DE4Ggv86WgN5GkHM1kW8RgEehbtvqXTAJ3lHl5C75YJwPCqnHnJHsOouvF0jmKC1BQ564nRmQaGUHQmZH7qJavLIgFP+BZp7cN7VqMI3LdzuWHznwE7Nt8aO7rez4Bjzrfmc7n+3JlOYc5GRsftyKUMyeXLHFvudTaHjrGVBt1lIb1FlcGpaIs1Y4lR9iXyvaEwafZkHCs4hX66vz0dXdZh5vX9/nYeZuIt54kFF0XPY0lc2nn2YHxRbr9+/mVjHIte6nmWEHzbeWJgHAbqfITP00EsjvMMwPG9jnqeYj/AsS8Eb6IY3RaCNw/MWAvBmy5GsYVgv4zcuMRAvYxWC8GbMTLdQnC/DEsLwZsxB2WsyHX6cQjZnGU6Fp/TudO7gnF1GVxrZXOW5WPZlCX8CyGbMgYOh8A0eQpETLS5volLOBpCNnEJ4hB6HQlcZr+/dH4OoZu4BnEIPRNDI00UXfrSr3mubOYazCG0PvPU4A+h2+UaLofQzVzD5RC6maN72hTXLmlTbOYWrguxmZssDrZ3t3A5hJ1ZbZHjeHAzt2CORmSboUVao+HYZoiLtbIZWngbK37tJzw1X/oGR4i3FufF5oyuy0obvtb79P4ZV4/EhmmnB30m9riUjNfHyrbK2yor7PlcwH3tiJ2fqtTHyh7s/7QeTeXaQuL6x38p/H75F6Ythh7Zxtl8AAACRHpUWHRTTUlMRVMgcmRraXQgMjAyMi4wMy4yAAB4nEVTu24bQQz8lZQn4LRYcvmEEMDANa6sIqWhSn2+wB+fIU+OBQjanSWH5Ax1/Nl+3y/1vY/P98fn8fb2ID6O44OOQgG8P7bjSc/60OUHfntsHz8h6/jYjjo+ZAPP5Xjq8/Pv++NpOGxItTPn9bou24H443KvFOL7r6/tSoMzp+w2VFNzv83dx5p9/H6LMV9vwxWRk6bqfrv2NYbNMMZVh3MS7cA5Fpk1FpEhO+q4iy5AqDSX2n5dg2RxQT4yJdd+5ZHBRR3ogZMrT0nEOmhOymJ380huKgsj2+ewDO0YBwHvqDaR1w2wxlIgpCe1jBQ22nkYixWyqkbQvsYMqSQeMhmz8Zjubj1quqRUli5Xbsg0KX0XNLaSANWQxLbrf4kwIyQ0xKhOzy5PYpzomZSMvMuZgnpiZozqTWQzmdD1itlCohVxa0GmuZw94dfgD06LZ0BAOIQ6ItFxDnkLMujV4pYmWr4GDnbmuWuckMoqmZwZGqBxNYhBIymi7yhVGknfZcBNyUowKHIC1ReGOQGsg4pSM1CC0qs+jG8r8HCr1REvtxYFbLzlWEqtzSQnwQkxS8qlmgc7wk0DJbp5gW3RlRByzhwx9US41IJdJ4KsldAWjnTayTwtOwbM1CNIYkeLesGkdUKqXtRRUAsh1X0Xw2DtFlmSFhMWf1F7Q6Fdf81Fr90Ijm7AlCedy2GS0c5YMPV2oMjs/8si8WjIGC5VFHYBS335+gfaC+DqHcqT4wAAAABJRU5ErkJggg==\" alt=\"Mol\"/></td>\n",
              "    </tr>\n",
              "  </tbody>\n",
              "</table>\n",
              "</div>\n",
              "      <button class=\"colab-df-convert\" onclick=\"convertToInteractive('df-f3166f7f-dff4-4229-8845-8953b4a31e62')\"\n",
              "              title=\"Convert this dataframe to an interactive table.\"\n",
              "              style=\"display:none;\">\n",
              "        \n",
              "  <svg xmlns=\"http://www.w3.org/2000/svg\" height=\"24px\"viewBox=\"0 0 24 24\"\n",
              "       width=\"24px\">\n",
              "    <path d=\"M0 0h24v24H0V0z\" fill=\"none\"/>\n",
              "    <path d=\"M18.56 5.44l.94 2.06.94-2.06 2.06-.94-2.06-.94-.94-2.06-.94 2.06-2.06.94zm-11 1L8.5 8.5l.94-2.06 2.06-.94-2.06-.94L8.5 2.5l-.94 2.06-2.06.94zm10 10l.94 2.06.94-2.06 2.06-.94-2.06-.94-.94-2.06-.94 2.06-2.06.94z\"/><path d=\"M17.41 7.96l-1.37-1.37c-.4-.4-.92-.59-1.43-.59-.52 0-1.04.2-1.43.59L10.3 9.45l-7.72 7.72c-.78.78-.78 2.05 0 2.83L4 21.41c.39.39.9.59 1.41.59.51 0 1.02-.2 1.41-.59l7.78-7.78 2.81-2.81c.8-.78.8-2.07 0-2.86zM5.41 20L4 18.59l7.72-7.72 1.47 1.35L5.41 20z\"/>\n",
              "  </svg>\n",
              "      </button>\n",
              "      \n",
              "  <style>\n",
              "    .colab-df-container {\n",
              "      display:flex;\n",
              "      flex-wrap:wrap;\n",
              "      gap: 12px;\n",
              "    }\n",
              "\n",
              "    .colab-df-convert {\n",
              "      background-color: #E8F0FE;\n",
              "      border: none;\n",
              "      border-radius: 50%;\n",
              "      cursor: pointer;\n",
              "      display: none;\n",
              "      fill: #1967D2;\n",
              "      height: 32px;\n",
              "      padding: 0 0 0 0;\n",
              "      width: 32px;\n",
              "    }\n",
              "\n",
              "    .colab-df-convert:hover {\n",
              "      background-color: #E2EBFA;\n",
              "      box-shadow: 0px 1px 2px rgba(60, 64, 67, 0.3), 0px 1px 3px 1px rgba(60, 64, 67, 0.15);\n",
              "      fill: #174EA6;\n",
              "    }\n",
              "\n",
              "    [theme=dark] .colab-df-convert {\n",
              "      background-color: #3B4455;\n",
              "      fill: #D2E3FC;\n",
              "    }\n",
              "\n",
              "    [theme=dark] .colab-df-convert:hover {\n",
              "      background-color: #434B5C;\n",
              "      box-shadow: 0px 1px 3px 1px rgba(0, 0, 0, 0.15);\n",
              "      filter: drop-shadow(0px 1px 2px rgba(0, 0, 0, 0.3));\n",
              "      fill: #FFFFFF;\n",
              "    }\n",
              "  </style>\n",
              "\n",
              "      <script>\n",
              "        const buttonEl =\n",
              "          document.querySelector('#df-f3166f7f-dff4-4229-8845-8953b4a31e62 button.colab-df-convert');\n",
              "        buttonEl.style.display =\n",
              "          google.colab.kernel.accessAllowed ? 'block' : 'none';\n",
              "\n",
              "        async function convertToInteractive(key) {\n",
              "          const element = document.querySelector('#df-f3166f7f-dff4-4229-8845-8953b4a31e62');\n",
              "          const dataTable =\n",
              "            await google.colab.kernel.invokeFunction('convertToInteractive',\n",
              "                                                     [key], {});\n",
              "          if (!dataTable) return;\n",
              "\n",
              "          const docLinkHtml = 'Like what you see? Visit the ' +\n",
              "            '<a target=\"_blank\" href=https://colab.research.google.com/notebooks/data_table.ipynb>data table notebook</a>'\n",
              "            + ' to learn more about interactive tables.';\n",
              "          element.innerHTML = '';\n",
              "          dataTable['output_type'] = 'display_data';\n",
              "          await google.colab.output.renderOutput(dataTable, element);\n",
              "          const docLink = document.createElement('div');\n",
              "          docLink.innerHTML = docLinkHtml;\n",
              "          element.appendChild(docLink);\n",
              "        }\n",
              "      </script>\n",
              "    </div>\n",
              "  </div>\n",
              "  "
            ]
          },
          "metadata": {},
          "execution_count": 49
        }
      ],
      "source": [
        "output_df.drop(\"smiles\", axis=1).head(5)"
      ]
    },
    {
      "cell_type": "code",
      "source": [
        ""
      ],
      "metadata": {
        "id": "sjaVqVVuCuXX"
      },
      "execution_count": null,
      "outputs": []
    },
    {
      "cell_type": "code",
      "execution_count": 50,
      "metadata": {
        "id": "dTHkphe1ZVPg"
      },
      "outputs": [],
      "source": [
        "from pathlib import Path\n",
        "import math\n",
        "\n",
        "import numpy as np\n",
        "import pandas as pd\n",
        "import matplotlib.pyplot as plt\n",
        "from matplotlib.lines import Line2D\n",
        "import matplotlib.patches as mpatches\n",
        "from rdkit import Chem\n",
        "from rdkit.Chem import Descriptors, Draw, PandasTools"
      ]
    },
    {
      "cell_type": "code",
      "execution_count": 51,
      "metadata": {
        "id": "tlA8pzWmZVPo"
      },
      "outputs": [],
      "source": [
        "def calculate_ro5_properties(smiles):\n",
        "    \"\"\"\n",
        "    Test if input molecule (SMILES) fulfills Lipinski's rule of five.\n",
        "\n",
        "    Parameters\n",
        "    ----------\n",
        "    smiles : str\n",
        "        SMILES for a molecule.\n",
        "\n",
        "    Returns\n",
        "    -------\n",
        "    pandas.Series\n",
        "        Molecular weight, number of hydrogen bond acceptors/donor and logP value\n",
        "        and Lipinski's rule of five compliance for input molecule.\n",
        "    \"\"\"\n",
        "    # RDKit molecule from SMILES\n",
        "    molecule = Chem.MolFromSmiles(smiles)\n",
        "    # Calculate Ro5-relevant chemical properties\n",
        "    molecular_weight = Descriptors.ExactMolWt(molecule)\n",
        "    n_hba = Descriptors.NumHAcceptors(molecule)\n",
        "    n_hbd = Descriptors.NumHDonors(molecule)\n",
        "    logp = Descriptors.MolLogP(molecule)\n",
        "    # Check if Ro5 conditions fulfilled\n",
        "    conditions = [molecular_weight <= 500, n_hba <= 10, n_hbd <= 5, logp <= 5]\n",
        "    ro5_fulfilled = sum(conditions) >= 3\n",
        "    # Return True if no more than one out of four conditions is violated\n",
        "    return pd.Series(\n",
        "        [molecular_weight, n_hba, n_hbd, logp, ro5_fulfilled],\n",
        "        index=[\"molecular_weight\", \"n_hba\", \"n_hbd\", \"logp\", \"ro5_fulfilled\"],\n",
        "    )"
      ]
    },
    {
      "cell_type": "markdown",
      "metadata": {
        "id": "8FSX1p_BZVPp"
      },
      "source": [
        "### Apply Ro5 to the dataset\n",
        "\n",
        "The `calculate_ro5_properties` function can be applied to the dataset for Ro5-compliant compounds."
      ]
    },
    {
      "cell_type": "code",
      "execution_count": 52,
      "metadata": {
        "scrolled": true,
        "id": "nSKi4j_oZVPq",
        "outputId": "87c19601-ff2b-4dbc-858e-b1a0566367c9",
        "colab": {
          "base_uri": "https://localhost:8080/",
          "height": 224
        }
      },
      "outputs": [
        {
          "output_type": "stream",
          "name": "stdout",
          "text": [
            "(286, 5)\n"
          ]
        },
        {
          "output_type": "execute_result",
          "data": {
            "text/plain": [
              "  molecule_chembl_id    IC50 units  \\\n",
              "0       CHEMBL303519  9800.0    nM   \n",
              "1       CHEMBL292943    50.0    nM   \n",
              "2        CHEMBL61682    25.0    nM   \n",
              "3        CHEMBL64487   360.0    nM   \n",
              "4        CHEMBL64597   300.0    nM   \n",
              "\n",
              "                                       smiles     pIC50  \n",
              "0   c1cnc(N2CCN(Cc3cccc4c3Cc3ccccc3-4)CC2)nc1  5.008774  \n",
              "1  COc1ccc(-c2cccc(CN3CCN(c4ncccn4)CC3)c2)cc1  7.301030  \n",
              "2  Fc1ccc(-c2cncc(CN3CCN(c4ccccc4F)CC3)c2)cc1  7.602060  \n",
              "3    COc1ccccc1-c1cccc(CN2CCN(c3ncccn3)CC2)c1  6.443697  \n",
              "4     c1cnc(N2CCN(Cc3cccc(-c4ccsc4)c3)CC2)nc1  6.522879  "
            ],
            "text/html": [
              "\n",
              "  <div id=\"df-c50e6bc1-7c8a-45cd-a924-78af9db3f60d\">\n",
              "    <div class=\"colab-df-container\">\n",
              "      <div>\n",
              "<style scoped>\n",
              "    .dataframe tbody tr th:only-of-type {\n",
              "        vertical-align: middle;\n",
              "    }\n",
              "\n",
              "    .dataframe tbody tr th {\n",
              "        vertical-align: top;\n",
              "    }\n",
              "\n",
              "    .dataframe thead th {\n",
              "        text-align: right;\n",
              "    }\n",
              "</style>\n",
              "<table border=\"1\" class=\"dataframe\">\n",
              "  <thead>\n",
              "    <tr style=\"text-align: right;\">\n",
              "      <th></th>\n",
              "      <th>molecule_chembl_id</th>\n",
              "      <th>IC50</th>\n",
              "      <th>units</th>\n",
              "      <th>smiles</th>\n",
              "      <th>pIC50</th>\n",
              "    </tr>\n",
              "  </thead>\n",
              "  <tbody>\n",
              "    <tr>\n",
              "      <th>0</th>\n",
              "      <td>CHEMBL303519</td>\n",
              "      <td>9800.0</td>\n",
              "      <td>nM</td>\n",
              "      <td>c1cnc(N2CCN(Cc3cccc4c3Cc3ccccc3-4)CC2)nc1</td>\n",
              "      <td>5.008774</td>\n",
              "    </tr>\n",
              "    <tr>\n",
              "      <th>1</th>\n",
              "      <td>CHEMBL292943</td>\n",
              "      <td>50.0</td>\n",
              "      <td>nM</td>\n",
              "      <td>COc1ccc(-c2cccc(CN3CCN(c4ncccn4)CC3)c2)cc1</td>\n",
              "      <td>7.301030</td>\n",
              "    </tr>\n",
              "    <tr>\n",
              "      <th>2</th>\n",
              "      <td>CHEMBL61682</td>\n",
              "      <td>25.0</td>\n",
              "      <td>nM</td>\n",
              "      <td>Fc1ccc(-c2cncc(CN3CCN(c4ccccc4F)CC3)c2)cc1</td>\n",
              "      <td>7.602060</td>\n",
              "    </tr>\n",
              "    <tr>\n",
              "      <th>3</th>\n",
              "      <td>CHEMBL64487</td>\n",
              "      <td>360.0</td>\n",
              "      <td>nM</td>\n",
              "      <td>COc1ccccc1-c1cccc(CN2CCN(c3ncccn3)CC2)c1</td>\n",
              "      <td>6.443697</td>\n",
              "    </tr>\n",
              "    <tr>\n",
              "      <th>4</th>\n",
              "      <td>CHEMBL64597</td>\n",
              "      <td>300.0</td>\n",
              "      <td>nM</td>\n",
              "      <td>c1cnc(N2CCN(Cc3cccc(-c4ccsc4)c3)CC2)nc1</td>\n",
              "      <td>6.522879</td>\n",
              "    </tr>\n",
              "  </tbody>\n",
              "</table>\n",
              "</div>\n",
              "      <button class=\"colab-df-convert\" onclick=\"convertToInteractive('df-c50e6bc1-7c8a-45cd-a924-78af9db3f60d')\"\n",
              "              title=\"Convert this dataframe to an interactive table.\"\n",
              "              style=\"display:none;\">\n",
              "        \n",
              "  <svg xmlns=\"http://www.w3.org/2000/svg\" height=\"24px\"viewBox=\"0 0 24 24\"\n",
              "       width=\"24px\">\n",
              "    <path d=\"M0 0h24v24H0V0z\" fill=\"none\"/>\n",
              "    <path d=\"M18.56 5.44l.94 2.06.94-2.06 2.06-.94-2.06-.94-.94-2.06-.94 2.06-2.06.94zm-11 1L8.5 8.5l.94-2.06 2.06-.94-2.06-.94L8.5 2.5l-.94 2.06-2.06.94zm10 10l.94 2.06.94-2.06 2.06-.94-2.06-.94-.94-2.06-.94 2.06-2.06.94z\"/><path d=\"M17.41 7.96l-1.37-1.37c-.4-.4-.92-.59-1.43-.59-.52 0-1.04.2-1.43.59L10.3 9.45l-7.72 7.72c-.78.78-.78 2.05 0 2.83L4 21.41c.39.39.9.59 1.41.59.51 0 1.02-.2 1.41-.59l7.78-7.78 2.81-2.81c.8-.78.8-2.07 0-2.86zM5.41 20L4 18.59l7.72-7.72 1.47 1.35L5.41 20z\"/>\n",
              "  </svg>\n",
              "      </button>\n",
              "      \n",
              "  <style>\n",
              "    .colab-df-container {\n",
              "      display:flex;\n",
              "      flex-wrap:wrap;\n",
              "      gap: 12px;\n",
              "    }\n",
              "\n",
              "    .colab-df-convert {\n",
              "      background-color: #E8F0FE;\n",
              "      border: none;\n",
              "      border-radius: 50%;\n",
              "      cursor: pointer;\n",
              "      display: none;\n",
              "      fill: #1967D2;\n",
              "      height: 32px;\n",
              "      padding: 0 0 0 0;\n",
              "      width: 32px;\n",
              "    }\n",
              "\n",
              "    .colab-df-convert:hover {\n",
              "      background-color: #E2EBFA;\n",
              "      box-shadow: 0px 1px 2px rgba(60, 64, 67, 0.3), 0px 1px 3px 1px rgba(60, 64, 67, 0.15);\n",
              "      fill: #174EA6;\n",
              "    }\n",
              "\n",
              "    [theme=dark] .colab-df-convert {\n",
              "      background-color: #3B4455;\n",
              "      fill: #D2E3FC;\n",
              "    }\n",
              "\n",
              "    [theme=dark] .colab-df-convert:hover {\n",
              "      background-color: #434B5C;\n",
              "      box-shadow: 0px 1px 3px 1px rgba(0, 0, 0, 0.15);\n",
              "      filter: drop-shadow(0px 1px 2px rgba(0, 0, 0, 0.3));\n",
              "      fill: #FFFFFF;\n",
              "    }\n",
              "  </style>\n",
              "\n",
              "      <script>\n",
              "        const buttonEl =\n",
              "          document.querySelector('#df-c50e6bc1-7c8a-45cd-a924-78af9db3f60d button.colab-df-convert');\n",
              "        buttonEl.style.display =\n",
              "          google.colab.kernel.accessAllowed ? 'block' : 'none';\n",
              "\n",
              "        async function convertToInteractive(key) {\n",
              "          const element = document.querySelector('#df-c50e6bc1-7c8a-45cd-a924-78af9db3f60d');\n",
              "          const dataTable =\n",
              "            await google.colab.kernel.invokeFunction('convertToInteractive',\n",
              "                                                     [key], {});\n",
              "          if (!dataTable) return;\n",
              "\n",
              "          const docLinkHtml = 'Like what you see? Visit the ' +\n",
              "            '<a target=\"_blank\" href=https://colab.research.google.com/notebooks/data_table.ipynb>data table notebook</a>'\n",
              "            + ' to learn more about interactive tables.';\n",
              "          element.innerHTML = '';\n",
              "          dataTable['output_type'] = 'display_data';\n",
              "          await google.colab.output.renderOutput(dataTable, element);\n",
              "          const docLink = document.createElement('div');\n",
              "          docLink.innerHTML = docLinkHtml;\n",
              "          element.appendChild(docLink);\n",
              "        }\n",
              "      </script>\n",
              "    </div>\n",
              "  </div>\n",
              "  "
            ]
          },
          "metadata": {},
          "execution_count": 52
        }
      ],
      "source": [
        "molecules = pd.read_csv(\"D2_targets.csv\")\n",
        "print(molecules.shape)\n",
        "molecules.head()"
      ]
    },
    {
      "cell_type": "code",
      "execution_count": 53,
      "metadata": {
        "id": "9DVXaBg-ZVPq",
        "outputId": "d97062b5-6877-4bbf-eb85-0af0fd7568ed",
        "colab": {
          "base_uri": "https://localhost:8080/",
          "height": 206
        }
      },
      "outputs": [
        {
          "output_type": "execute_result",
          "data": {
            "text/plain": [
              "   molecular_weight  n_hba  n_hbd    logp  ro5_fulfilled\n",
              "0        342.184447      4      0  3.3700           True\n",
              "1        360.195011      5      0  3.4744           True\n",
              "2        365.170354      3      0  4.3490           True\n",
              "3        360.195011      5      0  3.4744           True\n",
              "4        336.140868      5      0  3.5273           True"
            ],
            "text/html": [
              "\n",
              "  <div id=\"df-f3756b82-89fa-488b-9c79-e0b13502c857\">\n",
              "    <div class=\"colab-df-container\">\n",
              "      <div>\n",
              "<style scoped>\n",
              "    .dataframe tbody tr th:only-of-type {\n",
              "        vertical-align: middle;\n",
              "    }\n",
              "\n",
              "    .dataframe tbody tr th {\n",
              "        vertical-align: top;\n",
              "    }\n",
              "\n",
              "    .dataframe thead th {\n",
              "        text-align: right;\n",
              "    }\n",
              "</style>\n",
              "<table border=\"1\" class=\"dataframe\">\n",
              "  <thead>\n",
              "    <tr style=\"text-align: right;\">\n",
              "      <th></th>\n",
              "      <th>molecular_weight</th>\n",
              "      <th>n_hba</th>\n",
              "      <th>n_hbd</th>\n",
              "      <th>logp</th>\n",
              "      <th>ro5_fulfilled</th>\n",
              "    </tr>\n",
              "  </thead>\n",
              "  <tbody>\n",
              "    <tr>\n",
              "      <th>0</th>\n",
              "      <td>342.184447</td>\n",
              "      <td>4</td>\n",
              "      <td>0</td>\n",
              "      <td>3.3700</td>\n",
              "      <td>True</td>\n",
              "    </tr>\n",
              "    <tr>\n",
              "      <th>1</th>\n",
              "      <td>360.195011</td>\n",
              "      <td>5</td>\n",
              "      <td>0</td>\n",
              "      <td>3.4744</td>\n",
              "      <td>True</td>\n",
              "    </tr>\n",
              "    <tr>\n",
              "      <th>2</th>\n",
              "      <td>365.170354</td>\n",
              "      <td>3</td>\n",
              "      <td>0</td>\n",
              "      <td>4.3490</td>\n",
              "      <td>True</td>\n",
              "    </tr>\n",
              "    <tr>\n",
              "      <th>3</th>\n",
              "      <td>360.195011</td>\n",
              "      <td>5</td>\n",
              "      <td>0</td>\n",
              "      <td>3.4744</td>\n",
              "      <td>True</td>\n",
              "    </tr>\n",
              "    <tr>\n",
              "      <th>4</th>\n",
              "      <td>336.140868</td>\n",
              "      <td>5</td>\n",
              "      <td>0</td>\n",
              "      <td>3.5273</td>\n",
              "      <td>True</td>\n",
              "    </tr>\n",
              "  </tbody>\n",
              "</table>\n",
              "</div>\n",
              "      <button class=\"colab-df-convert\" onclick=\"convertToInteractive('df-f3756b82-89fa-488b-9c79-e0b13502c857')\"\n",
              "              title=\"Convert this dataframe to an interactive table.\"\n",
              "              style=\"display:none;\">\n",
              "        \n",
              "  <svg xmlns=\"http://www.w3.org/2000/svg\" height=\"24px\"viewBox=\"0 0 24 24\"\n",
              "       width=\"24px\">\n",
              "    <path d=\"M0 0h24v24H0V0z\" fill=\"none\"/>\n",
              "    <path d=\"M18.56 5.44l.94 2.06.94-2.06 2.06-.94-2.06-.94-.94-2.06-.94 2.06-2.06.94zm-11 1L8.5 8.5l.94-2.06 2.06-.94-2.06-.94L8.5 2.5l-.94 2.06-2.06.94zm10 10l.94 2.06.94-2.06 2.06-.94-2.06-.94-.94-2.06-.94 2.06-2.06.94z\"/><path d=\"M17.41 7.96l-1.37-1.37c-.4-.4-.92-.59-1.43-.59-.52 0-1.04.2-1.43.59L10.3 9.45l-7.72 7.72c-.78.78-.78 2.05 0 2.83L4 21.41c.39.39.9.59 1.41.59.51 0 1.02-.2 1.41-.59l7.78-7.78 2.81-2.81c.8-.78.8-2.07 0-2.86zM5.41 20L4 18.59l7.72-7.72 1.47 1.35L5.41 20z\"/>\n",
              "  </svg>\n",
              "      </button>\n",
              "      \n",
              "  <style>\n",
              "    .colab-df-container {\n",
              "      display:flex;\n",
              "      flex-wrap:wrap;\n",
              "      gap: 12px;\n",
              "    }\n",
              "\n",
              "    .colab-df-convert {\n",
              "      background-color: #E8F0FE;\n",
              "      border: none;\n",
              "      border-radius: 50%;\n",
              "      cursor: pointer;\n",
              "      display: none;\n",
              "      fill: #1967D2;\n",
              "      height: 32px;\n",
              "      padding: 0 0 0 0;\n",
              "      width: 32px;\n",
              "    }\n",
              "\n",
              "    .colab-df-convert:hover {\n",
              "      background-color: #E2EBFA;\n",
              "      box-shadow: 0px 1px 2px rgba(60, 64, 67, 0.3), 0px 1px 3px 1px rgba(60, 64, 67, 0.15);\n",
              "      fill: #174EA6;\n",
              "    }\n",
              "\n",
              "    [theme=dark] .colab-df-convert {\n",
              "      background-color: #3B4455;\n",
              "      fill: #D2E3FC;\n",
              "    }\n",
              "\n",
              "    [theme=dark] .colab-df-convert:hover {\n",
              "      background-color: #434B5C;\n",
              "      box-shadow: 0px 1px 3px 1px rgba(0, 0, 0, 0.15);\n",
              "      filter: drop-shadow(0px 1px 2px rgba(0, 0, 0, 0.3));\n",
              "      fill: #FFFFFF;\n",
              "    }\n",
              "  </style>\n",
              "\n",
              "      <script>\n",
              "        const buttonEl =\n",
              "          document.querySelector('#df-f3756b82-89fa-488b-9c79-e0b13502c857 button.colab-df-convert');\n",
              "        buttonEl.style.display =\n",
              "          google.colab.kernel.accessAllowed ? 'block' : 'none';\n",
              "\n",
              "        async function convertToInteractive(key) {\n",
              "          const element = document.querySelector('#df-f3756b82-89fa-488b-9c79-e0b13502c857');\n",
              "          const dataTable =\n",
              "            await google.colab.kernel.invokeFunction('convertToInteractive',\n",
              "                                                     [key], {});\n",
              "          if (!dataTable) return;\n",
              "\n",
              "          const docLinkHtml = 'Like what you see? Visit the ' +\n",
              "            '<a target=\"_blank\" href=https://colab.research.google.com/notebooks/data_table.ipynb>data table notebook</a>'\n",
              "            + ' to learn more about interactive tables.';\n",
              "          element.innerHTML = '';\n",
              "          dataTable['output_type'] = 'display_data';\n",
              "          await google.colab.output.renderOutput(dataTable, element);\n",
              "          const docLink = document.createElement('div');\n",
              "          docLink.innerHTML = docLinkHtml;\n",
              "          element.appendChild(docLink);\n",
              "        }\n",
              "      </script>\n",
              "    </div>\n",
              "  </div>\n",
              "  "
            ]
          },
          "metadata": {},
          "execution_count": 53
        }
      ],
      "source": [
        "# This takes a couple of seconds\n",
        "ro5_properties = molecules[\"smiles\"].apply(calculate_ro5_properties)\n",
        "ro5_properties.head()"
      ]
    },
    {
      "cell_type": "code",
      "execution_count": 54,
      "metadata": {
        "id": "UUsvHsmZZVPr",
        "outputId": "50497e4e-dfb6-4c3b-f431-ec5d6a04eef0",
        "colab": {
          "base_uri": "https://localhost:8080/",
          "height": 206
        }
      },
      "outputs": [
        {
          "output_type": "execute_result",
          "data": {
            "text/plain": [
              "  molecule_chembl_id    IC50 units  \\\n",
              "0       CHEMBL303519  9800.0    nM   \n",
              "1       CHEMBL292943    50.0    nM   \n",
              "2        CHEMBL61682    25.0    nM   \n",
              "3        CHEMBL64487   360.0    nM   \n",
              "4        CHEMBL64597   300.0    nM   \n",
              "\n",
              "                                       smiles     pIC50  molecular_weight  \\\n",
              "0   c1cnc(N2CCN(Cc3cccc4c3Cc3ccccc3-4)CC2)nc1  5.008774        342.184447   \n",
              "1  COc1ccc(-c2cccc(CN3CCN(c4ncccn4)CC3)c2)cc1  7.301030        360.195011   \n",
              "2  Fc1ccc(-c2cncc(CN3CCN(c4ccccc4F)CC3)c2)cc1  7.602060        365.170354   \n",
              "3    COc1ccccc1-c1cccc(CN2CCN(c3ncccn3)CC2)c1  6.443697        360.195011   \n",
              "4     c1cnc(N2CCN(Cc3cccc(-c4ccsc4)c3)CC2)nc1  6.522879        336.140868   \n",
              "\n",
              "   n_hba  n_hbd    logp  ro5_fulfilled  \n",
              "0      4      0  3.3700           True  \n",
              "1      5      0  3.4744           True  \n",
              "2      3      0  4.3490           True  \n",
              "3      5      0  3.4744           True  \n",
              "4      5      0  3.5273           True  "
            ],
            "text/html": [
              "\n",
              "  <div id=\"df-449d4cc1-c1d8-4c00-bdf5-3d0a80196425\">\n",
              "    <div class=\"colab-df-container\">\n",
              "      <div>\n",
              "<style scoped>\n",
              "    .dataframe tbody tr th:only-of-type {\n",
              "        vertical-align: middle;\n",
              "    }\n",
              "\n",
              "    .dataframe tbody tr th {\n",
              "        vertical-align: top;\n",
              "    }\n",
              "\n",
              "    .dataframe thead th {\n",
              "        text-align: right;\n",
              "    }\n",
              "</style>\n",
              "<table border=\"1\" class=\"dataframe\">\n",
              "  <thead>\n",
              "    <tr style=\"text-align: right;\">\n",
              "      <th></th>\n",
              "      <th>molecule_chembl_id</th>\n",
              "      <th>IC50</th>\n",
              "      <th>units</th>\n",
              "      <th>smiles</th>\n",
              "      <th>pIC50</th>\n",
              "      <th>molecular_weight</th>\n",
              "      <th>n_hba</th>\n",
              "      <th>n_hbd</th>\n",
              "      <th>logp</th>\n",
              "      <th>ro5_fulfilled</th>\n",
              "    </tr>\n",
              "  </thead>\n",
              "  <tbody>\n",
              "    <tr>\n",
              "      <th>0</th>\n",
              "      <td>CHEMBL303519</td>\n",
              "      <td>9800.0</td>\n",
              "      <td>nM</td>\n",
              "      <td>c1cnc(N2CCN(Cc3cccc4c3Cc3ccccc3-4)CC2)nc1</td>\n",
              "      <td>5.008774</td>\n",
              "      <td>342.184447</td>\n",
              "      <td>4</td>\n",
              "      <td>0</td>\n",
              "      <td>3.3700</td>\n",
              "      <td>True</td>\n",
              "    </tr>\n",
              "    <tr>\n",
              "      <th>1</th>\n",
              "      <td>CHEMBL292943</td>\n",
              "      <td>50.0</td>\n",
              "      <td>nM</td>\n",
              "      <td>COc1ccc(-c2cccc(CN3CCN(c4ncccn4)CC3)c2)cc1</td>\n",
              "      <td>7.301030</td>\n",
              "      <td>360.195011</td>\n",
              "      <td>5</td>\n",
              "      <td>0</td>\n",
              "      <td>3.4744</td>\n",
              "      <td>True</td>\n",
              "    </tr>\n",
              "    <tr>\n",
              "      <th>2</th>\n",
              "      <td>CHEMBL61682</td>\n",
              "      <td>25.0</td>\n",
              "      <td>nM</td>\n",
              "      <td>Fc1ccc(-c2cncc(CN3CCN(c4ccccc4F)CC3)c2)cc1</td>\n",
              "      <td>7.602060</td>\n",
              "      <td>365.170354</td>\n",
              "      <td>3</td>\n",
              "      <td>0</td>\n",
              "      <td>4.3490</td>\n",
              "      <td>True</td>\n",
              "    </tr>\n",
              "    <tr>\n",
              "      <th>3</th>\n",
              "      <td>CHEMBL64487</td>\n",
              "      <td>360.0</td>\n",
              "      <td>nM</td>\n",
              "      <td>COc1ccccc1-c1cccc(CN2CCN(c3ncccn3)CC2)c1</td>\n",
              "      <td>6.443697</td>\n",
              "      <td>360.195011</td>\n",
              "      <td>5</td>\n",
              "      <td>0</td>\n",
              "      <td>3.4744</td>\n",
              "      <td>True</td>\n",
              "    </tr>\n",
              "    <tr>\n",
              "      <th>4</th>\n",
              "      <td>CHEMBL64597</td>\n",
              "      <td>300.0</td>\n",
              "      <td>nM</td>\n",
              "      <td>c1cnc(N2CCN(Cc3cccc(-c4ccsc4)c3)CC2)nc1</td>\n",
              "      <td>6.522879</td>\n",
              "      <td>336.140868</td>\n",
              "      <td>5</td>\n",
              "      <td>0</td>\n",
              "      <td>3.5273</td>\n",
              "      <td>True</td>\n",
              "    </tr>\n",
              "  </tbody>\n",
              "</table>\n",
              "</div>\n",
              "      <button class=\"colab-df-convert\" onclick=\"convertToInteractive('df-449d4cc1-c1d8-4c00-bdf5-3d0a80196425')\"\n",
              "              title=\"Convert this dataframe to an interactive table.\"\n",
              "              style=\"display:none;\">\n",
              "        \n",
              "  <svg xmlns=\"http://www.w3.org/2000/svg\" height=\"24px\"viewBox=\"0 0 24 24\"\n",
              "       width=\"24px\">\n",
              "    <path d=\"M0 0h24v24H0V0z\" fill=\"none\"/>\n",
              "    <path d=\"M18.56 5.44l.94 2.06.94-2.06 2.06-.94-2.06-.94-.94-2.06-.94 2.06-2.06.94zm-11 1L8.5 8.5l.94-2.06 2.06-.94-2.06-.94L8.5 2.5l-.94 2.06-2.06.94zm10 10l.94 2.06.94-2.06 2.06-.94-2.06-.94-.94-2.06-.94 2.06-2.06.94z\"/><path d=\"M17.41 7.96l-1.37-1.37c-.4-.4-.92-.59-1.43-.59-.52 0-1.04.2-1.43.59L10.3 9.45l-7.72 7.72c-.78.78-.78 2.05 0 2.83L4 21.41c.39.39.9.59 1.41.59.51 0 1.02-.2 1.41-.59l7.78-7.78 2.81-2.81c.8-.78.8-2.07 0-2.86zM5.41 20L4 18.59l7.72-7.72 1.47 1.35L5.41 20z\"/>\n",
              "  </svg>\n",
              "      </button>\n",
              "      \n",
              "  <style>\n",
              "    .colab-df-container {\n",
              "      display:flex;\n",
              "      flex-wrap:wrap;\n",
              "      gap: 12px;\n",
              "    }\n",
              "\n",
              "    .colab-df-convert {\n",
              "      background-color: #E8F0FE;\n",
              "      border: none;\n",
              "      border-radius: 50%;\n",
              "      cursor: pointer;\n",
              "      display: none;\n",
              "      fill: #1967D2;\n",
              "      height: 32px;\n",
              "      padding: 0 0 0 0;\n",
              "      width: 32px;\n",
              "    }\n",
              "\n",
              "    .colab-df-convert:hover {\n",
              "      background-color: #E2EBFA;\n",
              "      box-shadow: 0px 1px 2px rgba(60, 64, 67, 0.3), 0px 1px 3px 1px rgba(60, 64, 67, 0.15);\n",
              "      fill: #174EA6;\n",
              "    }\n",
              "\n",
              "    [theme=dark] .colab-df-convert {\n",
              "      background-color: #3B4455;\n",
              "      fill: #D2E3FC;\n",
              "    }\n",
              "\n",
              "    [theme=dark] .colab-df-convert:hover {\n",
              "      background-color: #434B5C;\n",
              "      box-shadow: 0px 1px 3px 1px rgba(0, 0, 0, 0.15);\n",
              "      filter: drop-shadow(0px 1px 2px rgba(0, 0, 0, 0.3));\n",
              "      fill: #FFFFFF;\n",
              "    }\n",
              "  </style>\n",
              "\n",
              "      <script>\n",
              "        const buttonEl =\n",
              "          document.querySelector('#df-449d4cc1-c1d8-4c00-bdf5-3d0a80196425 button.colab-df-convert');\n",
              "        buttonEl.style.display =\n",
              "          google.colab.kernel.accessAllowed ? 'block' : 'none';\n",
              "\n",
              "        async function convertToInteractive(key) {\n",
              "          const element = document.querySelector('#df-449d4cc1-c1d8-4c00-bdf5-3d0a80196425');\n",
              "          const dataTable =\n",
              "            await google.colab.kernel.invokeFunction('convertToInteractive',\n",
              "                                                     [key], {});\n",
              "          if (!dataTable) return;\n",
              "\n",
              "          const docLinkHtml = 'Like what you see? Visit the ' +\n",
              "            '<a target=\"_blank\" href=https://colab.research.google.com/notebooks/data_table.ipynb>data table notebook</a>'\n",
              "            + ' to learn more about interactive tables.';\n",
              "          element.innerHTML = '';\n",
              "          dataTable['output_type'] = 'display_data';\n",
              "          await google.colab.output.renderOutput(dataTable, element);\n",
              "          const docLink = document.createElement('div');\n",
              "          docLink.innerHTML = docLinkHtml;\n",
              "          element.appendChild(docLink);\n",
              "        }\n",
              "      </script>\n",
              "    </div>\n",
              "  </div>\n",
              "  "
            ]
          },
          "metadata": {},
          "execution_count": 54
        }
      ],
      "source": [
        "molecules = pd.concat([molecules, ro5_properties], axis=1)\n",
        "molecules.head()"
      ]
    },
    {
      "cell_type": "code",
      "execution_count": 55,
      "metadata": {
        "id": "igUg5H_0ZVPs",
        "outputId": "4628cc50-74a5-4ab2-d046-95de9eac5e2a",
        "colab": {
          "base_uri": "https://localhost:8080/"
        }
      },
      "outputs": [
        {
          "output_type": "stream",
          "name": "stdout",
          "text": [
            "# compounds in unfiltered data set: 286\n",
            "# compounds in filtered data set: 252\n",
            "# compounds not compliant with the Ro5: 34\n"
          ]
        }
      ],
      "source": [
        "molecules_ro5_fulfilled = molecules[molecules[\"ro5_fulfilled\"]]\n",
        "molecules_ro5_violated = molecules[~molecules[\"ro5_fulfilled\"]]\n",
        "\n",
        "print(f\"# compounds in unfiltered data set: {molecules.shape[0]}\")\n",
        "print(f\"# compounds in filtered data set: {molecules_ro5_fulfilled.shape[0]}\")\n",
        "print(f\"# compounds not compliant with the Ro5: {molecules_ro5_violated.shape[0]}\")"
      ]
    },
    {
      "cell_type": "code",
      "execution_count": 57,
      "metadata": {
        "id": "6F-gLR_fZVPs",
        "outputId": "7e7bff89-061b-4fde-b2e6-dc3a0ea84ac0",
        "colab": {
          "base_uri": "https://localhost:8080/",
          "height": 206
        }
      },
      "outputs": [
        {
          "output_type": "execute_result",
          "data": {
            "text/plain": [
              "  molecule_chembl_id    IC50 units  \\\n",
              "0       CHEMBL303519  9800.0    nM   \n",
              "1       CHEMBL292943    50.0    nM   \n",
              "2        CHEMBL61682    25.0    nM   \n",
              "3        CHEMBL64487   360.0    nM   \n",
              "4        CHEMBL64597   300.0    nM   \n",
              "\n",
              "                                       smiles     pIC50  molecular_weight  \\\n",
              "0   c1cnc(N2CCN(Cc3cccc4c3Cc3ccccc3-4)CC2)nc1  5.008774        342.184447   \n",
              "1  COc1ccc(-c2cccc(CN3CCN(c4ncccn4)CC3)c2)cc1  7.301030        360.195011   \n",
              "2  Fc1ccc(-c2cncc(CN3CCN(c4ccccc4F)CC3)c2)cc1  7.602060        365.170354   \n",
              "3    COc1ccccc1-c1cccc(CN2CCN(c3ncccn3)CC2)c1  6.443697        360.195011   \n",
              "4     c1cnc(N2CCN(Cc3cccc(-c4ccsc4)c3)CC2)nc1  6.522879        336.140868   \n",
              "\n",
              "   n_hba  n_hbd    logp  ro5_fulfilled  \n",
              "0      4      0  3.3700           True  \n",
              "1      5      0  3.4744           True  \n",
              "2      3      0  4.3490           True  \n",
              "3      5      0  3.4744           True  \n",
              "4      5      0  3.5273           True  "
            ],
            "text/html": [
              "\n",
              "  <div id=\"df-dc3ba0a3-8515-4df5-9851-427d701038b0\">\n",
              "    <div class=\"colab-df-container\">\n",
              "      <div>\n",
              "<style scoped>\n",
              "    .dataframe tbody tr th:only-of-type {\n",
              "        vertical-align: middle;\n",
              "    }\n",
              "\n",
              "    .dataframe tbody tr th {\n",
              "        vertical-align: top;\n",
              "    }\n",
              "\n",
              "    .dataframe thead th {\n",
              "        text-align: right;\n",
              "    }\n",
              "</style>\n",
              "<table border=\"1\" class=\"dataframe\">\n",
              "  <thead>\n",
              "    <tr style=\"text-align: right;\">\n",
              "      <th></th>\n",
              "      <th>molecule_chembl_id</th>\n",
              "      <th>IC50</th>\n",
              "      <th>units</th>\n",
              "      <th>smiles</th>\n",
              "      <th>pIC50</th>\n",
              "      <th>molecular_weight</th>\n",
              "      <th>n_hba</th>\n",
              "      <th>n_hbd</th>\n",
              "      <th>logp</th>\n",
              "      <th>ro5_fulfilled</th>\n",
              "    </tr>\n",
              "  </thead>\n",
              "  <tbody>\n",
              "    <tr>\n",
              "      <th>0</th>\n",
              "      <td>CHEMBL303519</td>\n",
              "      <td>9800.0</td>\n",
              "      <td>nM</td>\n",
              "      <td>c1cnc(N2CCN(Cc3cccc4c3Cc3ccccc3-4)CC2)nc1</td>\n",
              "      <td>5.008774</td>\n",
              "      <td>342.184447</td>\n",
              "      <td>4</td>\n",
              "      <td>0</td>\n",
              "      <td>3.3700</td>\n",
              "      <td>True</td>\n",
              "    </tr>\n",
              "    <tr>\n",
              "      <th>1</th>\n",
              "      <td>CHEMBL292943</td>\n",
              "      <td>50.0</td>\n",
              "      <td>nM</td>\n",
              "      <td>COc1ccc(-c2cccc(CN3CCN(c4ncccn4)CC3)c2)cc1</td>\n",
              "      <td>7.301030</td>\n",
              "      <td>360.195011</td>\n",
              "      <td>5</td>\n",
              "      <td>0</td>\n",
              "      <td>3.4744</td>\n",
              "      <td>True</td>\n",
              "    </tr>\n",
              "    <tr>\n",
              "      <th>2</th>\n",
              "      <td>CHEMBL61682</td>\n",
              "      <td>25.0</td>\n",
              "      <td>nM</td>\n",
              "      <td>Fc1ccc(-c2cncc(CN3CCN(c4ccccc4F)CC3)c2)cc1</td>\n",
              "      <td>7.602060</td>\n",
              "      <td>365.170354</td>\n",
              "      <td>3</td>\n",
              "      <td>0</td>\n",
              "      <td>4.3490</td>\n",
              "      <td>True</td>\n",
              "    </tr>\n",
              "    <tr>\n",
              "      <th>3</th>\n",
              "      <td>CHEMBL64487</td>\n",
              "      <td>360.0</td>\n",
              "      <td>nM</td>\n",
              "      <td>COc1ccccc1-c1cccc(CN2CCN(c3ncccn3)CC2)c1</td>\n",
              "      <td>6.443697</td>\n",
              "      <td>360.195011</td>\n",
              "      <td>5</td>\n",
              "      <td>0</td>\n",
              "      <td>3.4744</td>\n",
              "      <td>True</td>\n",
              "    </tr>\n",
              "    <tr>\n",
              "      <th>4</th>\n",
              "      <td>CHEMBL64597</td>\n",
              "      <td>300.0</td>\n",
              "      <td>nM</td>\n",
              "      <td>c1cnc(N2CCN(Cc3cccc(-c4ccsc4)c3)CC2)nc1</td>\n",
              "      <td>6.522879</td>\n",
              "      <td>336.140868</td>\n",
              "      <td>5</td>\n",
              "      <td>0</td>\n",
              "      <td>3.5273</td>\n",
              "      <td>True</td>\n",
              "    </tr>\n",
              "  </tbody>\n",
              "</table>\n",
              "</div>\n",
              "      <button class=\"colab-df-convert\" onclick=\"convertToInteractive('df-dc3ba0a3-8515-4df5-9851-427d701038b0')\"\n",
              "              title=\"Convert this dataframe to an interactive table.\"\n",
              "              style=\"display:none;\">\n",
              "        \n",
              "  <svg xmlns=\"http://www.w3.org/2000/svg\" height=\"24px\"viewBox=\"0 0 24 24\"\n",
              "       width=\"24px\">\n",
              "    <path d=\"M0 0h24v24H0V0z\" fill=\"none\"/>\n",
              "    <path d=\"M18.56 5.44l.94 2.06.94-2.06 2.06-.94-2.06-.94-.94-2.06-.94 2.06-2.06.94zm-11 1L8.5 8.5l.94-2.06 2.06-.94-2.06-.94L8.5 2.5l-.94 2.06-2.06.94zm10 10l.94 2.06.94-2.06 2.06-.94-2.06-.94-.94-2.06-.94 2.06-2.06.94z\"/><path d=\"M17.41 7.96l-1.37-1.37c-.4-.4-.92-.59-1.43-.59-.52 0-1.04.2-1.43.59L10.3 9.45l-7.72 7.72c-.78.78-.78 2.05 0 2.83L4 21.41c.39.39.9.59 1.41.59.51 0 1.02-.2 1.41-.59l7.78-7.78 2.81-2.81c.8-.78.8-2.07 0-2.86zM5.41 20L4 18.59l7.72-7.72 1.47 1.35L5.41 20z\"/>\n",
              "  </svg>\n",
              "      </button>\n",
              "      \n",
              "  <style>\n",
              "    .colab-df-container {\n",
              "      display:flex;\n",
              "      flex-wrap:wrap;\n",
              "      gap: 12px;\n",
              "    }\n",
              "\n",
              "    .colab-df-convert {\n",
              "      background-color: #E8F0FE;\n",
              "      border: none;\n",
              "      border-radius: 50%;\n",
              "      cursor: pointer;\n",
              "      display: none;\n",
              "      fill: #1967D2;\n",
              "      height: 32px;\n",
              "      padding: 0 0 0 0;\n",
              "      width: 32px;\n",
              "    }\n",
              "\n",
              "    .colab-df-convert:hover {\n",
              "      background-color: #E2EBFA;\n",
              "      box-shadow: 0px 1px 2px rgba(60, 64, 67, 0.3), 0px 1px 3px 1px rgba(60, 64, 67, 0.15);\n",
              "      fill: #174EA6;\n",
              "    }\n",
              "\n",
              "    [theme=dark] .colab-df-convert {\n",
              "      background-color: #3B4455;\n",
              "      fill: #D2E3FC;\n",
              "    }\n",
              "\n",
              "    [theme=dark] .colab-df-convert:hover {\n",
              "      background-color: #434B5C;\n",
              "      box-shadow: 0px 1px 3px 1px rgba(0, 0, 0, 0.15);\n",
              "      filter: drop-shadow(0px 1px 2px rgba(0, 0, 0, 0.3));\n",
              "      fill: #FFFFFF;\n",
              "    }\n",
              "  </style>\n",
              "\n",
              "      <script>\n",
              "        const buttonEl =\n",
              "          document.querySelector('#df-dc3ba0a3-8515-4df5-9851-427d701038b0 button.colab-df-convert');\n",
              "        buttonEl.style.display =\n",
              "          google.colab.kernel.accessAllowed ? 'block' : 'none';\n",
              "\n",
              "        async function convertToInteractive(key) {\n",
              "          const element = document.querySelector('#df-dc3ba0a3-8515-4df5-9851-427d701038b0');\n",
              "          const dataTable =\n",
              "            await google.colab.kernel.invokeFunction('convertToInteractive',\n",
              "                                                     [key], {});\n",
              "          if (!dataTable) return;\n",
              "\n",
              "          const docLinkHtml = 'Like what you see? Visit the ' +\n",
              "            '<a target=\"_blank\" href=https://colab.research.google.com/notebooks/data_table.ipynb>data table notebook</a>'\n",
              "            + ' to learn more about interactive tables.';\n",
              "          element.innerHTML = '';\n",
              "          dataTable['output_type'] = 'display_data';\n",
              "          await google.colab.output.renderOutput(dataTable, element);\n",
              "          const docLink = document.createElement('div');\n",
              "          docLink.innerHTML = docLinkHtml;\n",
              "          element.appendChild(docLink);\n",
              "        }\n",
              "      </script>\n",
              "    </div>\n",
              "  </div>\n",
              "  "
            ]
          },
          "metadata": {},
          "execution_count": 57
        }
      ],
      "source": [
        "# Save filtered data\n",
        "molecules_ro5_fulfilled.to_csv(\"D2_compounds_lipinski.csv\")\n",
        "molecules_ro5_fulfilled.head()"
      ]
    },
    {
      "cell_type": "code",
      "source": [
        ""
      ],
      "metadata": {
        "id": "CozUh491FeXC"
      },
      "execution_count": null,
      "outputs": []
    },
    {
      "cell_type": "markdown",
      "metadata": {
        "id": "kmI4BRq4ZVPt"
      },
      "source": [
        "### Visualize Ro5 properties (radar plot)"
      ]
    },
    {
      "cell_type": "code",
      "execution_count": 58,
      "metadata": {
        "id": "fueHnF3CZVPu"
      },
      "outputs": [],
      "source": [
        "def calculate_mean_std(dataframe):\n",
        "    \"\"\"\n",
        "    Calculate the mean and standard deviation of a dataset.\n",
        "\n",
        "    Parameters\n",
        "    ----------\n",
        "    dataframe : pd.DataFrame\n",
        "        Properties (columns) for a set of items (rows).\n",
        "\n",
        "    Returns\n",
        "    -------\n",
        "    pd.DataFrame\n",
        "        Mean and standard deviation (columns) for different properties (rows).\n",
        "    \"\"\"\n",
        "    # Generate descriptive statistics for property columns\n",
        "    stats = dataframe.describe()\n",
        "    # Transpose DataFrame (statistical measures = columns)\n",
        "    stats = stats.T\n",
        "    # Select mean and standard deviation\n",
        "    stats = stats[[\"mean\", \"std\"]]\n",
        "    return stats"
      ]
    },
    {
      "cell_type": "code",
      "execution_count": 59,
      "metadata": {
        "id": "s9fDdM_6ZVPu",
        "outputId": "86cfb430-f3e3-4b26-a410-b5ef36ce97e7",
        "colab": {
          "base_uri": "https://localhost:8080/",
          "height": 175
        }
      },
      "outputs": [
        {
          "output_type": "execute_result",
          "data": {
            "text/plain": [
              "                        mean        std\n",
              "molecular_weight  409.377274  80.282062\n",
              "n_hba               4.246032   1.689841\n",
              "n_hbd               0.932540   0.997713\n",
              "logp                3.937496   1.160086"
            ],
            "text/html": [
              "\n",
              "  <div id=\"df-9f20e4e7-4d15-441e-a0f9-9766aa5c5554\">\n",
              "    <div class=\"colab-df-container\">\n",
              "      <div>\n",
              "<style scoped>\n",
              "    .dataframe tbody tr th:only-of-type {\n",
              "        vertical-align: middle;\n",
              "    }\n",
              "\n",
              "    .dataframe tbody tr th {\n",
              "        vertical-align: top;\n",
              "    }\n",
              "\n",
              "    .dataframe thead th {\n",
              "        text-align: right;\n",
              "    }\n",
              "</style>\n",
              "<table border=\"1\" class=\"dataframe\">\n",
              "  <thead>\n",
              "    <tr style=\"text-align: right;\">\n",
              "      <th></th>\n",
              "      <th>mean</th>\n",
              "      <th>std</th>\n",
              "    </tr>\n",
              "  </thead>\n",
              "  <tbody>\n",
              "    <tr>\n",
              "      <th>molecular_weight</th>\n",
              "      <td>409.377274</td>\n",
              "      <td>80.282062</td>\n",
              "    </tr>\n",
              "    <tr>\n",
              "      <th>n_hba</th>\n",
              "      <td>4.246032</td>\n",
              "      <td>1.689841</td>\n",
              "    </tr>\n",
              "    <tr>\n",
              "      <th>n_hbd</th>\n",
              "      <td>0.932540</td>\n",
              "      <td>0.997713</td>\n",
              "    </tr>\n",
              "    <tr>\n",
              "      <th>logp</th>\n",
              "      <td>3.937496</td>\n",
              "      <td>1.160086</td>\n",
              "    </tr>\n",
              "  </tbody>\n",
              "</table>\n",
              "</div>\n",
              "      <button class=\"colab-df-convert\" onclick=\"convertToInteractive('df-9f20e4e7-4d15-441e-a0f9-9766aa5c5554')\"\n",
              "              title=\"Convert this dataframe to an interactive table.\"\n",
              "              style=\"display:none;\">\n",
              "        \n",
              "  <svg xmlns=\"http://www.w3.org/2000/svg\" height=\"24px\"viewBox=\"0 0 24 24\"\n",
              "       width=\"24px\">\n",
              "    <path d=\"M0 0h24v24H0V0z\" fill=\"none\"/>\n",
              "    <path d=\"M18.56 5.44l.94 2.06.94-2.06 2.06-.94-2.06-.94-.94-2.06-.94 2.06-2.06.94zm-11 1L8.5 8.5l.94-2.06 2.06-.94-2.06-.94L8.5 2.5l-.94 2.06-2.06.94zm10 10l.94 2.06.94-2.06 2.06-.94-2.06-.94-.94-2.06-.94 2.06-2.06.94z\"/><path d=\"M17.41 7.96l-1.37-1.37c-.4-.4-.92-.59-1.43-.59-.52 0-1.04.2-1.43.59L10.3 9.45l-7.72 7.72c-.78.78-.78 2.05 0 2.83L4 21.41c.39.39.9.59 1.41.59.51 0 1.02-.2 1.41-.59l7.78-7.78 2.81-2.81c.8-.78.8-2.07 0-2.86zM5.41 20L4 18.59l7.72-7.72 1.47 1.35L5.41 20z\"/>\n",
              "  </svg>\n",
              "      </button>\n",
              "      \n",
              "  <style>\n",
              "    .colab-df-container {\n",
              "      display:flex;\n",
              "      flex-wrap:wrap;\n",
              "      gap: 12px;\n",
              "    }\n",
              "\n",
              "    .colab-df-convert {\n",
              "      background-color: #E8F0FE;\n",
              "      border: none;\n",
              "      border-radius: 50%;\n",
              "      cursor: pointer;\n",
              "      display: none;\n",
              "      fill: #1967D2;\n",
              "      height: 32px;\n",
              "      padding: 0 0 0 0;\n",
              "      width: 32px;\n",
              "    }\n",
              "\n",
              "    .colab-df-convert:hover {\n",
              "      background-color: #E2EBFA;\n",
              "      box-shadow: 0px 1px 2px rgba(60, 64, 67, 0.3), 0px 1px 3px 1px rgba(60, 64, 67, 0.15);\n",
              "      fill: #174EA6;\n",
              "    }\n",
              "\n",
              "    [theme=dark] .colab-df-convert {\n",
              "      background-color: #3B4455;\n",
              "      fill: #D2E3FC;\n",
              "    }\n",
              "\n",
              "    [theme=dark] .colab-df-convert:hover {\n",
              "      background-color: #434B5C;\n",
              "      box-shadow: 0px 1px 3px 1px rgba(0, 0, 0, 0.15);\n",
              "      filter: drop-shadow(0px 1px 2px rgba(0, 0, 0, 0.3));\n",
              "      fill: #FFFFFF;\n",
              "    }\n",
              "  </style>\n",
              "\n",
              "      <script>\n",
              "        const buttonEl =\n",
              "          document.querySelector('#df-9f20e4e7-4d15-441e-a0f9-9766aa5c5554 button.colab-df-convert');\n",
              "        buttonEl.style.display =\n",
              "          google.colab.kernel.accessAllowed ? 'block' : 'none';\n",
              "\n",
              "        async function convertToInteractive(key) {\n",
              "          const element = document.querySelector('#df-9f20e4e7-4d15-441e-a0f9-9766aa5c5554');\n",
              "          const dataTable =\n",
              "            await google.colab.kernel.invokeFunction('convertToInteractive',\n",
              "                                                     [key], {});\n",
              "          if (!dataTable) return;\n",
              "\n",
              "          const docLinkHtml = 'Like what you see? Visit the ' +\n",
              "            '<a target=\"_blank\" href=https://colab.research.google.com/notebooks/data_table.ipynb>data table notebook</a>'\n",
              "            + ' to learn more about interactive tables.';\n",
              "          element.innerHTML = '';\n",
              "          dataTable['output_type'] = 'display_data';\n",
              "          await google.colab.output.renderOutput(dataTable, element);\n",
              "          const docLink = document.createElement('div');\n",
              "          docLink.innerHTML = docLinkHtml;\n",
              "          element.appendChild(docLink);\n",
              "        }\n",
              "      </script>\n",
              "    </div>\n",
              "  </div>\n",
              "  "
            ]
          },
          "metadata": {},
          "execution_count": 59
        }
      ],
      "source": [
        "molecules_ro5_fulfilled_stats = calculate_mean_std(\n",
        "    molecules_ro5_fulfilled[[\"molecular_weight\", \"n_hba\", \"n_hbd\", \"logp\"]]\n",
        ")\n",
        "molecules_ro5_fulfilled_stats\n",
        "# NBVAL_CHECK_OUTPUT"
      ]
    },
    {
      "cell_type": "code",
      "execution_count": 60,
      "metadata": {
        "id": "Ui1lZgD4ZVPv",
        "outputId": "995c39a3-94a2-4cd7-a77d-73e9a33c2e6c",
        "colab": {
          "base_uri": "https://localhost:8080/",
          "height": 175
        }
      },
      "outputs": [
        {
          "output_type": "execute_result",
          "data": {
            "text/plain": [
              "                        mean         std\n",
              "molecular_weight  803.084347  235.368035\n",
              "n_hba               8.588235    4.098171\n",
              "n_hbd               2.794118    1.591253\n",
              "logp                7.394946    2.283829"
            ],
            "text/html": [
              "\n",
              "  <div id=\"df-5dc37c35-90e4-4dd0-bf58-454233496124\">\n",
              "    <div class=\"colab-df-container\">\n",
              "      <div>\n",
              "<style scoped>\n",
              "    .dataframe tbody tr th:only-of-type {\n",
              "        vertical-align: middle;\n",
              "    }\n",
              "\n",
              "    .dataframe tbody tr th {\n",
              "        vertical-align: top;\n",
              "    }\n",
              "\n",
              "    .dataframe thead th {\n",
              "        text-align: right;\n",
              "    }\n",
              "</style>\n",
              "<table border=\"1\" class=\"dataframe\">\n",
              "  <thead>\n",
              "    <tr style=\"text-align: right;\">\n",
              "      <th></th>\n",
              "      <th>mean</th>\n",
              "      <th>std</th>\n",
              "    </tr>\n",
              "  </thead>\n",
              "  <tbody>\n",
              "    <tr>\n",
              "      <th>molecular_weight</th>\n",
              "      <td>803.084347</td>\n",
              "      <td>235.368035</td>\n",
              "    </tr>\n",
              "    <tr>\n",
              "      <th>n_hba</th>\n",
              "      <td>8.588235</td>\n",
              "      <td>4.098171</td>\n",
              "    </tr>\n",
              "    <tr>\n",
              "      <th>n_hbd</th>\n",
              "      <td>2.794118</td>\n",
              "      <td>1.591253</td>\n",
              "    </tr>\n",
              "    <tr>\n",
              "      <th>logp</th>\n",
              "      <td>7.394946</td>\n",
              "      <td>2.283829</td>\n",
              "    </tr>\n",
              "  </tbody>\n",
              "</table>\n",
              "</div>\n",
              "      <button class=\"colab-df-convert\" onclick=\"convertToInteractive('df-5dc37c35-90e4-4dd0-bf58-454233496124')\"\n",
              "              title=\"Convert this dataframe to an interactive table.\"\n",
              "              style=\"display:none;\">\n",
              "        \n",
              "  <svg xmlns=\"http://www.w3.org/2000/svg\" height=\"24px\"viewBox=\"0 0 24 24\"\n",
              "       width=\"24px\">\n",
              "    <path d=\"M0 0h24v24H0V0z\" fill=\"none\"/>\n",
              "    <path d=\"M18.56 5.44l.94 2.06.94-2.06 2.06-.94-2.06-.94-.94-2.06-.94 2.06-2.06.94zm-11 1L8.5 8.5l.94-2.06 2.06-.94-2.06-.94L8.5 2.5l-.94 2.06-2.06.94zm10 10l.94 2.06.94-2.06 2.06-.94-2.06-.94-.94-2.06-.94 2.06-2.06.94z\"/><path d=\"M17.41 7.96l-1.37-1.37c-.4-.4-.92-.59-1.43-.59-.52 0-1.04.2-1.43.59L10.3 9.45l-7.72 7.72c-.78.78-.78 2.05 0 2.83L4 21.41c.39.39.9.59 1.41.59.51 0 1.02-.2 1.41-.59l7.78-7.78 2.81-2.81c.8-.78.8-2.07 0-2.86zM5.41 20L4 18.59l7.72-7.72 1.47 1.35L5.41 20z\"/>\n",
              "  </svg>\n",
              "      </button>\n",
              "      \n",
              "  <style>\n",
              "    .colab-df-container {\n",
              "      display:flex;\n",
              "      flex-wrap:wrap;\n",
              "      gap: 12px;\n",
              "    }\n",
              "\n",
              "    .colab-df-convert {\n",
              "      background-color: #E8F0FE;\n",
              "      border: none;\n",
              "      border-radius: 50%;\n",
              "      cursor: pointer;\n",
              "      display: none;\n",
              "      fill: #1967D2;\n",
              "      height: 32px;\n",
              "      padding: 0 0 0 0;\n",
              "      width: 32px;\n",
              "    }\n",
              "\n",
              "    .colab-df-convert:hover {\n",
              "      background-color: #E2EBFA;\n",
              "      box-shadow: 0px 1px 2px rgba(60, 64, 67, 0.3), 0px 1px 3px 1px rgba(60, 64, 67, 0.15);\n",
              "      fill: #174EA6;\n",
              "    }\n",
              "\n",
              "    [theme=dark] .colab-df-convert {\n",
              "      background-color: #3B4455;\n",
              "      fill: #D2E3FC;\n",
              "    }\n",
              "\n",
              "    [theme=dark] .colab-df-convert:hover {\n",
              "      background-color: #434B5C;\n",
              "      box-shadow: 0px 1px 3px 1px rgba(0, 0, 0, 0.15);\n",
              "      filter: drop-shadow(0px 1px 2px rgba(0, 0, 0, 0.3));\n",
              "      fill: #FFFFFF;\n",
              "    }\n",
              "  </style>\n",
              "\n",
              "      <script>\n",
              "        const buttonEl =\n",
              "          document.querySelector('#df-5dc37c35-90e4-4dd0-bf58-454233496124 button.colab-df-convert');\n",
              "        buttonEl.style.display =\n",
              "          google.colab.kernel.accessAllowed ? 'block' : 'none';\n",
              "\n",
              "        async function convertToInteractive(key) {\n",
              "          const element = document.querySelector('#df-5dc37c35-90e4-4dd0-bf58-454233496124');\n",
              "          const dataTable =\n",
              "            await google.colab.kernel.invokeFunction('convertToInteractive',\n",
              "                                                     [key], {});\n",
              "          if (!dataTable) return;\n",
              "\n",
              "          const docLinkHtml = 'Like what you see? Visit the ' +\n",
              "            '<a target=\"_blank\" href=https://colab.research.google.com/notebooks/data_table.ipynb>data table notebook</a>'\n",
              "            + ' to learn more about interactive tables.';\n",
              "          element.innerHTML = '';\n",
              "          dataTable['output_type'] = 'display_data';\n",
              "          await google.colab.output.renderOutput(dataTable, element);\n",
              "          const docLink = document.createElement('div');\n",
              "          docLink.innerHTML = docLinkHtml;\n",
              "          element.appendChild(docLink);\n",
              "        }\n",
              "      </script>\n",
              "    </div>\n",
              "  </div>\n",
              "  "
            ]
          },
          "metadata": {},
          "execution_count": 60
        }
      ],
      "source": [
        "molecules_ro5_violated_stats = calculate_mean_std(\n",
        "    molecules_ro5_violated[[\"molecular_weight\", \"n_hba\", \"n_hbd\", \"logp\"]]\n",
        ")\n",
        "molecules_ro5_violated_stats"
      ]
    },
    {
      "cell_type": "markdown",
      "metadata": {
        "id": "Pxyt3lr8ZVPv"
      },
      "source": [
        "#### Define helper functions to prepare data for radar plotting"
      ]
    },
    {
      "cell_type": "markdown",
      "metadata": {
        "id": "zXgxVfoRZVPw"
      },
      "source": [
        "__Prepare y values__: \n",
        "The properties used for the Ro5 criteria are of different magnitudes. \n",
        "The MWT has a __threshold of 500__, whereas the number of HBAs and HBDs and the LogP have __thresholds of only 10, 5, and 5__, respectively. In order to visualize these different scales most simplistically, we will scale all property values to a __scaled threshold of 5__:\n",
        "\n",
        "`scaled property value` = `property value` / `property threshold` * `scaled property threshold`\n",
        "\n",
        "- scaled MWT = MWT / 500 * 5 = MWT / 100\n",
        "- scaled HBA = HBA / 10 * 5 = HBA / 2\n",
        "- scaled HBD = HBD / 5 * 5 = HBD\n",
        "- scaled LogP = LogP / 5 * 5 = LogP\n",
        "\n",
        "This results in a downscaling of the MWT by 100, HBA by 2, while HBD and LogP stay unchanged.\n",
        "\n",
        "The following helper function performs such a scaling and will be used later during radar plotting."
      ]
    },
    {
      "cell_type": "code",
      "execution_count": 61,
      "metadata": {
        "id": "DS-8Xmw0ZVPw"
      },
      "outputs": [],
      "source": [
        "def _scale_by_thresholds(stats, thresholds, scaled_threshold):\n",
        "    \"\"\"\n",
        "    Scale values for different properties that have each an individually defined threshold.\n",
        "\n",
        "    Parameters\n",
        "    ----------\n",
        "    stats : pd.DataFrame\n",
        "        Dataframe with \"mean\" and \"std\" (columns) for each physicochemical property (rows).\n",
        "    thresholds : dict of str: int\n",
        "        Thresholds defined for each property.\n",
        "    scaled_threshold : int or float\n",
        "        Scaled thresholds across all properties.\n",
        "\n",
        "    Returns\n",
        "    -------\n",
        "    pd.DataFrame\n",
        "        DataFrame with scaled means and standard deviations for each physiochemical property.\n",
        "    \"\"\"\n",
        "    # Raise error if scaling keys and data_stats indicies are not matching\n",
        "    for property_name in stats.index:\n",
        "        if property_name not in thresholds.keys():\n",
        "            raise KeyError(f\"Add property '{property_name}' to scaling variable.\")\n",
        "    # Scale property data\n",
        "    stats_scaled = stats.apply(lambda x: x / thresholds[x.name] * scaled_threshold, axis=1)\n",
        "    return stats_scaled"
      ]
    },
    {
      "cell_type": "markdown",
      "metadata": {
        "id": "ZGmTzFFpZVPx"
      },
      "source": [
        "__Prepare x values:__\n",
        "The following helper function returns the __angles of the physicochemical property axes for the radar chart__. For example, if we want to generate a radar plot for 4 properties, we want to set the axes at 0°, 90°, 180°, and 270°. The helper function returns such angles as radians."
      ]
    },
    {
      "cell_type": "code",
      "execution_count": 62,
      "metadata": {
        "id": "grMqZBPmZVPx"
      },
      "outputs": [],
      "source": [
        "def _define_radial_axes_angles(n_axes):\n",
        "    \"\"\"Define angles (radians) for radial (x-)axes depending on the number of axes.\"\"\"\n",
        "    x_angles = [i / float(n_axes) * 2 * math.pi for i in range(n_axes)]\n",
        "    x_angles += x_angles[:1]\n",
        "    return x_angles"
      ]
    },
    {
      "cell_type": "code",
      "execution_count": 63,
      "metadata": {
        "id": "CsIJa3A2ZVPz"
      },
      "outputs": [],
      "source": [
        "def plot_radar(\n",
        "    y,\n",
        "    thresholds,\n",
        "    scaled_threshold,\n",
        "    properties_labels,\n",
        "    y_max=None,\n",
        "    output_path=None,\n",
        "):\n",
        "    \"\"\"\n",
        "    Plot a radar chart based on the mean and standard deviation of a data set's properties.\n",
        "\n",
        "    Parameters\n",
        "    ----------\n",
        "    y : pd.DataFrame\n",
        "        Dataframe with \"mean\" and \"std\" (columns) for each physicochemical property (rows).\n",
        "    thresholds : dict of str: int\n",
        "        Thresholds defined for each property.\n",
        "    scaled_threshold : int or float\n",
        "        Scaled thresholds across all properties.\n",
        "    properties_labels : list of str\n",
        "        List of property names to be used as labels in the plot.\n",
        "    y_max : None or int or float\n",
        "        Set maximum y value. If None, let matplotlib decide.\n",
        "    output_path : None or pathlib.Path\n",
        "        If not None, save plot to file.\n",
        "    \"\"\"\n",
        "\n",
        "    # Define radial x-axes angles -- uses our helper function!\n",
        "    x = _define_radial_axes_angles(len(y))\n",
        "    # Scale y-axis values with respect to a defined threshold -- uses our helper function!\n",
        "    y = _scale_by_thresholds(y, thresholds, scaled_threshold)\n",
        "    # Since our chart will be circular we append the first value of each property to the end\n",
        "    y = y.append(y.iloc[0])\n",
        "\n",
        "    # Set figure and subplot axis\n",
        "    plt.figure(figsize=(6, 6))\n",
        "    ax = plt.subplot(111, polar=True)\n",
        "\n",
        "    # Plot data\n",
        "    ax.fill(x, [scaled_threshold] * 5, \"cornflowerblue\", alpha=0.2)\n",
        "    ax.plot(x, y[\"mean\"], \"b\", lw=3, ls=\"-\")\n",
        "    ax.plot(x, y[\"mean\"] + y[\"std\"], \"orange\", lw=2, ls=\"--\")\n",
        "    ax.plot(x, y[\"mean\"] - y[\"std\"], \"orange\", lw=2, ls=\"-.\")\n",
        "\n",
        "    # From here on, we only do plot cosmetics\n",
        "    # Set 0° to 12 o'clock\n",
        "    ax.set_theta_offset(math.pi / 2)\n",
        "    # Set clockwise rotation\n",
        "    ax.set_theta_direction(-1)\n",
        "\n",
        "    # Set y-labels next to 180° radius axis\n",
        "    ax.set_rlabel_position(180)\n",
        "    # Set number of radial axes' ticks and remove labels\n",
        "    plt.xticks(x, [])\n",
        "    # Get maximal y-ticks value\n",
        "    if not y_max:\n",
        "        y_max = int(ax.get_yticks()[-1])\n",
        "    # Set axes limits\n",
        "    plt.ylim(0, y_max)\n",
        "    # Set number and labels of y axis ticks\n",
        "    plt.yticks(\n",
        "        range(1, y_max),\n",
        "        [\"5\" if i == scaled_threshold else \"\" for i in range(1, y_max)],\n",
        "        fontsize=16,\n",
        "    )\n",
        "\n",
        "    # Draw ytick labels to make sure they fit properly\n",
        "    # Note that we use [:1] to exclude the last element which equals the first element (not needed here)\n",
        "    for i, (angle, label) in enumerate(zip(x[:-1], properties_labels)):\n",
        "        if angle == 0:\n",
        "            ha = \"center\"\n",
        "        elif 0 < angle < math.pi:\n",
        "            ha = \"left\"\n",
        "        elif angle == math.pi:\n",
        "            ha = \"center\"\n",
        "        else:\n",
        "            ha = \"right\"\n",
        "        ax.text(\n",
        "            x=angle,\n",
        "            y=y_max + 1,\n",
        "            s=label,\n",
        "            size=16,\n",
        "            horizontalalignment=ha,\n",
        "            verticalalignment=\"center\",\n",
        "        )\n",
        "\n",
        "    # Add legend relative to top-left plot\n",
        "    labels = (\"mean\", \"mean + std\", \"mean - std\", \"rule of five area\")\n",
        "    ax.legend(labels, loc=(1.1, 0.7), labelspacing=0.3, fontsize=16)\n",
        "\n",
        "    # Save plot - use bbox_inches to include text boxes\n",
        "    if output_path:\n",
        "        plt.savefig(output_path, dpi=300, bbox_inches=\"tight\", transparent=True)\n",
        "\n",
        "    plt.show()"
      ]
    },
    {
      "cell_type": "markdown",
      "metadata": {
        "id": "0JZldby-ZVP0"
      },
      "source": [
        "In the following, we want to plot the radar chart for our two datasets:\n",
        "1. Compounds that fulfill the Ro5\n",
        "2. Compounds that violate the Ro5\n",
        "\n",
        "Define input parameters that should stay the same for both radar charts:"
      ]
    },
    {
      "cell_type": "code",
      "execution_count": 64,
      "metadata": {
        "id": "kYYPHgk_ZVP0"
      },
      "outputs": [],
      "source": [
        "thresholds = {\"molecular_weight\": 500, \"n_hba\": 10, \"n_hbd\": 5, \"logp\": 5}\n",
        "scaled_threshold = 5\n",
        "properties_labels = [\n",
        "    \"Molecular weight (Da) / 100\",\n",
        "    \"# HBA / 2\",\n",
        "    \"# HBD\",\n",
        "    \"LogP\",\n",
        "]\n",
        "y_max = 8"
      ]
    },
    {
      "cell_type": "markdown",
      "metadata": {
        "id": "blBgAs7NZVP0"
      },
      "source": [
        "1. We plot the radarplot for the dataset of compounds that __fulfill the Ro5__."
      ]
    },
    {
      "cell_type": "code",
      "execution_count": 65,
      "metadata": {
        "id": "g1bMbNZOZVP1",
        "outputId": "39dbf58e-9e9e-4503-d0b6-49b141f79b5a",
        "colab": {
          "base_uri": "https://localhost:8080/",
          "height": 413
        }
      },
      "outputs": [
        {
          "output_type": "display_data",
          "data": {
            "text/plain": [
              "<Figure size 432x432 with 1 Axes>"
            ],
            "image/png": "[encoded data removed]"
          },
          "metadata": {
            "needs_background": "light"
          }
        }
      ],
      "source": [
        "plot_radar(\n",
        "    molecules_ro5_fulfilled_stats,\n",
        "    thresholds,\n",
        "    scaled_threshold,\n",
        "    properties_labels,\n",
        "    y_max,\n",
        ")"
      ]
    },
    {
      "cell_type": "markdown",
      "metadata": {
        "id": "l4RsNHmPZVP1"
      },
      "source": [
        "2. We plot the radarplot for the dataset of compounds that __violate the Ro5__."
      ]
    },
    {
      "cell_type": "code",
      "execution_count": 66,
      "metadata": {
        "tags": [
          "nbsphinx-thumbnail"
        ],
        "id": "Es_69NSmZVP2",
        "outputId": "b8eae8ed-14da-4ff6-827a-17a4bd992bcf",
        "colab": {
          "base_uri": "https://localhost:8080/",
          "height": 413
        }
      },
      "outputs": [
        {
          "output_type": "display_data",
          "data": {
            "text/plain": [
              "<Figure size 432x432 with 1 Axes>"
            ],
            "image/png": "[encoded data removed]"
          },
          "metadata": {
            "needs_background": "light"
          }
        }
      ],
      "source": [
        "plot_radar(\n",
        "    molecules_ro5_violated_stats,\n",
        "    thresholds,\n",
        "    scaled_threshold,\n",
        "    properties_labels,\n",
        "    y_max,\n",
        ")"
      ]
    },
    {
      "cell_type": "code",
      "source": [
        ""
      ],
      "metadata": {
        "id": "qsxZ86rTCuje"
      },
      "execution_count": null,
      "outputs": []
    },
    {
      "cell_type": "code",
      "execution_count": 67,
      "metadata": {
        "id": "-G1G-kYzYtfI"
      },
      "outputs": [],
      "source": [
        "from pathlib import Path\n",
        "\n",
        "import pandas as pd\n",
        "from tqdm.auto import tqdm\n",
        "from rdkit import Chem\n",
        "from rdkit.Chem import PandasTools\n",
        "from rdkit.Chem.FilterCatalog import FilterCatalog, FilterCatalogParams"
      ]
    },
    {
      "cell_type": "code",
      "execution_count": 69,
      "metadata": {
        "scrolled": true,
        "id": "sZTehTjaYtfK",
        "outputId": "c20c71d5-e016-45e0-a8f7-b7e04f1aed42",
        "colab": {
          "base_uri": "https://localhost:8080/",
          "height": 224
        }
      },
      "outputs": [
        {
          "output_type": "stream",
          "name": "stdout",
          "text": [
            "Dataframe shape: (252, 10)\n"
          ]
        },
        {
          "output_type": "execute_result",
          "data": {
            "text/plain": [
              "  molecule_chembl_id    IC50 units  \\\n",
              "0       CHEMBL303519  9800.0    nM   \n",
              "1       CHEMBL292943    50.0    nM   \n",
              "2        CHEMBL61682    25.0    nM   \n",
              "3        CHEMBL64487   360.0    nM   \n",
              "4        CHEMBL64597   300.0    nM   \n",
              "\n",
              "                                       smiles     pIC50  ro5_fulfilled  \n",
              "0   c1cnc(N2CCN(Cc3cccc4c3Cc3ccccc3-4)CC2)nc1  5.008774           True  \n",
              "1  COc1ccc(-c2cccc(CN3CCN(c4ncccn4)CC3)c2)cc1  7.301030           True  \n",
              "2  Fc1ccc(-c2cncc(CN3CCN(c4ccccc4F)CC3)c2)cc1  7.602060           True  \n",
              "3    COc1ccccc1-c1cccc(CN2CCN(c3ncccn3)CC2)c1  6.443697           True  \n",
              "4     c1cnc(N2CCN(Cc3cccc(-c4ccsc4)c3)CC2)nc1  6.522879           True  "
            ],
            "text/html": [
              "\n",
              "  <div id=\"df-a5380fcd-033c-4329-ada9-9749259f897d\">\n",
              "    <div class=\"colab-df-container\">\n",
              "      <div>\n",
              "<style scoped>\n",
              "    .dataframe tbody tr th:only-of-type {\n",
              "        vertical-align: middle;\n",
              "    }\n",
              "\n",
              "    .dataframe tbody tr th {\n",
              "        vertical-align: top;\n",
              "    }\n",
              "\n",
              "    .dataframe thead th {\n",
              "        text-align: right;\n",
              "    }\n",
              "</style>\n",
              "<table border=\"1\" class=\"dataframe\">\n",
              "  <thead>\n",
              "    <tr style=\"text-align: right;\">\n",
              "      <th></th>\n",
              "      <th>molecule_chembl_id</th>\n",
              "      <th>IC50</th>\n",
              "      <th>units</th>\n",
              "      <th>smiles</th>\n",
              "      <th>pIC50</th>\n",
              "      <th>ro5_fulfilled</th>\n",
              "    </tr>\n",
              "  </thead>\n",
              "  <tbody>\n",
              "    <tr>\n",
              "      <th>0</th>\n",
              "      <td>CHEMBL303519</td>\n",
              "      <td>9800.0</td>\n",
              "      <td>nM</td>\n",
              "      <td>c1cnc(N2CCN(Cc3cccc4c3Cc3ccccc3-4)CC2)nc1</td>\n",
              "      <td>5.008774</td>\n",
              "      <td>True</td>\n",
              "    </tr>\n",
              "    <tr>\n",
              "      <th>1</th>\n",
              "      <td>CHEMBL292943</td>\n",
              "      <td>50.0</td>\n",
              "      <td>nM</td>\n",
              "      <td>COc1ccc(-c2cccc(CN3CCN(c4ncccn4)CC3)c2)cc1</td>\n",
              "      <td>7.301030</td>\n",
              "      <td>True</td>\n",
              "    </tr>\n",
              "    <tr>\n",
              "      <th>2</th>\n",
              "      <td>CHEMBL61682</td>\n",
              "      <td>25.0</td>\n",
              "      <td>nM</td>\n",
              "      <td>Fc1ccc(-c2cncc(CN3CCN(c4ccccc4F)CC3)c2)cc1</td>\n",
              "      <td>7.602060</td>\n",
              "      <td>True</td>\n",
              "    </tr>\n",
              "    <tr>\n",
              "      <th>3</th>\n",
              "      <td>CHEMBL64487</td>\n",
              "      <td>360.0</td>\n",
              "      <td>nM</td>\n",
              "      <td>COc1ccccc1-c1cccc(CN2CCN(c3ncccn3)CC2)c1</td>\n",
              "      <td>6.443697</td>\n",
              "      <td>True</td>\n",
              "    </tr>\n",
              "    <tr>\n",
              "      <th>4</th>\n",
              "      <td>CHEMBL64597</td>\n",
              "      <td>300.0</td>\n",
              "      <td>nM</td>\n",
              "      <td>c1cnc(N2CCN(Cc3cccc(-c4ccsc4)c3)CC2)nc1</td>\n",
              "      <td>6.522879</td>\n",
              "      <td>True</td>\n",
              "    </tr>\n",
              "  </tbody>\n",
              "</table>\n",
              "</div>\n",
              "      <button class=\"colab-df-convert\" onclick=\"convertToInteractive('df-a5380fcd-033c-4329-ada9-9749259f897d')\"\n",
              "              title=\"Convert this dataframe to an interactive table.\"\n",
              "              style=\"display:none;\">\n",
              "        \n",
              "  <svg xmlns=\"http://www.w3.org/2000/svg\" height=\"24px\"viewBox=\"0 0 24 24\"\n",
              "       width=\"24px\">\n",
              "    <path d=\"M0 0h24v24H0V0z\" fill=\"none\"/>\n",
              "    <path d=\"M18.56 5.44l.94 2.06.94-2.06 2.06-.94-2.06-.94-.94-2.06-.94 2.06-2.06.94zm-11 1L8.5 8.5l.94-2.06 2.06-.94-2.06-.94L8.5 2.5l-.94 2.06-2.06.94zm10 10l.94 2.06.94-2.06 2.06-.94-2.06-.94-.94-2.06-.94 2.06-2.06.94z\"/><path d=\"M17.41 7.96l-1.37-1.37c-.4-.4-.92-.59-1.43-.59-.52 0-1.04.2-1.43.59L10.3 9.45l-7.72 7.72c-.78.78-.78 2.05 0 2.83L4 21.41c.39.39.9.59 1.41.59.51 0 1.02-.2 1.41-.59l7.78-7.78 2.81-2.81c.8-.78.8-2.07 0-2.86zM5.41 20L4 18.59l7.72-7.72 1.47 1.35L5.41 20z\"/>\n",
              "  </svg>\n",
              "      </button>\n",
              "      \n",
              "  <style>\n",
              "    .colab-df-container {\n",
              "      display:flex;\n",
              "      flex-wrap:wrap;\n",
              "      gap: 12px;\n",
              "    }\n",
              "\n",
              "    .colab-df-convert {\n",
              "      background-color: #E8F0FE;\n",
              "      border: none;\n",
              "      border-radius: 50%;\n",
              "      cursor: pointer;\n",
              "      display: none;\n",
              "      fill: #1967D2;\n",
              "      height: 32px;\n",
              "      padding: 0 0 0 0;\n",
              "      width: 32px;\n",
              "    }\n",
              "\n",
              "    .colab-df-convert:hover {\n",
              "      background-color: #E2EBFA;\n",
              "      box-shadow: 0px 1px 2px rgba(60, 64, 67, 0.3), 0px 1px 3px 1px rgba(60, 64, 67, 0.15);\n",
              "      fill: #174EA6;\n",
              "    }\n",
              "\n",
              "    [theme=dark] .colab-df-convert {\n",
              "      background-color: #3B4455;\n",
              "      fill: #D2E3FC;\n",
              "    }\n",
              "\n",
              "    [theme=dark] .colab-df-convert:hover {\n",
              "      background-color: #434B5C;\n",
              "      box-shadow: 0px 1px 3px 1px rgba(0, 0, 0, 0.15);\n",
              "      filter: drop-shadow(0px 1px 2px rgba(0, 0, 0, 0.3));\n",
              "      fill: #FFFFFF;\n",
              "    }\n",
              "  </style>\n",
              "\n",
              "      <script>\n",
              "        const buttonEl =\n",
              "          document.querySelector('#df-a5380fcd-033c-4329-ada9-9749259f897d button.colab-df-convert');\n",
              "        buttonEl.style.display =\n",
              "          google.colab.kernel.accessAllowed ? 'block' : 'none';\n",
              "\n",
              "        async function convertToInteractive(key) {\n",
              "          const element = document.querySelector('#df-a5380fcd-033c-4329-ada9-9749259f897d');\n",
              "          const dataTable =\n",
              "            await google.colab.kernel.invokeFunction('convertToInteractive',\n",
              "                                                     [key], {});\n",
              "          if (!dataTable) return;\n",
              "\n",
              "          const docLinkHtml = 'Like what you see? Visit the ' +\n",
              "            '<a target=\"_blank\" href=https://colab.research.google.com/notebooks/data_table.ipynb>data table notebook</a>'\n",
              "            + ' to learn more about interactive tables.';\n",
              "          element.innerHTML = '';\n",
              "          dataTable['output_type'] = 'display_data';\n",
              "          await google.colab.output.renderOutput(dataTable, element);\n",
              "          const docLink = document.createElement('div');\n",
              "          docLink.innerHTML = docLinkHtml;\n",
              "          element.appendChild(docLink);\n",
              "        }\n",
              "      </script>\n",
              "    </div>\n",
              "  </div>\n",
              "  "
            ]
          },
          "metadata": {},
          "execution_count": 69
        }
      ],
      "source": [
        "data = pd.read_csv(\"D2_compounds_lipinski.csv\",\n",
        "    index_col=0,\n",
        ")\n",
        "# Drop unnecessary information\n",
        "print(\"Dataframe shape:\", data.shape)\n",
        "data.drop(columns=[\"molecular_weight\", \"n_hbd\", \"n_hba\", \"logp\"], inplace=True)\n",
        "data.head()"
      ]
    },
    {
      "cell_type": "code",
      "execution_count": 70,
      "metadata": {
        "scrolled": true,
        "id": "GPFFCmDaYtfM",
        "outputId": "e20431a7-984f-4245-8681-67963cbb4ae7",
        "colab": {
          "base_uri": "https://localhost:8080/",
          "height": 417
        }
      },
      "outputs": [
        {
          "output_type": "execute_result",
          "data": {
            "text/plain": [
              "<IPython.core.display.Image object>"
            ],
            "image/png": "[encoded data removed]"
          },
          "metadata": {},
          "execution_count": 70
        }
      ],
      "source": [
        "# Add molecule column\n",
        "PandasTools.AddMoleculeColumnToFrame(data, smilesCol=\"smiles\")\n",
        "# Draw first 6 molecules\n",
        "Chem.Draw.MolsToGridImage(\n",
        "    list(data.head(6).ROMol),\n",
        "    legends=list(data.head(6).molecule_chembl_id),\n",
        ")"
      ]
    },
    {
      "cell_type": "markdown",
      "metadata": {
        "id": "GtJIk9oKYtfN"
      },
      "source": [
        "### Filter for PAINS\n",
        "\n",
        "The PAINS filter is already implemented in RDKit ([documentation](http://rdkit.org/docs/source/rdkit.Chem.rdfiltercatalog.html)). Such pre-defined filters can be applied via the `FilterCatalog` class. Let's learn how it can be used."
      ]
    },
    {
      "cell_type": "code",
      "execution_count": 71,
      "metadata": {
        "id": "_R0Ut0LTYtfN"
      },
      "outputs": [],
      "source": [
        "# initialize filter\n",
        "params = FilterCatalogParams()\n",
        "params.AddCatalog(FilterCatalogParams.FilterCatalogs.PAINS)\n",
        "catalog = FilterCatalog(params)"
      ]
    },
    {
      "cell_type": "code",
      "execution_count": 72,
      "metadata": {
        "colab": {
          "referenced_widgets": [
            "62b65831c85a4a70b674c30b30f54b31",
            "3a45671ce6984c15b19eaa2f45e45240",
            "93d5830cf5254b00a3b3c2786530dc80",
            "e6acb35b19f346719e8f370d3d03936c",
            "4fe6dba862c943f6a3409960161d26db",
            "20df5c1381b0428b94a184c64755a591",
            "28af55445b474a18ae106884808bc85d",
            "b034777ba83e47b6b877c0139a5ff343",
            "73df08df347440dd9a607606753fcaf4",
            "df747eabc22b44f6bb5c51e3221938c5",
            "b4adadd81bfe42739ea5491a2b128377"
          ],
          "base_uri": "https://localhost:8080/",
          "height": 49
        },
        "id": "DLCwit9_YtfO",
        "outputId": "01c51763-b4ed-4ef3-904a-a1dc3ba9d5c6"
      },
      "outputs": [
        {
          "output_type": "display_data",
          "data": {
            "text/plain": [
              "  0%|          | 0/252 [00:00<?, ?it/s]"
            ],
            "application/vnd.jupyter.widget-view+json": {
              "version_major": 2,
              "version_minor": 0,
              "model_id": "62b65831c85a4a70b674c30b30f54b31"
            }
          },
          "metadata": {}
        }
      ],
      "source": [
        "# search for PAINS\n",
        "matches = []\n",
        "clean = []\n",
        "for index, row in tqdm(data.iterrows(), total=data.shape[0]):\n",
        "    molecule = Chem.MolFromSmiles(row.smiles)\n",
        "    entry = catalog.GetFirstMatch(molecule)  # Get the first matching PAINS\n",
        "    if entry is not None:\n",
        "        # store PAINS information\n",
        "        matches.append(\n",
        "            {\n",
        "                \"chembl_id\": row.molecule_chembl_id,\n",
        "                \"rdkit_molecule\": molecule,\n",
        "                \"pains\": entry.GetDescription().capitalize(),\n",
        "            }\n",
        "        )\n",
        "    else:\n",
        "        # collect indices of molecules without PAINS\n",
        "        clean.append(index)\n",
        "\n",
        "matches = pd.DataFrame(matches)\n",
        "data = data.loc[clean]  # keep molecules without PAINS"
      ]
    },
    {
      "cell_type": "code",
      "execution_count": 73,
      "metadata": {
        "id": "XApz5JRmYtfP",
        "outputId": "af83edbb-cd34-4c3a-ee82-f650e5bf9383",
        "colab": {
          "base_uri": "https://localhost:8080/"
        }
      },
      "outputs": [
        {
          "output_type": "stream",
          "name": "stdout",
          "text": [
            "Number of compounds with PAINS: 13\n",
            "Number of compounds without PAINS: 239\n"
          ]
        }
      ],
      "source": [
        "# NBVAL_CHECK_OUTPUT\n",
        "print(f\"Number of compounds with PAINS: {len(matches)}\")\n",
        "print(f\"Number of compounds without PAINS: {len(data)}\")"
      ]
    },
    {
      "cell_type": "code",
      "execution_count": 74,
      "metadata": {
        "id": "5A1-POmvYtfP",
        "outputId": "5ff50800-66fd-4152-904e-7a014c757798",
        "colab": {
          "base_uri": "https://localhost:8080/",
          "height": 217
        }
      },
      "outputs": [
        {
          "output_type": "execute_result",
          "data": {
            "text/plain": [
              "<IPython.core.display.Image object>"
            ],
            "image/png": "[encoded data removed]"
          },
          "metadata": {},
          "execution_count": 74
        }
      ],
      "source": [
        "Chem.Draw.MolsToGridImage(\n",
        "    list(matches.head(3).rdkit_molecule),\n",
        "    legends=list(matches.head(3)[\"pains\"]),\n",
        ")"
      ]
    },
    {
      "cell_type": "markdown",
      "metadata": {
        "id": "DzXmL5fCYtfQ"
      },
      "source": [
        "### Filter and highlight unwanted substructures\n",
        "\n",
        "Some lists of unwanted substructures, like PAINS, are already implemented in RDKit. However, it is also possible to use an external list and get the substructure matches manually. \n",
        "Here, we use the list provided in the supporting information from Brenk *et al.* ([_Chem. Med. Chem._ (2008), **3**, 535-44](https://onlinelibrary.wiley.com/doi/full/10.1002/cmdc.200700139))."
      ]
    },
    {
      "cell_type": "code",
      "execution_count": 75,
      "metadata": {
        "id": "uluAMLerYtfQ",
        "outputId": "0a19bb6d-5f5c-4dff-de4f-ee7a6ccbf861",
        "colab": {
          "base_uri": "https://localhost:8080/"
        }
      },
      "outputs": [
        {
          "output_type": "stream",
          "name": "stdout",
          "text": [
            "Number of unwanted substructures in collection: 104\n"
          ]
        }
      ],
      "source": [
        "substructures = pd.read_csv(\"unwanted_substructures.csv\", sep=\"\\s+\")\n",
        "substructures[\"rdkit_molecule\"] = substructures.smarts.apply(Chem.MolFromSmarts)\n",
        "print(\"Number of unwanted substructures in collection:\", len(substructures))\n",
        "# NBVAL_CHECK_OUTPUT"
      ]
    },
    {
      "cell_type": "code",
      "execution_count": 76,
      "metadata": {
        "id": "kjAkKKMLYtfR",
        "outputId": "b07e2bc8-d974-4bbc-a2ec-d9410a67f9b6",
        "colab": {
          "base_uri": "https://localhost:8080/",
          "height": 217
        }
      },
      "outputs": [
        {
          "output_type": "execute_result",
          "data": {
            "text/plain": [
              "<IPython.core.display.Image object>"
            ],
            "image/png": "[encoded data removed]"
          },
          "metadata": {},
          "execution_count": 76
        }
      ],
      "source": [
        "Chem.Draw.MolsToGridImage(\n",
        "    mols=substructures.rdkit_molecule.tolist()[2:5],\n",
        "    legends=substructures.name.tolist()[2:5],\n",
        ")"
      ]
    },
    {
      "cell_type": "markdown",
      "metadata": {
        "id": "iKXu9Bh7YtfS"
      },
      "source": [
        "Search our filtered dataframe for matches with these unwanted substructures."
      ]
    },
    {
      "cell_type": "code",
      "execution_count": 77,
      "metadata": {
        "colab": {
          "referenced_widgets": [
            "354e34f669c54fc19092bdba37b4a502",
            "3fdd7e90619d4b948254ee22c808657d",
            "a3c551c60b4d4c2ea9e6baa0eb530ae7",
            "f8374df8f3ed4c3491d3619d0be29618",
            "8a35411cd6454c35aaee90e6a0a5d3d2",
            "19eed00086c04fe3926d6da4fd7d6c5f",
            "ccbc2b868d6a4064919e73252e34b464",
            "8610779ad9dc4541ba1874ff1f6cf5a2",
            "c4a67c183d8a4c3f9be7fcbc98f769ac",
            "b2cb282bb72844a287c534d14f9a049a",
            "ccc34b9b0ed1470bb520cb6591b1d4ad"
          ],
          "base_uri": "https://localhost:8080/",
          "height": 49
        },
        "id": "iB5zlG_rYtfS",
        "outputId": "17a5481a-ac58-4d7e-8f4b-563488267442"
      },
      "outputs": [
        {
          "output_type": "display_data",
          "data": {
            "text/plain": [
              "  0%|          | 0/239 [00:00<?, ?it/s]"
            ],
            "application/vnd.jupyter.widget-view+json": {
              "version_major": 2,
              "version_minor": 0,
              "model_id": "354e34f669c54fc19092bdba37b4a502"
            }
          },
          "metadata": {}
        }
      ],
      "source": [
        "# search for unwanted substructure\n",
        "matches = []\n",
        "clean = []\n",
        "for index, row in tqdm(data.iterrows(), total=data.shape[0]):\n",
        "    molecule = Chem.MolFromSmiles(row.smiles)\n",
        "    match = False\n",
        "    for _, substructure in substructures.iterrows():\n",
        "        if molecule.HasSubstructMatch(substructure.rdkit_molecule):\n",
        "            matches.append(\n",
        "                {\n",
        "                    \"chembl_id\": row.molecule_chembl_id,\n",
        "                    \"rdkit_molecule\": molecule,\n",
        "                    \"substructure\": substructure.rdkit_molecule,\n",
        "                    \"substructure_name\": substructure[\"name\"],\n",
        "                }\n",
        "            )\n",
        "            match = True\n",
        "    if not match:\n",
        "        clean.append(index)\n",
        "\n",
        "matches = pd.DataFrame(matches)\n",
        "egfr_data = data.loc[clean]"
      ]
    },
    {
      "cell_type": "code",
      "execution_count": 78,
      "metadata": {
        "id": "sKtgqBASYtfT",
        "outputId": "98402c4e-af12-4a00-98a3-aeb2bf1bf78f",
        "colab": {
          "base_uri": "https://localhost:8080/"
        }
      },
      "outputs": [
        {
          "output_type": "stream",
          "name": "stdout",
          "text": [
            "Number of found unwanted substructure: 98\n",
            "Number of compounds without unwanted substructure: 239\n"
          ]
        }
      ],
      "source": [
        "# NBVAL_CHECK_OUTPUT\n",
        "print(f\"Number of found unwanted substructure: {len(matches)}\")\n",
        "print(f\"Number of compounds without unwanted substructure: {len(data)}\")"
      ]
    },
    {
      "cell_type": "code",
      "source": [
        "data = data.drop(\"ROMol\", axis=1)\n",
        "data"
      ],
      "metadata": {
        "colab": {
          "base_uri": "https://localhost:8080/",
          "height": 424
        },
        "id": "YBvgyUv2lP14",
        "outputId": "e7d2b234-815e-4e15-fa98-d425e971ad36"
      },
      "execution_count": 80,
      "outputs": [
        {
          "output_type": "execute_result",
          "data": {
            "text/plain": [
              "    molecule_chembl_id     IC50 units  \\\n",
              "0         CHEMBL303519  9800.00    nM   \n",
              "1         CHEMBL292943    50.00    nM   \n",
              "2          CHEMBL61682    25.00    nM   \n",
              "3          CHEMBL64487   360.00    nM   \n",
              "4          CHEMBL64597   300.00    nM   \n",
              "..                 ...      ...   ...   \n",
              "281      CHEMBL4442011    40.77    nM   \n",
              "282      CHEMBL4589737  3629.00    nM   \n",
              "283         CHEMBL8809     1.83    nM   \n",
              "284      CHEMBL4451797    71.00    nM   \n",
              "285      CHEMBL3306803     4.10    nM   \n",
              "\n",
              "                                                smiles     pIC50  \\\n",
              "0            c1cnc(N2CCN(Cc3cccc4c3Cc3ccccc3-4)CC2)nc1  5.008774   \n",
              "1           COc1ccc(-c2cccc(CN3CCN(c4ncccn4)CC3)c2)cc1  7.301030   \n",
              "2           Fc1ccc(-c2cncc(CN3CCN(c4ccccc4F)CC3)c2)cc1  7.602060   \n",
              "3             COc1ccccc1-c1cccc(CN2CCN(c3ncccn3)CC2)c1  6.443697   \n",
              "4              c1cnc(N2CCN(Cc3cccc(-c4ccsc4)c3)CC2)nc1  6.522879   \n",
              "..                                                 ...       ...   \n",
              "281        CCc1ccc2c3c1CCN(C)[C@H]3Cc1ccc(OC)c(OC)c1-2  7.389659   \n",
              "282      COc1ccc2c(c1OC)-c1ccc(C)c3c1[C@@H](C2)N(C)CC3  5.440213   \n",
              "283          CCN1CCC[C@H]1CNC(=O)c1c(O)c(Cl)cc(Cl)c1OC  8.737549   \n",
              "284  CN(C)C(=O)N[C@H]1CC[C@H](CCN2CCc3cccc(Cl)c3C2)CC1  7.148742   \n",
              "285  CN1CCN2c3c(cccc31)[C@@H]1CN(CCCC(=O)c3ccc(F)cc...  8.387216   \n",
              "\n",
              "     ro5_fulfilled  \n",
              "0             True  \n",
              "1             True  \n",
              "2             True  \n",
              "3             True  \n",
              "4             True  \n",
              "..             ...  \n",
              "281           True  \n",
              "282           True  \n",
              "283           True  \n",
              "284           True  \n",
              "285           True  \n",
              "\n",
              "[239 rows x 6 columns]"
            ],
            "text/html": [
              "\n",
              "  <div id=\"df-95987248-f496-4c25-9109-6049b84d764a\">\n",
              "    <div class=\"colab-df-container\">\n",
              "      <div>\n",
              "<style scoped>\n",
              "    .dataframe tbody tr th:only-of-type {\n",
              "        vertical-align: middle;\n",
              "    }\n",
              "\n",
              "    .dataframe tbody tr th {\n",
              "        vertical-align: top;\n",
              "    }\n",
              "\n",
              "    .dataframe thead th {\n",
              "        text-align: right;\n",
              "    }\n",
              "</style>\n",
              "<table border=\"1\" class=\"dataframe\">\n",
              "  <thead>\n",
              "    <tr style=\"text-align: right;\">\n",
              "      <th></th>\n",
              "      <th>molecule_chembl_id</th>\n",
              "      <th>IC50</th>\n",
              "      <th>units</th>\n",
              "      <th>smiles</th>\n",
              "      <th>pIC50</th>\n",
              "      <th>ro5_fulfilled</th>\n",
              "    </tr>\n",
              "  </thead>\n",
              "  <tbody>\n",
              "    <tr>\n",
              "      <th>0</th>\n",
              "      <td>CHEMBL303519</td>\n",
              "      <td>9800.00</td>\n",
              "      <td>nM</td>\n",
              "      <td>c1cnc(N2CCN(Cc3cccc4c3Cc3ccccc3-4)CC2)nc1</td>\n",
              "      <td>5.008774</td>\n",
              "      <td>True</td>\n",
              "    </tr>\n",
              "    <tr>\n",
              "      <th>1</th>\n",
              "      <td>CHEMBL292943</td>\n",
              "      <td>50.00</td>\n",
              "      <td>nM</td>\n",
              "      <td>COc1ccc(-c2cccc(CN3CCN(c4ncccn4)CC3)c2)cc1</td>\n",
              "      <td>7.301030</td>\n",
              "      <td>True</td>\n",
              "    </tr>\n",
              "    <tr>\n",
              "      <th>2</th>\n",
              "      <td>CHEMBL61682</td>\n",
              "      <td>25.00</td>\n",
              "      <td>nM</td>\n",
              "      <td>Fc1ccc(-c2cncc(CN3CCN(c4ccccc4F)CC3)c2)cc1</td>\n",
              "      <td>7.602060</td>\n",
              "      <td>True</td>\n",
              "    </tr>\n",
              "    <tr>\n",
              "      <th>3</th>\n",
              "      <td>CHEMBL64487</td>\n",
              "      <td>360.00</td>\n",
              "      <td>nM</td>\n",
              "      <td>COc1ccccc1-c1cccc(CN2CCN(c3ncccn3)CC2)c1</td>\n",
              "      <td>6.443697</td>\n",
              "      <td>True</td>\n",
              "    </tr>\n",
              "    <tr>\n",
              "      <th>4</th>\n",
              "      <td>CHEMBL64597</td>\n",
              "      <td>300.00</td>\n",
              "      <td>nM</td>\n",
              "      <td>c1cnc(N2CCN(Cc3cccc(-c4ccsc4)c3)CC2)nc1</td>\n",
              "      <td>6.522879</td>\n",
              "      <td>True</td>\n",
              "    </tr>\n",
              "    <tr>\n",
              "      <th>...</th>\n",
              "      <td>...</td>\n",
              "      <td>...</td>\n",
              "      <td>...</td>\n",
              "      <td>...</td>\n",
              "      <td>...</td>\n",
              "      <td>...</td>\n",
              "    </tr>\n",
              "    <tr>\n",
              "      <th>281</th>\n",
              "      <td>CHEMBL4442011</td>\n",
              "      <td>40.77</td>\n",
              "      <td>nM</td>\n",
              "      <td>CCc1ccc2c3c1CCN(C)[C@H]3Cc1ccc(OC)c(OC)c1-2</td>\n",
              "      <td>7.389659</td>\n",
              "      <td>True</td>\n",
              "    </tr>\n",
              "    <tr>\n",
              "      <th>282</th>\n",
              "      <td>CHEMBL4589737</td>\n",
              "      <td>3629.00</td>\n",
              "      <td>nM</td>\n",
              "      <td>COc1ccc2c(c1OC)-c1ccc(C)c3c1[C@@H](C2)N(C)CC3</td>\n",
              "      <td>5.440213</td>\n",
              "      <td>True</td>\n",
              "    </tr>\n",
              "    <tr>\n",
              "      <th>283</th>\n",
              "      <td>CHEMBL8809</td>\n",
              "      <td>1.83</td>\n",
              "      <td>nM</td>\n",
              "      <td>CCN1CCC[C@H]1CNC(=O)c1c(O)c(Cl)cc(Cl)c1OC</td>\n",
              "      <td>8.737549</td>\n",
              "      <td>True</td>\n",
              "    </tr>\n",
              "    <tr>\n",
              "      <th>284</th>\n",
              "      <td>CHEMBL4451797</td>\n",
              "      <td>71.00</td>\n",
              "      <td>nM</td>\n",
              "      <td>CN(C)C(=O)N[C@H]1CC[C@H](CCN2CCc3cccc(Cl)c3C2)CC1</td>\n",
              "      <td>7.148742</td>\n",
              "      <td>True</td>\n",
              "    </tr>\n",
              "    <tr>\n",
              "      <th>285</th>\n",
              "      <td>CHEMBL3306803</td>\n",
              "      <td>4.10</td>\n",
              "      <td>nM</td>\n",
              "      <td>CN1CCN2c3c(cccc31)[C@@H]1CN(CCCC(=O)c3ccc(F)cc...</td>\n",
              "      <td>8.387216</td>\n",
              "      <td>True</td>\n",
              "    </tr>\n",
              "  </tbody>\n",
              "</table>\n",
              "<p>239 rows × 6 columns</p>\n",
              "</div>\n",
              "      <button class=\"colab-df-convert\" onclick=\"convertToInteractive('df-95987248-f496-4c25-9109-6049b84d764a')\"\n",
              "              title=\"Convert this dataframe to an interactive table.\"\n",
              "              style=\"display:none;\">\n",
              "        \n",
              "  <svg xmlns=\"http://www.w3.org/2000/svg\" height=\"24px\"viewBox=\"0 0 24 24\"\n",
              "       width=\"24px\">\n",
              "    <path d=\"M0 0h24v24H0V0z\" fill=\"none\"/>\n",
              "    <path d=\"M18.56 5.44l.94 2.06.94-2.06 2.06-.94-2.06-.94-.94-2.06-.94 2.06-2.06.94zm-11 1L8.5 8.5l.94-2.06 2.06-.94-2.06-.94L8.5 2.5l-.94 2.06-2.06.94zm10 10l.94 2.06.94-2.06 2.06-.94-2.06-.94-.94-2.06-.94 2.06-2.06.94z\"/><path d=\"M17.41 7.96l-1.37-1.37c-.4-.4-.92-.59-1.43-.59-.52 0-1.04.2-1.43.59L10.3 9.45l-7.72 7.72c-.78.78-.78 2.05 0 2.83L4 21.41c.39.39.9.59 1.41.59.51 0 1.02-.2 1.41-.59l7.78-7.78 2.81-2.81c.8-.78.8-2.07 0-2.86zM5.41 20L4 18.59l7.72-7.72 1.47 1.35L5.41 20z\"/>\n",
              "  </svg>\n",
              "      </button>\n",
              "      \n",
              "  <style>\n",
              "    .colab-df-container {\n",
              "      display:flex;\n",
              "      flex-wrap:wrap;\n",
              "      gap: 12px;\n",
              "    }\n",
              "\n",
              "    .colab-df-convert {\n",
              "      background-color: #E8F0FE;\n",
              "      border: none;\n",
              "      border-radius: 50%;\n",
              "      cursor: pointer;\n",
              "      display: none;\n",
              "      fill: #1967D2;\n",
              "      height: 32px;\n",
              "      padding: 0 0 0 0;\n",
              "      width: 32px;\n",
              "    }\n",
              "\n",
              "    .colab-df-convert:hover {\n",
              "      background-color: #E2EBFA;\n",
              "      box-shadow: 0px 1px 2px rgba(60, 64, 67, 0.3), 0px 1px 3px 1px rgba(60, 64, 67, 0.15);\n",
              "      fill: #174EA6;\n",
              "    }\n",
              "\n",
              "    [theme=dark] .colab-df-convert {\n",
              "      background-color: #3B4455;\n",
              "      fill: #D2E3FC;\n",
              "    }\n",
              "\n",
              "    [theme=dark] .colab-df-convert:hover {\n",
              "      background-color: #434B5C;\n",
              "      box-shadow: 0px 1px 3px 1px rgba(0, 0, 0, 0.15);\n",
              "      filter: drop-shadow(0px 1px 2px rgba(0, 0, 0, 0.3));\n",
              "      fill: #FFFFFF;\n",
              "    }\n",
              "  </style>\n",
              "\n",
              "      <script>\n",
              "        const buttonEl =\n",
              "          document.querySelector('#df-95987248-f496-4c25-9109-6049b84d764a button.colab-df-convert');\n",
              "        buttonEl.style.display =\n",
              "          google.colab.kernel.accessAllowed ? 'block' : 'none';\n",
              "\n",
              "        async function convertToInteractive(key) {\n",
              "          const element = document.querySelector('#df-95987248-f496-4c25-9109-6049b84d764a');\n",
              "          const dataTable =\n",
              "            await google.colab.kernel.invokeFunction('convertToInteractive',\n",
              "                                                     [key], {});\n",
              "          if (!dataTable) return;\n",
              "\n",
              "          const docLinkHtml = 'Like what you see? Visit the ' +\n",
              "            '<a target=\"_blank\" href=https://colab.research.google.com/notebooks/data_table.ipynb>data table notebook</a>'\n",
              "            + ' to learn more about interactive tables.';\n",
              "          element.innerHTML = '';\n",
              "          dataTable['output_type'] = 'display_data';\n",
              "          await google.colab.output.renderOutput(dataTable, element);\n",
              "          const docLink = document.createElement('div');\n",
              "          docLink.innerHTML = docLinkHtml;\n",
              "          element.appendChild(docLink);\n",
              "        }\n",
              "      </script>\n",
              "    </div>\n",
              "  </div>\n",
              "  "
            ]
          },
          "metadata": {},
          "execution_count": 80
        }
      ]
    },
    {
      "cell_type": "code",
      "source": [
        "data.to_csv('D2_pains_unwanted_filt.csv', index=False)"
      ],
      "metadata": {
        "id": "Yli6GwsBlrsC"
      },
      "execution_count": 81,
      "outputs": []
    },
    {
      "cell_type": "markdown",
      "metadata": {
        "id": "w5AdhYm4YtfT"
      },
      "source": [
        "### Highlight substructures"
      ]
    },
    {
      "cell_type": "markdown",
      "metadata": {
        "id": "qIy-Gi5zYtfT"
      },
      "source": [
        "Let's have a look at the first 3 identified unwanted substructures. Since we have access to the underlying SMARTS patterns we can highlight the substructures within the RDKit molecules."
      ]
    },
    {
      "cell_type": "code",
      "execution_count": 82,
      "metadata": {
        "tags": [
          "nbsphinx-thumbnail"
        ],
        "id": "BGdlKgF2YtfU",
        "outputId": "29b6680a-969b-429d-ef37-475430b12662",
        "colab": {
          "base_uri": "https://localhost:8080/",
          "height": 217
        }
      },
      "outputs": [
        {
          "output_type": "execute_result",
          "data": {
            "text/plain": [
              "<IPython.core.display.Image object>"
            ],
            "image/png": "[encoded data removed]"
          },
          "metadata": {},
          "execution_count": 82
        }
      ],
      "source": [
        "to_highlight = [\n",
        "    row.rdkit_molecule.GetSubstructMatch(row.substructure) for _, row in matches.head(3).iterrows()\n",
        "]\n",
        "Chem.Draw.MolsToGridImage(\n",
        "    list(matches.head(3).rdkit_molecule),\n",
        "    highlightAtomLists=to_highlight,\n",
        "    legends=list(matches.head(3).substructure_name),\n",
        ")"
      ]
    },
    {
      "cell_type": "markdown",
      "metadata": {
        "id": "iMgREU7nYtfU"
      },
      "source": [
        "### Substructure statistics"
      ]
    },
    {
      "cell_type": "markdown",
      "metadata": {
        "id": "qyvSDLeFYtfU"
      },
      "source": [
        "Finally, we want to find the most frequent substructure found in our data set. The Pandas `DataFrame` provides convenient methods to group containing data and to retrieve group sizes."
      ]
    },
    {
      "cell_type": "code",
      "execution_count": 83,
      "metadata": {
        "id": "rROiN4C4YtfV",
        "outputId": "29a4a6d1-d1ec-44a7-9d90-d2e04e18978b",
        "colab": {
          "base_uri": "https://localhost:8080/"
        }
      },
      "outputs": [
        {
          "output_type": "execute_result",
          "data": {
            "text/plain": [
              "substructure_name\n",
              "Aliphatic-long-chain           39\n",
              "Michael-acceptor                9\n",
              "isolate-alkene                  6\n",
              "aniline                         5\n",
              "triple-bond                     5\n",
              "Sulfonic-acid                   5\n",
              "triflate                        4\n",
              "charged-oxygen/sulfur-atoms     3\n",
              "stilbene                        3\n",
              "cumarine                        2\n",
              "dtype: int64"
            ]
          },
          "metadata": {},
          "execution_count": 83
        }
      ],
      "source": [
        "# NBVAL_CHECK_OUTPUT\n",
        "groups = matches.groupby(\"substructure_name\")\n",
        "group_frequencies = groups.size()\n",
        "group_frequencies.sort_values(ascending=False, inplace=True)\n",
        "group_frequencies.head(10)"
      ]
    },
    {
      "cell_type": "markdown",
      "source": [
        "# Filtering active compounds"
      ],
      "metadata": {
        "id": "ZjAf2OyDJyVI"
      }
    },
    {
      "cell_type": "code",
      "source": [
        "import dataclasses\n",
        "# Keep only the columns we want\n",
        "chembl_df = data[[\"molecule_chembl_id\", \"smiles\", \"pIC50\"]]\n",
        "chembl_df.head()\n",
        "# NBVAL_CHECK_OUTPUT"
      ],
      "metadata": {
        "colab": {
          "base_uri": "https://localhost:8080/",
          "height": 206
        },
        "id": "4oGsHJ7vCumw",
        "outputId": "45552f6a-555e-456c-b7bf-8b97cd49a61a"
      },
      "execution_count": 84,
      "outputs": [
        {
          "output_type": "execute_result",
          "data": {
            "text/plain": [
              "  molecule_chembl_id                                      smiles     pIC50\n",
              "0       CHEMBL303519   c1cnc(N2CCN(Cc3cccc4c3Cc3ccccc3-4)CC2)nc1  5.008774\n",
              "1       CHEMBL292943  COc1ccc(-c2cccc(CN3CCN(c4ncccn4)CC3)c2)cc1  7.301030\n",
              "2        CHEMBL61682  Fc1ccc(-c2cncc(CN3CCN(c4ccccc4F)CC3)c2)cc1  7.602060\n",
              "3        CHEMBL64487    COc1ccccc1-c1cccc(CN2CCN(c3ncccn3)CC2)c1  6.443697\n",
              "4        CHEMBL64597     c1cnc(N2CCN(Cc3cccc(-c4ccsc4)c3)CC2)nc1  6.522879"
            ],
            "text/html": [
              "\n",
              "  <div id=\"df-a0bed818-5d26-4ab1-bfc8-1c6a97763b25\">\n",
              "    <div class=\"colab-df-container\">\n",
              "      <div>\n",
              "<style scoped>\n",
              "    .dataframe tbody tr th:only-of-type {\n",
              "        vertical-align: middle;\n",
              "    }\n",
              "\n",
              "    .dataframe tbody tr th {\n",
              "        vertical-align: top;\n",
              "    }\n",
              "\n",
              "    .dataframe thead th {\n",
              "        text-align: right;\n",
              "    }\n",
              "</style>\n",
              "<table border=\"1\" class=\"dataframe\">\n",
              "  <thead>\n",
              "    <tr style=\"text-align: right;\">\n",
              "      <th></th>\n",
              "      <th>molecule_chembl_id</th>\n",
              "      <th>smiles</th>\n",
              "      <th>pIC50</th>\n",
              "    </tr>\n",
              "  </thead>\n",
              "  <tbody>\n",
              "    <tr>\n",
              "      <th>0</th>\n",
              "      <td>CHEMBL303519</td>\n",
              "      <td>c1cnc(N2CCN(Cc3cccc4c3Cc3ccccc3-4)CC2)nc1</td>\n",
              "      <td>5.008774</td>\n",
              "    </tr>\n",
              "    <tr>\n",
              "      <th>1</th>\n",
              "      <td>CHEMBL292943</td>\n",
              "      <td>COc1ccc(-c2cccc(CN3CCN(c4ncccn4)CC3)c2)cc1</td>\n",
              "      <td>7.301030</td>\n",
              "    </tr>\n",
              "    <tr>\n",
              "      <th>2</th>\n",
              "      <td>CHEMBL61682</td>\n",
              "      <td>Fc1ccc(-c2cncc(CN3CCN(c4ccccc4F)CC3)c2)cc1</td>\n",
              "      <td>7.602060</td>\n",
              "    </tr>\n",
              "    <tr>\n",
              "      <th>3</th>\n",
              "      <td>CHEMBL64487</td>\n",
              "      <td>COc1ccccc1-c1cccc(CN2CCN(c3ncccn3)CC2)c1</td>\n",
              "      <td>6.443697</td>\n",
              "    </tr>\n",
              "    <tr>\n",
              "      <th>4</th>\n",
              "      <td>CHEMBL64597</td>\n",
              "      <td>c1cnc(N2CCN(Cc3cccc(-c4ccsc4)c3)CC2)nc1</td>\n",
              "      <td>6.522879</td>\n",
              "    </tr>\n",
              "  </tbody>\n",
              "</table>\n",
              "</div>\n",
              "      <button class=\"colab-df-convert\" onclick=\"convertToInteractive('df-a0bed818-5d26-4ab1-bfc8-1c6a97763b25')\"\n",
              "              title=\"Convert this dataframe to an interactive table.\"\n",
              "              style=\"display:none;\">\n",
              "        \n",
              "  <svg xmlns=\"http://www.w3.org/2000/svg\" height=\"24px\"viewBox=\"0 0 24 24\"\n",
              "       width=\"24px\">\n",
              "    <path d=\"M0 0h24v24H0V0z\" fill=\"none\"/>\n",
              "    <path d=\"M18.56 5.44l.94 2.06.94-2.06 2.06-.94-2.06-.94-.94-2.06-.94 2.06-2.06.94zm-11 1L8.5 8.5l.94-2.06 2.06-.94-2.06-.94L8.5 2.5l-.94 2.06-2.06.94zm10 10l.94 2.06.94-2.06 2.06-.94-2.06-.94-.94-2.06-.94 2.06-2.06.94z\"/><path d=\"M17.41 7.96l-1.37-1.37c-.4-.4-.92-.59-1.43-.59-.52 0-1.04.2-1.43.59L10.3 9.45l-7.72 7.72c-.78.78-.78 2.05 0 2.83L4 21.41c.39.39.9.59 1.41.59.51 0 1.02-.2 1.41-.59l7.78-7.78 2.81-2.81c.8-.78.8-2.07 0-2.86zM5.41 20L4 18.59l7.72-7.72 1.47 1.35L5.41 20z\"/>\n",
              "  </svg>\n",
              "      </button>\n",
              "      \n",
              "  <style>\n",
              "    .colab-df-container {\n",
              "      display:flex;\n",
              "      flex-wrap:wrap;\n",
              "      gap: 12px;\n",
              "    }\n",
              "\n",
              "    .colab-df-convert {\n",
              "      background-color: #E8F0FE;\n",
              "      border: none;\n",
              "      border-radius: 50%;\n",
              "      cursor: pointer;\n",
              "      display: none;\n",
              "      fill: #1967D2;\n",
              "      height: 32px;\n",
              "      padding: 0 0 0 0;\n",
              "      width: 32px;\n",
              "    }\n",
              "\n",
              "    .colab-df-convert:hover {\n",
              "      background-color: #E2EBFA;\n",
              "      box-shadow: 0px 1px 2px rgba(60, 64, 67, 0.3), 0px 1px 3px 1px rgba(60, 64, 67, 0.15);\n",
              "      fill: #174EA6;\n",
              "    }\n",
              "\n",
              "    [theme=dark] .colab-df-convert {\n",
              "      background-color: #3B4455;\n",
              "      fill: #D2E3FC;\n",
              "    }\n",
              "\n",
              "    [theme=dark] .colab-df-convert:hover {\n",
              "      background-color: #434B5C;\n",
              "      box-shadow: 0px 1px 3px 1px rgba(0, 0, 0, 0.15);\n",
              "      filter: drop-shadow(0px 1px 2px rgba(0, 0, 0, 0.3));\n",
              "      fill: #FFFFFF;\n",
              "    }\n",
              "  </style>\n",
              "\n",
              "      <script>\n",
              "        const buttonEl =\n",
              "          document.querySelector('#df-a0bed818-5d26-4ab1-bfc8-1c6a97763b25 button.colab-df-convert');\n",
              "        buttonEl.style.display =\n",
              "          google.colab.kernel.accessAllowed ? 'block' : 'none';\n",
              "\n",
              "        async function convertToInteractive(key) {\n",
              "          const element = document.querySelector('#df-a0bed818-5d26-4ab1-bfc8-1c6a97763b25');\n",
              "          const dataTable =\n",
              "            await google.colab.kernel.invokeFunction('convertToInteractive',\n",
              "                                                     [key], {});\n",
              "          if (!dataTable) return;\n",
              "\n",
              "          const docLinkHtml = 'Like what you see? Visit the ' +\n",
              "            '<a target=\"_blank\" href=https://colab.research.google.com/notebooks/data_table.ipynb>data table notebook</a>'\n",
              "            + ' to learn more about interactive tables.';\n",
              "          element.innerHTML = '';\n",
              "          dataTable['output_type'] = 'display_data';\n",
              "          await google.colab.output.renderOutput(dataTable, element);\n",
              "          const docLink = document.createElement('div');\n",
              "          docLink.innerHTML = docLinkHtml;\n",
              "          element.appendChild(docLink);\n",
              "        }\n",
              "      </script>\n",
              "    </div>\n",
              "  </div>\n",
              "  "
            ]
          },
          "metadata": {},
          "execution_count": 84
        }
      ]
    },
    {
      "cell_type": "markdown",
      "metadata": {
        "id": "7Ttpwjc5Jq74"
      },
      "source": [
        "#### Data labeling\n",
        "We need to classify each compound as active or inactive. Therefore, we use the pIC50 value.\n",
        "\n",
        "* pIC50 = -log10(IC50) \n",
        "* IC50 describes the amount of substance needed to inhibit, _in vitro_, a process by 50% .\n",
        "* A common cut-off value to discretize pIC50 data is 6.3, which we will use for our experiment (refer to [<i>J. Med. Chem.</i> (2017), <b>60</b>, 474-485](https://doi.org/10.1021/acs.jmedchem.6b01611) and the corresponding\n",
        "[notebook](https://github.com/Team-SKI/Publications/blob/master/Profiling_prediction_of_kinase_inhibitors/Build_ABL1_model.ipynb))\n",
        "* Note that there are several other suggestions for an activity cut-off ranging from an pIC50 value of 5 to 7 in the literature or even to define an exclusion range when not to take data points. "
      ]
    },
    {
      "cell_type": "code",
      "execution_count": 85,
      "metadata": {
        "id": "DnpR29dGJq75",
        "outputId": "bbc0b800-bff3-4ad2-c6d1-aa9c7bc922e7",
        "colab": {
          "base_uri": "https://localhost:8080/"
        }
      },
      "outputs": [
        {
          "output_type": "stream",
          "name": "stdout",
          "text": [
            "Number of active compounds: 177\n",
            "Number of inactive compounds: 62\n"
          ]
        },
        {
          "output_type": "stream",
          "name": "stderr",
          "text": [
            "/usr/local/lib/python3.7/dist-packages/ipykernel_launcher.py:2: SettingWithCopyWarning: \n",
            "A value is trying to be set on a copy of a slice from a DataFrame.\n",
            "Try using .loc[row_indexer,col_indexer] = value instead\n",
            "\n",
            "See the caveats in the documentation: https://pandas.pydata.org/pandas-docs/stable/user_guide/indexing.html#returning-a-view-versus-a-copy\n",
            "  \n",
            "/usr/local/lib/python3.7/site-packages/pandas/core/indexing.py:1817: SettingWithCopyWarning: \n",
            "A value is trying to be set on a copy of a slice from a DataFrame.\n",
            "Try using .loc[row_indexer,col_indexer] = value instead\n",
            "\n",
            "See the caveats in the documentation: https://pandas.pydata.org/pandas-docs/stable/user_guide/indexing.html#returning-a-view-versus-a-copy\n",
            "  self._setitem_single_column(loc, value, pi)\n"
          ]
        }
      ],
      "source": [
        "# Add column for activity\n",
        "chembl_df[\"active\"] = np.zeros(len(chembl_df))\n",
        "\n",
        "# Mark every molecule as active with an pIC50 of >= 6.0, 0 otherwise\n",
        "chembl_df.loc[chembl_df[chembl_df.pIC50 >= 6.0].index, \"active\"] = 1.0\n",
        "\n",
        "# NBVAL_CHECK_OUTPUT\n",
        "print(\"Number of active compounds:\", int(chembl_df.active.sum()))\n",
        "print(\"Number of inactive compounds:\", len(chembl_df) - int(chembl_df.active.sum()))"
      ]
    },
    {
      "cell_type": "code",
      "execution_count": 86,
      "metadata": {
        "id": "jpqVDTyYJq76",
        "outputId": "0d313b46-6ffe-47ea-f495-282d09c68ae9",
        "colab": {
          "base_uri": "https://localhost:8080/",
          "height": 206
        }
      },
      "outputs": [
        {
          "output_type": "execute_result",
          "data": {
            "text/plain": [
              "  molecule_chembl_id                                      smiles     pIC50  \\\n",
              "0       CHEMBL303519   c1cnc(N2CCN(Cc3cccc4c3Cc3ccccc3-4)CC2)nc1  5.008774   \n",
              "1       CHEMBL292943  COc1ccc(-c2cccc(CN3CCN(c4ncccn4)CC3)c2)cc1  7.301030   \n",
              "2        CHEMBL61682  Fc1ccc(-c2cncc(CN3CCN(c4ccccc4F)CC3)c2)cc1  7.602060   \n",
              "3        CHEMBL64487    COc1ccccc1-c1cccc(CN2CCN(c3ncccn3)CC2)c1  6.443697   \n",
              "4        CHEMBL64597     c1cnc(N2CCN(Cc3cccc(-c4ccsc4)c3)CC2)nc1  6.522879   \n",
              "\n",
              "   active  \n",
              "0     0.0  \n",
              "1     1.0  \n",
              "2     1.0  \n",
              "3     1.0  \n",
              "4     1.0  "
            ],
            "text/html": [
              "\n",
              "  <div id=\"df-10531deb-044c-47c5-83bd-46471b023261\">\n",
              "    <div class=\"colab-df-container\">\n",
              "      <div>\n",
              "<style scoped>\n",
              "    .dataframe tbody tr th:only-of-type {\n",
              "        vertical-align: middle;\n",
              "    }\n",
              "\n",
              "    .dataframe tbody tr th {\n",
              "        vertical-align: top;\n",
              "    }\n",
              "\n",
              "    .dataframe thead th {\n",
              "        text-align: right;\n",
              "    }\n",
              "</style>\n",
              "<table border=\"1\" class=\"dataframe\">\n",
              "  <thead>\n",
              "    <tr style=\"text-align: right;\">\n",
              "      <th></th>\n",
              "      <th>molecule_chembl_id</th>\n",
              "      <th>smiles</th>\n",
              "      <th>pIC50</th>\n",
              "      <th>active</th>\n",
              "    </tr>\n",
              "  </thead>\n",
              "  <tbody>\n",
              "    <tr>\n",
              "      <th>0</th>\n",
              "      <td>CHEMBL303519</td>\n",
              "      <td>c1cnc(N2CCN(Cc3cccc4c3Cc3ccccc3-4)CC2)nc1</td>\n",
              "      <td>5.008774</td>\n",
              "      <td>0.0</td>\n",
              "    </tr>\n",
              "    <tr>\n",
              "      <th>1</th>\n",
              "      <td>CHEMBL292943</td>\n",
              "      <td>COc1ccc(-c2cccc(CN3CCN(c4ncccn4)CC3)c2)cc1</td>\n",
              "      <td>7.301030</td>\n",
              "      <td>1.0</td>\n",
              "    </tr>\n",
              "    <tr>\n",
              "      <th>2</th>\n",
              "      <td>CHEMBL61682</td>\n",
              "      <td>Fc1ccc(-c2cncc(CN3CCN(c4ccccc4F)CC3)c2)cc1</td>\n",
              "      <td>7.602060</td>\n",
              "      <td>1.0</td>\n",
              "    </tr>\n",
              "    <tr>\n",
              "      <th>3</th>\n",
              "      <td>CHEMBL64487</td>\n",
              "      <td>COc1ccccc1-c1cccc(CN2CCN(c3ncccn3)CC2)c1</td>\n",
              "      <td>6.443697</td>\n",
              "      <td>1.0</td>\n",
              "    </tr>\n",
              "    <tr>\n",
              "      <th>4</th>\n",
              "      <td>CHEMBL64597</td>\n",
              "      <td>c1cnc(N2CCN(Cc3cccc(-c4ccsc4)c3)CC2)nc1</td>\n",
              "      <td>6.522879</td>\n",
              "      <td>1.0</td>\n",
              "    </tr>\n",
              "  </tbody>\n",
              "</table>\n",
              "</div>\n",
              "      <button class=\"colab-df-convert\" onclick=\"convertToInteractive('df-10531deb-044c-47c5-83bd-46471b023261')\"\n",
              "              title=\"Convert this dataframe to an interactive table.\"\n",
              "              style=\"display:none;\">\n",
              "        \n",
              "  <svg xmlns=\"http://www.w3.org/2000/svg\" height=\"24px\"viewBox=\"0 0 24 24\"\n",
              "       width=\"24px\">\n",
              "    <path d=\"M0 0h24v24H0V0z\" fill=\"none\"/>\n",
              "    <path d=\"M18.56 5.44l.94 2.06.94-2.06 2.06-.94-2.06-.94-.94-2.06-.94 2.06-2.06.94zm-11 1L8.5 8.5l.94-2.06 2.06-.94-2.06-.94L8.5 2.5l-.94 2.06-2.06.94zm10 10l.94 2.06.94-2.06 2.06-.94-2.06-.94-.94-2.06-.94 2.06-2.06.94z\"/><path d=\"M17.41 7.96l-1.37-1.37c-.4-.4-.92-.59-1.43-.59-.52 0-1.04.2-1.43.59L10.3 9.45l-7.72 7.72c-.78.78-.78 2.05 0 2.83L4 21.41c.39.39.9.59 1.41.59.51 0 1.02-.2 1.41-.59l7.78-7.78 2.81-2.81c.8-.78.8-2.07 0-2.86zM5.41 20L4 18.59l7.72-7.72 1.47 1.35L5.41 20z\"/>\n",
              "  </svg>\n",
              "      </button>\n",
              "      \n",
              "  <style>\n",
              "    .colab-df-container {\n",
              "      display:flex;\n",
              "      flex-wrap:wrap;\n",
              "      gap: 12px;\n",
              "    }\n",
              "\n",
              "    .colab-df-convert {\n",
              "      background-color: #E8F0FE;\n",
              "      border: none;\n",
              "      border-radius: 50%;\n",
              "      cursor: pointer;\n",
              "      display: none;\n",
              "      fill: #1967D2;\n",
              "      height: 32px;\n",
              "      padding: 0 0 0 0;\n",
              "      width: 32px;\n",
              "    }\n",
              "\n",
              "    .colab-df-convert:hover {\n",
              "      background-color: #E2EBFA;\n",
              "      box-shadow: 0px 1px 2px rgba(60, 64, 67, 0.3), 0px 1px 3px 1px rgba(60, 64, 67, 0.15);\n",
              "      fill: #174EA6;\n",
              "    }\n",
              "\n",
              "    [theme=dark] .colab-df-convert {\n",
              "      background-color: #3B4455;\n",
              "      fill: #D2E3FC;\n",
              "    }\n",
              "\n",
              "    [theme=dark] .colab-df-convert:hover {\n",
              "      background-color: #434B5C;\n",
              "      box-shadow: 0px 1px 3px 1px rgba(0, 0, 0, 0.15);\n",
              "      filter: drop-shadow(0px 1px 2px rgba(0, 0, 0, 0.3));\n",
              "      fill: #FFFFFF;\n",
              "    }\n",
              "  </style>\n",
              "\n",
              "      <script>\n",
              "        const buttonEl =\n",
              "          document.querySelector('#df-10531deb-044c-47c5-83bd-46471b023261 button.colab-df-convert');\n",
              "        buttonEl.style.display =\n",
              "          google.colab.kernel.accessAllowed ? 'block' : 'none';\n",
              "\n",
              "        async function convertToInteractive(key) {\n",
              "          const element = document.querySelector('#df-10531deb-044c-47c5-83bd-46471b023261');\n",
              "          const dataTable =\n",
              "            await google.colab.kernel.invokeFunction('convertToInteractive',\n",
              "                                                     [key], {});\n",
              "          if (!dataTable) return;\n",
              "\n",
              "          const docLinkHtml = 'Like what you see? Visit the ' +\n",
              "            '<a target=\"_blank\" href=https://colab.research.google.com/notebooks/data_table.ipynb>data table notebook</a>'\n",
              "            + ' to learn more about interactive tables.';\n",
              "          element.innerHTML = '';\n",
              "          dataTable['output_type'] = 'display_data';\n",
              "          await google.colab.output.renderOutput(dataTable, element);\n",
              "          const docLink = document.createElement('div');\n",
              "          docLink.innerHTML = docLinkHtml;\n",
              "          element.appendChild(docLink);\n",
              "        }\n",
              "      </script>\n",
              "    </div>\n",
              "  </div>\n",
              "  "
            ]
          },
          "metadata": {},
          "execution_count": 86
        }
      ],
      "source": [
        "chembl_df.head()\n",
        "# NBVAL_CHECK_OUTPUT"
      ]
    },
    {
      "cell_type": "code",
      "source": [
        "chembl_df[chembl_df.active == 1].to_csv('active_filtered.csv')"
      ],
      "metadata": {
        "id": "zpzUhYIqKKBm"
      },
      "execution_count": 90,
      "outputs": []
    },
    {
      "cell_type": "code",
      "source": [
        "chembl_df[chembl_df.active == 0].to_csv('unactive_filtered.csv')"
      ],
      "metadata": {
        "id": "I9xbGv-SCuqc"
      },
      "execution_count": null,
      "outputs": []
    }
  ],
  "metadata": {
    "kernelspec": {
      "display_name": "Python 3 (ipykernel)",
      "language": "python",
      "name": "python3"
    },
    "language_info": {
      "codemirror_mode": {
        "name": "ipython",
        "version": 3
      },
      "file_extension": ".py",
      "mimetype": "text/x-python",
      "name": "python",
      "nbconvert_exporter": "python",
      "pygments_lexer": "ipython3",
      "version": "3.9.6"
    },
    "toc-autonumbering": true,
    "toc-showmarkdowntxt": false,
    "toc-showtags": false,
    "widgets": {
      "application/vnd.jupyter.widget-state+json": {
        "c6cb4cdf90e64e15b26f654e790e0b1a": {
          "model_module": "@jupyter-widgets/controls",
          "model_name": "HBoxModel",
          "model_module_version": "1.5.0",
          "state": {
            "_dom_classes": [],
            "_model_module": "@jupyter-widgets/controls",
            "_model_module_version": "1.5.0",
            "_model_name": "HBoxModel",
            "_view_count": null,
            "_view_module": "@jupyter-widgets/controls",
            "_view_module_version": "1.5.0",
            "_view_name": "HBoxView",
            "box_style": "",
            "children": [
              "IPY_MODEL_9354d339eb85455ebf742ccdce24868e",
              "IPY_MODEL_a2ae73b3494f436ab95b162646535054",
              "IPY_MODEL_f9353d1e085b4131b0c5b84b485ff9b9"
            ],
            "layout": "IPY_MODEL_5758f705da344ab3ab95c918c41026cc"
          }
        },
        "9354d339eb85455ebf742ccdce24868e": {
          "model_module": "@jupyter-widgets/controls",
          "model_name": "HTMLModel",
          "model_module_version": "1.5.0",
          "state": {
            "_dom_classes": [],
            "_model_module": "@jupyter-widgets/controls",
            "_model_module_version": "1.5.0",
            "_model_name": "HTMLModel",
            "_view_count": null,
            "_view_module": "@jupyter-widgets/controls",
            "_view_module_version": "1.5.0",
            "_view_name": "HTMLView",
            "description": "",
            "description_tooltip": null,
            "layout": "IPY_MODEL_bb7d4fea4bfb42409ff48f619e7cb6e6",
            "placeholder": "​",
            "style": "IPY_MODEL_6ae7ade06b394e609c22833f48d860c6",
            "value": "100%"
          }
        },
        "a2ae73b3494f436ab95b162646535054": {
          "model_module": "@jupyter-widgets/controls",
          "model_name": "FloatProgressModel",
          "model_module_version": "1.5.0",
          "state": {
            "_dom_classes": [],
            "_model_module": "@jupyter-widgets/controls",
            "_model_module_version": "1.5.0",
            "_model_name": "FloatProgressModel",
            "_view_count": null,
            "_view_module": "@jupyter-widgets/controls",
            "_view_module_version": "1.5.0",
            "_view_name": "ProgressView",
            "bar_style": "success",
            "description": "",
            "description_tooltip": null,
            "layout": "IPY_MODEL_2096fb33348d4aa599b006798a2deb58",
            "max": 286,
            "min": 0,
            "orientation": "horizontal",
            "style": "IPY_MODEL_fd8933d6c215445ba3429a6a2589f679",
            "value": 286
          }
        },
        "f9353d1e085b4131b0c5b84b485ff9b9": {
          "model_module": "@jupyter-widgets/controls",
          "model_name": "HTMLModel",
          "model_module_version": "1.5.0",
          "state": {
            "_dom_classes": [],
            "_model_module": "@jupyter-widgets/controls",
            "_model_module_version": "1.5.0",
            "_model_name": "HTMLModel",
            "_view_count": null,
            "_view_module": "@jupyter-widgets/controls",
            "_view_module_version": "1.5.0",
            "_view_name": "HTMLView",
            "description": "",
            "description_tooltip": null,
            "layout": "IPY_MODEL_9753d8488cf84934827249398d6862df",
            "placeholder": "​",
            "style": "IPY_MODEL_20e6d890113e48eab016409a3d30b872",
            "value": " 286/286 [00:09&lt;00:00, 29.96it/s]"
          }
        },
        "5758f705da344ab3ab95c918c41026cc": {
          "model_module": "@jupyter-widgets/base",
          "model_name": "LayoutModel",
          "model_module_version": "1.2.0",
          "state": {
            "_model_module": "@jupyter-widgets/base",
            "_model_module_version": "1.2.0",
            "_model_name": "LayoutModel",
            "_view_count": null,
            "_view_module": "@jupyter-widgets/base",
            "_view_module_version": "1.2.0",
            "_view_name": "LayoutView",
            "align_content": null,
            "align_items": null,
            "align_self": null,
            "border": null,
            "bottom": null,
            "display": null,
            "flex": null,
            "flex_flow": null,
            "grid_area": null,
            "grid_auto_columns": null,
            "grid_auto_flow": null,
            "grid_auto_rows": null,
            "grid_column": null,
            "grid_gap": null,
            "grid_row": null,
            "grid_template_areas": null,
            "grid_template_columns": null,
            "grid_template_rows": null,
            "height": null,
            "justify_content": null,
            "justify_items": null,
            "left": null,
            "margin": null,
            "max_height": null,
            "max_width": null,
            "min_height": null,
            "min_width": null,
            "object_fit": null,
            "object_position": null,
            "order": null,
            "overflow": null,
            "overflow_x": null,
            "overflow_y": null,
            "padding": null,
            "right": null,
            "top": null,
            "visibility": null,
            "width": null
          }
        },
        "bb7d4fea4bfb42409ff48f619e7cb6e6": {
          "model_module": "@jupyter-widgets/base",
          "model_name": "LayoutModel",
          "model_module_version": "1.2.0",
          "state": {
            "_model_module": "@jupyter-widgets/base",
            "_model_module_version": "1.2.0",
            "_model_name": "LayoutModel",
            "_view_count": null,
            "_view_module": "@jupyter-widgets/base",
            "_view_module_version": "1.2.0",
            "_view_name": "LayoutView",
            "align_content": null,
            "align_items": null,
            "align_self": null,
            "border": null,
            "bottom": null,
            "display": null,
            "flex": null,
            "flex_flow": null,
            "grid_area": null,
            "grid_auto_columns": null,
            "grid_auto_flow": null,
            "grid_auto_rows": null,
            "grid_column": null,
            "grid_gap": null,
            "grid_row": null,
            "grid_template_areas": null,
            "grid_template_columns": null,
            "grid_template_rows": null,
            "height": null,
            "justify_content": null,
            "justify_items": null,
            "left": null,
            "margin": null,
            "max_height": null,
            "max_width": null,
            "min_height": null,
            "min_width": null,
            "object_fit": null,
            "object_position": null,
            "order": null,
            "overflow": null,
            "overflow_x": null,
            "overflow_y": null,
            "padding": null,
            "right": null,
            "top": null,
            "visibility": null,
            "width": null
          }
        },
        "6ae7ade06b394e609c22833f48d860c6": {
          "model_module": "@jupyter-widgets/controls",
          "model_name": "DescriptionStyleModel",
          "model_module_version": "1.5.0",
          "state": {
            "_model_module": "@jupyter-widgets/controls",
            "_model_module_version": "1.5.0",
            "_model_name": "DescriptionStyleModel",
            "_view_count": null,
            "_view_module": "@jupyter-widgets/base",
            "_view_module_version": "1.2.0",
            "_view_name": "StyleView",
            "description_width": ""
          }
        },
        "2096fb33348d4aa599b006798a2deb58": {
          "model_module": "@jupyter-widgets/base",
          "model_name": "LayoutModel",
          "model_module_version": "1.2.0",
          "state": {
            "_model_module": "@jupyter-widgets/base",
            "_model_module_version": "1.2.0",
            "_model_name": "LayoutModel",
            "_view_count": null,
            "_view_module": "@jupyter-widgets/base",
            "_view_module_version": "1.2.0",
            "_view_name": "LayoutView",
            "align_content": null,
            "align_items": null,
            "align_self": null,
            "border": null,
            "bottom": null,
            "display": null,
            "flex": null,
            "flex_flow": null,
            "grid_area": null,
            "grid_auto_columns": null,
            "grid_auto_flow": null,
            "grid_auto_rows": null,
            "grid_column": null,
            "grid_gap": null,
            "grid_row": null,
            "grid_template_areas": null,
            "grid_template_columns": null,
            "grid_template_rows": null,
            "height": null,
            "justify_content": null,
            "justify_items": null,
            "left": null,
            "margin": null,
            "max_height": null,
            "max_width": null,
            "min_height": null,
            "min_width": null,
            "object_fit": null,
            "object_position": null,
            "order": null,
            "overflow": null,
            "overflow_x": null,
            "overflow_y": null,
            "padding": null,
            "right": null,
            "top": null,
            "visibility": null,
            "width": null
          }
        },
        "fd8933d6c215445ba3429a6a2589f679": {
          "model_module": "@jupyter-widgets/controls",
          "model_name": "ProgressStyleModel",
          "model_module_version": "1.5.0",
          "state": {
            "_model_module": "@jupyter-widgets/controls",
            "_model_module_version": "1.5.0",
            "_model_name": "ProgressStyleModel",
            "_view_count": null,
            "_view_module": "@jupyter-widgets/base",
            "_view_module_version": "1.2.0",
            "_view_name": "StyleView",
            "bar_color": null,
            "description_width": ""
          }
        },
        "9753d8488cf84934827249398d6862df": {
          "model_module": "@jupyter-widgets/base",
          "model_name": "LayoutModel",
          "model_module_version": "1.2.0",
          "state": {
            "_model_module": "@jupyter-widgets/base",
            "_model_module_version": "1.2.0",
            "_model_name": "LayoutModel",
            "_view_count": null,
            "_view_module": "@jupyter-widgets/base",
            "_view_module_version": "1.2.0",
            "_view_name": "LayoutView",
            "align_content": null,
            "align_items": null,
            "align_self": null,
            "border": null,
            "bottom": null,
            "display": null,
            "flex": null,
            "flex_flow": null,
            "grid_area": null,
            "grid_auto_columns": null,
            "grid_auto_flow": null,
            "grid_auto_rows": null,
            "grid_column": null,
            "grid_gap": null,
            "grid_row": null,
            "grid_template_areas": null,
            "grid_template_columns": null,
            "grid_template_rows": null,
            "height": null,
            "justify_content": null,
            "justify_items": null,
            "left": null,
            "margin": null,
            "max_height": null,
            "max_width": null,
            "min_height": null,
            "min_width": null,
            "object_fit": null,
            "object_position": null,
            "order": null,
            "overflow": null,
            "overflow_x": null,
            "overflow_y": null,
            "padding": null,
            "right": null,
            "top": null,
            "visibility": null,
            "width": null
          }
        },
        "20e6d890113e48eab016409a3d30b872": {
          "model_module": "@jupyter-widgets/controls",
          "model_name": "DescriptionStyleModel",
          "model_module_version": "1.5.0",
          "state": {
            "_model_module": "@jupyter-widgets/controls",
            "_model_module_version": "1.5.0",
            "_model_name": "DescriptionStyleModel",
            "_view_count": null,
            "_view_module": "@jupyter-widgets/base",
            "_view_module_version": "1.2.0",
            "_view_name": "StyleView",
            "description_width": ""
          }
        },
        "62b65831c85a4a70b674c30b30f54b31": {
          "model_module": "@jupyter-widgets/controls",
          "model_name": "HBoxModel",
          "model_module_version": "1.5.0",
          "state": {
            "_dom_classes": [],
            "_model_module": "@jupyter-widgets/controls",
            "_model_module_version": "1.5.0",
            "_model_name": "HBoxModel",
            "_view_count": null,
            "_view_module": "@jupyter-widgets/controls",
            "_view_module_version": "1.5.0",
            "_view_name": "HBoxView",
            "box_style": "",
            "children": [
              "IPY_MODEL_3a45671ce6984c15b19eaa2f45e45240",
              "IPY_MODEL_93d5830cf5254b00a3b3c2786530dc80",
              "IPY_MODEL_e6acb35b19f346719e8f370d3d03936c"
            ],
            "layout": "IPY_MODEL_4fe6dba862c943f6a3409960161d26db"
          }
        },
        "3a45671ce6984c15b19eaa2f45e45240": {
          "model_module": "@jupyter-widgets/controls",
          "model_name": "HTMLModel",
          "model_module_version": "1.5.0",
          "state": {
            "_dom_classes": [],
            "_model_module": "@jupyter-widgets/controls",
            "_model_module_version": "1.5.0",
            "_model_name": "HTMLModel",
            "_view_count": null,
            "_view_module": "@jupyter-widgets/controls",
            "_view_module_version": "1.5.0",
            "_view_name": "HTMLView",
            "description": "",
            "description_tooltip": null,
            "layout": "IPY_MODEL_20df5c1381b0428b94a184c64755a591",
            "placeholder": "​",
            "style": "IPY_MODEL_28af55445b474a18ae106884808bc85d",
            "value": "100%"
          }
        },
        "93d5830cf5254b00a3b3c2786530dc80": {
          "model_module": "@jupyter-widgets/controls",
          "model_name": "FloatProgressModel",
          "model_module_version": "1.5.0",
          "state": {
            "_dom_classes": [],
            "_model_module": "@jupyter-widgets/controls",
            "_model_module_version": "1.5.0",
            "_model_name": "FloatProgressModel",
            "_view_count": null,
            "_view_module": "@jupyter-widgets/controls",
            "_view_module_version": "1.5.0",
            "_view_name": "ProgressView",
            "bar_style": "success",
            "description": "",
            "description_tooltip": null,
            "layout": "IPY_MODEL_b034777ba83e47b6b877c0139a5ff343",
            "max": 252,
            "min": 0,
            "orientation": "horizontal",
            "style": "IPY_MODEL_73df08df347440dd9a607606753fcaf4",
            "value": 252
          }
        },
        "e6acb35b19f346719e8f370d3d03936c": {
          "model_module": "@jupyter-widgets/controls",
          "model_name": "HTMLModel",
          "model_module_version": "1.5.0",
          "state": {
            "_dom_classes": [],
            "_model_module": "@jupyter-widgets/controls",
            "_model_module_version": "1.5.0",
            "_model_name": "HTMLModel",
            "_view_count": null,
            "_view_module": "@jupyter-widgets/controls",
            "_view_module_version": "1.5.0",
            "_view_name": "HTMLView",
            "description": "",
            "description_tooltip": null,
            "layout": "IPY_MODEL_df747eabc22b44f6bb5c51e3221938c5",
            "placeholder": "​",
            "style": "IPY_MODEL_b4adadd81bfe42739ea5491a2b128377",
            "value": " 252/252 [00:03&lt;00:00, 72.49it/s]"
          }
        },
        "4fe6dba862c943f6a3409960161d26db": {
          "model_module": "@jupyter-widgets/base",
          "model_name": "LayoutModel",
          "model_module_version": "1.2.0",
          "state": {
            "_model_module": "@jupyter-widgets/base",
            "_model_module_version": "1.2.0",
            "_model_name": "LayoutModel",
            "_view_count": null,
            "_view_module": "@jupyter-widgets/base",
            "_view_module_version": "1.2.0",
            "_view_name": "LayoutView",
            "align_content": null,
            "align_items": null,
            "align_self": null,
            "border": null,
            "bottom": null,
            "display": null,
            "flex": null,
            "flex_flow": null,
            "grid_area": null,
            "grid_auto_columns": null,
            "grid_auto_flow": null,
            "grid_auto_rows": null,
            "grid_column": null,
            "grid_gap": null,
            "grid_row": null,
            "grid_template_areas": null,
            "grid_template_columns": null,
            "grid_template_rows": null,
            "height": null,
            "justify_content": null,
            "justify_items": null,
            "left": null,
            "margin": null,
            "max_height": null,
            "max_width": null,
            "min_height": null,
            "min_width": null,
            "object_fit": null,
            "object_position": null,
            "order": null,
            "overflow": null,
            "overflow_x": null,
            "overflow_y": null,
            "padding": null,
            "right": null,
            "top": null,
            "visibility": null,
            "width": null
          }
        },
        "20df5c1381b0428b94a184c64755a591": {
          "model_module": "@jupyter-widgets/base",
          "model_name": "LayoutModel",
          "model_module_version": "1.2.0",
          "state": {
            "_model_module": "@jupyter-widgets/base",
            "_model_module_version": "1.2.0",
            "_model_name": "LayoutModel",
            "_view_count": null,
            "_view_module": "@jupyter-widgets/base",
            "_view_module_version": "1.2.0",
            "_view_name": "LayoutView",
            "align_content": null,
            "align_items": null,
            "align_self": null,
            "border": null,
            "bottom": null,
            "display": null,
            "flex": null,
            "flex_flow": null,
            "grid_area": null,
            "grid_auto_columns": null,
            "grid_auto_flow": null,
            "grid_auto_rows": null,
            "grid_column": null,
            "grid_gap": null,
            "grid_row": null,
            "grid_template_areas": null,
            "grid_template_columns": null,
            "grid_template_rows": null,
            "height": null,
            "justify_content": null,
            "justify_items": null,
            "left": null,
            "margin": null,
            "max_height": null,
            "max_width": null,
            "min_height": null,
            "min_width": null,
            "object_fit": null,
            "object_position": null,
            "order": null,
            "overflow": null,
            "overflow_x": null,
            "overflow_y": null,
            "padding": null,
            "right": null,
            "top": null,
            "visibility": null,
            "width": null
          }
        },
        "28af55445b474a18ae106884808bc85d": {
          "model_module": "@jupyter-widgets/controls",
          "model_name": "DescriptionStyleModel",
          "model_module_version": "1.5.0",
          "state": {
            "_model_module": "@jupyter-widgets/controls",
            "_model_module_version": "1.5.0",
            "_model_name": "DescriptionStyleModel",
            "_view_count": null,
            "_view_module": "@jupyter-widgets/base",
            "_view_module_version": "1.2.0",
            "_view_name": "StyleView",
            "description_width": ""
          }
        },
        "b034777ba83e47b6b877c0139a5ff343": {
          "model_module": "@jupyter-widgets/base",
          "model_name": "LayoutModel",
          "model_module_version": "1.2.0",
          "state": {
            "_model_module": "@jupyter-widgets/base",
            "_model_module_version": "1.2.0",
            "_model_name": "LayoutModel",
            "_view_count": null,
            "_view_module": "@jupyter-widgets/base",
            "_view_module_version": "1.2.0",
            "_view_name": "LayoutView",
            "align_content": null,
            "align_items": null,
            "align_self": null,
            "border": null,
            "bottom": null,
            "display": null,
            "flex": null,
            "flex_flow": null,
            "grid_area": null,
            "grid_auto_columns": null,
            "grid_auto_flow": null,
            "grid_auto_rows": null,
            "grid_column": null,
            "grid_gap": null,
            "grid_row": null,
            "grid_template_areas": null,
            "grid_template_columns": null,
            "grid_template_rows": null,
            "height": null,
            "justify_content": null,
            "justify_items": null,
            "left": null,
            "margin": null,
            "max_height": null,
            "max_width": null,
            "min_height": null,
            "min_width": null,
            "object_fit": null,
            "object_position": null,
            "order": null,
            "overflow": null,
            "overflow_x": null,
            "overflow_y": null,
            "padding": null,
            "right": null,
            "top": null,
            "visibility": null,
            "width": null
          }
        },
        "73df08df347440dd9a607606753fcaf4": {
          "model_module": "@jupyter-widgets/controls",
          "model_name": "ProgressStyleModel",
          "model_module_version": "1.5.0",
          "state": {
            "_model_module": "@jupyter-widgets/controls",
            "_model_module_version": "1.5.0",
            "_model_name": "ProgressStyleModel",
            "_view_count": null,
            "_view_module": "@jupyter-widgets/base",
            "_view_module_version": "1.2.0",
            "_view_name": "StyleView",
            "bar_color": null,
            "description_width": ""
          }
        },
        "df747eabc22b44f6bb5c51e3221938c5": {
          "model_module": "@jupyter-widgets/base",
          "model_name": "LayoutModel",
          "model_module_version": "1.2.0",
          "state": {
            "_model_module": "@jupyter-widgets/base",
            "_model_module_version": "1.2.0",
            "_model_name": "LayoutModel",
            "_view_count": null,
            "_view_module": "@jupyter-widgets/base",
            "_view_module_version": "1.2.0",
            "_view_name": "LayoutView",
            "align_content": null,
            "align_items": null,
            "align_self": null,
            "border": null,
            "bottom": null,
            "display": null,
            "flex": null,
            "flex_flow": null,
            "grid_area": null,
            "grid_auto_columns": null,
            "grid_auto_flow": null,
            "grid_auto_rows": null,
            "grid_column": null,
            "grid_gap": null,
            "grid_row": null,
            "grid_template_areas": null,
            "grid_template_columns": null,
            "grid_template_rows": null,
            "height": null,
            "justify_content": null,
            "justify_items": null,
            "left": null,
            "margin": null,
            "max_height": null,
            "max_width": null,
            "min_height": null,
            "min_width": null,
            "object_fit": null,
            "object_position": null,
            "order": null,
            "overflow": null,
            "overflow_x": null,
            "overflow_y": null,
            "padding": null,
            "right": null,
            "top": null,
            "visibility": null,
            "width": null
          }
        },
        "b4adadd81bfe42739ea5491a2b128377": {
          "model_module": "@jupyter-widgets/controls",
          "model_name": "DescriptionStyleModel",
          "model_module_version": "1.5.0",
          "state": {
            "_model_module": "@jupyter-widgets/controls",
            "_model_module_version": "1.5.0",
            "_model_name": "DescriptionStyleModel",
            "_view_count": null,
            "_view_module": "@jupyter-widgets/base",
            "_view_module_version": "1.2.0",
            "_view_name": "StyleView",
            "description_width": ""
          }
        },
        "354e34f669c54fc19092bdba37b4a502": {
          "model_module": "@jupyter-widgets/controls",
          "model_name": "HBoxModel",
          "model_module_version": "1.5.0",
          "state": {
            "_dom_classes": [],
            "_model_module": "@jupyter-widgets/controls",
            "_model_module_version": "1.5.0",
            "_model_name": "HBoxModel",
            "_view_count": null,
            "_view_module": "@jupyter-widgets/controls",
            "_view_module_version": "1.5.0",
            "_view_name": "HBoxView",
            "box_style": "",
            "children": [
              "IPY_MODEL_3fdd7e90619d4b948254ee22c808657d",
              "IPY_MODEL_a3c551c60b4d4c2ea9e6baa0eb530ae7",
              "IPY_MODEL_f8374df8f3ed4c3491d3619d0be29618"
            ],
            "layout": "IPY_MODEL_8a35411cd6454c35aaee90e6a0a5d3d2"
          }
        },
        "3fdd7e90619d4b948254ee22c808657d": {
          "model_module": "@jupyter-widgets/controls",
          "model_name": "HTMLModel",
          "model_module_version": "1.5.0",
          "state": {
            "_dom_classes": [],
            "_model_module": "@jupyter-widgets/controls",
            "_model_module_version": "1.5.0",
            "_model_name": "HTMLModel",
            "_view_count": null,
            "_view_module": "@jupyter-widgets/controls",
            "_view_module_version": "1.5.0",
            "_view_name": "HTMLView",
            "description": "",
            "description_tooltip": null,
            "layout": "IPY_MODEL_19eed00086c04fe3926d6da4fd7d6c5f",
            "placeholder": "​",
            "style": "IPY_MODEL_ccbc2b868d6a4064919e73252e34b464",
            "value": "100%"
          }
        },
        "a3c551c60b4d4c2ea9e6baa0eb530ae7": {
          "model_module": "@jupyter-widgets/controls",
          "model_name": "FloatProgressModel",
          "model_module_version": "1.5.0",
          "state": {
            "_dom_classes": [],
            "_model_module": "@jupyter-widgets/controls",
            "_model_module_version": "1.5.0",
            "_model_name": "FloatProgressModel",
            "_view_count": null,
            "_view_module": "@jupyter-widgets/controls",
            "_view_module_version": "1.5.0",
            "_view_name": "ProgressView",
            "bar_style": "success",
            "description": "",
            "description_tooltip": null,
            "layout": "IPY_MODEL_8610779ad9dc4541ba1874ff1f6cf5a2",
            "max": 239,
            "min": 0,
            "orientation": "horizontal",
            "style": "IPY_MODEL_c4a67c183d8a4c3f9be7fcbc98f769ac",
            "value": 239
          }
        },
        "f8374df8f3ed4c3491d3619d0be29618": {
          "model_module": "@jupyter-widgets/controls",
          "model_name": "HTMLModel",
          "model_module_version": "1.5.0",
          "state": {
            "_dom_classes": [],
            "_model_module": "@jupyter-widgets/controls",
            "_model_module_version": "1.5.0",
            "_model_name": "HTMLModel",
            "_view_count": null,
            "_view_module": "@jupyter-widgets/controls",
            "_view_module_version": "1.5.0",
            "_view_name": "HTMLView",
            "description": "",
            "description_tooltip": null,
            "layout": "IPY_MODEL_b2cb282bb72844a287c534d14f9a049a",
            "placeholder": "​",
            "style": "IPY_MODEL_ccc34b9b0ed1470bb520cb6591b1d4ad",
            "value": " 239/239 [00:02&lt;00:00, 132.00it/s]"
          }
        },
        "8a35411cd6454c35aaee90e6a0a5d3d2": {
          "model_module": "@jupyter-widgets/base",
          "model_name": "LayoutModel",
          "model_module_version": "1.2.0",
          "state": {
            "_model_module": "@jupyter-widgets/base",
            "_model_module_version": "1.2.0",
            "_model_name": "LayoutModel",
            "_view_count": null,
            "_view_module": "@jupyter-widgets/base",
            "_view_module_version": "1.2.0",
            "_view_name": "LayoutView",
            "align_content": null,
            "align_items": null,
            "align_self": null,
            "border": null,
            "bottom": null,
            "display": null,
            "flex": null,
            "flex_flow": null,
            "grid_area": null,
            "grid_auto_columns": null,
            "grid_auto_flow": null,
            "grid_auto_rows": null,
            "grid_column": null,
            "grid_gap": null,
            "grid_row": null,
            "grid_template_areas": null,
            "grid_template_columns": null,
            "grid_template_rows": null,
            "height": null,
            "justify_content": null,
            "justify_items": null,
            "left": null,
            "margin": null,
            "max_height": null,
            "max_width": null,
            "min_height": null,
            "min_width": null,
            "object_fit": null,
            "object_position": null,
            "order": null,
            "overflow": null,
            "overflow_x": null,
            "overflow_y": null,
            "padding": null,
            "right": null,
            "top": null,
            "visibility": null,
            "width": null
          }
        },
        "19eed00086c04fe3926d6da4fd7d6c5f": {
          "model_module": "@jupyter-widgets/base",
          "model_name": "LayoutModel",
          "model_module_version": "1.2.0",
          "state": {
            "_model_module": "@jupyter-widgets/base",
            "_model_module_version": "1.2.0",
            "_model_name": "LayoutModel",
            "_view_count": null,
            "_view_module": "@jupyter-widgets/base",
            "_view_module_version": "1.2.0",
            "_view_name": "LayoutView",
            "align_content": null,
            "align_items": null,
            "align_self": null,
            "border": null,
            "bottom": null,
            "display": null,
            "flex": null,
            "flex_flow": null,
            "grid_area": null,
            "grid_auto_columns": null,
            "grid_auto_flow": null,
            "grid_auto_rows": null,
            "grid_column": null,
            "grid_gap": null,
            "grid_row": null,
            "grid_template_areas": null,
            "grid_template_columns": null,
            "grid_template_rows": null,
            "height": null,
            "justify_content": null,
            "justify_items": null,
            "left": null,
            "margin": null,
            "max_height": null,
            "max_width": null,
            "min_height": null,
            "min_width": null,
            "object_fit": null,
            "object_position": null,
            "order": null,
            "overflow": null,
            "overflow_x": null,
            "overflow_y": null,
            "padding": null,
            "right": null,
            "top": null,
            "visibility": null,
            "width": null
          }
        },
        "ccbc2b868d6a4064919e73252e34b464": {
          "model_module": "@jupyter-widgets/controls",
          "model_name": "DescriptionStyleModel",
          "model_module_version": "1.5.0",
          "state": {
            "_model_module": "@jupyter-widgets/controls",
            "_model_module_version": "1.5.0",
            "_model_name": "DescriptionStyleModel",
            "_view_count": null,
            "_view_module": "@jupyter-widgets/base",
            "_view_module_version": "1.2.0",
            "_view_name": "StyleView",
            "description_width": ""
          }
        },
        "8610779ad9dc4541ba1874ff1f6cf5a2": {
          "model_module": "@jupyter-widgets/base",
          "model_name": "LayoutModel",
          "model_module_version": "1.2.0",
          "state": {
            "_model_module": "@jupyter-widgets/base",
            "_model_module_version": "1.2.0",
            "_model_name": "LayoutModel",
            "_view_count": null,
            "_view_module": "@jupyter-widgets/base",
            "_view_module_version": "1.2.0",
            "_view_name": "LayoutView",
            "align_content": null,
            "align_items": null,
            "align_self": null,
            "border": null,
            "bottom": null,
            "display": null,
            "flex": null,
            "flex_flow": null,
            "grid_area": null,
            "grid_auto_columns": null,
            "grid_auto_flow": null,
            "grid_auto_rows": null,
            "grid_column": null,
            "grid_gap": null,
            "grid_row": null,
            "grid_template_areas": null,
            "grid_template_columns": null,
            "grid_template_rows": null,
            "height": null,
            "justify_content": null,
            "justify_items": null,
            "left": null,
            "margin": null,
            "max_height": null,
            "max_width": null,
            "min_height": null,
            "min_width": null,
            "object_fit": null,
            "object_position": null,
            "order": null,
            "overflow": null,
            "overflow_x": null,
            "overflow_y": null,
            "padding": null,
            "right": null,
            "top": null,
            "visibility": null,
            "width": null
          }
        },
        "c4a67c183d8a4c3f9be7fcbc98f769ac": {
          "model_module": "@jupyter-widgets/controls",
          "model_name": "ProgressStyleModel",
          "model_module_version": "1.5.0",
          "state": {
            "_model_module": "@jupyter-widgets/controls",
            "_model_module_version": "1.5.0",
            "_model_name": "ProgressStyleModel",
            "_view_count": null,
            "_view_module": "@jupyter-widgets/base",
            "_view_module_version": "1.2.0",
            "_view_name": "StyleView",
            "bar_color": null,
            "description_width": ""
          }
        },
        "b2cb282bb72844a287c534d14f9a049a": {
          "model_module": "@jupyter-widgets/base",
          "model_name": "LayoutModel",
          "model_module_version": "1.2.0",
          "state": {
            "_model_module": "@jupyter-widgets/base",
            "_model_module_version": "1.2.0",
            "_model_name": "LayoutModel",
            "_view_count": null,
            "_view_module": "@jupyter-widgets/base",
            "_view_module_version": "1.2.0",
            "_view_name": "LayoutView",
            "align_content": null,
            "align_items": null,
            "align_self": null,
            "border": null,
            "bottom": null,
            "display": null,
            "flex": null,
            "flex_flow": null,
            "grid_area": null,
            "grid_auto_columns": null,
            "grid_auto_flow": null,
            "grid_auto_rows": null,
            "grid_column": null,
            "grid_gap": null,
            "grid_row": null,
            "grid_template_areas": null,
            "grid_template_columns": null,
            "grid_template_rows": null,
            "height": null,
            "justify_content": null,
            "justify_items": null,
            "left": null,
            "margin": null,
            "max_height": null,
            "max_width": null,
            "min_height": null,
            "min_width": null,
            "object_fit": null,
            "object_position": null,
            "order": null,
            "overflow": null,
            "overflow_x": null,
            "overflow_y": null,
            "padding": null,
            "right": null,
            "top": null,
            "visibility": null,
            "width": null
          }
        },
        "ccc34b9b0ed1470bb520cb6591b1d4ad": {
          "model_module": "@jupyter-widgets/controls",
          "model_name": "DescriptionStyleModel",
          "model_module_version": "1.5.0",
          "state": {
            "_model_module": "@jupyter-widgets/controls",
            "_model_module_version": "1.5.0",
            "_model_name": "DescriptionStyleModel",
            "_view_count": null,
            "_view_module": "@jupyter-widgets/base",
            "_view_module_version": "1.2.0",
            "_view_name": "StyleView",
            "description_width": ""
          }
        }
      }
    },
    "colab": {
      "name": "D2_preproc.ipynb",
      "provenance": [],
      "collapsed_sections": []
    }
  },
  "nbformat": 4,
  "nbformat_minor": 0
}