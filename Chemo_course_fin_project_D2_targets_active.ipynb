{
  "cells": [
    {
      "cell_type": "code",
      "execution_count": 1,
      "metadata": {
        "colab": {
          "base_uri": "https://localhost:8080/"
        },
        "id": "yixcYOs5Cs7c",
        "outputId": "6abb647c-4c15-4d07-dae8-81339890ff9e"
      },
      "outputs": [
        {
          "output_type": "stream",
          "name": "stdout",
          "text": [
            "✨🍰✨ Everything looks OK!\n",
            "\n",
            "                  __    __    __    __\n",
            "                 /  \\  /  \\  /  \\  /  \\\n",
            "                /    \\/    \\/    \\/    \\\n",
            "███████████████/  /██/  /██/  /██/  /████████████████████████\n",
            "              /  / \\   / \\   / \\   / \\  \\____\n",
            "             /  /   \\_/   \\_/   \\_/   \\    o \\__,\n",
            "            / _/                       \\_____/  `\n",
            "            |/\n",
            "        ███╗   ███╗ █████╗ ███╗   ███╗██████╗  █████╗\n",
            "        ████╗ ████║██╔══██╗████╗ ████║██╔══██╗██╔══██╗\n",
            "        ██╔████╔██║███████║██╔████╔██║██████╔╝███████║\n",
            "        ██║╚██╔╝██║██╔══██║██║╚██╔╝██║██╔══██╗██╔══██║\n",
            "        ██║ ╚═╝ ██║██║  ██║██║ ╚═╝ ██║██████╔╝██║  ██║\n",
            "        ╚═╝     ╚═╝╚═╝  ╚═╝╚═╝     ╚═╝╚═════╝ ╚═╝  ╚═╝\n",
            "\n",
            "        Supported by @QuantStack\n",
            "\n",
            "        GitHub:  https://github.com/QuantStack/mamba\n",
            "        Twitter: https://twitter.com/QuantStack\n",
            "\n",
            "█████████████████████████████████████████████████████████████\n",
            "\n",
            "Getting  conda-forge linux-64\n",
            "Getting  conda-forge noarch\n",
            "Getting  pkgs/main linux-64\n",
            "Getting  pkgs/main noarch\n",
            "Getting  pkgs/r linux-64\n",
            "Getting  pkgs/r noarch\n",
            "\n",
            "Looking for: ['rdkit', 'python 3.7.10']\n",
            "\n",
            "267528 packages in https://conda.anaconda.org/conda-forge/linux-64\n",
            "93229 packages in https://conda.anaconda.org/conda-forge/noarch\n",
            "25252 packages in https://repo.anaconda.com/pkgs/main/linux-64\n",
            "4674 packages in https://repo.anaconda.com/pkgs/main/noarch\n",
            "6637 packages in https://repo.anaconda.com/pkgs/r/linux-64\n",
            "5025 packages in https://repo.anaconda.com/pkgs/r/noarch\n",
            "\n",
            "# All requested packages already installed.\n",
            "\n",
            "Looking in indexes: https://pypi.org/simple, https://us-python.pkg.dev/colab-wheels/public/simple/\n",
            "Requirement already satisfied: chembl-webresource-client in /usr/local/lib/python3.7/site-packages (0.10.8)\n",
            "Requirement already satisfied: requests>=2.18.4 in /usr/local/lib/python3.7/site-packages (from chembl-webresource-client) (2.25.1)\n",
            "Requirement already satisfied: requests-cache~=0.7.0 in /usr/local/lib/python3.7/site-packages (from chembl-webresource-client) (0.7.5)\n",
            "Requirement already satisfied: easydict in /usr/local/lib/python3.7/site-packages (from chembl-webresource-client) (1.9)\n",
            "Requirement already satisfied: urllib3 in /usr/local/lib/python3.7/site-packages (from chembl-webresource-client) (1.26.3)\n",
            "Requirement already satisfied: chardet<5,>=3.0.2 in /usr/local/lib/python3.7/site-packages (from requests>=2.18.4->chembl-webresource-client) (4.0.0)\n",
            "Requirement already satisfied: certifi>=2017.4.17 in /usr/local/lib/python3.7/site-packages (from requests>=2.18.4->chembl-webresource-client) (2022.5.18.1)\n",
            "Requirement already satisfied: idna<3,>=2.5 in /usr/local/lib/python3.7/site-packages (from requests>=2.18.4->chembl-webresource-client) (2.10)\n",
            "Requirement already satisfied: url-normalize<2.0,>=1.4 in /usr/local/lib/python3.7/site-packages (from requests-cache~=0.7.0->chembl-webresource-client) (1.4.3)\n",
            "Requirement already satisfied: attrs<22.0,>=21.2 in /usr/local/lib/python3.7/site-packages (from requests-cache~=0.7.0->chembl-webresource-client) (21.4.0)\n",
            "Requirement already satisfied: pyyaml>=5.4 in /usr/local/lib/python3.7/site-packages (from requests-cache~=0.7.0->chembl-webresource-client) (6.0)\n",
            "Requirement already satisfied: itsdangerous>=2.0.1 in /usr/local/lib/python3.7/site-packages (from requests-cache~=0.7.0->chembl-webresource-client) (2.1.2)\n",
            "Requirement already satisfied: six in /usr/local/lib/python3.7/site-packages (from url-normalize<2.0,>=1.4->requests-cache~=0.7.0->chembl-webresource-client) (1.15.0)\n"
          ]
        }
      ],
      "source": [
        "! pip install -q condacolab\n",
        "import condacolab\n",
        "condacolab.install()\n",
        "!mamba install -c conda-forge rdkit\n",
        "! pip install chembl-webresource-client"
      ]
    },
    {
      "cell_type": "code",
      "execution_count": 2,
      "metadata": {
        "id": "COfFyYRiC1s9"
      },
      "outputs": [],
      "source": [
        "import math\n",
        "from pathlib import Path\n",
        "from zipfile import ZipFile\n",
        "from tempfile import TemporaryDirectory\n",
        "\n",
        "import numpy as np\n",
        "import pandas as pd\n",
        "from chembl_webresource_client.new_client import new_client\n",
        "from tqdm.auto import tqdm\n",
        "\n",
        "from rdkit import Chem, DataStructs\n",
        "import matplotlib.pyplot as plt\n",
        "from rdkit.Chem import PandasTools, Descriptors, Draw, MACCSkeys, rdFingerprintGenerator\n",
        "from rdkit.Chem.FilterCatalog import FilterCatalog, FilterCatalogParams"
      ]
    },
    {
      "cell_type": "code",
      "execution_count": 3,
      "metadata": {
        "colab": {
          "base_uri": "https://localhost:8080/",
          "height": 224
        },
        "id": "8qt6raKWC1wg",
        "outputId": "39632b6d-e376-4943-ea00-c1b04cc77c49"
      },
      "outputs": [
        {
          "output_type": "stream",
          "name": "stdout",
          "text": [
            "Number of molecules in dataset: 129\n"
          ]
        },
        {
          "output_type": "execute_result",
          "data": {
            "text/plain": [
              "  molecule_chembl_id                                             smiles  \\\n",
              "0          CHEMBL567           OCCN1CCN(CCCN2c3ccccc3Sc3ccc(Cl)cc32)CC1   \n",
              "1      CHEMBL3885419  CC(C)(C)[C@]1(O)CCN2C[C@@H]3c4ccccc4CCc4cccc(c...   \n",
              "2         CHEMBL8514  CC(C)(C)[C@]1(O)CCN2C[C@H]3c4ccccc4CCc4cccc(c4...   \n",
              "3       CHEMBL267930    O=C(CCCN1CCC2(CC1)C(=O)NCN2c1ccccc1)c1ccc(F)cc1   \n",
              "4          CHEMBL493  CC(C)C[C@H]1C(=O)N2CCC[C@H]2[C@]2(O)O[C@](NC(=...   \n",
              "\n",
              "      pIC50  \n",
              "0  9.522879  \n",
              "1  8.958607  \n",
              "2  8.958607  \n",
              "3  8.896196  \n",
              "4  8.800794  "
            ],
            "text/html": [
              "\n",
              "  <div id=\"df-1cc16483-391e-488f-827d-fa1d9340dc34\">\n",
              "    <div class=\"colab-df-container\">\n",
              "      <div>\n",
              "<style scoped>\n",
              "    .dataframe tbody tr th:only-of-type {\n",
              "        vertical-align: middle;\n",
              "    }\n",
              "\n",
              "    .dataframe tbody tr th {\n",
              "        vertical-align: top;\n",
              "    }\n",
              "\n",
              "    .dataframe thead th {\n",
              "        text-align: right;\n",
              "    }\n",
              "</style>\n",
              "<table border=\"1\" class=\"dataframe\">\n",
              "  <thead>\n",
              "    <tr style=\"text-align: right;\">\n",
              "      <th></th>\n",
              "      <th>molecule_chembl_id</th>\n",
              "      <th>smiles</th>\n",
              "      <th>pIC50</th>\n",
              "    </tr>\n",
              "  </thead>\n",
              "  <tbody>\n",
              "    <tr>\n",
              "      <th>0</th>\n",
              "      <td>CHEMBL567</td>\n",
              "      <td>OCCN1CCN(CCCN2c3ccccc3Sc3ccc(Cl)cc32)CC1</td>\n",
              "      <td>9.522879</td>\n",
              "    </tr>\n",
              "    <tr>\n",
              "      <th>1</th>\n",
              "      <td>CHEMBL3885419</td>\n",
              "      <td>CC(C)(C)[C@]1(O)CCN2C[C@@H]3c4ccccc4CCc4cccc(c...</td>\n",
              "      <td>8.958607</td>\n",
              "    </tr>\n",
              "    <tr>\n",
              "      <th>2</th>\n",
              "      <td>CHEMBL8514</td>\n",
              "      <td>CC(C)(C)[C@]1(O)CCN2C[C@H]3c4ccccc4CCc4cccc(c4...</td>\n",
              "      <td>8.958607</td>\n",
              "    </tr>\n",
              "    <tr>\n",
              "      <th>3</th>\n",
              "      <td>CHEMBL267930</td>\n",
              "      <td>O=C(CCCN1CCC2(CC1)C(=O)NCN2c1ccccc1)c1ccc(F)cc1</td>\n",
              "      <td>8.896196</td>\n",
              "    </tr>\n",
              "    <tr>\n",
              "      <th>4</th>\n",
              "      <td>CHEMBL493</td>\n",
              "      <td>CC(C)C[C@H]1C(=O)N2CCC[C@H]2[C@]2(O)O[C@](NC(=...</td>\n",
              "      <td>8.800794</td>\n",
              "    </tr>\n",
              "  </tbody>\n",
              "</table>\n",
              "</div>\n",
              "      <button class=\"colab-df-convert\" onclick=\"convertToInteractive('df-1cc16483-391e-488f-827d-fa1d9340dc34')\"\n",
              "              title=\"Convert this dataframe to an interactive table.\"\n",
              "              style=\"display:none;\">\n",
              "        \n",
              "  <svg xmlns=\"http://www.w3.org/2000/svg\" height=\"24px\"viewBox=\"0 0 24 24\"\n",
              "       width=\"24px\">\n",
              "    <path d=\"M0 0h24v24H0V0z\" fill=\"none\"/>\n",
              "    <path d=\"M18.56 5.44l.94 2.06.94-2.06 2.06-.94-2.06-.94-.94-2.06-.94 2.06-2.06.94zm-11 1L8.5 8.5l.94-2.06 2.06-.94-2.06-.94L8.5 2.5l-.94 2.06-2.06.94zm10 10l.94 2.06.94-2.06 2.06-.94-2.06-.94-.94-2.06-.94 2.06-2.06.94z\"/><path d=\"M17.41 7.96l-1.37-1.37c-.4-.4-.92-.59-1.43-.59-.52 0-1.04.2-1.43.59L10.3 9.45l-7.72 7.72c-.78.78-.78 2.05 0 2.83L4 21.41c.39.39.9.59 1.41.59.51 0 1.02-.2 1.41-.59l7.78-7.78 2.81-2.81c.8-.78.8-2.07 0-2.86zM5.41 20L4 18.59l7.72-7.72 1.47 1.35L5.41 20z\"/>\n",
              "  </svg>\n",
              "      </button>\n",
              "      \n",
              "  <style>\n",
              "    .colab-df-container {\n",
              "      display:flex;\n",
              "      flex-wrap:wrap;\n",
              "      gap: 12px;\n",
              "    }\n",
              "\n",
              "    .colab-df-convert {\n",
              "      background-color: #E8F0FE;\n",
              "      border: none;\n",
              "      border-radius: 50%;\n",
              "      cursor: pointer;\n",
              "      display: none;\n",
              "      fill: #1967D2;\n",
              "      height: 32px;\n",
              "      padding: 0 0 0 0;\n",
              "      width: 32px;\n",
              "    }\n",
              "\n",
              "    .colab-df-convert:hover {\n",
              "      background-color: #E2EBFA;\n",
              "      box-shadow: 0px 1px 2px rgba(60, 64, 67, 0.3), 0px 1px 3px 1px rgba(60, 64, 67, 0.15);\n",
              "      fill: #174EA6;\n",
              "    }\n",
              "\n",
              "    [theme=dark] .colab-df-convert {\n",
              "      background-color: #3B4455;\n",
              "      fill: #D2E3FC;\n",
              "    }\n",
              "\n",
              "    [theme=dark] .colab-df-convert:hover {\n",
              "      background-color: #434B5C;\n",
              "      box-shadow: 0px 1px 3px 1px rgba(0, 0, 0, 0.15);\n",
              "      filter: drop-shadow(0px 1px 2px rgba(0, 0, 0, 0.3));\n",
              "      fill: #FFFFFF;\n",
              "    }\n",
              "  </style>\n",
              "\n",
              "      <script>\n",
              "        const buttonEl =\n",
              "          document.querySelector('#df-1cc16483-391e-488f-827d-fa1d9340dc34 button.colab-df-convert');\n",
              "        buttonEl.style.display =\n",
              "          google.colab.kernel.accessAllowed ? 'block' : 'none';\n",
              "\n",
              "        async function convertToInteractive(key) {\n",
              "          const element = document.querySelector('#df-1cc16483-391e-488f-827d-fa1d9340dc34');\n",
              "          const dataTable =\n",
              "            await google.colab.kernel.invokeFunction('convertToInteractive',\n",
              "                                                     [key], {});\n",
              "          if (!dataTable) return;\n",
              "\n",
              "          const docLinkHtml = 'Like what you see? Visit the ' +\n",
              "            '<a target=\"_blank\" href=https://colab.research.google.com/notebooks/data_table.ipynb>data table notebook</a>'\n",
              "            + ' to learn more about interactive tables.';\n",
              "          element.innerHTML = '';\n",
              "          dataTable['output_type'] = 'display_data';\n",
              "          await google.colab.output.renderOutput(dataTable, element);\n",
              "          const docLink = document.createElement('div');\n",
              "          docLink.innerHTML = docLinkHtml;\n",
              "          element.appendChild(docLink);\n",
              "        }\n",
              "      </script>\n",
              "    </div>\n",
              "  </div>\n",
              "  "
            ]
          },
          "metadata": {},
          "execution_count": 3
        }
      ],
      "source": [
        "molecule_dataset = pd.read_csv('/content/active_filtered.csv',\n",
        "    usecols=[\"molecule_chembl_id\", \"smiles\", \"pIC50\"],\n",
        ")\n",
        "print(f\"Number of molecules in dataset: {len(molecule_dataset)}\")\n",
        "molecule_dataset.head(5)"
      ]
    },
    {
      "cell_type": "markdown",
      "source": [
        "### Let's consider all connections falling within the interquantile range of distances of positive examples from the centroid as suitable"
      ],
      "metadata": {
        "id": "TQL03qUTQ8nd"
      }
    },
    {
      "cell_type": "markdown",
      "source": [
        "So, now we need to find centroid for all '+'"
      ],
      "metadata": {
        "id": "35pOg1mDW8Al"
      }
    },
    {
      "cell_type": "code",
      "source": [
        "from rdkit.ML.Cluster import Butina\n",
        "from rdkit.Chem import Draw\n",
        "from rdkit.Chem import rdFingerprintGenerator"
      ],
      "metadata": {
        "id": "rW3pC-s9XHLc"
      },
      "execution_count": 4,
      "outputs": []
    },
    {
      "cell_type": "code",
      "source": [
        "def tanimoto_distance_matrix(fp_list):\n",
        "    \"\"\"Calculate distance matrix for fingerprint list\"\"\"\n",
        "    dissimilarity_matrix = []\n",
        "    # Notice how we are deliberately skipping the first and last items in the list\n",
        "    # because we don't need to compare them against themselves\n",
        "    for i in range(1, len(fp_list)):\n",
        "        # Compare the current fingerprint against all the previous ones in the list\n",
        "        similarities = DataStructs.BulkTanimotoSimilarity(fp_list[i], fp_list[:i])\n",
        "        # Since we need a distance matrix, calculate 1-x for every element in similarity matrix\n",
        "        dissimilarity_matrix.extend([1 - x for x in similarities])\n",
        "    return dissimilarity_matrix\n",
        "\n",
        "def cluster_fingerprints(fingerprints, cutoff=0.2):\n",
        "    \"\"\"Cluster fingerprints\n",
        "    Parameters:\n",
        "        fingerprints\n",
        "        cutoff: threshold for the clustering\n",
        "    \"\"\"\n",
        "    # Calculate Tanimoto distance matrix\n",
        "    distance_matrix = tanimoto_distance_matrix(fingerprints)\n",
        "    # Now cluster the data with the implemented Butina algorithm:\n",
        "    clusters = Butina.ClusterData(distance_matrix, len(fingerprints), cutoff, isDistData=True)\n",
        "    clusters = sorted(clusters, key=len, reverse=True)\n",
        "    return clusters"
      ],
      "metadata": {
        "id": "cGc211LEPnxD"
      },
      "execution_count": 5,
      "outputs": []
    },
    {
      "cell_type": "code",
      "source": [
        "compounds = []\n",
        "for _, chembl_id, smiles in molecule_dataset[[\"molecule_chembl_id\", \"smiles\"]].itertuples():\n",
        "    compounds.append((Chem.MolFromSmiles(smiles), chembl_id))\n",
        "compounds[:5]\n",
        "\n",
        "# Create fingerprints for all molecules\n",
        "rdkit_gen = rdFingerprintGenerator.GetRDKitFPGenerator(maxPath=5)\n",
        "fingerprints = [rdkit_gen.GetFingerprint(mol) for mol, idx in compounds]"
      ],
      "metadata": {
        "id": "3BOeqSyNdxA9"
      },
      "execution_count": 6,
      "outputs": []
    },
    {
      "cell_type": "code",
      "source": [
        "# Run the clustering procedure for the dataset\n",
        "clusters = cluster_fingerprints(fingerprints, cutoff=0.9)\n",
        "\n",
        "# Give a short report about the numbers of clusters and their sizes\n",
        "num_clust_g1 = sum(1 for c in clusters if len(c) == 1)\n",
        "num_clust_g5 = sum(1 for c in clusters if len(c) > 5)\n",
        "num_clust_g25 = sum(1 for c in clusters if len(c) > 25)\n",
        "num_clust_g100 = sum(1 for c in clusters if len(c) > 100)\n",
        "\n",
        "print(\"total # clusters: \", len(clusters))\n",
        "print(\"# clusters with only 1 compound: \", num_clust_g1)\n",
        "print(\"# clusters with >5 compounds: \", num_clust_g5)\n",
        "print(\"# clusters with >25 compounds: \", num_clust_g25)\n",
        "print(\"# clusters with >100 compounds: \", num_clust_g100)\n",
        "# NBVAL_CHECK_OUTPUT"
      ],
      "metadata": {
        "colab": {
          "base_uri": "https://localhost:8080/"
        },
        "id": "0dciHqgxXfnE",
        "outputId": "4f49107e-ea53-4866-818f-17945990dfbf"
      },
      "execution_count": 7,
      "outputs": [
        {
          "output_type": "stream",
          "name": "stdout",
          "text": [
            "total # clusters:  1\n",
            "# clusters with only 1 compound:  0\n",
            "# clusters with >5 compounds:  1\n",
            "# clusters with >25 compounds:  1\n",
            "# clusters with >100 compounds:  1\n"
          ]
        }
      ]
    },
    {
      "cell_type": "code",
      "source": [
        "# Draw molecules\n",
        "Draw.MolsToGridImage(\n",
        "    [compounds[i][0] for i in clusters[0][:10]],\n",
        "    legends=[compounds[i][1] for i in clusters[0][:10]],\n",
        "    molsPerRow=5,\n",
        ")"
      ],
      "metadata": {
        "colab": {
          "base_uri": "https://localhost:8080/",
          "height": 417
        },
        "id": "s4Yah6IrJbQB",
        "outputId": "57d94056-1ada-41bb-8a85-2160c235e979"
      },
      "execution_count": 8,
      "outputs": [
        {
          "output_type": "execute_result",
          "data": {
            "text/plain": [
              "<IPython.core.display.Image object>"
            ],
            "image/png": "[encoded data removed]"
          },
          "metadata": {},
          "execution_count": 8
        }
      ]
    },
    {
      "cell_type": "code",
      "source": [
        "# Get the cluster center of each cluster (first molecule in each cluster)\n",
        "cluster_centers = [compounds[c[0]] for c in clusters][0]"
      ],
      "metadata": {
        "id": "m6D8KXK3Pn-j"
      },
      "execution_count": null,
      "outputs": []
    },
    {
      "cell_type": "code",
      "source": [
        "cluster_centers"
      ],
      "metadata": {
        "colab": {
          "base_uri": "https://localhost:8080/"
        },
        "outputId": "e3faa69c-543e-424a-c91a-c154f6396477",
        "id": "yFQKiFxuTyjG"
      },
      "execution_count": null,
      "outputs": [
        {
          "output_type": "execute_result",
          "data": {
            "text/plain": [
              "(<rdkit.Chem.rdchem.Mol at 0x7fcd819cab20>, 'CHEMBL260907')"
            ]
          },
          "metadata": {},
          "execution_count": 34
        }
      ]
    },
    {
      "cell_type": "code",
      "source": [
        "PandasTools.AddMoleculeColumnToFrame(molecule_dataset, \"smiles\")\n",
        "circular_fp_list = rdFingerprintGenerator.GetCountFPs(molecule_dataset[\"ROMol\"].tolist())\n",
        "maccs_fp_list = molecule_dataset[\"ROMol\"].apply(MACCSkeys.GenMACCSKeys).tolist()\n",
        "molecule_dataset['circular_fp'] = circular_fp_list\n",
        "molecule_dataset['maccs_fp'] = maccs_fp_list"
      ],
      "metadata": {
        "id": "yApKtmRRTyjC"
      },
      "execution_count": null,
      "outputs": []
    },
    {
      "cell_type": "code",
      "source": [
        "molecule_dataset[molecule_dataset.molecule_chembl_id ==cluster_centers[1]]['smiles']"
      ],
      "metadata": {
        "colab": {
          "base_uri": "https://localhost:8080/"
        },
        "outputId": "a4a27911-99fb-4222-fea1-d12e7cec1d66",
        "id": "rOmJ7ZUfTyjI"
      },
      "execution_count": null,
      "outputs": [
        {
          "output_type": "execute_result",
          "data": {
            "text/plain": [
              "128    CCOc1ccccc1N1CCN(CCCC(=O)NCc2nc3ccc(F)cc3c(=O)...\n",
              "Name: smiles, dtype: object"
            ]
          },
          "metadata": {},
          "execution_count": 85
        }
      ]
    },
    {
      "cell_type": "code",
      "source": [
        "query = Chem.MolFromSmiles(molecule_dataset.loc[128,'smiles'])"
      ],
      "metadata": {
        "id": "jtRJRX1lTyjJ"
      },
      "execution_count": null,
      "outputs": []
    },
    {
      "cell_type": "code",
      "source": [
        "maccs_fp_query = MACCSkeys.GenMACCSKeys(query)\n",
        "circular_fp_query = rdFingerprintGenerator.GetCountFPs([query])[0]"
      ],
      "metadata": {
        "id": "PE1v8XJSTyjJ"
      },
      "execution_count": null,
      "outputs": []
    },
    {
      "cell_type": "code",
      "source": [
        "from numpy.ma.core import negative\n",
        "molecule_dataset[\"tanimoto_maccs\"] = DataStructs.BulkTanimotoSimilarity(\n",
        "    maccs_fp_query, maccs_fp_list\n",
        ")\n",
        "molecule_dataset[\"tanimoto_morgan\"] = DataStructs.BulkTanimotoSimilarity(\n",
        "    circular_fp_query, circular_fp_list\n",
        ")"
      ],
      "metadata": {
        "id": "rIF5zfbeTyjK"
      },
      "execution_count": null,
      "outputs": []
    },
    {
      "cell_type": "code",
      "source": [
        "molecule_dataset[\"dice_maccs\"] = DataStructs.BulkDiceSimilarity(maccs_fp_query, maccs_fp_list)\n",
        "molecule_dataset[\"dice_morgan\"] = DataStructs.BulkDiceSimilarity(\n",
        "    circular_fp_query, circular_fp_list\n",
        ")"
      ],
      "metadata": {
        "id": "K82GWKDdTyjK"
      },
      "execution_count": null,
      "outputs": []
    },
    {
      "cell_type": "code",
      "source": [
        "molecule_dataset[[\"smiles\", \"tanimoto_maccs\", \"tanimoto_morgan\", \"dice_maccs\", \"dice_morgan\"]]"
      ],
      "metadata": {
        "colab": {
          "base_uri": "https://localhost:8080/",
          "height": 424
        },
        "outputId": "006e7cce-bddb-4997-e03a-f14388a402a9",
        "id": "ed7fSURVTyjL"
      },
      "execution_count": null,
      "outputs": [
        {
          "output_type": "execute_result",
          "data": {
            "text/plain": [
              "                                                smiles  tanimoto_maccs  \\\n",
              "0             OCCN1CCN(CCCN2c3ccccc3Sc3ccc(Cl)cc32)CC1        0.594595   \n",
              "1    CC(C)(C)[C@]1(O)CCN2C[C@@H]3c4ccccc4CCc4cccc(c...        0.467532   \n",
              "2    CC(C)(C)[C@]1(O)CCN2C[C@H]3c4ccccc4CCc4cccc(c4...        0.467532   \n",
              "3      O=C(CCCN1CCC2(CC1)C(=O)NCN2c1ccccc1)c1ccc(F)cc1        0.753425   \n",
              "4    CC(C)C[C@H]1C(=O)N2CCC[C@H]2[C@]2(O)O[C@](NC(=...        0.608696   \n",
              "..                                                 ...             ...   \n",
              "124    COc1cccc(-c2csc(CCN3CCN(c4ccccc4OC)CC3)n2)c1.Cl        0.589744   \n",
              "125          COc1ccc2c(c1)C[C@H]1c3cc(O)c(OC)cc3CCN1C2        0.513889   \n",
              "126             CCN1CCC[C@H]1CNC(=O)c1c(OC)ccc(Br)c1OC        0.636364   \n",
              "127  CC(=O)c1cccc(NC(=O)N[C@@H]2CCCC[C@H]2CN2CCC[C@...        0.652778   \n",
              "128  CCOc1ccccc1N1CCN(CCCC(=O)NCc2nc3ccc(F)cc3c(=O)...        1.000000   \n",
              "\n",
              "     tanimoto_morgan  dice_maccs  dice_morgan  \n",
              "0           0.317568    0.745763     0.482051  \n",
              "1           0.176829    0.637168     0.300518  \n",
              "2           0.176829    0.637168     0.300518  \n",
              "3           0.388889    0.859375     0.560000  \n",
              "4           0.186869    0.756757     0.314894  \n",
              "..               ...         ...          ...  \n",
              "124         0.374150    0.741935     0.544554  \n",
              "125         0.181818    0.678899     0.307692  \n",
              "126         0.164474    0.777778     0.282486  \n",
              "127         0.229885    0.789916     0.373832  \n",
              "128         1.000000    1.000000     1.000000  \n",
              "\n",
              "[129 rows x 5 columns]"
            ],
            "text/html": [
              "\n",
              "  <div id=\"df-ddea611b-fe0c-4733-8186-6d8d9012c1ae\">\n",
              "    <div class=\"colab-df-container\">\n",
              "      <div>\n",
              "<style scoped>\n",
              "    .dataframe tbody tr th:only-of-type {\n",
              "        vertical-align: middle;\n",
              "    }\n",
              "\n",
              "    .dataframe tbody tr th {\n",
              "        vertical-align: top;\n",
              "    }\n",
              "\n",
              "    .dataframe thead th {\n",
              "        text-align: right;\n",
              "    }\n",
              "</style>\n",
              "<table border=\"1\" class=\"dataframe\">\n",
              "  <thead>\n",
              "    <tr style=\"text-align: right;\">\n",
              "      <th></th>\n",
              "      <th>smiles</th>\n",
              "      <th>tanimoto_maccs</th>\n",
              "      <th>tanimoto_morgan</th>\n",
              "      <th>dice_maccs</th>\n",
              "      <th>dice_morgan</th>\n",
              "    </tr>\n",
              "  </thead>\n",
              "  <tbody>\n",
              "    <tr>\n",
              "      <th>0</th>\n",
              "      <td>OCCN1CCN(CCCN2c3ccccc3Sc3ccc(Cl)cc32)CC1</td>\n",
              "      <td>0.594595</td>\n",
              "      <td>0.317568</td>\n",
              "      <td>0.745763</td>\n",
              "      <td>0.482051</td>\n",
              "    </tr>\n",
              "    <tr>\n",
              "      <th>1</th>\n",
              "      <td>CC(C)(C)[C@]1(O)CCN2C[C@@H]3c4ccccc4CCc4cccc(c...</td>\n",
              "      <td>0.467532</td>\n",
              "      <td>0.176829</td>\n",
              "      <td>0.637168</td>\n",
              "      <td>0.300518</td>\n",
              "    </tr>\n",
              "    <tr>\n",
              "      <th>2</th>\n",
              "      <td>CC(C)(C)[C@]1(O)CCN2C[C@H]3c4ccccc4CCc4cccc(c4...</td>\n",
              "      <td>0.467532</td>\n",
              "      <td>0.176829</td>\n",
              "      <td>0.637168</td>\n",
              "      <td>0.300518</td>\n",
              "    </tr>\n",
              "    <tr>\n",
              "      <th>3</th>\n",
              "      <td>O=C(CCCN1CCC2(CC1)C(=O)NCN2c1ccccc1)c1ccc(F)cc1</td>\n",
              "      <td>0.753425</td>\n",
              "      <td>0.388889</td>\n",
              "      <td>0.859375</td>\n",
              "      <td>0.560000</td>\n",
              "    </tr>\n",
              "    <tr>\n",
              "      <th>4</th>\n",
              "      <td>CC(C)C[C@H]1C(=O)N2CCC[C@H]2[C@]2(O)O[C@](NC(=...</td>\n",
              "      <td>0.608696</td>\n",
              "      <td>0.186869</td>\n",
              "      <td>0.756757</td>\n",
              "      <td>0.314894</td>\n",
              "    </tr>\n",
              "    <tr>\n",
              "      <th>...</th>\n",
              "      <td>...</td>\n",
              "      <td>...</td>\n",
              "      <td>...</td>\n",
              "      <td>...</td>\n",
              "      <td>...</td>\n",
              "    </tr>\n",
              "    <tr>\n",
              "      <th>124</th>\n",
              "      <td>COc1cccc(-c2csc(CCN3CCN(c4ccccc4OC)CC3)n2)c1.Cl</td>\n",
              "      <td>0.589744</td>\n",
              "      <td>0.374150</td>\n",
              "      <td>0.741935</td>\n",
              "      <td>0.544554</td>\n",
              "    </tr>\n",
              "    <tr>\n",
              "      <th>125</th>\n",
              "      <td>COc1ccc2c(c1)C[C@H]1c3cc(O)c(OC)cc3CCN1C2</td>\n",
              "      <td>0.513889</td>\n",
              "      <td>0.181818</td>\n",
              "      <td>0.678899</td>\n",
              "      <td>0.307692</td>\n",
              "    </tr>\n",
              "    <tr>\n",
              "      <th>126</th>\n",
              "      <td>CCN1CCC[C@H]1CNC(=O)c1c(OC)ccc(Br)c1OC</td>\n",
              "      <td>0.636364</td>\n",
              "      <td>0.164474</td>\n",
              "      <td>0.777778</td>\n",
              "      <td>0.282486</td>\n",
              "    </tr>\n",
              "    <tr>\n",
              "      <th>127</th>\n",
              "      <td>CC(=O)c1cccc(NC(=O)N[C@@H]2CCCC[C@H]2CN2CCC[C@...</td>\n",
              "      <td>0.652778</td>\n",
              "      <td>0.229885</td>\n",
              "      <td>0.789916</td>\n",
              "      <td>0.373832</td>\n",
              "    </tr>\n",
              "    <tr>\n",
              "      <th>128</th>\n",
              "      <td>CCOc1ccccc1N1CCN(CCCC(=O)NCc2nc3ccc(F)cc3c(=O)...</td>\n",
              "      <td>1.000000</td>\n",
              "      <td>1.000000</td>\n",
              "      <td>1.000000</td>\n",
              "      <td>1.000000</td>\n",
              "    </tr>\n",
              "  </tbody>\n",
              "</table>\n",
              "<p>129 rows × 5 columns</p>\n",
              "</div>\n",
              "      <button class=\"colab-df-convert\" onclick=\"convertToInteractive('df-ddea611b-fe0c-4733-8186-6d8d9012c1ae')\"\n",
              "              title=\"Convert this dataframe to an interactive table.\"\n",
              "              style=\"display:none;\">\n",
              "        \n",
              "  <svg xmlns=\"http://www.w3.org/2000/svg\" height=\"24px\"viewBox=\"0 0 24 24\"\n",
              "       width=\"24px\">\n",
              "    <path d=\"M0 0h24v24H0V0z\" fill=\"none\"/>\n",
              "    <path d=\"M18.56 5.44l.94 2.06.94-2.06 2.06-.94-2.06-.94-.94-2.06-.94 2.06-2.06.94zm-11 1L8.5 8.5l.94-2.06 2.06-.94-2.06-.94L8.5 2.5l-.94 2.06-2.06.94zm10 10l.94 2.06.94-2.06 2.06-.94-2.06-.94-.94-2.06-.94 2.06-2.06.94z\"/><path d=\"M17.41 7.96l-1.37-1.37c-.4-.4-.92-.59-1.43-.59-.52 0-1.04.2-1.43.59L10.3 9.45l-7.72 7.72c-.78.78-.78 2.05 0 2.83L4 21.41c.39.39.9.59 1.41.59.51 0 1.02-.2 1.41-.59l7.78-7.78 2.81-2.81c.8-.78.8-2.07 0-2.86zM5.41 20L4 18.59l7.72-7.72 1.47 1.35L5.41 20z\"/>\n",
              "  </svg>\n",
              "      </button>\n",
              "      \n",
              "  <style>\n",
              "    .colab-df-container {\n",
              "      display:flex;\n",
              "      flex-wrap:wrap;\n",
              "      gap: 12px;\n",
              "    }\n",
              "\n",
              "    .colab-df-convert {\n",
              "      background-color: #E8F0FE;\n",
              "      border: none;\n",
              "      border-radius: 50%;\n",
              "      cursor: pointer;\n",
              "      display: none;\n",
              "      fill: #1967D2;\n",
              "      height: 32px;\n",
              "      padding: 0 0 0 0;\n",
              "      width: 32px;\n",
              "    }\n",
              "\n",
              "    .colab-df-convert:hover {\n",
              "      background-color: #E2EBFA;\n",
              "      box-shadow: 0px 1px 2px rgba(60, 64, 67, 0.3), 0px 1px 3px 1px rgba(60, 64, 67, 0.15);\n",
              "      fill: #174EA6;\n",
              "    }\n",
              "\n",
              "    [theme=dark] .colab-df-convert {\n",
              "      background-color: #3B4455;\n",
              "      fill: #D2E3FC;\n",
              "    }\n",
              "\n",
              "    [theme=dark] .colab-df-convert:hover {\n",
              "      background-color: #434B5C;\n",
              "      box-shadow: 0px 1px 3px 1px rgba(0, 0, 0, 0.15);\n",
              "      filter: drop-shadow(0px 1px 2px rgba(0, 0, 0, 0.3));\n",
              "      fill: #FFFFFF;\n",
              "    }\n",
              "  </style>\n",
              "\n",
              "      <script>\n",
              "        const buttonEl =\n",
              "          document.querySelector('#df-ddea611b-fe0c-4733-8186-6d8d9012c1ae button.colab-df-convert');\n",
              "        buttonEl.style.display =\n",
              "          google.colab.kernel.accessAllowed ? 'block' : 'none';\n",
              "\n",
              "        async function convertToInteractive(key) {\n",
              "          const element = document.querySelector('#df-ddea611b-fe0c-4733-8186-6d8d9012c1ae');\n",
              "          const dataTable =\n",
              "            await google.colab.kernel.invokeFunction('convertToInteractive',\n",
              "                                                     [key], {});\n",
              "          if (!dataTable) return;\n",
              "\n",
              "          const docLinkHtml = 'Like what you see? Visit the ' +\n",
              "            '<a target=\"_blank\" href=https://colab.research.google.com/notebooks/data_table.ipynb>data table notebook</a>'\n",
              "            + ' to learn more about interactive tables.';\n",
              "          element.innerHTML = '';\n",
              "          dataTable['output_type'] = 'display_data';\n",
              "          await google.colab.output.renderOutput(dataTable, element);\n",
              "          const docLink = document.createElement('div');\n",
              "          docLink.innerHTML = docLinkHtml;\n",
              "          element.appendChild(docLink);\n",
              "        }\n",
              "      </script>\n",
              "    </div>\n",
              "  </div>\n",
              "  "
            ]
          },
          "metadata": {},
          "execution_count": 90
        }
      ]
    },
    {
      "cell_type": "code",
      "source": [
        "down_q = np.quantile(molecule_dataset['tanimoto_morgan'], 0.25)\n",
        "down_q "
      ],
      "metadata": {
        "colab": {
          "base_uri": "https://localhost:8080/"
        },
        "id": "2EIqz6ceO3is",
        "outputId": "5ddc52e3-e5d5-4356-e54c-9ff68a6ede09"
      },
      "execution_count": null,
      "outputs": [
        {
          "output_type": "execute_result",
          "data": {
            "text/plain": [
              "0.22784810126582278"
            ]
          },
          "metadata": {},
          "execution_count": 92
        }
      ]
    },
    {
      "cell_type": "code",
      "source": [
        "up_q = np.quantile(molecule_dataset['tanimoto_morgan'], 0.75)\n",
        "up_q"
      ],
      "metadata": {
        "colab": {
          "base_uri": "https://localhost:8080/"
        },
        "id": "IPZLN2PVPEYu",
        "outputId": "24ffc1b7-d53d-4dda-db4b-2e244aaaf72e"
      },
      "execution_count": null,
      "outputs": [
        {
          "output_type": "execute_result",
          "data": {
            "text/plain": [
              "0.3269230769230769"
            ]
          },
          "metadata": {},
          "execution_count": 93
        }
      ]
    },
    {
      "cell_type": "markdown",
      "source": [
        "## Dealing with negatives"
      ],
      "metadata": {
        "id": "6R0vyeINPolz"
      }
    },
    {
      "cell_type": "code",
      "execution_count": null,
      "metadata": {
        "id": "Cxa-6aYfvVLR"
      },
      "outputs": [],
      "source": [
        "random_molecules = pd.read_csv('/content/all_compounds_after_tt_3.csv',\n",
        "    usecols=[\"molecule_chembl_id\", \"smiles\"],\n",
        ")"
      ]
    },
    {
      "cell_type": "code",
      "execution_count": null,
      "metadata": {
        "colab": {
          "base_uri": "https://localhost:8080/"
        },
        "id": "9vS_--qivVM8",
        "outputId": "ac3b1205-dccc-4cbf-fc27-17e67501f17e"
      },
      "outputs": [
        {
          "output_type": "execute_result",
          "data": {
            "text/plain": [
              "(181054, 2)"
            ]
          },
          "metadata": {},
          "execution_count": 95
        }
      ],
      "source": [
        "random_molecules.shape"
      ]
    },
    {
      "cell_type": "code",
      "execution_count": null,
      "metadata": {
        "id": "W-FeP_VovVPg",
        "colab": {
          "base_uri": "https://localhost:8080/",
          "height": 363
        },
        "outputId": "8da7050c-4b35-4a8d-ff05-62bc855f9429"
      },
      "outputs": [
        {
          "output_type": "execute_result",
          "data": {
            "text/plain": [
              "  molecule_chembl_id                                             smiles\n",
              "0      CHEMBL1382592                    O=C(CSCC(=O)NCc1ccco1)NCc1ccco1\n",
              "1      CHEMBL4090043  Nc1ncc(-c2n[nH]c(C3(c4ccccc4)CC3)n2)nc1-n1nnc2...\n",
              "2      CHEMBL2386920            CCc1ccc(C)n2c(=O)cc(Cn3cnc4ccccc43)nc12\n",
              "3      CHEMBL3676032  COc1ncc(F)cc1[C@H]1CCCN1c1ccn2ncc(C(=O)Nc3ccc(...\n",
              "4      CHEMBL3503365  Cc1noc(C)c1CN1CCO[C@@H]2[C@@H]1CC[C@H]2Oc1nccc...\n",
              "5      CHEMBL1608862                 COCc1cc(C)nc(Nc2ccc(C)c(C)c2)c1C#N\n",
              "6      CHEMBL3553736            COC[C@@H]1CCC[C@@]12CN(Cc1ccc(C)s1)CCO2\n",
              "7      CHEMBL3448432               Cc1ccc(CN2CCc3nc(C(C)C)nc(O)c3CC2)s1\n",
              "8      CHEMBL4248597  O=S(=O)(c1cccc2ncccc12)N1CCC[C@@H]1CCN1CCN(c2c...\n",
              "9      CHEMBL4113935    C[C@H](c1ccc2ccccc2c1)N(C(=O)[C@H]1CNCCO1)C1CC1"
            ],
            "text/html": [
              "\n",
              "  <div id=\"df-ea4f64a7-bbff-420f-8d77-90f6c47e273c\">\n",
              "    <div class=\"colab-df-container\">\n",
              "      <div>\n",
              "<style scoped>\n",
              "    .dataframe tbody tr th:only-of-type {\n",
              "        vertical-align: middle;\n",
              "    }\n",
              "\n",
              "    .dataframe tbody tr th {\n",
              "        vertical-align: top;\n",
              "    }\n",
              "\n",
              "    .dataframe thead th {\n",
              "        text-align: right;\n",
              "    }\n",
              "</style>\n",
              "<table border=\"1\" class=\"dataframe\">\n",
              "  <thead>\n",
              "    <tr style=\"text-align: right;\">\n",
              "      <th></th>\n",
              "      <th>molecule_chembl_id</th>\n",
              "      <th>smiles</th>\n",
              "    </tr>\n",
              "  </thead>\n",
              "  <tbody>\n",
              "    <tr>\n",
              "      <th>0</th>\n",
              "      <td>CHEMBL1382592</td>\n",
              "      <td>O=C(CSCC(=O)NCc1ccco1)NCc1ccco1</td>\n",
              "    </tr>\n",
              "    <tr>\n",
              "      <th>1</th>\n",
              "      <td>CHEMBL4090043</td>\n",
              "      <td>Nc1ncc(-c2n[nH]c(C3(c4ccccc4)CC3)n2)nc1-n1nnc2...</td>\n",
              "    </tr>\n",
              "    <tr>\n",
              "      <th>2</th>\n",
              "      <td>CHEMBL2386920</td>\n",
              "      <td>CCc1ccc(C)n2c(=O)cc(Cn3cnc4ccccc43)nc12</td>\n",
              "    </tr>\n",
              "    <tr>\n",
              "      <th>3</th>\n",
              "      <td>CHEMBL3676032</td>\n",
              "      <td>COc1ncc(F)cc1[C@H]1CCCN1c1ccn2ncc(C(=O)Nc3ccc(...</td>\n",
              "    </tr>\n",
              "    <tr>\n",
              "      <th>4</th>\n",
              "      <td>CHEMBL3503365</td>\n",
              "      <td>Cc1noc(C)c1CN1CCO[C@@H]2[C@@H]1CC[C@H]2Oc1nccc...</td>\n",
              "    </tr>\n",
              "    <tr>\n",
              "      <th>5</th>\n",
              "      <td>CHEMBL1608862</td>\n",
              "      <td>COCc1cc(C)nc(Nc2ccc(C)c(C)c2)c1C#N</td>\n",
              "    </tr>\n",
              "    <tr>\n",
              "      <th>6</th>\n",
              "      <td>CHEMBL3553736</td>\n",
              "      <td>COC[C@@H]1CCC[C@@]12CN(Cc1ccc(C)s1)CCO2</td>\n",
              "    </tr>\n",
              "    <tr>\n",
              "      <th>7</th>\n",
              "      <td>CHEMBL3448432</td>\n",
              "      <td>Cc1ccc(CN2CCc3nc(C(C)C)nc(O)c3CC2)s1</td>\n",
              "    </tr>\n",
              "    <tr>\n",
              "      <th>8</th>\n",
              "      <td>CHEMBL4248597</td>\n",
              "      <td>O=S(=O)(c1cccc2ncccc12)N1CCC[C@@H]1CCN1CCN(c2c...</td>\n",
              "    </tr>\n",
              "    <tr>\n",
              "      <th>9</th>\n",
              "      <td>CHEMBL4113935</td>\n",
              "      <td>C[C@H](c1ccc2ccccc2c1)N(C(=O)[C@H]1CNCCO1)C1CC1</td>\n",
              "    </tr>\n",
              "  </tbody>\n",
              "</table>\n",
              "</div>\n",
              "      <button class=\"colab-df-convert\" onclick=\"convertToInteractive('df-ea4f64a7-bbff-420f-8d77-90f6c47e273c')\"\n",
              "              title=\"Convert this dataframe to an interactive table.\"\n",
              "              style=\"display:none;\">\n",
              "        \n",
              "  <svg xmlns=\"http://www.w3.org/2000/svg\" height=\"24px\"viewBox=\"0 0 24 24\"\n",
              "       width=\"24px\">\n",
              "    <path d=\"M0 0h24v24H0V0z\" fill=\"none\"/>\n",
              "    <path d=\"M18.56 5.44l.94 2.06.94-2.06 2.06-.94-2.06-.94-.94-2.06-.94 2.06-2.06.94zm-11 1L8.5 8.5l.94-2.06 2.06-.94-2.06-.94L8.5 2.5l-.94 2.06-2.06.94zm10 10l.94 2.06.94-2.06 2.06-.94-2.06-.94-.94-2.06-.94 2.06-2.06.94z\"/><path d=\"M17.41 7.96l-1.37-1.37c-.4-.4-.92-.59-1.43-.59-.52 0-1.04.2-1.43.59L10.3 9.45l-7.72 7.72c-.78.78-.78 2.05 0 2.83L4 21.41c.39.39.9.59 1.41.59.51 0 1.02-.2 1.41-.59l7.78-7.78 2.81-2.81c.8-.78.8-2.07 0-2.86zM5.41 20L4 18.59l7.72-7.72 1.47 1.35L5.41 20z\"/>\n",
              "  </svg>\n",
              "      </button>\n",
              "      \n",
              "  <style>\n",
              "    .colab-df-container {\n",
              "      display:flex;\n",
              "      flex-wrap:wrap;\n",
              "      gap: 12px;\n",
              "    }\n",
              "\n",
              "    .colab-df-convert {\n",
              "      background-color: #E8F0FE;\n",
              "      border: none;\n",
              "      border-radius: 50%;\n",
              "      cursor: pointer;\n",
              "      display: none;\n",
              "      fill: #1967D2;\n",
              "      height: 32px;\n",
              "      padding: 0 0 0 0;\n",
              "      width: 32px;\n",
              "    }\n",
              "\n",
              "    .colab-df-convert:hover {\n",
              "      background-color: #E2EBFA;\n",
              "      box-shadow: 0px 1px 2px rgba(60, 64, 67, 0.3), 0px 1px 3px 1px rgba(60, 64, 67, 0.15);\n",
              "      fill: #174EA6;\n",
              "    }\n",
              "\n",
              "    [theme=dark] .colab-df-convert {\n",
              "      background-color: #3B4455;\n",
              "      fill: #D2E3FC;\n",
              "    }\n",
              "\n",
              "    [theme=dark] .colab-df-convert:hover {\n",
              "      background-color: #434B5C;\n",
              "      box-shadow: 0px 1px 3px 1px rgba(0, 0, 0, 0.15);\n",
              "      filter: drop-shadow(0px 1px 2px rgba(0, 0, 0, 0.3));\n",
              "      fill: #FFFFFF;\n",
              "    }\n",
              "  </style>\n",
              "\n",
              "      <script>\n",
              "        const buttonEl =\n",
              "          document.querySelector('#df-ea4f64a7-bbff-420f-8d77-90f6c47e273c button.colab-df-convert');\n",
              "        buttonEl.style.display =\n",
              "          google.colab.kernel.accessAllowed ? 'block' : 'none';\n",
              "\n",
              "        async function convertToInteractive(key) {\n",
              "          const element = document.querySelector('#df-ea4f64a7-bbff-420f-8d77-90f6c47e273c');\n",
              "          const dataTable =\n",
              "            await google.colab.kernel.invokeFunction('convertToInteractive',\n",
              "                                                     [key], {});\n",
              "          if (!dataTable) return;\n",
              "\n",
              "          const docLinkHtml = 'Like what you see? Visit the ' +\n",
              "            '<a target=\"_blank\" href=https://colab.research.google.com/notebooks/data_table.ipynb>data table notebook</a>'\n",
              "            + ' to learn more about interactive tables.';\n",
              "          element.innerHTML = '';\n",
              "          dataTable['output_type'] = 'display_data';\n",
              "          await google.colab.output.renderOutput(dataTable, element);\n",
              "          const docLink = document.createElement('div');\n",
              "          docLink.innerHTML = docLinkHtml;\n",
              "          element.appendChild(docLink);\n",
              "        }\n",
              "      </script>\n",
              "    </div>\n",
              "  </div>\n",
              "  "
            ]
          },
          "metadata": {},
          "execution_count": 96
        }
      ],
      "source": [
        "random_molecule_sample = random_molecules.sample(5000)\n",
        "random_molecule_sample.shape\n",
        "random_molecule_sample.reset_index(drop=True, inplace=True)\n",
        "random_molecule_sample.head(10)"
      ]
    },
    {
      "cell_type": "code",
      "source": [
        "add_neg = pd.read_csv('/content/unactive_filtered.csv')\n",
        "add_neg.head()"
      ],
      "metadata": {
        "colab": {
          "base_uri": "https://localhost:8080/",
          "height": 206
        },
        "id": "cAENmwR_O7_Z",
        "outputId": "5e0fe717-32e8-4bba-8f75-51055d33cf34"
      },
      "execution_count": null,
      "outputs": [
        {
          "output_type": "execute_result",
          "data": {
            "text/plain": [
              "  molecule_chembl_id                                             smiles  \\\n",
              "0      CHEMBL2057451        COc1cc2c(cc1OC)[C@@H]1Cc3cc(C)cc(C)c3CN1CC2   \n",
              "1           CHEMBL81  O=C(c1ccc(OCCN2CCCCC2)cc1)c1c(-c2ccc(O)cc2)sc2...   \n",
              "2        CHEMBL84158              CCN(CC)CCNC(=O)c1cc(S(C)(=O)=O)ccc1OC   \n",
              "3      CHEMBL3903297      c1c2c(cc3c1OCO3)CN1CCc3cc4c(cc3[C@@H]1C2)OCO4   \n",
              "4      CHEMBL1934130  CC(=O)N[C@@H]1CC2(CCN(Cc3ccc4c(c3)c3ccccc3n4C(...   \n",
              "\n",
              "      pIC50  active  \n",
              "0  5.937305     0.0  \n",
              "1  5.930332     0.0  \n",
              "2  5.909389     0.0  \n",
              "3  5.906789     0.0  \n",
              "4  5.823909     0.0  "
            ],
            "text/html": [
              "\n",
              "  <div id=\"df-e2bc302d-6ba5-4d03-981a-bf9bfcbce9f8\">\n",
              "    <div class=\"colab-df-container\">\n",
              "      <div>\n",
              "<style scoped>\n",
              "    .dataframe tbody tr th:only-of-type {\n",
              "        vertical-align: middle;\n",
              "    }\n",
              "\n",
              "    .dataframe tbody tr th {\n",
              "        vertical-align: top;\n",
              "    }\n",
              "\n",
              "    .dataframe thead th {\n",
              "        text-align: right;\n",
              "    }\n",
              "</style>\n",
              "<table border=\"1\" class=\"dataframe\">\n",
              "  <thead>\n",
              "    <tr style=\"text-align: right;\">\n",
              "      <th></th>\n",
              "      <th>molecule_chembl_id</th>\n",
              "      <th>smiles</th>\n",
              "      <th>pIC50</th>\n",
              "      <th>active</th>\n",
              "    </tr>\n",
              "  </thead>\n",
              "  <tbody>\n",
              "    <tr>\n",
              "      <th>0</th>\n",
              "      <td>CHEMBL2057451</td>\n",
              "      <td>COc1cc2c(cc1OC)[C@@H]1Cc3cc(C)cc(C)c3CN1CC2</td>\n",
              "      <td>5.937305</td>\n",
              "      <td>0.0</td>\n",
              "    </tr>\n",
              "    <tr>\n",
              "      <th>1</th>\n",
              "      <td>CHEMBL81</td>\n",
              "      <td>O=C(c1ccc(OCCN2CCCCC2)cc1)c1c(-c2ccc(O)cc2)sc2...</td>\n",
              "      <td>5.930332</td>\n",
              "      <td>0.0</td>\n",
              "    </tr>\n",
              "    <tr>\n",
              "      <th>2</th>\n",
              "      <td>CHEMBL84158</td>\n",
              "      <td>CCN(CC)CCNC(=O)c1cc(S(C)(=O)=O)ccc1OC</td>\n",
              "      <td>5.909389</td>\n",
              "      <td>0.0</td>\n",
              "    </tr>\n",
              "    <tr>\n",
              "      <th>3</th>\n",
              "      <td>CHEMBL3903297</td>\n",
              "      <td>c1c2c(cc3c1OCO3)CN1CCc3cc4c(cc3[C@@H]1C2)OCO4</td>\n",
              "      <td>5.906789</td>\n",
              "      <td>0.0</td>\n",
              "    </tr>\n",
              "    <tr>\n",
              "      <th>4</th>\n",
              "      <td>CHEMBL1934130</td>\n",
              "      <td>CC(=O)N[C@@H]1CC2(CCN(Cc3ccc4c(c3)c3ccccc3n4C(...</td>\n",
              "      <td>5.823909</td>\n",
              "      <td>0.0</td>\n",
              "    </tr>\n",
              "  </tbody>\n",
              "</table>\n",
              "</div>\n",
              "      <button class=\"colab-df-convert\" onclick=\"convertToInteractive('df-e2bc302d-6ba5-4d03-981a-bf9bfcbce9f8')\"\n",
              "              title=\"Convert this dataframe to an interactive table.\"\n",
              "              style=\"display:none;\">\n",
              "        \n",
              "  <svg xmlns=\"http://www.w3.org/2000/svg\" height=\"24px\"viewBox=\"0 0 24 24\"\n",
              "       width=\"24px\">\n",
              "    <path d=\"M0 0h24v24H0V0z\" fill=\"none\"/>\n",
              "    <path d=\"M18.56 5.44l.94 2.06.94-2.06 2.06-.94-2.06-.94-.94-2.06-.94 2.06-2.06.94zm-11 1L8.5 8.5l.94-2.06 2.06-.94-2.06-.94L8.5 2.5l-.94 2.06-2.06.94zm10 10l.94 2.06.94-2.06 2.06-.94-2.06-.94-.94-2.06-.94 2.06-2.06.94z\"/><path d=\"M17.41 7.96l-1.37-1.37c-.4-.4-.92-.59-1.43-.59-.52 0-1.04.2-1.43.59L10.3 9.45l-7.72 7.72c-.78.78-.78 2.05 0 2.83L4 21.41c.39.39.9.59 1.41.59.51 0 1.02-.2 1.41-.59l7.78-7.78 2.81-2.81c.8-.78.8-2.07 0-2.86zM5.41 20L4 18.59l7.72-7.72 1.47 1.35L5.41 20z\"/>\n",
              "  </svg>\n",
              "      </button>\n",
              "      \n",
              "  <style>\n",
              "    .colab-df-container {\n",
              "      display:flex;\n",
              "      flex-wrap:wrap;\n",
              "      gap: 12px;\n",
              "    }\n",
              "\n",
              "    .colab-df-convert {\n",
              "      background-color: #E8F0FE;\n",
              "      border: none;\n",
              "      border-radius: 50%;\n",
              "      cursor: pointer;\n",
              "      display: none;\n",
              "      fill: #1967D2;\n",
              "      height: 32px;\n",
              "      padding: 0 0 0 0;\n",
              "      width: 32px;\n",
              "    }\n",
              "\n",
              "    .colab-df-convert:hover {\n",
              "      background-color: #E2EBFA;\n",
              "      box-shadow: 0px 1px 2px rgba(60, 64, 67, 0.3), 0px 1px 3px 1px rgba(60, 64, 67, 0.15);\n",
              "      fill: #174EA6;\n",
              "    }\n",
              "\n",
              "    [theme=dark] .colab-df-convert {\n",
              "      background-color: #3B4455;\n",
              "      fill: #D2E3FC;\n",
              "    }\n",
              "\n",
              "    [theme=dark] .colab-df-convert:hover {\n",
              "      background-color: #434B5C;\n",
              "      box-shadow: 0px 1px 3px 1px rgba(0, 0, 0, 0.15);\n",
              "      filter: drop-shadow(0px 1px 2px rgba(0, 0, 0, 0.3));\n",
              "      fill: #FFFFFF;\n",
              "    }\n",
              "  </style>\n",
              "\n",
              "      <script>\n",
              "        const buttonEl =\n",
              "          document.querySelector('#df-e2bc302d-6ba5-4d03-981a-bf9bfcbce9f8 button.colab-df-convert');\n",
              "        buttonEl.style.display =\n",
              "          google.colab.kernel.accessAllowed ? 'block' : 'none';\n",
              "\n",
              "        async function convertToInteractive(key) {\n",
              "          const element = document.querySelector('#df-e2bc302d-6ba5-4d03-981a-bf9bfcbce9f8');\n",
              "          const dataTable =\n",
              "            await google.colab.kernel.invokeFunction('convertToInteractive',\n",
              "                                                     [key], {});\n",
              "          if (!dataTable) return;\n",
              "\n",
              "          const docLinkHtml = 'Like what you see? Visit the ' +\n",
              "            '<a target=\"_blank\" href=https://colab.research.google.com/notebooks/data_table.ipynb>data table notebook</a>'\n",
              "            + ' to learn more about interactive tables.';\n",
              "          element.innerHTML = '';\n",
              "          dataTable['output_type'] = 'display_data';\n",
              "          await google.colab.output.renderOutput(dataTable, element);\n",
              "          const docLink = document.createElement('div');\n",
              "          docLink.innerHTML = docLinkHtml;\n",
              "          element.appendChild(docLink);\n",
              "        }\n",
              "      </script>\n",
              "    </div>\n",
              "  </div>\n",
              "  "
            ]
          },
          "metadata": {},
          "execution_count": 97
        }
      ]
    },
    {
      "cell_type": "code",
      "source": [
        "neg = pd.concat([add_neg, random_molecule_sample])\n",
        "neg"
      ],
      "metadata": {
        "colab": {
          "base_uri": "https://localhost:8080/",
          "height": 424
        },
        "id": "Ad0A53YLO8Iu",
        "outputId": "95838cc0-5ebd-4d96-d5b0-2ba46b38ea19"
      },
      "execution_count": null,
      "outputs": [
        {
          "output_type": "execute_result",
          "data": {
            "text/plain": [
              "     molecule_chembl_id                                             smiles  \\\n",
              "0         CHEMBL2057451        COc1cc2c(cc1OC)[C@@H]1Cc3cc(C)cc(C)c3CN1CC2   \n",
              "1              CHEMBL81  O=C(c1ccc(OCCN2CCCCC2)cc1)c1c(-c2ccc(O)cc2)sc2...   \n",
              "2           CHEMBL84158              CCN(CC)CCNC(=O)c1cc(S(C)(=O)=O)ccc1OC   \n",
              "3         CHEMBL3903297      c1c2c(cc3c1OCO3)CN1CCc3cc4c(cc3[C@@H]1C2)OCO4   \n",
              "4         CHEMBL1934130  CC(=O)N[C@@H]1CC2(CCN(Cc3ccc4c(c3)c3ccccc3n4C(...   \n",
              "...                 ...                                                ...   \n",
              "4995      CHEMBL3959587  Cc1c(-c2ccc(C(F)(F)F)cc2)nnc(N2CCN(c3cnc(C(C)(...   \n",
              "4996      CHEMBL1521401              Cn1c(SCc2nc3ccccc3[nH]2)nnc1-c1cccnc1   \n",
              "4997      CHEMBL4115585  CCOc1ccc(Cc2cc([C@@H]3O[C@H](CO)[C@@H](O)[C@H]...   \n",
              "4998      CHEMBL2396958  O=S(=O)(c1cccc(C(F)(F)F)c1)N1[C@@H]2Cc3n[nH]cc...   \n",
              "4999      CHEMBL1650448        Cn1c(=O)cc(N2CCCCC(N)C2)n(Cc2ccccc2C#N)c1=O   \n",
              "\n",
              "         pIC50  active  \n",
              "0     5.937305     0.0  \n",
              "1     5.930332     0.0  \n",
              "2     5.909389     0.0  \n",
              "3     5.906789     0.0  \n",
              "4     5.823909     0.0  \n",
              "...        ...     ...  \n",
              "4995       NaN     NaN  \n",
              "4996       NaN     NaN  \n",
              "4997       NaN     NaN  \n",
              "4998       NaN     NaN  \n",
              "4999       NaN     NaN  \n",
              "\n",
              "[5034 rows x 4 columns]"
            ],
            "text/html": [
              "\n",
              "  <div id=\"df-85aae4f0-7551-41bf-b9db-a168c9f1288c\">\n",
              "    <div class=\"colab-df-container\">\n",
              "      <div>\n",
              "<style scoped>\n",
              "    .dataframe tbody tr th:only-of-type {\n",
              "        vertical-align: middle;\n",
              "    }\n",
              "\n",
              "    .dataframe tbody tr th {\n",
              "        vertical-align: top;\n",
              "    }\n",
              "\n",
              "    .dataframe thead th {\n",
              "        text-align: right;\n",
              "    }\n",
              "</style>\n",
              "<table border=\"1\" class=\"dataframe\">\n",
              "  <thead>\n",
              "    <tr style=\"text-align: right;\">\n",
              "      <th></th>\n",
              "      <th>molecule_chembl_id</th>\n",
              "      <th>smiles</th>\n",
              "      <th>pIC50</th>\n",
              "      <th>active</th>\n",
              "    </tr>\n",
              "  </thead>\n",
              "  <tbody>\n",
              "    <tr>\n",
              "      <th>0</th>\n",
              "      <td>CHEMBL2057451</td>\n",
              "      <td>COc1cc2c(cc1OC)[C@@H]1Cc3cc(C)cc(C)c3CN1CC2</td>\n",
              "      <td>5.937305</td>\n",
              "      <td>0.0</td>\n",
              "    </tr>\n",
              "    <tr>\n",
              "      <th>1</th>\n",
              "      <td>CHEMBL81</td>\n",
              "      <td>O=C(c1ccc(OCCN2CCCCC2)cc1)c1c(-c2ccc(O)cc2)sc2...</td>\n",
              "      <td>5.930332</td>\n",
              "      <td>0.0</td>\n",
              "    </tr>\n",
              "    <tr>\n",
              "      <th>2</th>\n",
              "      <td>CHEMBL84158</td>\n",
              "      <td>CCN(CC)CCNC(=O)c1cc(S(C)(=O)=O)ccc1OC</td>\n",
              "      <td>5.909389</td>\n",
              "      <td>0.0</td>\n",
              "    </tr>\n",
              "    <tr>\n",
              "      <th>3</th>\n",
              "      <td>CHEMBL3903297</td>\n",
              "      <td>c1c2c(cc3c1OCO3)CN1CCc3cc4c(cc3[C@@H]1C2)OCO4</td>\n",
              "      <td>5.906789</td>\n",
              "      <td>0.0</td>\n",
              "    </tr>\n",
              "    <tr>\n",
              "      <th>4</th>\n",
              "      <td>CHEMBL1934130</td>\n",
              "      <td>CC(=O)N[C@@H]1CC2(CCN(Cc3ccc4c(c3)c3ccccc3n4C(...</td>\n",
              "      <td>5.823909</td>\n",
              "      <td>0.0</td>\n",
              "    </tr>\n",
              "    <tr>\n",
              "      <th>...</th>\n",
              "      <td>...</td>\n",
              "      <td>...</td>\n",
              "      <td>...</td>\n",
              "      <td>...</td>\n",
              "    </tr>\n",
              "    <tr>\n",
              "      <th>4995</th>\n",
              "      <td>CHEMBL3959587</td>\n",
              "      <td>Cc1c(-c2ccc(C(F)(F)F)cc2)nnc(N2CCN(c3cnc(C(C)(...</td>\n",
              "      <td>NaN</td>\n",
              "      <td>NaN</td>\n",
              "    </tr>\n",
              "    <tr>\n",
              "      <th>4996</th>\n",
              "      <td>CHEMBL1521401</td>\n",
              "      <td>Cn1c(SCc2nc3ccccc3[nH]2)nnc1-c1cccnc1</td>\n",
              "      <td>NaN</td>\n",
              "      <td>NaN</td>\n",
              "    </tr>\n",
              "    <tr>\n",
              "      <th>4997</th>\n",
              "      <td>CHEMBL4115585</td>\n",
              "      <td>CCOc1ccc(Cc2cc([C@@H]3O[C@H](CO)[C@@H](O)[C@H]...</td>\n",
              "      <td>NaN</td>\n",
              "      <td>NaN</td>\n",
              "    </tr>\n",
              "    <tr>\n",
              "      <th>4998</th>\n",
              "      <td>CHEMBL2396958</td>\n",
              "      <td>O=S(=O)(c1cccc(C(F)(F)F)c1)N1[C@@H]2Cc3n[nH]cc...</td>\n",
              "      <td>NaN</td>\n",
              "      <td>NaN</td>\n",
              "    </tr>\n",
              "    <tr>\n",
              "      <th>4999</th>\n",
              "      <td>CHEMBL1650448</td>\n",
              "      <td>Cn1c(=O)cc(N2CCCCC(N)C2)n(Cc2ccccc2C#N)c1=O</td>\n",
              "      <td>NaN</td>\n",
              "      <td>NaN</td>\n",
              "    </tr>\n",
              "  </tbody>\n",
              "</table>\n",
              "<p>5034 rows × 4 columns</p>\n",
              "</div>\n",
              "      <button class=\"colab-df-convert\" onclick=\"convertToInteractive('df-85aae4f0-7551-41bf-b9db-a168c9f1288c')\"\n",
              "              title=\"Convert this dataframe to an interactive table.\"\n",
              "              style=\"display:none;\">\n",
              "        \n",
              "  <svg xmlns=\"http://www.w3.org/2000/svg\" height=\"24px\"viewBox=\"0 0 24 24\"\n",
              "       width=\"24px\">\n",
              "    <path d=\"M0 0h24v24H0V0z\" fill=\"none\"/>\n",
              "    <path d=\"M18.56 5.44l.94 2.06.94-2.06 2.06-.94-2.06-.94-.94-2.06-.94 2.06-2.06.94zm-11 1L8.5 8.5l.94-2.06 2.06-.94-2.06-.94L8.5 2.5l-.94 2.06-2.06.94zm10 10l.94 2.06.94-2.06 2.06-.94-2.06-.94-.94-2.06-.94 2.06-2.06.94z\"/><path d=\"M17.41 7.96l-1.37-1.37c-.4-.4-.92-.59-1.43-.59-.52 0-1.04.2-1.43.59L10.3 9.45l-7.72 7.72c-.78.78-.78 2.05 0 2.83L4 21.41c.39.39.9.59 1.41.59.51 0 1.02-.2 1.41-.59l7.78-7.78 2.81-2.81c.8-.78.8-2.07 0-2.86zM5.41 20L4 18.59l7.72-7.72 1.47 1.35L5.41 20z\"/>\n",
              "  </svg>\n",
              "      </button>\n",
              "      \n",
              "  <style>\n",
              "    .colab-df-container {\n",
              "      display:flex;\n",
              "      flex-wrap:wrap;\n",
              "      gap: 12px;\n",
              "    }\n",
              "\n",
              "    .colab-df-convert {\n",
              "      background-color: #E8F0FE;\n",
              "      border: none;\n",
              "      border-radius: 50%;\n",
              "      cursor: pointer;\n",
              "      display: none;\n",
              "      fill: #1967D2;\n",
              "      height: 32px;\n",
              "      padding: 0 0 0 0;\n",
              "      width: 32px;\n",
              "    }\n",
              "\n",
              "    .colab-df-convert:hover {\n",
              "      background-color: #E2EBFA;\n",
              "      box-shadow: 0px 1px 2px rgba(60, 64, 67, 0.3), 0px 1px 3px 1px rgba(60, 64, 67, 0.15);\n",
              "      fill: #174EA6;\n",
              "    }\n",
              "\n",
              "    [theme=dark] .colab-df-convert {\n",
              "      background-color: #3B4455;\n",
              "      fill: #D2E3FC;\n",
              "    }\n",
              "\n",
              "    [theme=dark] .colab-df-convert:hover {\n",
              "      background-color: #434B5C;\n",
              "      box-shadow: 0px 1px 3px 1px rgba(0, 0, 0, 0.15);\n",
              "      filter: drop-shadow(0px 1px 2px rgba(0, 0, 0, 0.3));\n",
              "      fill: #FFFFFF;\n",
              "    }\n",
              "  </style>\n",
              "\n",
              "      <script>\n",
              "        const buttonEl =\n",
              "          document.querySelector('#df-85aae4f0-7551-41bf-b9db-a168c9f1288c button.colab-df-convert');\n",
              "        buttonEl.style.display =\n",
              "          google.colab.kernel.accessAllowed ? 'block' : 'none';\n",
              "\n",
              "        async function convertToInteractive(key) {\n",
              "          const element = document.querySelector('#df-85aae4f0-7551-41bf-b9db-a168c9f1288c');\n",
              "          const dataTable =\n",
              "            await google.colab.kernel.invokeFunction('convertToInteractive',\n",
              "                                                     [key], {});\n",
              "          if (!dataTable) return;\n",
              "\n",
              "          const docLinkHtml = 'Like what you see? Visit the ' +\n",
              "            '<a target=\"_blank\" href=https://colab.research.google.com/notebooks/data_table.ipynb>data table notebook</a>'\n",
              "            + ' to learn more about interactive tables.';\n",
              "          element.innerHTML = '';\n",
              "          dataTable['output_type'] = 'display_data';\n",
              "          await google.colab.output.renderOutput(dataTable, element);\n",
              "          const docLink = document.createElement('div');\n",
              "          docLink.innerHTML = docLinkHtml;\n",
              "          element.appendChild(docLink);\n",
              "        }\n",
              "      </script>\n",
              "    </div>\n",
              "  </div>\n",
              "  "
            ]
          },
          "metadata": {},
          "execution_count": 98
        }
      ]
    },
    {
      "cell_type": "code",
      "source": [
        "PandasTools.AddMoleculeColumnToFrame(neg, \"smiles\")\n",
        "circular_fp_list = rdFingerprintGenerator.GetCountFPs(neg[\"ROMol\"].tolist())\n",
        "maccs_fp_list = neg[\"ROMol\"].apply(MACCSkeys.GenMACCSKeys).tolist()\n",
        "neg['circular_fp'] = circular_fp_list\n",
        "neg['maccs_fp'] = maccs_fp_list"
      ],
      "metadata": {
        "id": "OdVMhw88AnNL"
      },
      "execution_count": null,
      "outputs": []
    },
    {
      "cell_type": "code",
      "source": [
        "neg[\"tanimoto_maccs\"] = DataStructs.BulkTanimotoSimilarity(\n",
        "    maccs_fp_query, maccs_fp_list\n",
        ")\n",
        "neg[\"tanimoto_morgan\"] = DataStructs.BulkTanimotoSimilarity(\n",
        "    circular_fp_query, circular_fp_list\n",
        ")"
      ],
      "metadata": {
        "id": "dSWI0GaIFFPz"
      },
      "execution_count": null,
      "outputs": []
    },
    {
      "cell_type": "code",
      "source": [
        "neg[\"dice_maccs\"] = DataStructs.BulkDiceSimilarity(maccs_fp_query, maccs_fp_list)\n",
        "neg[\"dice_morgan\"] = DataStructs.BulkDiceSimilarity(\n",
        "    circular_fp_query, circular_fp_list\n",
        ")"
      ],
      "metadata": {
        "id": "aTfWvfPSFFTJ"
      },
      "execution_count": null,
      "outputs": []
    },
    {
      "cell_type": "code",
      "source": [
        "neg[[\"smiles\", \"tanimoto_maccs\", \"tanimoto_morgan\", \"dice_maccs\", \"dice_morgan\"]]"
      ],
      "metadata": {
        "colab": {
          "base_uri": "https://localhost:8080/",
          "height": 424
        },
        "id": "KIDSGktFFFWA",
        "outputId": "72d437ef-2b57-463c-c883-4efc6faf8505"
      },
      "execution_count": null,
      "outputs": [
        {
          "output_type": "execute_result",
          "data": {
            "text/plain": [
              "                                                 smiles  tanimoto_maccs  \\\n",
              "0           COc1cc2c(cc1OC)[C@@H]1Cc3cc(C)cc(C)c3CN1CC2        0.486486   \n",
              "1     O=C(c1ccc(OCCN2CCCCC2)cc1)c1c(-c2ccc(O)cc2)sc2...        0.565789   \n",
              "2                 CCN(CC)CCNC(=O)c1cc(S(C)(=O)=O)ccc1OC        0.477778   \n",
              "3         c1c2c(cc3c1OCO3)CN1CCc3cc4c(cc3[C@@H]1C2)OCO4        0.453333   \n",
              "4     CC(=O)N[C@@H]1CC2(CCN(Cc3ccc4c(c3)c3ccccc3n4C(...        0.571429   \n",
              "...                                                 ...             ...   \n",
              "4995  Cc1c(-c2ccc(C(F)(F)F)cc2)nnc(N2CCN(c3cnc(C(C)(...        0.543210   \n",
              "4996              Cn1c(SCc2nc3ccccc3[nH]2)nnc1-c1cccnc1        0.407407   \n",
              "4997  CCOc1ccc(Cc2cc([C@@H]3O[C@H](CO)[C@@H](O)[C@H]...        0.385542   \n",
              "4998  O=S(=O)(c1cccc(C(F)(F)F)c1)N1[C@@H]2Cc3n[nH]cc...        0.347826   \n",
              "4999        Cn1c(=O)cc(N2CCCCC(N)C2)n(Cc2ccccc2C#N)c1=O        0.697368   \n",
              "\n",
              "      tanimoto_morgan  dice_maccs  dice_morgan  \n",
              "0            0.150000    0.654545     0.260870  \n",
              "1            0.264706    0.722689     0.418605  \n",
              "2            0.151316    0.646617     0.262857  \n",
              "3            0.125749    0.623853     0.223404  \n",
              "4            0.299401    0.727273     0.460829  \n",
              "...               ...         ...          ...  \n",
              "4995         0.177778    0.704000     0.301887  \n",
              "4996         0.202614    0.578947     0.336957  \n",
              "4997         0.173410    0.556522     0.295567  \n",
              "4998         0.211180    0.516129     0.348718  \n",
              "4999         0.211538    0.821705     0.349206  \n",
              "\n",
              "[5034 rows x 5 columns]"
            ],
            "text/html": [
              "\n",
              "  <div id=\"df-b7e2cfc8-9538-4aa0-80ba-3194285d957b\">\n",
              "    <div class=\"colab-df-container\">\n",
              "      <div>\n",
              "<style scoped>\n",
              "    .dataframe tbody tr th:only-of-type {\n",
              "        vertical-align: middle;\n",
              "    }\n",
              "\n",
              "    .dataframe tbody tr th {\n",
              "        vertical-align: top;\n",
              "    }\n",
              "\n",
              "    .dataframe thead th {\n",
              "        text-align: right;\n",
              "    }\n",
              "</style>\n",
              "<table border=\"1\" class=\"dataframe\">\n",
              "  <thead>\n",
              "    <tr style=\"text-align: right;\">\n",
              "      <th></th>\n",
              "      <th>smiles</th>\n",
              "      <th>tanimoto_maccs</th>\n",
              "      <th>tanimoto_morgan</th>\n",
              "      <th>dice_maccs</th>\n",
              "      <th>dice_morgan</th>\n",
              "    </tr>\n",
              "  </thead>\n",
              "  <tbody>\n",
              "    <tr>\n",
              "      <th>0</th>\n",
              "      <td>COc1cc2c(cc1OC)[C@@H]1Cc3cc(C)cc(C)c3CN1CC2</td>\n",
              "      <td>0.486486</td>\n",
              "      <td>0.150000</td>\n",
              "      <td>0.654545</td>\n",
              "      <td>0.260870</td>\n",
              "    </tr>\n",
              "    <tr>\n",
              "      <th>1</th>\n",
              "      <td>O=C(c1ccc(OCCN2CCCCC2)cc1)c1c(-c2ccc(O)cc2)sc2...</td>\n",
              "      <td>0.565789</td>\n",
              "      <td>0.264706</td>\n",
              "      <td>0.722689</td>\n",
              "      <td>0.418605</td>\n",
              "    </tr>\n",
              "    <tr>\n",
              "      <th>2</th>\n",
              "      <td>CCN(CC)CCNC(=O)c1cc(S(C)(=O)=O)ccc1OC</td>\n",
              "      <td>0.477778</td>\n",
              "      <td>0.151316</td>\n",
              "      <td>0.646617</td>\n",
              "      <td>0.262857</td>\n",
              "    </tr>\n",
              "    <tr>\n",
              "      <th>3</th>\n",
              "      <td>c1c2c(cc3c1OCO3)CN1CCc3cc4c(cc3[C@@H]1C2)OCO4</td>\n",
              "      <td>0.453333</td>\n",
              "      <td>0.125749</td>\n",
              "      <td>0.623853</td>\n",
              "      <td>0.223404</td>\n",
              "    </tr>\n",
              "    <tr>\n",
              "      <th>4</th>\n",
              "      <td>CC(=O)N[C@@H]1CC2(CCN(Cc3ccc4c(c3)c3ccccc3n4C(...</td>\n",
              "      <td>0.571429</td>\n",
              "      <td>0.299401</td>\n",
              "      <td>0.727273</td>\n",
              "      <td>0.460829</td>\n",
              "    </tr>\n",
              "    <tr>\n",
              "      <th>...</th>\n",
              "      <td>...</td>\n",
              "      <td>...</td>\n",
              "      <td>...</td>\n",
              "      <td>...</td>\n",
              "      <td>...</td>\n",
              "    </tr>\n",
              "    <tr>\n",
              "      <th>4995</th>\n",
              "      <td>Cc1c(-c2ccc(C(F)(F)F)cc2)nnc(N2CCN(c3cnc(C(C)(...</td>\n",
              "      <td>0.543210</td>\n",
              "      <td>0.177778</td>\n",
              "      <td>0.704000</td>\n",
              "      <td>0.301887</td>\n",
              "    </tr>\n",
              "    <tr>\n",
              "      <th>4996</th>\n",
              "      <td>Cn1c(SCc2nc3ccccc3[nH]2)nnc1-c1cccnc1</td>\n",
              "      <td>0.407407</td>\n",
              "      <td>0.202614</td>\n",
              "      <td>0.578947</td>\n",
              "      <td>0.336957</td>\n",
              "    </tr>\n",
              "    <tr>\n",
              "      <th>4997</th>\n",
              "      <td>CCOc1ccc(Cc2cc([C@@H]3O[C@H](CO)[C@@H](O)[C@H]...</td>\n",
              "      <td>0.385542</td>\n",
              "      <td>0.173410</td>\n",
              "      <td>0.556522</td>\n",
              "      <td>0.295567</td>\n",
              "    </tr>\n",
              "    <tr>\n",
              "      <th>4998</th>\n",
              "      <td>O=S(=O)(c1cccc(C(F)(F)F)c1)N1[C@@H]2Cc3n[nH]cc...</td>\n",
              "      <td>0.347826</td>\n",
              "      <td>0.211180</td>\n",
              "      <td>0.516129</td>\n",
              "      <td>0.348718</td>\n",
              "    </tr>\n",
              "    <tr>\n",
              "      <th>4999</th>\n",
              "      <td>Cn1c(=O)cc(N2CCCCC(N)C2)n(Cc2ccccc2C#N)c1=O</td>\n",
              "      <td>0.697368</td>\n",
              "      <td>0.211538</td>\n",
              "      <td>0.821705</td>\n",
              "      <td>0.349206</td>\n",
              "    </tr>\n",
              "  </tbody>\n",
              "</table>\n",
              "<p>5034 rows × 5 columns</p>\n",
              "</div>\n",
              "      <button class=\"colab-df-convert\" onclick=\"convertToInteractive('df-b7e2cfc8-9538-4aa0-80ba-3194285d957b')\"\n",
              "              title=\"Convert this dataframe to an interactive table.\"\n",
              "              style=\"display:none;\">\n",
              "        \n",
              "  <svg xmlns=\"http://www.w3.org/2000/svg\" height=\"24px\"viewBox=\"0 0 24 24\"\n",
              "       width=\"24px\">\n",
              "    <path d=\"M0 0h24v24H0V0z\" fill=\"none\"/>\n",
              "    <path d=\"M18.56 5.44l.94 2.06.94-2.06 2.06-.94-2.06-.94-.94-2.06-.94 2.06-2.06.94zm-11 1L8.5 8.5l.94-2.06 2.06-.94-2.06-.94L8.5 2.5l-.94 2.06-2.06.94zm10 10l.94 2.06.94-2.06 2.06-.94-2.06-.94-.94-2.06-.94 2.06-2.06.94z\"/><path d=\"M17.41 7.96l-1.37-1.37c-.4-.4-.92-.59-1.43-.59-.52 0-1.04.2-1.43.59L10.3 9.45l-7.72 7.72c-.78.78-.78 2.05 0 2.83L4 21.41c.39.39.9.59 1.41.59.51 0 1.02-.2 1.41-.59l7.78-7.78 2.81-2.81c.8-.78.8-2.07 0-2.86zM5.41 20L4 18.59l7.72-7.72 1.47 1.35L5.41 20z\"/>\n",
              "  </svg>\n",
              "      </button>\n",
              "      \n",
              "  <style>\n",
              "    .colab-df-container {\n",
              "      display:flex;\n",
              "      flex-wrap:wrap;\n",
              "      gap: 12px;\n",
              "    }\n",
              "\n",
              "    .colab-df-convert {\n",
              "      background-color: #E8F0FE;\n",
              "      border: none;\n",
              "      border-radius: 50%;\n",
              "      cursor: pointer;\n",
              "      display: none;\n",
              "      fill: #1967D2;\n",
              "      height: 32px;\n",
              "      padding: 0 0 0 0;\n",
              "      width: 32px;\n",
              "    }\n",
              "\n",
              "    .colab-df-convert:hover {\n",
              "      background-color: #E2EBFA;\n",
              "      box-shadow: 0px 1px 2px rgba(60, 64, 67, 0.3), 0px 1px 3px 1px rgba(60, 64, 67, 0.15);\n",
              "      fill: #174EA6;\n",
              "    }\n",
              "\n",
              "    [theme=dark] .colab-df-convert {\n",
              "      background-color: #3B4455;\n",
              "      fill: #D2E3FC;\n",
              "    }\n",
              "\n",
              "    [theme=dark] .colab-df-convert:hover {\n",
              "      background-color: #434B5C;\n",
              "      box-shadow: 0px 1px 3px 1px rgba(0, 0, 0, 0.15);\n",
              "      filter: drop-shadow(0px 1px 2px rgba(0, 0, 0, 0.3));\n",
              "      fill: #FFFFFF;\n",
              "    }\n",
              "  </style>\n",
              "\n",
              "      <script>\n",
              "        const buttonEl =\n",
              "          document.querySelector('#df-b7e2cfc8-9538-4aa0-80ba-3194285d957b button.colab-df-convert');\n",
              "        buttonEl.style.display =\n",
              "          google.colab.kernel.accessAllowed ? 'block' : 'none';\n",
              "\n",
              "        async function convertToInteractive(key) {\n",
              "          const element = document.querySelector('#df-b7e2cfc8-9538-4aa0-80ba-3194285d957b');\n",
              "          const dataTable =\n",
              "            await google.colab.kernel.invokeFunction('convertToInteractive',\n",
              "                                                     [key], {});\n",
              "          if (!dataTable) return;\n",
              "\n",
              "          const docLinkHtml = 'Like what you see? Visit the ' +\n",
              "            '<a target=\"_blank\" href=https://colab.research.google.com/notebooks/data_table.ipynb>data table notebook</a>'\n",
              "            + ' to learn more about interactive tables.';\n",
              "          element.innerHTML = '';\n",
              "          dataTable['output_type'] = 'display_data';\n",
              "          await google.colab.output.renderOutput(dataTable, element);\n",
              "          const docLink = document.createElement('div');\n",
              "          docLink.innerHTML = docLinkHtml;\n",
              "          element.appendChild(docLink);\n",
              "        }\n",
              "      </script>\n",
              "    </div>\n",
              "  </div>\n",
              "  "
            ]
          },
          "metadata": {},
          "execution_count": 102
        }
      ]
    },
    {
      "cell_type": "code",
      "source": [
        "index_to_keep = neg.index[(neg['tanimoto_morgan'] >= down_q) & (neg['tanimoto_morgan'] <= up_q)].tolist()\n",
        "len(index_to_keep)"
      ],
      "metadata": {
        "colab": {
          "base_uri": "https://localhost:8080/"
        },
        "id": "ZYEngHF4FFYF",
        "outputId": "db86e092-d58c-4504-fdf8-0e50b8149c94"
      },
      "execution_count": null,
      "outputs": [
        {
          "output_type": "execute_result",
          "data": {
            "text/plain": [
              "1401"
            ]
          },
          "metadata": {},
          "execution_count": 103
        }
      ]
    },
    {
      "cell_type": "code",
      "source": [
        "random_to_keep = neg.loc[index_to_keep]\n",
        "random_to_keep.head()"
      ],
      "metadata": {
        "colab": {
          "base_uri": "https://localhost:8080/",
          "height": 531
        },
        "id": "kgqhrX7fFFaZ",
        "outputId": "6c468086-6870-465b-87a4-904bc9abe171"
      },
      "execution_count": null,
      "outputs": [
        {
          "output_type": "execute_result",
          "data": {
            "text/plain": [
              "  molecule_chembl_id                                             smiles  \\\n",
              "1           CHEMBL81  O=C(c1ccc(OCCN2CCCCC2)cc1)c1c(-c2ccc(O)cc2)sc2...   \n",
              "1      CHEMBL4090043  Nc1ncc(-c2n[nH]c(C3(c4ccccc4)CC3)n2)nc1-n1nnc2...   \n",
              "4      CHEMBL1934130  CC(=O)N[C@@H]1CC2(CCN(Cc3ccc4c(c3)c3ccccc3n4C(...   \n",
              "4      CHEMBL3503365  Cc1noc(C)c1CN1CCO[C@@H]2[C@@H]1CC[C@H]2Oc1nccc...   \n",
              "7       CHEMBL584554  CCN(CC)C(=O)[C@@H]1C=C2c3cccc4[nH]cc(c34)C[C@H...   \n",
              "\n",
              "      pIC50  active                                              ROMol  \\\n",
              "1  5.930332     0.0  <img data-content=\"rdkit/molecule\" src=\"data:i...   \n",
              "1       NaN     NaN  <img data-content=\"rdkit/molecule\" src=\"data:i...   \n",
              "4  5.823909     0.0  <img data-content=\"rdkit/molecule\" src=\"data:i...   \n",
              "4       NaN     NaN  <img data-content=\"rdkit/molecule\" src=\"data:i...   \n",
              "7  5.798603     0.0  <img data-content=\"rdkit/molecule\" src=\"data:i...   \n",
              "\n",
              "                                         circular_fp  \\\n",
              "1  <rdkit.DataStructs.cDataStructs.UIntSparseIntV...   \n",
              "1  <rdkit.DataStructs.cDataStructs.UIntSparseIntV...   \n",
              "4  <rdkit.DataStructs.cDataStructs.UIntSparseIntV...   \n",
              "4  <rdkit.DataStructs.cDataStructs.UIntSparseIntV...   \n",
              "7  <rdkit.DataStructs.cDataStructs.UIntSparseIntV...   \n",
              "\n",
              "                                            maccs_fp  tanimoto_maccs  \\\n",
              "1  [0, 0, 0, 0, 0, 0, 0, 0, 0, 0, 0, 0, 0, 0, 0, ...        0.565789   \n",
              "1  [0, 0, 0, 0, 0, 0, 0, 0, 0, 0, 0, 0, 0, 0, 0, ...        0.395062   \n",
              "4  [0, 0, 0, 0, 0, 0, 0, 0, 0, 0, 0, 0, 0, 0, 0, ...        0.571429   \n",
              "4  [0, 0, 0, 0, 0, 0, 0, 0, 0, 0, 0, 0, 0, 0, 0, ...        0.658824   \n",
              "7  [0, 0, 0, 0, 0, 0, 0, 0, 0, 0, 0, 0, 0, 0, 0, ...        0.569620   \n",
              "\n",
              "   tanimoto_morgan  dice_maccs  dice_morgan  \n",
              "1         0.264706    0.722689     0.418605  \n",
              "1         0.251534    0.566372     0.401961  \n",
              "4         0.299401    0.727273     0.460829  \n",
              "4         0.153439    0.794326     0.266055  \n",
              "7         0.238095    0.725806     0.384615  "
            ],
            "text/html": [
              "\n",
              "  <div id=\"df-f87dc7b3-c439-4f31-8ab2-f32b5e5bfe5d\">\n",
              "    <div class=\"colab-df-container\">\n",
              "      <div>\n",
              "<style scoped>\n",
              "    .dataframe tbody tr th:only-of-type {\n",
              "        vertical-align: middle;\n",
              "    }\n",
              "\n",
              "    .dataframe tbody tr th {\n",
              "        vertical-align: top;\n",
              "    }\n",
              "\n",
              "    .dataframe thead th {\n",
              "        text-align: right;\n",
              "    }\n",
              "</style>\n",
              "<table border=\"1\" class=\"dataframe\">\n",
              "  <thead>\n",
              "    <tr style=\"text-align: right;\">\n",
              "      <th></th>\n",
              "      <th>molecule_chembl_id</th>\n",
              "      <th>smiles</th>\n",
              "      <th>pIC50</th>\n",
              "      <th>active</th>\n",
              "      <th>ROMol</th>\n",
              "      <th>circular_fp</th>\n",
              "      <th>maccs_fp</th>\n",
              "      <th>tanimoto_maccs</th>\n",
              "      <th>tanimoto_morgan</th>\n",
              "      <th>dice_maccs</th>\n",
              "      <th>dice_morgan</th>\n",
              "    </tr>\n",
              "  </thead>\n",
              "  <tbody>\n",
              "    <tr>\n",
              "      <th>1</th>\n",
              "      <td>CHEMBL81</td>\n",
              "      <td>O=C(c1ccc(OCCN2CCCCC2)cc1)c1c(-c2ccc(O)cc2)sc2...</td>\n",
              "      <td>5.930332</td>\n",
              "      <td>0.0</td>\n",
              "      <td>&lt;img data-content=\"rdkit/molecule\" src=\"data:image/png;base64,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\" alt=\"Mol\"/&gt;</td>\n",
              "      <td>&lt;rdkit.DataStructs.cDataStructs.UIntSparseIntV...</td>\n",
              "      <td>[0, 0, 0, 0, 0, 0, 0, 0, 0, 0, 0, 0, 0, 0, 0, ...</td>\n",
              "      <td>0.565789</td>\n",
              "      <td>0.264706</td>\n",
              "      <td>0.722689</td>\n",
              "      <td>0.418605</td>\n",
              "    </tr>\n",
              "    <tr>\n",
              "      <th>1</th>\n",
              "      <td>CHEMBL4090043</td>\n",
              "      <td>Nc1ncc(-c2n[nH]c(C3(c4ccccc4)CC3)n2)nc1-n1nnc2...</td>\n",
              "      <td>NaN</td>\n",
              "      <td>NaN</td>\n",
              "      <td>&lt;img data-content=\"rdkit/molecule\" src=\"data:image/png;base64,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\" alt=\"Mol\"/&gt;</td>\n",
              "      <td>&lt;rdkit.DataStructs.cDataStructs.UIntSparseIntV...</td>\n",
              "      <td>[0, 0, 0, 0, 0, 0, 0, 0, 0, 0, 0, 0, 0, 0, 0, ...</td>\n",
              "      <td>0.395062</td>\n",
              "      <td>0.251534</td>\n",
              "      <td>0.566372</td>\n",
              "      <td>0.401961</td>\n",
              "    </tr>\n",
              "    <tr>\n",
              "      <th>4</th>\n",
              "      <td>CHEMBL1934130</td>\n",
              "      <td>CC(=O)N[C@@H]1CC2(CCN(Cc3ccc4c(c3)c3ccccc3n4C(...</td>\n",
              "      <td>5.823909</td>\n",
              "      <td>0.0</td>\n",
              "      <td>&lt;img data-content=\"rdkit/molecule\" src=\"data:image/png;base64,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\" alt=\"Mol\"/&gt;</td>\n",
              "      <td>&lt;rdkit.DataStructs.cDataStructs.UIntSparseIntV...</td>\n",
              "      <td>[0, 0, 0, 0, 0, 0, 0, 0, 0, 0, 0, 0, 0, 0, 0, ...</td>\n",
              "      <td>0.571429</td>\n",
              "      <td>0.299401</td>\n",
              "      <td>0.727273</td>\n",
              "      <td>0.460829</td>\n",
              "    </tr>\n",
              "    <tr>\n",
              "      <th>4</th>\n",
              "      <td>CHEMBL3503365</td>\n",
              "      <td>Cc1noc(C)c1CN1CCO[C@@H]2[C@@H]1CC[C@H]2Oc1nccc...</td>\n",
              "      <td>NaN</td>\n",
              "      <td>NaN</td>\n",
              "      <td>&lt;img data-content=\"rdkit/molecule\" src=\"data:image/png;base64,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\" alt=\"Mol\"/&gt;</td>\n",
              "      <td>&lt;rdkit.DataStructs.cDataStructs.UIntSparseIntV...</td>\n",
              "      <td>[0, 0, 0, 0, 0, 0, 0, 0, 0, 0, 0, 0, 0, 0, 0, ...</td>\n",
              "      <td>0.658824</td>\n",
              "      <td>0.153439</td>\n",
              "      <td>0.794326</td>\n",
              "      <td>0.266055</td>\n",
              "    </tr>\n",
              "    <tr>\n",
              "      <th>7</th>\n",
              "      <td>CHEMBL584554</td>\n",
              "      <td>CCN(CC)C(=O)[C@@H]1C=C2c3cccc4[nH]cc(c34)C[C@H...</td>\n",
              "      <td>5.798603</td>\n",
              "      <td>0.0</td>\n",
              "      <td>&lt;img data-content=\"rdkit/molecule\" src=\"data:image/png;base64,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\" alt=\"Mol\"/&gt;</td>\n",
              "      <td>&lt;rdkit.DataStructs.cDataStructs.UIntSparseIntV...</td>\n",
              "      <td>[0, 0, 0, 0, 0, 0, 0, 0, 0, 0, 0, 0, 0, 0, 0, ...</td>\n",
              "      <td>0.569620</td>\n",
              "      <td>0.238095</td>\n",
              "      <td>0.725806</td>\n",
              "      <td>0.384615</td>\n",
              "    </tr>\n",
              "  </tbody>\n",
              "</table>\n",
              "</div>\n",
              "      <button class=\"colab-df-convert\" onclick=\"convertToInteractive('df-f87dc7b3-c439-4f31-8ab2-f32b5e5bfe5d')\"\n",
              "              title=\"Convert this dataframe to an interactive table.\"\n",
              "              style=\"display:none;\">\n",
              "        \n",
              "  <svg xmlns=\"http://www.w3.org/2000/svg\" height=\"24px\"viewBox=\"0 0 24 24\"\n",
              "       width=\"24px\">\n",
              "    <path d=\"M0 0h24v24H0V0z\" fill=\"none\"/>\n",
              "    <path d=\"M18.56 5.44l.94 2.06.94-2.06 2.06-.94-2.06-.94-.94-2.06-.94 2.06-2.06.94zm-11 1L8.5 8.5l.94-2.06 2.06-.94-2.06-.94L8.5 2.5l-.94 2.06-2.06.94zm10 10l.94 2.06.94-2.06 2.06-.94-2.06-.94-.94-2.06-.94 2.06-2.06.94z\"/><path d=\"M17.41 7.96l-1.37-1.37c-.4-.4-.92-.59-1.43-.59-.52 0-1.04.2-1.43.59L10.3 9.45l-7.72 7.72c-.78.78-.78 2.05 0 2.83L4 21.41c.39.39.9.59 1.41.59.51 0 1.02-.2 1.41-.59l7.78-7.78 2.81-2.81c.8-.78.8-2.07 0-2.86zM5.41 20L4 18.59l7.72-7.72 1.47 1.35L5.41 20z\"/>\n",
              "  </svg>\n",
              "      </button>\n",
              "      \n",
              "  <style>\n",
              "    .colab-df-container {\n",
              "      display:flex;\n",
              "      flex-wrap:wrap;\n",
              "      gap: 12px;\n",
              "    }\n",
              "\n",
              "    .colab-df-convert {\n",
              "      background-color: #E8F0FE;\n",
              "      border: none;\n",
              "      border-radius: 50%;\n",
              "      cursor: pointer;\n",
              "      display: none;\n",
              "      fill: #1967D2;\n",
              "      height: 32px;\n",
              "      padding: 0 0 0 0;\n",
              "      width: 32px;\n",
              "    }\n",
              "\n",
              "    .colab-df-convert:hover {\n",
              "      background-color: #E2EBFA;\n",
              "      box-shadow: 0px 1px 2px rgba(60, 64, 67, 0.3), 0px 1px 3px 1px rgba(60, 64, 67, 0.15);\n",
              "      fill: #174EA6;\n",
              "    }\n",
              "\n",
              "    [theme=dark] .colab-df-convert {\n",
              "      background-color: #3B4455;\n",
              "      fill: #D2E3FC;\n",
              "    }\n",
              "\n",
              "    [theme=dark] .colab-df-convert:hover {\n",
              "      background-color: #434B5C;\n",
              "      box-shadow: 0px 1px 3px 1px rgba(0, 0, 0, 0.15);\n",
              "      filter: drop-shadow(0px 1px 2px rgba(0, 0, 0, 0.3));\n",
              "      fill: #FFFFFF;\n",
              "    }\n",
              "  </style>\n",
              "\n",
              "      <script>\n",
              "        const buttonEl =\n",
              "          document.querySelector('#df-f87dc7b3-c439-4f31-8ab2-f32b5e5bfe5d button.colab-df-convert');\n",
              "        buttonEl.style.display =\n",
              "          google.colab.kernel.accessAllowed ? 'block' : 'none';\n",
              "\n",
              "        async function convertToInteractive(key) {\n",
              "          const element = document.querySelector('#df-f87dc7b3-c439-4f31-8ab2-f32b5e5bfe5d');\n",
              "          const dataTable =\n",
              "            await google.colab.kernel.invokeFunction('convertToInteractive',\n",
              "                                                     [key], {});\n",
              "          if (!dataTable) return;\n",
              "\n",
              "          const docLinkHtml = 'Like what you see? Visit the ' +\n",
              "            '<a target=\"_blank\" href=https://colab.research.google.com/notebooks/data_table.ipynb>data table notebook</a>'\n",
              "            + ' to learn more about interactive tables.';\n",
              "          element.innerHTML = '';\n",
              "          dataTable['output_type'] = 'display_data';\n",
              "          await google.colab.output.renderOutput(dataTable, element);\n",
              "          const docLink = document.createElement('div');\n",
              "          docLink.innerHTML = docLinkHtml;\n",
              "          element.appendChild(docLink);\n",
              "        }\n",
              "      </script>\n",
              "    </div>\n",
              "  </div>\n",
              "  "
            ]
          },
          "metadata": {},
          "execution_count": 104
        }
      ]
    },
    {
      "cell_type": "code",
      "source": [
        "random_to_keep[['molecule_chembl_id', 'smiles']].to_csv('negative_final.csv', index=False)"
      ],
      "metadata": {
        "id": "cczl8WTyFFcU"
      },
      "execution_count": null,
      "outputs": []
    },
    {
      "cell_type": "markdown",
      "source": [
        "## Featurizer"
      ],
      "metadata": {
        "id": "OHhA55LUNcME"
      }
    },
    {
      "cell_type": "code",
      "source": [
        "from pathlib import Path\n",
        "from warnings import filterwarnings\n",
        "import time\n",
        "\n",
        "import pandas as pd\n",
        "import numpy as np\n",
        "from sklearn import svm, metrics, clone\n",
        "from sklearn.ensemble import RandomForestClassifier\n",
        "from sklearn.neural_network import MLPClassifier\n",
        "from sklearn.model_selection import KFold, train_test_split\n",
        "from sklearn.metrics import auc, accuracy_score, recall_score\n",
        "from sklearn.metrics import roc_curve, roc_auc_score\n",
        "import matplotlib.pyplot as plt\n",
        "from rdkit import Chem\n",
        "from rdkit.Chem import MACCSkeys\n",
        "from rdkit.Chem.AllChem import GetMorganFingerprintAsBitVect"
      ],
      "metadata": {
        "id": "HvllskaiE6S0"
      },
      "execution_count": null,
      "outputs": []
    },
    {
      "cell_type": "code",
      "source": [
        "active = pd.read_csv('/content/active_filtered.csv').drop('pIC50', axis=1)\n",
        "active"
      ],
      "metadata": {
        "colab": {
          "base_uri": "https://localhost:8080/",
          "height": 424
        },
        "id": "S8-3qj4hWRyU",
        "outputId": "904de223-f74c-42d2-b166-07dd1ac0be1c"
      },
      "execution_count": null,
      "outputs": [
        {
          "output_type": "execute_result",
          "data": {
            "text/plain": [
              "    molecule_chembl_id                                             smiles  \\\n",
              "0            CHEMBL567           OCCN1CCN(CCCN2c3ccccc3Sc3ccc(Cl)cc32)CC1   \n",
              "1        CHEMBL3885419  CC(C)(C)[C@]1(O)CCN2C[C@@H]3c4ccccc4CCc4cccc(c...   \n",
              "2           CHEMBL8514  CC(C)(C)[C@]1(O)CCN2C[C@H]3c4ccccc4CCc4cccc(c4...   \n",
              "3         CHEMBL267930    O=C(CCCN1CCC2(CC1)C(=O)NCN2c1ccccc1)c1ccc(F)cc1   \n",
              "4            CHEMBL493  CC(C)C[C@H]1C(=O)N2CCC[C@H]2[C@]2(O)O[C@](NC(=...   \n",
              "..                 ...                                                ...   \n",
              "124      CHEMBL2373205    COc1cccc(-c2csc(CCN3CCN(c4ccccc4OC)CC3)n2)c1.Cl   \n",
              "125      CHEMBL2057453          COc1ccc2c(c1)C[C@H]1c3cc(O)c(OC)cc3CCN1C2   \n",
              "126        CHEMBL22242             CCN1CCC[C@H]1CNC(=O)c1c(OC)ccc(Br)c1OC   \n",
              "127       CHEMBL250689  CC(=O)c1cccc(NC(=O)N[C@@H]2CCCC[C@H]2CN2CCC[C@...   \n",
              "128       CHEMBL260907  CCOc1ccccc1N1CCN(CCCC(=O)NCc2nc3ccc(F)cc3c(=O)...   \n",
              "\n",
              "     active  \n",
              "0       1.0  \n",
              "1       1.0  \n",
              "2       1.0  \n",
              "3       1.0  \n",
              "4       1.0  \n",
              "..      ...  \n",
              "124     1.0  \n",
              "125     1.0  \n",
              "126     1.0  \n",
              "127     1.0  \n",
              "128     1.0  \n",
              "\n",
              "[129 rows x 3 columns]"
            ],
            "text/html": [
              "\n",
              "  <div id=\"df-5185092b-eb6b-4c07-be77-87dbec8c00e2\">\n",
              "    <div class=\"colab-df-container\">\n",
              "      <div>\n",
              "<style scoped>\n",
              "    .dataframe tbody tr th:only-of-type {\n",
              "        vertical-align: middle;\n",
              "    }\n",
              "\n",
              "    .dataframe tbody tr th {\n",
              "        vertical-align: top;\n",
              "    }\n",
              "\n",
              "    .dataframe thead th {\n",
              "        text-align: right;\n",
              "    }\n",
              "</style>\n",
              "<table border=\"1\" class=\"dataframe\">\n",
              "  <thead>\n",
              "    <tr style=\"text-align: right;\">\n",
              "      <th></th>\n",
              "      <th>molecule_chembl_id</th>\n",
              "      <th>smiles</th>\n",
              "      <th>active</th>\n",
              "    </tr>\n",
              "  </thead>\n",
              "  <tbody>\n",
              "    <tr>\n",
              "      <th>0</th>\n",
              "      <td>CHEMBL567</td>\n",
              "      <td>OCCN1CCN(CCCN2c3ccccc3Sc3ccc(Cl)cc32)CC1</td>\n",
              "      <td>1.0</td>\n",
              "    </tr>\n",
              "    <tr>\n",
              "      <th>1</th>\n",
              "      <td>CHEMBL3885419</td>\n",
              "      <td>CC(C)(C)[C@]1(O)CCN2C[C@@H]3c4ccccc4CCc4cccc(c...</td>\n",
              "      <td>1.0</td>\n",
              "    </tr>\n",
              "    <tr>\n",
              "      <th>2</th>\n",
              "      <td>CHEMBL8514</td>\n",
              "      <td>CC(C)(C)[C@]1(O)CCN2C[C@H]3c4ccccc4CCc4cccc(c4...</td>\n",
              "      <td>1.0</td>\n",
              "    </tr>\n",
              "    <tr>\n",
              "      <th>3</th>\n",
              "      <td>CHEMBL267930</td>\n",
              "      <td>O=C(CCCN1CCC2(CC1)C(=O)NCN2c1ccccc1)c1ccc(F)cc1</td>\n",
              "      <td>1.0</td>\n",
              "    </tr>\n",
              "    <tr>\n",
              "      <th>4</th>\n",
              "      <td>CHEMBL493</td>\n",
              "      <td>CC(C)C[C@H]1C(=O)N2CCC[C@H]2[C@]2(O)O[C@](NC(=...</td>\n",
              "      <td>1.0</td>\n",
              "    </tr>\n",
              "    <tr>\n",
              "      <th>...</th>\n",
              "      <td>...</td>\n",
              "      <td>...</td>\n",
              "      <td>...</td>\n",
              "    </tr>\n",
              "    <tr>\n",
              "      <th>124</th>\n",
              "      <td>CHEMBL2373205</td>\n",
              "      <td>COc1cccc(-c2csc(CCN3CCN(c4ccccc4OC)CC3)n2)c1.Cl</td>\n",
              "      <td>1.0</td>\n",
              "    </tr>\n",
              "    <tr>\n",
              "      <th>125</th>\n",
              "      <td>CHEMBL2057453</td>\n",
              "      <td>COc1ccc2c(c1)C[C@H]1c3cc(O)c(OC)cc3CCN1C2</td>\n",
              "      <td>1.0</td>\n",
              "    </tr>\n",
              "    <tr>\n",
              "      <th>126</th>\n",
              "      <td>CHEMBL22242</td>\n",
              "      <td>CCN1CCC[C@H]1CNC(=O)c1c(OC)ccc(Br)c1OC</td>\n",
              "      <td>1.0</td>\n",
              "    </tr>\n",
              "    <tr>\n",
              "      <th>127</th>\n",
              "      <td>CHEMBL250689</td>\n",
              "      <td>CC(=O)c1cccc(NC(=O)N[C@@H]2CCCC[C@H]2CN2CCC[C@...</td>\n",
              "      <td>1.0</td>\n",
              "    </tr>\n",
              "    <tr>\n",
              "      <th>128</th>\n",
              "      <td>CHEMBL260907</td>\n",
              "      <td>CCOc1ccccc1N1CCN(CCCC(=O)NCc2nc3ccc(F)cc3c(=O)...</td>\n",
              "      <td>1.0</td>\n",
              "    </tr>\n",
              "  </tbody>\n",
              "</table>\n",
              "<p>129 rows × 3 columns</p>\n",
              "</div>\n",
              "      <button class=\"colab-df-convert\" onclick=\"convertToInteractive('df-5185092b-eb6b-4c07-be77-87dbec8c00e2')\"\n",
              "              title=\"Convert this dataframe to an interactive table.\"\n",
              "              style=\"display:none;\">\n",
              "        \n",
              "  <svg xmlns=\"http://www.w3.org/2000/svg\" height=\"24px\"viewBox=\"0 0 24 24\"\n",
              "       width=\"24px\">\n",
              "    <path d=\"M0 0h24v24H0V0z\" fill=\"none\"/>\n",
              "    <path d=\"M18.56 5.44l.94 2.06.94-2.06 2.06-.94-2.06-.94-.94-2.06-.94 2.06-2.06.94zm-11 1L8.5 8.5l.94-2.06 2.06-.94-2.06-.94L8.5 2.5l-.94 2.06-2.06.94zm10 10l.94 2.06.94-2.06 2.06-.94-2.06-.94-.94-2.06-.94 2.06-2.06.94z\"/><path d=\"M17.41 7.96l-1.37-1.37c-.4-.4-.92-.59-1.43-.59-.52 0-1.04.2-1.43.59L10.3 9.45l-7.72 7.72c-.78.78-.78 2.05 0 2.83L4 21.41c.39.39.9.59 1.41.59.51 0 1.02-.2 1.41-.59l7.78-7.78 2.81-2.81c.8-.78.8-2.07 0-2.86zM5.41 20L4 18.59l7.72-7.72 1.47 1.35L5.41 20z\"/>\n",
              "  </svg>\n",
              "      </button>\n",
              "      \n",
              "  <style>\n",
              "    .colab-df-container {\n",
              "      display:flex;\n",
              "      flex-wrap:wrap;\n",
              "      gap: 12px;\n",
              "    }\n",
              "\n",
              "    .colab-df-convert {\n",
              "      background-color: #E8F0FE;\n",
              "      border: none;\n",
              "      border-radius: 50%;\n",
              "      cursor: pointer;\n",
              "      display: none;\n",
              "      fill: #1967D2;\n",
              "      height: 32px;\n",
              "      padding: 0 0 0 0;\n",
              "      width: 32px;\n",
              "    }\n",
              "\n",
              "    .colab-df-convert:hover {\n",
              "      background-color: #E2EBFA;\n",
              "      box-shadow: 0px 1px 2px rgba(60, 64, 67, 0.3), 0px 1px 3px 1px rgba(60, 64, 67, 0.15);\n",
              "      fill: #174EA6;\n",
              "    }\n",
              "\n",
              "    [theme=dark] .colab-df-convert {\n",
              "      background-color: #3B4455;\n",
              "      fill: #D2E3FC;\n",
              "    }\n",
              "\n",
              "    [theme=dark] .colab-df-convert:hover {\n",
              "      background-color: #434B5C;\n",
              "      box-shadow: 0px 1px 3px 1px rgba(0, 0, 0, 0.15);\n",
              "      filter: drop-shadow(0px 1px 2px rgba(0, 0, 0, 0.3));\n",
              "      fill: #FFFFFF;\n",
              "    }\n",
              "  </style>\n",
              "\n",
              "      <script>\n",
              "        const buttonEl =\n",
              "          document.querySelector('#df-5185092b-eb6b-4c07-be77-87dbec8c00e2 button.colab-df-convert');\n",
              "        buttonEl.style.display =\n",
              "          google.colab.kernel.accessAllowed ? 'block' : 'none';\n",
              "\n",
              "        async function convertToInteractive(key) {\n",
              "          const element = document.querySelector('#df-5185092b-eb6b-4c07-be77-87dbec8c00e2');\n",
              "          const dataTable =\n",
              "            await google.colab.kernel.invokeFunction('convertToInteractive',\n",
              "                                                     [key], {});\n",
              "          if (!dataTable) return;\n",
              "\n",
              "          const docLinkHtml = 'Like what you see? Visit the ' +\n",
              "            '<a target=\"_blank\" href=https://colab.research.google.com/notebooks/data_table.ipynb>data table notebook</a>'\n",
              "            + ' to learn more about interactive tables.';\n",
              "          element.innerHTML = '';\n",
              "          dataTable['output_type'] = 'display_data';\n",
              "          await google.colab.output.renderOutput(dataTable, element);\n",
              "          const docLink = document.createElement('div');\n",
              "          docLink.innerHTML = docLinkHtml;\n",
              "          element.appendChild(docLink);\n",
              "        }\n",
              "      </script>\n",
              "    </div>\n",
              "  </div>\n",
              "  "
            ]
          },
          "metadata": {},
          "execution_count": 3
        }
      ]
    },
    {
      "cell_type": "code",
      "source": [
        "negative = pd.read_csv('/content/negative_final.csv')\n",
        "negative"
      ],
      "metadata": {
        "colab": {
          "base_uri": "https://localhost:8080/",
          "height": 424
        },
        "id": "UYjmFeMrWR07",
        "outputId": "0f3103a7-808b-4cf5-ef00-f32170d2c69d"
      },
      "execution_count": null,
      "outputs": [
        {
          "output_type": "execute_result",
          "data": {
            "text/plain": [
              "     molecule_chembl_id                                             smiles\n",
              "0              CHEMBL81  O=C(c1ccc(OCCN2CCCCC2)cc1)c1c(-c2ccc(O)cc2)sc2...\n",
              "1         CHEMBL4090043  Nc1ncc(-c2n[nH]c(C3(c4ccccc4)CC3)n2)nc1-n1nnc2...\n",
              "2         CHEMBL1934130  CC(=O)N[C@@H]1CC2(CCN(Cc3ccc4c(c3)c3ccccc3n4C(...\n",
              "3         CHEMBL3503365  Cc1noc(C)c1CN1CCO[C@@H]2[C@@H]1CC[C@H]2Oc1nccc...\n",
              "4          CHEMBL584554  CCN(CC)C(=O)[C@@H]1C=C2c3cccc4[nH]cc(c34)C[C@H...\n",
              "...                 ...                                                ...\n",
              "1421      CHEMBL2407783  CC(=O)c1ccccc1-c1cc2c(-c3cnn(C4CCN(C(C)=O)CC4)...\n",
              "1422      CHEMBL4160169  CC(Oc1ccnc(Nc2cnn(C)c2)c1)c1cccc(C(=O)NCc2cc(F...\n",
              "1423      CHEMBL1590841  CC(C)c1ccc(S(=O)(=O)c2cnc(SCC(=O)Nc3ccc(F)cc3F...\n",
              "1424      CHEMBL1476385     COc1ccc(OC)c(NC(=O)c2cnc(N3CCCCC3)c3ccccc23)c1\n",
              "1425      CHEMBL3500632  Cn1ccnc1CN1CCC2(CC1)CN(Cc1ccccc1)C(=O)CO2.O=C(...\n",
              "\n",
              "[1426 rows x 2 columns]"
            ],
            "text/html": [
              "\n",
              "  <div id=\"df-a94987a2-223d-46c6-9561-0bf4a3420df5\">\n",
              "    <div class=\"colab-df-container\">\n",
              "      <div>\n",
              "<style scoped>\n",
              "    .dataframe tbody tr th:only-of-type {\n",
              "        vertical-align: middle;\n",
              "    }\n",
              "\n",
              "    .dataframe tbody tr th {\n",
              "        vertical-align: top;\n",
              "    }\n",
              "\n",
              "    .dataframe thead th {\n",
              "        text-align: right;\n",
              "    }\n",
              "</style>\n",
              "<table border=\"1\" class=\"dataframe\">\n",
              "  <thead>\n",
              "    <tr style=\"text-align: right;\">\n",
              "      <th></th>\n",
              "      <th>molecule_chembl_id</th>\n",
              "      <th>smiles</th>\n",
              "    </tr>\n",
              "  </thead>\n",
              "  <tbody>\n",
              "    <tr>\n",
              "      <th>0</th>\n",
              "      <td>CHEMBL81</td>\n",
              "      <td>O=C(c1ccc(OCCN2CCCCC2)cc1)c1c(-c2ccc(O)cc2)sc2...</td>\n",
              "    </tr>\n",
              "    <tr>\n",
              "      <th>1</th>\n",
              "      <td>CHEMBL4090043</td>\n",
              "      <td>Nc1ncc(-c2n[nH]c(C3(c4ccccc4)CC3)n2)nc1-n1nnc2...</td>\n",
              "    </tr>\n",
              "    <tr>\n",
              "      <th>2</th>\n",
              "      <td>CHEMBL1934130</td>\n",
              "      <td>CC(=O)N[C@@H]1CC2(CCN(Cc3ccc4c(c3)c3ccccc3n4C(...</td>\n",
              "    </tr>\n",
              "    <tr>\n",
              "      <th>3</th>\n",
              "      <td>CHEMBL3503365</td>\n",
              "      <td>Cc1noc(C)c1CN1CCO[C@@H]2[C@@H]1CC[C@H]2Oc1nccc...</td>\n",
              "    </tr>\n",
              "    <tr>\n",
              "      <th>4</th>\n",
              "      <td>CHEMBL584554</td>\n",
              "      <td>CCN(CC)C(=O)[C@@H]1C=C2c3cccc4[nH]cc(c34)C[C@H...</td>\n",
              "    </tr>\n",
              "    <tr>\n",
              "      <th>...</th>\n",
              "      <td>...</td>\n",
              "      <td>...</td>\n",
              "    </tr>\n",
              "    <tr>\n",
              "      <th>1421</th>\n",
              "      <td>CHEMBL2407783</td>\n",
              "      <td>CC(=O)c1ccccc1-c1cc2c(-c3cnn(C4CCN(C(C)=O)CC4)...</td>\n",
              "    </tr>\n",
              "    <tr>\n",
              "      <th>1422</th>\n",
              "      <td>CHEMBL4160169</td>\n",
              "      <td>CC(Oc1ccnc(Nc2cnn(C)c2)c1)c1cccc(C(=O)NCc2cc(F...</td>\n",
              "    </tr>\n",
              "    <tr>\n",
              "      <th>1423</th>\n",
              "      <td>CHEMBL1590841</td>\n",
              "      <td>CC(C)c1ccc(S(=O)(=O)c2cnc(SCC(=O)Nc3ccc(F)cc3F...</td>\n",
              "    </tr>\n",
              "    <tr>\n",
              "      <th>1424</th>\n",
              "      <td>CHEMBL1476385</td>\n",
              "      <td>COc1ccc(OC)c(NC(=O)c2cnc(N3CCCCC3)c3ccccc23)c1</td>\n",
              "    </tr>\n",
              "    <tr>\n",
              "      <th>1425</th>\n",
              "      <td>CHEMBL3500632</td>\n",
              "      <td>Cn1ccnc1CN1CCC2(CC1)CN(Cc1ccccc1)C(=O)CO2.O=C(...</td>\n",
              "    </tr>\n",
              "  </tbody>\n",
              "</table>\n",
              "<p>1426 rows × 2 columns</p>\n",
              "</div>\n",
              "      <button class=\"colab-df-convert\" onclick=\"convertToInteractive('df-a94987a2-223d-46c6-9561-0bf4a3420df5')\"\n",
              "              title=\"Convert this dataframe to an interactive table.\"\n",
              "              style=\"display:none;\">\n",
              "        \n",
              "  <svg xmlns=\"http://www.w3.org/2000/svg\" height=\"24px\"viewBox=\"0 0 24 24\"\n",
              "       width=\"24px\">\n",
              "    <path d=\"M0 0h24v24H0V0z\" fill=\"none\"/>\n",
              "    <path d=\"M18.56 5.44l.94 2.06.94-2.06 2.06-.94-2.06-.94-.94-2.06-.94 2.06-2.06.94zm-11 1L8.5 8.5l.94-2.06 2.06-.94-2.06-.94L8.5 2.5l-.94 2.06-2.06.94zm10 10l.94 2.06.94-2.06 2.06-.94-2.06-.94-.94-2.06-.94 2.06-2.06.94z\"/><path d=\"M17.41 7.96l-1.37-1.37c-.4-.4-.92-.59-1.43-.59-.52 0-1.04.2-1.43.59L10.3 9.45l-7.72 7.72c-.78.78-.78 2.05 0 2.83L4 21.41c.39.39.9.59 1.41.59.51 0 1.02-.2 1.41-.59l7.78-7.78 2.81-2.81c.8-.78.8-2.07 0-2.86zM5.41 20L4 18.59l7.72-7.72 1.47 1.35L5.41 20z\"/>\n",
              "  </svg>\n",
              "      </button>\n",
              "      \n",
              "  <style>\n",
              "    .colab-df-container {\n",
              "      display:flex;\n",
              "      flex-wrap:wrap;\n",
              "      gap: 12px;\n",
              "    }\n",
              "\n",
              "    .colab-df-convert {\n",
              "      background-color: #E8F0FE;\n",
              "      border: none;\n",
              "      border-radius: 50%;\n",
              "      cursor: pointer;\n",
              "      display: none;\n",
              "      fill: #1967D2;\n",
              "      height: 32px;\n",
              "      padding: 0 0 0 0;\n",
              "      width: 32px;\n",
              "    }\n",
              "\n",
              "    .colab-df-convert:hover {\n",
              "      background-color: #E2EBFA;\n",
              "      box-shadow: 0px 1px 2px rgba(60, 64, 67, 0.3), 0px 1px 3px 1px rgba(60, 64, 67, 0.15);\n",
              "      fill: #174EA6;\n",
              "    }\n",
              "\n",
              "    [theme=dark] .colab-df-convert {\n",
              "      background-color: #3B4455;\n",
              "      fill: #D2E3FC;\n",
              "    }\n",
              "\n",
              "    [theme=dark] .colab-df-convert:hover {\n",
              "      background-color: #434B5C;\n",
              "      box-shadow: 0px 1px 3px 1px rgba(0, 0, 0, 0.15);\n",
              "      filter: drop-shadow(0px 1px 2px rgba(0, 0, 0, 0.3));\n",
              "      fill: #FFFFFF;\n",
              "    }\n",
              "  </style>\n",
              "\n",
              "      <script>\n",
              "        const buttonEl =\n",
              "          document.querySelector('#df-a94987a2-223d-46c6-9561-0bf4a3420df5 button.colab-df-convert');\n",
              "        buttonEl.style.display =\n",
              "          google.colab.kernel.accessAllowed ? 'block' : 'none';\n",
              "\n",
              "        async function convertToInteractive(key) {\n",
              "          const element = document.querySelector('#df-a94987a2-223d-46c6-9561-0bf4a3420df5');\n",
              "          const dataTable =\n",
              "            await google.colab.kernel.invokeFunction('convertToInteractive',\n",
              "                                                     [key], {});\n",
              "          if (!dataTable) return;\n",
              "\n",
              "          const docLinkHtml = 'Like what you see? Visit the ' +\n",
              "            '<a target=\"_blank\" href=https://colab.research.google.com/notebooks/data_table.ipynb>data table notebook</a>'\n",
              "            + ' to learn more about interactive tables.';\n",
              "          element.innerHTML = '';\n",
              "          dataTable['output_type'] = 'display_data';\n",
              "          await google.colab.output.renderOutput(dataTable, element);\n",
              "          const docLink = document.createElement('div');\n",
              "          docLink.innerHTML = docLinkHtml;\n",
              "          element.appendChild(docLink);\n",
              "        }\n",
              "      </script>\n",
              "    </div>\n",
              "  </div>\n",
              "  "
            ]
          },
          "metadata": {},
          "execution_count": 4
        }
      ]
    },
    {
      "cell_type": "code",
      "source": [
        "negative['active'] = 0\n",
        "negative"
      ],
      "metadata": {
        "colab": {
          "base_uri": "https://localhost:8080/",
          "height": 424
        },
        "id": "PknBiasUWR3s",
        "outputId": "47b46d24-0c2a-4c6b-f4dd-008fe78f4af7"
      },
      "execution_count": null,
      "outputs": [
        {
          "output_type": "execute_result",
          "data": {
            "text/plain": [
              "     molecule_chembl_id                                             smiles  \\\n",
              "0              CHEMBL81  O=C(c1ccc(OCCN2CCCCC2)cc1)c1c(-c2ccc(O)cc2)sc2...   \n",
              "1         CHEMBL4090043  Nc1ncc(-c2n[nH]c(C3(c4ccccc4)CC3)n2)nc1-n1nnc2...   \n",
              "2         CHEMBL1934130  CC(=O)N[C@@H]1CC2(CCN(Cc3ccc4c(c3)c3ccccc3n4C(...   \n",
              "3         CHEMBL3503365  Cc1noc(C)c1CN1CCO[C@@H]2[C@@H]1CC[C@H]2Oc1nccc...   \n",
              "4          CHEMBL584554  CCN(CC)C(=O)[C@@H]1C=C2c3cccc4[nH]cc(c34)C[C@H...   \n",
              "...                 ...                                                ...   \n",
              "1421      CHEMBL2407783  CC(=O)c1ccccc1-c1cc2c(-c3cnn(C4CCN(C(C)=O)CC4)...   \n",
              "1422      CHEMBL4160169  CC(Oc1ccnc(Nc2cnn(C)c2)c1)c1cccc(C(=O)NCc2cc(F...   \n",
              "1423      CHEMBL1590841  CC(C)c1ccc(S(=O)(=O)c2cnc(SCC(=O)Nc3ccc(F)cc3F...   \n",
              "1424      CHEMBL1476385     COc1ccc(OC)c(NC(=O)c2cnc(N3CCCCC3)c3ccccc23)c1   \n",
              "1425      CHEMBL3500632  Cn1ccnc1CN1CCC2(CC1)CN(Cc1ccccc1)C(=O)CO2.O=C(...   \n",
              "\n",
              "      active  \n",
              "0          0  \n",
              "1          0  \n",
              "2          0  \n",
              "3          0  \n",
              "4          0  \n",
              "...      ...  \n",
              "1421       0  \n",
              "1422       0  \n",
              "1423       0  \n",
              "1424       0  \n",
              "1425       0  \n",
              "\n",
              "[1426 rows x 3 columns]"
            ],
            "text/html": [
              "\n",
              "  <div id=\"df-4c2eb4f1-fc44-4ff8-920c-4bda876c59d8\">\n",
              "    <div class=\"colab-df-container\">\n",
              "      <div>\n",
              "<style scoped>\n",
              "    .dataframe tbody tr th:only-of-type {\n",
              "        vertical-align: middle;\n",
              "    }\n",
              "\n",
              "    .dataframe tbody tr th {\n",
              "        vertical-align: top;\n",
              "    }\n",
              "\n",
              "    .dataframe thead th {\n",
              "        text-align: right;\n",
              "    }\n",
              "</style>\n",
              "<table border=\"1\" class=\"dataframe\">\n",
              "  <thead>\n",
              "    <tr style=\"text-align: right;\">\n",
              "      <th></th>\n",
              "      <th>molecule_chembl_id</th>\n",
              "      <th>smiles</th>\n",
              "      <th>active</th>\n",
              "    </tr>\n",
              "  </thead>\n",
              "  <tbody>\n",
              "    <tr>\n",
              "      <th>0</th>\n",
              "      <td>CHEMBL81</td>\n",
              "      <td>O=C(c1ccc(OCCN2CCCCC2)cc1)c1c(-c2ccc(O)cc2)sc2...</td>\n",
              "      <td>0</td>\n",
              "    </tr>\n",
              "    <tr>\n",
              "      <th>1</th>\n",
              "      <td>CHEMBL4090043</td>\n",
              "      <td>Nc1ncc(-c2n[nH]c(C3(c4ccccc4)CC3)n2)nc1-n1nnc2...</td>\n",
              "      <td>0</td>\n",
              "    </tr>\n",
              "    <tr>\n",
              "      <th>2</th>\n",
              "      <td>CHEMBL1934130</td>\n",
              "      <td>CC(=O)N[C@@H]1CC2(CCN(Cc3ccc4c(c3)c3ccccc3n4C(...</td>\n",
              "      <td>0</td>\n",
              "    </tr>\n",
              "    <tr>\n",
              "      <th>3</th>\n",
              "      <td>CHEMBL3503365</td>\n",
              "      <td>Cc1noc(C)c1CN1CCO[C@@H]2[C@@H]1CC[C@H]2Oc1nccc...</td>\n",
              "      <td>0</td>\n",
              "    </tr>\n",
              "    <tr>\n",
              "      <th>4</th>\n",
              "      <td>CHEMBL584554</td>\n",
              "      <td>CCN(CC)C(=O)[C@@H]1C=C2c3cccc4[nH]cc(c34)C[C@H...</td>\n",
              "      <td>0</td>\n",
              "    </tr>\n",
              "    <tr>\n",
              "      <th>...</th>\n",
              "      <td>...</td>\n",
              "      <td>...</td>\n",
              "      <td>...</td>\n",
              "    </tr>\n",
              "    <tr>\n",
              "      <th>1421</th>\n",
              "      <td>CHEMBL2407783</td>\n",
              "      <td>CC(=O)c1ccccc1-c1cc2c(-c3cnn(C4CCN(C(C)=O)CC4)...</td>\n",
              "      <td>0</td>\n",
              "    </tr>\n",
              "    <tr>\n",
              "      <th>1422</th>\n",
              "      <td>CHEMBL4160169</td>\n",
              "      <td>CC(Oc1ccnc(Nc2cnn(C)c2)c1)c1cccc(C(=O)NCc2cc(F...</td>\n",
              "      <td>0</td>\n",
              "    </tr>\n",
              "    <tr>\n",
              "      <th>1423</th>\n",
              "      <td>CHEMBL1590841</td>\n",
              "      <td>CC(C)c1ccc(S(=O)(=O)c2cnc(SCC(=O)Nc3ccc(F)cc3F...</td>\n",
              "      <td>0</td>\n",
              "    </tr>\n",
              "    <tr>\n",
              "      <th>1424</th>\n",
              "      <td>CHEMBL1476385</td>\n",
              "      <td>COc1ccc(OC)c(NC(=O)c2cnc(N3CCCCC3)c3ccccc23)c1</td>\n",
              "      <td>0</td>\n",
              "    </tr>\n",
              "    <tr>\n",
              "      <th>1425</th>\n",
              "      <td>CHEMBL3500632</td>\n",
              "      <td>Cn1ccnc1CN1CCC2(CC1)CN(Cc1ccccc1)C(=O)CO2.O=C(...</td>\n",
              "      <td>0</td>\n",
              "    </tr>\n",
              "  </tbody>\n",
              "</table>\n",
              "<p>1426 rows × 3 columns</p>\n",
              "</div>\n",
              "      <button class=\"colab-df-convert\" onclick=\"convertToInteractive('df-4c2eb4f1-fc44-4ff8-920c-4bda876c59d8')\"\n",
              "              title=\"Convert this dataframe to an interactive table.\"\n",
              "              style=\"display:none;\">\n",
              "        \n",
              "  <svg xmlns=\"http://www.w3.org/2000/svg\" height=\"24px\"viewBox=\"0 0 24 24\"\n",
              "       width=\"24px\">\n",
              "    <path d=\"M0 0h24v24H0V0z\" fill=\"none\"/>\n",
              "    <path d=\"M18.56 5.44l.94 2.06.94-2.06 2.06-.94-2.06-.94-.94-2.06-.94 2.06-2.06.94zm-11 1L8.5 8.5l.94-2.06 2.06-.94-2.06-.94L8.5 2.5l-.94 2.06-2.06.94zm10 10l.94 2.06.94-2.06 2.06-.94-2.06-.94-.94-2.06-.94 2.06-2.06.94z\"/><path d=\"M17.41 7.96l-1.37-1.37c-.4-.4-.92-.59-1.43-.59-.52 0-1.04.2-1.43.59L10.3 9.45l-7.72 7.72c-.78.78-.78 2.05 0 2.83L4 21.41c.39.39.9.59 1.41.59.51 0 1.02-.2 1.41-.59l7.78-7.78 2.81-2.81c.8-.78.8-2.07 0-2.86zM5.41 20L4 18.59l7.72-7.72 1.47 1.35L5.41 20z\"/>\n",
              "  </svg>\n",
              "      </button>\n",
              "      \n",
              "  <style>\n",
              "    .colab-df-container {\n",
              "      display:flex;\n",
              "      flex-wrap:wrap;\n",
              "      gap: 12px;\n",
              "    }\n",
              "\n",
              "    .colab-df-convert {\n",
              "      background-color: #E8F0FE;\n",
              "      border: none;\n",
              "      border-radius: 50%;\n",
              "      cursor: pointer;\n",
              "      display: none;\n",
              "      fill: #1967D2;\n",
              "      height: 32px;\n",
              "      padding: 0 0 0 0;\n",
              "      width: 32px;\n",
              "    }\n",
              "\n",
              "    .colab-df-convert:hover {\n",
              "      background-color: #E2EBFA;\n",
              "      box-shadow: 0px 1px 2px rgba(60, 64, 67, 0.3), 0px 1px 3px 1px rgba(60, 64, 67, 0.15);\n",
              "      fill: #174EA6;\n",
              "    }\n",
              "\n",
              "    [theme=dark] .colab-df-convert {\n",
              "      background-color: #3B4455;\n",
              "      fill: #D2E3FC;\n",
              "    }\n",
              "\n",
              "    [theme=dark] .colab-df-convert:hover {\n",
              "      background-color: #434B5C;\n",
              "      box-shadow: 0px 1px 3px 1px rgba(0, 0, 0, 0.15);\n",
              "      filter: drop-shadow(0px 1px 2px rgba(0, 0, 0, 0.3));\n",
              "      fill: #FFFFFF;\n",
              "    }\n",
              "  </style>\n",
              "\n",
              "      <script>\n",
              "        const buttonEl =\n",
              "          document.querySelector('#df-4c2eb4f1-fc44-4ff8-920c-4bda876c59d8 button.colab-df-convert');\n",
              "        buttonEl.style.display =\n",
              "          google.colab.kernel.accessAllowed ? 'block' : 'none';\n",
              "\n",
              "        async function convertToInteractive(key) {\n",
              "          const element = document.querySelector('#df-4c2eb4f1-fc44-4ff8-920c-4bda876c59d8');\n",
              "          const dataTable =\n",
              "            await google.colab.kernel.invokeFunction('convertToInteractive',\n",
              "                                                     [key], {});\n",
              "          if (!dataTable) return;\n",
              "\n",
              "          const docLinkHtml = 'Like what you see? Visit the ' +\n",
              "            '<a target=\"_blank\" href=https://colab.research.google.com/notebooks/data_table.ipynb>data table notebook</a>'\n",
              "            + ' to learn more about interactive tables.';\n",
              "          element.innerHTML = '';\n",
              "          dataTable['output_type'] = 'display_data';\n",
              "          await google.colab.output.renderOutput(dataTable, element);\n",
              "          const docLink = document.createElement('div');\n",
              "          docLink.innerHTML = docLinkHtml;\n",
              "          element.appendChild(docLink);\n",
              "        }\n",
              "      </script>\n",
              "    </div>\n",
              "  </div>\n",
              "  "
            ]
          },
          "metadata": {},
          "execution_count": 5
        }
      ]
    },
    {
      "cell_type": "code",
      "source": [
        "dataset = pd.concat([active, negative])\n",
        "dataset"
      ],
      "metadata": {
        "colab": {
          "base_uri": "https://localhost:8080/",
          "height": 424
        },
        "id": "VTxCasDJWR5_",
        "outputId": "7f8629f4-1895-425a-f1a5-0c02552590d1"
      },
      "execution_count": null,
      "outputs": [
        {
          "output_type": "execute_result",
          "data": {
            "text/plain": [
              "     molecule_chembl_id                                             smiles  \\\n",
              "0             CHEMBL567           OCCN1CCN(CCCN2c3ccccc3Sc3ccc(Cl)cc32)CC1   \n",
              "1         CHEMBL3885419  CC(C)(C)[C@]1(O)CCN2C[C@@H]3c4ccccc4CCc4cccc(c...   \n",
              "2            CHEMBL8514  CC(C)(C)[C@]1(O)CCN2C[C@H]3c4ccccc4CCc4cccc(c4...   \n",
              "3          CHEMBL267930    O=C(CCCN1CCC2(CC1)C(=O)NCN2c1ccccc1)c1ccc(F)cc1   \n",
              "4             CHEMBL493  CC(C)C[C@H]1C(=O)N2CCC[C@H]2[C@]2(O)O[C@](NC(=...   \n",
              "...                 ...                                                ...   \n",
              "1421      CHEMBL2407783  CC(=O)c1ccccc1-c1cc2c(-c3cnn(C4CCN(C(C)=O)CC4)...   \n",
              "1422      CHEMBL4160169  CC(Oc1ccnc(Nc2cnn(C)c2)c1)c1cccc(C(=O)NCc2cc(F...   \n",
              "1423      CHEMBL1590841  CC(C)c1ccc(S(=O)(=O)c2cnc(SCC(=O)Nc3ccc(F)cc3F...   \n",
              "1424      CHEMBL1476385     COc1ccc(OC)c(NC(=O)c2cnc(N3CCCCC3)c3ccccc23)c1   \n",
              "1425      CHEMBL3500632  Cn1ccnc1CN1CCC2(CC1)CN(Cc1ccccc1)C(=O)CO2.O=C(...   \n",
              "\n",
              "      active  \n",
              "0        1.0  \n",
              "1        1.0  \n",
              "2        1.0  \n",
              "3        1.0  \n",
              "4        1.0  \n",
              "...      ...  \n",
              "1421     0.0  \n",
              "1422     0.0  \n",
              "1423     0.0  \n",
              "1424     0.0  \n",
              "1425     0.0  \n",
              "\n",
              "[1555 rows x 3 columns]"
            ],
            "text/html": [
              "\n",
              "  <div id=\"df-c3c0f9cc-e43b-450b-b804-cf23b7143fba\">\n",
              "    <div class=\"colab-df-container\">\n",
              "      <div>\n",
              "<style scoped>\n",
              "    .dataframe tbody tr th:only-of-type {\n",
              "        vertical-align: middle;\n",
              "    }\n",
              "\n",
              "    .dataframe tbody tr th {\n",
              "        vertical-align: top;\n",
              "    }\n",
              "\n",
              "    .dataframe thead th {\n",
              "        text-align: right;\n",
              "    }\n",
              "</style>\n",
              "<table border=\"1\" class=\"dataframe\">\n",
              "  <thead>\n",
              "    <tr style=\"text-align: right;\">\n",
              "      <th></th>\n",
              "      <th>molecule_chembl_id</th>\n",
              "      <th>smiles</th>\n",
              "      <th>active</th>\n",
              "    </tr>\n",
              "  </thead>\n",
              "  <tbody>\n",
              "    <tr>\n",
              "      <th>0</th>\n",
              "      <td>CHEMBL567</td>\n",
              "      <td>OCCN1CCN(CCCN2c3ccccc3Sc3ccc(Cl)cc32)CC1</td>\n",
              "      <td>1.0</td>\n",
              "    </tr>\n",
              "    <tr>\n",
              "      <th>1</th>\n",
              "      <td>CHEMBL3885419</td>\n",
              "      <td>CC(C)(C)[C@]1(O)CCN2C[C@@H]3c4ccccc4CCc4cccc(c...</td>\n",
              "      <td>1.0</td>\n",
              "    </tr>\n",
              "    <tr>\n",
              "      <th>2</th>\n",
              "      <td>CHEMBL8514</td>\n",
              "      <td>CC(C)(C)[C@]1(O)CCN2C[C@H]3c4ccccc4CCc4cccc(c4...</td>\n",
              "      <td>1.0</td>\n",
              "    </tr>\n",
              "    <tr>\n",
              "      <th>3</th>\n",
              "      <td>CHEMBL267930</td>\n",
              "      <td>O=C(CCCN1CCC2(CC1)C(=O)NCN2c1ccccc1)c1ccc(F)cc1</td>\n",
              "      <td>1.0</td>\n",
              "    </tr>\n",
              "    <tr>\n",
              "      <th>4</th>\n",
              "      <td>CHEMBL493</td>\n",
              "      <td>CC(C)C[C@H]1C(=O)N2CCC[C@H]2[C@]2(O)O[C@](NC(=...</td>\n",
              "      <td>1.0</td>\n",
              "    </tr>\n",
              "    <tr>\n",
              "      <th>...</th>\n",
              "      <td>...</td>\n",
              "      <td>...</td>\n",
              "      <td>...</td>\n",
              "    </tr>\n",
              "    <tr>\n",
              "      <th>1421</th>\n",
              "      <td>CHEMBL2407783</td>\n",
              "      <td>CC(=O)c1ccccc1-c1cc2c(-c3cnn(C4CCN(C(C)=O)CC4)...</td>\n",
              "      <td>0.0</td>\n",
              "    </tr>\n",
              "    <tr>\n",
              "      <th>1422</th>\n",
              "      <td>CHEMBL4160169</td>\n",
              "      <td>CC(Oc1ccnc(Nc2cnn(C)c2)c1)c1cccc(C(=O)NCc2cc(F...</td>\n",
              "      <td>0.0</td>\n",
              "    </tr>\n",
              "    <tr>\n",
              "      <th>1423</th>\n",
              "      <td>CHEMBL1590841</td>\n",
              "      <td>CC(C)c1ccc(S(=O)(=O)c2cnc(SCC(=O)Nc3ccc(F)cc3F...</td>\n",
              "      <td>0.0</td>\n",
              "    </tr>\n",
              "    <tr>\n",
              "      <th>1424</th>\n",
              "      <td>CHEMBL1476385</td>\n",
              "      <td>COc1ccc(OC)c(NC(=O)c2cnc(N3CCCCC3)c3ccccc23)c1</td>\n",
              "      <td>0.0</td>\n",
              "    </tr>\n",
              "    <tr>\n",
              "      <th>1425</th>\n",
              "      <td>CHEMBL3500632</td>\n",
              "      <td>Cn1ccnc1CN1CCC2(CC1)CN(Cc1ccccc1)C(=O)CO2.O=C(...</td>\n",
              "      <td>0.0</td>\n",
              "    </tr>\n",
              "  </tbody>\n",
              "</table>\n",
              "<p>1555 rows × 3 columns</p>\n",
              "</div>\n",
              "      <button class=\"colab-df-convert\" onclick=\"convertToInteractive('df-c3c0f9cc-e43b-450b-b804-cf23b7143fba')\"\n",
              "              title=\"Convert this dataframe to an interactive table.\"\n",
              "              style=\"display:none;\">\n",
              "        \n",
              "  <svg xmlns=\"http://www.w3.org/2000/svg\" height=\"24px\"viewBox=\"0 0 24 24\"\n",
              "       width=\"24px\">\n",
              "    <path d=\"M0 0h24v24H0V0z\" fill=\"none\"/>\n",
              "    <path d=\"M18.56 5.44l.94 2.06.94-2.06 2.06-.94-2.06-.94-.94-2.06-.94 2.06-2.06.94zm-11 1L8.5 8.5l.94-2.06 2.06-.94-2.06-.94L8.5 2.5l-.94 2.06-2.06.94zm10 10l.94 2.06.94-2.06 2.06-.94-2.06-.94-.94-2.06-.94 2.06-2.06.94z\"/><path d=\"M17.41 7.96l-1.37-1.37c-.4-.4-.92-.59-1.43-.59-.52 0-1.04.2-1.43.59L10.3 9.45l-7.72 7.72c-.78.78-.78 2.05 0 2.83L4 21.41c.39.39.9.59 1.41.59.51 0 1.02-.2 1.41-.59l7.78-7.78 2.81-2.81c.8-.78.8-2.07 0-2.86zM5.41 20L4 18.59l7.72-7.72 1.47 1.35L5.41 20z\"/>\n",
              "  </svg>\n",
              "      </button>\n",
              "      \n",
              "  <style>\n",
              "    .colab-df-container {\n",
              "      display:flex;\n",
              "      flex-wrap:wrap;\n",
              "      gap: 12px;\n",
              "    }\n",
              "\n",
              "    .colab-df-convert {\n",
              "      background-color: #E8F0FE;\n",
              "      border: none;\n",
              "      border-radius: 50%;\n",
              "      cursor: pointer;\n",
              "      display: none;\n",
              "      fill: #1967D2;\n",
              "      height: 32px;\n",
              "      padding: 0 0 0 0;\n",
              "      width: 32px;\n",
              "    }\n",
              "\n",
              "    .colab-df-convert:hover {\n",
              "      background-color: #E2EBFA;\n",
              "      box-shadow: 0px 1px 2px rgba(60, 64, 67, 0.3), 0px 1px 3px 1px rgba(60, 64, 67, 0.15);\n",
              "      fill: #174EA6;\n",
              "    }\n",
              "\n",
              "    [theme=dark] .colab-df-convert {\n",
              "      background-color: #3B4455;\n",
              "      fill: #D2E3FC;\n",
              "    }\n",
              "\n",
              "    [theme=dark] .colab-df-convert:hover {\n",
              "      background-color: #434B5C;\n",
              "      box-shadow: 0px 1px 3px 1px rgba(0, 0, 0, 0.15);\n",
              "      filter: drop-shadow(0px 1px 2px rgba(0, 0, 0, 0.3));\n",
              "      fill: #FFFFFF;\n",
              "    }\n",
              "  </style>\n",
              "\n",
              "      <script>\n",
              "        const buttonEl =\n",
              "          document.querySelector('#df-c3c0f9cc-e43b-450b-b804-cf23b7143fba button.colab-df-convert');\n",
              "        buttonEl.style.display =\n",
              "          google.colab.kernel.accessAllowed ? 'block' : 'none';\n",
              "\n",
              "        async function convertToInteractive(key) {\n",
              "          const element = document.querySelector('#df-c3c0f9cc-e43b-450b-b804-cf23b7143fba');\n",
              "          const dataTable =\n",
              "            await google.colab.kernel.invokeFunction('convertToInteractive',\n",
              "                                                     [key], {});\n",
              "          if (!dataTable) return;\n",
              "\n",
              "          const docLinkHtml = 'Like what you see? Visit the ' +\n",
              "            '<a target=\"_blank\" href=https://colab.research.google.com/notebooks/data_table.ipynb>data table notebook</a>'\n",
              "            + ' to learn more about interactive tables.';\n",
              "          element.innerHTML = '';\n",
              "          dataTable['output_type'] = 'display_data';\n",
              "          await google.colab.output.renderOutput(dataTable, element);\n",
              "          const docLink = document.createElement('div');\n",
              "          docLink.innerHTML = docLinkHtml;\n",
              "          element.appendChild(docLink);\n",
              "        }\n",
              "      </script>\n",
              "    </div>\n",
              "  </div>\n",
              "  "
            ]
          },
          "metadata": {},
          "execution_count": 7
        }
      ]
    },
    {
      "cell_type": "markdown",
      "source": [
        "## We have class inbalance:\n",
        "## 1426 0 - negative\n",
        "## 129 1 - positive"
      ],
      "metadata": {
        "id": "AeliKas_-_0Q"
      }
    },
    {
      "cell_type": "code",
      "source": [
        "dataset.to_csv('final_data.csv', index=False)"
      ],
      "metadata": {
        "id": "dMV3UgMwONTZ"
      },
      "execution_count": null,
      "outputs": []
    },
    {
      "cell_type": "code",
      "source": [
        "dataset = pd.read_csv('final_data.csv')"
      ],
      "metadata": {
        "id": "QsWOcdQ5ycEW"
      },
      "execution_count": null,
      "outputs": []
    },
    {
      "cell_type": "code",
      "source": [
        "import matplotlib.pyplot as plt"
      ],
      "metadata": {
        "id": "hqQFFAk8Z_Hv"
      },
      "execution_count": null,
      "outputs": []
    },
    {
      "cell_type": "code",
      "source": [
        "sns.set_theme(style=\"whitegrid\")\n",
        "sns.set_palette(\"Spectral\")\n",
        "labels = 'Active', \"Not active\"\n",
        "sizes = [sum(dataset['active']),(len(dataset['active']) - sum(dataset['active']))]\n",
        "fig, ax = plt.subplots()\n",
        "ax.pie(sizes, labels=labels)\n",
        "ax.axis('equal') \n",
        "plt.show()"
      ],
      "metadata": {
        "colab": {
          "base_uri": "https://localhost:8080/",
          "height": 248
        },
        "id": "N2KfkbzYYA8u",
        "outputId": "5f133a36-5a33-4e97-9ce1-11d653b433a1"
      },
      "execution_count": null,
      "outputs": [
        {
          "output_type": "display_data",
          "data": {
            "text/plain": [
              "<Figure size 432x288 with 1 Axes>"
            ],
            "image/png": "[encoded data removed]"
          },
          "metadata": {}
        }
      ]
    },
    {
      "cell_type": "code",
      "execution_count": null,
      "metadata": {
        "id": "hlr6-jQ0avRS"
      },
      "outputs": [],
      "source": [
        "def smiles_to_fp(smiles, method=\"maccs\", n_bits=2048):\n",
        "    \"\"\"\n",
        "    Encode a molecule from a SMILES string into a fingerprint.\n",
        "\n",
        "    Parameters\n",
        "    ----------\n",
        "    smiles : str\n",
        "        The SMILES string defining the molecule.\n",
        "\n",
        "    method : str\n",
        "        The type of fingerprint to use. Default is MACCS keys.\n",
        "\n",
        "    n_bits : int\n",
        "        The length of the fingerprint.\n",
        "\n",
        "    Returns\n",
        "    -------\n",
        "    array\n",
        "        The fingerprint array.\n",
        "\n",
        "    \"\"\"\n",
        "\n",
        "    # convert smiles to RDKit mol object\n",
        "    mol = Chem.MolFromSmiles(smiles)\n",
        "\n",
        "    if method == \"maccs\":\n",
        "        return np.array(MACCSkeys.GenMACCSKeys(mol))\n",
        "    if method == \"morgan2\":\n",
        "        return np.array(GetMorganFingerprintAsBitVect(mol, 2, nBits=n_bits))\n",
        "    if method == \"morgan3\":\n",
        "        return np.array(GetMorganFingerprintAsBitVect(mol, 3, nBits=n_bits))\n",
        "    else:\n",
        "        # NBVAL_CHECK_OUTPUT\n",
        "        print(f\"Warning: Wrong method specified: {method}. Default will be used instead.\")\n",
        "        return np.array(MACCSkeys.GenMACCSKeys(mol))"
      ]
    },
    {
      "cell_type": "code",
      "execution_count": null,
      "metadata": {
        "id": "bzDXWShDavUS"
      },
      "outputs": [],
      "source": [
        "compound_df = dataset.copy()"
      ]
    },
    {
      "cell_type": "code",
      "source": [
        "# Add column for fingerprint\n",
        "compound_df[\"fp\"] = compound_df[\"smiles\"].apply(smiles_to_fp)\n",
        "compound_df.head(3)"
      ],
      "metadata": {
        "colab": {
          "base_uri": "https://localhost:8080/",
          "height": 143
        },
        "id": "LKn1A5dPJqDJ",
        "outputId": "c8887aa0-fe3a-46d9-af28-35338d5c3972"
      },
      "execution_count": null,
      "outputs": [
        {
          "output_type": "execute_result",
          "data": {
            "text/plain": [
              "  molecule_chembl_id                                             smiles  \\\n",
              "0          CHEMBL567           OCCN1CCN(CCCN2c3ccccc3Sc3ccc(Cl)cc32)CC1   \n",
              "1      CHEMBL3885419  CC(C)(C)[C@]1(O)CCN2C[C@@H]3c4ccccc4CCc4cccc(c...   \n",
              "2         CHEMBL8514  CC(C)(C)[C@]1(O)CCN2C[C@H]3c4ccccc4CCc4cccc(c4...   \n",
              "\n",
              "   active                                                 fp  \n",
              "0     1.0  [0, 0, 0, 0, 0, 0, 0, 0, 0, 0, 0, 0, 0, 0, 0, ...  \n",
              "1     1.0  [0, 0, 0, 0, 0, 0, 0, 0, 0, 0, 0, 0, 0, 0, 0, ...  \n",
              "2     1.0  [0, 0, 0, 0, 0, 0, 0, 0, 0, 0, 0, 0, 0, 0, 0, ...  "
            ],
            "text/html": [
              "\n",
              "  <div id=\"df-70cd2a6e-643b-42d4-b0d8-0846b84b260b\">\n",
              "    <div class=\"colab-df-container\">\n",
              "      <div>\n",
              "<style scoped>\n",
              "    .dataframe tbody tr th:only-of-type {\n",
              "        vertical-align: middle;\n",
              "    }\n",
              "\n",
              "    .dataframe tbody tr th {\n",
              "        vertical-align: top;\n",
              "    }\n",
              "\n",
              "    .dataframe thead th {\n",
              "        text-align: right;\n",
              "    }\n",
              "</style>\n",
              "<table border=\"1\" class=\"dataframe\">\n",
              "  <thead>\n",
              "    <tr style=\"text-align: right;\">\n",
              "      <th></th>\n",
              "      <th>molecule_chembl_id</th>\n",
              "      <th>smiles</th>\n",
              "      <th>active</th>\n",
              "      <th>fp</th>\n",
              "    </tr>\n",
              "  </thead>\n",
              "  <tbody>\n",
              "    <tr>\n",
              "      <th>0</th>\n",
              "      <td>CHEMBL567</td>\n",
              "      <td>OCCN1CCN(CCCN2c3ccccc3Sc3ccc(Cl)cc32)CC1</td>\n",
              "      <td>1.0</td>\n",
              "      <td>[0, 0, 0, 0, 0, 0, 0, 0, 0, 0, 0, 0, 0, 0, 0, ...</td>\n",
              "    </tr>\n",
              "    <tr>\n",
              "      <th>1</th>\n",
              "      <td>CHEMBL3885419</td>\n",
              "      <td>CC(C)(C)[C@]1(O)CCN2C[C@@H]3c4ccccc4CCc4cccc(c...</td>\n",
              "      <td>1.0</td>\n",
              "      <td>[0, 0, 0, 0, 0, 0, 0, 0, 0, 0, 0, 0, 0, 0, 0, ...</td>\n",
              "    </tr>\n",
              "    <tr>\n",
              "      <th>2</th>\n",
              "      <td>CHEMBL8514</td>\n",
              "      <td>CC(C)(C)[C@]1(O)CCN2C[C@H]3c4ccccc4CCc4cccc(c4...</td>\n",
              "      <td>1.0</td>\n",
              "      <td>[0, 0, 0, 0, 0, 0, 0, 0, 0, 0, 0, 0, 0, 0, 0, ...</td>\n",
              "    </tr>\n",
              "  </tbody>\n",
              "</table>\n",
              "</div>\n",
              "      <button class=\"colab-df-convert\" onclick=\"convertToInteractive('df-70cd2a6e-643b-42d4-b0d8-0846b84b260b')\"\n",
              "              title=\"Convert this dataframe to an interactive table.\"\n",
              "              style=\"display:none;\">\n",
              "        \n",
              "  <svg xmlns=\"http://www.w3.org/2000/svg\" height=\"24px\"viewBox=\"0 0 24 24\"\n",
              "       width=\"24px\">\n",
              "    <path d=\"M0 0h24v24H0V0z\" fill=\"none\"/>\n",
              "    <path d=\"M18.56 5.44l.94 2.06.94-2.06 2.06-.94-2.06-.94-.94-2.06-.94 2.06-2.06.94zm-11 1L8.5 8.5l.94-2.06 2.06-.94-2.06-.94L8.5 2.5l-.94 2.06-2.06.94zm10 10l.94 2.06.94-2.06 2.06-.94-2.06-.94-.94-2.06-.94 2.06-2.06.94z\"/><path d=\"M17.41 7.96l-1.37-1.37c-.4-.4-.92-.59-1.43-.59-.52 0-1.04.2-1.43.59L10.3 9.45l-7.72 7.72c-.78.78-.78 2.05 0 2.83L4 21.41c.39.39.9.59 1.41.59.51 0 1.02-.2 1.41-.59l7.78-7.78 2.81-2.81c.8-.78.8-2.07 0-2.86zM5.41 20L4 18.59l7.72-7.72 1.47 1.35L5.41 20z\"/>\n",
              "  </svg>\n",
              "      </button>\n",
              "      \n",
              "  <style>\n",
              "    .colab-df-container {\n",
              "      display:flex;\n",
              "      flex-wrap:wrap;\n",
              "      gap: 12px;\n",
              "    }\n",
              "\n",
              "    .colab-df-convert {\n",
              "      background-color: #E8F0FE;\n",
              "      border: none;\n",
              "      border-radius: 50%;\n",
              "      cursor: pointer;\n",
              "      display: none;\n",
              "      fill: #1967D2;\n",
              "      height: 32px;\n",
              "      padding: 0 0 0 0;\n",
              "      width: 32px;\n",
              "    }\n",
              "\n",
              "    .colab-df-convert:hover {\n",
              "      background-color: #E2EBFA;\n",
              "      box-shadow: 0px 1px 2px rgba(60, 64, 67, 0.3), 0px 1px 3px 1px rgba(60, 64, 67, 0.15);\n",
              "      fill: #174EA6;\n",
              "    }\n",
              "\n",
              "    [theme=dark] .colab-df-convert {\n",
              "      background-color: #3B4455;\n",
              "      fill: #D2E3FC;\n",
              "    }\n",
              "\n",
              "    [theme=dark] .colab-df-convert:hover {\n",
              "      background-color: #434B5C;\n",
              "      box-shadow: 0px 1px 3px 1px rgba(0, 0, 0, 0.15);\n",
              "      filter: drop-shadow(0px 1px 2px rgba(0, 0, 0, 0.3));\n",
              "      fill: #FFFFFF;\n",
              "    }\n",
              "  </style>\n",
              "\n",
              "      <script>\n",
              "        const buttonEl =\n",
              "          document.querySelector('#df-70cd2a6e-643b-42d4-b0d8-0846b84b260b button.colab-df-convert');\n",
              "        buttonEl.style.display =\n",
              "          google.colab.kernel.accessAllowed ? 'block' : 'none';\n",
              "\n",
              "        async function convertToInteractive(key) {\n",
              "          const element = document.querySelector('#df-70cd2a6e-643b-42d4-b0d8-0846b84b260b');\n",
              "          const dataTable =\n",
              "            await google.colab.kernel.invokeFunction('convertToInteractive',\n",
              "                                                     [key], {});\n",
              "          if (!dataTable) return;\n",
              "\n",
              "          const docLinkHtml = 'Like what you see? Visit the ' +\n",
              "            '<a target=\"_blank\" href=https://colab.research.google.com/notebooks/data_table.ipynb>data table notebook</a>'\n",
              "            + ' to learn more about interactive tables.';\n",
              "          element.innerHTML = '';\n",
              "          dataTable['output_type'] = 'display_data';\n",
              "          await google.colab.output.renderOutput(dataTable, element);\n",
              "          const docLink = document.createElement('div');\n",
              "          docLink.innerHTML = docLinkHtml;\n",
              "          element.appendChild(docLink);\n",
              "        }\n",
              "      </script>\n",
              "    </div>\n",
              "  </div>\n",
              "  "
            ]
          },
          "metadata": {},
          "execution_count": 33
        }
      ]
    },
    {
      "cell_type": "markdown",
      "source": [
        "### Helper functions"
      ],
      "metadata": {
        "id": "MhxGJLnPTppN"
      }
    },
    {
      "cell_type": "code",
      "source": [
        "def plot_roc_curves_for_models(models, test_x, test_y, save_png=False):\n",
        "    \"\"\"\n",
        "    Helper function to plot customized roc curve.\n",
        "\n",
        "    Parameters\n",
        "    ----------\n",
        "    models: dict\n",
        "        Dictionary of pretrained machine learning models.\n",
        "    test_x: list\n",
        "        Molecular fingerprints for test set.\n",
        "    test_y: list\n",
        "        Associated activity labels for test set.\n",
        "    save_png: bool\n",
        "        Save image to disk (default = False)\n",
        "\n",
        "    Returns\n",
        "    -------\n",
        "    fig:\n",
        "        Figure.\n",
        "    \"\"\"\n",
        "\n",
        "    fig, ax = plt.subplots()\n",
        "\n",
        "    # Below for loop iterates through your models list\n",
        "    for model in models:\n",
        "        # Select the model\n",
        "        ml_model = model[\"model\"]\n",
        "        # Prediction probability on test set\n",
        "        test_prob = ml_model.predict_proba(test_x)[:, 1]\n",
        "        # Prediction class on test set\n",
        "        test_pred = ml_model.predict(test_x)\n",
        "        # Compute False postive rate and True positive rate\n",
        "        fpr, tpr, thresholds = metrics.roc_curve(test_y, test_prob)\n",
        "        # Calculate Area under the curve to display on the plot\n",
        "        auc = roc_auc_score(test_y, test_prob)\n",
        "        # Plot the computed values\n",
        "        ax.plot(fpr, tpr, label=(f\"{model['label']} AUC area = {auc:.2f}\"))\n",
        "\n",
        "    # Custom settings for the plot\n",
        "    ax.plot([0, 1], [0, 1], \"r--\")\n",
        "    ax.set_xlabel(\"False Positive Rate\")\n",
        "    ax.set_ylabel(\"True Positive Rate\")\n",
        "    ax.set_title(\"Receiver Operating Characteristic\")\n",
        "    ax.legend(loc=\"lower right\")\n",
        "    # Save plot\n",
        "    if save_png:\n",
        "        fig.savefig(f\"roc_auc\", dpi=300, bbox_inches=\"tight\", transparent=True)\n",
        "    return fig"
      ],
      "metadata": {
        "id": "zjrDTmPWJqF6"
      },
      "execution_count": null,
      "outputs": []
    },
    {
      "cell_type": "code",
      "source": [
        "def model_performance(ml_model, test_x, test_y, verbose=True):\n",
        "    \"\"\"\n",
        "    Helper function to calculate model performance\n",
        "\n",
        "    Parameters\n",
        "    ----------\n",
        "    ml_model: sklearn model object\n",
        "        The machine learning model to train.\n",
        "    test_x: list\n",
        "        Molecular fingerprints for test set.\n",
        "    test_y: list\n",
        "        Associated activity labels for test set.\n",
        "    verbose: bool\n",
        "        Print performance measure (default = True)\n",
        "\n",
        "    Returns\n",
        "    -------\n",
        "    tuple:\n",
        "        Accuracy, sensitivity, specificity, auc on test set.\n",
        "    \"\"\"\n",
        "\n",
        "    # Prediction probability on test set\n",
        "    test_prob = ml_model.predict_proba(test_x)[:, 1]\n",
        "\n",
        "    # Prediction class on test set\n",
        "    test_pred = ml_model.predict(test_x)\n",
        "\n",
        "    # Performance of model on test set\n",
        "    accuracy = accuracy_score(test_y, test_pred)\n",
        "    sens = recall_score(test_y, test_pred)\n",
        "    spec = recall_score(test_y, test_pred, pos_label=0)\n",
        "    auc = roc_auc_score(test_y, test_prob)\n",
        "\n",
        "    if verbose:\n",
        "        # Print performance results\n",
        "        # NBVAL_CHECK_OUTPUT        print(f\"Accuracy: {accuracy:.2}\")\n",
        "        print(f\"Sensitivity: {sens:.2f}\")\n",
        "        print(f\"Specificity: {spec:.2f}\")\n",
        "        print(f\"AUC: {auc:.2f}\")\n",
        "\n",
        "    return accuracy, sens, spec, auc"
      ],
      "metadata": {
        "id": "zytAapTQJqI5"
      },
      "execution_count": null,
      "outputs": []
    },
    {
      "cell_type": "code",
      "source": [
        "def model_training_and_validation(ml_model, name, splits, verbose=True):\n",
        "    \"\"\"\n",
        "    Fit a machine learning model on a random train-test split of the data\n",
        "    and return the performance measures.\n",
        "\n",
        "    Parameters\n",
        "    ----------\n",
        "    ml_model: sklearn model object\n",
        "        The machine learning model to train.\n",
        "    name: str\n",
        "        Name of machine learning algorithm: RF, SVM, ANN\n",
        "    splits: list\n",
        "        List of desciptor and label data: train_x, test_x, train_y, test_y.\n",
        "    verbose: bool\n",
        "        Print performance info (default = True)\n",
        "o for ROC AUC\n",
        "    Returns\n",
        "    -------\n",
        "    tuple:\n",
        "        Accuracy, sensitivity, specificity, auc on test set.\n",
        "\n",
        "    \"\"\"\n",
        "    train_x, test_x, train_y, test_y = splits\n",
        "\n",
        "    # Fit the model\n",
        "    ml_model.fit(train_x, train_y)\n",
        "\n",
        "    # Calculate model performance results\n",
        "    accuracy, sens, spec, auc = model_performance(ml_model, test_x, test_y, verbose)\n",
        "\n",
        "    return accuracy, sens, spec, auc"
      ],
      "metadata": {
        "id": "5Iur1PDOJqLL"
      },
      "execution_count": null,
      "outputs": []
    },
    {
      "cell_type": "code",
      "source": [
        ""
      ],
      "metadata": {
        "id": "36OSRKtElmsi"
      },
      "execution_count": null,
      "outputs": []
    },
    {
      "cell_type": "code",
      "source": [
        "fingerprint_to_model = compound_df.fp.tolist()\n",
        "label_to_model = compound_df.active.tolist()\n",
        "\n",
        "# Split data randomly in train and test set (stratified split)\n",
        "# note that we use test/train_x for the respective fingerprint splits\n",
        "# and test/train_y for the respective label splits\n",
        "(\n",
        "    static_train_x,\n",
        "    static_test_x,\n",
        "    static_train_y,\n",
        "    static_test_y,\n",
        ") = train_test_split(fingerprint_to_model, label_to_model, test_size=0.2, stratify=label_to_model, random_state=7)\n",
        "splits = [static_train_x, static_test_x, static_train_y, static_test_y]\n",
        "\n",
        "print(\"Training data size:\", len(static_train_x))\n",
        "print(\"Test data size:\", len(static_test_x))"
      ],
      "metadata": {
        "colab": {
          "base_uri": "https://localhost:8080/"
        },
        "id": "hFVlv3DyJqcA",
        "outputId": "8592986f-e9ca-46a3-ad66-384461c80bbf"
      },
      "execution_count": null,
      "outputs": [
        {
          "output_type": "stream",
          "name": "stdout",
          "text": [
            "Training data size: 1244\n",
            "Test data size: 311\n"
          ]
        }
      ]
    },
    {
      "cell_type": "code",
      "source": [
        "param = {\n",
        "    \"n_estimators\": 100,  # number of trees to grows\n",
        "    \"criterion\": \"entropy\",  # cost function to be optimized for a split\n",
        "}\n",
        "model_RF = RandomForestClassifier(**param)"
      ],
      "metadata": {
        "id": "QvS6xFAqJqek"
      },
      "execution_count": null,
      "outputs": []
    },
    {
      "cell_type": "code",
      "source": [
        "performance_measures = model_training_and_validation(model_RF, \"RF\", splits)"
      ],
      "metadata": {
        "colab": {
          "base_uri": "https://localhost:8080/"
        },
        "id": "GZgA4gOaJqg6",
        "outputId": "1eb1ec5c-177c-4a68-ed9c-4f005cae3727"
      },
      "execution_count": null,
      "outputs": [
        {
          "output_type": "stream",
          "name": "stdout",
          "text": [
            "Sensitivity: 0.62\n",
            "Specificity: 0.99\n",
            "AUC: 0.94\n"
          ]
        }
      ]
    },
    {
      "cell_type": "code",
      "source": [
        "models = [{\"label\": \"Model_RF\", \"model\": model_RF}]\n",
        "# Plot roc curve\n",
        "plot_roc_curves_for_models(models, static_test_x, static_test_y);"
      ],
      "metadata": {
        "colab": {
          "base_uri": "https://localhost:8080/",
          "height": 295
        },
        "id": "n8Fp485DmMiM",
        "outputId": "be81605d-9431-4ccb-b0f1-d6c06dfa74d5"
      },
      "execution_count": null,
      "outputs": [
        {
          "output_type": "display_data",
          "data": {
            "text/plain": [
              "<Figure size 432x288 with 1 Axes>"
            ],
            "image/png": "[encoded data removed]"
          },
          "metadata": {
            "needs_background": "light"
          }
        }
      ]
    },
    {
      "cell_type": "code",
      "source": [
        "model_SVM = svm.SVC(kernel=\"rbf\", C=1, gamma=0.1, probability=True)\n",
        "\n",
        "# Fit model on single split\n",
        "performance_measures = model_training_and_validation(model_SVM, \"SVM\", splits)"
      ],
      "metadata": {
        "colab": {
          "base_uri": "https://localhost:8080/"
        },
        "id": "CELt19OqmMkM",
        "outputId": "311a2003-eb6b-48e8-ca80-871b53459f2b"
      },
      "execution_count": null,
      "outputs": [
        {
          "output_type": "stream",
          "name": "stdout",
          "text": [
            "Sensitivity: 0.58\n",
            "Specificity: 0.99\n",
            "AUC: 0.95\n"
          ]
        }
      ]
    },
    {
      "cell_type": "code",
      "source": [
        "models.append({\"label\": \"Model_SVM\", \"model\": model_SVM})\n",
        "# Plot roc curve\n",
        "plot_roc_curves_for_models(models, static_test_x, static_test_y);"
      ],
      "metadata": {
        "colab": {
          "base_uri": "https://localhost:8080/",
          "height": 295
        },
        "id": "4KsaNPAymMmT",
        "outputId": "5ef519d1-c310-437c-e243-a5cfa1c9d502"
      },
      "execution_count": null,
      "outputs": [
        {
          "output_type": "display_data",
          "data": {
            "text/plain": [
              "<Figure size 432x288 with 1 Axes>"
            ],
            "image/png": "[encoded data removed]"
          },
          "metadata": {
            "needs_background": "light"
          }
        }
      ]
    },
    {
      "cell_type": "code",
      "source": [
        "# Specify model\n",
        "model_ANN = MLPClassifier(hidden_layer_sizes=(5, 3), random_state=7)\n",
        "\n",
        "# Fit model on single split\n",
        "performance_measures = model_training_and_validation(model_ANN, \"ANN\", splits)"
      ],
      "metadata": {
        "colab": {
          "base_uri": "https://localhost:8080/"
        },
        "id": "OZ1S9HB9mMoo",
        "outputId": "6da99089-0d8a-430e-fa9c-7a24614e4714"
      },
      "execution_count": null,
      "outputs": [
        {
          "output_type": "stream",
          "name": "stdout",
          "text": [
            "Sensitivity: 0.54\n",
            "Specificity: 0.99\n",
            "AUC: 0.93\n"
          ]
        },
        {
          "output_type": "stream",
          "name": "stderr",
          "text": [
            "/usr/local/lib/python3.7/dist-packages/sklearn/neural_network/_multilayer_perceptron.py:696: ConvergenceWarning: Stochastic Optimizer: Maximum iterations (200) reached and the optimization hasn't converged yet.\n",
            "  ConvergenceWarning,\n"
          ]
        }
      ]
    },
    {
      "cell_type": "code",
      "source": [
        "# Append ANN model\n",
        "models.append({\"label\": \"Model_ANN\", \"model\": model_ANN})\n",
        "# Plot roc curve\n",
        "plot_roc_curves_for_models(models, static_test_x, static_test_y, True);"
      ],
      "metadata": {
        "colab": {
          "base_uri": "https://localhost:8080/",
          "height": 295
        },
        "id": "YiYJITltmMrp",
        "outputId": "e0bf9842-b896-47cd-c909-28faa271e363"
      },
      "execution_count": null,
      "outputs": [
        {
          "output_type": "display_data",
          "data": {
            "text/plain": [
              "<Figure size 432x288 with 1 Axes>"
            ],
            "image/png": "[encoded data removed]"
          },
          "metadata": {
            "needs_background": "light"
          }
        }
      ]
    },
    {
      "cell_type": "markdown",
      "source": [
        "## CV"
      ],
      "metadata": {
        "id": "cj5c7yVe1Itc"
      }
    },
    {
      "cell_type": "code",
      "source": [
        "def crossvalidation(ml_model, df, n_folds=5, verbose=False):\n",
        "    \"\"\"\n",
        "    Machine learning model training and validation in a cross-validation loop.\n",
        "\n",
        "    Parameters\n",
        "    ----------\n",
        "    ml_model: sklearn model object\n",
        "        The machine learning model to train.\n",
        "    df: pd.DataFrame\n",
        "        Data set with SMILES and their associated activity labels.\n",
        "    n_folds: int, optional\n",
        "        Number of folds for cross-validation.\n",
        "    verbose: bool, optional\n",
        "        Performance measures are printed.\n",
        "\n",
        "    Returns\n",
        "    -------\n",
        "    None\n",
        "\n",
        "    \"\"\"\n",
        "    t0 = time.time()\n",
        "    # Shuffle the indices for the k-fold cross-validation\n",
        "    kf = KFold(n_splits=n_folds, shuffle=True, random_state=7)\n",
        "\n",
        "    # Results for each of the cross-validation folds\n",
        "    acc_per_fold = []\n",
        "    sens_per_fold = []\n",
        "    spec_per_fold = []\n",
        "    auc_per_fold = []\n",
        "\n",
        "    # Loop over the folds\n",
        "    for train_index, test_index in kf.split(df):\n",
        "        # clone model -- we want a fresh copy per fold!\n",
        "        fold_model = clone(ml_model)\n",
        "        # Training\n",
        "\n",
        "        # Convert the fingerprint and the label to a list\n",
        "        train_x = df.iloc[train_index].fp.tolist()\n",
        "        train_y = df.iloc[train_index].active.tolist()\n",
        "\n",
        "        # Fit the model\n",
        "        fold_model.fit(train_x, train_y)\n",
        "\n",
        "        # Testing\n",
        "\n",
        "        # Convert the fingerprint and the label to a list\n",
        "        test_x = df.iloc[test_index].fp.tolist()\n",
        "        test_y = df.iloc[test_index].active.tolist()\n",
        "\n",
        "        # Performance for each fold\n",
        "        accuracy, sens, spec, auc = model_performance(fold_model, test_x, test_y, verbose)\n",
        "\n",
        "        # Save results\n",
        "        acc_per_fold.append(accuracy)\n",
        "        sens_per_fold.append(sens)\n",
        "        spec_per_fold.append(spec)\n",
        "        auc_per_fold.append(auc)\n",
        "\n",
        "    # Print statistics of results\n",
        "    print(\n",
        "        f\"Mean accuracy: {np.mean(acc_per_fold):.2f} \\t\"\n",
        "        f\"and std : {np.std(acc_per_fold):.2f} \\n\"\n",
        "        f\"Mean sensitivity: {np.mean(sens_per_fold):.2f} \\t\"\n",
        "        f\"and std : {np.std(sens_per_fold):.2f} \\n\"\n",
        "        f\"Mean specificity: {np.mean(spec_per_fold):.2f} \\t\"\n",
        "        f\"and std : {np.std(spec_per_fold):.2f} \\n\"\n",
        "        f\"Mean AUC: {np.mean(auc_per_fold):.2f} \\t\"\n",
        "        f\"and std : {np.std(auc_per_fold):.2f} \\n\"\n",
        "        f\"Time taken : {time.time() - t0:.2f}s\\n\"\n",
        "    )\n",
        "\n",
        "    return acc_per_fold, sens_per_fold, spec_per_fold, auc_per_fold"
      ],
      "metadata": {
        "id": "D6Un4PYBmMt_"
      },
      "execution_count": null,
      "outputs": []
    },
    {
      "cell_type": "code",
      "source": [
        "N_FOLDS = 5"
      ],
      "metadata": {
        "id": "vxLDTJrj1Lfq"
      },
      "execution_count": null,
      "outputs": []
    },
    {
      "cell_type": "code",
      "source": [
        "for model in models:\n",
        "    print(\"\\n======= \")\n",
        "    print(f\"{model['label']}\")\n",
        "    crossvalidation(model[\"model\"], compound_df, n_folds=N_FOLDS)"
      ],
      "metadata": {
        "colab": {
          "base_uri": "https://localhost:8080/"
        },
        "id": "1IzJLHPU1Lhu",
        "outputId": "5f48e9dc-d07a-4fa8-e72f-b82e0d0ae122"
      },
      "execution_count": null,
      "outputs": [
        {
          "output_type": "stream",
          "name": "stdout",
          "text": [
            "\n",
            "======= \n",
            "Model_RF\n",
            "Mean accuracy: 0.96 \tand std : 0.01 \n",
            "Mean sensitivity: 0.58 \tand std : 0.05 \n",
            "Mean specificity: 0.99 \tand std : 0.01 \n",
            "Mean AUC: 0.96 \tand std : 0.01 \n",
            "Time taken : 1.34s\n",
            "\n",
            "\n",
            "======= \n",
            "Model_SVM\n",
            "Mean accuracy: 0.95 \tand std : 0.01 \n",
            "Mean sensitivity: 0.50 \tand std : 0.06 \n",
            "Mean specificity: 0.99 \tand std : 0.01 \n",
            "Mean AUC: 0.95 \tand std : 0.04 \n",
            "Time taken : 2.92s\n",
            "\n",
            "\n",
            "======= \n",
            "Model_ANN\n"
          ]
        },
        {
          "output_type": "stream",
          "name": "stderr",
          "text": [
            "/usr/local/lib/python3.7/dist-packages/sklearn/neural_network/_multilayer_perceptron.py:696: ConvergenceWarning: Stochastic Optimizer: Maximum iterations (200) reached and the optimization hasn't converged yet.\n",
            "  ConvergenceWarning,\n",
            "/usr/local/lib/python3.7/dist-packages/sklearn/neural_network/_multilayer_perceptron.py:696: ConvergenceWarning: Stochastic Optimizer: Maximum iterations (200) reached and the optimization hasn't converged yet.\n",
            "  ConvergenceWarning,\n",
            "/usr/local/lib/python3.7/dist-packages/sklearn/neural_network/_multilayer_perceptron.py:696: ConvergenceWarning: Stochastic Optimizer: Maximum iterations (200) reached and the optimization hasn't converged yet.\n",
            "  ConvergenceWarning,\n",
            "/usr/local/lib/python3.7/dist-packages/sklearn/neural_network/_multilayer_perceptron.py:696: ConvergenceWarning: Stochastic Optimizer: Maximum iterations (200) reached and the optimization hasn't converged yet.\n",
            "  ConvergenceWarning,\n"
          ]
        },
        {
          "output_type": "stream",
          "name": "stdout",
          "text": [
            "Mean accuracy: 0.94 \tand std : 0.01 \n",
            "Mean sensitivity: 0.47 \tand std : 0.13 \n",
            "Mean specificity: 0.98 \tand std : 0.01 \n",
            "Mean AUC: 0.93 \tand std : 0.03 \n",
            "Time taken : 5.35s\n",
            "\n"
          ]
        },
        {
          "output_type": "stream",
          "name": "stderr",
          "text": [
            "/usr/local/lib/python3.7/dist-packages/sklearn/neural_network/_multilayer_perceptron.py:696: ConvergenceWarning: Stochastic Optimizer: Maximum iterations (200) reached and the optimization hasn't converged yet.\n",
            "  ConvergenceWarning,\n"
          ]
        }
      ]
    },
    {
      "cell_type": "markdown",
      "source": [
        "## Let's compare with cross-validation performance for molecules encoded using Morgan fingerprint and not MACCS keys."
      ],
      "metadata": {
        "id": "dlmwvEgR56st"
      }
    },
    {
      "cell_type": "code",
      "source": [
        "# Reset data frame\n",
        "compound_df = dataset.copy()"
      ],
      "metadata": {
        "id": "qrHVmsEG1LkA"
      },
      "execution_count": null,
      "outputs": []
    },
    {
      "cell_type": "code",
      "source": [
        "# Use Morgan fingerprint with radius 3\n",
        "compound_df[\"fp\"] = compound_df[\"smiles\"].apply(smiles_to_fp, args=(\"morgan3\",))\n",
        "compound_df.head(3)\n",
        "# NBVAL_CHECK_OUTPUT"
      ],
      "metadata": {
        "colab": {
          "base_uri": "https://localhost:8080/",
          "height": 143
        },
        "id": "qA73JbXl6Cqq",
        "outputId": "5bb30158-3b9b-44b7-ee3f-147e5fd1ee95"
      },
      "execution_count": null,
      "outputs": [
        {
          "output_type": "execute_result",
          "data": {
            "text/plain": [
              "  molecule_chembl_id                                             smiles  \\\n",
              "0          CHEMBL567           OCCN1CCN(CCCN2c3ccccc3Sc3ccc(Cl)cc32)CC1   \n",
              "1      CHEMBL3885419  CC(C)(C)[C@]1(O)CCN2C[C@@H]3c4ccccc4CCc4cccc(c...   \n",
              "2         CHEMBL8514  CC(C)(C)[C@]1(O)CCN2C[C@H]3c4ccccc4CCc4cccc(c4...   \n",
              "\n",
              "   active                                                 fp  \n",
              "0     1.0  [0, 0, 0, 0, 1, 0, 0, 0, 0, 0, 0, 0, 0, 0, 0, ...  \n",
              "1     1.0  [0, 0, 0, 0, 0, 0, 0, 0, 0, 0, 0, 0, 0, 0, 0, ...  \n",
              "2     1.0  [0, 0, 0, 0, 0, 0, 0, 0, 0, 0, 0, 0, 0, 0, 0, ...  "
            ],
            "text/html": [
              "\n",
              "  <div id=\"df-98b21568-12f0-4edc-abb7-27d7faf4fa68\">\n",
              "    <div class=\"colab-df-container\">\n",
              "      <div>\n",
              "<style scoped>\n",
              "    .dataframe tbody tr th:only-of-type {\n",
              "        vertical-align: middle;\n",
              "    }\n",
              "\n",
              "    .dataframe tbody tr th {\n",
              "        vertical-align: top;\n",
              "    }\n",
              "\n",
              "    .dataframe thead th {\n",
              "        text-align: right;\n",
              "    }\n",
              "</style>\n",
              "<table border=\"1\" class=\"dataframe\">\n",
              "  <thead>\n",
              "    <tr style=\"text-align: right;\">\n",
              "      <th></th>\n",
              "      <th>molecule_chembl_id</th>\n",
              "      <th>smiles</th>\n",
              "      <th>active</th>\n",
              "      <th>fp</th>\n",
              "    </tr>\n",
              "  </thead>\n",
              "  <tbody>\n",
              "    <tr>\n",
              "      <th>0</th>\n",
              "      <td>CHEMBL567</td>\n",
              "      <td>OCCN1CCN(CCCN2c3ccccc3Sc3ccc(Cl)cc32)CC1</td>\n",
              "      <td>1.0</td>\n",
              "      <td>[0, 0, 0, 0, 1, 0, 0, 0, 0, 0, 0, 0, 0, 0, 0, ...</td>\n",
              "    </tr>\n",
              "    <tr>\n",
              "      <th>1</th>\n",
              "      <td>CHEMBL3885419</td>\n",
              "      <td>CC(C)(C)[C@]1(O)CCN2C[C@@H]3c4ccccc4CCc4cccc(c...</td>\n",
              "      <td>1.0</td>\n",
              "      <td>[0, 0, 0, 0, 0, 0, 0, 0, 0, 0, 0, 0, 0, 0, 0, ...</td>\n",
              "    </tr>\n",
              "    <tr>\n",
              "      <th>2</th>\n",
              "      <td>CHEMBL8514</td>\n",
              "      <td>CC(C)(C)[C@]1(O)CCN2C[C@H]3c4ccccc4CCc4cccc(c4...</td>\n",
              "      <td>1.0</td>\n",
              "      <td>[0, 0, 0, 0, 0, 0, 0, 0, 0, 0, 0, 0, 0, 0, 0, ...</td>\n",
              "    </tr>\n",
              "  </tbody>\n",
              "</table>\n",
              "</div>\n",
              "      <button class=\"colab-df-convert\" onclick=\"convertToInteractive('df-98b21568-12f0-4edc-abb7-27d7faf4fa68')\"\n",
              "              title=\"Convert this dataframe to an interactive table.\"\n",
              "              style=\"display:none;\">\n",
              "        \n",
              "  <svg xmlns=\"http://www.w3.org/2000/svg\" height=\"24px\"viewBox=\"0 0 24 24\"\n",
              "       width=\"24px\">\n",
              "    <path d=\"M0 0h24v24H0V0z\" fill=\"none\"/>\n",
              "    <path d=\"M18.56 5.44l.94 2.06.94-2.06 2.06-.94-2.06-.94-.94-2.06-.94 2.06-2.06.94zm-11 1L8.5 8.5l.94-2.06 2.06-.94-2.06-.94L8.5 2.5l-.94 2.06-2.06.94zm10 10l.94 2.06.94-2.06 2.06-.94-2.06-.94-.94-2.06-.94 2.06-2.06.94z\"/><path d=\"M17.41 7.96l-1.37-1.37c-.4-.4-.92-.59-1.43-.59-.52 0-1.04.2-1.43.59L10.3 9.45l-7.72 7.72c-.78.78-.78 2.05 0 2.83L4 21.41c.39.39.9.59 1.41.59.51 0 1.02-.2 1.41-.59l7.78-7.78 2.81-2.81c.8-.78.8-2.07 0-2.86zM5.41 20L4 18.59l7.72-7.72 1.47 1.35L5.41 20z\"/>\n",
              "  </svg>\n",
              "      </button>\n",
              "      \n",
              "  <style>\n",
              "    .colab-df-container {\n",
              "      display:flex;\n",
              "      flex-wrap:wrap;\n",
              "      gap: 12px;\n",
              "    }\n",
              "\n",
              "    .colab-df-convert {\n",
              "      background-color: #E8F0FE;\n",
              "      border: none;\n",
              "      border-radius: 50%;\n",
              "      cursor: pointer;\n",
              "      display: none;\n",
              "      fill: #1967D2;\n",
              "      height: 32px;\n",
              "      padding: 0 0 0 0;\n",
              "      width: 32px;\n",
              "    }\n",
              "\n",
              "    .colab-df-convert:hover {\n",
              "      background-color: #E2EBFA;\n",
              "      box-shadow: 0px 1px 2px rgba(60, 64, 67, 0.3), 0px 1px 3px 1px rgba(60, 64, 67, 0.15);\n",
              "      fill: #174EA6;\n",
              "    }\n",
              "\n",
              "    [theme=dark] .colab-df-convert {\n",
              "      background-color: #3B4455;\n",
              "      fill: #D2E3FC;\n",
              "    }\n",
              "\n",
              "    [theme=dark] .colab-df-convert:hover {\n",
              "      background-color: #434B5C;\n",
              "      box-shadow: 0px 1px 3px 1px rgba(0, 0, 0, 0.15);\n",
              "      filter: drop-shadow(0px 1px 2px rgba(0, 0, 0, 0.3));\n",
              "      fill: #FFFFFF;\n",
              "    }\n",
              "  </style>\n",
              "\n",
              "      <script>\n",
              "        const buttonEl =\n",
              "          document.querySelector('#df-98b21568-12f0-4edc-abb7-27d7faf4fa68 button.colab-df-convert');\n",
              "        buttonEl.style.display =\n",
              "          google.colab.kernel.accessAllowed ? 'block' : 'none';\n",
              "\n",
              "        async function convertToInteractive(key) {\n",
              "          const element = document.querySelector('#df-98b21568-12f0-4edc-abb7-27d7faf4fa68');\n",
              "          const dataTable =\n",
              "            await google.colab.kernel.invokeFunction('convertToInteractive',\n",
              "                                                     [key], {});\n",
              "          if (!dataTable) return;\n",
              "\n",
              "          const docLinkHtml = 'Like what you see? Visit the ' +\n",
              "            '<a target=\"_blank\" href=https://colab.research.google.com/notebooks/data_table.ipynb>data table notebook</a>'\n",
              "            + ' to learn more about interactive tables.';\n",
              "          element.innerHTML = '';\n",
              "          dataTable['output_type'] = 'display_data';\n",
              "          await google.colab.output.renderOutput(dataTable, element);\n",
              "          const docLink = document.createElement('div');\n",
              "          docLink.innerHTML = docLinkHtml;\n",
              "          element.appendChild(docLink);\n",
              "        }\n",
              "      </script>\n",
              "    </div>\n",
              "  </div>\n",
              "  "
            ]
          },
          "metadata": {},
          "execution_count": 99
        }
      ]
    },
    {
      "cell_type": "code",
      "source": [
        "for model in models:\n",
        "    if model[\"label\"] == \"Model_SVM\":\n",
        "        # SVM is super slow with long fingerprints\n",
        "        # and will have a performance similar to RF\n",
        "        # We can skip it in this test, but if you want\n",
        "        # to run it, feel free to replace `continue` with `pass`\n",
        "        pass\n",
        "    print(\"\\n=======\")\n",
        "    print(model[\"label\"])\n",
        "    crossvalidation(model[\"model\"], compound_df, n_folds=N_FOLDS)"
      ],
      "metadata": {
        "colab": {
          "base_uri": "https://localhost:8080/"
        },
        "id": "rnWWBxhT6Cvt",
        "outputId": "ba342330-b55e-46f3-a1f9-a7f366c66b0e"
      },
      "execution_count": null,
      "outputs": [
        {
          "output_type": "stream",
          "name": "stdout",
          "text": [
            "\n",
            "=======\n",
            "Model_RF\n",
            "Mean accuracy: 0.96 \tand std : 0.01 \n",
            "Mean sensitivity: 0.58 \tand std : 0.09 \n",
            "Mean specificity: 1.00 \tand std : 0.00 \n",
            "Mean AUC: 0.97 \tand std : 0.02 \n",
            "Time taken : 3.25s\n",
            "\n",
            "\n",
            "=======\n",
            "Model_SVM\n",
            "Mean accuracy: 0.93 \tand std : 0.01 \n",
            "Mean sensitivity: 0.16 \tand std : 0.04 \n",
            "Mean specificity: 1.00 \tand std : 0.00 \n",
            "Mean AUC: 0.97 \tand std : 0.02 \n",
            "Time taken : 65.67s\n",
            "\n",
            "\n",
            "=======\n",
            "Model_ANN\n"
          ]
        },
        {
          "output_type": "stream",
          "name": "stderr",
          "text": [
            "/usr/local/lib/python3.7/dist-packages/sklearn/neural_network/_multilayer_perceptron.py:696: ConvergenceWarning: Stochastic Optimizer: Maximum iterations (200) reached and the optimization hasn't converged yet.\n",
            "  ConvergenceWarning,\n",
            "/usr/local/lib/python3.7/dist-packages/sklearn/neural_network/_multilayer_perceptron.py:696: ConvergenceWarning: Stochastic Optimizer: Maximum iterations (200) reached and the optimization hasn't converged yet.\n",
            "  ConvergenceWarning,\n",
            "/usr/local/lib/python3.7/dist-packages/sklearn/neural_network/_multilayer_perceptron.py:696: ConvergenceWarning: Stochastic Optimizer: Maximum iterations (200) reached and the optimization hasn't converged yet.\n",
            "  ConvergenceWarning,\n",
            "/usr/local/lib/python3.7/dist-packages/sklearn/neural_network/_multilayer_perceptron.py:696: ConvergenceWarning: Stochastic Optimizer: Maximum iterations (200) reached and the optimization hasn't converged yet.\n",
            "  ConvergenceWarning,\n"
          ]
        },
        {
          "output_type": "stream",
          "name": "stdout",
          "text": [
            "Mean accuracy: 0.95 \tand std : 0.01 \n",
            "Mean sensitivity: 0.85 \tand std : 0.07 \n",
            "Mean specificity: 0.96 \tand std : 0.01 \n",
            "Mean AUC: 0.93 \tand std : 0.04 \n",
            "Time taken : 34.21s\n",
            "\n"
          ]
        },
        {
          "output_type": "stream",
          "name": "stderr",
          "text": [
            "/usr/local/lib/python3.7/dist-packages/sklearn/neural_network/_multilayer_perceptron.py:696: ConvergenceWarning: Stochastic Optimizer: Maximum iterations (200) reached and the optimization hasn't converged yet.\n",
            "  ConvergenceWarning,\n"
          ]
        }
      ]
    },
    {
      "cell_type": "markdown",
      "source": [
        "### The best result is for ANN with morgan fingerprints (in terms of sensitivity)\n",
        "\n",
        "### or for RF with morgan fingerprints (in terms of ROC AUC)"
      ],
      "metadata": {
        "id": "7_iKwXEU7BON"
      }
    },
    {
      "cell_type": "markdown",
      "source": [
        "ANN model -  MLPClassifier (Multi-layer Perceptron classifier) with 3 layers, each with 5 neurons (http://scikit-learn.org/stable/modules/generated/sklearn.neural_network.MLPClassifier.html)"
      ],
      "metadata": {
        "id": "5iQU60KV8NrH"
      }
    },
    {
      "cell_type": "markdown",
      "source": [
        "## Let's try to tune these 2 models"
      ],
      "metadata": {
        "id": "hQ1oCh2f9Om0"
      }
    },
    {
      "cell_type": "code",
      "source": [
        "fingerprint_to_model = compound_df.fp.tolist()\n",
        "label_to_model = compound_df.active.tolist()"
      ],
      "metadata": {
        "id": "EdntgcSRDCB7"
      },
      "execution_count": null,
      "outputs": []
    },
    {
      "cell_type": "code",
      "source": [
        "X_train, X_test, y_train, y_test = train_test_split(fingerprint_to_model, label_to_model, test_size=0.2, stratify=label_to_model, random_state=7)"
      ],
      "metadata": {
        "id": "Xxe1SCALCw1U"
      },
      "execution_count": null,
      "outputs": []
    },
    {
      "cell_type": "code",
      "source": [
        "from sklearn.model_selection import GridSearchCV\n",
        "\n",
        "params = {'activation': ['relu', 'logistic', 'identity', 'tanh'],\n",
        "          'hidden_layer_sizes': [(100,), (50,100,), (50,75,100,)],\n",
        "          'learning_rate' : ['constant', 'adaptive', 'invscaling']\n",
        "         }\n",
        "\n",
        "mlp_classif_grid = GridSearchCV(MLPClassifier(random_state=123), param_grid=params, n_jobs=-1, cv=5, verbose=5, scoring='roc_auc')\n",
        "mlp_classif_grid.fit(X_train,y_train)\n",
        "\n",
        "print('Best Parameters : ',mlp_classif_grid.best_params_)"
      ],
      "metadata": {
        "colab": {
          "base_uri": "https://localhost:8080/"
        },
        "id": "8oNsgeSO6Cxg",
        "outputId": "3bec5aca-71ed-4e19-ae9d-c728fc294a94"
      },
      "execution_count": null,
      "outputs": [
        {
          "output_type": "stream",
          "name": "stdout",
          "text": [
            "Fitting 5 folds for each of 36 candidates, totalling 180 fits\n",
            "Best Parameters :  {'activation': 'logistic', 'hidden_layer_sizes': (50, 100), 'learning_rate': 'constant'}\n"
          ]
        }
      ]
    },
    {
      "cell_type": "code",
      "source": [
        "optimal_mlp = mlp_classif_grid.best_estimator_"
      ],
      "metadata": {
        "id": "x8kmRWmqJgrR"
      },
      "execution_count": null,
      "outputs": []
    },
    {
      "cell_type": "code",
      "source": [
        "from sklearn.metrics import confusion_matrix\n",
        "import seaborn as sns\n",
        "\n",
        "predictions = optimal_mlp.predict(X_test)\n",
        "sns.heatmap(confusion_matrix(y_test, predictions), annot=True, cmap=\"Blues\")"
      ],
      "metadata": {
        "colab": {
          "base_uri": "https://localhost:8080/",
          "height": 282
        },
        "id": "z2TPKnlyJBaZ",
        "outputId": "d257b3fd-829e-44a2-aeb1-ff085b5c0611"
      },
      "execution_count": null,
      "outputs": [
        {
          "output_type": "execute_result",
          "data": {
            "text/plain": [
              "<matplotlib.axes._subplots.AxesSubplot at 0x7fea16ca0950>"
            ]
          },
          "metadata": {},
          "execution_count": 49
        },
        {
          "output_type": "display_data",
          "data": {
            "text/plain": [
              "<Figure size 432x288 with 2 Axes>"
            ],
            "image/png": "[encoded data removed]"
          },
          "metadata": {
            "needs_background": "light"
          }
        }
      ]
    },
    {
      "cell_type": "code",
      "source": [
        "models = [{\"label\": \"ANN_adj\", \"model\": optimal_mlp}]\n",
        "# Plot roc curve\n",
        "plot_roc_curves_for_models(models, X_test, y_test);"
      ],
      "metadata": {
        "colab": {
          "base_uri": "https://localhost:8080/",
          "height": 295
        },
        "id": "bcHAtIqMJBmH",
        "outputId": "dd17ed5c-7b80-4c09-b8c7-8bbc89cdedfa"
      },
      "execution_count": null,
      "outputs": [
        {
          "output_type": "display_data",
          "data": {
            "text/plain": [
              "<Figure size 432x288 with 1 Axes>"
            ],
            "image/png": "[encoded data removed]"
          },
          "metadata": {
            "needs_background": "light"
          }
        }
      ]
    },
    {
      "cell_type": "code",
      "source": [
        "from sklearn.metrics import classification_report\n",
        "\n",
        "print(classification_report(y_test, predictions, labels=[0,1]))"
      ],
      "metadata": {
        "colab": {
          "base_uri": "https://localhost:8080/"
        },
        "id": "oFKgnHsdKvQw",
        "outputId": "4aa8e40b-2817-439e-ca5d-108d39881fba"
      },
      "execution_count": null,
      "outputs": [
        {
          "output_type": "stream",
          "name": "stdout",
          "text": [
            "              precision    recall  f1-score   support\n",
            "\n",
            "           0       0.98      1.00      0.99       285\n",
            "           1       0.95      0.81      0.88        26\n",
            "\n",
            "    accuracy                           0.98       311\n",
            "   macro avg       0.97      0.90      0.93       311\n",
            "weighted avg       0.98      0.98      0.98       311\n",
            "\n"
          ]
        }
      ]
    },
    {
      "cell_type": "code",
      "source": [
        "import pickle\n",
        "filename = 'finalized_ANN.sav'\n",
        "pickle.dump(model, open(filename, 'wb'))"
      ],
      "metadata": {
        "id": "UCfnkspUK-Gv"
      },
      "execution_count": null,
      "outputs": []
    },
    {
      "cell_type": "code",
      "source": [
        "random_grid = {'bootstrap': [True, False],\n",
        " 'max_depth': [20, 50, 100],\n",
        " 'max_features': ['auto', 'sqrt'],\n",
        " 'n_estimators': [100, 500, 1000, 1200]}"
      ],
      "metadata": {
        "id": "td4Sff0SK-KO"
      },
      "execution_count": null,
      "outputs": []
    },
    {
      "cell_type": "code",
      "source": [
        "rf = RandomForestClassifier(random_state=123)\n",
        "rf_random = GridSearchCV(estimator = rf, param_grid = random_grid, n_jobs=-1, cv=5, verbose=5, scoring='roc_auc')\n",
        "# Fit the random search model\n",
        "rf_random.fit(X_train, y_train)"
      ],
      "metadata": {
        "colab": {
          "base_uri": "https://localhost:8080/"
        },
        "id": "m0tDMPxEK-Vi",
        "outputId": "e63e658b-9dd6-4d8f-bdda-3a6ad59b31e2"
      },
      "execution_count": null,
      "outputs": [
        {
          "metadata": {
            "tags": null
          },
          "name": "stdout",
          "output_type": "stream",
          "text": [
            "Fitting 5 folds for each of 48 candidates, totalling 240 fits\n"
          ]
        },
        {
          "output_type": "execute_result",
          "data": {
            "text/plain": [
              "GridSearchCV(cv=5, estimator=RandomForestClassifier(random_state=123),\n",
              "             n_jobs=-1,\n",
              "             param_grid={'bootstrap': [True, False], 'max_depth': [20, 50, 100],\n",
              "                         'max_features': ['auto', 'sqrt'],\n",
              "                         'n_estimators': [100, 500, 1000, 1200]},\n",
              "             scoring='roc_auc', verbose=5)"
            ]
          },
          "metadata": {},
          "execution_count": 60
        }
      ]
    },
    {
      "cell_type": "code",
      "source": [
        "optimal_rf = rf_random.best_estimator_\n",
        "optimal_rf"
      ],
      "metadata": {
        "colab": {
          "base_uri": "https://localhost:8080/"
        },
        "id": "HxJmy9XfK-Yb",
        "outputId": "fe64f0da-4488-4538-a056-709846c15977"
      },
      "execution_count": null,
      "outputs": [
        {
          "output_type": "execute_result",
          "data": {
            "text/plain": [
              "RandomForestClassifier(max_depth=20, n_estimators=1000, random_state=123)"
            ]
          },
          "metadata": {},
          "execution_count": 62
        }
      ]
    },
    {
      "cell_type": "code",
      "source": [
        "print('Best Parameters : ',rf_random.best_params_)"
      ],
      "metadata": {
        "colab": {
          "base_uri": "https://localhost:8080/"
        },
        "id": "i4WOWIvuK-a4",
        "outputId": "f94b7ef7-24d2-42e6-8e78-cddbfa2fe251"
      },
      "execution_count": null,
      "outputs": [
        {
          "output_type": "stream",
          "name": "stdout",
          "text": [
            "Best Parameters :  {'bootstrap': True, 'max_depth': 20, 'max_features': 'auto', 'n_estimators': 1000}\n"
          ]
        }
      ]
    },
    {
      "cell_type": "code",
      "source": [
        "predictions = optimal_rf.predict(X_test)\n",
        "sns.heatmap(confusion_matrix(y_test, predictions), annot=True, cmap=\"Blues\")"
      ],
      "metadata": {
        "colab": {
          "base_uri": "https://localhost:8080/",
          "height": 282
        },
        "id": "JB8xzK8lJBo3",
        "outputId": "c9e39859-f8ca-4e48-ee6b-7a13737e406b"
      },
      "execution_count": null,
      "outputs": [
        {
          "output_type": "execute_result",
          "data": {
            "text/plain": [
              "<matplotlib.axes._subplots.AxesSubplot at 0x7fea1628b2d0>"
            ]
          },
          "metadata": {},
          "execution_count": 66
        },
        {
          "output_type": "display_data",
          "data": {
            "text/plain": [
              "<Figure size 432x288 with 2 Axes>"
            ],
            "image/png": "[encoded data removed]"
          },
          "metadata": {
            "needs_background": "light"
          }
        }
      ]
    },
    {
      "cell_type": "code",
      "source": [
        "print(classification_report(y_test, predictions, labels=[0,1]))"
      ],
      "metadata": {
        "colab": {
          "base_uri": "https://localhost:8080/"
        },
        "id": "XnSvMR_SUIW7",
        "outputId": "3e94de46-594f-4e61-e28f-a67b2f524ebd"
      },
      "execution_count": null,
      "outputs": [
        {
          "output_type": "stream",
          "name": "stdout",
          "text": [
            "              precision    recall  f1-score   support\n",
            "\n",
            "           0       0.98      1.00      0.99       285\n",
            "           1       0.95      0.73      0.83        26\n",
            "\n",
            "    accuracy                           0.97       311\n",
            "   macro avg       0.96      0.86      0.91       311\n",
            "weighted avg       0.97      0.97      0.97       311\n",
            "\n"
          ]
        }
      ]
    },
    {
      "cell_type": "code",
      "source": [
        "models.append({\"label\": \"RF_adj\", \"model\": optimal_rf})\n",
        "# Plot roc curve\n",
        "plot_roc_curves_for_models(models, X_test, y_test);"
      ],
      "metadata": {
        "colab": {
          "base_uri": "https://localhost:8080/",
          "height": 295
        },
        "id": "QKbtJLe_UWrd",
        "outputId": "7bf8c374-a97b-40c9-fca4-fe93dc8ecef2"
      },
      "execution_count": null,
      "outputs": [
        {
          "output_type": "display_data",
          "data": {
            "text/plain": [
              "<Figure size 432x288 with 1 Axes>"
            ],
            "image/png": "[encoded data removed]"
          },
          "metadata": {
            "needs_background": "light"
          }
        }
      ]
    },
    {
      "cell_type": "code",
      "source": [
        "filename = 'finalized_RF.sav'\n",
        "pickle.dump(optimal_rf, open(filename, 'wb'))"
      ],
      "metadata": {
        "id": "GmA-YiYoWQdP"
      },
      "execution_count": null,
      "outputs": []
    },
    {
      "cell_type": "markdown",
      "source": [
        "## Some additional scores taking into account the class imbalance"
      ],
      "metadata": {
        "id": "fhuVwi2R_bHL"
      }
    },
    {
      "cell_type": "code",
      "source": [
        "from sklearn.metrics import f1_score, balanced_accuracy_score"
      ],
      "metadata": {
        "id": "4I0f9tkgzY0H"
      },
      "execution_count": null,
      "outputs": []
    },
    {
      "cell_type": "code",
      "source": [
        "test_y_pred = optimal_mlp.predict(X_test)\n",
        "f1_score(y_test, test_y_pred, average='micro')"
      ],
      "metadata": {
        "colab": {
          "base_uri": "https://localhost:8080/"
        },
        "id": "-Z6eNU29X9sz",
        "outputId": "22338cf0-4817-4ca5-e34d-6729fb10df36"
      },
      "execution_count": null,
      "outputs": [
        {
          "output_type": "execute_result",
          "data": {
            "text/plain": [
              "0.9807073954983923"
            ]
          },
          "metadata": {},
          "execution_count": 94
        }
      ]
    },
    {
      "cell_type": "code",
      "source": [
        "balanced_accuracy_score(y_test, test_y_pred)"
      ],
      "metadata": {
        "colab": {
          "base_uri": "https://localhost:8080/"
        },
        "id": "d3XyW4ftX9_u",
        "outputId": "1cb2a494-d7d8-4d74-dbfe-15e6e5bfc197"
      },
      "execution_count": null,
      "outputs": [
        {
          "output_type": "execute_result",
          "data": {
            "text/plain": [
              "0.9020917678812416"
            ]
          },
          "metadata": {},
          "execution_count": 95
        }
      ]
    },
    {
      "cell_type": "code",
      "source": [
        "test_y_pred = optimal_rf.predict(X_test)\n",
        "f1_score(y_test, test_y_pred, average='micro')"
      ],
      "metadata": {
        "colab": {
          "base_uri": "https://localhost:8080/"
        },
        "id": "vIs07tKu0nTo",
        "outputId": "b2f0d456-1cf9-40d6-c507-872766740362"
      },
      "execution_count": null,
      "outputs": [
        {
          "output_type": "execute_result",
          "data": {
            "text/plain": [
              "0.9742765273311897"
            ]
          },
          "metadata": {},
          "execution_count": 96
        }
      ]
    },
    {
      "cell_type": "code",
      "source": [
        "balanced_accuracy_score(y_test, test_y_pred)"
      ],
      "metadata": {
        "colab": {
          "base_uri": "https://localhost:8080/"
        },
        "id": "Fb3aFVgn0nWJ",
        "outputId": "b0070628-6436-451a-d2ca-8b240ff90df5"
      },
      "execution_count": null,
      "outputs": [
        {
          "output_type": "execute_result",
          "data": {
            "text/plain": [
              "0.8636302294197031"
            ]
          },
          "metadata": {},
          "execution_count": 97
        }
      ]
    },
    {
      "cell_type": "code",
      "source": [
        ""
      ],
      "metadata": {
        "id": "mKWSK16UE95w"
      },
      "execution_count": null,
      "outputs": []
    },
    {
      "cell_type": "markdown",
      "source": [
        "## Now let's try more complex featurization"
      ],
      "metadata": {
        "id": "5drAK8uuE-SK"
      }
    },
    {
      "cell_type": "code",
      "source": [
        "!pip install deepchem\n",
        "import deepchem as dc"
      ],
      "metadata": {
        "id": "9z7k78uOz5L7"
      },
      "execution_count": null,
      "outputs": []
    },
    {
      "cell_type": "code",
      "source": [
        "!pip install git+https://github.com/samoturk/mol2vec"
      ],
      "metadata": {
        "colab": {
          "base_uri": "https://localhost:8080/",
          "height": 1000
        },
        "id": "TtAobltA2YHd",
        "outputId": "cdcea2a6-3841-4227-b1bc-7897631ec9d9"
      },
      "execution_count": null,
      "outputs": [
        {
          "output_type": "stream",
          "name": "stdout",
          "text": [
            "Looking in indexes: https://pypi.org/simple, https://us-python.pkg.dev/colab-wheels/public/simple/\n",
            "Collecting git+https://github.com/samoturk/mol2vec\n",
            "  Cloning https://github.com/samoturk/mol2vec to /tmp/pip-req-build-gzz8_v76\n",
            "  Running command git clone -q https://github.com/samoturk/mol2vec /tmp/pip-req-build-gzz8_v76\n",
            "Requirement already satisfied: numpy in /usr/local/lib/python3.7/site-packages (from mol2vec==0.1) (1.21.6)\n",
            "Collecting gensim\n",
            "  Downloading gensim-4.2.0-cp37-cp37m-manylinux_2_12_x86_64.manylinux2010_x86_64.whl (24.1 MB)\n",
            "\u001b[K     |████████████████████████████████| 24.1 MB 75 kB/s \n",
            "\u001b[?25hRequirement already satisfied: tqdm in /usr/local/lib/python3.7/site-packages (from mol2vec==0.1) (4.59.0)\n",
            "Requirement already satisfied: joblib in /usr/local/lib/python3.7/site-packages (from mol2vec==0.1) (1.1.0)\n",
            "Requirement already satisfied: pandas in /usr/local/lib/python3.7/site-packages (from mol2vec==0.1) (1.3.5)\n",
            "Requirement already satisfied: matplotlib in /usr/local/lib/python3.7/site-packages (from mol2vec==0.1) (3.5.2)\n",
            "Collecting IPython\n",
            "  Downloading ipython-7.34.0-py3-none-any.whl (793 kB)\n",
            "\u001b[K     |████████████████████████████████| 793 kB 40.4 MB/s \n",
            "\u001b[?25hCollecting seaborn\n",
            "  Downloading seaborn-0.11.2-py3-none-any.whl (292 kB)\n",
            "\u001b[K     |████████████████████████████████| 292 kB 55.2 MB/s \n",
            "\u001b[?25hRequirement already satisfied: scipy>=0.18.1 in /usr/local/lib/python3.7/site-packages (from gensim->mol2vec==0.1) (1.7.3)\n",
            "Collecting smart-open>=1.8.1\n",
            "  Downloading smart_open-6.0.0-py3-none-any.whl (58 kB)\n",
            "\u001b[K     |████████████████████████████████| 58 kB 6.1 MB/s \n",
            "\u001b[?25hCollecting matplotlib-inline\n",
            "  Downloading matplotlib_inline-0.1.3-py3-none-any.whl (8.2 kB)\n",
            "Collecting pickleshare\n",
            "  Downloading pickleshare-0.7.5-py2.py3-none-any.whl (6.9 kB)\n",
            "Collecting jedi>=0.16\n",
            "  Downloading jedi-0.18.1-py2.py3-none-any.whl (1.6 MB)\n",
            "\u001b[K     |████████████████████████████████| 1.6 MB 42.1 MB/s \n",
            "\u001b[?25hCollecting prompt-toolkit!=3.0.0,!=3.0.1,<3.1.0,>=2.0.0\n",
            "  Downloading prompt_toolkit-3.0.29-py3-none-any.whl (381 kB)\n",
            "\u001b[K     |████████████████████████████████| 381 kB 61.5 MB/s \n",
            "\u001b[?25hCollecting traitlets>=4.2\n",
            "  Downloading traitlets-5.2.1.post0-py3-none-any.whl (106 kB)\n",
            "\u001b[K     |████████████████████████████████| 106 kB 49.1 MB/s \n",
            "\u001b[?25hCollecting pygments\n",
            "  Downloading Pygments-2.12.0-py3-none-any.whl (1.1 MB)\n",
            "\u001b[K     |████████████████████████████████| 1.1 MB 34.8 MB/s \n",
            "\u001b[?25hCollecting pexpect>4.3\n",
            "  Downloading pexpect-4.8.0-py2.py3-none-any.whl (59 kB)\n",
            "\u001b[K     |████████████████████████████████| 59 kB 4.5 MB/s \n",
            "\u001b[?25hCollecting decorator\n",
            "  Downloading decorator-5.1.1-py3-none-any.whl (9.1 kB)\n",
            "Collecting backcall\n",
            "  Downloading backcall-0.2.0-py2.py3-none-any.whl (11 kB)\n",
            "Requirement already satisfied: setuptools>=18.5 in /usr/local/lib/python3.7/site-packages (from IPython->mol2vec==0.1) (49.6.0.post20210108)\n",
            "Collecting parso<0.9.0,>=0.8.0\n",
            "  Downloading parso-0.8.3-py2.py3-none-any.whl (100 kB)\n",
            "\u001b[K     |████████████████████████████████| 100 kB 9.4 MB/s \n",
            "\u001b[?25hCollecting ptyprocess>=0.5\n",
            "  Downloading ptyprocess-0.7.0-py2.py3-none-any.whl (13 kB)\n",
            "Collecting wcwidth\n",
            "  Downloading wcwidth-0.2.5-py2.py3-none-any.whl (30 kB)\n",
            "Requirement already satisfied: python-dateutil>=2.7 in /usr/local/lib/python3.7/site-packages (from matplotlib->mol2vec==0.1) (2.8.2)\n",
            "Requirement already satisfied: kiwisolver>=1.0.1 in /usr/local/lib/python3.7/site-packages (from matplotlib->mol2vec==0.1) (1.4.2)\n",
            "Requirement already satisfied: fonttools>=4.22.0 in /usr/local/lib/python3.7/site-packages (from matplotlib->mol2vec==0.1) (4.33.3)\n",
            "Requirement already satisfied: pyparsing>=2.2.1 in /usr/local/lib/python3.7/site-packages (from matplotlib->mol2vec==0.1) (3.0.9)\n",
            "Requirement already satisfied: pillow>=6.2.0 in /usr/local/lib/python3.7/site-packages (from matplotlib->mol2vec==0.1) (9.1.1)\n",
            "Requirement already satisfied: cycler>=0.10 in /usr/local/lib/python3.7/site-packages (from matplotlib->mol2vec==0.1) (0.11.0)\n",
            "Requirement already satisfied: packaging>=20.0 in /usr/local/lib/python3.7/site-packages (from matplotlib->mol2vec==0.1) (21.3)\n",
            "Requirement already satisfied: typing-extensions in /usr/local/lib/python3.7/site-packages (from kiwisolver>=1.0.1->matplotlib->mol2vec==0.1) (4.2.0)\n",
            "Requirement already satisfied: six>=1.5 in /usr/local/lib/python3.7/site-packages (from python-dateutil>=2.7->matplotlib->mol2vec==0.1) (1.15.0)\n",
            "Requirement already satisfied: pytz>=2017.3 in /usr/local/lib/python3.7/site-packages (from pandas->mol2vec==0.1) (2022.1)\n",
            "Building wheels for collected packages: mol2vec\n",
            "  Building wheel for mol2vec (setup.py) ... \u001b[?25l\u001b[?25hdone\n",
            "  Created wheel for mol2vec: filename=mol2vec-0.1-py3-none-any.whl size=14025 sha256=cac718c58880cd318181c75f617913e9d744441d4e4942ae6b39c7297c590b66\n",
            "  Stored in directory: /tmp/pip-ephem-wheel-cache-9gnh8soc/wheels/80/d5/e1/90dc211e4a17780f99eaec43328470a70284cd731ef2a77034\n",
            "Successfully built mol2vec\n",
            "Installing collected packages: wcwidth, traitlets, ptyprocess, parso, smart-open, pygments, prompt-toolkit, pickleshare, pexpect, matplotlib-inline, jedi, decorator, backcall, seaborn, IPython, gensim, mol2vec\n",
            "Successfully installed IPython-7.34.0 backcall-0.2.0 decorator-5.1.1 gensim-4.2.0 jedi-0.18.1 matplotlib-inline-0.1.3 mol2vec-0.1 parso-0.8.3 pexpect-4.8.0 pickleshare-0.7.5 prompt-toolkit-3.0.29 ptyprocess-0.7.0 pygments-2.12.0 seaborn-0.11.2 smart-open-6.0.0 traitlets-5.2.1.post0 wcwidth-0.2.5\n"
          ]
        },
        {
          "output_type": "display_data",
          "data": {
            "application/vnd.colab-display-data+json": {
              "pip_warning": {
                "packages": [
                  "pexpect",
                  "pickleshare",
                  "seaborn",
                  "smart_open",
                  "wcwidth"
                ]
              }
            }
          },
          "metadata": {}
        }
      ]
    },
    {
      "cell_type": "markdown",
      "source": [
        "### Mol2VecFingerprint "
      ],
      "metadata": {
        "id": "eZZmaVVkH75y"
      }
    },
    {
      "cell_type": "code",
      "source": [
        "df = dataset.copy()"
      ],
      "metadata": {
        "id": "Q77jnAMX15Ef"
      },
      "execution_count": null,
      "outputs": []
    },
    {
      "cell_type": "code",
      "source": [
        "from mol2vec.features import mol2alt_sentence, mol2sentence, MolSentence, DfVec, sentences2vec\n",
        "from gensim.models import word2vec"
      ],
      "metadata": {
        "id": "m6keFfgA38eC"
      },
      "execution_count": null,
      "outputs": []
    },
    {
      "cell_type": "code",
      "source": [
        "PandasTools.AddMoleculeColumnToFrame(df, smilesCol=\"smiles\")"
      ],
      "metadata": {
        "id": "-AkXis7E6pmP"
      },
      "execution_count": null,
      "outputs": []
    },
    {
      "cell_type": "code",
      "source": [
        "model = word2vec.Word2Vec.load('model_300dim.pkl')"
      ],
      "metadata": {
        "id": "l1BMwTyp4OYR"
      },
      "execution_count": null,
      "outputs": []
    },
    {
      "cell_type": "code",
      "source": [
        "df['sentence'] = df.apply(lambda x: MolSentence(mol2alt_sentence(x['ROMol'], 1)), axis=1)\n",
        "df['mol2vec'] = [DfVec(x) for x in sentences2vec(df['sentence'], model, unseen='UNK')]"
      ],
      "metadata": {
        "id": "HM3Ot0Xf4tCR"
      },
      "execution_count": null,
      "outputs": []
    },
    {
      "cell_type": "code",
      "source": [
        "X = np.array([x.vec for x in df['mol2vec']])\n",
        "y = np.array(df['active'].astype(int))"
      ],
      "metadata": {
        "id": "EnczLvRF-xcc"
      },
      "execution_count": null,
      "outputs": []
    },
    {
      "cell_type": "code",
      "source": [
        "X_train, X_test, y_train, y_test = train_test_split(X, y, test_size=0.2, stratify=y, random_state=7)"
      ],
      "metadata": {
        "id": "75ZdXYhWDC8F"
      },
      "execution_count": null,
      "outputs": []
    },
    {
      "cell_type": "code",
      "source": [
        "params = {'activation': ['relu', 'logistic', 'identity', 'tanh'],\n",
        "          'hidden_layer_sizes': [(100,), (50,100,), (50,75,100,)],\n",
        "          'learning_rate' : ['constant', 'adaptive', 'invscaling']\n",
        "         }\n",
        "\n",
        "mlp_classif_grid = GridSearchCV(MLPClassifier(random_state=123), param_grid=params, n_jobs=-1, cv=5, verbose=5, scoring='roc_auc')\n",
        "mlp_classif_grid.fit(X_train,y_train)\n",
        "\n",
        "print('Best Parameters : ',mlp_classif_grid.best_params_)"
      ],
      "metadata": {
        "colab": {
          "base_uri": "https://localhost:8080/"
        },
        "outputId": "ed8f8c2b-0fb4-4b2c-9782-5a535f5cb5d5",
        "id": "fblMv8IsGsLI"
      },
      "execution_count": null,
      "outputs": [
        {
          "output_type": "stream",
          "name": "stdout",
          "text": [
            "Fitting 5 folds for each of 36 candidates, totalling 180 fits\n",
            "Best Parameters :  {'activation': 'tanh', 'hidden_layer_sizes': (100,), 'learning_rate': 'constant'}\n"
          ]
        }
      ]
    },
    {
      "cell_type": "code",
      "source": [
        "optimal_mlp = mlp_classif_grid.best_estimator_"
      ],
      "metadata": {
        "id": "iKfoGQV_GsMF"
      },
      "execution_count": null,
      "outputs": []
    },
    {
      "cell_type": "code",
      "source": [
        "from sklearn.metrics import confusion_matrix\n",
        "import seaborn as sns\n",
        "\n",
        "predictions = optimal_mlp.predict(X_test)\n",
        "sns.heatmap(confusion_matrix(y_test, predictions), annot=True, cmap=\"Blues\")"
      ],
      "metadata": {
        "colab": {
          "base_uri": "https://localhost:8080/",
          "height": 282
        },
        "outputId": "6ee3eb63-422c-4a36-b055-113f11285c93",
        "id": "hLBYj3iiGsMG"
      },
      "execution_count": null,
      "outputs": [
        {
          "output_type": "execute_result",
          "data": {
            "text/plain": [
              "<matplotlib.axes._subplots.AxesSubplot at 0x7fe8f33783d0>"
            ]
          },
          "metadata": {},
          "execution_count": 158
        },
        {
          "output_type": "display_data",
          "data": {
            "text/plain": [
              "<Figure size 432x288 with 2 Axes>"
            ],
            "image/png": "[encoded data removed]"
          },
          "metadata": {
            "needs_background": "light"
          }
        }
      ]
    },
    {
      "cell_type": "code",
      "source": [
        "models = [{\"label\": \"ANN_adj\", \"model\": optimal_mlp}]\n",
        "# Plot roc curve\n",
        "plot_roc_curves_for_models(models, X_test, y_test);"
      ],
      "metadata": {
        "colab": {
          "base_uri": "https://localhost:8080/",
          "height": 295
        },
        "outputId": "6b0a33d0-b4f2-404c-b296-48127de98547",
        "id": "lyuXB08TGsMH"
      },
      "execution_count": null,
      "outputs": [
        {
          "output_type": "display_data",
          "data": {
            "text/plain": [
              "<Figure size 432x288 with 1 Axes>"
            ],
            "image/png": "[encoded data removed]"
          },
          "metadata": {
            "needs_background": "light"
          }
        }
      ]
    },
    {
      "cell_type": "code",
      "source": [
        "from sklearn.metrics import classification_report\n",
        "\n",
        "print(classification_report(y_test, predictions, labels=[0,1]))"
      ],
      "metadata": {
        "colab": {
          "base_uri": "https://localhost:8080/"
        },
        "outputId": "46e0dfa2-531f-4535-914b-5f14dae85c44",
        "id": "3tRY4yYXGsMI"
      },
      "execution_count": null,
      "outputs": [
        {
          "output_type": "stream",
          "name": "stdout",
          "text": [
            "              precision    recall  f1-score   support\n",
            "\n",
            "           0       0.98      0.99      0.98       285\n",
            "           1       0.84      0.81      0.82        26\n",
            "\n",
            "    accuracy                           0.97       311\n",
            "   macro avg       0.91      0.90      0.90       311\n",
            "weighted avg       0.97      0.97      0.97       311\n",
            "\n"
          ]
        }
      ]
    },
    {
      "cell_type": "code",
      "source": [
        "test_y_pred = optimal_mlp.predict(X_test)\n",
        "f1_score(y_test, test_y_pred, average='micro')"
      ],
      "metadata": {
        "colab": {
          "base_uri": "https://localhost:8080/"
        },
        "outputId": "7396ae88-0930-47e5-9aa1-f63a0f6b98cd",
        "id": "9x55SaLKH0su"
      },
      "execution_count": null,
      "outputs": [
        {
          "output_type": "execute_result",
          "data": {
            "text/plain": [
              "0.9710610932475884"
            ]
          },
          "metadata": {},
          "execution_count": 161
        }
      ]
    },
    {
      "cell_type": "code",
      "source": [
        "balanced_accuracy_score(y_test, test_y_pred)"
      ],
      "metadata": {
        "colab": {
          "base_uri": "https://localhost:8080/"
        },
        "outputId": "a7caeaee-f38c-4404-8a25-d799972cadcf",
        "id": "xCAWytKUH0s0"
      },
      "execution_count": null,
      "outputs": [
        {
          "output_type": "execute_result",
          "data": {
            "text/plain": [
              "0.8968286099865047"
            ]
          },
          "metadata": {},
          "execution_count": 162
        }
      ]
    },
    {
      "cell_type": "markdown",
      "source": [
        "## GCN with MolGraphConvFeaturizer"
      ],
      "metadata": {
        "id": "Jp8C8McIJ1fj"
      }
    },
    {
      "cell_type": "code",
      "source": [
        "!pip install dgl\n",
        "!pip install dgllife"
      ],
      "metadata": {
        "colab": {
          "base_uri": "https://localhost:8080/"
        },
        "id": "iCszHju5LRhR",
        "outputId": "cd8b3b48-fc22-4311-c0de-e8881214bb51"
      },
      "execution_count": null,
      "outputs": [
        {
          "output_type": "stream",
          "name": "stdout",
          "text": [
            "Looking in indexes: https://pypi.org/simple, https://us-python.pkg.dev/colab-wheels/public/simple/\n",
            "Collecting dgl\n",
            "  Downloading dgl-0.6.1-cp37-cp37m-manylinux1_x86_64.whl (4.4 MB)\n",
            "\u001b[K     |████████████████████████████████| 4.4 MB 2.9 MB/s \n",
            "\u001b[?25hRequirement already satisfied: requests>=2.19.0 in /usr/local/lib/python3.7/site-packages (from dgl) (2.25.1)\n",
            "Requirement already satisfied: scipy>=1.1.0 in /usr/local/lib/python3.7/site-packages (from dgl) (1.7.3)\n",
            "Requirement already satisfied: numpy>=1.14.0 in /usr/local/lib/python3.7/site-packages (from dgl) (1.21.6)\n",
            "Collecting networkx>=2.1\n",
            "  Downloading networkx-2.6.3-py3-none-any.whl (1.9 MB)\n",
            "\u001b[K     |████████████████████████████████| 1.9 MB 32.9 MB/s \n",
            "\u001b[?25hRequirement already satisfied: certifi>=2017.4.17 in /usr/local/lib/python3.7/site-packages (from requests>=2.19.0->dgl) (2022.5.18.1)\n",
            "Requirement already satisfied: urllib3<1.27,>=1.21.1 in /usr/local/lib/python3.7/site-packages (from requests>=2.19.0->dgl) (1.26.3)\n",
            "Requirement already satisfied: idna<3,>=2.5 in /usr/local/lib/python3.7/site-packages (from requests>=2.19.0->dgl) (2.10)\n",
            "Requirement already satisfied: chardet<5,>=3.0.2 in /usr/local/lib/python3.7/site-packages (from requests>=2.19.0->dgl) (4.0.0)\n",
            "Installing collected packages: networkx, dgl\n",
            "Successfully installed dgl-0.6.1 networkx-2.6.3\n",
            "Looking in indexes: https://pypi.org/simple, https://us-python.pkg.dev/colab-wheels/public/simple/\n",
            "Collecting dgllife\n",
            "  Downloading dgllife-0.2.9.tar.gz (138 kB)\n",
            "\u001b[K     |████████████████████████████████| 138 kB 3.3 MB/s \n",
            "\u001b[?25hRequirement already satisfied: scikit-learn>=0.22.2 in /usr/local/lib/python3.7/site-packages (from dgllife) (1.0.2)\n",
            "Requirement already satisfied: pandas in /usr/local/lib/python3.7/site-packages (from dgllife) (1.3.5)\n",
            "Requirement already satisfied: requests>=2.22.0 in /usr/local/lib/python3.7/site-packages (from dgllife) (2.25.1)\n",
            "Requirement already satisfied: tqdm in /usr/local/lib/python3.7/site-packages (from dgllife) (4.59.0)\n",
            "Requirement already satisfied: numpy>=1.14.0 in /usr/local/lib/python3.7/site-packages (from dgllife) (1.21.6)\n",
            "Requirement already satisfied: scipy>=1.1.0 in /usr/local/lib/python3.7/site-packages (from dgllife) (1.7.3)\n",
            "Requirement already satisfied: networkx>=2.1 in /usr/local/lib/python3.7/site-packages (from dgllife) (2.6.3)\n",
            "Collecting hyperopt\n",
            "  Downloading hyperopt-0.2.7-py2.py3-none-any.whl (1.6 MB)\n",
            "\u001b[K     |████████████████████████████████| 1.6 MB 11.5 MB/s \n",
            "\u001b[?25hRequirement already satisfied: joblib in /usr/local/lib/python3.7/site-packages (from dgllife) (1.1.0)\n",
            "Requirement already satisfied: urllib3<1.27,>=1.21.1 in /usr/local/lib/python3.7/site-packages (from requests>=2.22.0->dgllife) (1.26.3)\n",
            "Requirement already satisfied: idna<3,>=2.5 in /usr/local/lib/python3.7/site-packages (from requests>=2.22.0->dgllife) (2.10)\n",
            "Requirement already satisfied: certifi>=2017.4.17 in /usr/local/lib/python3.7/site-packages (from requests>=2.22.0->dgllife) (2022.5.18.1)\n",
            "Requirement already satisfied: chardet<5,>=3.0.2 in /usr/local/lib/python3.7/site-packages (from requests>=2.22.0->dgllife) (4.0.0)\n",
            "Requirement already satisfied: threadpoolctl>=2.0.0 in /usr/local/lib/python3.7/site-packages (from scikit-learn>=0.22.2->dgllife) (3.1.0)\n",
            "Collecting py4j\n",
            "  Downloading py4j-0.10.9.5-py2.py3-none-any.whl (199 kB)\n",
            "\u001b[K     |████████████████████████████████| 199 kB 27.9 MB/s \n",
            "\u001b[?25hRequirement already satisfied: six in /usr/local/lib/python3.7/site-packages (from hyperopt->dgllife) (1.15.0)\n",
            "Collecting future\n",
            "  Downloading future-0.18.2.tar.gz (829 kB)\n",
            "\u001b[K     |████████████████████████████████| 829 kB 28.0 MB/s \n",
            "\u001b[?25hCollecting cloudpickle\n",
            "  Downloading cloudpickle-2.1.0-py3-none-any.whl (25 kB)\n",
            "Requirement already satisfied: python-dateutil>=2.7.3 in /usr/local/lib/python3.7/site-packages (from pandas->dgllife) (2.8.2)\n",
            "Requirement already satisfied: pytz>=2017.3 in /usr/local/lib/python3.7/site-packages (from pandas->dgllife) (2022.1)\n",
            "Building wheels for collected packages: dgllife, future\n",
            "  Building wheel for dgllife (setup.py) ... \u001b[?25l\u001b[?25hdone\n",
            "  Created wheel for dgllife: filename=dgllife-0.2.9-py3-none-any.whl size=219059 sha256=f9e04633854401347cf7a5090d64e9519c8d50a32288305caae884bc9c193fe5\n",
            "  Stored in directory: /root/.cache/pip/wheels/34/83/11/9772c74b559d9182c9083362e8ba8b0201c4963e41e03859fe\n",
            "  Building wheel for future (setup.py) ... \u001b[?25l\u001b[?25hdone\n",
            "  Created wheel for future: filename=future-0.18.2-py3-none-any.whl size=491059 sha256=4811110602782248454155f86094ebaf06a92c82fd32801980ce405efb539867\n",
            "  Stored in directory: /root/.cache/pip/wheels/56/b0/fe/4410d17b32f1f0c3cf54cdfb2bc04d7b4b8f4ae377e2229ba0\n",
            "Successfully built dgllife future\n",
            "Installing collected packages: py4j, future, cloudpickle, hyperopt, dgllife\n",
            "Successfully installed cloudpickle-2.1.0 dgllife-0.2.9 future-0.18.2 hyperopt-0.2.7 py4j-0.10.9.5\n"
          ]
        }
      ]
    },
    {
      "cell_type": "code",
      "source": [
        " model = dc.models.GCNModel(n_tasks=1)"
      ],
      "metadata": {
        "colab": {
          "base_uri": "https://localhost:8080/"
        },
        "id": "NeWkJxFy0E3-",
        "outputId": "0731d2fc-cc7b-4c6d-b43e-581f80b82b47"
      },
      "execution_count": null,
      "outputs": [
        {
          "output_type": "stream",
          "name": "stderr",
          "text": [
            "DGL backend not selected or invalid.  Assuming PyTorch for now.\n",
            "Using backend: pytorch\n"
          ]
        },
        {
          "output_type": "stream",
          "name": "stdout",
          "text": [
            "Setting the default backend to \"pytorch\". You can change it in the ~/.dgl/config.json file or export the DGLBACKEND environment variable.  Valid options are: pytorch, mxnet, tensorflow (all lowercase)\n"
          ]
        }
      ]
    },
    {
      "cell_type": "code",
      "source": [
        "task = ['active']\n",
        "featurizer_func = dc.feat.MolGraphConvFeaturizer()\n",
        "\n",
        "loader = dc.data.CSVLoader(tasks=task, feature_field='smiles', featurizer=featurizer_func)\n",
        "dataset = loader.create_dataset('/content/final_data.csv')"
      ],
      "metadata": {
        "id": "eLxp3NlGEwge"
      },
      "execution_count": null,
      "outputs": []
    },
    {
      "cell_type": "code",
      "source": [
        "transformer = dc.trans.BalancingTransformer(dataset=dataset)\n",
        "dataset = transformer.transform(dataset)"
      ],
      "metadata": {
        "id": "IvAk8draEwrc"
      },
      "execution_count": null,
      "outputs": []
    },
    {
      "cell_type": "code",
      "source": [
        "splitter = dc.splits.RandomStratifiedSplitter()\n",
        "dataset = splitter.train_test_split(dataset)"
      ],
      "metadata": {
        "id": "kXR6SCPLEwuZ"
      },
      "execution_count": null,
      "outputs": []
    },
    {
      "cell_type": "code",
      "source": [
        "train_dataset, test_dataset = dataset"
      ],
      "metadata": {
        "id": "lH0z7gJiEwxB"
      },
      "execution_count": null,
      "outputs": []
    },
    {
      "cell_type": "code",
      "source": [
        "model.fit(train_dataset)"
      ],
      "metadata": {
        "colab": {
          "base_uri": "https://localhost:8080/"
        },
        "id": "muFWLo8kMNCz",
        "outputId": "4c44a86a-5569-411d-92cd-98feb1de1deb"
      },
      "execution_count": null,
      "outputs": [
        {
          "output_type": "stream",
          "name": "stderr",
          "text": [
            "/usr/local/lib/python3.7/dist-packages/torch/autocast_mode.py:162: UserWarning: User provided device_type of 'cuda', but CUDA is not available. Disabling\n",
            "  warnings.warn('User provided device_type of \\'cuda\\', but CUDA is not available. Disabling')\n"
          ]
        },
        {
          "output_type": "execute_result",
          "data": {
            "text/plain": [
              "0.15529875755310057"
            ]
          },
          "metadata": {},
          "execution_count": 172
        }
      ]
    },
    {
      "cell_type": "code",
      "source": [
        "metric = dc.metrics.Metric(dc.metrics.roc_auc_score)\n",
        "metric_2 = dc.metrics.Metric(dc.metrics.balanced_accuracy_score)"
      ],
      "metadata": {
        "id": "6Qiv81AShpDZ"
      },
      "execution_count": null,
      "outputs": []
    },
    {
      "cell_type": "code",
      "source": [
        "print(model.evaluate(test_dataset, [metric]))\n",
        "print(model.evaluate(test_dataset, [metric_2]))"
      ],
      "metadata": {
        "colab": {
          "base_uri": "https://localhost:8080/"
        },
        "id": "SqEQD7KuQ3mw",
        "outputId": "3e659bea-596e-48c1-e64e-f77dc3ba4482"
      },
      "execution_count": null,
      "outputs": [
        {
          "output_type": "stream",
          "name": "stdout",
          "text": [
            "{'roc_auc_score': 0.9456140350877194}\n",
            "{'balanced_accuracy_score': 0.9193657219973009}\n"
          ]
        }
      ]
    },
    {
      "cell_type": "code",
      "source": [
        "test_y_pred = model.predict(test_dataset)\n",
        "test_pred_binary = np.where(test_y_pred > 0.5, 1, 0)\n",
        "metrics.f1_score(test_dataset.y, test_pred_binary, average='micro')"
      ],
      "metadata": {
        "colab": {
          "base_uri": "https://localhost:8080/"
        },
        "id": "nZrvfqNtSKEH",
        "outputId": "b0cf79b5-6761-4a99-b100-caf1922b23ea"
      },
      "execution_count": null,
      "outputs": [
        {
          "output_type": "execute_result",
          "data": {
            "text/plain": [
              "0.8842443729903537"
            ]
          },
          "metadata": {},
          "execution_count": 186
        }
      ]
    },
    {
      "cell_type": "code",
      "source": [
        "sns.heatmap(confusion_matrix(test_dataset.y, test_pred_binary), annot=True, cmap=\"Blues\")"
      ],
      "metadata": {
        "colab": {
          "base_uri": "https://localhost:8080/",
          "height": 286
        },
        "id": "73YcDze8TU7v",
        "outputId": "0dfdf851-5a0c-4b2b-fdae-4eefab578f01"
      },
      "execution_count": null,
      "outputs": [
        {
          "output_type": "execute_result",
          "data": {
            "text/plain": [
              "<matplotlib.axes._subplots.AxesSubplot at 0x7fe8f39bea90>"
            ]
          },
          "metadata": {},
          "execution_count": 189
        },
        {
          "output_type": "display_data",
          "data": {
            "text/plain": [
              "<Figure size 432x288 with 2 Axes>"
            ],
            "image/png": "[encoded data removed]"
          },
          "metadata": {
            "needs_background": "light"
          }
        }
      ]
    }
  ],
  "metadata": {
    "colab": {
      "collapsed_sections": [],
      "name": "D2_targets_active.ipynb",
      "provenance": []
    },
    "kernelspec": {
      "display_name": "Python 3 (ipykernel)",
      "language": "python",
      "name": "python3"
    },
    "language_info": {
      "codemirror_mode": {
        "name": "ipython",
        "version": 3
      },
      "file_extension": ".py",
      "mimetype": "text/x-python",
      "name": "python",
      "nbconvert_exporter": "python",
      "pygments_lexer": "ipython3",
      "version": "3.9.7"
    }
  },
  "nbformat": 4,
  "nbformat_minor": 0
}